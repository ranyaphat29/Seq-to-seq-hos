{
 "cells": [
  {
   "cell_type": "code",
   "execution_count": 1,
   "metadata": {},
   "outputs": [],
   "source": [
    "%matplotlib inline\n",
    "import matplotlib.pyplot as plt\n",
    "import numpy as np # linear algebra\n",
    "import pandas as pd # data processing, CSV file I/O (e.g. pd.read_csv)\n",
    "import os\n",
    "import tensorflow as tf"
   ]
  },
  {
   "cell_type": "code",
   "execution_count": 2,
   "metadata": {},
   "outputs": [],
   "source": [
    "df_63 = pd.read_csv('hospital_augment_test6_3.csv')"
   ]
  },
  {
   "cell_type": "code",
   "execution_count": 4,
   "metadata": {},
   "outputs": [],
   "source": [
    "df_7 =pd.read_csv('hospital_augment_test7.csv')"
   ]
  },
  {
   "cell_type": "code",
   "execution_count": 5,
   "metadata": {},
   "outputs": [],
   "source": [
    "df_64 = pd.read_csv('hospital_augment_train6_4.csv')"
   ]
  },
  {
   "cell_type": "code",
   "execution_count": 7,
   "metadata": {},
   "outputs": [],
   "source": [
    "train_x64 = list(df_64['gen_data'])\n",
    "train_y64 =list(df_64['true_data'])"
   ]
  },
  {
   "cell_type": "code",
   "execution_count": 8,
   "metadata": {},
   "outputs": [],
   "source": [
    "test_x63 = list(df_63['gen_data'])\n",
    "test_y63 =list(df_63['true_data'])"
   ]
  },
  {
   "cell_type": "code",
   "execution_count": 9,
   "metadata": {},
   "outputs": [],
   "source": [
    "test_x = []\n",
    "test_y = []\n",
    "for i,val in enumerate(test_x63):\n",
    "    if not val in train_x64:\n",
    "        test_x.append(val)\n",
    "        test_y.append(test_y63[i])"
   ]
  },
  {
   "cell_type": "code",
   "execution_count": 11,
   "metadata": {},
   "outputs": [],
   "source": [
    "test_x7 = list(df_7['gen_data'])\n",
    "test_y7 = list(df_7['true_data'])"
   ]
  },
  {
   "cell_type": "code",
   "execution_count": 20,
   "metadata": {},
   "outputs": [],
   "source": [
    "ad = 8500 -len(test_x)"
   ]
  },
  {
   "cell_type": "code",
   "execution_count": 29,
   "metadata": {},
   "outputs": [
    {
     "output_type": "execute_result",
     "data": {
      "text/plain": "7974"
     },
     "metadata": {},
     "execution_count": 29
    }
   ],
   "source": [
    "len(test_x)"
   ]
  },
  {
   "cell_type": "code",
   "execution_count": 30,
   "metadata": {},
   "outputs": [],
   "source": [
    "test_x_df = pd.DataFrame(test_x)\n",
    "test_y_df = pd.DataFrame(test_y)"
   ]
  },
  {
   "cell_type": "code",
   "execution_count": 31,
   "metadata": {},
   "outputs": [],
   "source": [
    "test_x_df.columns=['gen_data']\n",
    "test_y_df.columns=['true_data']"
   ]
  },
  {
   "cell_type": "code",
   "execution_count": 32,
   "metadata": {},
   "outputs": [],
   "source": [
    "col_merge = pd.concat([test_x_df,test_y_df],axis=1)"
   ]
  },
  {
   "cell_type": "code",
   "execution_count": 33,
   "metadata": {},
   "outputs": [],
   "source": [
    "col_merge.to_csv('hospital_augment_test6_3_res.csv',encoding='utf-8' ,index=False)"
   ]
  },
  {
   "cell_type": "code",
   "execution_count": 16,
   "metadata": {},
   "outputs": [
    {
     "output_type": "execute_result",
     "data": {
      "text/plain": "226"
     },
     "metadata": {},
     "execution_count": 16
    }
   ],
   "source": [
    "ad"
   ]
  },
  {
   "cell_type": "code",
   "execution_count": 21,
   "metadata": {},
   "outputs": [],
   "source": [
    "test_x64 = test_x+test_x7[:ad]\n",
    "test_y64 = test_y+test_y7[:ad]"
   ]
  },
  {
   "cell_type": "code",
   "execution_count": 22,
   "metadata": {},
   "outputs": [
    {
     "output_type": "execute_result",
     "data": {
      "text/plain": "8500"
     },
     "metadata": {},
     "execution_count": 22
    }
   ],
   "source": [
    "len(test_x64)"
   ]
  },
  {
   "cell_type": "code",
   "execution_count": 23,
   "metadata": {},
   "outputs": [
    {
     "output_type": "execute_result",
     "data": {
      "text/plain": "('เซ็นทรัลเมดิกคลินิกเวชกรรมสาขาดิินแดง',\n 'เซ็นทรัลเมดิกคลินิกเวชกรรมสาขาดินแดง')"
     },
     "metadata": {},
     "execution_count": 23
    }
   ],
   "source": [
    "test_x64[8000],test_y64[8000]"
   ]
  },
  {
   "cell_type": "code",
   "execution_count": 24,
   "metadata": {},
   "outputs": [],
   "source": [
    "test_x64_df = pd.DataFrame(test_x64)\n",
    "test_y64_df = pd.DataFrame(test_y64)"
   ]
  },
  {
   "cell_type": "code",
   "execution_count": 25,
   "metadata": {},
   "outputs": [],
   "source": [
    "test_x64_df.columns=['gen_data']\n",
    "test_y64_df.columns=['true_data']"
   ]
  },
  {
   "cell_type": "code",
   "execution_count": 26,
   "metadata": {},
   "outputs": [],
   "source": [
    "col_merge = pd.concat([test_x64_df,test_y64_df],axis=1)"
   ]
  },
  {
   "cell_type": "code",
   "execution_count": 27,
   "metadata": {},
   "outputs": [
    {
     "output_type": "execute_result",
     "data": {
      "text/plain": "                               gen_data                            true_data\n0       คลินิกกรุงเ3ทพพัทยาสาขาจอมเทียน       คลินิกกรุงเทพพัทยาสาขาจอมเทียน\n1         คลินิชกกุงเทพระยองส\"าขาบ่อวิน         คลินิกกรุงเทพระยองสาขาบ่อวิน\n2         คลินิกชรุงเทพระยองสาขาปลวกแดง        คลินิกกรุงเทพระยองสาขาปลวกแดง\n3  คลินิกไท์ยอินเตอร์การแพ&ยท(เกาะพงัน)  คลินิกไทยอินเตอร์การแพทย์(เกาะพงัน)\n4                คลินิกรักสโขภาพจ.ระยอง               คลินิกรักสุขภาพจ.ระยอง",
      "text/html": "<div>\n<style scoped>\n    .dataframe tbody tr th:only-of-type {\n        vertical-align: middle;\n    }\n\n    .dataframe tbody tr th {\n        vertical-align: top;\n    }\n\n    .dataframe thead th {\n        text-align: right;\n    }\n</style>\n<table border=\"1\" class=\"dataframe\">\n  <thead>\n    <tr style=\"text-align: right;\">\n      <th></th>\n      <th>gen_data</th>\n      <th>true_data</th>\n    </tr>\n  </thead>\n  <tbody>\n    <tr>\n      <th>0</th>\n      <td>คลินิกกรุงเ3ทพพัทยาสาขาจอมเทียน</td>\n      <td>คลินิกกรุงเทพพัทยาสาขาจอมเทียน</td>\n    </tr>\n    <tr>\n      <th>1</th>\n      <td>คลินิชกกุงเทพระยองส\"าขาบ่อวิน</td>\n      <td>คลินิกกรุงเทพระยองสาขาบ่อวิน</td>\n    </tr>\n    <tr>\n      <th>2</th>\n      <td>คลินิกชรุงเทพระยองสาขาปลวกแดง</td>\n      <td>คลินิกกรุงเทพระยองสาขาปลวกแดง</td>\n    </tr>\n    <tr>\n      <th>3</th>\n      <td>คลินิกไท์ยอินเตอร์การแพ&amp;ยท(เกาะพงัน)</td>\n      <td>คลินิกไทยอินเตอร์การแพทย์(เกาะพงัน)</td>\n    </tr>\n    <tr>\n      <th>4</th>\n      <td>คลินิกรักสโขภาพจ.ระยอง</td>\n      <td>คลินิกรักสุขภาพจ.ระยอง</td>\n    </tr>\n  </tbody>\n</table>\n</div>"
     },
     "metadata": {},
     "execution_count": 27
    }
   ],
   "source": [
    "col_merge.head()"
   ]
  },
  {
   "cell_type": "code",
   "execution_count": 28,
   "metadata": {},
   "outputs": [],
   "source": [
    "col_merge.to_csv('hospital_augment_test6_4.csv',encoding='utf-8' ,index=False)"
   ]
  },
  {
   "cell_type": "code",
   "execution_count": null,
   "metadata": {},
   "outputs": [],
   "source": []
  }
 ],
 "metadata": {
  "language_info": {
   "codemirror_mode": {
    "name": "ipython",
    "version": 3
   },
   "file_extension": ".py",
   "mimetype": "text/x-python",
   "name": "python",
   "nbconvert_exporter": "python",
   "pygments_lexer": "ipython3",
   "version": "3.7.7-final"
  },
  "orig_nbformat": 2,
  "kernelspec": {
   "name": "python3",
   "display_name": "Python 3"
  }
 },
 "nbformat": 4,
 "nbformat_minor": 2
}