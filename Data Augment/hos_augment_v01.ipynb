{
 "cells": [
  {
   "cell_type": "code",
   "execution_count": 1,
   "metadata": {},
   "outputs": [],
   "source": [
    "%matplotlib inline\n",
    "import matplotlib.pyplot as plt\n",
    "import numpy as np # linear algebra\n",
    "import pandas as pd # data processing, CSV file I/O (e.g. pd.read_csv)\n",
    "import os\n",
    "import tensorflow as tf"
   ]
  },
  {
   "cell_type": "code",
   "execution_count": 2,
   "metadata": {},
   "outputs": [
    {
     "output_type": "stream",
     "name": "stdout",
     "text": "1 Physical GPUs, 1 Logical GPUs\n"
    }
   ],
   "source": [
    "##### Limit GPU for training ###\n",
    "gpus = tf.config.experimental.list_physical_devices('GPU')\n",
    "if gpus:\n",
    "    try:\n",
    "        # Restrict TensorFlow to only use the fourth GPU\n",
    "        tf.config.experimental.set_visible_devices(gpus[0], 'GPU')\n",
    "\n",
    "        # Currently, memory growth needs to be the same across GPUs\n",
    "        for gpu in gpus:\n",
    "            tf.config.experimental.set_memory_growth(gpu, True)\n",
    "        logical_gpus = tf.config.experimental.list_logical_devices('GPU')\n",
    "        print(len(gpus), \"Physical GPUs,\", len(logical_gpus), \"Logical GPUs\")\n",
    "    except RuntimeError as e:\n",
    "        # Memory growth must be set before GPUs have been initialized\n",
    "        print(e)"
   ]
  },
  {
   "cell_type": "code",
   "execution_count": 3,
   "metadata": {},
   "outputs": [],
   "source": [
    "### read hopital names from datasets ###\n",
    "df = pd.read_csv(r'hospital_v2.csv')"
   ]
  },
  {
   "cell_type": "code",
   "execution_count": 4,
   "metadata": {},
   "outputs": [
    {
     "output_type": "execute_result",
     "data": {
      "text/plain": "                                  name\n0       คลินิกกรุงเทพพัทยาสาขาจอมเทียน\n1         คลินิกกรุงเทพระยองสาขาบ่อวิน\n2        คลินิกกรุงเทพระยองสาขาบ้านฉาง\n3        คลินิกกรุงเทพระยองสาขาปลวกแดง\n4  คลินิกไทยอินเตอร์การแพทย์(เกาะพงัน)",
      "text/html": "<div>\n<style scoped>\n    .dataframe tbody tr th:only-of-type {\n        vertical-align: middle;\n    }\n\n    .dataframe tbody tr th {\n        vertical-align: top;\n    }\n\n    .dataframe thead th {\n        text-align: right;\n    }\n</style>\n<table border=\"1\" class=\"dataframe\">\n  <thead>\n    <tr style=\"text-align: right;\">\n      <th></th>\n      <th>name</th>\n    </tr>\n  </thead>\n  <tbody>\n    <tr>\n      <th>0</th>\n      <td>คลินิกกรุงเทพพัทยาสาขาจอมเทียน</td>\n    </tr>\n    <tr>\n      <th>1</th>\n      <td>คลินิกกรุงเทพระยองสาขาบ่อวิน</td>\n    </tr>\n    <tr>\n      <th>2</th>\n      <td>คลินิกกรุงเทพระยองสาขาบ้านฉาง</td>\n    </tr>\n    <tr>\n      <th>3</th>\n      <td>คลินิกกรุงเทพระยองสาขาปลวกแดง</td>\n    </tr>\n    <tr>\n      <th>4</th>\n      <td>คลินิกไทยอินเตอร์การแพทย์(เกาะพงัน)</td>\n    </tr>\n  </tbody>\n</table>\n</div>"
     },
     "metadata": {},
     "execution_count": 4
    }
   ],
   "source": [
    "df.head()"
   ]
  },
  {
   "cell_type": "code",
   "execution_count": 21,
   "metadata": {},
   "outputs": [],
   "source": [
    "from pythainlp import thai_letters"
   ]
  },
  {
   "cell_type": "code",
   "execution_count": 103,
   "metadata": {},
   "outputs": [],
   "source": [
    "label_map_0 = [\"0\",\"1\",\"2\",\"3\",\"4\",\"5\",\"6\",\"7\",\"8\",\"9\",\"-\",\".\",\"/\",\"(\",\")\",\"\\\"\",\"&\"]\n",
    "label_map_1 = list(thai_letters)\n",
    "char_set = label_map_0+label_map_1"
   ]
  },
  {
   "cell_type": "code",
   "execution_count": null,
   "metadata": {},
   "outputs": [],
   "source": [
    "char2int = { char_set[x]:x for x in range(len(char_set)) }\n",
    "int2char = { char2int[x]:x for x in char_set }"
   ]
  },
  {
   "cell_type": "code",
   "execution_count": 8,
   "metadata": {},
   "outputs": [],
   "source": [
    "#thresh - 0 to 1\n",
    "import random\n",
    "def gen_gibberish(line,thresh=0.15):\n",
    "    text_true = line\n",
    "    times = int(random.randrange(1,len(line)) * thresh)\n",
    "    '''\n",
    "    Types of replacement:\n",
    "        1.Delete random character.\n",
    "        2.Add random character.\n",
    "        3.Replace a character.\n",
    "        4.Combination?\n",
    "    '''\n",
    "    while times!=0:\n",
    "        # try to gen noise length times...\n",
    "        times-=1\n",
    "        val = random.randrange(0,10)\n",
    "        if val <= 5:\n",
    "            #get random index\n",
    "            val = random.randrange(0,10)\n",
    "            index = random.randrange(2,len(line))\n",
    "            if val <= 3 :\n",
    "                #delete character\n",
    "                line = line[:index]+line[index+1:]\n",
    "            else:\n",
    "                #add character\n",
    "                insert_index = random.randrange(0,len(char_set))\n",
    "                line = line[:index] + char_set[insert_index] + line[index:]\n",
    "        else:\n",
    "            index = random.randrange(0,len(char_set))\n",
    "            replace_index = random.randrange(2,len(line))\n",
    "            line = line[:replace_index] + char_set[index] + line[replace_index+1:]\n",
    "    return line,text_true"
   ]
  },
  {
   "cell_type": "code",
   "execution_count": 5,
   "metadata": {},
   "outputs": [
    {
     "output_type": "execute_result",
     "data": {
      "text/plain": "1290"
     },
     "metadata": {},
     "execution_count": 5
    }
   ],
   "source": [
    "hos_list = list(df['name'])\n",
    "len(hos_list)"
   ]
  },
  {
   "cell_type": "code",
   "execution_count": 6,
   "metadata": {},
   "outputs": [
    {
     "output_type": "execute_result",
     "data": {
      "text/plain": "'บ้าน'"
     },
     "metadata": {},
     "execution_count": 6
    }
   ],
   "source": [
    "hos_list[46]"
   ]
  },
  {
   "cell_type": "code",
   "execution_count": 106,
   "metadata": {},
   "outputs": [],
   "source": [
    "hos_list2 = hos_list[:46]+hos_list[47:]"
   ]
  },
  {
   "cell_type": "code",
   "execution_count": 107,
   "metadata": {},
   "outputs": [
    {
     "output_type": "execute_result",
     "data": {
      "text/plain": "46"
     },
     "metadata": {},
     "execution_count": 107
    }
   ],
   "source": [
    "b = hos_list[:46]\n",
    "len(b)"
   ]
  },
  {
   "cell_type": "code",
   "execution_count": 108,
   "metadata": {},
   "outputs": [
    {
     "output_type": "execute_result",
     "data": {
      "text/plain": "1243"
     },
     "metadata": {},
     "execution_count": 108
    }
   ],
   "source": [
    "b2 = hos_list[47:]\n",
    "len(b2)"
   ]
  },
  {
   "cell_type": "code",
   "execution_count": 109,
   "metadata": {},
   "outputs": [
    {
     "output_type": "execute_result",
     "data": {
      "text/plain": "1289"
     },
     "metadata": {},
     "execution_count": 109
    }
   ],
   "source": [
    "len(hos_list2)"
   ]
  },
  {
   "cell_type": "code",
   "execution_count": 15,
   "metadata": {},
   "outputs": [
    {
     "output_type": "execute_result",
     "data": {
      "text/plain": "46"
     },
     "metadata": {},
     "execution_count": 15
    }
   ],
   "source": [
    "len(hos_list[:46])"
   ]
  },
  {
   "cell_type": "code",
   "execution_count": 16,
   "metadata": {},
   "outputs": [],
   "source": [
    "if 'บ้าน' in hos_list2:\n",
    "    print('vao')"
   ]
  },
  {
   "cell_type": "code",
   "execution_count": 17,
   "metadata": {},
   "outputs": [],
   "source": [
    "gen_data =[]\n",
    "true_data =[]\n",
    "for i in range(2):\n",
    "    for line in hos_list2:\n",
    "        a,b = gen_gibberish(line)\n",
    "        gen_data.append(a)\n",
    "        true_data.append(b)"
   ]
  },
  {
   "cell_type": "code",
   "execution_count": 18,
   "metadata": {},
   "outputs": [
    {
     "output_type": "execute_result",
     "data": {
      "text/plain": "2578"
     },
     "metadata": {},
     "execution_count": 18
    }
   ],
   "source": [
    "len(gen_data)"
   ]
  },
  {
   "cell_type": "code",
   "execution_count": 19,
   "metadata": {},
   "outputs": [],
   "source": [
    "a1 = ['บาน']\n",
    "a2 = ['บ้า']\n",
    "a3 = ['บ้านน']\n",
    "a4 = ['ป้าน']\n",
    "a5 =['ป้านน']\n",
    "a6 =['บ็าน']\n",
    "a7= ['ข้าน']\n",
    "a8 = ['บานน']\n",
    "a9 = ['ช้าน']\n",
    "a10 = ['บ๊าน']"
   ]
  },
  {
   "cell_type": "code",
   "execution_count": 20,
   "metadata": {},
   "outputs": [],
   "source": [
    "gen_data = gen_data+a1+a2+a3+a4+a5+a6+a7+a8+a9+a10"
   ]
  },
  {
   "cell_type": "code",
   "execution_count": 116,
   "metadata": {},
   "outputs": [
    {
     "output_type": "execute_result",
     "data": {
      "text/plain": "'บ้า'"
     },
     "metadata": {},
     "execution_count": 116
    }
   ],
   "source": [
    "gen_data[12891]"
   ]
  },
  {
   "cell_type": "code",
   "execution_count": 114,
   "metadata": {},
   "outputs": [],
   "source": [
    "true_data = true_data +['บ้าน']*10"
   ]
  },
  {
   "cell_type": "code",
   "execution_count": 115,
   "metadata": {},
   "outputs": [
    {
     "output_type": "execute_result",
     "data": {
      "text/plain": "'บ้าน'"
     },
     "metadata": {},
     "execution_count": 115
    }
   ],
   "source": [
    "true_data[12891]"
   ]
  },
  {
   "cell_type": "code",
   "execution_count": 117,
   "metadata": {},
   "outputs": [],
   "source": [
    "gen_data_comb = gen_data + hos_list\n",
    "true_data_comb = true_data + hos_list"
   ]
  },
  {
   "cell_type": "code",
   "execution_count": null,
   "metadata": {},
   "outputs": [],
   "source": []
  },
  {
   "cell_type": "code",
   "execution_count": 118,
   "metadata": {},
   "outputs": [],
   "source": [
    "gen_df = pd.DataFrame(gen_data_comb)\n",
    "true_df = pd.DataFrame(true_data_comb)"
   ]
  },
  {
   "cell_type": "code",
   "execution_count": 120,
   "metadata": {},
   "outputs": [],
   "source": [
    "gen_df.columns = ['gen_data']\n",
    "true_df.columns = ['true_data']"
   ]
  },
  {
   "cell_type": "code",
   "execution_count": 139,
   "metadata": {},
   "outputs": [],
   "source": [
    "gen_df.to_csv('hos_gen.csv',index=False)\n",
    "true_df.to_csv('true_gen.csv',index=False)"
   ]
  },
  {
   "cell_type": "code",
   "execution_count": 132,
   "metadata": {},
   "outputs": [],
   "source": [
    "df_out = gen_df['gen_data']+true_df['true_data']"
   ]
  },
  {
   "cell_type": "code",
   "execution_count": 137,
   "metadata": {},
   "outputs": [
    {
     "output_type": "execute_result",
     "data": {
      "text/plain": "                                         gen_data\n0                    คลินิกรุงเพพัทยาสาขาจคมเทียน\n1                     คลนิกกรุงเทพระยองสาขาบ่อวิน\n2                  คลินิกกร/ำงเทหระยองสาขาบา้นฉาง\n3                  คลินิกกรุงเทพระะธองสาขาปลวกแดง\n4             คลินิกไทยอินเตอใ์การแพทย์(เกาะพงัน)\n...                                           ...\n14185       อินทัชเมดิแคร์คลินิกเวชกรรมสาขาดินแดง\n14186       อินทัชเมดิแคร์คลินิกเวชกรรมสาขาบางเขน\n14187        อินทัชเมดิแคร์คลินิกเวชกรรมสาขาบางแค\n14188   อินทัชเมดิแคร์คลินิกเวชกรรมสาขาประชาอุทิศ\n14189  อินทัชเมดิแคร์คลินิกเวชกรรมสาขาราษฎร์บูรณะ\n\n[14190 rows x 1 columns]",
      "text/html": "<div>\n<style scoped>\n    .dataframe tbody tr th:only-of-type {\n        vertical-align: middle;\n    }\n\n    .dataframe tbody tr th {\n        vertical-align: top;\n    }\n\n    .dataframe thead th {\n        text-align: right;\n    }\n</style>\n<table border=\"1\" class=\"dataframe\">\n  <thead>\n    <tr style=\"text-align: right;\">\n      <th></th>\n      <th>gen_data</th>\n    </tr>\n  </thead>\n  <tbody>\n    <tr>\n      <th>0</th>\n      <td>คลินิกรุงเพพัทยาสาขาจคมเทียน</td>\n    </tr>\n    <tr>\n      <th>1</th>\n      <td>คลนิกกรุงเทพระยองสาขาบ่อวิน</td>\n    </tr>\n    <tr>\n      <th>2</th>\n      <td>คลินิกกร/ำงเทหระยองสาขาบา้นฉาง</td>\n    </tr>\n    <tr>\n      <th>3</th>\n      <td>คลินิกกรุงเทพระะธองสาขาปลวกแดง</td>\n    </tr>\n    <tr>\n      <th>4</th>\n      <td>คลินิกไทยอินเตอใ์การแพทย์(เกาะพงัน)</td>\n    </tr>\n    <tr>\n      <th>...</th>\n      <td>...</td>\n    </tr>\n    <tr>\n      <th>14185</th>\n      <td>อินทัชเมดิแคร์คลินิกเวชกรรมสาขาดินแดง</td>\n    </tr>\n    <tr>\n      <th>14186</th>\n      <td>อินทัชเมดิแคร์คลินิกเวชกรรมสาขาบางเขน</td>\n    </tr>\n    <tr>\n      <th>14187</th>\n      <td>อินทัชเมดิแคร์คลินิกเวชกรรมสาขาบางแค</td>\n    </tr>\n    <tr>\n      <th>14188</th>\n      <td>อินทัชเมดิแคร์คลินิกเวชกรรมสาขาประชาอุทิศ</td>\n    </tr>\n    <tr>\n      <th>14189</th>\n      <td>อินทัชเมดิแคร์คลินิกเวชกรรมสาขาราษฎร์บูรณะ</td>\n    </tr>\n  </tbody>\n</table>\n<p>14190 rows × 1 columns</p>\n</div>"
     },
     "metadata": {},
     "execution_count": 137
    }
   ],
   "source": [
    "gen_df"
   ]
  },
  {
   "cell_type": "code",
   "execution_count": 124,
   "metadata": {},
   "outputs": [
    {
     "output_type": "execute_result",
     "data": {
      "text/plain": "                             true_data\n0       คลินิกกรุงเทพพัทยาสาขาจอมเทียน\n1         คลินิกกรุงเทพระยองสาขาบ่อวิน\n2        คลินิกกรุงเทพระยองสาขาบา้นฉาง\n3        คลินิกกรุงเทพระยองสาขาปลวกแดง\n4  คลินิกไทยอินเตอร์การแพทย์(เกาะพงัน)",
      "text/html": "<div>\n<style scoped>\n    .dataframe tbody tr th:only-of-type {\n        vertical-align: middle;\n    }\n\n    .dataframe tbody tr th {\n        vertical-align: top;\n    }\n\n    .dataframe thead th {\n        text-align: right;\n    }\n</style>\n<table border=\"1\" class=\"dataframe\">\n  <thead>\n    <tr style=\"text-align: right;\">\n      <th></th>\n      <th>true_data</th>\n    </tr>\n  </thead>\n  <tbody>\n    <tr>\n      <th>0</th>\n      <td>คลินิกกรุงเทพพัทยาสาขาจอมเทียน</td>\n    </tr>\n    <tr>\n      <th>1</th>\n      <td>คลินิกกรุงเทพระยองสาขาบ่อวิน</td>\n    </tr>\n    <tr>\n      <th>2</th>\n      <td>คลินิกกรุงเทพระยองสาขาบา้นฉาง</td>\n    </tr>\n    <tr>\n      <th>3</th>\n      <td>คลินิกกรุงเทพระยองสาขาปลวกแดง</td>\n    </tr>\n    <tr>\n      <th>4</th>\n      <td>คลินิกไทยอินเตอร์การแพทย์(เกาะพงัน)</td>\n    </tr>\n  </tbody>\n</table>\n</div>"
     },
     "metadata": {},
     "execution_count": 124
    }
   ],
   "source": [
    "true_df.head()"
   ]
  },
  {
   "cell_type": "code",
   "execution_count": 140,
   "metadata": {},
   "outputs": [],
   "source": [
    "frame = gen_df.append(true_df,ignore_index=True)"
   ]
  },
  {
   "cell_type": "code",
   "execution_count": 141,
   "metadata": {},
   "outputs": [
    {
     "output_type": "execute_result",
     "data": {
      "text/plain": "                              gen_data true_data\n0         คลินิกรุงเพพัทยาสาขาจคมเทียน       NaN\n1          คลนิกกรุงเทพระยองสาขาบ่อวิน       NaN\n2       คลินิกกร/ำงเทหระยองสาขาบา้นฉาง       NaN\n3       คลินิกกรุงเทพระะธองสาขาปลวกแดง       NaN\n4  คลินิกไทยอินเตอใ์การแพทย์(เกาะพงัน)       NaN",
      "text/html": "<div>\n<style scoped>\n    .dataframe tbody tr th:only-of-type {\n        vertical-align: middle;\n    }\n\n    .dataframe tbody tr th {\n        vertical-align: top;\n    }\n\n    .dataframe thead th {\n        text-align: right;\n    }\n</style>\n<table border=\"1\" class=\"dataframe\">\n  <thead>\n    <tr style=\"text-align: right;\">\n      <th></th>\n      <th>gen_data</th>\n      <th>true_data</th>\n    </tr>\n  </thead>\n  <tbody>\n    <tr>\n      <th>0</th>\n      <td>คลินิกรุงเพพัทยาสาขาจคมเทียน</td>\n      <td>NaN</td>\n    </tr>\n    <tr>\n      <th>1</th>\n      <td>คลนิกกรุงเทพระยองสาขาบ่อวิน</td>\n      <td>NaN</td>\n    </tr>\n    <tr>\n      <th>2</th>\n      <td>คลินิกกร/ำงเทหระยองสาขาบา้นฉาง</td>\n      <td>NaN</td>\n    </tr>\n    <tr>\n      <th>3</th>\n      <td>คลินิกกรุงเทพระะธองสาขาปลวกแดง</td>\n      <td>NaN</td>\n    </tr>\n    <tr>\n      <th>4</th>\n      <td>คลินิกไทยอินเตอใ์การแพทย์(เกาะพงัน)</td>\n      <td>NaN</td>\n    </tr>\n  </tbody>\n</table>\n</div>"
     },
     "metadata": {},
     "execution_count": 141
    }
   ],
   "source": [
    "frame.head()"
   ]
  },
  {
   "cell_type": "code",
   "execution_count": 143,
   "metadata": {},
   "outputs": [],
   "source": [
    "df_col_merged =pd.concat([gen_df, true_df], axis=1)"
   ]
  },
  {
   "cell_type": "code",
   "execution_count": 144,
   "metadata": {},
   "outputs": [
    {
     "output_type": "execute_result",
     "data": {
      "text/plain": "                              gen_data                            true_data\n0         คลินิกรุงเพพัทยาสาขาจคมเทียน       คลินิกกรุงเทพพัทยาสาขาจอมเทียน\n1          คลนิกกรุงเทพระยองสาขาบ่อวิน         คลินิกกรุงเทพระยองสาขาบ่อวิน\n2       คลินิกกร/ำงเทหระยองสาขาบา้นฉาง        คลินิกกรุงเทพระยองสาขาบา้นฉาง\n3       คลินิกกรุงเทพระะธองสาขาปลวกแดง        คลินิกกรุงเทพระยองสาขาปลวกแดง\n4  คลินิกไทยอินเตอใ์การแพทย์(เกาะพงัน)  คลินิกไทยอินเตอร์การแพทย์(เกาะพงัน)",
      "text/html": "<div>\n<style scoped>\n    .dataframe tbody tr th:only-of-type {\n        vertical-align: middle;\n    }\n\n    .dataframe tbody tr th {\n        vertical-align: top;\n    }\n\n    .dataframe thead th {\n        text-align: right;\n    }\n</style>\n<table border=\"1\" class=\"dataframe\">\n  <thead>\n    <tr style=\"text-align: right;\">\n      <th></th>\n      <th>gen_data</th>\n      <th>true_data</th>\n    </tr>\n  </thead>\n  <tbody>\n    <tr>\n      <th>0</th>\n      <td>คลินิกรุงเพพัทยาสาขาจคมเทียน</td>\n      <td>คลินิกกรุงเทพพัทยาสาขาจอมเทียน</td>\n    </tr>\n    <tr>\n      <th>1</th>\n      <td>คลนิกกรุงเทพระยองสาขาบ่อวิน</td>\n      <td>คลินิกกรุงเทพระยองสาขาบ่อวิน</td>\n    </tr>\n    <tr>\n      <th>2</th>\n      <td>คลินิกกร/ำงเทหระยองสาขาบา้นฉาง</td>\n      <td>คลินิกกรุงเทพระยองสาขาบา้นฉาง</td>\n    </tr>\n    <tr>\n      <th>3</th>\n      <td>คลินิกกรุงเทพระะธองสาขาปลวกแดง</td>\n      <td>คลินิกกรุงเทพระยองสาขาปลวกแดง</td>\n    </tr>\n    <tr>\n      <th>4</th>\n      <td>คลินิกไทยอินเตอใ์การแพทย์(เกาะพงัน)</td>\n      <td>คลินิกไทยอินเตอร์การแพทย์(เกาะพงัน)</td>\n    </tr>\n  </tbody>\n</table>\n</div>"
     },
     "metadata": {},
     "execution_count": 144
    }
   ],
   "source": [
    "df_col_merged.head()"
   ]
  },
  {
   "cell_type": "code",
   "execution_count": 145,
   "metadata": {},
   "outputs": [],
   "source": [
    "df_col_merged.to_csv('hospital_augment.csv',index=False)"
   ]
  },
  {
   "cell_type": "code",
   "execution_count": 7,
   "metadata": {},
   "outputs": [
    {
     "output_type": "stream",
     "name": "stdout",
     "text": "['<bow>', 's', 'd', 's', 'd', 's', 'd', '<eow>']\n"
    }
   ],
   "source": [
    "def createSpace(text):\n",
    "    re = [\"<bow>\"]\n",
    "    for t in text :\n",
    "        re.append(t)\n",
    "        \n",
    "    re.append(\"<eow>\")\n",
    "    return re\n",
    "\n",
    "print (createSpace(\"sdsdsd\"))"
   ]
  },
  {
   "cell_type": "code",
   "execution_count": 8,
   "metadata": {},
   "outputs": [],
   "source": [
    "import random"
   ]
  },
  {
   "cell_type": "code",
   "execution_count": 9,
   "metadata": {},
   "outputs": [],
   "source": [
    "def gen_delete(text,per=0.1):\n",
    "    e = np.random.uniform() \n",
    "    if e <0.1:\n",
    "        return text\n",
    "    r = np.random.randint(len(list(text)))\n",
    "    text_lst = list(text)\n",
    "    del text_lst[r]\n",
    "    return ''.join(text_lst)"
   ]
  },
  {
   "cell_type": "code",
   "execution_count": 10,
   "metadata": {},
   "outputs": [],
   "source": [
    "def gen_insert(text,per=0.1):\n",
    "    e = np.random.uniform() \n",
    "    if e <0.1:\n",
    "        return text\n",
    "    index = np.random.randint(len(list(text)))\n",
    "    char = random.choice(char_set)\n",
    "    text_list = list(text)\n",
    "    text_list.insert(index, char)\n",
    "    return ''.join(text_list)"
   ]
  },
  {
   "cell_type": "code",
   "execution_count": 11,
   "metadata": {},
   "outputs": [],
   "source": [
    "def gen_substitution(text,per=0.1):\n",
    "    e = np.random.uniform() \n",
    "    if e <0.1:\n",
    "        return text\n",
    "    index = np.random.randint(len(list(text)))\n",
    "    char = random.choice(char_set)\n",
    "    text_list = list(text)\n",
    "    text_list[index] = char\n",
    "    return ''.join(text_list)"
   ]
  },
  {
   "cell_type": "code",
   "execution_count": 110,
   "metadata": {},
   "outputs": [],
   "source": [
    "delete_hos = []\n",
    "delete_hos_true =[]\n",
    "for i in range(12):\n",
    "    for p in hos_list:\n",
    "        delete_hos.append(gen_delete(p))\n",
    "        delete_hos_true.append(p)"
   ]
  },
  {
   "cell_type": "code",
   "execution_count": 111,
   "metadata": {},
   "outputs": [],
   "source": [
    "insert_hos = []\n",
    "insert_hos_true =[]\n",
    "for i in range(12):\n",
    "    for p in hos_list:\n",
    "        insert_hos.append(gen_insert(p))\n",
    "        insert_hos_true.append(p)"
   ]
  },
  {
   "cell_type": "code",
   "execution_count": 112,
   "metadata": {},
   "outputs": [],
   "source": [
    "sub_hos = []\n",
    "sub_hos_true =[]\n",
    "for i in range(12):\n",
    "    for p in hos_list:\n",
    "        sub_hos.append(gen_substitution(p))\n",
    "        sub_hos_true.append(p)"
   ]
  },
  {
   "cell_type": "code",
   "execution_count": 113,
   "metadata": {},
   "outputs": [],
   "source": [
    "gen_data2 = delete_hos+ insert_hos+sub_hos\n",
    "true_data2 = delete_hos_true + insert_hos_true+sub_hos_true"
   ]
  },
  {
   "cell_type": "code",
   "execution_count": 114,
   "metadata": {},
   "outputs": [
    {
     "output_type": "execute_result",
     "data": {
      "text/plain": "(46440, 46440)"
     },
     "metadata": {},
     "execution_count": 114
    }
   ],
   "source": [
    "len(gen_data2),len(true_data2)"
   ]
  },
  {
   "cell_type": "code",
   "execution_count": 115,
   "metadata": {},
   "outputs": [],
   "source": [
    "# using naive method \n",
    "# to remove duplicated  \n",
    "# from list  \n",
    "res_gen = []\n",
    "res_true =[] \n",
    "for i,key in enumerate(gen_data2): \n",
    "    if key not in res_gen: \n",
    "        res_gen.append(key)\n",
    "        res_true.append(true_data2[i])"
   ]
  },
  {
   "cell_type": "code",
   "execution_count": 116,
   "metadata": {},
   "outputs": [
    {
     "output_type": "execute_result",
     "data": {
      "text/plain": "(39556, 39556)"
     },
     "metadata": {},
     "execution_count": 116
    }
   ],
   "source": [
    "len(res_gen),len(res_true)"
   ]
  },
  {
   "cell_type": "code",
   "execution_count": 117,
   "metadata": {},
   "outputs": [],
   "source": [
    "train_data_gen =[]\n",
    "train_data_true =[]\n",
    "val_data_gen =[]\n",
    "val_data_true =[]\n",
    "for i in range(0,len(res_gen),8):\n",
    "    val_data_gen.append(res_gen[i])\n",
    "    val_data_true.append(res_true[i])"
   ]
  },
  {
   "cell_type": "code",
   "execution_count": 120,
   "metadata": {},
   "outputs": [
    {
     "output_type": "execute_result",
     "data": {
      "text/plain": "('โรงพยาบาลแมสอด', 'โรงพยาบาลแม่สอด')"
     },
     "metadata": {},
     "execution_count": 120
    }
   ],
   "source": [
    "val_data_gen[100],val_data_true[100]"
   ]
  },
  {
   "cell_type": "code",
   "execution_count": 121,
   "metadata": {},
   "outputs": [],
   "source": [
    "for i,key in enumerate(res_gen):\n",
    "    if not key in val_data_true:\n",
    "        train_data_gen.append(key)\n",
    "        train_data_true.append(res_true[i])"
   ]
  },
  {
   "cell_type": "code",
   "execution_count": 122,
   "metadata": {},
   "outputs": [
    {
     "output_type": "execute_result",
     "data": {
      "text/plain": "(76602, 4945, 76602, 4945)"
     },
     "metadata": {},
     "execution_count": 122
    }
   ],
   "source": [
    "len(train_data_gen),len(val_data_gen),len(train_data_true),len(val_data_true)"
   ]
  },
  {
   "cell_type": "code",
   "execution_count": 123,
   "metadata": {},
   "outputs": [
    {
     "output_type": "execute_result",
     "data": {
      "text/plain": "('โรงพยาบลบ้านหลวง', 'โรงพยาบาลบ้านหลวง')"
     },
     "metadata": {},
     "execution_count": 123
    }
   ],
   "source": [
    "train_data_gen[500],train_data_true[500]"
   ]
  },
  {
   "cell_type": "code",
   "execution_count": 138,
   "metadata": {},
   "outputs": [],
   "source": [
    "test_data_gen =[]\n",
    "test_data_true =[]\n",
    "for i in range(0,len(train_data_gen),12):\n",
    "    test_data_gen.append(train_data_gen[i])\n",
    "    test_data_true.append(train_data_true[i])"
   ]
  },
  {
   "cell_type": "code",
   "execution_count": 139,
   "metadata": {},
   "outputs": [],
   "source": [
    "train_data_gen_res =[]\n",
    "train_data_true_res =[]\n",
    "for i,key in enumerate(train_data_gen):\n",
    "    if not key in test_data_gen:\n",
    "        train_data_gen_res.append(train_data_gen[i])\n",
    "        train_data_true_res.append(train_data_true[i])"
   ]
  },
  {
   "cell_type": "code",
   "execution_count": 140,
   "metadata": {},
   "outputs": [
    {
     "output_type": "execute_result",
     "data": {
      "text/plain": "('คลินิกกรุงทพพัทยาสาขาจอมเทียน', 'คลินิกกรุงเทพพัทยาสาขาจอมเทียน')"
     },
     "metadata": {},
     "execution_count": 140
    }
   ],
   "source": [
    "train_data_gen[0],train_data_true[0]"
   ]
  },
  {
   "cell_type": "code",
   "execution_count": 141,
   "metadata": {},
   "outputs": [
    {
     "output_type": "execute_result",
     "data": {
      "text/plain": "(63834, 4945, 6384)"
     },
     "metadata": {},
     "execution_count": 141
    }
   ],
   "source": [
    "len(train_data_true_res),len(val_data_gen),len(test_data_gen)"
   ]
  },
  {
   "cell_type": "code",
   "execution_count": null,
   "metadata": {},
   "outputs": [],
   "source": []
  },
  {
   "cell_type": "code",
   "execution_count": 128,
   "metadata": {},
   "outputs": [],
   "source": [
    "train_gen = train_data_gen_res + hos_list\n",
    "train_true = train_data_true_res +hos_list\n",
    "val_gen = val_data_gen\n",
    "val_true = val_data_true\n",
    "test_gen = test_data_gen\n",
    "test_true = test_data_true"
   ]
  },
  {
   "cell_type": "code",
   "execution_count": 129,
   "metadata": {},
   "outputs": [],
   "source": [
    "gen_df_train = pd.DataFrame(train_gen)\n",
    "true_df_train = pd.DataFrame(train_true)\n",
    "gen_df_val =pd.DataFrame(val_gen)\n",
    "true_df_val =pd.DataFrame(val_true)\n",
    "gen_df_test =pd.DataFrame(test_data_gen)\n",
    "true_df_test =pd.DataFrame(test_data_true)"
   ]
  },
  {
   "cell_type": "code",
   "execution_count": 130,
   "metadata": {},
   "outputs": [],
   "source": [
    "gen_df_train.columns=['gen_data']\n",
    "true_df_train.columns=['true_data']\n",
    "gen_df_val.columns =['gen_data']\n",
    "true_df_val.columns =['true_data']\n",
    "gen_df_test.columns =['gen_data']\n",
    "true_df_test.columns =['true_data']"
   ]
  },
  {
   "cell_type": "code",
   "execution_count": 131,
   "metadata": {},
   "outputs": [
    {
     "output_type": "execute_result",
     "data": {
      "text/plain": "(62570, 4945, 7661)"
     },
     "metadata": {},
     "execution_count": 131
    }
   ],
   "source": [
    "len(gen_df_train),len(gen_df_val),len(gen_df_test)"
   ]
  },
  {
   "cell_type": "code",
   "execution_count": 132,
   "metadata": {},
   "outputs": [],
   "source": [
    "df_col_merged_train =pd.concat([gen_df_train,true_df_train],axis=1)"
   ]
  },
  {
   "cell_type": "code",
   "execution_count": 133,
   "metadata": {},
   "outputs": [],
   "source": [
    "df_col_merged_val =pd.concat([gen_df_val,true_df_val],axis=1)\n",
    "df_col_merged_test =pd.concat([gen_df_test,true_df_test],axis=1)"
   ]
  },
  {
   "cell_type": "code",
   "execution_count": 134,
   "metadata": {},
   "outputs": [],
   "source": [
    "df_col_merged_train.to_csv('hospital_augment_train2.csv',index=False)\n",
    "df_col_merged_val.to_csv('hospital_augment_val2.csv',index=False)\n",
    "df_col_merged_test.to_csv('hospital_augment_test2.csv',index=False)"
   ]
  },
  {
   "cell_type": "code",
   "execution_count": 87,
   "metadata": {},
   "outputs": [],
   "source": [
    "df_col_merged2.to_csv('hospital_augment2_val.csv',index=False)"
   ]
  },
  {
   "cell_type": "code",
   "execution_count": 167,
   "metadata": {},
   "outputs": [
    {
     "output_type": "execute_result",
     "data": {
      "text/plain": "12900"
     },
     "metadata": {},
     "execution_count": 167
    }
   ],
   "source": [
    "len(sub_hos)"
   ]
  },
  {
   "cell_type": "code",
   "execution_count": 109,
   "metadata": {},
   "outputs": [],
   "source": [
    "df_test = pd.read_csv('hospital_augment_test.csv')"
   ]
  },
  {
   "cell_type": "code",
   "execution_count": 110,
   "metadata": {},
   "outputs": [],
   "source": [
    "df_test_gen = list(df_test['gen_data'])\n",
    "df_test_true = list(df"
   ]
  },
  {
   "cell_type": "code",
   "execution_count": 142,
   "metadata": {},
   "outputs": [],
   "source": [
    "df_test_read = pd.read_csv('hospital_augment_test2.csv')"
   ]
  },
  {
   "cell_type": "code",
   "execution_count": 148,
   "metadata": {},
   "outputs": [],
   "source": [
    "list_test_gen = list(df_test_read['gen_data'])\n",
    "list_test_true = list(df_test_read['true_data'])"
   ]
  },
  {
   "cell_type": "code",
   "execution_count": 149,
   "metadata": {},
   "outputs": [],
   "source": [
    "test_gen_res =[]\n",
    "test_true_res=[]\n",
    "for i in range(0,len(list_test_gen),2):\n",
    "    test_gen_res.append(list_test_gen[i])\n",
    "    test_true_res.append(list_test_true[i])"
   ]
  },
  {
   "cell_type": "code",
   "execution_count": 150,
   "metadata": {},
   "outputs": [],
   "source": [
    "gen_df_test2=pd.DataFrame(test_gen_res)\n",
    "true_df_test2 =pd.DataFrame(test_true_res)"
   ]
  },
  {
   "cell_type": "code",
   "execution_count": 151,
   "metadata": {},
   "outputs": [
    {
     "output_type": "execute_result",
     "data": {
      "text/plain": "3831"
     },
     "metadata": {},
     "execution_count": 151
    }
   ],
   "source": [
    "len(gen_df_test2)"
   ]
  },
  {
   "cell_type": "code",
   "execution_count": 152,
   "metadata": {},
   "outputs": [],
   "source": [
    "gen_df_test2.columns =['gen_data']\n",
    "true_df_test2.columns =['true_data']"
   ]
  },
  {
   "cell_type": "code",
   "execution_count": 153,
   "metadata": {},
   "outputs": [],
   "source": [
    "df_col_merged_test =pd.concat([gen_df_test2,true_df_test2],axis=1)"
   ]
  },
  {
   "cell_type": "code",
   "execution_count": 154,
   "metadata": {},
   "outputs": [],
   "source": [
    "df_col_merged_test.to_csv('hospital_augment_test2.csv',index=False)"
   ]
  },
  {
   "cell_type": "code",
   "execution_count": null,
   "metadata": {},
   "outputs": [],
   "source": []
  }
 ],
 "metadata": {
  "language_info": {
   "codemirror_mode": {
    "name": "ipython",
    "version": 3
   },
   "file_extension": ".py",
   "mimetype": "text/x-python",
   "name": "python",
   "nbconvert_exporter": "python",
   "pygments_lexer": "ipython3",
   "version": "3.7.7-final"
  },
  "orig_nbformat": 2,
  "kernelspec": {
   "name": "python3",
   "display_name": "Python 3"
  }
 },
 "nbformat": 4,
 "nbformat_minor": 2
}