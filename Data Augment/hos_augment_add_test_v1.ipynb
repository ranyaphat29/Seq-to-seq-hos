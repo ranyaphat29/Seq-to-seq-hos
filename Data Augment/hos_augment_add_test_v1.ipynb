{
 "cells": [
  {
   "cell_type": "code",
   "execution_count": 1,
   "metadata": {},
   "outputs": [],
   "source": [
    "%matplotlib inline\n",
    "import matplotlib.pyplot as plt\n",
    "import numpy as np # linear algebra\n",
    "import pandas as pd # data processing, CSV file I/O (e.g. pd.read_csv)\n",
    "import os\n",
    "import tensorflow as tf"
   ]
  },
  {
   "cell_type": "code",
   "execution_count": 2,
   "metadata": {},
   "outputs": [
    {
     "output_type": "stream",
     "name": "stdout",
     "text": "1 Physical GPUs, 1 Logical GPUs\n"
    }
   ],
   "source": [
    "##### Limit GPU for training ###\n",
    "gpus = tf.config.experimental.list_physical_devices('GPU')\n",
    "if gpus:\n",
    "    try:\n",
    "        # Restrict TensorFlow to only use the fourth GPU\n",
    "        tf.config.experimental.set_visible_devices(gpus[0], 'GPU')\n",
    "\n",
    "        # Currently, memory growth needs to be the same across GPUs\n",
    "        for gpu in gpus:\n",
    "            tf.config.experimental.set_memory_growth(gpu, True)\n",
    "        logical_gpus = tf.config.experimental.list_logical_devices('GPU')\n",
    "        print(len(gpus), \"Physical GPUs,\", len(logical_gpus), \"Logical GPUs\")\n",
    "    except RuntimeError as e:\n",
    "        # Memory growth must be set before GPUs have been initialized\n",
    "        print(e)"
   ]
  },
  {
   "cell_type": "code",
   "execution_count": 3,
   "metadata": {},
   "outputs": [],
   "source": [
    "### read hopital names from datasets ###\n",
    "df = pd.read_csv(r'hospital_allnew.csv')"
   ]
  },
  {
   "cell_type": "code",
   "execution_count": 14,
   "metadata": {},
   "outputs": [
    {
     "output_type": "execute_result",
     "data": {
      "text/plain": "                                  name\n0       คลินิกกรุงเทพพัทยาสาขาจอมเทียน\n1         คลินิกกรุงเทพระยองสาขาบ่อวิน\n2        คลินิกกรุงเทพระยองสาขาบ้านฉาง\n3        คลินิกกรุงเทพระยองสาขาปลวกแดง\n4  คลินิกไทยอินเตอร์การแพทย์(เกาะพงัน)",
      "text/html": "<div>\n<style scoped>\n    .dataframe tbody tr th:only-of-type {\n        vertical-align: middle;\n    }\n\n    .dataframe tbody tr th {\n        vertical-align: top;\n    }\n\n    .dataframe thead th {\n        text-align: right;\n    }\n</style>\n<table border=\"1\" class=\"dataframe\">\n  <thead>\n    <tr style=\"text-align: right;\">\n      <th></th>\n      <th>name</th>\n    </tr>\n  </thead>\n  <tbody>\n    <tr>\n      <th>0</th>\n      <td>คลินิกกรุงเทพพัทยาสาขาจอมเทียน</td>\n    </tr>\n    <tr>\n      <th>1</th>\n      <td>คลินิกกรุงเทพระยองสาขาบ่อวิน</td>\n    </tr>\n    <tr>\n      <th>2</th>\n      <td>คลินิกกรุงเทพระยองสาขาบ้านฉาง</td>\n    </tr>\n    <tr>\n      <th>3</th>\n      <td>คลินิกกรุงเทพระยองสาขาปลวกแดง</td>\n    </tr>\n    <tr>\n      <th>4</th>\n      <td>คลินิกไทยอินเตอร์การแพทย์(เกาะพงัน)</td>\n    </tr>\n  </tbody>\n</table>\n</div>"
     },
     "metadata": {},
     "execution_count": 14
    }
   ],
   "source": [
    "df.head()"
   ]
  },
  {
   "cell_type": "code",
   "execution_count": 3,
   "metadata": {},
   "outputs": [],
   "source": [
    "from pythainlp import thai_letters"
   ]
  },
  {
   "cell_type": "code",
   "execution_count": 4,
   "metadata": {},
   "outputs": [],
   "source": [
    "label_map_0 = [\"0\",\"1\",\"2\",\"3\",\"4\",\"5\",\"6\",\"7\",\"8\",\"9\",\"-\",\".\",\"/\",\"(\",\")\",\"\\\"\",\"&\"]\n",
    "label_map_1 = list(thai_letters)\n",
    "char_set = label_map_0+label_map_1"
   ]
  },
  {
   "cell_type": "code",
   "execution_count": 5,
   "metadata": {},
   "outputs": [
    {
     "output_type": "execute_result",
     "data": {
      "text/plain": "90"
     },
     "metadata": {},
     "execution_count": 5
    }
   ],
   "source": [
    "len(char_set)"
   ]
  },
  {
   "cell_type": "code",
   "execution_count": 6,
   "metadata": {},
   "outputs": [],
   "source": [
    "char2int = { char_set[x]:x for x in range(len(char_set)) }\n",
    "int2char = { char2int[x]:x for x in char_set }"
   ]
  },
  {
   "cell_type": "code",
   "execution_count": 9,
   "metadata": {},
   "outputs": [],
   "source": [
    "#thresh - 0 to 1\n",
    "import random\n",
    "def gen_gibberish(line,thresh=0.15):\n",
    "    text_true = line\n",
    "    times = int(random.randrange(1,len(line)) * thresh)\n",
    "    '''\n",
    "    Types of replacement:\n",
    "        1.Delete random character.\n",
    "        2.Add random character.\n",
    "        3.Replace a character.\n",
    "        4.Combination?\n",
    "    '''\n",
    "    while times!=0:\n",
    "        # try to gen noise length times...\n",
    "        times-=1\n",
    "        val = random.randrange(0,10)\n",
    "        if val <= 5:\n",
    "            #get random index\n",
    "            val = random.randrange(0,10)\n",
    "            index = random.randrange(2,len(line))\n",
    "            if val <= 3 :\n",
    "                #delete character\n",
    "                line = line[:index]+line[index+1:]\n",
    "            else:\n",
    "                #add character\n",
    "                insert_index = random.randrange(0,len(char_set))\n",
    "                line = line[:index] + char_set[insert_index] + line[index:]\n",
    "        else:\n",
    "            index = random.randrange(0,len(char_set))\n",
    "            replace_index = random.randrange(2,len(line))\n",
    "            line = line[:replace_index] + char_set[index] + line[replace_index+1:]\n",
    "    return line,text_true"
   ]
  },
  {
   "cell_type": "code",
   "execution_count": 9,
   "metadata": {},
   "outputs": [
    {
     "output_type": "execute_result",
     "data": {
      "text/plain": "1375"
     },
     "metadata": {},
     "execution_count": 9
    }
   ],
   "source": [
    "hos_list = list(df['name'])\n",
    "len(hos_list)"
   ]
  },
  {
   "cell_type": "code",
   "execution_count": 10,
   "metadata": {},
   "outputs": [],
   "source": [
    "name1 = ['โรงพยาบาลเกษมราษฎร์']"
   ]
  },
  {
   "cell_type": "code",
   "execution_count": 11,
   "metadata": {},
   "outputs": [],
   "source": [
    "x =[]\n",
    "y =[]\n",
    "for i in range(100):\n",
    "    for name in name1:\n",
    "        a,b =gen_gibberish(name)\n",
    "        x.append(a)\n",
    "        y.append(b)"
   ]
  },
  {
   "cell_type": "code",
   "execution_count": 42,
   "metadata": {},
   "outputs": [],
   "source": [
    "x1=pd.DataFrame(x2)\n",
    "y1 =pd.DataFrame(y2)"
   ]
  },
  {
   "cell_type": "code",
   "execution_count": 41,
   "metadata": {},
   "outputs": [
    {
     "output_type": "stream",
     "name": "stdout",
     "text": "โรงพยาบาลเกษมร๋ษฎร์\nโรงพยา3าลเกษมราษฎ7ร์\nโรงพยณาบาลเกษมราษฎ7์\nโรงพยาบาลเนษมาษฎร์\nโรงพยาบาลเกษมรภาฎร์\nโรงพยบาลเกษมราีษฎร์\nโรงพยาบาลเกษมรุาษฎร์\nโรงพยาบาเูกษมราษฎร์\nโรงพาาลเกษมราษฎร์\nโรงพยาบาลเกษมผราษฎร์\nโรงพยาบาลเกษมราร์\nโรงพยา้าลเกษมราษฎ์\nโรงพยาบาลเกษึราษฎร์\nโรงพยามาลเกษมรทาษฎร์\nโรงูพยาบาณเกษมราษฎร์\nโรงพยถบาลเกษมราษฎร์\nโรงพยาบาลเฎกษมราษฎร์\nโรงพยาบาลเกษมัาษฎร์\nโรงพยาบาลๆเกษมรฃาษฎร์\nโรงพยฐบาลเกษมราษฎร์\nโรงพยาาลเกษมราษฎร์\nโรงพยาบาลเกษมรษฎร์\nโรงพยาฆาลเกษมราษฎร์\nโรงพยาบฤาลเกษมราษฎร์\nโรไพยาบาลเกษมราษฎ์\nโรงพยาาลเกษมราษฎร์\nโรงพยาบาลเกษรษฎร์\nโรงพยาบาลเกษมราฎร์\nโรงพยาบาลเกษมพราษฎร์\nโรงพยาบาลเกษมราษฎน์\nโรงพยาบาลเกษมร)าษฎร์\nโรงพยาตบาลเกษมราษฎร์\nโรงพยาบ9าลเกษมราษฎรฝ์\nโรงไพยาบาลเกษมูาษฎร์\nโรงพยาบาลเ๋กษมราษฎร์\nโรงพยาบาลฯกษมราษฎร์\nโรงพยฎาบาๆเกษมราษฎร์\nโรพยาบาลเกฎษมราษฎร์\nโรดงพาบาลเกษมราษฎร์\nโรงพยฅบาลเกษมราษฎร์\nโรงพยาฮบาลเกษมราษฎร์\nโรงพยาบาลเกษมราษฎรๅ\nโรงฯยาบาลเกษมราษฎร์\nโรฟงยาบาลเกษมราษฎร์\nโรงพยาบาูเกฎมราษฎร์\nโรงพยาบาเกษมราษ็ร์\nโรงพยาบาลเกฬ4มราษฎร์\nโรง-พยบาลเกษมราษฎร์\nโรง็พยาบาล3เกษมราษฎร์\nโรงพย\"บาลเกษมราษฎ์\nโรงพยาบาลเกษมราษฎร.์\nโรงพยาบาลเกฦมราษฎร์\nโรงยาบาลเกษึราษฎร์\nโรพยา๊บาลเกษมราษฎร์\nโรงพยาบาลกษม้ราษฎร์\nโรพยาบาลเกษมราษฎร์\nโรงพยาบาลเกษมราษฎร\nโรงพยาบาลึกษมราฆษฎร์\nโรงพยาบาลเกีมราษฎร์\nโรงพ-าบาลเกษมราษฎร์\nโรงพยาไบา&เกษมราษฎร์\nโรงพย2าบลเกษมราษฎร์\nโรงพยาบาลเกษมร4าษฎร์\nโรงพยาบาลเกมราษ&ฎร์\nโรงพยาบาลเกฆษมราษฎร์\nโรงพยงาบาลเกษมราษฎร์\nโรงพยาบาเกษมราษฎร์\nโรงพยาบาลเกศษมราษฎร์\nโรงพยาบา&ลเกษมราษฎร์\nโรงพยาบาล1กษม9าษฎร์\nโรงพยธาบาลเกษมราษฎร์\nโรงภพสาบาลเกษมราษฎร์\nโรงพยาบาลเกษมราษร์\nโรงพยาบษาลเกษูมราษฎร์\nโรงูยาบาลเกษมราษฎร์\n"
    }
   ],
   "source": [
    "x2 =[]\n",
    "y2 =[]\n",
    "for i,val in enumerate(x):\n",
    "    if val != name1[0]:\n",
    "        print(val)\n",
    "        x2.append(val)\n",
    "        y2.append(y[i])"
   ]
  },
  {
   "cell_type": "code",
   "execution_count": 32,
   "metadata": {},
   "outputs": [
    {
     "output_type": "execute_result",
     "data": {
      "text/plain": "True"
     },
     "metadata": {},
     "execution_count": 32
    }
   ],
   "source": [
    "name1[0] == 'โรงพยาบาลเกษมราษฎร์'"
   ]
  },
  {
   "cell_type": "code",
   "execution_count": 39,
   "metadata": {},
   "outputs": [
    {
     "output_type": "execute_result",
     "data": {
      "text/plain": "75"
     },
     "metadata": {},
     "execution_count": 39
    }
   ],
   "source": [
    "len(x2)"
   ]
  },
  {
   "cell_type": "code",
   "execution_count": 43,
   "metadata": {},
   "outputs": [],
   "source": [
    "x1.columns=['gen_data']\n",
    "y1.columns=['true_data']"
   ]
  },
  {
   "cell_type": "code",
   "execution_count": 44,
   "metadata": {},
   "outputs": [],
   "source": [
    "col_merge = pd.concat([x1,y1],axis=1)"
   ]
  },
  {
   "cell_type": "code",
   "execution_count": 45,
   "metadata": {},
   "outputs": [],
   "source": [
    "col_merge.to_csv('add_data1.csv',encoding='utf-8' ,index=False)"
   ]
  },
  {
   "cell_type": "code",
   "execution_count": 23,
   "metadata": {},
   "outputs": [],
   "source": [
    "df6 = pd.read_csv('hospital_augment_train6_3.csv')"
   ]
  },
  {
   "cell_type": "code",
   "execution_count": 24,
   "metadata": {},
   "outputs": [],
   "source": [
    "df6_gen = list(df6['gen_data'])\n",
    "df6_true=list(df6['true_data'])"
   ]
  },
  {
   "cell_type": "code",
   "execution_count": 20,
   "metadata": {},
   "outputs": [
    {
     "output_type": "execute_result",
     "data": {
      "text/plain": "(78352, 78352)"
     },
     "metadata": {},
     "execution_count": 20
    }
   ],
   "source": [
    "len(df6_gen),len(df6_true)"
   ]
  },
  {
   "cell_type": "code",
   "execution_count": 19,
   "metadata": {},
   "outputs": [],
   "source": [
    "res_gen = []\n",
    "res_true =[] \n",
    "for i,key in enumerate(df6_gen): \n",
    "    if not key  in res_gen: \n",
    "        res_gen.append(key)\n",
    "        res_true.append(df6_true[i])"
   ]
  },
  {
   "cell_type": "code",
   "execution_count": 69,
   "metadata": {},
   "outputs": [],
   "source": [
    "val_x2 =[]\n",
    "val_y2 =[]\n",
    "for i,val in enumerate(val_x):\n",
    "    if not val in res_gen:\n",
    "        val_x2.append(val_x[i])\n",
    "        val_y2.append(val_y[i])"
   ]
  },
  {
   "cell_type": "code",
   "execution_count": 70,
   "metadata": {},
   "outputs": [
    {
     "output_type": "execute_result",
     "data": {
      "text/plain": "('โรนพยาบาลขุนตาล', 'โรงพยาบาลขุนตาล', 8178, 8178)"
     },
     "metadata": {},
     "execution_count": 70
    }
   ],
   "source": [
    "val_x2[100],val_y2[100],len(val_x2),len(val_y2)"
   ]
  },
  {
   "cell_type": "code",
   "execution_count": 71,
   "metadata": {},
   "outputs": [],
   "source": [
    "val_x2 = val_x2 +['ก้าน']+['ร้าน']\n",
    "val_y2 = val_y2+['บ้าน']+['บ้าน']"
   ]
  },
  {
   "cell_type": "code",
   "execution_count": 73,
   "metadata": {},
   "outputs": [],
   "source": [
    "train_x = res_gen+hos_list+hos_list+hos_list+hos_list+hos_list\n",
    "train_y = res_true+hos_list+hos_list+hos_list+hos_list+hos_list"
   ]
  },
  {
   "cell_type": "code",
   "execution_count": 74,
   "metadata": {},
   "outputs": [
    {
     "output_type": "execute_result",
     "data": {
      "text/plain": "(85227, 77391)"
     },
     "metadata": {},
     "execution_count": 74
    }
   ],
   "source": [
    "len(train_x),len(train_y2)"
   ]
  },
  {
   "cell_type": "code",
   "execution_count": 75,
   "metadata": {},
   "outputs": [],
   "source": [
    "gen_data_df = pd.DataFrame(train_x)\n",
    "true_data_df =pd.DataFrame(train_y)\n",
    "val_x_df = pd.DataFrame(val_x2)\n",
    "val_y_df =pd.DataFrame(val_y2)"
   ]
  },
  {
   "cell_type": "code",
   "execution_count": 76,
   "metadata": {},
   "outputs": [],
   "source": [
    "gen_data_df.columns=['gen_data']\n",
    "true_data_df.columns=['true_data']\n",
    "val_x_df.columns=['gen_data']\n",
    "val_y_df.columns=['true_data']"
   ]
  },
  {
   "cell_type": "code",
   "execution_count": 77,
   "metadata": {},
   "outputs": [],
   "source": [
    "df_col_merged_train =pd.concat([gen_data_df,true_data_df],axis=1)\n",
    "df_col_merged_val = pd.concat([val_x_df,val_y_df],axis=1)"
   ]
  },
  {
   "cell_type": "code",
   "execution_count": 78,
   "metadata": {},
   "outputs": [],
   "source": [
    "df_col_merged_train.to_csv('hospital_augment_train7.csv',encoding='utf-8',index=False)\n",
    "df_col_merged_val.to_csv('hospital_augment_val7.csv',encoding='utf-8',index=False)"
   ]
  },
  {
   "cell_type": "code",
   "execution_count": 13,
   "metadata": {},
   "outputs": [],
   "source": [
    "hos_list2 = hos_list[:46]+hos_list[47:]"
   ]
  },
  {
   "cell_type": "code",
   "execution_count": 14,
   "metadata": {},
   "outputs": [
    {
     "output_type": "execute_result",
     "data": {
      "text/plain": "46"
     },
     "metadata": {},
     "execution_count": 14
    }
   ],
   "source": [
    "b = hos_list[:46]\n",
    "len(b)"
   ]
  },
  {
   "cell_type": "code",
   "execution_count": 15,
   "metadata": {},
   "outputs": [
    {
     "output_type": "execute_result",
     "data": {
      "text/plain": "1239"
     },
     "metadata": {},
     "execution_count": 15
    }
   ],
   "source": [
    "b2 = hos_list[47:]\n",
    "len(b2)"
   ]
  },
  {
   "cell_type": "code",
   "execution_count": 16,
   "metadata": {},
   "outputs": [
    {
     "output_type": "execute_result",
     "data": {
      "text/plain": "1285"
     },
     "metadata": {},
     "execution_count": 16
    }
   ],
   "source": [
    "len(hos_list2)"
   ]
  },
  {
   "cell_type": "code",
   "execution_count": 17,
   "metadata": {},
   "outputs": [],
   "source": [
    "if 'บ้าน' in hos_list2:\n",
    "    print('vao')"
   ]
  },
  {
   "cell_type": "code",
   "execution_count": 68,
   "metadata": {},
   "outputs": [],
   "source": [
    "gen_data =[]\n",
    "true_data =[]\n",
    "for i in range(25):\n",
    "    for line in hos_list2:\n",
    "        a,b = gen_gibberish(line)\n",
    "        gen_data.append(a)\n",
    "        true_data.append(b)"
   ]
  },
  {
   "cell_type": "code",
   "execution_count": 69,
   "metadata": {},
   "outputs": [
    {
     "output_type": "execute_result",
     "data": {
      "text/plain": "32125"
     },
     "metadata": {},
     "execution_count": 69
    }
   ],
   "source": [
    "len(gen_data)"
   ]
  },
  {
   "cell_type": "code",
   "execution_count": 26,
   "metadata": {},
   "outputs": [],
   "source": [
    "a1 = ['บาน']\n",
    "a2 = ['บ้า']\n",
    "a3 = ['บ้านน']\n",
    "a4 = ['ป้าน']\n",
    "a5 =['ป้านน']\n",
    "a6 =['บ็าน']\n",
    "a7= ['ข้าน']\n",
    "a8 = ['บานน']\n",
    "a9 = ['ช้าน']\n",
    "a10 = ['บ๊าน']"
   ]
  },
  {
   "cell_type": "code",
   "execution_count": 60,
   "metadata": {},
   "outputs": [],
   "source": [
    "gen_data = gen_data+a1+a2+a3+a4+a5+a6+a7+a8+a9+a10"
   ]
  },
  {
   "cell_type": "code",
   "execution_count": 61,
   "metadata": {},
   "outputs": [],
   "source": [
    "true_data = true_data +['บ้าน']*10"
   ]
  },
  {
   "cell_type": "code",
   "execution_count": 62,
   "metadata": {},
   "outputs": [],
   "source": [
    "temp_gen = gen_data[:100]"
   ]
  },
  {
   "cell_type": "code",
   "execution_count": 70,
   "metadata": {},
   "outputs": [],
   "source": [
    "# using naive method \n",
    "# to remove duplicated  \n",
    "# from list  \n",
    "res_gen = []\n",
    "res_true =[] \n",
    "for i,key in enumerate(gen_data): \n",
    "    if not key  in res_gen: \n",
    "        res_gen.append(key)\n",
    "        res_true.append(true_data[i])"
   ]
  },
  {
   "cell_type": "code",
   "execution_count": 71,
   "metadata": {},
   "outputs": [
    {
     "output_type": "execute_result",
     "data": {
      "text/plain": "21963"
     },
     "metadata": {},
     "execution_count": 71
    }
   ],
   "source": [
    "len(res_gen)"
   ]
  },
  {
   "cell_type": "code",
   "execution_count": 76,
   "metadata": {},
   "outputs": [],
   "source": [
    "k = int(len(res_gen)*.3)"
   ]
  },
  {
   "cell_type": "code",
   "execution_count": 77,
   "metadata": {},
   "outputs": [
    {
     "output_type": "execute_result",
     "data": {
      "text/plain": "6588"
     },
     "metadata": {},
     "execution_count": 77
    }
   ],
   "source": [
    "k"
   ]
  },
  {
   "cell_type": "code",
   "execution_count": 78,
   "metadata": {},
   "outputs": [],
   "source": [
    "test_x =res_gen[:k]\n",
    "test_y=res_true[:k]"
   ]
  },
  {
   "cell_type": "code",
   "execution_count": 79,
   "metadata": {},
   "outputs": [
    {
     "output_type": "execute_result",
     "data": {
      "text/plain": "(6588, 6588)"
     },
     "metadata": {},
     "execution_count": 79
    }
   ],
   "source": [
    "len(test_x),len(test_y)"
   ]
  },
  {
   "cell_type": "code",
   "execution_count": 80,
   "metadata": {},
   "outputs": [],
   "source": [
    "train_x = res_gen[k:]\n",
    "train_y = res_true[k:]"
   ]
  },
  {
   "cell_type": "code",
   "execution_count": 81,
   "metadata": {},
   "outputs": [
    {
     "output_type": "execute_result",
     "data": {
      "text/plain": "(15375, 15375)"
     },
     "metadata": {},
     "execution_count": 81
    }
   ],
   "source": [
    "len(train_x),len(train_y)"
   ]
  },
  {
   "cell_type": "code",
   "execution_count": 59,
   "metadata": {},
   "outputs": [],
   "source": [
    "df3 = pd.read_csv('hospital_augment_train_addv3.csv')"
   ]
  },
  {
   "cell_type": "code",
   "execution_count": 60,
   "metadata": {},
   "outputs": [
    {
     "output_type": "execute_result",
     "data": {
      "text/plain": "                         gen_data                       true_data\n0        -รงพยาบาลกรุงเทพพิษณุโลก        โรงพยาบาลกรุงเทพพิษณุโลก\n1                 -รงพยาบาลทุ่งฝน                 โรงพยาบาลทุ่งฝน\n2                -รงพยาบาลธนบุรี1                โรงพยาบาลธนบุรี1\n3          -รงพยาบาลนพรัตนราชธานี          โรงพยาบาลนพรัตนราชธานี\n4  -รงพยาบาลมหาวชิราลงกรณ ธัญบุรี  โรงพยาบาลมหาวชิราลงกรณ ธัญบุรี",
      "text/html": "<div>\n<style scoped>\n    .dataframe tbody tr th:only-of-type {\n        vertical-align: middle;\n    }\n\n    .dataframe tbody tr th {\n        vertical-align: top;\n    }\n\n    .dataframe thead th {\n        text-align: right;\n    }\n</style>\n<table border=\"1\" class=\"dataframe\">\n  <thead>\n    <tr style=\"text-align: right;\">\n      <th></th>\n      <th>gen_data</th>\n      <th>true_data</th>\n    </tr>\n  </thead>\n  <tbody>\n    <tr>\n      <th>0</th>\n      <td>-รงพยาบาลกรุงเทพพิษณุโลก</td>\n      <td>โรงพยาบาลกรุงเทพพิษณุโลก</td>\n    </tr>\n    <tr>\n      <th>1</th>\n      <td>-รงพยาบาลทุ่งฝน</td>\n      <td>โรงพยาบาลทุ่งฝน</td>\n    </tr>\n    <tr>\n      <th>2</th>\n      <td>-รงพยาบาลธนบุรี1</td>\n      <td>โรงพยาบาลธนบุรี1</td>\n    </tr>\n    <tr>\n      <th>3</th>\n      <td>-รงพยาบาลนพรัตนราชธานี</td>\n      <td>โรงพยาบาลนพรัตนราชธานี</td>\n    </tr>\n    <tr>\n      <th>4</th>\n      <td>-รงพยาบาลมหาวชิราลงกรณ ธัญบุรี</td>\n      <td>โรงพยาบาลมหาวชิราลงกรณ ธัญบุรี</td>\n    </tr>\n  </tbody>\n</table>\n</div>"
     },
     "metadata": {},
     "execution_count": 60
    }
   ],
   "source": [
    "df3.head()"
   ]
  },
  {
   "cell_type": "code",
   "execution_count": 61,
   "metadata": {},
   "outputs": [],
   "source": [
    "df3_trainx = list(df3['gen_data'])\n",
    "df3_trainy =list(df3['true_data'])"
   ]
  },
  {
   "cell_type": "code",
   "execution_count": 82,
   "metadata": {},
   "outputs": [],
   "source": [
    "for i,val in enumerate(df3_trainx):\n",
    "    if not val in train_x:\n",
    "        train_x.append(df3_trainx[i])\n",
    "        train_y.append(df3_trainy[i])"
   ]
  },
  {
   "cell_type": "code",
   "execution_count": 83,
   "metadata": {},
   "outputs": [
    {
     "output_type": "execute_result",
     "data": {
      "text/plain": "(66169, 66169)"
     },
     "metadata": {},
     "execution_count": 83
    }
   ],
   "source": [
    "len(train_x),len(train_y)"
   ]
  },
  {
   "cell_type": "code",
   "execution_count": 84,
   "metadata": {},
   "outputs": [
    {
     "output_type": "execute_result",
     "data": {
      "text/plain": "['โรงพยวาบาลพนมดงรัก เฉลิมฃพระญใกียรติ 80 พรรษา',\n 'โรงพยาบาลฅพนมสารคาม',\n 'โรงพยบาลพบพระ',\n 'โรงยาบาลยัคฆภูมิพิสัย',\n 'โรงพยาๆบาลพยุห์',\n 'โรงพยาบาลพยุชหะคีรี',\n 'โรงพยาบาลพรหมฌคีรี',\n 'โรงะยาบาลพรหมพิราม',\n 'โรงพยาบาลพระทแงฒคำ เฉิมพระเกียรติ 80 พระรษา',\n 'โรงพยาบาลพระชครศรีอซยุธยา']"
     },
     "metadata": {},
     "execution_count": 84
    }
   ],
   "source": [
    "train_x[:10]"
   ]
  },
  {
   "cell_type": "code",
   "execution_count": 86,
   "metadata": {},
   "outputs": [],
   "source": [
    "df_add = pd.read_csv('hospital_wrong5.csv')"
   ]
  },
  {
   "cell_type": "code",
   "execution_count": 87,
   "metadata": {},
   "outputs": [],
   "source": [
    "gen_df_train = pd.DataFrame(train_x)\n",
    "true_df_train = pd.DataFrame(train_y)\n",
    "gen_df_test =pd.DataFrame(test_x)\n",
    "true_df_test =pd.DataFrame(test_y)"
   ]
  },
  {
   "cell_type": "code",
   "execution_count": 88,
   "metadata": {},
   "outputs": [],
   "source": [
    "gen_df_train.columns=['gen_data']\n",
    "true_df_train.columns=['true_data']\n",
    "gen_df_test.columns =['gen_data']\n",
    "true_df_test.columns =['true_data']"
   ]
  },
  {
   "cell_type": "code",
   "execution_count": 89,
   "metadata": {},
   "outputs": [],
   "source": [
    "df_col_merged_train =pd.concat([gen_df_train,true_df_train],axis=1)\n",
    "df_col_merged_test =pd.concat([gen_df_test,true_df_test],axis=1)"
   ]
  },
  {
   "cell_type": "code",
   "execution_count": 90,
   "metadata": {},
   "outputs": [],
   "source": [
    "df_train_new = pd.concat([df_col_merged_train,df_add],axis=0)"
   ]
  },
  {
   "cell_type": "code",
   "execution_count": 91,
   "metadata": {},
   "outputs": [],
   "source": [
    "df_train_new.to_csv('hospital_augment_train_addv5.csv',index=False)\n",
    "df_col_merged_test.to_csv('hospital_augment_test_addv5.csv',index=False)"
   ]
  },
  {
   "cell_type": "code",
   "execution_count": 92,
   "metadata": {},
   "outputs": [
    {
     "output_type": "execute_result",
     "data": {
      "text/plain": "                                        gen_data  \\\n0  โรงพยวาบาลพนมดงรัก เฉลิมฃพระญใกียรติ 80 พรรษา   \n1                            โรงพยาบาลฅพนมสารคาม   \n2                                  โรงพยบาลพบพระ   \n3                          โรงยาบาลยัคฆภูมิพิสัย   \n4                                โรงพยาๆบาลพยุห์   \n\n                                    true_data  \n0  โรงพยาบาลพนมดงรัก เฉลิมพระเกียรติ 80 พรรษา  \n1                          โรงพยาบาลพนมสารคาม  \n2                              โรงพยาบาลพบพระ  \n3                     โรงพยาบาลพยัคฆภูมิพิสัย  \n4                              โรงพยาบาลพยุห์  ",
      "text/html": "<div>\n<style scoped>\n    .dataframe tbody tr th:only-of-type {\n        vertical-align: middle;\n    }\n\n    .dataframe tbody tr th {\n        vertical-align: top;\n    }\n\n    .dataframe thead th {\n        text-align: right;\n    }\n</style>\n<table border=\"1\" class=\"dataframe\">\n  <thead>\n    <tr style=\"text-align: right;\">\n      <th></th>\n      <th>gen_data</th>\n      <th>true_data</th>\n    </tr>\n  </thead>\n  <tbody>\n    <tr>\n      <th>0</th>\n      <td>โรงพยวาบาลพนมดงรัก เฉลิมฃพระญใกียรติ 80 พรรษา</td>\n      <td>โรงพยาบาลพนมดงรัก เฉลิมพระเกียรติ 80 พรรษา</td>\n    </tr>\n    <tr>\n      <th>1</th>\n      <td>โรงพยาบาลฅพนมสารคาม</td>\n      <td>โรงพยาบาลพนมสารคาม</td>\n    </tr>\n    <tr>\n      <th>2</th>\n      <td>โรงพยบาลพบพระ</td>\n      <td>โรงพยาบาลพบพระ</td>\n    </tr>\n    <tr>\n      <th>3</th>\n      <td>โรงยาบาลยัคฆภูมิพิสัย</td>\n      <td>โรงพยาบาลพยัคฆภูมิพิสัย</td>\n    </tr>\n    <tr>\n      <th>4</th>\n      <td>โรงพยาๆบาลพยุห์</td>\n      <td>โรงพยาบาลพยุห์</td>\n    </tr>\n  </tbody>\n</table>\n</div>"
     },
     "metadata": {},
     "execution_count": 92
    }
   ],
   "source": [
    "df_train_new.head()"
   ]
  },
  {
   "cell_type": "code",
   "execution_count": null,
   "metadata": {},
   "outputs": [],
   "source": [
    "len(res_gen)\n",
    "len(res_true)"
   ]
  },
  {
   "cell_type": "code",
   "execution_count": 78,
   "metadata": {},
   "outputs": [],
   "source": [
    "# using naive method \n",
    "# to remove duplicated  \n",
    "# from list  \n",
    "res_gen = []\n",
    "res_true =[] \n",
    "for i,key in enumerate(gen_data): \n",
    "    if key not in res_gen: \n",
    "        res_gen.append(key)\n",
    "        res_true.append(true_data[i])"
   ]
  },
  {
   "cell_type": "code",
   "execution_count": 79,
   "metadata": {},
   "outputs": [
    {
     "output_type": "execute_result",
     "data": {
      "text/plain": "708832"
     },
     "metadata": {},
     "execution_count": 79
    }
   ],
   "source": [
    "len(res_gen)\n",
    "len(res_true)"
   ]
  },
  {
   "cell_type": "code",
   "execution_count": 89,
   "metadata": {},
   "outputs": [],
   "source": [
    "import random"
   ]
  },
  {
   "cell_type": "code",
   "execution_count": 93,
   "metadata": {},
   "outputs": [],
   "source": [
    "random.shuffle(res_gen)"
   ]
  },
  {
   "cell_type": "code",
   "execution_count": 95,
   "metadata": {},
   "outputs": [],
   "source": [
    "random.shuffle(res_true)"
   ]
  },
  {
   "cell_type": "code",
   "execution_count": 98,
   "metadata": {},
   "outputs": [],
   "source": [
    "train_data_gen =[]\n",
    "train_data_true =[]\n",
    "val_data_gen =[]\n",
    "val_data_true =[]\n",
    "for i in range(0,len(res_gen),10):\n",
    "    val_data_gen.append(res_gen[i])\n",
    "    val_data_true.append(res_true[i])"
   ]
  },
  {
   "cell_type": "code",
   "execution_count": 99,
   "metadata": {},
   "outputs": [
    {
     "output_type": "execute_result",
     "data": {
      "text/plain": "70884"
     },
     "metadata": {},
     "execution_count": 99
    }
   ],
   "source": [
    "len(val_data_gen)"
   ]
  },
  {
   "cell_type": "code",
   "execution_count": 100,
   "metadata": {},
   "outputs": [],
   "source": [
    "for i,key in enumerate(res_gen):\n",
    "    if not key in val_data_gen:\n",
    "        train_data_gen.append(res_gen[i])\n",
    "        train_data_true.append(res_true[i])\n"
   ]
  },
  {
   "cell_type": "code",
   "execution_count": 102,
   "metadata": {},
   "outputs": [],
   "source": [
    "test_data_gen =[]\n",
    "test_data_true=[]\n",
    "for i in range(0,len(train_data_gen),10):\n",
    "    test_data_gen.append(train_data_gen[i])\n",
    "    test_data_true.append(train_data_true[i])"
   ]
  },
  {
   "cell_type": "code",
   "execution_count": 104,
   "metadata": {},
   "outputs": [],
   "source": [
    "train_gen =[]\n",
    "train_true = []\n",
    "for i,key in enumerate(train_data_gen):\n",
    "    if not key in test_data_gen:\n",
    "        train_gen.append(train_data_gen[i])\n",
    "        train_true.append(train_data_true[i])"
   ]
  },
  {
   "cell_type": "code",
   "execution_count": 105,
   "metadata": {},
   "outputs": [
    {
     "output_type": "execute_result",
     "data": {
      "text/plain": "(574153, 70884, 63795)"
     },
     "metadata": {},
     "execution_count": 105
    }
   ],
   "source": [
    "len(train_gen),len(val_data_gen),len(test_data_gen)"
   ]
  },
  {
   "cell_type": "code",
   "execution_count": 106,
   "metadata": {},
   "outputs": [],
   "source": [
    "train_gen_out = train_gen + hos_list\n",
    "train_true_out = train_true +hos_list\n",
    "val_gen_out = val_data_gen\n",
    "val_true_out = val_data_true\n",
    "test_gen_out = test_data_gen\n",
    "test_true_out = test_data_true"
   ]
  },
  {
   "cell_type": "code",
   "execution_count": 107,
   "metadata": {},
   "outputs": [],
   "source": [
    "gen_df_train = pd.DataFrame(train_gen_out)\n",
    "true_df_train = pd.DataFrame(train_true_out)\n",
    "gen_df_val =pd.DataFrame(val_gen_out)\n",
    "true_df_val =pd.DataFrame(val_true_out)\n",
    "gen_df_test =pd.DataFrame(test_gen_out)\n",
    "true_df_test =pd.DataFrame(test_true_out)"
   ]
  },
  {
   "cell_type": "code",
   "execution_count": 108,
   "metadata": {},
   "outputs": [],
   "source": [
    "gen_df_train.columns=['gen_data']\n",
    "true_df_train.columns=['true_data']\n",
    "gen_df_val.columns =['gen_data']\n",
    "true_df_val.columns =['true_data']\n",
    "gen_df_test.columns =['gen_data']\n",
    "true_df_test.columns =['true_data']"
   ]
  },
  {
   "cell_type": "code",
   "execution_count": 109,
   "metadata": {},
   "outputs": [],
   "source": [
    "df_col_merged_train =pd.concat([gen_df_train,true_df_train],axis=1)"
   ]
  },
  {
   "cell_type": "code",
   "execution_count": 110,
   "metadata": {},
   "outputs": [],
   "source": [
    "df_col_merged_val =pd.concat([gen_df_val,true_df_val],axis=1)\n",
    "df_col_merged_test =pd.concat([gen_df_test,true_df_test],axis=1)"
   ]
  },
  {
   "cell_type": "code",
   "execution_count": 111,
   "metadata": {},
   "outputs": [],
   "source": [
    "df_col_merged_train.to_csv('hospital_augment_train4.csv',index=False)\n",
    "df_col_merged_val.to_csv('hospital_augment_val4.csv',index=False)\n",
    "df_col_merged_test.to_csv('hospital_augment_test4.csv',index=False)"
   ]
  },
  {
   "cell_type": "code",
   "execution_count": 13,
   "metadata": {},
   "outputs": [],
   "source": [
    "import random"
   ]
  },
  {
   "cell_type": "code",
   "execution_count": 31,
   "metadata": {},
   "outputs": [],
   "source": [
    "def gen_delete(text,per=0.15):\n",
    "    e = np.random.uniform() \n",
    "    if e <0.1:\n",
    "        return text\n",
    "    r = np.random.randint(len(list(text)))\n",
    "    text_lst = list(text)\n",
    "    del text_lst[r]\n",
    "    return ''.join(text_lst)"
   ]
  },
  {
   "cell_type": "code",
   "execution_count": 32,
   "metadata": {},
   "outputs": [],
   "source": [
    "def gen_insert(text,per=0.15):\n",
    "    e = np.random.uniform() \n",
    "    if e <0.1:\n",
    "        return text\n",
    "    index = np.random.randint(len(list(text)))\n",
    "    char = random.choice(char_set)\n",
    "    text_list = list(text)\n",
    "    text_list.insert(index, char)\n",
    "    return ''.join(text_list)"
   ]
  },
  {
   "cell_type": "code",
   "execution_count": 33,
   "metadata": {},
   "outputs": [],
   "source": [
    "def gen_substitution(text,per=0.15):\n",
    "    e = np.random.uniform() \n",
    "    if e <0.1:\n",
    "        return text\n",
    "    index = np.random.randint(len(list(text)))\n",
    "    char = random.choice(char_set)\n",
    "    text_list = list(text)\n",
    "    text_list[index] = char\n",
    "    return ''.join(text_list)"
   ]
  },
  {
   "cell_type": "code",
   "execution_count": 34,
   "metadata": {},
   "outputs": [],
   "source": [
    "delete_hos = []\n",
    "delete_hos_true =[]\n",
    "for i in range(10):\n",
    "    for p in hos_list:\n",
    "        delete_hos.append(gen_delete(p))\n",
    "        delete_hos_true.append(p)"
   ]
  },
  {
   "cell_type": "code",
   "execution_count": 35,
   "metadata": {},
   "outputs": [],
   "source": [
    "insert_hos = []\n",
    "insert_hos_true =[]\n",
    "for i in range(10):\n",
    "    for p in hos_list:\n",
    "        insert_hos.append(gen_insert(p))\n",
    "        insert_hos_true.append(p)"
   ]
  },
  {
   "cell_type": "code",
   "execution_count": 36,
   "metadata": {},
   "outputs": [],
   "source": [
    "sub_hos = []\n",
    "sub_hos_true =[]\n",
    "for i in range(10):\n",
    "    for p in hos_list:\n",
    "        sub_hos.append(gen_substitution(p))\n",
    "        sub_hos_true.append(p)"
   ]
  },
  {
   "cell_type": "code",
   "execution_count": 37,
   "metadata": {},
   "outputs": [],
   "source": [
    "gen_data2 = delete_hos+ insert_hos+sub_hos\n",
    "true_data2 = delete_hos_true + insert_hos_true+sub_hos_true"
   ]
  },
  {
   "cell_type": "code",
   "execution_count": 38,
   "metadata": {},
   "outputs": [
    {
     "output_type": "execute_result",
     "data": {
      "text/plain": "(38700, 38700)"
     },
     "metadata": {},
     "execution_count": 38
    }
   ],
   "source": [
    "len(gen_data2),len(true_data2)"
   ]
  },
  {
   "cell_type": "code",
   "execution_count": 55,
   "metadata": {},
   "outputs": [
    {
     "output_type": "execute_result",
     "data": {
      "text/plain": "(708628, 708628)"
     },
     "metadata": {},
     "execution_count": 55
    }
   ],
   "source": [
    "len(res_gen),len(res_true)"
   ]
  },
  {
   "cell_type": "code",
   "execution_count": 56,
   "metadata": {},
   "outputs": [],
   "source": [
    "ture_idx = len(res_true) -1290"
   ]
  },
  {
   "cell_type": "code",
   "execution_count": 57,
   "metadata": {},
   "outputs": [],
   "source": [
    "gen_data = res_gen[:ture_idx]\n",
    "true_dat = res_true[:ture_idx]"
   ]
  },
  {
   "cell_type": "code",
   "execution_count": 68,
   "metadata": {},
   "outputs": [
    {
     "output_type": "execute_result",
     "data": {
      "text/plain": "('โร8พยาบาลร่มฉัตร', 'โรงพยาบาลโพธาราม')"
     },
     "metadata": {},
     "execution_count": 68
    }
   ],
   "source": [
    "gen_data[2000],true_data[2000]"
   ]
  },
  {
   "cell_type": "code",
   "execution_count": 65,
   "metadata": {},
   "outputs": [],
   "source": [
    "train_data_gen =[]\n",
    "train_data_true =[]\n",
    "val_data_gen =[]\n",
    "val_data_true =[]\n",
    "for i in range(0,len(gen_data),15):\n",
    "    val_data_gen.append(gen_data[i])\n",
    "    val_data_true.append(true_data[i])"
   ]
  },
  {
   "cell_type": "code",
   "execution_count": 67,
   "metadata": {},
   "outputs": [
    {
     "output_type": "execute_result",
     "data": {
      "text/plain": "70734"
     },
     "metadata": {},
     "execution_count": 67
    }
   ],
   "source": [
    "len(val_data_gen)"
   ]
  },
  {
   "cell_type": "code",
   "execution_count": 46,
   "metadata": {},
   "outputs": [],
   "source": [
    "for i,key in enumerate(res_gen):\n",
    "    if not key in val_data_true:\n",
    "        train_data_gen.append(key)\n",
    "        train_data_true.append(res_true[i])"
   ]
  },
  {
   "cell_type": "code",
   "execution_count": 47,
   "metadata": {},
   "outputs": [
    {
     "output_type": "execute_result",
     "data": {
      "text/plain": "(32369, 3353, 32369, 3353)"
     },
     "metadata": {},
     "execution_count": 47
    }
   ],
   "source": [
    "len(train_data_gen),len(val_data_gen),len(train_data_true),len(val_data_true)"
   ]
  },
  {
   "cell_type": "code",
   "execution_count": 48,
   "metadata": {},
   "outputs": [
    {
     "output_type": "execute_result",
     "data": {
      "text/plain": "('โรงพาบาลบ้านลาด', 'โรงพยาบาลบ้านลาด')"
     },
     "metadata": {},
     "execution_count": 48
    }
   ],
   "source": [
    "train_data_gen[500],train_data_true[500]"
   ]
  },
  {
   "cell_type": "code",
   "execution_count": 49,
   "metadata": {},
   "outputs": [],
   "source": [
    "test_data_gen =[]\n",
    "test_data_true =[]\n",
    "for i in range(0,len(train_data_gen),12):\n",
    "    test_data_gen.append(train_data_gen[i])\n",
    "    test_data_true.append(train_data_true[i])"
   ]
  },
  {
   "cell_type": "code",
   "execution_count": 50,
   "metadata": {},
   "outputs": [],
   "source": [
    "train_data_gen_res =[]\n",
    "train_data_true_res =[]\n",
    "for i,key in enumerate(train_data_gen):\n",
    "    if not key in test_data_gen:\n",
    "        train_data_gen_res.append(train_data_gen[i])\n",
    "        train_data_true_res.append(train_data_true[i])"
   ]
  },
  {
   "cell_type": "code",
   "execution_count": 51,
   "metadata": {},
   "outputs": [
    {
     "output_type": "execute_result",
     "data": {
      "text/plain": "('คลินิกรุงเทพพัทยาสาขาจอมเทียน', 'คลินิกกรุงเทพพัทยาสาขาจอมเทียน')"
     },
     "metadata": {},
     "execution_count": 51
    }
   ],
   "source": [
    "train_data_gen[0],train_data_true[0]"
   ]
  },
  {
   "cell_type": "code",
   "execution_count": 52,
   "metadata": {},
   "outputs": [
    {
     "output_type": "execute_result",
     "data": {
      "text/plain": "(29671, 3353, 2698)"
     },
     "metadata": {},
     "execution_count": 52
    }
   ],
   "source": [
    "len(train_data_true_res),len(val_data_gen),len(test_data_gen)"
   ]
  },
  {
   "cell_type": "code",
   "execution_count": 53,
   "metadata": {},
   "outputs": [],
   "source": [
    "train_gen = train_data_gen_res + hos_list\n",
    "train_true = train_data_true_res +hos_list\n",
    "val_gen = val_data_gen\n",
    "val_true = val_data_true\n",
    "test_gen = test_data_gen\n",
    "test_true = test_data_true"
   ]
  },
  {
   "cell_type": "code",
   "execution_count": 54,
   "metadata": {},
   "outputs": [],
   "source": [
    "gen_df_train = pd.DataFrame(train_gen)\n",
    "true_df_train = pd.DataFrame(train_true)\n",
    "gen_df_val =pd.DataFrame(val_gen)\n",
    "true_df_val =pd.DataFrame(val_true)\n",
    "gen_df_test =pd.DataFrame(test_data_gen)\n",
    "true_df_test =pd.DataFrame(test_data_true)"
   ]
  },
  {
   "cell_type": "code",
   "execution_count": 55,
   "metadata": {},
   "outputs": [],
   "source": [
    "gen_df_train.columns=['gen_data']\n",
    "true_df_train.columns=['true_data']\n",
    "gen_df_val.columns =['gen_data']\n",
    "true_df_val.columns =['true_data']\n",
    "gen_df_test.columns =['gen_data']\n",
    "true_df_test.columns =['true_data']"
   ]
  },
  {
   "cell_type": "code",
   "execution_count": 56,
   "metadata": {},
   "outputs": [
    {
     "output_type": "execute_result",
     "data": {
      "text/plain": "(30961, 3353, 2698)"
     },
     "metadata": {},
     "execution_count": 56
    }
   ],
   "source": [
    "len(gen_df_train),len(gen_df_val),len(gen_df_test)"
   ]
  },
  {
   "cell_type": "code",
   "execution_count": 57,
   "metadata": {},
   "outputs": [],
   "source": [
    "df_col_merged_train =pd.concat([gen_df_train,true_df_train],axis=1)"
   ]
  },
  {
   "cell_type": "code",
   "execution_count": 58,
   "metadata": {},
   "outputs": [],
   "source": [
    "df_col_merged_val =pd.concat([gen_df_val,true_df_val],axis=1)\n",
    "df_col_merged_test =pd.concat([gen_df_test,true_df_test],axis=1)"
   ]
  },
  {
   "cell_type": "code",
   "execution_count": 59,
   "metadata": {},
   "outputs": [],
   "source": [
    "df_col_merged_train.to_csv('hospital_augment_train3.csv',index=False)\n",
    "df_col_merged_val.to_csv('hospital_augment_val3.csv',index=False)\n",
    "df_col_merged_test.to_csv('hospital_augment_test3.csv',index=False)"
   ]
  },
  {
   "cell_type": "code",
   "execution_count": 87,
   "metadata": {},
   "outputs": [],
   "source": [
    "df_col_merged2.to_csv('hospital_augment2_val.csv',index=False)"
   ]
  },
  {
   "cell_type": "code",
   "execution_count": 167,
   "metadata": {},
   "outputs": [
    {
     "output_type": "execute_result",
     "data": {
      "text/plain": "12900"
     },
     "metadata": {},
     "execution_count": 167
    }
   ],
   "source": [
    "len(sub_hos)"
   ]
  },
  {
   "cell_type": "code",
   "execution_count": 109,
   "metadata": {},
   "outputs": [],
   "source": [
    "df_test = pd.read_csv('hospital_augment_test.csv')"
   ]
  },
  {
   "cell_type": "code",
   "execution_count": 110,
   "metadata": {},
   "outputs": [],
   "source": [
    "df_test_gen = list(df_test['gen_data'])\n",
    "df_test_true = list(df"
   ]
  },
  {
   "cell_type": "code",
   "execution_count": 142,
   "metadata": {},
   "outputs": [],
   "source": [
    "df_test_read = pd.read_csv('hospital_augment_test2.csv')"
   ]
  },
  {
   "cell_type": "code",
   "execution_count": 148,
   "metadata": {},
   "outputs": [],
   "source": [
    "list_test_gen = list(df_test_read['gen_data'])\n",
    "list_test_true = list(df_test_read['true_data'])"
   ]
  },
  {
   "cell_type": "code",
   "execution_count": 149,
   "metadata": {},
   "outputs": [],
   "source": [
    "test_gen_res =[]\n",
    "test_true_res=[]\n",
    "for i in range(0,len(list_test_gen),2):\n",
    "    test_gen_res.append(list_test_gen[i])\n",
    "    test_true_res.append(list_test_true[i])"
   ]
  },
  {
   "cell_type": "code",
   "execution_count": 150,
   "metadata": {},
   "outputs": [],
   "source": [
    "gen_df_test2=pd.DataFrame(test_gen_res)\n",
    "true_df_test2 =pd.DataFrame(test_true_res)"
   ]
  },
  {
   "cell_type": "code",
   "execution_count": 151,
   "metadata": {},
   "outputs": [
    {
     "output_type": "execute_result",
     "data": {
      "text/plain": "3831"
     },
     "metadata": {},
     "execution_count": 151
    }
   ],
   "source": [
    "len(gen_df_test2)"
   ]
  },
  {
   "cell_type": "code",
   "execution_count": 152,
   "metadata": {},
   "outputs": [],
   "source": [
    "gen_df_test2.columns =['gen_data']\n",
    "true_df_test2.columns =['true_data']"
   ]
  },
  {
   "cell_type": "code",
   "execution_count": 153,
   "metadata": {},
   "outputs": [],
   "source": [
    "df_col_merged_test =pd.concat([gen_df_test2,true_df_test2],axis=1)"
   ]
  },
  {
   "cell_type": "code",
   "execution_count": 154,
   "metadata": {},
   "outputs": [],
   "source": [
    "df_col_merged_test.to_csv('hospital_augment_test2.csv',index=False)"
   ]
  },
  {
   "cell_type": "code",
   "execution_count": null,
   "metadata": {},
   "outputs": [],
   "source": []
  }
 ],
 "metadata": {
  "language_info": {
   "codemirror_mode": {
    "name": "ipython",
    "version": 3
   },
   "file_extension": ".py",
   "mimetype": "text/x-python",
   "name": "python",
   "nbconvert_exporter": "python",
   "pygments_lexer": "ipython3",
   "version": "3.7.7-final"
  },
  "orig_nbformat": 2,
  "kernelspec": {
   "name": "python3",
   "display_name": "Python 3"
  }
 },
 "nbformat": 4,
 "nbformat_minor": 2
}