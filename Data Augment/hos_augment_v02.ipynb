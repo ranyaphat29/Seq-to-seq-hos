{
 "cells": [
  {
   "cell_type": "code",
   "execution_count": 99,
   "metadata": {},
   "outputs": [],
   "source": [
    "%matplotlib inline\n",
    "import matplotlib.pyplot as plt\n",
    "import numpy as np # linear algebra\n",
    "import pandas as pd # data processing, CSV file I/O (e.g. pd.read_csv)\n",
    "import os\n",
    "import tensorflow as tf"
   ]
  },
  {
   "cell_type": "code",
   "execution_count": 100,
   "metadata": {},
   "outputs": [
    {
     "output_type": "stream",
     "name": "stdout",
     "text": "1 Physical GPUs, 1 Logical GPUs\n"
    }
   ],
   "source": [
    "##### Limit GPU for training ###\n",
    "gpus = tf.config.experimental.list_physical_devices('GPU')\n",
    "if gpus:\n",
    "    try:\n",
    "        # Restrict TensorFlow to only use the fourth GPU\n",
    "        tf.config.experimental.set_visible_devices(gpus[0], 'GPU')\n",
    "\n",
    "        # Currently, memory growth needs to be the same across GPUs\n",
    "        for gpu in gpus:\n",
    "            tf.config.experimental.set_memory_growth(gpu, True)\n",
    "        logical_gpus = tf.config.experimental.list_logical_devices('GPU')\n",
    "        print(len(gpus), \"Physical GPUs,\", len(logical_gpus), \"Logical GPUs\")\n",
    "    except RuntimeError as e:\n",
    "        # Memory growth must be set before GPUs have been initialized\n",
    "        print(e)"
   ]
  },
  {
   "cell_type": "code",
   "execution_count": 3,
   "metadata": {},
   "outputs": [],
   "source": [
    "### read hopital names from datasets ###\n",
    "df = pd.read_csv(r'hospital_v3.csv')"
   ]
  },
  {
   "cell_type": "code",
   "execution_count": 4,
   "metadata": {},
   "outputs": [
    {
     "output_type": "execute_result",
     "data": {
      "text/plain": "                                  name\n0       คลินิกกรุงเทพพัทยาสาขาจอมเทียน\n1         คลินิกกรุงเทพระยองสาขาบ่อวิน\n2        คลินิกกรุงเทพระยองสาขาบ้านฉาง\n3        คลินิกกรุงเทพระยองสาขาปลวกแดง\n4  คลินิกไทยอินเตอร์การแพทย์(เกาะพงัน)",
      "text/html": "<div>\n<style scoped>\n    .dataframe tbody tr th:only-of-type {\n        vertical-align: middle;\n    }\n\n    .dataframe tbody tr th {\n        vertical-align: top;\n    }\n\n    .dataframe thead th {\n        text-align: right;\n    }\n</style>\n<table border=\"1\" class=\"dataframe\">\n  <thead>\n    <tr style=\"text-align: right;\">\n      <th></th>\n      <th>name</th>\n    </tr>\n  </thead>\n  <tbody>\n    <tr>\n      <th>0</th>\n      <td>คลินิกกรุงเทพพัทยาสาขาจอมเทียน</td>\n    </tr>\n    <tr>\n      <th>1</th>\n      <td>คลินิกกรุงเทพระยองสาขาบ่อวิน</td>\n    </tr>\n    <tr>\n      <th>2</th>\n      <td>คลินิกกรุงเทพระยองสาขาบ้านฉาง</td>\n    </tr>\n    <tr>\n      <th>3</th>\n      <td>คลินิกกรุงเทพระยองสาขาปลวกแดง</td>\n    </tr>\n    <tr>\n      <th>4</th>\n      <td>คลินิกไทยอินเตอร์การแพทย์(เกาะพงัน)</td>\n    </tr>\n  </tbody>\n</table>\n</div>"
     },
     "metadata": {},
     "execution_count": 4
    }
   ],
   "source": [
    "df.head()"
   ]
  },
  {
   "cell_type": "code",
   "execution_count": 11,
   "metadata": {},
   "outputs": [],
   "source": [
    "df_addv3 = pd.read_csv(r'hospital_v3add.csv')"
   ]
  },
  {
   "cell_type": "code",
   "execution_count": 12,
   "metadata": {},
   "outputs": [
    {
     "output_type": "execute_result",
     "data": {
      "text/plain": "                          name\n0  โรงพยาบาลสินแพทย์ รามอินทรา\n1    โรงพยาบาลสินแพทย์ ลำลูกกา\n2         โรงพยาบาลอินทรารัตน์\n3          โรงพยาบาลกล้วยน้ำไท\n4     โรงพยาบาลสมเด็จเจ้าพระยา",
      "text/html": "<div>\n<style scoped>\n    .dataframe tbody tr th:only-of-type {\n        vertical-align: middle;\n    }\n\n    .dataframe tbody tr th {\n        vertical-align: top;\n    }\n\n    .dataframe thead th {\n        text-align: right;\n    }\n</style>\n<table border=\"1\" class=\"dataframe\">\n  <thead>\n    <tr style=\"text-align: right;\">\n      <th></th>\n      <th>name</th>\n    </tr>\n  </thead>\n  <tbody>\n    <tr>\n      <th>0</th>\n      <td>โรงพยาบาลสินแพทย์ รามอินทรา</td>\n    </tr>\n    <tr>\n      <th>1</th>\n      <td>โรงพยาบาลสินแพทย์ ลำลูกกา</td>\n    </tr>\n    <tr>\n      <th>2</th>\n      <td>โรงพยาบาลอินทรารัตน์</td>\n    </tr>\n    <tr>\n      <th>3</th>\n      <td>โรงพยาบาลกล้วยน้ำไท</td>\n    </tr>\n    <tr>\n      <th>4</th>\n      <td>โรงพยาบาลสมเด็จเจ้าพระยา</td>\n    </tr>\n  </tbody>\n</table>\n</div>"
     },
     "metadata": {},
     "execution_count": 12
    }
   ],
   "source": [
    "df_addv3.head()"
   ]
  },
  {
   "cell_type": "code",
   "execution_count": 25,
   "metadata": {},
   "outputs": [],
   "source": [
    "df_new = pd.concat([df,df_addv3],axis=0)"
   ]
  },
  {
   "cell_type": "code",
   "execution_count": 27,
   "metadata": {},
   "outputs": [],
   "source": [
    "df_new.to_csv('hospital_v4.csv',index=False)"
   ]
  },
  {
   "cell_type": "code",
   "execution_count": 26,
   "metadata": {},
   "outputs": [
    {
     "output_type": "execute_result",
     "data": {
      "text/plain": "                                   name\n0        คลินิกกรุงเทพพัทยาสาขาจอมเทียน\n1          คลินิกกรุงเทพระยองสาขาบ่อวิน\n2         คลินิกกรุงเทพระยองสาขาบ้านฉาง\n3         คลินิกกรุงเทพระยองสาขาปลวกแดง\n4   คลินิกไทยอินเตอร์การแพทย์(เกาะพงัน)\n..                                  ...\n84                 โรงพยาบาลทหารผ่านศึก\n85                 โรงพยาบาลอานันทมหิดล\n86             ศูนย์การแพทย์กาญจนาภิเษก\n87               โรงพยาบาลตา หู คอ จมูก\n88                     โรงพยาบาลศิริราช\n\n[1375 rows x 1 columns]",
      "text/html": "<div>\n<style scoped>\n    .dataframe tbody tr th:only-of-type {\n        vertical-align: middle;\n    }\n\n    .dataframe tbody tr th {\n        vertical-align: top;\n    }\n\n    .dataframe thead th {\n        text-align: right;\n    }\n</style>\n<table border=\"1\" class=\"dataframe\">\n  <thead>\n    <tr style=\"text-align: right;\">\n      <th></th>\n      <th>name</th>\n    </tr>\n  </thead>\n  <tbody>\n    <tr>\n      <th>0</th>\n      <td>คลินิกกรุงเทพพัทยาสาขาจอมเทียน</td>\n    </tr>\n    <tr>\n      <th>1</th>\n      <td>คลินิกกรุงเทพระยองสาขาบ่อวิน</td>\n    </tr>\n    <tr>\n      <th>2</th>\n      <td>คลินิกกรุงเทพระยองสาขาบ้านฉาง</td>\n    </tr>\n    <tr>\n      <th>3</th>\n      <td>คลินิกกรุงเทพระยองสาขาปลวกแดง</td>\n    </tr>\n    <tr>\n      <th>4</th>\n      <td>คลินิกไทยอินเตอร์การแพทย์(เกาะพงัน)</td>\n    </tr>\n    <tr>\n      <th>...</th>\n      <td>...</td>\n    </tr>\n    <tr>\n      <th>84</th>\n      <td>โรงพยาบาลทหารผ่านศึก</td>\n    </tr>\n    <tr>\n      <th>85</th>\n      <td>โรงพยาบาลอานันทมหิดล</td>\n    </tr>\n    <tr>\n      <th>86</th>\n      <td>ศูนย์การแพทย์กาญจนาภิเษก</td>\n    </tr>\n    <tr>\n      <th>87</th>\n      <td>โรงพยาบาลตา หู คอ จมูก</td>\n    </tr>\n    <tr>\n      <th>88</th>\n      <td>โรงพยาบาลศิริราช</td>\n    </tr>\n  </tbody>\n</table>\n<p>1375 rows × 1 columns</p>\n</div>"
     },
     "metadata": {},
     "execution_count": 26
    }
   ],
   "source": [
    "df_new"
   ]
  },
  {
   "cell_type": "code",
   "execution_count": 5,
   "metadata": {},
   "outputs": [],
   "source": [
    "from pythainlp import thai_letters"
   ]
  },
  {
   "cell_type": "code",
   "execution_count": 6,
   "metadata": {},
   "outputs": [],
   "source": [
    "label_map_0 = [\"0\",\"1\",\"2\",\"3\",\"4\",\"5\",\"6\",\"7\",\"8\",\"9\",\"-\",\".\",\"/\",\"(\",\")\",\"\\\"\",\"&\"]\n",
    "label_map_1 = list(thai_letters)\n",
    "char_set = label_map_0+label_map_1"
   ]
  },
  {
   "cell_type": "code",
   "execution_count": 7,
   "metadata": {},
   "outputs": [
    {
     "output_type": "execute_result",
     "data": {
      "text/plain": "90"
     },
     "metadata": {},
     "execution_count": 7
    }
   ],
   "source": [
    "len(char_set)"
   ]
  },
  {
   "cell_type": "code",
   "execution_count": 8,
   "metadata": {},
   "outputs": [],
   "source": [
    "char2int = { char_set[x]:x for x in range(len(char_set)) }\n",
    "int2char = { char2int[x]:x for x in char_set }"
   ]
  },
  {
   "cell_type": "code",
   "execution_count": 9,
   "metadata": {},
   "outputs": [],
   "source": [
    "#thresh - 0 to 1\n",
    "import random\n",
    "def gen_gibberish(line,thresh=0.15):\n",
    "    text_true = line\n",
    "    times = int(random.randrange(1,len(line)) * thresh)\n",
    "    '''\n",
    "    Types of replacement:\n",
    "        1.Delete random character.\n",
    "        2.Add random character.\n",
    "        3.Replace a character.\n",
    "        4.Combination?\n",
    "    '''\n",
    "    while times!=0:\n",
    "        # try to gen noise length times...\n",
    "        times-=1\n",
    "        val = random.randrange(0,10)\n",
    "        if val <= 5:\n",
    "            #get random index\n",
    "            val = random.randrange(0,10)\n",
    "            index = random.randrange(2,len(line))\n",
    "            if val <= 3 :\n",
    "                #delete character\n",
    "                line = line[:index]+line[index+1:]\n",
    "            else:\n",
    "                #add character\n",
    "                insert_index = random.randrange(0,len(char_set))\n",
    "                line = line[:index] + char_set[insert_index] + line[index:]\n",
    "        else:\n",
    "            index = random.randrange(0,len(char_set))\n",
    "            replace_index = random.randrange(2,len(line))\n",
    "            line = line[:replace_index] + char_set[index] + line[replace_index+1:]\n",
    "    return line,text_true"
   ]
  },
  {
   "cell_type": "code",
   "execution_count": 53,
   "metadata": {},
   "outputs": [
    {
     "output_type": "execute_result",
     "data": {
      "text/plain": "1375"
     },
     "metadata": {},
     "execution_count": 53
    }
   ],
   "source": [
    "hos_list = list(df_new['name'])\n",
    "len(hos_list)"
   ]
  },
  {
   "cell_type": "code",
   "execution_count": 55,
   "metadata": {},
   "outputs": [
    {
     "output_type": "execute_result",
     "data": {
      "text/plain": "'บ้าน'"
     },
     "metadata": {},
     "execution_count": 55
    }
   ],
   "source": [
    "b = hos_list[:46]\n",
    "hos_list[46]"
   ]
  },
  {
   "cell_type": "code",
   "execution_count": 57,
   "metadata": {},
   "outputs": [
    {
     "output_type": "execute_result",
     "data": {
      "text/plain": "1328"
     },
     "metadata": {},
     "execution_count": 57
    }
   ],
   "source": [
    "b2 = hos_list[47:]\n",
    "len(b2)"
   ]
  },
  {
   "cell_type": "code",
   "execution_count": 58,
   "metadata": {},
   "outputs": [],
   "source": [
    "hos_list2= b+b2"
   ]
  },
  {
   "cell_type": "code",
   "execution_count": 59,
   "metadata": {},
   "outputs": [
    {
     "output_type": "execute_result",
     "data": {
      "text/plain": "1374"
     },
     "metadata": {},
     "execution_count": 59
    }
   ],
   "source": [
    "len(hos_list2)"
   ]
  },
  {
   "cell_type": "code",
   "execution_count": 60,
   "metadata": {},
   "outputs": [],
   "source": [
    "if 'บ้าน' in hos_list2:\n",
    "    print('vao')"
   ]
  },
  {
   "cell_type": "code",
   "execution_count": 71,
   "metadata": {},
   "outputs": [],
   "source": [
    "gen_data =[]\n",
    "true_data =[]\n",
    "for i in range(8):\n",
    "    for line in hos_list:\n",
    "        a,b = gen_gibberish(line)\n",
    "        gen_data.append(a)\n",
    "        true_data.append(b)"
   ]
  },
  {
   "cell_type": "code",
   "execution_count": 72,
   "metadata": {},
   "outputs": [
    {
     "output_type": "execute_result",
     "data": {
      "text/plain": "11000"
     },
     "metadata": {},
     "execution_count": 72
    }
   ],
   "source": [
    "len(gen_data)"
   ]
  },
  {
   "cell_type": "code",
   "execution_count": 17,
   "metadata": {},
   "outputs": [],
   "source": [
    "'''\n",
    "a1 = ['บาน']\n",
    "a2 = ['บ้า']\n",
    "a3 = ['บ้านน']\n",
    "a4 = ['ป้าน']\n",
    "a5 =['ป้านน']\n",
    "a6 =['บ็าน']\n",
    "a7= ['ข้าน']\n",
    "a8 = ['บานน']\n",
    "a9 = ['ช้าน']\n",
    "a10 = ['บ๊าน']\n",
    "'''"
   ]
  },
  {
   "cell_type": "code",
   "execution_count": 73,
   "metadata": {},
   "outputs": [],
   "source": [
    "a1 = ['ขาน']\n",
    "a2 = ['ข้า']\n",
    "a3 = ['บ้น']\n",
    "a4 = ['ป้า']\n",
    "a5 =['ช้านน']\n",
    "a6 =['บ๙าน']\n",
    "a7= ['ข้าน']\n",
    "a8 = ['ัาน']\n",
    "a9 = ['บ้าง']\n",
    "a10 = ['ปาน']"
   ]
  },
  {
   "cell_type": "code",
   "execution_count": 74,
   "metadata": {},
   "outputs": [],
   "source": [
    "\n",
    "gen_data = gen_data+a1+a2+a3+a4+a5+a6+a7+a8+a9+a10\n",
    "true_data = true_data +['บ้าน']*10"
   ]
  },
  {
   "cell_type": "code",
   "execution_count": 75,
   "metadata": {},
   "outputs": [
    {
     "output_type": "execute_result",
     "data": {
      "text/plain": "'\\ngen_data = gen_data+hos_list\\ntrue_data = true_data+hos_list\\n'"
     },
     "metadata": {},
     "execution_count": 75
    }
   ],
   "source": [
    "'''\n",
    "gen_data = gen_data+hos_list\n",
    "true_data = true_data+hos_list\n",
    "'''"
   ]
  },
  {
   "cell_type": "code",
   "execution_count": 76,
   "metadata": {},
   "outputs": [],
   "source": [
    "# using naive method \n",
    "# to remove duplicated  \n",
    "# from list  \n",
    "res_gen = []\n",
    "res_true =[] \n",
    "for i,key in enumerate(gen_data): \n",
    "    if not key  in res_gen: \n",
    "        res_gen.append(key)\n",
    "        res_true.append(true_data[i])"
   ]
  },
  {
   "cell_type": "code",
   "execution_count": 77,
   "metadata": {},
   "outputs": [
    {
     "output_type": "execute_result",
     "data": {
      "text/plain": "8378"
     },
     "metadata": {},
     "execution_count": 77
    }
   ],
   "source": [
    "len(res_gen)"
   ]
  },
  {
   "cell_type": "code",
   "execution_count": 89,
   "metadata": {},
   "outputs": [
    {
     "output_type": "execute_result",
     "data": {
      "text/plain": "('โรงพยาบาลกำแพงเพชร', 'โรงพยาบาลกำแพงเพชร')"
     },
     "metadata": {},
     "execution_count": 89
    }
   ],
   "source": [
    "res_gen[100],res_true[100]"
   ]
  },
  {
   "cell_type": "code",
   "execution_count": 23,
   "metadata": {},
   "outputs": [],
   "source": [
    "k = int(len(res_gen)*0.05)"
   ]
  },
  {
   "cell_type": "code",
   "execution_count": 24,
   "metadata": {},
   "outputs": [
    {
     "output_type": "execute_result",
     "data": {
      "text/plain": "7825"
     },
     "metadata": {},
     "execution_count": 24
    }
   ],
   "source": [
    "k"
   ]
  },
  {
   "cell_type": "code",
   "execution_count": 90,
   "metadata": {},
   "outputs": [],
   "source": [
    "'''\n",
    "test_x = res_gen[len(res_gen)-k:]\n",
    "test_y=res_true[len(res_true)-k:]\n",
    "'''\n",
    "test_x =res_gen\n",
    "test_y =res_true"
   ]
  },
  {
   "cell_type": "code",
   "execution_count": 79,
   "metadata": {},
   "outputs": [
    {
     "output_type": "execute_result",
     "data": {
      "text/plain": "(8378, 8378)"
     },
     "metadata": {},
     "execution_count": 79
    }
   ],
   "source": [
    "len(test_x),len(test_y)"
   ]
  },
  {
   "cell_type": "code",
   "execution_count": 32,
   "metadata": {},
   "outputs": [],
   "source": [
    "'''\n",
    "train_x = res_gen[:len(res_gen)-k]\n",
    "train_y = res_true[:len(res_true)-k]\n",
    "'''\n",
    "train_x = res_gen\n",
    "train_y =res_true"
   ]
  },
  {
   "cell_type": "code",
   "execution_count": 33,
   "metadata": {},
   "outputs": [
    {
     "output_type": "execute_result",
     "data": {
      "text/plain": "(11825, 11825)"
     },
     "metadata": {},
     "execution_count": 33
    }
   ],
   "source": [
    "len(train_x),len(train_y)"
   ]
  },
  {
   "cell_type": "code",
   "execution_count": 80,
   "metadata": {},
   "outputs": [],
   "source": [
    "df6 = pd.read_csv('hospital_augment_train6.csv')"
   ]
  },
  {
   "cell_type": "code",
   "execution_count": 81,
   "metadata": {},
   "outputs": [],
   "source": [
    "df6_trainx = list(df6['gen_data'])\n",
    "df6_trainy =list(df6['true_data'])"
   ]
  },
  {
   "cell_type": "code",
   "execution_count": 82,
   "metadata": {},
   "outputs": [
    {
     "output_type": "execute_result",
     "data": {
      "text/plain": "(78352, 78352)"
     },
     "metadata": {},
     "execution_count": 82
    }
   ],
   "source": [
    "len(df6_trainx),len(df6_trainy)"
   ]
  },
  {
   "cell_type": "code",
   "execution_count": 91,
   "metadata": {},
   "outputs": [],
   "source": [
    "test_x2 =[]\n",
    "test_y2 =[]\n",
    "for i,val in enumerate(test_x):\n",
    "    if not val in df6_trainx:\n",
    "        test_x2.append(test_x[i])\n",
    "        test_y2.append(test_y[i])"
   ]
  },
  {
   "cell_type": "code",
   "execution_count": 92,
   "metadata": {},
   "outputs": [
    {
     "output_type": "execute_result",
     "data": {
      "text/plain": "(6475, 6475)"
     },
     "metadata": {},
     "execution_count": 92
    }
   ],
   "source": [
    "len(test_x2),len(test_y2)"
   ]
  },
  {
   "cell_type": "code",
   "execution_count": 95,
   "metadata": {},
   "outputs": [],
   "source": [
    "gen_df_test = pd.DataFrame(test_x2)\n",
    "true_df_test=pd.DataFrame(test_y2)"
   ]
  },
  {
   "cell_type": "code",
   "execution_count": 94,
   "metadata": {},
   "outputs": [
    {
     "output_type": "execute_result",
     "data": {
      "text/plain": "('โรบพยา4าลเขาย้อย', 'โรงพยาบาลเขาย้อย')"
     },
     "metadata": {},
     "execution_count": 94
    }
   ],
   "source": [
    "test_x2[100],test_y2[100]"
   ]
  },
  {
   "cell_type": "code",
   "execution_count": 96,
   "metadata": {},
   "outputs": [],
   "source": [
    "gen_df_test.columns =['gen_data']\n",
    "true_df_test.columns =['true_data']"
   ]
  },
  {
   "cell_type": "code",
   "execution_count": 97,
   "metadata": {},
   "outputs": [],
   "source": [
    "df_col_merged_test=pd.concat([gen_df_test,true_df_test],axis=1)"
   ]
  },
  {
   "cell_type": "code",
   "execution_count": 98,
   "metadata": {},
   "outputs": [],
   "source": [
    "df_col_merged_test.to_csv('hospital_augment_test6.csv',index=False)"
   ]
  },
  {
   "cell_type": "code",
   "execution_count": 39,
   "metadata": {},
   "outputs": [],
   "source": [
    "df_wrong6 = pd.read_csv('hospital_wrong6.csv')"
   ]
  },
  {
   "cell_type": "code",
   "execution_count": 40,
   "metadata": {},
   "outputs": [],
   "source": [
    "df6_trainx = list(df_wrong6['gen_data'])\n",
    "df6_trainy =list(df_wrong6['true_data'])"
   ]
  },
  {
   "cell_type": "code",
   "execution_count": 45,
   "metadata": {},
   "outputs": [
    {
     "output_type": "execute_result",
     "data": {
      "text/plain": "('โรงพยาบาลฅูหลวง', 'โรงพยาบาลภูหลวง')"
     },
     "metadata": {},
     "execution_count": 45
    }
   ],
   "source": [
    "df6_trainx[19],df6_trainy[19]"
   ]
  },
  {
   "cell_type": "code",
   "execution_count": 46,
   "metadata": {},
   "outputs": [],
   "source": [
    "for i,val in enumerate(df6_trainx):\n",
    "    if not val in train_x:\n",
    "        train_x.append(df6_trainx[i])\n",
    "        train_y.append(df6_trainy[i])"
   ]
  },
  {
   "cell_type": "code",
   "execution_count": 48,
   "metadata": {},
   "outputs": [
    {
     "output_type": "execute_result",
     "data": {
      "text/plain": "78352"
     },
     "metadata": {},
     "execution_count": 48
    }
   ],
   "source": [
    "len(train_x)"
   ]
  },
  {
   "cell_type": "code",
   "execution_count": 49,
   "metadata": {},
   "outputs": [],
   "source": [
    "gen_df_train = pd.DataFrame(train_x)\n",
    "true_df_train = pd.DataFrame(train_y)\n",
    "#gen_df_test =pd.DataFrame(test_x)\n",
    "#true_df_test =pd.DataFrame(test_y)"
   ]
  },
  {
   "cell_type": "code",
   "execution_count": 50,
   "metadata": {},
   "outputs": [],
   "source": [
    "gen_df_train.columns=['gen_data']\n",
    "true_df_train.columns=['true_data']\n",
    "#gen_df_test.columns =['gen_data']\n",
    "#true_df_test.columns =['true_data']"
   ]
  },
  {
   "cell_type": "code",
   "execution_count": 51,
   "metadata": {},
   "outputs": [],
   "source": [
    "df_col_merged_train =pd.concat([gen_df_train,true_df_train],axis=1)\n",
    "# =pd.concat([gen_df_test,true_df_test],axis=1)"
   ]
  },
  {
   "cell_type": "code",
   "execution_count": 52,
   "metadata": {},
   "outputs": [],
   "source": [
    "df_col_merged_train.to_csv('hospital_augment_train6.csv',index=False)\n",
    "#df_col_merged_test.to_csv('hospital_augment_test5.csv',index=False)"
   ]
  },
  {
   "cell_type": "code",
   "execution_count": null,
   "metadata": {},
   "outputs": [],
   "source": [
    "len(res_gen)\n",
    "len(res_true)"
   ]
  },
  {
   "cell_type": "code",
   "execution_count": 78,
   "metadata": {},
   "outputs": [],
   "source": [
    "# using naive method \n",
    "# to remove duplicated  \n",
    "# from list  \n",
    "res_gen = []\n",
    "res_true =[] \n",
    "for i,key in enumerate(gen_data): \n",
    "    if key not in res_gen: \n",
    "        res_gen.append(key)\n",
    "        res_true.append(true_data[i])"
   ]
  },
  {
   "cell_type": "code",
   "execution_count": 79,
   "metadata": {},
   "outputs": [
    {
     "output_type": "execute_result",
     "data": {
      "text/plain": "708832"
     },
     "metadata": {},
     "execution_count": 79
    }
   ],
   "source": [
    "len(res_gen)\n",
    "len(res_true)"
   ]
  },
  {
   "cell_type": "code",
   "execution_count": 89,
   "metadata": {},
   "outputs": [],
   "source": [
    "import random"
   ]
  },
  {
   "cell_type": "code",
   "execution_count": 93,
   "metadata": {},
   "outputs": [],
   "source": [
    "random.shuffle(res_gen)"
   ]
  },
  {
   "cell_type": "code",
   "execution_count": 95,
   "metadata": {},
   "outputs": [],
   "source": [
    "random.shuffle(res_true)"
   ]
  },
  {
   "cell_type": "code",
   "execution_count": 98,
   "metadata": {},
   "outputs": [],
   "source": [
    "train_data_gen =[]\n",
    "train_data_true =[]\n",
    "val_data_gen =[]\n",
    "val_data_true =[]\n",
    "for i in range(0,len(res_gen),10):\n",
    "    val_data_gen.append(res_gen[i])\n",
    "    val_data_true.append(res_true[i])"
   ]
  },
  {
   "cell_type": "code",
   "execution_count": 99,
   "metadata": {},
   "outputs": [
    {
     "output_type": "execute_result",
     "data": {
      "text/plain": "70884"
     },
     "metadata": {},
     "execution_count": 99
    }
   ],
   "source": [
    "len(val_data_gen)"
   ]
  },
  {
   "cell_type": "code",
   "execution_count": 100,
   "metadata": {},
   "outputs": [],
   "source": [
    "for i,key in enumerate(res_gen):\n",
    "    if not key in val_data_gen:\n",
    "        train_data_gen.append(res_gen[i])\n",
    "        train_data_true.append(res_true[i])\n"
   ]
  },
  {
   "cell_type": "code",
   "execution_count": 102,
   "metadata": {},
   "outputs": [],
   "source": [
    "test_data_gen =[]\n",
    "test_data_true=[]\n",
    "for i in range(0,len(train_data_gen),10):\n",
    "    test_data_gen.append(train_data_gen[i])\n",
    "    test_data_true.append(train_data_true[i])"
   ]
  },
  {
   "cell_type": "code",
   "execution_count": 104,
   "metadata": {},
   "outputs": [],
   "source": [
    "train_gen =[]\n",
    "train_true = []\n",
    "for i,key in enumerate(train_data_gen):\n",
    "    if not key in test_data_gen:\n",
    "        train_gen.append(train_data_gen[i])\n",
    "        train_true.append(train_data_true[i])"
   ]
  },
  {
   "cell_type": "code",
   "execution_count": 105,
   "metadata": {},
   "outputs": [
    {
     "output_type": "execute_result",
     "data": {
      "text/plain": "(574153, 70884, 63795)"
     },
     "metadata": {},
     "execution_count": 105
    }
   ],
   "source": [
    "len(train_gen),len(val_data_gen),len(test_data_gen)"
   ]
  },
  {
   "cell_type": "code",
   "execution_count": 106,
   "metadata": {},
   "outputs": [],
   "source": [
    "train_gen_out = train_gen + hos_list\n",
    "train_true_out = train_true +hos_list\n",
    "val_gen_out = val_data_gen\n",
    "val_true_out = val_data_true\n",
    "test_gen_out = test_data_gen\n",
    "test_true_out = test_data_true"
   ]
  },
  {
   "cell_type": "code",
   "execution_count": 107,
   "metadata": {},
   "outputs": [],
   "source": [
    "gen_df_train = pd.DataFrame(train_gen_out)\n",
    "true_df_train = pd.DataFrame(train_true_out)\n",
    "gen_df_val =pd.DataFrame(val_gen_out)\n",
    "true_df_val =pd.DataFrame(val_true_out)\n",
    "gen_df_test =pd.DataFrame(test_gen_out)\n",
    "true_df_test =pd.DataFrame(test_true_out)"
   ]
  },
  {
   "cell_type": "code",
   "execution_count": 108,
   "metadata": {},
   "outputs": [],
   "source": [
    "gen_df_train.columns=['gen_data']\n",
    "true_df_train.columns=['true_data']\n",
    "gen_df_val.columns =['gen_data']\n",
    "true_df_val.columns =['true_data']\n",
    "gen_df_test.columns =['gen_data']\n",
    "true_df_test.columns =['true_data']"
   ]
  },
  {
   "cell_type": "code",
   "execution_count": 109,
   "metadata": {},
   "outputs": [],
   "source": [
    "df_col_merged_train =pd.concat([gen_df_train,true_df_train],axis=1)"
   ]
  },
  {
   "cell_type": "code",
   "execution_count": 110,
   "metadata": {},
   "outputs": [],
   "source": [
    "df_col_merged_val =pd.concat([gen_df_val,true_df_val],axis=1)\n",
    "df_col_merged_test =pd.concat([gen_df_test,true_df_test],axis=1)"
   ]
  },
  {
   "cell_type": "code",
   "execution_count": 111,
   "metadata": {},
   "outputs": [],
   "source": [
    "df_col_merged_train.to_csv('hospital_augment_train4.csv',index=False)\n",
    "df_col_merged_val.to_csv('hospital_augment_val4.csv',index=False)\n",
    "df_col_merged_test.to_csv('hospital_augment_test4.csv',index=False)"
   ]
  },
  {
   "cell_type": "code",
   "execution_count": 13,
   "metadata": {},
   "outputs": [],
   "source": [
    "import random"
   ]
  },
  {
   "cell_type": "code",
   "execution_count": 31,
   "metadata": {},
   "outputs": [],
   "source": [
    "def gen_delete(text,per=0.15):\n",
    "    e = np.random.uniform() \n",
    "    if e <0.1:\n",
    "        return text\n",
    "    r = np.random.randint(len(list(text)))\n",
    "    text_lst = list(text)\n",
    "    del text_lst[r]\n",
    "    return ''.join(text_lst)"
   ]
  },
  {
   "cell_type": "code",
   "execution_count": 32,
   "metadata": {},
   "outputs": [],
   "source": [
    "def gen_insert(text,per=0.15):\n",
    "    e = np.random.uniform() \n",
    "    if e <0.1:\n",
    "        return text\n",
    "    index = np.random.randint(len(list(text)))\n",
    "    char = random.choice(char_set)\n",
    "    text_list = list(text)\n",
    "    text_list.insert(index, char)\n",
    "    return ''.join(text_list)"
   ]
  },
  {
   "cell_type": "code",
   "execution_count": 33,
   "metadata": {},
   "outputs": [],
   "source": [
    "def gen_substitution(text,per=0.15):\n",
    "    e = np.random.uniform() \n",
    "    if e <0.1:\n",
    "        return text\n",
    "    index = np.random.randint(len(list(text)))\n",
    "    char = random.choice(char_set)\n",
    "    text_list = list(text)\n",
    "    text_list[index] = char\n",
    "    return ''.join(text_list)"
   ]
  },
  {
   "cell_type": "code",
   "execution_count": 34,
   "metadata": {},
   "outputs": [],
   "source": [
    "delete_hos = []\n",
    "delete_hos_true =[]\n",
    "for i in range(10):\n",
    "    for p in hos_list:\n",
    "        delete_hos.append(gen_delete(p))\n",
    "        delete_hos_true.append(p)"
   ]
  },
  {
   "cell_type": "code",
   "execution_count": 35,
   "metadata": {},
   "outputs": [],
   "source": [
    "insert_hos = []\n",
    "insert_hos_true =[]\n",
    "for i in range(10):\n",
    "    for p in hos_list:\n",
    "        insert_hos.append(gen_insert(p))\n",
    "        insert_hos_true.append(p)"
   ]
  },
  {
   "cell_type": "code",
   "execution_count": 36,
   "metadata": {},
   "outputs": [],
   "source": [
    "sub_hos = []\n",
    "sub_hos_true =[]\n",
    "for i in range(10):\n",
    "    for p in hos_list:\n",
    "        sub_hos.append(gen_substitution(p))\n",
    "        sub_hos_true.append(p)"
   ]
  },
  {
   "cell_type": "code",
   "execution_count": 37,
   "metadata": {},
   "outputs": [],
   "source": [
    "gen_data2 = delete_hos+ insert_hos+sub_hos\n",
    "true_data2 = delete_hos_true + insert_hos_true+sub_hos_true"
   ]
  },
  {
   "cell_type": "code",
   "execution_count": 38,
   "metadata": {},
   "outputs": [
    {
     "output_type": "execute_result",
     "data": {
      "text/plain": "(38700, 38700)"
     },
     "metadata": {},
     "execution_count": 38
    }
   ],
   "source": [
    "len(gen_data2),len(true_data2)"
   ]
  },
  {
   "cell_type": "code",
   "execution_count": 55,
   "metadata": {},
   "outputs": [
    {
     "output_type": "execute_result",
     "data": {
      "text/plain": "(708628, 708628)"
     },
     "metadata": {},
     "execution_count": 55
    }
   ],
   "source": [
    "len(res_gen),len(res_true)"
   ]
  },
  {
   "cell_type": "code",
   "execution_count": 56,
   "metadata": {},
   "outputs": [],
   "source": [
    "ture_idx = len(res_true) -1290"
   ]
  },
  {
   "cell_type": "code",
   "execution_count": 57,
   "metadata": {},
   "outputs": [],
   "source": [
    "gen_data = res_gen[:ture_idx]\n",
    "true_dat = res_true[:ture_idx]"
   ]
  },
  {
   "cell_type": "code",
   "execution_count": 68,
   "metadata": {},
   "outputs": [
    {
     "output_type": "execute_result",
     "data": {
      "text/plain": "('โร8พยาบาลร่มฉัตร', 'โรงพยาบาลโพธาราม')"
     },
     "metadata": {},
     "execution_count": 68
    }
   ],
   "source": [
    "gen_data[2000],true_data[2000]"
   ]
  },
  {
   "cell_type": "code",
   "execution_count": 65,
   "metadata": {},
   "outputs": [],
   "source": [
    "train_data_gen =[]\n",
    "train_data_true =[]\n",
    "val_data_gen =[]\n",
    "val_data_true =[]\n",
    "for i in range(0,len(gen_data),15):\n",
    "    val_data_gen.append(gen_data[i])\n",
    "    val_data_true.append(true_data[i])"
   ]
  },
  {
   "cell_type": "code",
   "execution_count": 67,
   "metadata": {},
   "outputs": [
    {
     "output_type": "execute_result",
     "data": {
      "text/plain": "70734"
     },
     "metadata": {},
     "execution_count": 67
    }
   ],
   "source": [
    "len(val_data_gen)"
   ]
  },
  {
   "cell_type": "code",
   "execution_count": 46,
   "metadata": {},
   "outputs": [],
   "source": [
    "for i,key in enumerate(res_gen):\n",
    "    if not key in val_data_true:\n",
    "        train_data_gen.append(key)\n",
    "        train_data_true.append(res_true[i])"
   ]
  },
  {
   "cell_type": "code",
   "execution_count": 47,
   "metadata": {},
   "outputs": [
    {
     "output_type": "execute_result",
     "data": {
      "text/plain": "(32369, 3353, 32369, 3353)"
     },
     "metadata": {},
     "execution_count": 47
    }
   ],
   "source": [
    "len(train_data_gen),len(val_data_gen),len(train_data_true),len(val_data_true)"
   ]
  },
  {
   "cell_type": "code",
   "execution_count": 48,
   "metadata": {},
   "outputs": [
    {
     "output_type": "execute_result",
     "data": {
      "text/plain": "('โรงพาบาลบ้านลาด', 'โรงพยาบาลบ้านลาด')"
     },
     "metadata": {},
     "execution_count": 48
    }
   ],
   "source": [
    "train_data_gen[500],train_data_true[500]"
   ]
  },
  {
   "cell_type": "code",
   "execution_count": 49,
   "metadata": {},
   "outputs": [],
   "source": [
    "test_data_gen =[]\n",
    "test_data_true =[]\n",
    "for i in range(0,len(train_data_gen),12):\n",
    "    test_data_gen.append(train_data_gen[i])\n",
    "    test_data_true.append(train_data_true[i])"
   ]
  },
  {
   "cell_type": "code",
   "execution_count": 50,
   "metadata": {},
   "outputs": [],
   "source": [
    "train_data_gen_res =[]\n",
    "train_data_true_res =[]\n",
    "for i,key in enumerate(train_data_gen):\n",
    "    if not key in test_data_gen:\n",
    "        train_data_gen_res.append(train_data_gen[i])\n",
    "        train_data_true_res.append(train_data_true[i])"
   ]
  },
  {
   "cell_type": "code",
   "execution_count": 51,
   "metadata": {},
   "outputs": [
    {
     "output_type": "execute_result",
     "data": {
      "text/plain": "('คลินิกรุงเทพพัทยาสาขาจอมเทียน', 'คลินิกกรุงเทพพัทยาสาขาจอมเทียน')"
     },
     "metadata": {},
     "execution_count": 51
    }
   ],
   "source": [
    "train_data_gen[0],train_data_true[0]"
   ]
  },
  {
   "cell_type": "code",
   "execution_count": 52,
   "metadata": {},
   "outputs": [
    {
     "output_type": "execute_result",
     "data": {
      "text/plain": "(29671, 3353, 2698)"
     },
     "metadata": {},
     "execution_count": 52
    }
   ],
   "source": [
    "len(train_data_true_res),len(val_data_gen),len(test_data_gen)"
   ]
  },
  {
   "cell_type": "code",
   "execution_count": 53,
   "metadata": {},
   "outputs": [],
   "source": [
    "train_gen = train_data_gen_res + hos_list\n",
    "train_true = train_data_true_res +hos_list\n",
    "val_gen = val_data_gen\n",
    "val_true = val_data_true\n",
    "test_gen = test_data_gen\n",
    "test_true = test_data_true"
   ]
  },
  {
   "cell_type": "code",
   "execution_count": 54,
   "metadata": {},
   "outputs": [],
   "source": [
    "gen_df_train = pd.DataFrame(train_gen)\n",
    "true_df_train = pd.DataFrame(train_true)\n",
    "gen_df_val =pd.DataFrame(val_gen)\n",
    "true_df_val =pd.DataFrame(val_true)\n",
    "gen_df_test =pd.DataFrame(test_data_gen)\n",
    "true_df_test =pd.DataFrame(test_data_true)"
   ]
  },
  {
   "cell_type": "code",
   "execution_count": 55,
   "metadata": {},
   "outputs": [],
   "source": [
    "gen_df_train.columns=['gen_data']\n",
    "true_df_train.columns=['true_data']\n",
    "gen_df_val.columns =['gen_data']\n",
    "true_df_val.columns =['true_data']\n",
    "gen_df_test.columns =['gen_data']\n",
    "true_df_test.columns =['true_data']"
   ]
  },
  {
   "cell_type": "code",
   "execution_count": 56,
   "metadata": {},
   "outputs": [
    {
     "output_type": "execute_result",
     "data": {
      "text/plain": "(30961, 3353, 2698)"
     },
     "metadata": {},
     "execution_count": 56
    }
   ],
   "source": [
    "len(gen_df_train),len(gen_df_val),len(gen_df_test)"
   ]
  },
  {
   "cell_type": "code",
   "execution_count": 57,
   "metadata": {},
   "outputs": [],
   "source": [
    "df_col_merged_train =pd.concat([gen_df_train,true_df_train],axis=1)"
   ]
  },
  {
   "cell_type": "code",
   "execution_count": 58,
   "metadata": {},
   "outputs": [],
   "source": [
    "df_col_merged_val =pd.concat([gen_df_val,true_df_val],axis=1)\n",
    "df_col_merged_test =pd.concat([gen_df_test,true_df_test],axis=1)"
   ]
  },
  {
   "cell_type": "code",
   "execution_count": 59,
   "metadata": {},
   "outputs": [],
   "source": [
    "df_col_merged_train.to_csv('hospital_augment_train3.csv',index=False)\n",
    "df_col_merged_val.to_csv('hospital_augment_val3.csv',index=False)\n",
    "df_col_merged_test.to_csv('hospital_augment_test3.csv',index=False)"
   ]
  },
  {
   "cell_type": "code",
   "execution_count": 87,
   "metadata": {},
   "outputs": [],
   "source": [
    "df_col_merged2.to_csv('hospital_augment2_val.csv',index=False)"
   ]
  },
  {
   "cell_type": "code",
   "execution_count": 167,
   "metadata": {},
   "outputs": [
    {
     "output_type": "execute_result",
     "data": {
      "text/plain": "12900"
     },
     "metadata": {},
     "execution_count": 167
    }
   ],
   "source": [
    "len(sub_hos)"
   ]
  },
  {
   "cell_type": "code",
   "execution_count": 109,
   "metadata": {},
   "outputs": [],
   "source": [
    "df_test = pd.read_csv('hospital_augment_test.csv')"
   ]
  },
  {
   "cell_type": "code",
   "execution_count": 110,
   "metadata": {},
   "outputs": [],
   "source": [
    "df_test_gen = list(df_test['gen_data'])\n",
    "df_test_true = list(df"
   ]
  },
  {
   "cell_type": "code",
   "execution_count": 142,
   "metadata": {},
   "outputs": [],
   "source": [
    "df_test_read = pd.read_csv('hospital_augment_test2.csv')"
   ]
  },
  {
   "cell_type": "code",
   "execution_count": 148,
   "metadata": {},
   "outputs": [],
   "source": [
    "list_test_gen = list(df_test_read['gen_data'])\n",
    "list_test_true = list(df_test_read['true_data'])"
   ]
  },
  {
   "cell_type": "code",
   "execution_count": 149,
   "metadata": {},
   "outputs": [],
   "source": [
    "test_gen_res =[]\n",
    "test_true_res=[]\n",
    "for i in range(0,len(list_test_gen),2):\n",
    "    test_gen_res.append(list_test_gen[i])\n",
    "    test_true_res.append(list_test_true[i])"
   ]
  },
  {
   "cell_type": "code",
   "execution_count": 150,
   "metadata": {},
   "outputs": [],
   "source": [
    "gen_df_test2=pd.DataFrame(test_gen_res)\n",
    "true_df_test2 =pd.DataFrame(test_true_res)"
   ]
  },
  {
   "cell_type": "code",
   "execution_count": 151,
   "metadata": {},
   "outputs": [
    {
     "output_type": "execute_result",
     "data": {
      "text/plain": "3831"
     },
     "metadata": {},
     "execution_count": 151
    }
   ],
   "source": [
    "len(gen_df_test2)"
   ]
  },
  {
   "cell_type": "code",
   "execution_count": 152,
   "metadata": {},
   "outputs": [],
   "source": [
    "gen_df_test2.columns =['gen_data']\n",
    "true_df_test2.columns =['true_data']"
   ]
  },
  {
   "cell_type": "code",
   "execution_count": 153,
   "metadata": {},
   "outputs": [],
   "source": [
    "df_col_merged_test =pd.concat([gen_df_test2,true_df_test2],axis=1)"
   ]
  },
  {
   "cell_type": "code",
   "execution_count": 154,
   "metadata": {},
   "outputs": [],
   "source": [
    "df_col_merged_test.to_csv('hospital_augment_test2.csv',index=False)"
   ]
  },
  {
   "cell_type": "code",
   "execution_count": null,
   "metadata": {},
   "outputs": [],
   "source": []
  }
 ],
 "metadata": {
  "language_info": {
   "codemirror_mode": {
    "name": "ipython",
    "version": 3
   },
   "file_extension": ".py",
   "mimetype": "text/x-python",
   "name": "python",
   "nbconvert_exporter": "python",
   "pygments_lexer": "ipython3",
   "version": "3.7.7-final"
  },
  "orig_nbformat": 2,
  "kernelspec": {
   "name": "python3",
   "display_name": "Python 3"
  }
 },
 "nbformat": 4,
 "nbformat_minor": 2
}