{
 "cells": [
  {
   "cell_type": "code",
   "execution_count": 1,
   "metadata": {
    "tags": [
     "outputPrepend"
    ]
   },
   "outputs": [],
   "source": [
    "from __future__ import print_function\n",
    "\n",
    "import sys\n",
    "import os\n",
    "import pandas as pd\n",
    "import numpy as np\n",
    "import tensorflow as tf\n",
    "from tensorflow.keras.layers import Input, Embedding, LSTM, TimeDistributed, Dense\n",
    "from tensorflow.keras.models import Model, load_model\n",
    "\n",
    "# To import 'katakana' from relative path\n",
    "#sys.path.append(os.path.abspath(os.path.join('..')))\n",
    "import encoding\n",
    "\n",
    "INPUT_LENGTH = 90\n",
    "OUTPUT_LENGTH = 90"
   ]
  },
  {
   "cell_type": "code",
   "execution_count": 2,
   "metadata": {},
   "outputs": [
    {
     "output_type": "stream",
     "name": "stdout",
     "text": "1 Physical GPUs, 1 Logical GPUs\n"
    }
   ],
   "source": [
    "##### Limit GPU for training ###\n",
    "gpus = tf.config.experimental.list_physical_devices('GPU')\n",
    "if gpus:\n",
    "    try:\n",
    "        # Restrict TensorFlow to only use the fourth GPU\n",
    "        tf.config.experimental.set_visible_devices(gpus[0], 'GPU')\n",
    "\n",
    "        # Currently, memory growth needs to be the same across GPUs\n",
    "        for gpu in gpus:\n",
    "            tf.config.experimental.set_memory_growth(gpu, True)\n",
    "        logical_gpus = tf.config.experimental.list_logical_devices('GPU')\n",
    "        print(len(gpus), \"Physical GPUs,\", len(logical_gpus), \"Logical GPUs\")\n",
    "    except RuntimeError as e:\n",
    "        # Memory growth must be set before GPUs have been initialized\n",
    "        print(e)"
   ]
  },
  {
   "cell_type": "markdown",
   "metadata": {},
   "source": [
    "# Data pre-processing"
   ]
  },
  {
   "cell_type": "code",
   "execution_count": 3,
   "metadata": {},
   "outputs": [
    {
     "output_type": "stream",
     "name": "stdout",
     "text": "โรงพยาบาลโนนสูง โรงพยาบาลโนนสูง\nโรงพยาบฯลโนนศิลา โรงพยาบาลโนนศิลา\ntraining size 27864\nvalidation size 3097\n"
    }
   ],
   "source": [
    "data = pd.read_csv('../datasets/hospital_augment_train3.csv')\n",
    "data = data.sample(frac=1, random_state=0)\n",
    "\n",
    "data_input = list(data['gen_data'])\n",
    "data_output =  list(data['true_data'])\n",
    "print(data_input[0], data_output[0])\n",
    "print(data_input[5], data_output[5])\n",
    "\n",
    "data_size = len(data)\n",
    "a = int(data_size*90/100)\n",
    "\n",
    "# We will use the first 0-60th %-tile (60%) of data for the training\n",
    "training_input  = data_input[:a]\n",
    "training_output = data_output[:a]\n",
    "\n",
    "# We will use the first 60-70th %-tile (10%) of data for the training\n",
    "validation_input = data_input[a:]\n",
    "validation_output = data_output[a:]\n",
    "\n",
    "print('training size', len(training_input))\n",
    "print('validation size', len(validation_input))"
   ]
  },
  {
   "cell_type": "code",
   "execution_count": 4,
   "metadata": {},
   "outputs": [
    {
     "output_type": "execute_result",
     "data": {
      "text/plain": "'โรงพยาบาลโนนสูง'"
     },
     "metadata": {},
     "execution_count": 4
    }
   ],
   "source": [
    "data_output[0]"
   ]
  },
  {
   "cell_type": "markdown",
   "metadata": {},
   "source": [
    "### Transform data into Numpy arrays\n",
    "\n",
    "We transform the sequences of characters into sequences of integer IDs. This will be done by using pre-written functions in `encoding` module. \n",
    "- First, `encoding.build_characters_encoding` will build encoding/decoding dictionary from the data. \n",
    "- Then, `encoding.transform` will transform the data into numpy array.\n",
    "\n",
    "Check [the previous notebook](./Writing Katakana using Sequence-to-Sequence in Keras) for the details about the transformation."
   ]
  },
  {
   "cell_type": "code",
   "execution_count": 5,
   "metadata": {},
   "outputs": [
    {
     "output_type": "stream",
     "name": "stdout",
     "text": "Input character dict size: 93\nOutput character dict size: 83\nencoded_training_input (27864, 90)\nencoded_training_output (27864, 90)\nencoded_validation_input (3097, 90)\nencoded_validation_output (3097, 90)\n"
    }
   ],
   "source": [
    "input_encoding, input_decoding, input_dict_size = encoding.build_characters_encoding(data_input)\n",
    "output_encoding, output_decoding, output_dict_size = encoding.build_characters_encoding(data_output)\n",
    "\n",
    "print('Input character dict size:', input_dict_size)\n",
    "print('Output character dict size:', output_dict_size)\n",
    "\n",
    "\n",
    "encoded_training_input = encoding.transform(\n",
    "    input_encoding, training_input, vector_size=INPUT_LENGTH)\n",
    "encoded_training_output = encoding.transform(\n",
    "    output_encoding, training_output, vector_size=OUTPUT_LENGTH)\n",
    "\n",
    "print('encoded_training_input', encoded_training_input.shape)\n",
    "print('encoded_training_output', encoded_training_output.shape)\n",
    "\n",
    "encoded_validation_input = encoding.transform(\n",
    "    input_encoding, validation_input, vector_size=INPUT_LENGTH)\n",
    "encoded_validation_output = encoding.transform(\n",
    "    output_encoding, validation_output, vector_size=OUTPUT_LENGTH)\n",
    "\n",
    "print('encoded_validation_input', encoded_validation_input.shape)\n",
    "print('encoded_validation_output', encoded_validation_output.shape)"
   ]
  },
  {
   "cell_type": "markdown",
   "metadata": {},
   "source": [
    "# Sequence-to-Sequence in Keras"
   ]
  },
  {
   "cell_type": "code",
   "execution_count": 6,
   "metadata": {
    "collapsed": true
   },
   "outputs": [],
   "source": [
    "encoder_input = Input(shape=(INPUT_LENGTH,))\n",
    "decoder_input = Input(shape=(OUTPUT_LENGTH,))"
   ]
  },
  {
   "cell_type": "code",
   "execution_count": 7,
   "metadata": {},
   "outputs": [],
   "source": [
    "  \n",
    "import tensorflow as tf\n",
    "import os\n",
    "from tensorflow.python.keras.layers import Layer\n",
    "from tensorflow.python.keras import backend as K\n",
    "\n",
    "class AttentionLayer(Layer):\n",
    "    \"\"\"\n",
    "    This class implements Bahdanau attention (https://arxiv.org/pdf/1409.0473.pdf).\n",
    "    There are three sets of weights introduced W_a, U_a, and V_a\n",
    "     \"\"\"\n",
    "\n",
    "    def __init__(self, **kwargs):\n",
    "        super(AttentionLayer, self).__init__(**kwargs)\n",
    "\n",
    "    def build(self, input_shape):\n",
    "        assert isinstance(input_shape, list)\n",
    "        # Create a trainable weight variable for this layer.\n",
    "\n",
    "        self.W_a = self.add_weight(name='W_a',\n",
    "                                   shape=tf.TensorShape((input_shape[0][2], input_shape[0][2])),\n",
    "                                   initializer='uniform',\n",
    "                                   trainable=True)\n",
    "        self.U_a = self.add_weight(name='U_a',\n",
    "                                   shape=tf.TensorShape((input_shape[1][2], input_shape[0][2])),\n",
    "                                   initializer='uniform',\n",
    "                                   trainable=True)\n",
    "        self.V_a = self.add_weight(name='V_a',\n",
    "                                   shape=tf.TensorShape((input_shape[0][2], 1)),\n",
    "                                   initializer='uniform',\n",
    "                                   trainable=True)\n",
    "\n",
    "        super(AttentionLayer, self).build(input_shape)  # Be sure to call this at the end\n",
    "\n",
    "    def call(self, inputs, verbose=False):\n",
    "        \"\"\"\n",
    "        inputs: [encoder_output_sequence, decoder_output_sequence]\n",
    "        \"\"\"\n",
    "        assert type(inputs) == list\n",
    "        encoder_out_seq, decoder_out_seq = inputs\n",
    "        if verbose:\n",
    "            print('encoder_out_seq>', encoder_out_seq.shape)\n",
    "            print('decoder_out_seq>', decoder_out_seq.shape)\n",
    "\n",
    "        def energy_step(inputs, states):\n",
    "            \"\"\" Step function for computing energy for a single decoder state \"\"\"\n",
    "\n",
    "            assert_msg = \"States must be a list. However states {} is of type {}\".format(states, type(states))\n",
    "            assert isinstance(states, list) or isinstance(states, tuple), assert_msg\n",
    "\n",
    "            \"\"\" Some parameters required for shaping tensors\"\"\"\n",
    "            en_seq_len, en_hidden = encoder_out_seq.shape[1], encoder_out_seq.shape[2]\n",
    "            de_hidden = inputs.shape[-1]\n",
    "\n",
    "            \"\"\" Computing S.Wa where S=[s0, s1, ..., si]\"\"\"\n",
    "            # <= batch_size*en_seq_len, latent_dim\n",
    "            reshaped_enc_outputs = K.reshape(encoder_out_seq, (-1, en_hidden))\n",
    "            # <= batch_size*en_seq_len, latent_dim\n",
    "            W_a_dot_s = K.reshape(K.dot(reshaped_enc_outputs, self.W_a), (-1, en_seq_len, en_hidden))\n",
    "            if verbose:\n",
    "                print('wa.s>',W_a_dot_s.shape)\n",
    "\n",
    "            \"\"\" Computing hj.Ua \"\"\"\n",
    "            U_a_dot_h = K.expand_dims(K.dot(inputs, self.U_a), 1)  # <= batch_size, 1, latent_dim\n",
    "            if verbose:\n",
    "                print('Ua.h>',U_a_dot_h.shape)\n",
    "\n",
    "            \"\"\" tanh(S.Wa + hj.Ua) \"\"\"\n",
    "            # <= batch_size*en_seq_len, latent_dim\n",
    "            reshaped_Ws_plus_Uh = K.tanh(K.reshape(W_a_dot_s + U_a_dot_h, (-1, en_hidden)))\n",
    "            if verbose:\n",
    "                print('Ws+Uh>', reshaped_Ws_plus_Uh.shape)\n",
    "\n",
    "            \"\"\" softmax(va.tanh(S.Wa + hj.Ua)) \"\"\"\n",
    "            # <= batch_size, en_seq_len\n",
    "            e_i = K.reshape(K.dot(reshaped_Ws_plus_Uh, self.V_a), (-1, en_seq_len))\n",
    "            # <= batch_size, en_seq_len\n",
    "            e_i = K.softmax(e_i)\n",
    "\n",
    "            if verbose:\n",
    "                print('ei>', e_i.shape)\n",
    "\n",
    "            return e_i, [e_i]\n",
    "\n",
    "        def context_step(inputs, states):\n",
    "            \"\"\" Step function for computing ci using ei \"\"\"\n",
    "            # <= batch_size, hidden_size\n",
    "            c_i = K.sum(encoder_out_seq * K.expand_dims(inputs, -1), axis=1)\n",
    "            if verbose:\n",
    "                print('ci>', c_i.shape)\n",
    "            return c_i, [c_i]\n",
    "\n",
    "        def create_inital_state(inputs, hidden_size):\n",
    "            # We are not using initial states, but need to pass something to K.rnn funciton\n",
    "            fake_state = K.zeros_like(inputs)  # <= (batch_size, enc_seq_len, latent_dim\n",
    "            fake_state = K.sum(fake_state, axis=[1, 2])  # <= (batch_size)\n",
    "            fake_state = K.expand_dims(fake_state)  # <= (batch_size, 1)\n",
    "            fake_state = K.tile(fake_state, [1, hidden_size])  # <= (batch_size, latent_dim\n",
    "            return fake_state\n",
    "\n",
    "        fake_state_c = create_inital_state(encoder_out_seq, encoder_out_seq.shape[-1])\n",
    "        fake_state_e = create_inital_state(encoder_out_seq, encoder_out_seq.shape[1])  # <= (batch_size, enc_seq_len, latent_dim\n",
    "\n",
    "        \"\"\" Computing energy outputs \"\"\"\n",
    "        # e_outputs => (batch_size, de_seq_len, en_seq_len)\n",
    "        last_out, e_outputs, _ = K.rnn(\n",
    "            energy_step, decoder_out_seq, [fake_state_e],\n",
    "        )\n",
    "\n",
    "        \"\"\" Computing context vectors \"\"\"\n",
    "        last_out, c_outputs, _ = K.rnn(\n",
    "            context_step, e_outputs, [fake_state_c],\n",
    "        )\n",
    "\n",
    "        return c_outputs, e_outputs\n",
    "\n",
    "    def compute_output_shape(self, input_shape):\n",
    "        \"\"\" Outputs produced by the layer \"\"\"\n",
    "        return [\n",
    "            tf.TensorShape((input_shape[1][0], input_shape[1][1], input_shape[1][2])),\n",
    "            tf.TensorShape((input_shape[1][0], input_shape[1][1], input_shape[0][1]))\n",
    "        ]"
   ]
  },
  {
   "cell_type": "code",
   "execution_count": 8,
   "metadata": {},
   "outputs": [],
   "source": [
    "from tensorflow.keras.layers import Embedding,Bidirectional,LSTM,Attention,RepeatVector,Input,concatenate,TimeDistributed,Dropout"
   ]
  },
  {
   "cell_type": "markdown",
   "metadata": {},
   "source": [
    "### Encoder / Decoder"
   ]
  },
  {
   "cell_type": "code",
   "execution_count": 9,
   "metadata": {},
   "outputs": [],
   "source": [
    "from tensorflow.keras.layers import SimpleRNN,Bidirectional,Concatenate\n",
    "#from keras.layers.attention import AttentionLayer\n",
    "\n",
    "latent_dim = 128\n",
    "# Encoder\n",
    "encoder_inputs = Input(shape=(INPUT_LENGTH,))\n",
    "encoder_emb = Embedding(input_dict_size, 64, input_length=INPUT_LENGTH,mask_zero=True)\n",
    "\n",
    "encoder_lstm = Bidirectional(LSTM(units=latent_dim, return_sequences=True, return_state=True)) # Bidirectional\n",
    "\n",
    "encoder_out, fstate_h, fstate_c, bstate_h, bstate_c = encoder_lstm(encoder_emb(encoder_inputs))\n",
    "state_h = Concatenate()([fstate_h,bstate_h])\n",
    "state_c = Concatenate()([bstate_h,bstate_c])\n",
    "\n",
    "encoder_states = [state_h, state_c]"
   ]
  },
  {
   "cell_type": "code",
   "execution_count": 10,
   "metadata": {},
   "outputs": [],
   "source": [
    "#decoder_inputs = Input(shape=(None,))\n",
    "#decoder_inputs = Input(shape=(None,))\n",
    "decoder_emb = Embedding(input_dim=output_dict_size, output_dim=64)\n",
    "decoder_lstm = LSTM(units=latent_dim*2, return_sequences=True, return_state=True) # units=units*2\n",
    "decoder_lstm_out, _, _ = decoder_lstm(decoder_emb(decoder_input), initial_state=encoder_states)"
   ]
  },
  {
   "cell_type": "code",
   "execution_count": 11,
   "metadata": {},
   "outputs": [
    {
     "output_type": "execute_result",
     "data": {
      "text/plain": "(TensorShape([None, 90, 256]), TensorShape([None, 90, 256]))"
     },
     "metadata": {},
     "execution_count": 11
    }
   ],
   "source": [
    "encoder_out.shape,decoder_lstm_out.shape"
   ]
  },
  {
   "cell_type": "code",
   "execution_count": 12,
   "metadata": {},
   "outputs": [],
   "source": [
    "attn_layer = AttentionLayer(name='attention_layer')\n",
    "attn_out, attn_states = attn_layer([encoder_out, decoder_lstm_out])"
   ]
  },
  {
   "cell_type": "code",
   "execution_count": 13,
   "metadata": {},
   "outputs": [],
   "source": [
    "# Concat attention input and decoder LSTM output\n",
    "decoder_concat_input = Concatenate(axis=-1, name='concat_layer')([decoder_lstm_out, attn_out])"
   ]
  },
  {
   "cell_type": "code",
   "execution_count": 14,
   "metadata": {},
   "outputs": [],
   "source": [
    "# Two dense layers\n",
    "dense = Dense(output_dict_size, activation='softmax', name='softmax_layer')\n",
    "dense_time = TimeDistributed(dense, name='time_distributed_layer')\n",
    "decoder_pred = dense_time(decoder_concat_input)"
   ]
  },
  {
   "cell_type": "markdown",
   "metadata": {},
   "source": [
    "### Attention Mechanism\n",
    "\n",
    "Reference: \n",
    "[Effective Approaches to Attention-based Neural Machine Translation](https://arxiv.org/pdf/1508.04025.pdf)'s \n",
    "**Global Attention** with **Dot**-based scoring function (Section 3, 3.1)\n"
   ]
  },
  {
   "cell_type": "code",
   "execution_count": 15,
   "metadata": {
    "collapsed": true
   },
   "outputs": [],
   "source": [
    "model = Model(inputs = [encoder_inputs, decoder_input], outputs= decoder_pred)\n",
    "model.compile(optimizer='adam', loss='categorical_crossentropy')"
   ]
  },
  {
   "cell_type": "code",
   "execution_count": 16,
   "metadata": {},
   "outputs": [
    {
     "output_type": "stream",
     "name": "stdout",
     "text": "Model: \"model\"\n__________________________________________________________________________________________________\nLayer (type)                    Output Shape         Param #     Connected to                     \n==================================================================================================\ninput_3 (InputLayer)            [(None, 90)]         0                                            \n__________________________________________________________________________________________________\nembedding (Embedding)           (None, 90, 64)       5952        input_3[0][0]                    \n__________________________________________________________________________________________________\ninput_2 (InputLayer)            [(None, 90)]         0                                            \n__________________________________________________________________________________________________\nbidirectional (Bidirectional)   [(None, 90, 256), (N 197632      embedding[0][0]                  \n__________________________________________________________________________________________________\nembedding_1 (Embedding)         (None, 90, 64)       5312        input_2[0][0]                    \n__________________________________________________________________________________________________\nconcatenate (Concatenate)       (None, 256)          0           bidirectional[0][1]              \n                                                                 bidirectional[0][3]              \n__________________________________________________________________________________________________\nconcatenate_1 (Concatenate)     (None, 256)          0           bidirectional[0][3]              \n                                                                 bidirectional[0][4]              \n__________________________________________________________________________________________________\nlstm_1 (LSTM)                   [(None, 90, 256), (N 328704      embedding_1[0][0]                \n                                                                 concatenate[0][0]                \n                                                                 concatenate_1[0][0]              \n__________________________________________________________________________________________________\nattention_layer (AttentionLayer ((None, 90, 256), (N 131328      bidirectional[0][0]              \n                                                                 lstm_1[0][0]                     \n__________________________________________________________________________________________________\nconcat_layer (Concatenate)      (None, 90, 512)      0           lstm_1[0][0]                     \n                                                                 attention_layer[0][0]            \n__________________________________________________________________________________________________\ntime_distributed_layer (TimeDis (None, 90, 83)       42579       concat_layer[0][0]               \n==================================================================================================\nTotal params: 711,507\nTrainable params: 711,507\nNon-trainable params: 0\n__________________________________________________________________________________________________\n"
    }
   ],
   "source": [
    "model.summary()"
   ]
  },
  {
   "cell_type": "markdown",
   "metadata": {},
   "source": [
    "## Training the model"
   ]
  },
  {
   "cell_type": "code",
   "execution_count": 17,
   "metadata": {
    "collapsed": true
   },
   "outputs": [],
   "source": [
    "training_encoder_input = encoded_training_input\n",
    "training_decoder_input = np.zeros_like(encoded_training_output)\n",
    "training_decoder_input[:, 1:] = encoded_training_output[:,:-1]\n",
    "training_decoder_input[:, 0] = encoding.CHAR_CODE_START\n",
    "training_decoder_output = np.eye(output_dict_size)[encoded_training_output.astype('int')]\n",
    "\n",
    "validation_encoder_input = encoded_validation_input\n",
    "validation_decoder_input = np.zeros_like(encoded_validation_output)\n",
    "validation_decoder_input[:, 1:] = encoded_validation_output[:,:-1]\n",
    "validation_decoder_input[:, 0] = encoding.CHAR_CODE_START\n",
    "validation_decoder_output = np.eye(output_dict_size)[encoded_validation_output.astype('int')]"
   ]
  },
  {
   "cell_type": "code",
   "execution_count": 36,
   "metadata": {},
   "outputs": [
    {
     "output_type": "stream",
     "name": "stdout",
     "text": "Train on 27864 samples, validate on 3097 samples\nEpoch 1/20\n27864/27864 [==============================] - 212s 8ms/sample - loss: 0.7690 - val_loss: 0.4729\nEpoch 2/20\n27864/27864 [==============================] - 177s 6ms/sample - loss: 0.4207 - val_loss: 0.3629\nEpoch 3/20\n27864/27864 [==============================] - 177s 6ms/sample - loss: 0.3132 - val_loss: 0.2529\nEpoch 4/20\n27864/27864 [==============================] - 176s 6ms/sample - loss: 0.2018 - val_loss: 0.1455\nEpoch 5/20\n27864/27864 [==============================] - 175s 6ms/sample - loss: 0.0933 - val_loss: 0.0620\nEpoch 6/20\n27864/27864 [==============================] - 107s 4ms/sample - loss: 0.0402 - val_loss: 0.0308\nEpoch 7/20\n27864/27864 [==============================] - 115s 4ms/sample - loss: 0.0250 - val_loss: 0.0237\nEpoch 8/20\n 1408/27864 [>.............................] - ETA: 1:51 - loss: 0.0206"
    }
   ],
   "source": [
    "'''\n",
    "if os.path.isfile('model.h5'):\n",
    "    model = load_model('model.h5')\n",
    "else:\n",
    "    model.fit(x=[training_encoder_input, training_decoder_input], y=[training_decoder_output],\n",
    "          validation_data=([validation_encoder_input, validation_decoder_input], [validation_decoder_output]),\n",
    "          verbose=2, batch_size=64, epochs=30)\n",
    "'''\n",
    "hist = model.fit(x=[training_encoder_input, training_decoder_input], y=[training_decoder_output],\n",
    "          validation_data=([validation_encoder_input, validation_decoder_input], [validation_decoder_output]),\n",
    "          batch_size=64, epochs=20)\n",
    "\n",
    "#model.save('model_v2.h5')"
   ]
  },
  {
   "cell_type": "code",
   "execution_count": 2,
   "metadata": {},
   "outputs": [],
   "source": [
    "import matplotlib.pyplot as plt"
   ]
  },
  {
   "cell_type": "code",
   "execution_count": 3,
   "metadata": {},
   "outputs": [
    {
     "output_type": "error",
     "ename": "NameError",
     "evalue": "name 'hist' is not defined",
     "traceback": [
      "\u001b[1;31m---------------------------------------------------------------------------\u001b[0m",
      "\u001b[1;31mNameError\u001b[0m                                 Traceback (most recent call last)",
      "\u001b[1;32m<ipython-input-3-88a99b49dd80>\u001b[0m in \u001b[0;36m<module>\u001b[1;34m\u001b[0m\n\u001b[1;32m----> 1\u001b[1;33m \u001b[0mplt\u001b[0m\u001b[1;33m.\u001b[0m\u001b[0mplot\u001b[0m\u001b[1;33m(\u001b[0m\u001b[0mhist\u001b[0m\u001b[1;33m.\u001b[0m\u001b[0mhistory\u001b[0m\u001b[1;33m[\u001b[0m\u001b[1;34m'loss'\u001b[0m\u001b[1;33m]\u001b[0m\u001b[1;33m)\u001b[0m\u001b[1;33m\u001b[0m\u001b[1;33m\u001b[0m\u001b[0m\n\u001b[0m\u001b[0;32m      2\u001b[0m \u001b[0mplt\u001b[0m\u001b[1;33m.\u001b[0m\u001b[0mplot\u001b[0m\u001b[1;33m(\u001b[0m\u001b[0mhist\u001b[0m\u001b[1;33m.\u001b[0m\u001b[0mhistory\u001b[0m\u001b[1;33m[\u001b[0m\u001b[1;34m'val_loss'\u001b[0m\u001b[1;33m]\u001b[0m\u001b[1;33m)\u001b[0m\u001b[1;33m\u001b[0m\u001b[1;33m\u001b[0m\u001b[0m\n\u001b[0;32m      3\u001b[0m \u001b[0mplt\u001b[0m\u001b[1;33m.\u001b[0m\u001b[0mxlabel\u001b[0m\u001b[1;33m(\u001b[0m\u001b[1;34m'epochs'\u001b[0m\u001b[1;33m)\u001b[0m\u001b[1;33m\u001b[0m\u001b[1;33m\u001b[0m\u001b[0m\n\u001b[0;32m      4\u001b[0m \u001b[0mplt\u001b[0m\u001b[1;33m.\u001b[0m\u001b[0mylabel\u001b[0m\u001b[1;33m(\u001b[0m\u001b[1;34m'loss'\u001b[0m\u001b[1;33m)\u001b[0m\u001b[1;33m\u001b[0m\u001b[1;33m\u001b[0m\u001b[0m\n",
      "\u001b[1;31mNameError\u001b[0m: name 'hist' is not defined"
     ]
    }
   ],
   "source": [
    "plt.plot(hist.history['loss'])\n",
    "plt.plot(hist.history['val_loss'])\n",
    "plt.xlabel('epochs')\n",
    "plt.ylabel('loss')"
   ]
  },
  {
   "cell_type": "code",
   "execution_count": 338,
   "metadata": {},
   "outputs": [
    {
     "output_type": "execute_result",
     "data": {
      "text/plain": "TensorShape([None, 90])"
     },
     "metadata": {},
     "execution_count": 338
    }
   ],
   "source": [
    "encoder_input.shape"
   ]
  },
  {
   "cell_type": "code",
   "execution_count": 339,
   "metadata": {},
   "outputs": [],
   "source": [
    "encoder_model = Model(encoder_input,encoder_states)"
   ]
  },
  {
   "cell_type": "code",
   "execution_count": 340,
   "metadata": {},
   "outputs": [],
   "source": [
    "state_input_h = Input(shape=(units*2,), name=\"state_input_h\") # units*2 if Bidirectional LSTM else units*1\n",
    "state_input_c = Input(shape=(units*2,), name=\"state_input_c\") # units*2\n",
    "inf_decoder_inputs = Input(shape=(INPUT_LENGTH, units*2), name=\"inf_decoder_inputs\")\n",
    "# similar decoder model architecture with state from encoder model\n",
    "decoder_res, decoder_h, decoder_c = decoder_lstm(decoder_emb(decoder_input),\n",
    "                                                 initial_state=[state_input_h, state_input_c])"
   ]
  },
  {
   "cell_type": "code",
   "execution_count": 341,
   "metadata": {},
   "outputs": [
    {
     "output_type": "execute_result",
     "data": {
      "text/plain": "(TensorShape([None, 90, 128]), TensorShape([None, 90, 128]))"
     },
     "metadata": {},
     "execution_count": 341
    }
   ],
   "source": [
    "inf_decoder_inputs.shape,decoder_res.shape"
   ]
  },
  {
   "cell_type": "code",
   "execution_count": 342,
   "metadata": {},
   "outputs": [],
   "source": [
    "# Attention inference\n",
    "attention = dot([inf_decoder_inputs, decoder_res], axes=[2, 2])\n",
    "attention = Activation('softmax', name='attention')(attention)\n",
    "context = dot([attention, encoder_out], axes=[2,1])\n",
    "# Concat attention input and decoder LSTM output\n",
    "decoder_out_concat_res = Concatenate(axis=-1, name='concat_layer')([decoder_res, context])"
   ]
  },
  {
   "cell_type": "code",
   "execution_count": 348,
   "metadata": {},
   "outputs": [
    {
     "output_type": "execute_result",
     "data": {
      "text/plain": "(TensorShape([None, 90]), TensorShape([None, 90, 128]))"
     },
     "metadata": {},
     "execution_count": 348
    }
   ],
   "source": [
    "decoder_input.shape,inf_decoder_inputs.shape"
   ]
  },
  {
   "cell_type": "code",
   "execution_count": 350,
   "metadata": {},
   "outputs": [
    {
     "output_type": "execute_result",
     "data": {
      "text/plain": "(TensorShape([None, 128]), TensorShape([None, 128]))"
     },
     "metadata": {},
     "execution_count": 350
    }
   ],
   "source": [
    "state_input_c.shape,state_input_c.shape"
   ]
  },
  {
   "cell_type": "code",
   "execution_count": 356,
   "metadata": {},
   "outputs": [
    {
     "output_type": "error",
     "ename": "ValueError",
     "evalue": "Graph disconnected: cannot obtain value for tensor Tensor(\"input_7:0\", shape=(None, 90), dtype=float32) at layer \"input_7\". The following previous layers were accessed without issue: ['input_8', 'embedding_9', 'state_input_h', 'state_input_c', 'lstm_9']",
     "traceback": [
      "\u001b[1;31m---------------------------------------------------------------------------\u001b[0m",
      "\u001b[1;31mValueError\u001b[0m                                Traceback (most recent call last)",
      "\u001b[1;32m<ipython-input-356-de25f71f3d1d>\u001b[0m in \u001b[0;36m<module>\u001b[1;34m\u001b[0m\n\u001b[0;32m      5\u001b[0m \u001b[1;33m\u001b[0m\u001b[0m\n\u001b[0;32m      6\u001b[0m inf_model = Model(inputs=([decoder_input] + [inf_decoder_inputs,  state_input_h, state_input_c]), \n\u001b[1;32m----> 7\u001b[1;33m                   outputs=[inf_decoder_out, decoder_h, decoder_c], name = 'Decoder')\n\u001b[0m",
      "\u001b[1;32m~\\Anaconda3\\lib\\site-packages\\tensorflow_core\\python\\keras\\engine\\training.py\u001b[0m in \u001b[0;36m__init__\u001b[1;34m(self, *args, **kwargs)\u001b[0m\n\u001b[0;32m    144\u001b[0m \u001b[1;33m\u001b[0m\u001b[0m\n\u001b[0;32m    145\u001b[0m   \u001b[1;32mdef\u001b[0m \u001b[0m__init__\u001b[0m\u001b[1;33m(\u001b[0m\u001b[0mself\u001b[0m\u001b[1;33m,\u001b[0m \u001b[1;33m*\u001b[0m\u001b[0margs\u001b[0m\u001b[1;33m,\u001b[0m \u001b[1;33m**\u001b[0m\u001b[0mkwargs\u001b[0m\u001b[1;33m)\u001b[0m\u001b[1;33m:\u001b[0m\u001b[1;33m\u001b[0m\u001b[1;33m\u001b[0m\u001b[0m\n\u001b[1;32m--> 146\u001b[1;33m     \u001b[0msuper\u001b[0m\u001b[1;33m(\u001b[0m\u001b[0mModel\u001b[0m\u001b[1;33m,\u001b[0m \u001b[0mself\u001b[0m\u001b[1;33m)\u001b[0m\u001b[1;33m.\u001b[0m\u001b[0m__init__\u001b[0m\u001b[1;33m(\u001b[0m\u001b[1;33m*\u001b[0m\u001b[0margs\u001b[0m\u001b[1;33m,\u001b[0m \u001b[1;33m**\u001b[0m\u001b[0mkwargs\u001b[0m\u001b[1;33m)\u001b[0m\u001b[1;33m\u001b[0m\u001b[1;33m\u001b[0m\u001b[0m\n\u001b[0m\u001b[0;32m    147\u001b[0m     \u001b[0m_keras_api_gauge\u001b[0m\u001b[1;33m.\u001b[0m\u001b[0mget_cell\u001b[0m\u001b[1;33m(\u001b[0m\u001b[1;34m'model'\u001b[0m\u001b[1;33m)\u001b[0m\u001b[1;33m.\u001b[0m\u001b[0mset\u001b[0m\u001b[1;33m(\u001b[0m\u001b[1;32mTrue\u001b[0m\u001b[1;33m)\u001b[0m\u001b[1;33m\u001b[0m\u001b[1;33m\u001b[0m\u001b[0m\n\u001b[0;32m    148\u001b[0m     \u001b[1;31m# initializing _distribution_strategy here since it is possible to call\u001b[0m\u001b[1;33m\u001b[0m\u001b[1;33m\u001b[0m\u001b[1;33m\u001b[0m\u001b[0m\n",
      "\u001b[1;32m~\\Anaconda3\\lib\\site-packages\\tensorflow_core\\python\\keras\\engine\\network.py\u001b[0m in \u001b[0;36m__init__\u001b[1;34m(self, *args, **kwargs)\u001b[0m\n\u001b[0;32m    167\u001b[0m         'inputs' in kwargs and 'outputs' in kwargs):\n\u001b[0;32m    168\u001b[0m       \u001b[1;31m# Graph network\u001b[0m\u001b[1;33m\u001b[0m\u001b[1;33m\u001b[0m\u001b[1;33m\u001b[0m\u001b[0m\n\u001b[1;32m--> 169\u001b[1;33m       \u001b[0mself\u001b[0m\u001b[1;33m.\u001b[0m\u001b[0m_init_graph_network\u001b[0m\u001b[1;33m(\u001b[0m\u001b[1;33m*\u001b[0m\u001b[0margs\u001b[0m\u001b[1;33m,\u001b[0m \u001b[1;33m**\u001b[0m\u001b[0mkwargs\u001b[0m\u001b[1;33m)\u001b[0m\u001b[1;33m\u001b[0m\u001b[1;33m\u001b[0m\u001b[0m\n\u001b[0m\u001b[0;32m    170\u001b[0m     \u001b[1;32melse\u001b[0m\u001b[1;33m:\u001b[0m\u001b[1;33m\u001b[0m\u001b[1;33m\u001b[0m\u001b[0m\n\u001b[0;32m    171\u001b[0m       \u001b[1;31m# Subclassed network\u001b[0m\u001b[1;33m\u001b[0m\u001b[1;33m\u001b[0m\u001b[1;33m\u001b[0m\u001b[0m\n",
      "\u001b[1;32m~\\Anaconda3\\lib\\site-packages\\tensorflow_core\\python\\training\\tracking\\base.py\u001b[0m in \u001b[0;36m_method_wrapper\u001b[1;34m(self, *args, **kwargs)\u001b[0m\n\u001b[0;32m    455\u001b[0m     \u001b[0mself\u001b[0m\u001b[1;33m.\u001b[0m\u001b[0m_self_setattr_tracking\u001b[0m \u001b[1;33m=\u001b[0m \u001b[1;32mFalse\u001b[0m  \u001b[1;31m# pylint: disable=protected-access\u001b[0m\u001b[1;33m\u001b[0m\u001b[1;33m\u001b[0m\u001b[0m\n\u001b[0;32m    456\u001b[0m     \u001b[1;32mtry\u001b[0m\u001b[1;33m:\u001b[0m\u001b[1;33m\u001b[0m\u001b[1;33m\u001b[0m\u001b[0m\n\u001b[1;32m--> 457\u001b[1;33m       \u001b[0mresult\u001b[0m \u001b[1;33m=\u001b[0m \u001b[0mmethod\u001b[0m\u001b[1;33m(\u001b[0m\u001b[0mself\u001b[0m\u001b[1;33m,\u001b[0m \u001b[1;33m*\u001b[0m\u001b[0margs\u001b[0m\u001b[1;33m,\u001b[0m \u001b[1;33m**\u001b[0m\u001b[0mkwargs\u001b[0m\u001b[1;33m)\u001b[0m\u001b[1;33m\u001b[0m\u001b[1;33m\u001b[0m\u001b[0m\n\u001b[0m\u001b[0;32m    458\u001b[0m     \u001b[1;32mfinally\u001b[0m\u001b[1;33m:\u001b[0m\u001b[1;33m\u001b[0m\u001b[1;33m\u001b[0m\u001b[0m\n\u001b[0;32m    459\u001b[0m       \u001b[0mself\u001b[0m\u001b[1;33m.\u001b[0m\u001b[0m_self_setattr_tracking\u001b[0m \u001b[1;33m=\u001b[0m \u001b[0mprevious_value\u001b[0m  \u001b[1;31m# pylint: disable=protected-access\u001b[0m\u001b[1;33m\u001b[0m\u001b[1;33m\u001b[0m\u001b[0m\n",
      "\u001b[1;32m~\\Anaconda3\\lib\\site-packages\\tensorflow_core\\python\\keras\\engine\\network.py\u001b[0m in \u001b[0;36m_init_graph_network\u001b[1;34m(self, inputs, outputs, name, **kwargs)\u001b[0m\n\u001b[0;32m    322\u001b[0m     \u001b[1;31m# Keep track of the network's nodes and layers.\u001b[0m\u001b[1;33m\u001b[0m\u001b[1;33m\u001b[0m\u001b[1;33m\u001b[0m\u001b[0m\n\u001b[0;32m    323\u001b[0m     nodes, nodes_by_depth, layers, _ = _map_graph_network(\n\u001b[1;32m--> 324\u001b[1;33m         self.inputs, self.outputs)\n\u001b[0m\u001b[0;32m    325\u001b[0m     \u001b[0mself\u001b[0m\u001b[1;33m.\u001b[0m\u001b[0m_network_nodes\u001b[0m \u001b[1;33m=\u001b[0m \u001b[0mnodes\u001b[0m\u001b[1;33m\u001b[0m\u001b[1;33m\u001b[0m\u001b[0m\n\u001b[0;32m    326\u001b[0m     \u001b[0mself\u001b[0m\u001b[1;33m.\u001b[0m\u001b[0m_nodes_by_depth\u001b[0m \u001b[1;33m=\u001b[0m \u001b[0mnodes_by_depth\u001b[0m\u001b[1;33m\u001b[0m\u001b[1;33m\u001b[0m\u001b[0m\n",
      "\u001b[1;32m~\\Anaconda3\\lib\\site-packages\\tensorflow_core\\python\\keras\\engine\\network.py\u001b[0m in \u001b[0;36m_map_graph_network\u001b[1;34m(inputs, outputs)\u001b[0m\n\u001b[0;32m   1674\u001b[0m                              \u001b[1;34m'The following previous layers '\u001b[0m\u001b[1;33m\u001b[0m\u001b[1;33m\u001b[0m\u001b[0m\n\u001b[0;32m   1675\u001b[0m                              \u001b[1;34m'were accessed without issue: '\u001b[0m \u001b[1;33m+\u001b[0m\u001b[1;33m\u001b[0m\u001b[1;33m\u001b[0m\u001b[0m\n\u001b[1;32m-> 1676\u001b[1;33m                              str(layers_with_complete_input))\n\u001b[0m\u001b[0;32m   1677\u001b[0m         \u001b[1;32mfor\u001b[0m \u001b[0mx\u001b[0m \u001b[1;32min\u001b[0m \u001b[0mnest\u001b[0m\u001b[1;33m.\u001b[0m\u001b[0mflatten\u001b[0m\u001b[1;33m(\u001b[0m\u001b[0mnode\u001b[0m\u001b[1;33m.\u001b[0m\u001b[0moutput_tensors\u001b[0m\u001b[1;33m)\u001b[0m\u001b[1;33m:\u001b[0m\u001b[1;33m\u001b[0m\u001b[1;33m\u001b[0m\u001b[0m\n\u001b[0;32m   1678\u001b[0m           \u001b[0mcomputable_tensors\u001b[0m\u001b[1;33m.\u001b[0m\u001b[0madd\u001b[0m\u001b[1;33m(\u001b[0m\u001b[0mid\u001b[0m\u001b[1;33m(\u001b[0m\u001b[0mx\u001b[0m\u001b[1;33m)\u001b[0m\u001b[1;33m)\u001b[0m\u001b[1;33m\u001b[0m\u001b[1;33m\u001b[0m\u001b[0m\n",
      "\u001b[1;31mValueError\u001b[0m: Graph disconnected: cannot obtain value for tensor Tensor(\"input_7:0\", shape=(None, 90), dtype=float32) at layer \"input_7\". The following previous layers were accessed without issue: ['input_8', 'embedding_9', 'state_input_h', 'state_input_c', 'lstm_9']"
     ]
    }
   ],
   "source": [
    "\n",
    "decoder_d1 = TimeDistributed(Dense(units, activation=\"relu\"))\n",
    "decoder_d2 = TimeDistributed(Dense(output_dict_size, activation=\"softmax\"))\n",
    "inf_decoder_out = decoder_d2(decoder_d1(decoder_out_concat_res))\n",
    "# finalizing the deocder model\n",
    "\n",
    "inf_model = Model(inputs=([decoder_input] + [inf_decoder_inputs,  state_input_h, state_input_c]), \n",
    "                  outputs=[inf_decoder_out, decoder_h, decoder_c], name = 'Decoder')\n"
   ]
  },
  {
   "cell_type": "code",
   "execution_count": 354,
   "metadata": {},
   "outputs": [],
   "source": [
    " b= [decoder_input]+[inf_decoder_inputs,  state_input_h, state_input_c]"
   ]
  },
  {
   "cell_type": "code",
   "execution_count": 355,
   "metadata": {},
   "outputs": [
    {
     "output_type": "execute_result",
     "data": {
      "text/plain": "[<tf.Tensor 'input_8:0' shape=(None, 90) dtype=float32>,\n <tf.Tensor 'inf_decoder_inputs_6:0' shape=(None, 90, 128) dtype=float32>,\n <tf.Tensor 'state_input_h_6:0' shape=(None, 128) dtype=float32>,\n <tf.Tensor 'state_input_c_6:0' shape=(None, 128) dtype=float32>]"
     },
     "metadata": {},
     "execution_count": 355
    }
   ],
   "source": []
  },
  {
   "cell_type": "code",
   "execution_count": 239,
   "metadata": {},
   "outputs": [
    {
     "output_type": "execute_result",
     "data": {
      "text/plain": "(TensorShape([None, 90]), TensorShape([None, 90, 128]))"
     },
     "metadata": {},
     "execution_count": 239
    }
   ],
   "source": [
    "decoder_input.shape,inf_decoder_inputs.shape"
   ]
  },
  {
   "cell_type": "markdown",
   "metadata": {},
   "source": [
    "### Testing the model\n"
   ]
  },
  {
   "cell_type": "code",
   "execution_count": 21,
   "metadata": {},
   "outputs": [],
   "source": [
    "def generate(text):\n",
    "    encoder_input = encoding.transform(input_encoding, [text], 90)\n",
    "    decoder_input = np.zeros(shape=(len(encoder_input), OUTPUT_LENGTH))\n",
    "    decoder_input[:,0] = encoding.CHAR_CODE_START\n",
    "    for i in range(1, OUTPUT_LENGTH):\n",
    "        output = model.predict([encoder_input, decoder_input]).argmax(axis=2)\n",
    "        decoder_input[:,i] = output[:,i]\n",
    "    return decoder_input[:,1:]\n",
    "\n",
    "def decode(decoding, sequence):\n",
    "    text = ''\n",
    "    text_list =[]\n",
    "    for i in sequence:\n",
    "        if i != 0:\n",
    "            text += output_decoding[i]\n",
    "            text_list.append(output_decoding[i])\n",
    "    return text,text_list\n",
    "\n",
    "def to_katakana(text):\n",
    "    decoder_output = generate(text)\n",
    "    txt,lst = decode(output_decoding, decoder_output[0])\n",
    "    return txt,lst"
   ]
  },
  {
   "cell_type": "code",
   "execution_count": 22,
   "metadata": {},
   "outputs": [],
   "source": [
    "k=data_input[:10]"
   ]
  },
  {
   "cell_type": "code",
   "execution_count": 290,
   "metadata": {},
   "outputs": [],
   "source": [
    "def generate(text):\n",
    "    encoder_input = encoding.transform(input_encoding, [text], 90)\n",
    "    decoder_input = np.zeros(shape=(len(encoder_input), OUTPUT_LENGTH))\n",
    "    decoder_input[:,0] = encoding.CHAR_CODE_START\n",
    "    for i in range(1, OUTPUT_LENGTH):\n",
    "        output = model.predict([encoder_input, decoder_input]).argmax(axis=2)\n",
    "        decoder_input[:,i] = output[:,i]\n",
    "    return decoder_input[:,1:]"
   ]
  },
  {
   "cell_type": "code",
   "execution_count": 305,
   "metadata": {},
   "outputs": [],
   "source": [
    "text = k[0]"
   ]
  },
  {
   "cell_type": "code",
   "execution_count": 421,
   "metadata": {},
   "outputs": [],
   "source": [
    "encoder_input = encoding.transform(input_encoding, [text], 90)\n",
    "decoder_input = np.zeros(shape=(len(encoder_input), OUTPUT_LENGTH))\n",
    "decoder_input[:,0] = encoding.CHAR_CODE_START"
   ]
  },
  {
   "cell_type": "code",
   "execution_count": 422,
   "metadata": {},
   "outputs": [],
   "source": [
    "a= [encoder_input, decoder_input]"
   ]
  },
  {
   "cell_type": "code",
   "execution_count": 423,
   "metadata": {},
   "outputs": [
    {
     "output_type": "execute_result",
     "data": {
      "text/plain": "[array([[73, 48, 34, 36, 17, 22, 93, 22, 43, 93, 49, 22, 63, 83, 36, 49,\n         46, 14, 22, 26, 22, 36, 48, 49, 41, 70, 70, 85, 57, 48,  0,  0,\n          0,  0,  0,  0,  0,  0,  0,  0,  0,  0,  0,  0,  0,  0,  0,  0,\n          0,  0,  0,  0,  0,  0,  0,  0,  0,  0,  0,  0,  0,  0,  0,  0,\n          0,  0,  0,  0,  0,  0,  0,  0,  0,  0,  0,  0,  0,  0,  0,  0,\n          0,  0,  0,  0,  0,  0,  0,  0,  0,  0]]),\n array([[1., 0., 0., 0., 0., 0., 0., 0., 0., 0., 0., 0., 0., 0., 0., 0.,\n         0., 0., 0., 0., 0., 0., 0., 0., 0., 0., 0., 0., 0., 0., 0., 0.,\n         0., 0., 0., 0., 0., 0., 0., 0., 0., 0., 0., 0., 0., 0., 0., 0.,\n         0., 0., 0., 0., 0., 0., 0., 0., 0., 0., 0., 0., 0., 0., 0., 0.,\n         0., 0., 0., 0., 0., 0., 0., 0., 0., 0., 0., 0., 0., 0., 0., 0.,\n         0., 0., 0., 0., 0., 0., 0., 0., 0., 0.]])]"
     },
     "metadata": {},
     "execution_count": 423
    }
   ],
   "source": [
    "a"
   ]
  },
  {
   "cell_type": "code",
   "execution_count": 45,
   "metadata": {},
   "outputs": [
    {
     "output_type": "stream",
     "name": "stdout",
     "text": "โรงพยาบาลป2างศิลาทอง โรงพยบบลลปาแทอ\nโรงพยาบาลบ่อทอ6ง โรงพยบบลล้อัทอ\nโรงพยาบาลชพิมาย โรพพยายลลเชย\nโรงพยาบาลทรมายมูล โรพพยบบลลไหลล์\n.รงพยาบาลทุ่งเขาหลวง โรพพยบบลลแ้งไหห้อ\nโรงพยาบาลพรหมพิาม โรพพยบบลลพคหิา\nโรงพาบาลท่าศาลา โรรพยาาลลไ่ลทา\nโรงพยาบาซยะหริ่ง โรพพยาบลลแ้ก่ช\nโรงพยาบาลนายแพท์หาญ โรงพยบบลลนแนแยย\nโรง๊ยาบาลน้ำปาด โรพพยบบลลนแน\n"
    }
   ],
   "source": [
    "pred_out =[]\n",
    "for name in k:\n",
    "    a,b =to_katakana(name)\n",
    "    print(name, a)\n",
    "    pred_out.append(to_katakana(name))"
   ]
  },
  {
   "cell_type": "code",
   "execution_count": 426,
   "metadata": {},
   "outputs": [],
   "source": [
    "data_test = pd.read_csv('../datasets/hospital_augment_test6_3.csv', header=None)"
   ]
  },
  {
   "cell_type": "code",
   "execution_count": 427,
   "metadata": {},
   "outputs": [],
   "source": [
    "data_input_test = [s for s in data_test[0]]\n",
    "data_output_test = [s for s in data_test[1]]"
   ]
  },
  {
   "cell_type": "code",
   "execution_count": 428,
   "metadata": {},
   "outputs": [
    {
     "output_type": "stream",
     "name": "stdout",
     "text": "gen_data > ttttธรผ2 > true_data\nคลินิกกรุงเ3ทพพัทยาสาขาจอมเทียน > คินิิกรกุพพะอสเพยยยสอ > คลินิกกรุงเทพพัทยาสาขาจอมเทียน\nคลินิชกกุงเทพระยองส\"าขาบ่อวิน > คคิิกรกรุเโยยรยสพ(อสุวไย > คลินิกกรุงเทพระยองสาขาบ่อวิน\nคลินิกชรุงเทพระยองสาขาปลวกแดง > คิิิ์รรพยสเยยสลแุอ > คลินิกกรุงเทพระยองสาขาปลวกแดง\nคลินิกไท์ยอินเตอร์การแพ&ยท(เกาะพงัน) > คิิิิศไไยร(ิรยรนรศอ > คลินิกไทยอินเตอร์การแพทย์(เกาะพงัน)\nคลินิกรักสโขภาพจ.ระยอง > คิิิิรร.ัไ ยรพยย > คลินิกรักสุขภาพจ.ระยอง\nคลินิกโรงพยาบาลกรุงเทพพัทยฮาสาขานาเ\"ลโือ > คาน์โอเยันุ > คลินิกโรงพยาบาลกรุงเทพพัทยาสาขานาเกลือ\nคลินิกโรงทยาบาลกรุงเทพพัทยาสาขาบุญสัมพันธ์ > คิิิิิรรพพไพยยาัยาัาุสเยุุพ > คลินิกโรงพยาบาลกรุงเทพพัทยาสาขาบุญสัมพันธ์\nคลินิกโงพยาบาลกร6ุงเทพสม\"ุย > คิิิิิรรพพพยยบลยสเกรย > คลินิกโรงพยาบาลกรุงเทพสมุย\nคลินิกโรงพฒญาบาลสมิติเวชศรีราชา(อีส3เทิร์นซีบอร์ด) > คิิิิรรรพ ยยพ าเยรเยเ(อ > คลินิกโรงพยาบาลสมิติเวชศรีราชา(อีสเทิร์นซีบอร์ด)\n"
    }
   ],
   "source": [
    "for i in range(10):\n",
    "    a,b =to_katakana(data_input_test[i])\n",
    "    out = data_output_test[i]\n",
    "    print(data_input_test[i],'>', a,'>',out)"
   ]
  },
  {
   "cell_type": "code",
   "execution_count": 191,
   "metadata": {},
   "outputs": [],
   "source": [
    "t1 = generate(text)"
   ]
  },
  {
   "cell_type": "code",
   "execution_count": 192,
   "metadata": {},
   "outputs": [
    {
     "output_type": "execute_result",
     "data": {
      "text/plain": "array([[65., 31., 65., 65., 65., 65.,  7.,  0.,  0.,  0.,  0.,  0.,  0.,\n         0.,  0.,  0.,  0.,  0.,  0.,  0.,  0.,  0.,  0.,  0.,  0.,  0.,\n         0.,  0.,  0.,  0.,  0.,  0.,  0.,  0.,  0.,  0.,  0.,  0.,  0.,\n         0.,  0.,  0.,  0.,  0.,  0.,  0.,  0.,  0.,  0.,  0.,  0.,  0.,\n         0.,  0.,  0.,  0.,  0.,  0.,  0.,  0.,  0.,  0.,  0.,  0.,  0.,\n         0.,  0.,  0.,  0.,  0.,  0.,  0.,  0.,  0.,  0.,  0.,  0.,  0.,\n         0.,  0.,  0.,  0.,  0.,  0.,  0.,  0.,  0.,  0.,  0.]])"
     },
     "metadata": {},
     "execution_count": 192
    }
   ],
   "source": [
    "t1"
   ]
  },
  {
   "cell_type": "code",
   "execution_count": 240,
   "metadata": {},
   "outputs": [],
   "source": [
    "encoder_input = encoding.transform(input_encoding, [text], 90)\n",
    "decoder_input = np.zeros(shape=(len(encoder_input), OUTPUT_LENGTH))\n",
    "#decoder_input2 = encoding.transform(output_encoding,[text],90)\n",
    "decoder_input[:,0] = encoding.CHAR_CODE_START"
   ]
  },
  {
   "cell_type": "code",
   "execution_count": 246,
   "metadata": {
    "tags": [
     "outputPrepend",
     "outputPrepend",
     "outputPrepend",
     "outputPrepend",
     "outputPrepend"
    ]
   },
   "outputs": [
    {
     "output_type": "stream",
     "name": "stdout",
     "text": "โ\nี\nอ\nี\nท\nอ\nร\nี\nอ\nี\nแ\nท\nร\nฐ\nร\nท\nฎ\nฎ\n๋\nู\nี\nท\n8\nท\n้\nท\nฎ\nต\nู\nู\nต\nค\nู\nต\na\nฎ\n7\n้\nี\n)\nะ\nอ\nี\nท\nร\nท\nฎ\nต\nฎ\nฆ\nู\nต\nค\nต\nั\nผ\nต\nผ\nะ\nฬ\nฬ\nค\n้\nต\nู\nต\nค\na\nู\nี\nท\nฎ\nฎ\n๋\nต\nณ\nั\nฬ\nฬ\nต\nฬ\nค\nะ\nต\nค\n์\nน\nท\nค\n"
    }
   ],
   "source": [
    "for i in range(1, OUTPUT_LENGTH):\n",
    "    output = model.predict([encoder_input, decoder_input])\n",
    "    idx = output.argmax(axis=2)\n",
    "    decoder_input[:,i] = idx[:,i]\n",
    "    a = idx[:,i]\n",
    "    print(output_decoding[a[0]])"
   ]
  },
  {
   "cell_type": "code",
   "execution_count": 245,
   "metadata": {},
   "outputs": [
    {
     "output_type": "execute_result",
     "data": {
      "text/plain": "'ฝ'"
     },
     "metadata": {},
     "execution_count": 245
    }
   ],
   "source": [
    "output_decoding[85]"
   ]
  },
  {
   "cell_type": "code",
   "execution_count": 66,
   "metadata": {},
   "outputs": [],
   "source": [
    "x1= np.reshape(training_encoder_input[9,:],(1,90))\n",
    "x2= np.reshape(training_decoder_input[9,:],(1,90))"
   ]
  },
  {
   "cell_type": "code",
   "execution_count": 68,
   "metadata": {},
   "outputs": [],
   "source": [
    "out  =model.predict([x1,x2])"
   ]
  },
  {
   "cell_type": "code",
   "execution_count": 69,
   "metadata": {},
   "outputs": [],
   "source": [
    "idx = out.argmax(axis=2)"
   ]
  },
  {
   "cell_type": "code",
   "execution_count": 70,
   "metadata": {},
   "outputs": [],
   "source": [
    "lst = []\n",
    "for i in range(idx.shape[1]):\n",
    "    a = idx[0,i]\n",
    "    if a != 0:\n",
    "        lst.append(output_decoding[a])"
   ]
  },
  {
   "cell_type": "code",
   "execution_count": 71,
   "metadata": {},
   "outputs": [
    {
     "output_type": "execute_result",
     "data": {
      "text/plain": "'คลินิกกรุงเทพระยองสาขาบ้านฉาง'"
     },
     "metadata": {},
     "execution_count": 71
    }
   ],
   "source": [
    "''.join(lst[1:])"
   ]
  },
  {
   "cell_type": "code",
   "execution_count": 429,
   "metadata": {},
   "outputs": [],
   "source": [
    "result = model.predict([training_encoder_input,training_decoder_input])"
   ]
  },
  {
   "cell_type": "code",
   "execution_count": 430,
   "metadata": {},
   "outputs": [],
   "source": [
    "index_result = result.argmax(axis=2)"
   ]
  },
  {
   "cell_type": "code",
   "execution_count": 122,
   "metadata": {},
   "outputs": [
    {
     "output_type": "execute_result",
     "data": {
      "text/plain": "(77137, 90)"
     },
     "metadata": {},
     "execution_count": 122
    }
   ],
   "source": [
    "index_result.shape"
   ]
  },
  {
   "cell_type": "code",
   "execution_count": 431,
   "metadata": {
    "tags": [
     "outputPrepend",
     "outputPrepend"
    ]
   },
   "outputs": [],
   "source": [
    "lst_output =[]\n",
    "for i in range(10000):\n",
    "    temp = []\n",
    "    for j in range(index_result.shape[1]):\n",
    "        a = int(index_result[i,j])\n",
    "        if a != 0:\n",
    "            temp.append(output_decoding[a])\n",
    "    lst_output.append(temp[1:])"
   ]
  },
  {
   "cell_type": "code",
   "execution_count": 432,
   "metadata": {
    "tags": [
     "outputPrepend",
     "outputPrepend",
     "outputPrepend"
    ]
   },
   "outputs": [
    {
     "output_type": "stream",
     "name": "stdout",
     "text": "องเลยราม\nโรงพยาๆาลหลวงพ่ทวีศักดิ์ ชุผินธโร อุทิ > โรงพยาบาลหลวงพ่อทวีศักดิ์ ชุตินธโร อุทิศ > \tโรงพยาบาลหลวงพ่อทวีศักดิ์ ชุตินธโร อุทิศ\nสหคลินิกกลว้ยน้าไท้าขาราม2 > สหคลินิกกล้วยน้ำไทสาขาราม2 > \tสหคลินิกกล้วยน้ำไทสาขาราม2\nโรงพยาบาลมหาชัย2 > โรงพยาบาลมหาชัย2 > \tโรงพยาบาลมหาชัย2\nโรูพยาบาลเชียงดาว > โรงพยาบาลเชียงดาว > \tโรงพยาบาลเชียงดาว\nโรงพยาบาลศรีสมเด็ > โรงพยาบาลศรีสมเด็จ > \tโรงพยาบาลศรีสมเด็จ\nโรงพยาบาลหริภุญชัยเฝมโมเรียล > โรงพยาบาลหริภุญชัยเมโมเรียล > \tโรงพยาบาลหริภุญชัยเมโมเรียล\nโรงพยาบาลเกะคา > โรงพยาบาลเกาะคา > \tโรงพยาบาลเกาะคา\nโรงพยาบาลกงไกรฺาศ > โรงพยาบาลกงไกรลาศ > \tโรงพยาบาลกงไกรลาศ\nโรงพยาบาลสองพฺ่น้4อง > โรงพยาบาลสองพี่น้อง > \tโรงพยาบาลสองพี่น้อง\nโรงขพยาบาลพระปกเกล้า > โรงพยาบาลพระปกเกล้า > \tโรงพยาบาลพระปกเกล้า\nโรงฌยาบาลบางบ่อ > โรงพยาบาลบางบ่อ > \tโรงพยาบาลบางบ่อ\nโรงพยาบาลถนาตาล > โรงพยาบาลนาตาล > \tโรงพยาบาลนาตาล\nโรงพาบาลเปาโลเมโมเรียล > โรงพยาบาลเปาโลเมโมเรียล > \tโรงพยาบาลเปาโลเมโมเรียล\nโรงพย)บาลหนองเรือ > โรงพยาบาลหนองเรือ > \tโรงพยาบาลหนองเรือ\nโรงพยาบาลโนนไทย > โรงพยาบาลโนนไทย > \tโรงพยาบาลโนนไทย\nโรงพยาบาลมะเร็งลพบุรี > โรงพยาบาลมะเร็งลพบุรี > \tโรงพยาบาลมะเร็งลพบุรี\nโรงพยคบาลสินแพทย์ > โรงพยาบาลสินแพทย์ > \tโรงพยาบาลสินแพทย์\nโรงพยาบาลเพชรรํชต์เพชรบุรี > โรงพยาบาลเพชรรัชต์เพชรบุรี > \tโรงพยาบาลเพชรรัชต์เพชรบุรี\nโรง\"ยาบาลค่ายสรรพสิทธิๆระสงค์ > โรงพยาบาลค่ายสรรพสิทธิประสงค์ > \tโรงพยาบาลค่ายสรรพสิทธิประสงค์\nโรงพยถาบาลสุราษฎร์ธานี > โรงพยาบาลสุราษฎร์ธานี > \tโรงพยาบาลสุราษฎร์ธานี\nโรงพยาบาลรวังน้ำเขียว > โรงพยาบาลวังน้ำเขียว > \tโรงพยาบาลวังน้ำเขียว\nโรงพยาบาลสุรินทร์ > โรงพยาบาลสุรินทร์ > \tโรงพยาบาลสุรินทร์\nโรงพยาบ4าลโพนพิสัย > โรงพยาบาลโพนพิสัย > \tโรงพยาบาลโพนพิสัย\nโรพยาบาลสมเด็จพระพุทธเลิ.ศหล้า > โรงพยาบาลสมเด็จพระพุทธเลิศหล้า > \tโรงพยาบาลสมเด็จพระพุทธเลิศหล้า\nโรงพยาบา(ลกรุงเทพอุดร > โรงพยาบาลกรุงเทพอุดร > \tโรงพยาบาลกรุงเทพอุดร\nโรงพยาบาลเฟิร์สเวสเทอร์น > โรงพยาบาลเฟิร์สเวสเทอร์น > \tโรงพยาบาลเฟิร์สเวสเทอร์น\nโรงพยาบาลสฒุวรรณภูมิ > โรงพยาบาลสุวรรณภูมิ > \tโรงพยาบาลสุวรรณภูมิ\nโรงพยาบาลเปาโลเมโมเฆียล > โรงพยาบาลเปาโลเมโมเรียล > \tโรงพยาบาลเปาโลเมโมเรียล\nโรงพยาบภลพระแสง > โรงพยาบาลพระแสง > \tโรงพยาบาลพระแสง\nโรขงพยาบาลบ้านแพ้วสาขาพร้อมมิตร > โรงพยาบาลบ้านแพ้วสาขาพร้อมมิตร > \tโรงพยาบาลบ้านแพ้วสาขาพร้อมมิตร\nคยลินิกเวชกรรมเมโยสาขารสาทาวเวอร์อาคาร2 > คลินิกเวชกรรมเมโยสาขารสาทาวเวอร์อาคาร2 > \tคลินิกเวชกรรมเมโยสาขารสาทาวเวอร์อาคาร2\nโรง๋ยาบาลนาด้วง > โรงพยาบาลนาด้วง > \tโรงพยาบาลนาด้วง\nโรงพยาบาลโคกฦสำโรง > โรงพยาบาลโคกสำโรง > \tโรงพยาบาลโคกสำโรง\nโรงพยา)าลดงหลวง > โรงพยาบาลดงหลวง > \tโรงพยาบาลดงหลวง\nโรงพยาบาลบ้านแพ้ว สาข\"าพร้อมมิตร > โรงพยาบาลบ้านแพ้ว สาขาพร้อมมิตร > \tโรงพยาบาลบ้านแพ้ว สาขาพร้อมมิตร\nโรงพยาบาชนแดน > โรงพยาบาลชนแดน > \tโรงพยาบาลชนแดน\nโรรงพยาึถบาลส่งเสริมสุขภพพ ศูนย์อนามัยที่ 3 > โรงพยาบาลส่งเสริมสุขภาพ ศูนย์อนามัยที่ 3 > \tโรงพยาบาลส่งเสริมสุขภาพ ศูนย์อนามัยที่ 3\nโรงพยาบาลสามพรพน > โรงพยาบาลสามพราน > \tโรงพยาบาลสามพราน\nแรงพยาบาลหนองคาย > โรงพยาบาลหนองคาย > \tโรงพยาบาลหนองคาย\nโรงพยาบาลรฎามคแหง > โรงพยาบาลรามคำแหง > \tโรงพยาบาลรามคำแหง\nโใงพยาบาลสังคม > โรงพยาบาลสังคม > \tโรงพยาบาลสังคม\nโรงพยาบาลแหลมงอบ > โรงพยาบาลแหลมงอบ > \tโรงพยาบาลแหลมงอบ\nโรงพยาบาลบ้า4นฝาง > โรงพยาบาลบ้านฝาง > \tโรงพยาบาลบ้านฝาง\nโรงพยาบาลรวมชัยประชารัก2ษ์ > โรงพยาบาลรวมชัยประชารักษ์ > \tโรงพยาบาลรวมชัยประชารักษ์\nศูนย์ศรีพัฒน์คณะแพทย์าสตร์มหาวิทยาลัยเชียงใหม่ > ศูนย์ศรีพัฒน์คณะแพทย์ศาสตร์มหาวิทยาลัยเชียงใหม่ > \tศูนย์ศรีพัฒน์คณะแพทย์ศาสตร์มหาวิทยาลัยเชียงใหม่\nโรงพยาฯบาลพีรเวช > โรงพยาบาลพีรเวช > \tโรงพยาบาลพีรเวช\nโงพยาบาลปากพนัง > โรงพยาบาลปากพนัง > \tโรงพยาบาลปากพนัง\nโรงพยาบาลสินแพจทย์ รามอินทรา > โรงพยาบาลสินแพทย์ รามอินทรา > \tโรงพยาบาลสินแพทย์ รามอินทรา\nกรงพยาบาลส่งเสริมสุขภาพ ศูนย์อนามัยที่ 13 > โรงพยาบาลส่งเสริมสุขภาพ ศูนย์อนามัยที่ 13 > \tโรงพยาบาลส่งเสริมสุขภาพ ศูนย์อนามัยที่ 13\nโรงพยาบาลมชุมแพ > โรงพยาบาลชุมแพ > \tโรงพยาบาลชุมแพ\nงรงพยาบาลโกสัมพีนคร > โรงพยาบาลโกสัมพีนคร > \tโรงพยาบาลโกสัมพีนคร\nโรงพยบาลสำโรง > โรงพยาบาลสำโรง > \tโรงพยาบาลสำโรง\nโรงพยา็บาลโพนทราย > โรงพยาบาลโพนทราย > \tโรงพยาบาลโพนทราย\nโรงพาบาลกรุงเทพประชาอุทิ > โรงพยาบาลกรุงเทพประชาอุทิศ > \tโรงพยาบาลกรุงเทพประชาอุทิศ\nโรพยาบาลไทยนครินทร์ > โรงพยาบาลไทยนครินทร์ > \tโรงพยาบาลไทยนครินทร์\nโรงพยาบญลรือเสาะ > โรงพยาบาลรือเสาะ > \tโรงพยาบาลรือเสาะ\nโรงพยาบาลอ่าวลก > โรงพยาบาลอ่าวลึก > \tโรงพยาบาลอ่าวลึก\nโรงพยาบาขอานันทมหิดล > โรงพยาบาลอานันทมหิดล > \tโรงพยาบาลอานันทมหิดล\nโรงพยบาลพล > โรงพยาบาลพล > \tโรงพยาบาลพล\nโรงพยาบาลพร๎ยืน > โรงพยาบาลพระยืน > \tโรงพยาบาลพระยืน\nโร7พยาบาลยุวประสาทไวทโยปถัมภ์ > โรงพยาบาลยุวประสาทไวทโยปถัมภ์ > \tโรงพยาบาลยุวประสาทไวทโยปถัมภ์\nโรงพยาบ็าลโพะเล > โรงพยาบาลโพทะเล > \tโรงพยาบาลโพทะเล\nโรงพยาบาลบางขัุ > โรงพยาบาลบางขัน > \tโรงพยาบาลบางขัน\nโรงพยาบ0ลตรังรวมแพทย์ > โรงพยาบาลตรังรวมแพทย์ > \tโรงพยาบาลตรังรวมแพทย์\nโรงพยาบาลนนทเำวช > โรงพยาบาลนนทเวช > \tโรงพยาบาลนนทเวช\nโรงพยาบลคุระบุรีชัยพัฒน์ > โรงพยาบาลคุระบุรีชัยพัฒน์ > \tโรงพยาบาลคุระบุรีชัยพัฒน์\nโรงพยาบาขวังสะพุง > โรงพยาบาลวังสะพุง > \tโรงพยาบาลวังสะพุง\nโรงพยาบาลเอกชนบุรีฉัมย์ > โรงพยาบาลเอกชนบุรีรัมย์ > \tโรงพยาบาลเอกชนบุรีรัมย์\nรงพยาบาลเนินมะปราง > โรงพยาบาลเนินมะปราง > \tโรงพยาบาลเนินมะปราง\nโรงพยาบาลจุฬารัตน์9 > โรงพยาบาลจุฬารัตน์9 > \tโรงพยาบาลจุฬารัตน์9\nโรงพยาบาลส่งเสริมสุขภาพเชียงแใหม่ > โรงพยาบาลส่งเสริมสุขภาพเชียงใหม่ > \tโรงพยาบาลส่งเสริมสุขภาพเชียงใหม่\nโรงพยาบาลโพธิไทอง > โรงพยาบาลโพธิ์ทอง > \tโรงพยาบาลโพธิ์ทอง\nโรงพยาบาลโนนษุวำรณ > โรงพยาบาลโนนสุวรรณ > \tโรงพยาบาลโนนสุวรรณ\nโรงพยบาบาลโนนสะอาด > โรงพยาบาลโนนสะอาด > \tโรงพยาบาลโนนสะอาด\nโรงพยาบาล5มเด็จพร้ฌะพุทธเลิศหล้า > โรงพยาบาลสมเด็จพระพุทธเลิศหล้า > \tโรงพยาบาลสมเด็จพระพุทธเลิศหล้า\nโรงพยาบาลบางปะก > โรงพยาบาลบางปะกง > \tโรงพยาบาลบางปะกง\nโรงพยาบาลจิกตเวช3สระแก้วาชนครรินทร์ > โรงพยาบาลจิตเวชสระแก้วราชนครรินทร์ > \tโรงพยาบาลจิตเวชสระแก้วราชนครรินทร์\nโรงพยาบาลสายหยัุด > โรงพยาบาลสายหยุด > \tโรงพยาบาลสายหยุด\nโรงพาบาลซับใหญ่ > โรงพยาบาลซับใหญ่ > \tโรงพยาบาลซับใหญ่\n.สถาบันพัฒนาการเด็กราชนครินทร์ > สถาบันพัฒนาการเด็กราชนครินทร์ > \tสถาบันพัฒนาการเด็กราชนครินทร์\nโรงพยาบาลแม่ใ& > โรงพยาบาลแม่ใจ > \tโรงพยาบาลแม่ใจ\nโรงพยาบาลสยามราษฎร์เ5ชียงใหม่ > โรงพยาบาลสยามราษฎร์เชียงใหม่ > \tโรงพยาบาลสยามราษฎร์เชียงใหม่\nโรงพยาบฮลรวมแพทย์นครสวรรค์ > โรงพยาบาลรวมแพทย์นครสวรรค์ > \tโรงพยาบาลรวมแพทย์นครสวรรค์\nโรงพยาบาลบางม4ด 3 > โรงพยาบาลบางมด 3 > \tโรงพยาบาลบางมด 3\nโรงพยาบาลํหนองหงส์ > โรงพยาบาลหนองหงส์ > \tโรงพยาบาลหนองหงส์\nคลินิคเกษมรา๊ฎร์ศรีบุรินทร์สาขาอาเภอเชียงแสน > คลินิคเกษมราษฎร์ศรีบุรินทร์สาขาอาเภอเชียงแสน > \tคลินิคเกษมราษฎร์ศรีบุรินทร์สาขาอาเภอเชียงแสน\nโรพยาบาลบ้านแพ้ว 0ษาขาพร้อมมิตร > โรงพยาบาลบ้านแพ้ว สาขาพร้อมมิตร > \tโรงพยาบาลบ้านแพ้ว สาขาพร้อมมิตร\nโรัพยาบาลหลวงพ่อเปฅ่น > โรงพยาบาลหลวงพ่อเปิ่น > \tโรงพยาบาลหลวงพ่อเปิ่น\nโรงพยาบาลตำรวจ > โรงพยาบาลตำรวจ > \tโรงพยาบาลตำรวจ\nโรงพยฺบาลวิหารแดง > โรงพยาบาลวิหารแดง > \tโรงพยาบาลวิหารแดง\nโรงพยาบาลทบคล้อ > โรงพยาบาลทับคล้อ > \tโรงพยาบาลทับคล้อ\nโรงพยฺาบาฒลพระมงกุฎ > โรงพยาบาลพระมงกุฎ > \tโรงพยาบาลพระมงกุฎ\nโรงพยาบาลหลวงพ่อนวีศักด์ ชุตินธโร อทอิศ > โรงพยาบาลหลวงพ่อทวีศักดิ์ ชุตินธโร อุทิศ > \tโรงพยาบาลหลวงพ่อทวีศักดิ์ ชุตินธโร อุทิศ\nโรงพยาบาลเกษ้มราษฎร์รามคำหง > โรงพยาบาลเกษมราษฎร์รามคำแหง > \tโรงพยาบาลเกษมราษฎร์รามคำแหง\nสถาบันราชานกูล > สถาบันราชานุกูล > \tสถาบันราชานุกูล\nโรงพยาษบาลสกลนคร > โรงพยาบาลสกลนคร > \tโรงพยาบาลสกลนคร\nสถาไพยาบาลอิมพีเรียล > สถานพยาบาลอิมพีเรียล > \tสถานพยาบาลอิมพีเรียล\nศูนย์สุขภาพรพ.สมเด็จพระิปิ่นเกล้าฯ คลองมอญ > ศูนย์สุขภาพรพ.สมเด็จพระปิ่นเกล้าฯ คลองมอญ > \tศูนย์สุขภาพรพ.สมเด็จพระปิ่นเกล้าฯ คลองมอญ\nโรงพยาบาลเษมราดฎร์ ประชาชื่ึ > โรงพยาบาลเกษมราษฎร์ ประชาชื่น > \tโรงพยาบาลเกษมราษฎร์ ประชาชื่น\nโรงพยาบาลลาดพ้ร้าว > โรงพยาบาลลาดพร้าว > \tโรงพยาบาลลาดพร้าว\nโรงพยาบาลสไะบ้าย้อย > โรงพยาบาลสะบ้าย้อย > \tโรงพยาบาลสะบ้าย้อย\nโรง-ยาบาลกล้วยน้ำไท 2 > โรงพยาบาลกล้วยน้ำไท 2 > \tโรงพยาบาลกล้วยน้ำไท 2\nโรงพยาบธลมหาวชิราลงกรณ ธัญบุรี > โรงพยาบาลมหาวิิราลงกรณ ธัญบุรี > \tโรงพยาบาลมหาวชิราลงกรณ ธัญบุรี\nโรงพยาบาลรา-ธานีโรจนะ > โรงพยาบาลราชธานีโรจนะ > \tโรงพยาบาลราชธานีโรจนะ\nโรงพยาาลบรรพตพิสัืย > โรงพยาบาลบรรพตพิสัย > \tโรงพยาบาลบรรพตพิสัย\nโรงพยาบาลพร.ะพรหม > โรงพยาบาลพระพรหม > \tโรงพยาบาลพระพรหม\nโรงพยาบาลจัง6หาร > โรงพยาบาลจังหาร > \tโรงพยาบาลจังหาร\nโรงพยาบาล๊พล > โรงพยาบาลพล > \tโรงพยาบาลพล\nโรงพยาบาล50 พรรษ. มหาวชิราลงกรณ์ > โรงพยาบาล50 พรรษา มหาวชิราลงกรณ์ > \tโรงพยาบาล50 พรรษา มหาวชิราลงกรณ์\nโรงพยาบาลคลอ๋ท่อม > โรงพยาบาลคลองท่อม > \tโรงพยาบาลคลองท่อม\nโรงพยาบา0ฌเสิงสาง > โรงพยาบาลเสิงสาง > \tโรงพยาบาลเสิงสาง\nโรงพยาบาลดอนตาล > โรงพยาบาลดอนตาล > \tโรงพยาบาลดอนตาล\nโรงพยาบดาลประสานมิตย > โรงพยาบาลประสานมิตร > \tโรงพยาบาลประสานมิตร\nโรงพยาบาลไพรฟบึง > โรงพยาบาลไพรบึง > \tโรงพยาบาลไพรบึง\nโรงพยาบาลฐยุวประสาทไวทโยปถัมภ์ > โรงพยาบาลยุวประสาทไวทโยปถัมภ์ > \tโรงพยาบาลยุวประสาทไวทโยปถัมภ์\nโรงพยฤาบาลเดชา > โรงพยาบาลเดชา > \tโรงพยาบาลเดชา\nโรๅพยาบาลชำนิ > โรงพยาบาลชำนิ > \tโรงพยาบาลชำนิ\nโรงพยาบาลเกษมราๆษฎร์ราไคำแหง > โรงพยาบาลเกษมราษฎร์รามคำแหง > \tโรงพยาบาลเกษมราษฎร์รามคำแหง\nโร๊พยาบาลมหาชนะชึย > โรงพยาบาลมหาชนะชัย > \tโรงพยาบาลมหาชนะชัย\nโรงพยาบาลกระบุรฝ > โรงพยาบาลกระบุรี > \tโรงพยาบาลกระบุรี\nโรงพยาบาลเชียงใหม่เมดิคอลเซ็เตอร์ > โรงพยาบาลเชียงใหม่เมดิคอลเซ็นเตอร์ > \tโรงพยาบาลเชียงใหม่เมดิคอลเซ็นเตอร์\nโรงพยาบาลบ้านนา > โรงพยาบาลบ้านนา > \tโรงพยาบาลบ้านนา\nโรงฆยาบาลเสนา > โรงพยาบาลเสนา > \tโรงพยาบาลเสนา\nโรงพยาบาลศรีธัญซา > โรงพยาบาลศรีธัญญา > \tโรงพยาบาลศรีธัญญา\nสามย่านคลินิกเศชกรรม > สามย่านคลินิกเวชกรรม > \tสามย่านคลินิกเวชกรรม\nโรงพยาบาลสมเด็จพระปิ่นเกล้า > โรงพยาบาลสมเด็จพระปิ่นเกล้า > \tโรงพยาบาลสมเด็จพระปิ่นเกล้า\nโรฌพยาบาลท่าแซะ > โรงพยาบาลท่าแซะ > \tโรงพยาบาลท่าแซะ\nโรงพยาบาลการุญเวชอยุธยาฺเปลี่ยนชื่อจากนวนครอยุธยา) > โรงพยาบาลการุญเวชอยุธยา(เปลี่ยนชื่อจากนวนครอยุธยา) > \tโรงพยาบาลการุญเวชอยุธยา(เปลี่ยนชื่อจากนวนครอยุธยา)\nโรงพยาบาลนึำเกลี้ยง > โรงพยาบาลน้ำเกลี้ยง > \tโรงพยาบาลน้ำเกลี้ยง\nโรงพยาบาลลานส/กา > โรงพยาบาลลานสะกา > \tโรงพยาบาลลานสะกา\nโรงฎพยาบาลเสนา > โรงพยาบาลเสนา > \tโรงพยาบาลเสนา\nโร์งพยาบำลตรังรวมแพทย์ > โรงพยาบาลตรังรวมแพทย์ > \tโรงพยาบาลตรังรวมแพทย์\nโรงพยาบาลบ้านไร่ > โรงพยาบาลบ้านไร่ > \tโรงพยาบาลบ้านไร่\nโรงพยาบาลสวนปุง > โรงพยาบาลสวนปรุง > \tโรงพยาบาลสวนปรุง\nโรงพยาบาลศรีสั์ชนาลัย > โรงพยาบาลศรีสัชนาลัย > \tโรงพยาบาลศรีสัชนาลัย\nโรงพยาบาลมวกเหล็ก > โรงพยาบาลมวกเหล็ก > \tโรงพยาบาลมวกเหล็ก\nโรงพยาบาลโผพธาราม > โรงพยาบาลโพธาราม > \tโรงพยาบาลโพธาราม\nโรงพยาบฤลวัดโบสถ์ > โรงพยาบาลวัดโบสถ์ > \tโรงพยาบาลวัดโบสถ์\nโรงพยาบ2ลพนมงรัก เฉลิม๎ระเกียศรติ 80 พรรษ9า > โรงพยาบาลพนมดงรัก เฉลิมพระเกียรติ 80 พรรษา > \tโรงพยาบาลพนมดงรัก เฉลิมพระเกียรติ 80 พรรษา\nโรงพยาบาลสมเ็ด็จพระพุทธเลิศหลา้ > โรงพยาบาลสมเด็จพระพุทธเลิศหล้า > \tโรงพยาบาลสมเด็จพระพุทธเลิศหล้า\nโรงพยาบาลกระบี่นรินทร์อินสเขอร์เนชั่นแนล > โรงพยาบาลกระบี่นครินทร์อินเตอร์เนชั่นแนล > \tโรงพยาบาลกระบี่นครินทร์อินเตอร์เนชั่นแนล\nโรงพยาบาลฆนนสุวรรณ > โรงพยาบาลโนนสุวรรณ > \tโรงพยาบาลโนนสุวรรณ\nโรงพยาบาลศิ2ิราช > โรงพยาบาลศิริราช > \tโรงพยาบาลศิริราช\nโรงพยาาลจุฬาภรณ์ > โรงพยาบาลจุฬาภรณ์ > \tโรงพยาบาลจุฬาภรณ์\nสมิติเวชยอมอริธนีรามอินทราคลินิกเวชกรรม > สมิติเวชอมอรินีรามอินทราคลินิกเวชกรรม > \tสมิติเวชอมอรินีรามอินทราคลินิกเวชกรรม\nโรงนยาบาลตาพระยา > โรงพยาบาลตาพระยา > \tโรงพยาบาลตาพระยา\nโรงพยาบาลธรรมศาสตร์เฉลิมพระเกียรติ > โรงพยาบาลธรรมศาสตร์เฉลิมพระเกียรติ > \tโรงพยาบาลธรรมศาสตร์เฉลิมพระเกียรติ\nโรงพยาบาลสมเด็จพระเจ้าตากสินมหาราช > โรงพยาบาลสมเด็จพระเจ้าตากสินมหาราช > \tโรงพยาบาลสมเด็จพระเจ้าตากสินมหาราช\nโรงพยาบาลไชยวน > โรงพยาบาลไชยวาน > \tโรงพยาบาลไชยวาน\nโรงฏยาบาลท่าวังผา > โรงพยาบาลท่าวังผา > \tโรงพยาบาลท่าวังผา\nโรึงพยาบาลค่ายสุรนารี > โรงพยาบาลค่ายสุรนารี > \tโรงพยาบาลค่ายสุรนารี\nโรงพยาบาลวังปมบูรณ์ > โรงพยาบาลวังสมบูรณ์ > \tโรงพยาบาลวังสมบูรณ์\nโรงพยาบาลสอยดาว > โรงพยาบาลสอยดาว > \tโรงพยาบาลสอยดาว\nโรงพงยาบาลรัทรินทร์ > โรงพยาบาลรัทรินทร์ > \tโรงพยาบาลรัทรินทร์\nโรงพยาบาลโ.นสูง > โรงพยาบาลโนนสูง > \tโรงพยาบาลโนนสูง\nโรงพย่าบาลลำทะเมนชัย > โรงพยาบาลลำทะเมนชัย > \tโรงพยาบาลลำทะเมนชัย\nโรงพยาบา็เฉพาะทางแม่และเด็กแพทย์รังสิต > โรงพยาบาลเฉพาะทางแม่และเด็กแพทย์รังสิต > \tโรงพยาบาลเฉพาะทางแม่และเด็กแพทย์รังสิต\nคลินิกกรุงเทพระยองสาขาบ่อวิน > คลินิกกรุงเทพระยองสาขาบ่อวิน > \tคลินิกกรุงเทพระยองสาขาบ่อวิน\nโรงพยาบา้ลสิโรรส > โรงพยาบาลสิโรรส > \tโรงพยาบาลสิโรรส\nโรเงพยาบาลพิษณุเวช > โรงพยาบาลพิษณุเวช > \tโรงพยาบาลพิษณุเวช\nโรงพยาบาลหนองขาหย่าง > โรงพยาบาลหนองขาหย่าง > \tโรงพยาบาลหนองขาหย่าง\nโรงพยาบาลสุไหงปา2ดี > โรงพยาบาลสุไหงปาดี > \tโรงพยาบาลสุไหงปาดี\nโรงพยาบ1ลนครปฐม > โรงพยาบาลนครปฐม > \tโรงพยาบาลนครปฐม\nโรงพยศาบาลพร้าว > โรงพยาบาลพร้าว > \tโรงพยาบาลพร้าว\nโรงพยาาลธนชบุรี > โรงพยาบาลธนบุรี > \tโรงพยาบาลธนบุรี\nโรงพยาบาลชุมพลฦุรี > โรงพยาบาลชุมพลบุรี > \tโรงพยาบาลชุมพลบุรี\nโรงพยาบาลนองบัว > โรงพยาบาลหนองบัว > \tโรงพยาบาลหนองบัว\nโรงพยพบาลยางปีสุราช > โรงพยาบาลยางสีสุราช > \tโรงพยาบาลยางสีสุราช\nโรงพยาะบาลกรุงสยามเซนต์คาร์๋อส > โรงพยาบาลกรุงสยามเซนต์คาร์ลอส > \tโรงพยาบาลกรุงสยามเซนต์คาร์ลอส\nโรงพยาบาล\"จ้ห่ม > โรงพยาบาลแจ้ห่ม > \tโรงพยาบาลแจ้ห่ม\nโรงพยาบาลเกาะสบมุย > โรงพยาบาลเกาะสมุย > \tโรงพยาบาลเกาะสมุย\nโรงพยาบาลโคกเจริญ > โรงพยาบาลโคกเจริญ > \tโรงพยาบาลโคกเจริญ\nโรงพยาบาลกำแพงเพร > โรงพยาบาลกำแพงเพชร > \tโรงพยาบาลกำแพงเพชร\nโรฟงพยาบาลบางขุนเทียน 1 > โรงพยาบาลบางขุนเทียน 1 > \tโรงพยาบาลบางขุนเทียน 1\nโรงพยาบาลศรีเฬียถงใหม่ > โรงพยาบาลศรีเชียงใหม่ > \tโรงพยาบาลศรีเชียงใหม่\nโรงพขยาบาลบางนา2 > โรงพยาบาลบางนา2 > \tโรงพยาบาลบางนา2\nโรงพยาบะลชะอวด > โรงพยาบาลชะอวด > \tโรงพยาบาลชะอวด\nโรงพยาบาลสวนสราญรมย์ > โรงพยาบาลสวนสราญรมย์ > \tโรงพยาบาลสวนสราญรมย์\nโรงพยาคบาลโ&กลเด้นเยียส์ > โรงพยาบาลโกลเด้นเยียส์ >\tโรงพยาบาลโกลเด้นเยียส์\nโรงพยาบาลวัดจันทร์ เฉลิมพระเกียรติ 80 พรใษา > โรงพยาบาลวัดจันทร์ เฉลิมพระเกียรติ 80 พรรษา > \tโรงพยาบาลวัดจันทร์ เฉลิมพระเกียรติ 80 พรรษา\nโรงพยาบาลบุณ๋ริก > โรงพยาบาลบุณฑริก > \tโรงพยาบาลบุณฑริก\nโรพยาบาล๎รามคาแหง > โรงพยาบาลรามคาแหง > \tโรงพยาบาลรามคาแหง\nโรงพยาบาล้พ็ญ > โรงพยาบาลเพ็ญ > \tโรงพยาบาลเพ็ญ\nสหคลิน1ิกกลว้ยน้าไทสาขาอโศก > สหคลินิกกล้วยน้ำไทสาขาอโศก > \tสหคลินิกกล้วยน้ำไทสาขาอโศก\nโรงพยาบาลราษฎร์ภูรณ0 > โรงพยาบาลราษฎร์บูรณะ > \tโรงพยาบาลราษฎร์บูรณะ\nโรงพยาบารเขาย้อย > โรงพยาบาลเขาย้อย > \tโรงพยาบาลเขาย้อย\nคลินิกโรงพยาบาลสมิติเวชศรีราชา(อีสเทิร์นซีบอร์ด) > คลินิกโรงพยาบาลสมิติเวชศรีราชา(อีสเทิร์นซีบอร์ด) > \tคลินิกโรงพยาบาลสมิติเวชศรีราชา(อีสเทิร์นซีบอร์ด)\nโรงพยาบาลรวมแพทย์สุโขทัย > โรงพยาบาลรวมแพทย์สุโขทัย > \tโรงพยาบาลรวมแพทย์สุโขทัย\nโร7พยาบาลกาญจนบ่รี-เมโมเรียล > โรงพยาบาลกาญจนบุรีเมโมเรียล > \tโรงพยาบาลกาญจนบุรีเมโมเรียล\nโรงพยาบาลทุ่งศภีอุดม > โรงพยาบาลทุ่งศรีอุดม > \tโรงพยาบาลทุ่งศรีอุดม\nโรงพยาบฉาลเปาโลโชคชย 4 > โรงพยาบาลเปาโลโชคชัย 4 > \tโรงพยาบาลเปาโลโชคชัย 4\nโฬรงพยาบาลเกษมราษฎร์สระบุรี > โรงพยาบาลเกษมราษฎร์สระบุรี > \tโรงพยาบาลเกษมราษฎร์สระบุรี\nโรงปพยาบาลสมิติเวช ธนบุรี > โรงพยาบาลสมิติเวช ธนบุรี > \tโรงพยาบาลสมิติเวช ธนบุรี\nโรงพยาบาลสมเด็จพระยุรราชกระนวน > โรงพยาบาลสมเด็จพระยุพราชกระนวน > \tโรงพยาบาลสมเด็จพระยุพราชกระนวน\nโรงพยาบใลบางบ่อ > โรงพยาบาลบางบ่อ > \tโรงพยาบาลบางบ่อ\nโรงพยาบาลหว้านใึ1ญ่ > โรงพยาบาลหว้านใหญ่ > \tโรงพยาบาลหว้านใหญ่\nโรงพยาบาลสำโรงกธรแพทย์ > โรงพยาบาลสำโรงกรรแพทย์ > \tโรงพยาบาลสำโรงการแพทย์\nโรงพยาบาลท7ุ่งหัวช้าง > โรงพยาบาลทุ่งหัวช้าง > \tโรงพยาบาลทุ่งหัวช้าง\nโรงพยาบาล้วยเกิ้ง > โรงพยาบาลห้วยเกิ้ง > \tโรงพยาบาลห้วยเกิ้ง\nโรงพยาบาลรามาธิบดยี > โรงพยาบาลรามาธิบดี > \tโรงพยาบาลรามาธิบดี\nโรงพยาบาลยีพ่งอเฉลิมพระเกียรต\"ิ 80 พรรษา > โรงพยาบาลยี่งอเฉลิมพระเกียรติ 80 พรรษา > \tโรงพยาบาลยี่งอเฉลิมพระเกียรติ 80 พรรษา\nโร้โพยาบาลพิบูลย์รักษ์ > โรงพยาบาลพิบูลย์รักษ์ > \tโรงพยาบาลพิบูลย์รักษ์\nโรงพาบาลสมิติเวช สุขุมวิท > โรงพยาบาลสมิติเวช สุขุมวิท > \tโรงพยาบาลสมิติเวช สุขุมวิท\nโรงพยาบาลสุขสำราญ > โรงพยาบาลสุขสำราญ > \tโรงพยาบาลสุขสำราญ\nโรงพยาบาลท่าอุเทน > โรงพยาบาลท่าอุเทน > \tโรงพยาบาลท่าอุเทน\nโรงพยาบาลบำเหน็จณรง์ > โรงพยาบาลบำเหน็จณรงค์ > \tโรงพยาบาลบำเหน็จณรงค์\nโรงพยา2าลดอยสะเก็ด > โรงพยาบาลดอยสะเก็ด > \tโรงพยาบาลดอยสะเก็ด\nโรงพยาบาลาเทพรัตนเวชชานุกูล เฉลิมพระเกียรติ 0 พระรษา > โรงพยาบาลเทพรัตนเวชชานุกูล เฉลิมพระเกียรติ 60 พรรษา > \tโรงพยาบาลเทพรัตนเวชชานุกูล เฉลิมพระเกียรติ 60 พรรษา\nโรงพกาบาลสมิติเํวชศรีนครินทร์ > โรงพยาบาลสมิติเวช ศรีนครินทร์ > \tโรงพยาบาลสมิติเวช ศรีนครินทร์\nโรงพยาบาลลานกระ์ือ > โรงพยาบาลลานกระบือ > \tโรงพยาบาลลานกระบือ\nโรงพยาบาลอ่างทองเวช5การ2 > โรงพยาบาลอ่างทองเวชชการ2 > \tโรงพยาบาลอ่างทองเวชชการ2\nโรงพยาบาลหลวงพ่อทวีศักดิ์ ชุตินธโร อุทิ็ > โรงพยาบาลหลวงพ่อทวีศักดิ์ ชุตินธโร อุทิศ > \tโรงพยาบาลหลวงพ่อทวีศักดิ์ ชุตินธโร อุทิศ\nโรงพย2าบาลแวงใหญ่ > โรงพยาบาลแวงใหญ่ > \tโรงพยาบาลแวงใหญ่\nฬรงพยาบาลรวมแพทย์นครสวรรค์ > โรงพยาบาลรวมแพทย์นครสวรรค์ > \tโรงพยาบาลรวมแพทย์นครสวรรค์\nโรงพยาาลเกษตร๊วิสัย > โรงพยาบาลเกษตรวิสัย > \tโรงพยาบาลเกษตรวิสัย\nโรงพยาบาลปทุมกเวช > โรงพยาบาลปทุมเวช > \tโรงพยาบาลปทุมเวช\nโรพยาบาลรวมแพทย์สุโขทัย > โรงพยาบาลรวมแพทย์สุโขทัย > \tโรงพยาบาลรวมแพทย์สุโขทัย\nโรงพยาบาลภูสฑงห์ > โรงพยาบาลภูสิงห์ > \tโรงพยาบาลภูสิงห์\nโรงพยาบาลราชวๅิถี > โรงพยาบาลราชวิถี > \tโรงพยาบาลราชวิถี\nโรงพยาบาลธนบุรี > โรงพยาบาลธนบุรี > \tโรงพยาบาลธนบุรี\nโรงพยาบาลเซ็นทรัลฌยนเทนอรัล > โรงพยาบาลเซ็นทรัลเยนเนอรัล > \tโรงพยาบาลเซ็นทรัลเยนเนอรัล\nโรงพยาบาลบางขนเโียน 1 > โรงพยาบาลบางขุนเทียน 1 > \tโรงพยาบาลบางขุนเทียน 1\nโรงพยาบาลสเมเด็จพระสังฆราช(นครหลวง) > โรงพยาบาลสมเด็จพระสังฆราช(นครหลวง) > \tโรงพยาบาลสมเด็จพระสังฆราช(นครหลวง)\nโรงพยาบาลนครพนม > โรงพยาบาลนครพนม > \tโรงพยาบาลนครพนม\nโรศพยาบาลดอยหล่อ > โรงพยาบาลดอยหล่อ > \tโรงพยาบาลดอยหล่อ\nโรงพยาบาลสมเด็จพระยุพราชธาตพนม > โรงพยาบาลสมเด็จพระยุพราชธาตุพนม > \tโรงพยาบาลสมเด็จพระยุพราชธาตุพนม\nโรงพยาบาลสินแพทย์ รา4มอินทรา > โรงพยาบาลสินแพทย์ รามอินทรา > \tโรงพยาบาลสินแพทย์ รามอินทรา\nโรงพยาบาภาชี > โรงพยาบาลภาชี > \tโรงพยาบาลภาชี\nโรงพยาบาลสูงผม่น > โรงพยาบาลสูงเม่น > \tโรงพยาบาลสูงเม่น\nโรงพยาบาลวิ๋ัยเวชอินเตอร์เนชั่นแนลหนองแขม > โรงพยาบาลวิชัยเวชอินเตอร์เนชั่นแนลหนองแขม > \tโรงพยาบาลวิชัยเวชอินเตอร์เนชั่นแนลหนองแขม\nโรงพยาบาลงาว > โรงพยาบาลงาว > \tโรงพยาบาลงาว\nโรงพยาบาลตระฺการพืชผล > โรงพยาบาลตระการพืชผล > \tโรงพยาบาลตระการพืชผล\nโรงพยาบาลกรุมเทพไชน่าทาว3น์ > โรงพยาบาลกรุงเทพไชน่าทาวน์ > \tโรงพยาบาลกรุงเทพไชน่าทาวน์\nโฃรงพยาบาลกาญจนบุรีเมโมเรียล > โรงพยาบาลกาญจนบุรีเมโมเรียล > \tโรงพยาบาลกาญจนบุรีเมโมเรียล\nสถาบันสุขภาพจิตเด็กและวัิรุตนภาค4ะวันออกเจียงเหนือ > สถาบันสุขภาพจิตเด็กและวัยรุ่นภาคตะวันออกเฉียงเหนือ > \tสถาบันสุขภาพจิตเด็กและวัยรุ่นภาคตะวันออกเฉียงเหนือ\nโรงพยาบา\"ตลสามร้อยยอด > โรงพยาบาลสามร้อยยอด > \tโรงพยาบาลสามร้อยยอด\nโ๊รงพยาบาลเลิดสิน > โรงพยาบาลเลิดสิน > \tโรงพยาบาลเลิดสิน\nโรงพยาบาลประชาธำปัตย์ > โรงพยาบาลประชาธิปัตย์ > \tโรงพยาบาลประชาธิปัตย์\nโรงพยาบาลฉกาะกูด > โรงพยาบาลเกาะกูด > \tโรงพยาบาลเกาะกูด\nโรงพยาบาลบางล5ะมุง > โรงพยาบาลบางละมุง > \tโรงพยาบาลบางละมุง\nโรงพยา1บะาลสมเด็ฌพระยุพราชสระแก้ว > โรงพยาบาลสมเด็จพระยุพราชสระแก้ว > \tโรงพยาบาลสมเด็จพระยุพราชสระแก้ว\nโรงพยาบาลบ่อพลอย > โรงพยาบาลบ่อพลอย > \tโรงพยาบาลบ่อพลอย\nโรงพยาบาลสีชมพ > โรงพยาบาลสีชมพู > \tโรงพยาบาลสีชมพู\nโรงพยาบาลโพธิ์ประคทับช้าง > โรงพยาบาลโพธิ์ประทับช้าง > \tโรงพยาบาลโพธิ์ประทับช้าง\nโร2พ.าบาลปากน้ำชุมพร > โรงพยาบาลปากน้ำชุมพร > \tโรงพยาบาลปากน้ำชุมพร\nวโรงพยาบาลวัดเพลง > โรงพยาบาลวัดเพลง > \tโรงพยาบาลวัดเพลง\nโรงพยาบาลบางบัวทองพ2 > โรงพยาบาลบางบัวทอง 2 > \tโรงพยาบาลบางบัวทอง 2\nโรง่ยาฑบาลไทรงาม > โรงพยาบาลไทรงาม > \tโรงพยาบาลไทรงาม\nโรงพยาบาลฏวีระพลการแพทย์ > โรงพยาบาลวีระพลการแพทย์ > \tโรงพยาบาลวีระพลการแพทย์\nโรงโพยาบาลปาดังเบซาอ์ > โรงพยาบาลปาดังเบซาร์ > \tโรงพยาบาลปาดังเบซาร์\nโรงพยาบฑาลกระทุ่ใแบน > โรงพยาบาลกระทุ่มแบน > \tโรงพยาบาลกระทุ่มแบน\nโรงพยาบาลทหารผานศึ๎ > โรงพยาบาลทหารผ่านศึก > \tโรงพยาบาลทหารผ่านศึก\nโรงพยาฌบาลจุฬาลงรณ์ > โรงพยาบาลจุฬาลงกรณ์ > \tโรงพยาบาลจุฬาลงกรณ์\nโรงพยาบาลสินแพทย์ รามอิฌทรา > โรงพยาบาลสินแพทย์ รามอินทรา > \tโรงพยาบาลสินแพทย์ รามอินทรา\nโรงพยาบาลราชดานินติรัง > โรงพยาบาลราชดาเนินตรัง > \tโรงพยาบาลราชดาเนินตรัง\nโรงพยาบาลบ้านผภฉ > โรงพยาบาลบ้านผือ > \tโรงพยาบาลบ้านผือ\nโรงพยาบาลธรรมศาสตร์ฆฉลิมพระเกียรติ > โรงพยาบาลธรรมศาสตร์เฉลิมพระเกียรติ > \tโรงพยาบาลธรรมศาสตร์เฉลิมพระเกียรติ\nโรงพยาบาลกรุงเทพไชน่าทาวน > โรงพยาบาลกรุงเทพไชน่าทาวน์ > \tโรงพยาบาลกรุงเทพไชน่าทาวน์\nโรงพยา5ถาลสมเด็จพระยุพราสายบุรี > โรงพยาบาลสมเด็จพระยุพราชสายบุรี > \tโรงพยาบาลสมเด็จพระยุพราชสายบุรี\nโรงพยาบาลบ้านตาก > โรงพยาบาลบ้านตาก > \tโรงพยาบาลบ้านตาก\nโรงพยาบซลเมือง่ปาน > โรงพยาบาลเมืองปาน > \tโรงพยาบาลเมืองปาน\nโรงพยาบาลพัฒนาิคม > โรงพยาบาลพัฒนานิคม > \tโรงพยาบาลพัฒนานิคม\nโรงพยาบาลสวรหคโลก > โรงพยาบาลสวรรคโลก > \tโรงพยาบาลสวรรคโลก\nโรงพยาบาลเอกอุด > โรงพยาบาลเอกอุดร > \tโรงพยาบาลเอกอุดร\nโรงพยาบๅลสุรศักิ2 สีลม > โรงพยาบาลสุรศักดิ์ สีลม > \tโรงพยาบาลสุรศักดิ์ สีลม\nโรง6พยาบาลสมิติเวชธนบุรี > โรงพยาบาลสมิติเวชธนบุรี > \tโรงพยาบาลสมิติเวชธนบุรี\nโรงพยาบาลเปาโลโชฬชัย 4 > โรงพยาบาลเปาโลโชคชัย 4 > \tโรงพยาบาลเปาโลโชคชัย 4\nโรงพยาบาฆลเชียงรายประชานุเคราะห์ > โรงพยาบาลเชียงรายประชานุเคราะห์ > \tโรงพยาบาลเชียงรายประชานุเคราะห์\nโรงพยาบาลบ้นด่านลานหอย > โรงพยาบาลบ้านด่านลานหอย > \tโรงพยาบาลบ้านด่านลานหอย\nโรงพยาบาลพุทโมณฑล > โรงพยาบาลพุทธมณฑล > \tโรงพยาบาลพุทธมณฑล\nโรงพยาบาลทุั่งหว้า > โรงพยาบาลทุ่งหว้า > \tโรงพยาบาลทุ่งหว้า\nโรงพยาบชลเกษมราษฎร์ณ ประชาชื่น > โรงพยาบาลเกษมราษฎร์ ประชาชื่น > \tโรงพยาบาลเกษมราษฎร์ ประชาชื่น\nโรงพยาบาลเวิลด์เมดิคอๆเซ็น7ฆเตอร์ > โรงพยาบาลเวิลด์เมดิคอลเซ็นเตอร์ > \tโรงพยาบาลเวิลด์เมดิคอลเซ็นเตอร์\nโรงะยาบาลตะโหมด > โรงพยาบาลตะโหมด > \tโรงพยาบาลตะโหมด\nโรงโพยาบาลท่าคันโท > โรงพยาบาลท่าคันโท > \tโรงพยาบาลท่าคันโท\n"
    }
   ],
   "source": [
    "### Input, Predict, Target ###\n",
    "pred_sent = []\n",
    "count = 0\n",
    "for i in range(1000):\n",
    "    print(data_input[i],'>', ''.join(lst_output[i]), '>', data_output[i])\n",
    "    a = data_output[i]\n",
    "    pred_sent.append(''.join(lst_output[i]))\n",
    "    if str(''.join(lst_output[i])) == a[1:]:\n",
    "        count +=1"
   ]
  },
  {
   "cell_type": "code",
   "execution_count": 173,
   "metadata": {},
   "outputs": [
    {
     "output_type": "execute_result",
     "data": {
      "text/plain": "('โรงพยาบาลภูกาง', '\\tโรงพยาบาลภูซาง')"
     },
     "metadata": {},
     "execution_count": 173
    }
   ],
   "source": [
    "pred_sent[555],data_output[555]"
   ]
  },
  {
   "cell_type": "code",
   "execution_count": 441,
   "metadata": {},
   "outputs": [],
   "source": [
    "text = 'โรงพยาบาลพานทอง'"
   ]
  },
  {
   "cell_type": "code",
   "execution_count": 442,
   "metadata": {},
   "outputs": [
    {
     "output_type": "execute_result",
     "data": {
      "text/plain": "('โรพพาาาลพพไท', ['โ', 'ร', 'พ', 'พ', 'า', 'า', 'า', 'ล', 'พ', 'พ', 'ไ', 'ท'])"
     },
     "metadata": {},
     "execution_count": 442
    }
   ],
   "source": [
    "to_katakana(text)"
   ]
  },
  {
   "cell_type": "code",
   "execution_count": 180,
   "metadata": {},
   "outputs": [],
   "source": [
    "encoded_training_output_sample = encoding.transform(\n",
    "    output_encoding, [text] ,vector_size=OUTPUT_LENGTH)"
   ]
  },
  {
   "cell_type": "code",
   "execution_count": 182,
   "metadata": {},
   "outputs": [
    {
     "output_type": "execute_result",
     "data": {
      "text/plain": "(1, 90)"
     },
     "metadata": {},
     "execution_count": 182
    }
   ],
   "source": [
    "encoded_training_output_sample.shape"
   ]
  },
  {
   "cell_type": "code",
   "execution_count": 183,
   "metadata": {},
   "outputs": [
    {
     "output_type": "execute_result",
     "data": {
      "text/plain": "(77137, 90)"
     },
     "metadata": {},
     "execution_count": 183
    }
   ],
   "source": [
    "encoded_training_output.shape"
   ]
  },
  {
   "cell_type": "code",
   "execution_count": 90,
   "metadata": {},
   "outputs": [],
   "source": [
    "decoder_input[:,0] = encoding.CHAR_CODE_START"
   ]
  },
  {
   "cell_type": "code",
   "execution_count": 96,
   "metadata": {},
   "outputs": [],
   "source": [
    "output = model.predict([encoder_input, decoder_input]).argmax(axis=2)"
   ]
  },
  {
   "cell_type": "markdown",
   "metadata": {},
   "source": [
    "# Visualize Attention\n",
    "\n",
    "The next step is visualizing the attention values of the medel during the translation. \n",
    "\n",
    "To do that, the first step is to locate \"attention\" layer of the model. The attention layer is the 7th layers of the model (`model.layers[7]`), which is the softmax activation-layer after dot-score. Or we can also simply call `model.get_layer('attention')` as we previously name the layer as \"attention\"."
   ]
  },
  {
   "cell_type": "code",
   "execution_count": 73,
   "metadata": {},
   "outputs": [
    {
     "output_type": "stream",
     "name": "stdout",
     "text": "<tensorflow.python.keras.engine.input_layer.InputLayer object at 0x00000238DF371088>\tname:input_1\n<tensorflow.python.keras.layers.embeddings.Embedding object at 0x000002388A170748>\tname:embedding\n<tensorflow.python.keras.layers.wrappers.Bidirectional object at 0x00000238DF371908>\tname:bidirectional\n<tensorflow.python.keras.engine.input_layer.InputLayer object at 0x00000238DF371048>\tname:input_2\n<tensorflow.python.keras.layers.embeddings.Embedding object at 0x000002388A16CC08>\tname:embedding_1\n<tensorflow.python.keras.layers.merge.Concatenate object at 0x000002388A17E488>\tname:concatenate\n<tensorflow.python.keras.layers.merge.Concatenate object at 0x000002388A170D08>\tname:concatenate_1\n<tensorflow.python.keras.layers.recurrent_v2.LSTM object at 0x000002388A16CBC8>\tname:lstm_1\n<tensorflow.python.keras.layers.merge.Dot object at 0x000002389170D808>\tname:dot\n<tensorflow.python.keras.layers.core.Activation object at 0x00000238916FF148>\tname:attention\n<tensorflow.python.keras.layers.merge.Dot object at 0x00000238917C3488>\tname:dot_1\n<tensorflow.python.keras.layers.merge.Concatenate object at 0x00000238916EDC88>\tname:concatenate_2\n<tensorflow.python.keras.layers.wrappers.TimeDistributed object at 0x00000238916EB748>\tname:time_distributed\n<tensorflow.python.keras.layers.wrappers.TimeDistributed object at 0x00000238916E9DC8>\tname:time_distributed_1\n"
    }
   ],
   "source": [
    "layers = model.layers\n",
    "for l in layers:\n",
    "    print('%s\\tname:%s' % (str(l), l.name))\n",
    "    \n",
    "assert(model.layers[9] == model.get_layer('attention'))"
   ]
  },
  {
   "cell_type": "markdown",
   "metadata": {},
   "source": [
    "We also need to re-build the model so that it returns the output from the attention layer in addition to the normal output."
   ]
  },
  {
   "cell_type": "code",
   "execution_count": 74,
   "metadata": {},
   "outputs": [
    {
     "output_type": "stream",
     "name": "stdout",
     "text": "<tensorflow.python.keras.engine.training.Model object at 0x0000023A82DFBE48>\n[(None, 90, 91), (None, 90, 90)]\n"
    }
   ],
   "source": [
    "attention_layer = model.get_layer('attention') # or model.layers[7]\n",
    "#attention_layer = model.layers[8]\n",
    "attention_model = Model(inputs=model.inputs, outputs=model.outputs + [attention_layer.output])\n",
    "\n",
    "print(attention_model)\n",
    "print(attention_model.output_shape)"
   ]
  },
  {
   "cell_type": "code",
   "execution_count": 440,
   "metadata": {},
   "outputs": [
    {
     "output_type": "execute_result",
     "data": {
      "text/plain": "<tensorflow.python.keras.engine.training.Model at 0x238ad753dc8>"
     },
     "metadata": {},
     "execution_count": 440
    }
   ],
   "source": [
    "model"
   ]
  },
  {
   "cell_type": "code",
   "execution_count": 133,
   "metadata": {},
   "outputs": [],
   "source": [
    "output, attention,weight=attention_model.predict([encoder_input, decoder_input])"
   ]
  },
  {
   "cell_type": "code",
   "execution_count": 433,
   "metadata": {},
   "outputs": [],
   "source": [
    "%matplotlib inline  \n",
    "import matplotlib\n",
    "import matplotlib.pyplot as plt\n",
    "import seaborn\n",
    "#plt.rcParams\n",
    "\n",
    "seaborn.set(font=['Tahoma'], font_scale=1)\n",
    "\n",
    "def attent_and_generate(text):\n",
    "    encoder_input = encoding.transform(input_encoding, [text], 90)\n",
    "    decoder_input = np.zeros(shape=(len(encoder_input), OUTPUT_LENGTH))\n",
    "    decoder_input[:,0] = encoding.CHAR_CODE_START\n",
    "    \n",
    "    for i in range(1, OUTPUT_LENGTH):\n",
    "        output, attention = attention_model.predict([encoder_input, decoder_input])\n",
    "        decoder_input[:,i] = output.argmax(axis=2)[:,i]\n",
    "        attention_density = attention[0]\n",
    "        decoded_output = decode(output_decoding, decoder_input[0][1:])\n",
    "        \n",
    "    return attention_density, decoded_output\n",
    "\n",
    "\n",
    "def visualize(text):\n",
    "    attention_density, katakana = attent_and_generate(text)\n",
    "\n",
    "    plt.clf()\n",
    "    plt.figure(figsize=(20,10))\n",
    "    ax = seaborn.heatmap(attention_density[:len(katakana[0]), :len(text)+1],\n",
    "        xticklabels=[w for w in text],\n",
    "        yticklabels=[w for w in katakana[0]])\n",
    "\n",
    "    ax.invert_yaxis()\n",
    "    plt.show()\n"
   ]
  },
  {
   "cell_type": "code",
   "execution_count": 436,
   "metadata": {},
   "outputs": [
    {
     "output_type": "display_data",
     "data": {
      "text/plain": "<Figure size 432x288 with 0 Axes>"
     },
     "metadata": {}
    },
    {
     "output_type": "display_data",
     "data": {
      "text/plain": "<Figure size 1440x720 with 2 Axes>",
      "image/svg+xml": "<?xml version=\"1.0\" encoding=\"utf-8\" standalone=\"no\"?>\r\n<!DOCTYPE svg PUBLIC \"-//W3C//DTD SVG 1.1//EN\"\r\n  \"http://www.w3.org/Graphics/SVG/1.1/DTD/svg11.dtd\">\r\n<!-- Created with matplotlib (https://matplotlib.org/) -->\r\n<svg height=\"578.072031pt\" version=\"1.1\" viewBox=\"0 0 1035.093594 578.072031\" width=\"1035.093594pt\" xmlns=\"http://www.w3.org/2000/svg\" xmlns:xlink=\"http://www.w3.org/1999/xlink\">\r\n <defs>\r\n  <style type=\"text/css\">\r\n*{stroke-linecap:butt;stroke-linejoin:round;}\r\n  </style>\r\n </defs>\r\n <g id=\"figure_1\">\r\n  <g id=\"patch_1\">\r\n   <path d=\"M 0 578.072031 \r\nL 1035.093594 578.072031 \r\nL 1035.093594 0 \r\nL 0 0 \r\nz\r\n\" style=\"fill:#ffffff;\"/>\r\n  </g>\r\n  <g id=\"axes_1\">\r\n   <g id=\"patch_2\">\r\n    <path d=\"M 27.272031 550.8 \r\nL 920.072031 550.8 \r\nL 920.072031 7.2 \r\nL 27.272031 7.2 \r\nz\r\n\" style=\"fill:#eaeaf2;\"/>\r\n   </g>\r\n   <g id=\"matplotlib.axis_1\">\r\n    <g id=\"xtick_1\">\r\n     <g id=\"text_1\">\r\n      <!-- โ -->\r\n      <defs>\r\n       <path d=\"M 33.109375 17.09375 \r\nQ 34.625 17.671875 36.625 17.671875 \r\nQ 40.4375 17.671875 43.171875 14.984375 \r\nQ 45.90625 12.3125 45.90625 8.5 \r\nQ 45.90625 4.6875 43.171875 1.953125 \r\nQ 40.4375 -0.78125 36.625 -0.78125 \r\nQ 30.8125 -0.78125 27.34375 2.734375 \r\nQ 23.875 6.25 23.875 12.3125 \r\nL 23.875 48.09375 \r\nQ 23.875 55.5625 22.1875 58.078125 \r\nQ 20.515625 60.59375 16.21875 60.59375 \r\nQ 14.109375 60.59375 11.390625 60.328125 \r\nQ 8.6875 60.0625 6.78125 59.765625 \r\nL 3.328125 59.078125 \r\nL 2.984375 59.078125 \r\nL 2.984375 62.5 \r\nQ 2.984375 71.046875 7.25 75.78125 \r\nQ 11.53125 80.515625 22.015625 80.515625 \r\nL 32.90625 80.078125 \r\nQ 35.109375 80.078125 37.453125 80.5625 \r\nL 41.5 81.5 \r\nL 41.890625 81.5 \r\nL 41.890625 73 \r\nQ 37.546875 72.125 32.90625 72.125 \r\nL 22.015625 72.609375 \r\nQ 17.09375 72.609375 14.40625 71.015625 \r\nQ 11.71875 69.4375 11.71875 67.09375 \r\nQ 13.234375 67.390625 16.21875 67.390625 \r\nQ 26.21875 67.390625 29.65625 63.140625 \r\nQ 33.109375 58.890625 33.109375 48.09375 \r\nz\r\nM 36.625 4.6875 \r\nQ 38.140625 4.6875 39.203125 5.78125 \r\nQ 40.28125 6.890625 40.28125 8.5 \r\nQ 40.28125 10.015625 39.1875 11.0625 \r\nQ 38.09375 12.109375 36.625 12.109375 \r\nQ 35.109375 12.109375 34 11.03125 \r\nQ 32.90625 9.96875 32.90625 8.5 \r\nQ 32.90625 6.890625 33.984375 5.78125 \r\nQ 35.0625 4.6875 36.625 4.6875 \r\nz\r\n\" id=\"Tahoma-3650\"/>\r\n      </defs>\r\n      <g style=\"fill:#262626;\" transform=\"translate(52.465 568.658281)scale(0.11 -0.11)\">\r\n       <use xlink:href=\"#Tahoma-3650\"/>\r\n      </g>\r\n     </g>\r\n    </g>\r\n    <g id=\"xtick_2\">\r\n     <g id=\"text_2\">\r\n      <!-- ร -->\r\n      <defs>\r\n       <path d=\"M 40.921875 47.796875 \r\nQ 36.578125 46.921875 31.890625 46.921875 \r\nL 21 47.40625 \r\nQ 16.109375 47.40625 13.390625 45.8125 \r\nQ 10.6875 44.234375 10.6875 41.890625 \r\nQ 12.25 42.1875 15.1875 42.1875 \r\nQ 25.921875 42.1875 30.046875 37.734375 \r\nQ 34.1875 33.296875 34.1875 22.90625 \r\nL 34.1875 12.3125 \r\nQ 34.1875 6.25 30.734375 2.734375 \r\nQ 27.296875 -0.78125 21.484375 -0.78125 \r\nQ 17.671875 -0.78125 14.9375 1.953125 \r\nQ 12.203125 4.6875 12.203125 8.5 \r\nQ 12.203125 12.3125 14.9375 14.984375 \r\nQ 17.671875 17.671875 21.484375 17.671875 \r\nQ 23.484375 17.671875 25 17.09375 \r\nL 25 22.90625 \r\nQ 25 29.546875 22.65625 32.46875 \r\nQ 20.3125 35.40625 15.1875 35.40625 \r\nQ 13.09375 35.40625 10.40625 35.125 \r\nQ 7.71875 34.859375 5.765625 34.515625 \r\nL 2.296875 33.890625 \r\nL 2 33.890625 \r\nL 2 37.3125 \r\nQ 2 45.84375 6.25 50.578125 \r\nQ 10.5 55.328125 21 55.328125 \r\nL 31.890625 54.890625 \r\nQ 34.078125 54.890625 36.421875 55.375 \r\nL 40.484375 56.296875 \r\nL 40.921875 56.296875 \r\nz\r\nM 21.484375 4.6875 \r\nQ 23.046875 4.6875 24.125 5.78125 \r\nQ 25.203125 6.890625 25.203125 8.5 \r\nQ 25.203125 10.015625 24.09375 11.0625 \r\nQ 23 12.109375 21.484375 12.109375 \r\nQ 19.96875 12.109375 18.890625 11.03125 \r\nQ 17.828125 9.96875 17.828125 8.5 \r\nQ 17.828125 6.890625 18.890625 5.78125 \r\nQ 19.96875 4.6875 21.484375 4.6875 \r\nz\r\n\" id=\"Tahoma-3619\"/>\r\n      </defs>\r\n      <g style=\"fill:#262626;\" transform=\"translate(108.611328 568.658281)scale(0.11 -0.11)\">\r\n       <use xlink:href=\"#Tahoma-3619\"/>\r\n      </g>\r\n     </g>\r\n    </g>\r\n    <g id=\"xtick_3\">\r\n     <g id=\"text_3\">\r\n      <!-- ง -->\r\n      <defs>\r\n       <path d=\"M 41.015625 15.921875 \r\nQ 41.015625 7.375 37.171875 2.875 \r\nQ 33.34375 -1.609375 26.8125 -1.609375 \r\nQ 22.609375 -1.609375 19.0625 0.90625 \r\nQ 15.53125 3.421875 12.75 9.328125 \r\nL 1.421875 33.015625 \r\nL 10.984375 33.015625 \r\nQ 19.828125 14.5 20.75 12.640625 \r\nQ 21.6875 10.796875 23.265625 8.9375 \r\nQ 24.859375 7.078125 26.8125 7.078125 \r\nQ 31.78125 7.078125 31.78125 15.921875 \r\nL 31.78125 38.09375 \r\nQ 30.28125 37.5 28.328125 37.5 \r\nQ 24.46875 37.5 21.734375 40.203125 \r\nQ 19 42.921875 19 46.6875 \r\nQ 19 50.484375 21.75 53.234375 \r\nQ 24.515625 56 28.328125 56 \r\nQ 34.078125 56 37.546875 52.453125 \r\nQ 41.015625 48.921875 41.015625 42.921875 \r\nz\r\nM 28.21875 43.109375 \r\nQ 29.6875 43.109375 30.78125 44.15625 \r\nQ 31.890625 45.21875 31.890625 46.6875 \r\nQ 31.890625 48.296875 30.8125 49.390625 \r\nQ 29.734375 50.484375 28.21875 50.484375 \r\nQ 26.65625 50.484375 25.578125 49.390625 \r\nQ 24.515625 48.296875 24.515625 46.6875 \r\nQ 24.515625 45.21875 25.609375 44.15625 \r\nQ 26.703125 43.109375 28.21875 43.109375 \r\nz\r\n\" id=\"Tahoma-3591\"/>\r\n      </defs>\r\n      <g style=\"fill:#262626;\" transform=\"translate(164.065 568.658281)scale(0.11 -0.11)\">\r\n       <use xlink:href=\"#Tahoma-3591\"/>\r\n      </g>\r\n     </g>\r\n    </g>\r\n    <g id=\"xtick_4\">\r\n     <g id=\"text_4\">\r\n      <!-- พ -->\r\n      <defs>\r\n       <path d=\"M 62.59375 0 \r\nL 51.703125 0 \r\nQ 51.703125 4.6875 44 26.375 \r\nQ 40.046875 37.5 39.203125 40.578125 \r\nQ 38.375 37.5 34.421875 26.375 \r\nQ 26.703125 4.6875 26.703125 0 \r\nL 15.828125 0 \r\nL 15.828125 38.1875 \r\nQ 14.3125 37.59375 12.3125 37.59375 \r\nQ 8.5 37.59375 5.734375 40.296875 \r\nQ 2.984375 43.015625 2.984375 46.78125 \r\nQ 2.984375 50.640625 5.734375 53.375 \r\nQ 8.5 56.109375 12.3125 56.109375 \r\nQ 18.0625 56.109375 21.53125 52.5625 \r\nQ 25 49.03125 25 43.015625 \r\nL 25 15.578125 \r\nQ 25 17.578125 29.890625 31.109375 \r\nQ 37.109375 50.984375 37.109375 55.171875 \r\nL 41.3125 55.171875 \r\nQ 41.3125 51.03125 48.34375 31.640625 \r\nQ 53.421875 17.71875 53.421875 15.578125 \r\nL 53.421875 54.59375 \r\nL 62.59375 54.59375 \r\nz\r\nM 12.3125 43.21875 \r\nQ 13.8125 43.21875 14.90625 44.265625 \r\nQ 16.015625 45.3125 16.015625 46.78125 \r\nQ 16.015625 48.4375 14.90625 49.515625 \r\nQ 13.8125 50.59375 12.3125 50.59375 \r\nQ 10.796875 50.59375 9.6875 49.484375 \r\nQ 8.59375 48.390625 8.59375 46.78125 \r\nQ 8.59375 45.3125 9.6875 44.265625 \r\nQ 10.796875 43.21875 12.3125 43.21875 \r\nz\r\n\" id=\"Tahoma-3614\"/>\r\n      </defs>\r\n      <g style=\"fill:#262626;\" transform=\"translate(218.678203 568.658281)scale(0.11 -0.11)\">\r\n       <use xlink:href=\"#Tahoma-3614\"/>\r\n      </g>\r\n     </g>\r\n    </g>\r\n    <g id=\"xtick_5\">\r\n     <g id=\"text_5\">\r\n      <!-- ย -->\r\n      <defs>\r\n       <path d=\"M 49.8125 0 \r\nL 8.203125 0 \r\nL 8.203125 15.71875 \r\nQ 8.203125 20.703125 13.1875 23.578125 \r\nQ 8.296875 26.46875 8.296875 31.59375 \r\nL 8.296875 43.015625 \r\nQ 8.296875 49.03125 11.765625 52.5625 \r\nQ 15.234375 56.109375 21 56.109375 \r\nQ 24.8125 56.109375 27.5625 53.34375 \r\nQ 30.328125 50.59375 30.328125 46.78125 \r\nQ 30.328125 42.96875 27.59375 40.28125 \r\nQ 24.859375 37.59375 21 37.59375 \r\nQ 19 37.59375 17.484375 38.1875 \r\nL 17.484375 31.78125 \r\nQ 17.484375 26.609375 22.703125 26.609375 \r\nL 24.609375 26.609375 \r\nL 24.609375 20.609375 \r\nL 22.703125 20.609375 \r\nQ 17.484375 20.609375 17.484375 15.71875 \r\nL 17.484375 8.6875 \r\nL 40.578125 8.6875 \r\nL 40.578125 54.59375 \r\nL 49.8125 54.59375 \r\nz\r\nM 21 43.21875 \r\nQ 22.515625 43.21875 23.609375 44.265625 \r\nQ 24.703125 45.3125 24.703125 46.78125 \r\nQ 24.703125 48.4375 23.609375 49.515625 \r\nQ 22.515625 50.59375 21 50.59375 \r\nQ 19.484375 50.59375 18.375 49.484375 \r\nQ 17.28125 48.390625 17.28125 46.78125 \r\nQ 17.28125 45.3125 18.375 44.265625 \r\nQ 19.484375 43.21875 21 43.21875 \r\nz\r\n\" id=\"Tahoma-3618\"/>\r\n      </defs>\r\n      <g style=\"fill:#262626;\" transform=\"translate(275.187188 568.658281)scale(0.11 -0.11)\">\r\n       <use xlink:href=\"#Tahoma-3618\"/>\r\n      </g>\r\n     </g>\r\n    </g>\r\n    <g id=\"xtick_6\">\r\n     <g id=\"text_6\">\r\n      <!-- า -->\r\n      <defs>\r\n       <path d=\"M 40.28125 0 \r\nL 31.109375 0 \r\nL 31.109375 35.015625 \r\nQ 31.109375 41.3125 28.09375 44.65625 \r\nQ 25.09375 48 19.828125 48 \r\nQ 11.765625 48 3.328125 43.015625 \r\nL 2.6875 43.015625 \r\nL 2.6875 52.6875 \r\nQ 11.328125 56 19.828125 56 \r\nQ 40.28125 56 40.28125 35.59375 \r\nz\r\n\" id=\"Tahoma-3634\"/>\r\n      </defs>\r\n      <g style=\"fill:#262626;\" transform=\"translate(331.505391 568.658281)scale(0.11 -0.11)\">\r\n       <use xlink:href=\"#Tahoma-3634\"/>\r\n      </g>\r\n     </g>\r\n    </g>\r\n    <g id=\"xtick_7\">\r\n     <g id=\"text_7\">\r\n      <!-- บ -->\r\n      <defs>\r\n       <path d=\"M 54.78125 0 \r\nL 8.796875 0 \r\nL 8.796875 8.6875 \r\nL 16.796875 8.6875 \r\nL 16.796875 38.1875 \r\nQ 15.28125 37.59375 13.28125 37.59375 \r\nQ 9.46875 37.59375 6.734375 40.296875 \r\nQ 4 43.015625 4 46.78125 \r\nQ 4 50.640625 6.734375 53.375 \r\nQ 9.46875 56.109375 13.28125 56.109375 \r\nQ 19.09375 56.109375 22.53125 52.5625 \r\nQ 25.984375 49.03125 25.984375 43.015625 \r\nL 25.984375 8.6875 \r\nL 45.609375 8.6875 \r\nL 45.609375 54.59375 \r\nL 54.78125 54.59375 \r\nz\r\nM 13.28125 43.21875 \r\nQ 14.796875 43.21875 15.890625 44.265625 \r\nQ 17 45.3125 17 46.78125 \r\nQ 17 48.390625 15.921875 49.484375 \r\nQ 14.84375 50.59375 13.28125 50.59375 \r\nQ 11.765625 50.59375 10.6875 49.484375 \r\nQ 9.625 48.390625 9.625 46.78125 \r\nQ 9.625 45.3125 10.6875 44.265625 \r\nQ 11.765625 43.21875 13.28125 43.21875 \r\nz\r\n\" id=\"Tahoma-3610\"/>\r\n      </defs>\r\n      <g style=\"fill:#262626;\" transform=\"translate(386.507891 568.658281)scale(0.11 -0.11)\">\r\n       <use xlink:href=\"#Tahoma-3610\"/>\r\n      </g>\r\n     </g>\r\n    </g>\r\n    <g id=\"xtick_8\">\r\n     <g id=\"text_8\">\r\n      <!-- า -->\r\n      <g style=\"fill:#262626;\" transform=\"translate(443.105391 568.658281)scale(0.11 -0.11)\">\r\n       <use xlink:href=\"#Tahoma-3634\"/>\r\n      </g>\r\n     </g>\r\n    </g>\r\n    <g id=\"xtick_9\">\r\n     <g id=\"text_9\">\r\n      <!-- ล -->\r\n      <defs>\r\n       <path d=\"M 53.421875 0 \r\nL 44.1875 0 \r\nQ 35.5 16.5 32.859375 20.765625 \r\nQ 30.21875 25.046875 27.390625 27.359375 \r\nQ 24.5625 29.6875 21.921875 29.6875 \r\nQ 19.390625 29.6875 17.796875 27.96875 \r\nQ 16.21875 26.265625 16.21875 23.578125 \r\nL 16.21875 17.09375 \r\nQ 17.71875 17.671875 19.671875 17.671875 \r\nQ 23.53125 17.671875 26.265625 14.984375 \r\nQ 29 12.3125 29 8.5 \r\nQ 29 4.6875 26.234375 1.953125 \r\nQ 23.484375 -0.78125 19.671875 -0.78125 \r\nQ 13.921875 -0.78125 10.453125 2.734375 \r\nQ 6.984375 6.25 6.984375 12.3125 \r\nL 6.984375 23.390625 \r\nQ 6.984375 30.515625 10.765625 34.296875 \r\nQ 14.546875 38.09375 21.296875 38.09375 \r\nQ 25.921875 38.09375 29.828125 35.109375 \r\nQ 33.734375 32.125 36.046875 28.46875 \r\nQ 38.375 24.8125 44.1875 13.484375 \r\nL 44.1875 33.890625 \r\nQ 44.1875 40.578125 40.375 44.328125 \r\nQ 36.578125 48.09375 30.078125 48.09375 \r\nQ 20.015625 48.09375 10.296875 41.609375 \r\nL 9.8125 41.609375 \r\nL 9.8125 51.90625 \r\nQ 20.359375 56.109375 29.984375 56.109375 \r\nQ 41.265625 56.109375 47.34375 50.1875 \r\nQ 53.421875 44.28125 53.421875 33.890625 \r\nz\r\nM 19.671875 4.6875 \r\nQ 21.234375 4.6875 22.3125 5.78125 \r\nQ 23.390625 6.890625 23.390625 8.5 \r\nQ 23.390625 9.96875 22.28125 11.03125 \r\nQ 21.1875 12.109375 19.671875 12.109375 \r\nQ 18.21875 12.109375 17.109375 11.03125 \r\nQ 16.015625 9.96875 16.015625 8.5 \r\nQ 16.015625 6.890625 17.09375 5.78125 \r\nQ 18.171875 4.6875 19.671875 4.6875 \r\nz\r\n\" id=\"Tahoma-3621\"/>\r\n      </defs>\r\n      <g style=\"fill:#262626;\" transform=\"translate(498.182656 568.658281)scale(0.11 -0.11)\">\r\n       <use xlink:href=\"#Tahoma-3621\"/>\r\n      </g>\r\n     </g>\r\n    </g>\r\n    <g id=\"xtick_10\">\r\n     <g id=\"text_10\">\r\n      <!-- พ -->\r\n      <g style=\"fill:#262626;\" transform=\"translate(553.478203 568.658281)scale(0.11 -0.11)\">\r\n       <use xlink:href=\"#Tahoma-3614\"/>\r\n      </g>\r\n     </g>\r\n    </g>\r\n    <g id=\"xtick_11\">\r\n     <g id=\"text_11\">\r\n      <!-- า -->\r\n      <g style=\"fill:#262626;\" transform=\"translate(610.505391 568.658281)scale(0.11 -0.11)\">\r\n       <use xlink:href=\"#Tahoma-3634\"/>\r\n      </g>\r\n     </g>\r\n    </g>\r\n    <g id=\"xtick_12\">\r\n     <g id=\"text_12\">\r\n      <!-- น -->\r\n      <defs>\r\n       <path d=\"M 51.703125 17.09375 \r\nQ 56.984375 14.203125 56.984375 8.59375 \r\nQ 56.984375 4.78125 54.25 2 \r\nQ 51.515625 -0.78125 47.703125 -0.78125 \r\nQ 43.890625 -0.78125 41.078125 2 \r\nQ 38.28125 4.78125 38.28125 8.59375 \r\nQ 38.28125 9.421875 38.375 9.8125 \r\nQ 31.15625 6.34375 24.421875 0 \r\nL 15.828125 0 \r\nL 15.828125 38.1875 \r\nQ 14.3125 37.59375 12.3125 37.59375 \r\nQ 8.5 37.59375 5.734375 40.296875 \r\nQ 2.984375 43.015625 2.984375 46.78125 \r\nQ 2.984375 50.640625 5.734375 53.375 \r\nQ 8.5 56.109375 12.3125 56.109375 \r\nQ 18.0625 56.109375 21.53125 52.5625 \r\nQ 25 49.03125 25 43.015625 \r\nL 25 8.890625 \r\nQ 33.453125 15.671875 42.484375 17.828125 \r\nL 42.484375 54.59375 \r\nL 51.703125 54.59375 \r\nz\r\nM 12.3125 43.21875 \r\nQ 13.8125 43.21875 14.90625 44.265625 \r\nQ 16.015625 45.3125 16.015625 46.78125 \r\nQ 16.015625 48.4375 14.90625 49.515625 \r\nQ 13.8125 50.59375 12.3125 50.59375 \r\nQ 10.796875 50.59375 9.6875 49.484375 \r\nQ 8.59375 48.390625 8.59375 46.78125 \r\nQ 8.59375 45.3125 9.6875 44.265625 \r\nQ 10.796875 43.21875 12.3125 43.21875 \r\nz\r\nM 47.609375 4.78125 \r\nQ 49.125 4.78125 50.21875 5.875 \r\nQ 51.3125 6.984375 51.3125 8.59375 \r\nQ 51.3125 10.109375 50.21875 11.15625 \r\nQ 49.125 12.203125 47.609375 12.203125 \r\nQ 46.09375 12.203125 44.984375 11.125 \r\nQ 43.890625 10.0625 43.890625 8.59375 \r\nQ 43.890625 6.984375 44.984375 5.875 \r\nQ 46.09375 4.78125 47.609375 4.78125 \r\nz\r\n\" id=\"Tahoma-3609\"/>\r\n      </defs>\r\n      <g style=\"fill:#262626;\" transform=\"translate(665.606719 568.658281)scale(0.11 -0.11)\">\r\n       <use xlink:href=\"#Tahoma-3609\"/>\r\n      </g>\r\n     </g>\r\n    </g>\r\n    <g id=\"xtick_13\">\r\n     <g id=\"text_13\">\r\n      <!-- ท -->\r\n      <defs>\r\n       <path d=\"M 63.375 0 \r\nL 54.203125 0 \r\nL 54.203125 41.40625 \r\nQ 54.203125 47.703125 50.59375 47.703125 \r\nQ 47.515625 47.703125 43 37.15625 \r\nQ 38.484375 26.609375 29.59375 0 \r\nL 16.796875 0 \r\nL 16.796875 38.1875 \r\nQ 15.28125 37.59375 13.28125 37.59375 \r\nQ 9.46875 37.59375 6.734375 40.296875 \r\nQ 4 43.015625 4 46.78125 \r\nQ 4 50.640625 6.734375 53.375 \r\nQ 9.46875 56.109375 13.28125 56.109375 \r\nQ 19.09375 56.109375 22.53125 52.5625 \r\nQ 25.984375 49.03125 25.984375 43.015625 \r\nL 25.984375 8.59375 \r\nQ 33.0625 29.34375 35.40625 35.71875 \r\nQ 37.75 42.09375 40.5 47.125 \r\nQ 43.265625 52.15625 46 54.125 \r\nQ 48.734375 56.109375 52.296875 56.109375 \r\nQ 57.46875 56.109375 60.421875 52.21875 \r\nQ 63.375 48.34375 63.375 41.609375 \r\nz\r\nM 13.28125 43.21875 \r\nQ 14.796875 43.21875 15.890625 44.265625 \r\nQ 17 45.3125 17 46.78125 \r\nQ 17 48.390625 15.921875 49.484375 \r\nQ 14.84375 50.59375 13.28125 50.59375 \r\nQ 11.765625 50.59375 10.6875 49.484375 \r\nQ 9.625 48.390625 9.625 46.78125 \r\nQ 9.625 45.3125 10.6875 44.265625 \r\nQ 11.765625 43.21875 13.28125 43.21875 \r\nz\r\n\" id=\"Tahoma-3607\"/>\r\n      </defs>\r\n      <g style=\"fill:#262626;\" transform=\"translate(720.835234 568.658281)scale(0.11 -0.11)\">\r\n       <use xlink:href=\"#Tahoma-3607\"/>\r\n      </g>\r\n     </g>\r\n    </g>\r\n    <g id=\"xtick_14\">\r\n     <g id=\"text_14\">\r\n      <!-- อ -->\r\n      <defs>\r\n       <path d=\"M 51.3125 0 \r\nL 8.203125 0 \r\nL 8.203125 21.296875 \r\nQ 8.203125 27.390625 11.671875 30.90625 \r\nQ 15.140625 34.421875 20.90625 34.421875 \r\nQ 24.703125 34.421875 27.4375 31.65625 \r\nQ 30.171875 28.90625 30.171875 25.09375 \r\nQ 30.171875 21.296875 27.4375 18.609375 \r\nQ 24.703125 15.921875 20.90625 15.921875 \r\nQ 18.890625 15.921875 17.390625 16.5 \r\nL 17.390625 8.6875 \r\nL 42.09375 8.6875 \r\nL 42.09375 33.890625 \r\nQ 42.09375 40.578125 38.296875 44.328125 \r\nQ 34.515625 48.09375 28.078125 48.09375 \r\nQ 18.0625 48.09375 8.40625 41.609375 \r\nL 7.8125 41.609375 \r\nL 7.8125 51.90625 \r\nQ 18.359375 56.109375 27.875 56.109375 \r\nQ 39.203125 56.109375 45.25 50.21875 \r\nQ 51.3125 44.34375 51.3125 33.890625 \r\nz\r\nM 20.90625 21.484375 \r\nQ 22.40625 21.484375 23.5 22.5625 \r\nQ 24.609375 23.640625 24.609375 25.09375 \r\nQ 24.609375 26.703125 23.5 27.796875 \r\nQ 22.40625 28.90625 20.90625 28.90625 \r\nQ 19.390625 28.90625 18.28125 27.796875 \r\nQ 17.1875 26.703125 17.1875 25.09375 \r\nQ 17.1875 23.640625 18.28125 22.5625 \r\nQ 19.390625 21.484375 20.90625 21.484375 \r\nz\r\n\" id=\"Tahoma-3629\"/>\r\n      </defs>\r\n      <g style=\"fill:#262626;\" transform=\"translate(777.298672 568.658281)scale(0.11 -0.11)\">\r\n       <use xlink:href=\"#Tahoma-3629\"/>\r\n      </g>\r\n     </g>\r\n    </g>\r\n    <g id=\"xtick_15\">\r\n     <g id=\"text_15\">\r\n      <!-- ง -->\r\n      <g style=\"fill:#262626;\" transform=\"translate(833.665 568.658281)scale(0.11 -0.11)\">\r\n       <use xlink:href=\"#Tahoma-3591\"/>\r\n      </g>\r\n     </g>\r\n    </g>\r\n   </g>\r\n   <g id=\"matplotlib.axis_2\">\r\n    <g id=\"ytick_1\">\r\n     <g id=\"text_16\">\r\n      <!-- โ -->\r\n      <g style=\"fill:#262626;\" transform=\"translate(15.558281 524.854922)rotate(-90)scale(0.11 -0.11)\">\r\n       <use xlink:href=\"#Tahoma-3650\"/>\r\n      </g>\r\n     </g>\r\n    </g>\r\n    <g id=\"ytick_2\">\r\n     <g id=\"text_17\">\r\n      <!-- ร -->\r\n      <g style=\"fill:#262626;\" transform=\"translate(15.558281 469.802266)rotate(-90)scale(0.11 -0.11)\">\r\n       <use xlink:href=\"#Tahoma-3619\"/>\r\n      </g>\r\n     </g>\r\n    </g>\r\n    <g id=\"ytick_3\">\r\n     <g id=\"text_18\">\r\n      <!-- ง -->\r\n      <g style=\"fill:#262626;\" transform=\"translate(15.558281 416.134922)rotate(-90)scale(0.11 -0.11)\">\r\n       <use xlink:href=\"#Tahoma-3591\"/>\r\n      </g>\r\n     </g>\r\n    </g>\r\n    <g id=\"ytick_4\">\r\n     <g id=\"text_19\">\r\n      <!-- ย -->\r\n      <g style=\"fill:#262626;\" transform=\"translate(15.558281 362.730547)rotate(-90)scale(0.11 -0.11)\">\r\n       <use xlink:href=\"#Tahoma-3618\"/>\r\n      </g>\r\n     </g>\r\n    </g>\r\n    <g id=\"ytick_5\">\r\n     <g id=\"text_20\">\r\n      <!-- า -->\r\n      <g style=\"fill:#262626;\" transform=\"translate(15.558281 307.334141)rotate(-90)scale(0.11 -0.11)\">\r\n       <use xlink:href=\"#Tahoma-3634\"/>\r\n      </g>\r\n     </g>\r\n    </g>\r\n    <g id=\"ytick_6\">\r\n     <g id=\"text_21\">\r\n      <!-- า -->\r\n      <g style=\"fill:#262626;\" transform=\"translate(15.558281 252.974141)rotate(-90)scale(0.11 -0.11)\">\r\n       <use xlink:href=\"#Tahoma-3634\"/>\r\n      </g>\r\n     </g>\r\n    </g>\r\n    <g id=\"ytick_7\">\r\n     <g id=\"text_22\">\r\n      <!-- โ -->\r\n      <g style=\"fill:#262626;\" transform=\"translate(15.558281 198.694922)rotate(-90)scale(0.11 -0.11)\">\r\n       <use xlink:href=\"#Tahoma-3650\"/>\r\n      </g>\r\n     </g>\r\n    </g>\r\n    <g id=\"ytick_8\">\r\n     <g id=\"text_23\">\r\n      <!-- โ -->\r\n      <g style=\"fill:#262626;\" transform=\"translate(15.558281 144.334922)rotate(-90)scale(0.11 -0.11)\">\r\n       <use xlink:href=\"#Tahoma-3650\"/>\r\n      </g>\r\n     </g>\r\n    </g>\r\n    <g id=\"ytick_9\">\r\n     <g id=\"text_24\">\r\n      <!-- พ -->\r\n      <g style=\"fill:#262626;\" transform=\"translate(15.558281 92.348516)rotate(-90)scale(0.11 -0.11)\">\r\n       <use xlink:href=\"#Tahoma-3614\"/>\r\n      </g>\r\n     </g>\r\n    </g>\r\n    <g id=\"ytick_10\">\r\n     <g id=\"text_25\">\r\n      <!-- ช -->\r\n      <defs>\r\n       <path d=\"M 60.5 62.203125 \r\nQ 60.5 56.78125 57.265625 52.453125 \r\nQ 54.046875 48.140625 48.6875 46.6875 \r\nQ 52.046875 45.453125 53.921875 42.859375 \r\nQ 55.8125 40.28125 55.8125 37.015625 \r\nL 55.8125 0 \r\nL 13.8125 0 \r\nL 13.8125 8.6875 \r\nL 20.015625 8.6875 \r\nL 20.015625 21.1875 \r\nQ 20.015625 24.90625 21.015625 27.359375 \r\nQ 22.015625 29.828125 23.921875 32.765625 \r\nQ 26.125 36.078125 26.65625 37.9375 \r\nQ 27.203125 39.796875 27.203125 41.5 \r\nQ 27.203125 49.515625 20.515625 49.515625 \r\nQ 19.1875 49.515625 18.5 49.03125 \r\nQ 22.515625 46 22.515625 41.5 \r\nQ 22.515625 37.703125 19.78125 35.015625 \r\nQ 17.046875 32.328125 13.1875 32.328125 \r\nQ 9.375 32.328125 6.6875 35.03125 \r\nQ 4 37.75 4 41.609375 \r\nQ 4 48.09375 8.546875 52.09375 \r\nQ 13.09375 56.109375 20.515625 56.109375 \r\nQ 27.484375 56.109375 31.78125 52.125 \r\nQ 36.078125 48.140625 36.078125 41.609375 \r\nQ 36.078125 39.453125 35.4375 37.015625 \r\nQ 34.8125 34.578125 32.328125 30.28125 \r\nQ 29.203125 24.90625 29.203125 21.578125 \r\nL 29.203125 8.6875 \r\nL 46.578125 8.6875 \r\nL 46.578125 35.40625 \r\nQ 46.578125 42.4375 41.703125 43.796875 \r\nL 41.703125 48.09375 \r\nQ 46.296875 49.609375 48.703125 53.34375 \r\nQ 51.125 57.078125 51.125 62.203125 \r\nz\r\nM 13.1875 37.796875 \r\nQ 14.75 37.796875 15.8125 38.890625 \r\nQ 16.890625 39.984375 16.890625 41.609375 \r\nQ 16.890625 43.0625 15.796875 44.140625 \r\nQ 14.703125 45.21875 13.1875 45.21875 \r\nQ 11.671875 45.21875 10.59375 44.140625 \r\nQ 9.515625 43.0625 9.515625 41.609375 \r\nQ 9.515625 39.984375 10.59375 38.890625 \r\nQ 11.671875 37.796875 13.1875 37.796875 \r\nz\r\n\" id=\"Tahoma-3594\"/>\r\n      </defs>\r\n      <g style=\"fill:#262626;\" transform=\"translate(15.558281 37.098203)rotate(-90)scale(0.11 -0.11)\">\r\n       <use xlink:href=\"#Tahoma-3594\"/>\r\n      </g>\r\n     </g>\r\n    </g>\r\n   </g>\r\n   <g id=\"QuadMesh_1\">\r\n    <path clip-path=\"url(#pb124dfd3db)\" d=\"M 27.272031 550.8 \r\nL 83.072031 550.8 \r\nL 83.072031 496.44 \r\nL 27.272031 496.44 \r\nL 27.272031 550.8 \r\n\" style=\"fill:#c51852;\"/>\r\n    <path clip-path=\"url(#pb124dfd3db)\" d=\"M 83.072031 550.8 \r\nL 138.872031 550.8 \r\nL 138.872031 496.44 \r\nL 83.072031 496.44 \r\nL 83.072031 550.8 \r\n\" style=\"fill:#3f1b43;\"/>\r\n    <path clip-path=\"url(#pb124dfd3db)\" d=\"M 138.872031 550.8 \r\nL 194.672031 550.8 \r\nL 194.672031 496.44 \r\nL 138.872031 496.44 \r\nL 138.872031 550.8 \r\n\" style=\"fill:#1b112b;\"/>\r\n    <path clip-path=\"url(#pb124dfd3db)\" d=\"M 194.672031 550.8 \r\nL 250.472031 550.8 \r\nL 250.472031 496.44 \r\nL 194.672031 496.44 \r\nL 194.672031 550.8 \r\n\" style=\"fill:#0a091f;\"/>\r\n    <path clip-path=\"url(#pb124dfd3db)\" d=\"M 250.472031 550.8 \r\nL 306.272031 550.8 \r\nL 306.272031 496.44 \r\nL 250.472031 496.44 \r\nL 250.472031 550.8 \r\n\" style=\"fill:#06071c;\"/>\r\n    <path clip-path=\"url(#pb124dfd3db)\" d=\"M 306.272031 550.8 \r\nL 362.072031 550.8 \r\nL 362.072031 496.44 \r\nL 306.272031 496.44 \r\nL 306.272031 550.8 \r\n\" style=\"fill:#05061b;\"/>\r\n    <path clip-path=\"url(#pb124dfd3db)\" d=\"M 362.072031 550.8 \r\nL 417.872031 550.8 \r\nL 417.872031 496.44 \r\nL 362.072031 496.44 \r\nL 362.072031 550.8 \r\n\" style=\"fill:#08081e;\"/>\r\n    <path clip-path=\"url(#pb124dfd3db)\" d=\"M 417.872031 550.8 \r\nL 473.672031 550.8 \r\nL 473.672031 496.44 \r\nL 417.872031 496.44 \r\nL 417.872031 550.8 \r\n\" style=\"fill:#1e122d;\"/>\r\n    <path clip-path=\"url(#pb124dfd3db)\" d=\"M 473.672031 550.8 \r\nL 529.472031 550.8 \r\nL 529.472031 496.44 \r\nL 473.672031 496.44 \r\nL 473.672031 550.8 \r\n\" style=\"fill:#1e122d;\"/>\r\n    <path clip-path=\"url(#pb124dfd3db)\" d=\"M 529.472031 550.8 \r\nL 585.272031 550.8 \r\nL 585.272031 496.44 \r\nL 529.472031 496.44 \r\nL 529.472031 550.8 \r\n\" style=\"fill:#06071c;\"/>\r\n    <path clip-path=\"url(#pb124dfd3db)\" d=\"M 585.272031 550.8 \r\nL 641.072031 550.8 \r\nL 641.072031 496.44 \r\nL 585.272031 496.44 \r\nL 585.272031 550.8 \r\n\" style=\"fill:#130d25;\"/>\r\n    <path clip-path=\"url(#pb124dfd3db)\" d=\"M 641.072031 550.8 \r\nL 696.872031 550.8 \r\nL 696.872031 496.44 \r\nL 641.072031 496.44 \r\nL 641.072031 550.8 \r\n\" style=\"fill:#05061b;\"/>\r\n    <path clip-path=\"url(#pb124dfd3db)\" d=\"M 696.872031 550.8 \r\nL 752.672031 550.8 \r\nL 752.672031 496.44 \r\nL 696.872031 496.44 \r\nL 696.872031 550.8 \r\n\" style=\"fill:#03051a;\"/>\r\n    <path clip-path=\"url(#pb124dfd3db)\" d=\"M 752.672031 550.8 \r\nL 808.472031 550.8 \r\nL 808.472031 496.44 \r\nL 752.672031 496.44 \r\nL 752.672031 550.8 \r\n\" style=\"fill:#03051a;\"/>\r\n    <path clip-path=\"url(#pb124dfd3db)\" d=\"M 808.472031 550.8 \r\nL 864.272031 550.8 \r\nL 864.272031 496.44 \r\nL 808.472031 496.44 \r\nL 808.472031 550.8 \r\n\" style=\"fill:#05061b;\"/>\r\n    <path clip-path=\"url(#pb124dfd3db)\" d=\"M 864.272031 550.8 \r\nL 920.072031 550.8 \r\nL 920.072031 496.44 \r\nL 864.272031 496.44 \r\nL 864.272031 550.8 \r\n\" style=\"fill:#04051a;\"/>\r\n    <path clip-path=\"url(#pb124dfd3db)\" d=\"M 27.272031 496.44 \r\nL 83.072031 496.44 \r\nL 83.072031 442.08 \r\nL 27.272031 442.08 \r\nL 27.272031 496.44 \r\n\" style=\"fill:#f9ddc9;\"/>\r\n    <path clip-path=\"url(#pb124dfd3db)\" d=\"M 83.072031 496.44 \r\nL 138.872031 496.44 \r\nL 138.872031 442.08 \r\nL 83.072031 442.08 \r\nL 83.072031 496.44 \r\n\" style=\"fill:#7d1f5a;\"/>\r\n    <path clip-path=\"url(#pb124dfd3db)\" d=\"M 138.872031 496.44 \r\nL 194.672031 496.44 \r\nL 194.672031 442.08 \r\nL 138.872031 442.08 \r\nL 138.872031 496.44 \r\n\" style=\"fill:#0d0a21;\"/>\r\n    <path clip-path=\"url(#pb124dfd3db)\" d=\"M 194.672031 496.44 \r\nL 250.472031 496.44 \r\nL 250.472031 442.08 \r\nL 194.672031 442.08 \r\nL 194.672031 496.44 \r\n\" style=\"fill:#03051a;\"/>\r\n    <path clip-path=\"url(#pb124dfd3db)\" d=\"M 250.472031 496.44 \r\nL 306.272031 496.44 \r\nL 306.272031 442.08 \r\nL 250.472031 442.08 \r\nL 250.472031 496.44 \r\n\" style=\"fill:#03051a;\"/>\r\n    <path clip-path=\"url(#pb124dfd3db)\" d=\"M 306.272031 496.44 \r\nL 362.072031 496.44 \r\nL 362.072031 442.08 \r\nL 306.272031 442.08 \r\nL 306.272031 496.44 \r\n\" style=\"fill:#03051a;\"/>\r\n    <path clip-path=\"url(#pb124dfd3db)\" d=\"M 362.072031 496.44 \r\nL 417.872031 496.44 \r\nL 417.872031 442.08 \r\nL 362.072031 442.08 \r\nL 362.072031 496.44 \r\n\" style=\"fill:#05061b;\"/>\r\n    <path clip-path=\"url(#pb124dfd3db)\" d=\"M 417.872031 496.44 \r\nL 473.672031 496.44 \r\nL 473.672031 442.08 \r\nL 417.872031 442.08 \r\nL 417.872031 496.44 \r\n\" style=\"fill:#05061b;\"/>\r\n    <path clip-path=\"url(#pb124dfd3db)\" d=\"M 473.672031 496.44 \r\nL 529.472031 496.44 \r\nL 529.472031 442.08 \r\nL 473.672031 442.08 \r\nL 473.672031 496.44 \r\n\" style=\"fill:#04051a;\"/>\r\n    <path clip-path=\"url(#pb124dfd3db)\" d=\"M 529.472031 496.44 \r\nL 585.272031 496.44 \r\nL 585.272031 442.08 \r\nL 529.472031 442.08 \r\nL 529.472031 496.44 \r\n\" style=\"fill:#03051a;\"/>\r\n    <path clip-path=\"url(#pb124dfd3db)\" d=\"M 585.272031 496.44 \r\nL 641.072031 496.44 \r\nL 641.072031 442.08 \r\nL 585.272031 442.08 \r\nL 585.272031 496.44 \r\n\" style=\"fill:#03051a;\"/>\r\n    <path clip-path=\"url(#pb124dfd3db)\" d=\"M 641.072031 496.44 \r\nL 696.872031 496.44 \r\nL 696.872031 442.08 \r\nL 641.072031 442.08 \r\nL 641.072031 496.44 \r\n\" style=\"fill:#03051a;\"/>\r\n    <path clip-path=\"url(#pb124dfd3db)\" d=\"M 696.872031 496.44 \r\nL 752.672031 496.44 \r\nL 752.672031 442.08 \r\nL 696.872031 442.08 \r\nL 696.872031 496.44 \r\n\" style=\"fill:#03051a;\"/>\r\n    <path clip-path=\"url(#pb124dfd3db)\" d=\"M 752.672031 496.44 \r\nL 808.472031 496.44 \r\nL 808.472031 442.08 \r\nL 752.672031 442.08 \r\nL 752.672031 496.44 \r\n\" style=\"fill:#03051a;\"/>\r\n    <path clip-path=\"url(#pb124dfd3db)\" d=\"M 808.472031 496.44 \r\nL 864.272031 496.44 \r\nL 864.272031 442.08 \r\nL 808.472031 442.08 \r\nL 808.472031 496.44 \r\n\" style=\"fill:#03051a;\"/>\r\n    <path clip-path=\"url(#pb124dfd3db)\" d=\"M 864.272031 496.44 \r\nL 920.072031 496.44 \r\nL 920.072031 442.08 \r\nL 864.272031 442.08 \r\nL 864.272031 496.44 \r\n\" style=\"fill:#03051a;\"/>\r\n    <path clip-path=\"url(#pb124dfd3db)\" d=\"M 27.272031 442.08 \r\nL 83.072031 442.08 \r\nL 83.072031 387.72 \r\nL 27.272031 387.72 \r\nL 27.272031 442.08 \r\n\" style=\"fill:#f7c7a8;\"/>\r\n    <path clip-path=\"url(#pb124dfd3db)\" d=\"M 83.072031 442.08 \r\nL 138.872031 442.08 \r\nL 138.872031 387.72 \r\nL 83.072031 387.72 \r\nL 83.072031 442.08 \r\n\" style=\"fill:#ad1759;\"/>\r\n    <path clip-path=\"url(#pb124dfd3db)\" d=\"M 138.872031 442.08 \r\nL 194.672031 442.08 \r\nL 194.672031 387.72 \r\nL 138.872031 387.72 \r\nL 138.872031 442.08 \r\n\" style=\"fill:#0a091f;\"/>\r\n    <path clip-path=\"url(#pb124dfd3db)\" d=\"M 194.672031 442.08 \r\nL 250.472031 442.08 \r\nL 250.472031 387.72 \r\nL 194.672031 387.72 \r\nL 194.672031 442.08 \r\n\" style=\"fill:#04051a;\"/>\r\n    <path clip-path=\"url(#pb124dfd3db)\" d=\"M 250.472031 442.08 \r\nL 306.272031 442.08 \r\nL 306.272031 387.72 \r\nL 250.472031 387.72 \r\nL 250.472031 442.08 \r\n\" style=\"fill:#03051a;\"/>\r\n    <path clip-path=\"url(#pb124dfd3db)\" d=\"M 306.272031 442.08 \r\nL 362.072031 442.08 \r\nL 362.072031 387.72 \r\nL 306.272031 387.72 \r\nL 306.272031 442.08 \r\n\" style=\"fill:#03051a;\"/>\r\n    <path clip-path=\"url(#pb124dfd3db)\" d=\"M 362.072031 442.08 \r\nL 417.872031 442.08 \r\nL 417.872031 387.72 \r\nL 362.072031 387.72 \r\nL 362.072031 442.08 \r\n\" style=\"fill:#04051a;\"/>\r\n    <path clip-path=\"url(#pb124dfd3db)\" d=\"M 417.872031 442.08 \r\nL 473.672031 442.08 \r\nL 473.672031 387.72 \r\nL 417.872031 387.72 \r\nL 417.872031 442.08 \r\n\" style=\"fill:#03051a;\"/>\r\n    <path clip-path=\"url(#pb124dfd3db)\" d=\"M 473.672031 442.08 \r\nL 529.472031 442.08 \r\nL 529.472031 387.72 \r\nL 473.672031 387.72 \r\nL 473.672031 442.08 \r\n\" style=\"fill:#03051a;\"/>\r\n    <path clip-path=\"url(#pb124dfd3db)\" d=\"M 529.472031 442.08 \r\nL 585.272031 442.08 \r\nL 585.272031 387.72 \r\nL 529.472031 387.72 \r\nL 529.472031 442.08 \r\n\" style=\"fill:#03051a;\"/>\r\n    <path clip-path=\"url(#pb124dfd3db)\" d=\"M 585.272031 442.08 \r\nL 641.072031 442.08 \r\nL 641.072031 387.72 \r\nL 585.272031 387.72 \r\nL 585.272031 442.08 \r\n\" style=\"fill:#03051a;\"/>\r\n    <path clip-path=\"url(#pb124dfd3db)\" d=\"M 641.072031 442.08 \r\nL 696.872031 442.08 \r\nL 696.872031 387.72 \r\nL 641.072031 387.72 \r\nL 641.072031 442.08 \r\n\" style=\"fill:#03051a;\"/>\r\n    <path clip-path=\"url(#pb124dfd3db)\" d=\"M 696.872031 442.08 \r\nL 752.672031 442.08 \r\nL 752.672031 387.72 \r\nL 696.872031 387.72 \r\nL 696.872031 442.08 \r\n\" style=\"fill:#03051a;\"/>\r\n    <path clip-path=\"url(#pb124dfd3db)\" d=\"M 752.672031 442.08 \r\nL 808.472031 442.08 \r\nL 808.472031 387.72 \r\nL 752.672031 387.72 \r\nL 752.672031 442.08 \r\n\" style=\"fill:#03051a;\"/>\r\n    <path clip-path=\"url(#pb124dfd3db)\" d=\"M 808.472031 442.08 \r\nL 864.272031 442.08 \r\nL 864.272031 387.72 \r\nL 808.472031 387.72 \r\nL 808.472031 442.08 \r\n\" style=\"fill:#03051a;\"/>\r\n    <path clip-path=\"url(#pb124dfd3db)\" d=\"M 864.272031 442.08 \r\nL 920.072031 442.08 \r\nL 920.072031 387.72 \r\nL 864.272031 387.72 \r\nL 864.272031 442.08 \r\n\" style=\"fill:#03051a;\"/>\r\n    <path clip-path=\"url(#pb124dfd3db)\" d=\"M 27.272031 387.72 \r\nL 83.072031 387.72 \r\nL 83.072031 333.36 \r\nL 27.272031 333.36 \r\nL 27.272031 387.72 \r\n\" style=\"fill:#faebdd;\"/>\r\n    <path clip-path=\"url(#pb124dfd3db)\" d=\"M 83.072031 387.72 \r\nL 138.872031 387.72 \r\nL 138.872031 333.36 \r\nL 83.072031 333.36 \r\nL 83.072031 387.72 \r\n\" style=\"fill:#5e1f52;\"/>\r\n    <path clip-path=\"url(#pb124dfd3db)\" d=\"M 138.872031 387.72 \r\nL 194.672031 387.72 \r\nL 194.672031 333.36 \r\nL 138.872031 333.36 \r\nL 138.872031 387.72 \r\n\" style=\"fill:#221331;\"/>\r\n    <path clip-path=\"url(#pb124dfd3db)\" d=\"M 194.672031 387.72 \r\nL 250.472031 387.72 \r\nL 250.472031 333.36 \r\nL 194.672031 333.36 \r\nL 194.672031 387.72 \r\n\" style=\"fill:#08081e;\"/>\r\n    <path clip-path=\"url(#pb124dfd3db)\" d=\"M 250.472031 387.72 \r\nL 306.272031 387.72 \r\nL 306.272031 333.36 \r\nL 250.472031 333.36 \r\nL 250.472031 387.72 \r\n\" style=\"fill:#04051a;\"/>\r\n    <path clip-path=\"url(#pb124dfd3db)\" d=\"M 306.272031 387.72 \r\nL 362.072031 387.72 \r\nL 362.072031 333.36 \r\nL 306.272031 333.36 \r\nL 306.272031 387.72 \r\n\" style=\"fill:#03051a;\"/>\r\n    <path clip-path=\"url(#pb124dfd3db)\" d=\"M 362.072031 387.72 \r\nL 417.872031 387.72 \r\nL 417.872031 333.36 \r\nL 362.072031 333.36 \r\nL 362.072031 387.72 \r\n\" style=\"fill:#03051a;\"/>\r\n    <path clip-path=\"url(#pb124dfd3db)\" d=\"M 417.872031 387.72 \r\nL 473.672031 387.72 \r\nL 473.672031 333.36 \r\nL 417.872031 333.36 \r\nL 417.872031 387.72 \r\n\" style=\"fill:#03051a;\"/>\r\n    <path clip-path=\"url(#pb124dfd3db)\" d=\"M 473.672031 387.72 \r\nL 529.472031 387.72 \r\nL 529.472031 333.36 \r\nL 473.672031 333.36 \r\nL 473.672031 387.72 \r\n\" style=\"fill:#03051a;\"/>\r\n    <path clip-path=\"url(#pb124dfd3db)\" d=\"M 529.472031 387.72 \r\nL 585.272031 387.72 \r\nL 585.272031 333.36 \r\nL 529.472031 333.36 \r\nL 529.472031 387.72 \r\n\" style=\"fill:#03051a;\"/>\r\n    <path clip-path=\"url(#pb124dfd3db)\" d=\"M 585.272031 387.72 \r\nL 641.072031 387.72 \r\nL 641.072031 333.36 \r\nL 585.272031 333.36 \r\nL 585.272031 387.72 \r\n\" style=\"fill:#03051a;\"/>\r\n    <path clip-path=\"url(#pb124dfd3db)\" d=\"M 641.072031 387.72 \r\nL 696.872031 387.72 \r\nL 696.872031 333.36 \r\nL 641.072031 333.36 \r\nL 641.072031 387.72 \r\n\" style=\"fill:#03051a;\"/>\r\n    <path clip-path=\"url(#pb124dfd3db)\" d=\"M 696.872031 387.72 \r\nL 752.672031 387.72 \r\nL 752.672031 333.36 \r\nL 696.872031 333.36 \r\nL 696.872031 387.72 \r\n\" style=\"fill:#03051a;\"/>\r\n    <path clip-path=\"url(#pb124dfd3db)\" d=\"M 752.672031 387.72 \r\nL 808.472031 387.72 \r\nL 808.472031 333.36 \r\nL 752.672031 333.36 \r\nL 752.672031 387.72 \r\n\" style=\"fill:#03051a;\"/>\r\n    <path clip-path=\"url(#pb124dfd3db)\" d=\"M 808.472031 387.72 \r\nL 864.272031 387.72 \r\nL 864.272031 333.36 \r\nL 808.472031 333.36 \r\nL 808.472031 387.72 \r\n\" style=\"fill:#03051a;\"/>\r\n    <path clip-path=\"url(#pb124dfd3db)\" d=\"M 864.272031 387.72 \r\nL 920.072031 387.72 \r\nL 920.072031 333.36 \r\nL 864.272031 333.36 \r\nL 864.272031 387.72 \r\n\" style=\"fill:#03051a;\"/>\r\n    <path clip-path=\"url(#pb124dfd3db)\" d=\"M 27.272031 333.36 \r\nL 83.072031 333.36 \r\nL 83.072031 279 \r\nL 27.272031 279 \r\nL 27.272031 333.36 \r\n\" style=\"fill:#f59269;\"/>\r\n    <path clip-path=\"url(#pb124dfd3db)\" d=\"M 83.072031 333.36 \r\nL 138.872031 333.36 \r\nL 138.872031 279 \r\nL 83.072031 279 \r\nL 83.072031 333.36 \r\n\" style=\"fill:#841e5a;\"/>\r\n    <path clip-path=\"url(#pb124dfd3db)\" d=\"M 138.872031 333.36 \r\nL 194.672031 333.36 \r\nL 194.672031 279 \r\nL 138.872031 279 \r\nL 138.872031 333.36 \r\n\" style=\"fill:#481c48;\"/>\r\n    <path clip-path=\"url(#pb124dfd3db)\" d=\"M 194.672031 333.36 \r\nL 250.472031 333.36 \r\nL 250.472031 279 \r\nL 194.672031 279 \r\nL 194.672031 333.36 \r\n\" style=\"fill:#08081e;\"/>\r\n    <path clip-path=\"url(#pb124dfd3db)\" d=\"M 250.472031 333.36 \r\nL 306.272031 333.36 \r\nL 306.272031 279 \r\nL 250.472031 279 \r\nL 250.472031 333.36 \r\n\" style=\"fill:#04051a;\"/>\r\n    <path clip-path=\"url(#pb124dfd3db)\" d=\"M 306.272031 333.36 \r\nL 362.072031 333.36 \r\nL 362.072031 279 \r\nL 306.272031 279 \r\nL 306.272031 333.36 \r\n\" style=\"fill:#03051a;\"/>\r\n    <path clip-path=\"url(#pb124dfd3db)\" d=\"M 362.072031 333.36 \r\nL 417.872031 333.36 \r\nL 417.872031 279 \r\nL 362.072031 279 \r\nL 362.072031 333.36 \r\n\" style=\"fill:#04051a;\"/>\r\n    <path clip-path=\"url(#pb124dfd3db)\" d=\"M 417.872031 333.36 \r\nL 473.672031 333.36 \r\nL 473.672031 279 \r\nL 417.872031 279 \r\nL 417.872031 333.36 \r\n\" style=\"fill:#03051a;\"/>\r\n    <path clip-path=\"url(#pb124dfd3db)\" d=\"M 473.672031 333.36 \r\nL 529.472031 333.36 \r\nL 529.472031 279 \r\nL 473.672031 279 \r\nL 473.672031 333.36 \r\n\" style=\"fill:#03051a;\"/>\r\n    <path clip-path=\"url(#pb124dfd3db)\" d=\"M 529.472031 333.36 \r\nL 585.272031 333.36 \r\nL 585.272031 279 \r\nL 529.472031 279 \r\nL 529.472031 333.36 \r\n\" style=\"fill:#03051a;\"/>\r\n    <path clip-path=\"url(#pb124dfd3db)\" d=\"M 585.272031 333.36 \r\nL 641.072031 333.36 \r\nL 641.072031 279 \r\nL 585.272031 279 \r\nL 585.272031 333.36 \r\n\" style=\"fill:#03051a;\"/>\r\n    <path clip-path=\"url(#pb124dfd3db)\" d=\"M 641.072031 333.36 \r\nL 696.872031 333.36 \r\nL 696.872031 279 \r\nL 641.072031 279 \r\nL 641.072031 333.36 \r\n\" style=\"fill:#03051a;\"/>\r\n    <path clip-path=\"url(#pb124dfd3db)\" d=\"M 696.872031 333.36 \r\nL 752.672031 333.36 \r\nL 752.672031 279 \r\nL 696.872031 279 \r\nL 696.872031 333.36 \r\n\" style=\"fill:#03051a;\"/>\r\n    <path clip-path=\"url(#pb124dfd3db)\" d=\"M 752.672031 333.36 \r\nL 808.472031 333.36 \r\nL 808.472031 279 \r\nL 752.672031 279 \r\nL 752.672031 333.36 \r\n\" style=\"fill:#03051a;\"/>\r\n    <path clip-path=\"url(#pb124dfd3db)\" d=\"M 808.472031 333.36 \r\nL 864.272031 333.36 \r\nL 864.272031 279 \r\nL 808.472031 279 \r\nL 808.472031 333.36 \r\n\" style=\"fill:#03051a;\"/>\r\n    <path clip-path=\"url(#pb124dfd3db)\" d=\"M 864.272031 333.36 \r\nL 920.072031 333.36 \r\nL 920.072031 279 \r\nL 864.272031 279 \r\nL 864.272031 333.36 \r\n\" style=\"fill:#03051a;\"/>\r\n    <path clip-path=\"url(#pb124dfd3db)\" d=\"M 27.272031 279 \r\nL 83.072031 279 \r\nL 83.072031 224.64 \r\nL 27.272031 224.64 \r\nL 27.272031 279 \r\n\" style=\"fill:#4e1d4b;\"/>\r\n    <path clip-path=\"url(#pb124dfd3db)\" d=\"M 83.072031 279 \r\nL 138.872031 279 \r\nL 138.872031 224.64 \r\nL 83.072031 224.64 \r\nL 83.072031 279 \r\n\" style=\"fill:#e9423e;\"/>\r\n    <path clip-path=\"url(#pb124dfd3db)\" d=\"M 138.872031 279 \r\nL 194.672031 279 \r\nL 194.672031 224.64 \r\nL 138.872031 224.64 \r\nL 138.872031 279 \r\n\" style=\"fill:#c11754;\"/>\r\n    <path clip-path=\"url(#pb124dfd3db)\" d=\"M 194.672031 279 \r\nL 250.472031 279 \r\nL 250.472031 224.64 \r\nL 194.672031 224.64 \r\nL 194.672031 279 \r\n\" style=\"fill:#180f29;\"/>\r\n    <path clip-path=\"url(#pb124dfd3db)\" d=\"M 250.472031 279 \r\nL 306.272031 279 \r\nL 306.272031 224.64 \r\nL 250.472031 224.64 \r\nL 250.472031 279 \r\n\" style=\"fill:#05061b;\"/>\r\n    <path clip-path=\"url(#pb124dfd3db)\" d=\"M 306.272031 279 \r\nL 362.072031 279 \r\nL 362.072031 224.64 \r\nL 306.272031 224.64 \r\nL 306.272031 279 \r\n\" style=\"fill:#03051a;\"/>\r\n    <path clip-path=\"url(#pb124dfd3db)\" d=\"M 362.072031 279 \r\nL 417.872031 279 \r\nL 417.872031 224.64 \r\nL 362.072031 224.64 \r\nL 362.072031 279 \r\n\" style=\"fill:#03051a;\"/>\r\n    <path clip-path=\"url(#pb124dfd3db)\" d=\"M 417.872031 279 \r\nL 473.672031 279 \r\nL 473.672031 224.64 \r\nL 417.872031 224.64 \r\nL 417.872031 279 \r\n\" style=\"fill:#03051a;\"/>\r\n    <path clip-path=\"url(#pb124dfd3db)\" d=\"M 473.672031 279 \r\nL 529.472031 279 \r\nL 529.472031 224.64 \r\nL 473.672031 224.64 \r\nL 473.672031 279 \r\n\" style=\"fill:#03051a;\"/>\r\n    <path clip-path=\"url(#pb124dfd3db)\" d=\"M 529.472031 279 \r\nL 585.272031 279 \r\nL 585.272031 224.64 \r\nL 529.472031 224.64 \r\nL 529.472031 279 \r\n\" style=\"fill:#03051a;\"/>\r\n    <path clip-path=\"url(#pb124dfd3db)\" d=\"M 585.272031 279 \r\nL 641.072031 279 \r\nL 641.072031 224.64 \r\nL 585.272031 224.64 \r\nL 585.272031 279 \r\n\" style=\"fill:#03051a;\"/>\r\n    <path clip-path=\"url(#pb124dfd3db)\" d=\"M 641.072031 279 \r\nL 696.872031 279 \r\nL 696.872031 224.64 \r\nL 641.072031 224.64 \r\nL 641.072031 279 \r\n\" style=\"fill:#03051a;\"/>\r\n    <path clip-path=\"url(#pb124dfd3db)\" d=\"M 696.872031 279 \r\nL 752.672031 279 \r\nL 752.672031 224.64 \r\nL 696.872031 224.64 \r\nL 696.872031 279 \r\n\" style=\"fill:#03051a;\"/>\r\n    <path clip-path=\"url(#pb124dfd3db)\" d=\"M 752.672031 279 \r\nL 808.472031 279 \r\nL 808.472031 224.64 \r\nL 752.672031 224.64 \r\nL 752.672031 279 \r\n\" style=\"fill:#03051a;\"/>\r\n    <path clip-path=\"url(#pb124dfd3db)\" d=\"M 808.472031 279 \r\nL 864.272031 279 \r\nL 864.272031 224.64 \r\nL 808.472031 224.64 \r\nL 808.472031 279 \r\n\" style=\"fill:#03051a;\"/>\r\n    <path clip-path=\"url(#pb124dfd3db)\" d=\"M 864.272031 279 \r\nL 920.072031 279 \r\nL 920.072031 224.64 \r\nL 864.272031 224.64 \r\nL 864.272031 279 \r\n\" style=\"fill:#03051a;\"/>\r\n    <path clip-path=\"url(#pb124dfd3db)\" d=\"M 27.272031 224.64 \r\nL 83.072031 224.64 \r\nL 83.072031 170.28 \r\nL 27.272031 170.28 \r\nL 27.272031 224.64 \r\n\" style=\"fill:#781f59;\"/>\r\n    <path clip-path=\"url(#pb124dfd3db)\" d=\"M 83.072031 224.64 \r\nL 138.872031 224.64 \r\nL 138.872031 170.28 \r\nL 83.072031 170.28 \r\nL 83.072031 224.64 \r\n\" style=\"fill:#ee523f;\"/>\r\n    <path clip-path=\"url(#pb124dfd3db)\" d=\"M 138.872031 224.64 \r\nL 194.672031 224.64 \r\nL 194.672031 170.28 \r\nL 138.872031 170.28 \r\nL 138.872031 224.64 \r\n\" style=\"fill:#20122e;\"/>\r\n    <path clip-path=\"url(#pb124dfd3db)\" d=\"M 194.672031 224.64 \r\nL 250.472031 224.64 \r\nL 250.472031 170.28 \r\nL 194.672031 170.28 \r\nL 194.672031 224.64 \r\n\" style=\"fill:#6b1f56;\"/>\r\n    <path clip-path=\"url(#pb124dfd3db)\" d=\"M 250.472031 224.64 \r\nL 306.272031 224.64 \r\nL 306.272031 170.28 \r\nL 250.472031 170.28 \r\nL 250.472031 224.64 \r\n\" style=\"fill:#0d0a21;\"/>\r\n    <path clip-path=\"url(#pb124dfd3db)\" d=\"M 306.272031 224.64 \r\nL 362.072031 224.64 \r\nL 362.072031 170.28 \r\nL 306.272031 170.28 \r\nL 306.272031 224.64 \r\n\" style=\"fill:#06071c;\"/>\r\n    <path clip-path=\"url(#pb124dfd3db)\" d=\"M 362.072031 224.64 \r\nL 417.872031 224.64 \r\nL 417.872031 170.28 \r\nL 362.072031 170.28 \r\nL 362.072031 224.64 \r\n\" style=\"fill:#06071c;\"/>\r\n    <path clip-path=\"url(#pb124dfd3db)\" d=\"M 417.872031 224.64 \r\nL 473.672031 224.64 \r\nL 473.672031 170.28 \r\nL 417.872031 170.28 \r\nL 417.872031 224.64 \r\n\" style=\"fill:#03051a;\"/>\r\n    <path clip-path=\"url(#pb124dfd3db)\" d=\"M 473.672031 224.64 \r\nL 529.472031 224.64 \r\nL 529.472031 170.28 \r\nL 473.672031 170.28 \r\nL 473.672031 224.64 \r\n\" style=\"fill:#03051a;\"/>\r\n    <path clip-path=\"url(#pb124dfd3db)\" d=\"M 529.472031 224.64 \r\nL 585.272031 224.64 \r\nL 585.272031 170.28 \r\nL 529.472031 170.28 \r\nL 529.472031 224.64 \r\n\" style=\"fill:#03051a;\"/>\r\n    <path clip-path=\"url(#pb124dfd3db)\" d=\"M 585.272031 224.64 \r\nL 641.072031 224.64 \r\nL 641.072031 170.28 \r\nL 585.272031 170.28 \r\nL 585.272031 224.64 \r\n\" style=\"fill:#03051a;\"/>\r\n    <path clip-path=\"url(#pb124dfd3db)\" d=\"M 641.072031 224.64 \r\nL 696.872031 224.64 \r\nL 696.872031 170.28 \r\nL 641.072031 170.28 \r\nL 641.072031 224.64 \r\n\" style=\"fill:#03051a;\"/>\r\n    <path clip-path=\"url(#pb124dfd3db)\" d=\"M 696.872031 224.64 \r\nL 752.672031 224.64 \r\nL 752.672031 170.28 \r\nL 696.872031 170.28 \r\nL 696.872031 224.64 \r\n\" style=\"fill:#03051a;\"/>\r\n    <path clip-path=\"url(#pb124dfd3db)\" d=\"M 752.672031 224.64 \r\nL 808.472031 224.64 \r\nL 808.472031 170.28 \r\nL 752.672031 170.28 \r\nL 752.672031 224.64 \r\n\" style=\"fill:#03051a;\"/>\r\n    <path clip-path=\"url(#pb124dfd3db)\" d=\"M 808.472031 224.64 \r\nL 864.272031 224.64 \r\nL 864.272031 170.28 \r\nL 808.472031 170.28 \r\nL 808.472031 224.64 \r\n\" style=\"fill:#03051a;\"/>\r\n    <path clip-path=\"url(#pb124dfd3db)\" d=\"M 864.272031 224.64 \r\nL 920.072031 224.64 \r\nL 920.072031 170.28 \r\nL 864.272031 170.28 \r\nL 864.272031 224.64 \r\n\" style=\"fill:#03051a;\"/>\r\n    <path clip-path=\"url(#pb124dfd3db)\" d=\"M 27.272031 170.28 \r\nL 83.072031 170.28 \r\nL 83.072031 115.92 \r\nL 27.272031 115.92 \r\nL 27.272031 170.28 \r\n\" style=\"fill:#581e4f;\"/>\r\n    <path clip-path=\"url(#pb124dfd3db)\" d=\"M 83.072031 170.28 \r\nL 138.872031 170.28 \r\nL 138.872031 115.92 \r\nL 83.072031 115.92 \r\nL 83.072031 170.28 \r\n\" style=\"fill:#f6b893;\"/>\r\n    <path clip-path=\"url(#pb124dfd3db)\" d=\"M 138.872031 170.28 \r\nL 194.672031 170.28 \r\nL 194.672031 115.92 \r\nL 138.872031 115.92 \r\nL 138.872031 170.28 \r\n\" style=\"fill:#3c1a42;\"/>\r\n    <path clip-path=\"url(#pb124dfd3db)\" d=\"M 194.672031 170.28 \r\nL 250.472031 170.28 \r\nL 250.472031 115.92 \r\nL 194.672031 115.92 \r\nL 194.672031 170.28 \r\n\" style=\"fill:#160e27;\"/>\r\n    <path clip-path=\"url(#pb124dfd3db)\" d=\"M 250.472031 170.28 \r\nL 306.272031 170.28 \r\nL 306.272031 115.92 \r\nL 250.472031 115.92 \r\nL 250.472031 170.28 \r\n\" style=\"fill:#05061b;\"/>\r\n    <path clip-path=\"url(#pb124dfd3db)\" d=\"M 306.272031 170.28 \r\nL 362.072031 170.28 \r\nL 362.072031 115.92 \r\nL 306.272031 115.92 \r\nL 306.272031 170.28 \r\n\" style=\"fill:#03051a;\"/>\r\n    <path clip-path=\"url(#pb124dfd3db)\" d=\"M 362.072031 170.28 \r\nL 417.872031 170.28 \r\nL 417.872031 115.92 \r\nL 362.072031 115.92 \r\nL 362.072031 170.28 \r\n\" style=\"fill:#03051a;\"/>\r\n    <path clip-path=\"url(#pb124dfd3db)\" d=\"M 417.872031 170.28 \r\nL 473.672031 170.28 \r\nL 473.672031 115.92 \r\nL 417.872031 115.92 \r\nL 417.872031 170.28 \r\n\" style=\"fill:#03051a;\"/>\r\n    <path clip-path=\"url(#pb124dfd3db)\" d=\"M 473.672031 170.28 \r\nL 529.472031 170.28 \r\nL 529.472031 115.92 \r\nL 473.672031 115.92 \r\nL 473.672031 170.28 \r\n\" style=\"fill:#03051a;\"/>\r\n    <path clip-path=\"url(#pb124dfd3db)\" d=\"M 529.472031 170.28 \r\nL 585.272031 170.28 \r\nL 585.272031 115.92 \r\nL 529.472031 115.92 \r\nL 529.472031 170.28 \r\n\" style=\"fill:#03051a;\"/>\r\n    <path clip-path=\"url(#pb124dfd3db)\" d=\"M 585.272031 170.28 \r\nL 641.072031 170.28 \r\nL 641.072031 115.92 \r\nL 585.272031 115.92 \r\nL 585.272031 170.28 \r\n\" style=\"fill:#03051a;\"/>\r\n    <path clip-path=\"url(#pb124dfd3db)\" d=\"M 641.072031 170.28 \r\nL 696.872031 170.28 \r\nL 696.872031 115.92 \r\nL 641.072031 115.92 \r\nL 641.072031 170.28 \r\n\" style=\"fill:#03051a;\"/>\r\n    <path clip-path=\"url(#pb124dfd3db)\" d=\"M 696.872031 170.28 \r\nL 752.672031 170.28 \r\nL 752.672031 115.92 \r\nL 696.872031 115.92 \r\nL 696.872031 170.28 \r\n\" style=\"fill:#03051a;\"/>\r\n    <path clip-path=\"url(#pb124dfd3db)\" d=\"M 752.672031 170.28 \r\nL 808.472031 170.28 \r\nL 808.472031 115.92 \r\nL 752.672031 115.92 \r\nL 752.672031 170.28 \r\n\" style=\"fill:#03051a;\"/>\r\n    <path clip-path=\"url(#pb124dfd3db)\" d=\"M 808.472031 170.28 \r\nL 864.272031 170.28 \r\nL 864.272031 115.92 \r\nL 808.472031 115.92 \r\nL 808.472031 170.28 \r\n\" style=\"fill:#03051a;\"/>\r\n    <path clip-path=\"url(#pb124dfd3db)\" d=\"M 864.272031 170.28 \r\nL 920.072031 170.28 \r\nL 920.072031 115.92 \r\nL 864.272031 115.92 \r\nL 864.272031 170.28 \r\n\" style=\"fill:#03051a;\"/>\r\n    <path clip-path=\"url(#pb124dfd3db)\" d=\"M 27.272031 115.92 \r\nL 83.072031 115.92 \r\nL 83.072031 61.56 \r\nL 27.272031 61.56 \r\nL 27.272031 115.92 \r\n\" style=\"fill:#751f58;\"/>\r\n    <path clip-path=\"url(#pb124dfd3db)\" d=\"M 83.072031 115.92 \r\nL 138.872031 115.92 \r\nL 138.872031 61.56 \r\nL 83.072031 61.56 \r\nL 83.072031 115.92 \r\n\" style=\"fill:#f6a178;\"/>\r\n    <path clip-path=\"url(#pb124dfd3db)\" d=\"M 138.872031 115.92 \r\nL 194.672031 115.92 \r\nL 194.672031 61.56 \r\nL 138.872031 61.56 \r\nL 138.872031 115.92 \r\n\" style=\"fill:#170f28;\"/>\r\n    <path clip-path=\"url(#pb124dfd3db)\" d=\"M 194.672031 115.92 \r\nL 250.472031 115.92 \r\nL 250.472031 61.56 \r\nL 194.672031 61.56 \r\nL 194.672031 115.92 \r\n\" style=\"fill:#1a102a;\"/>\r\n    <path clip-path=\"url(#pb124dfd3db)\" d=\"M 250.472031 115.92 \r\nL 306.272031 115.92 \r\nL 306.272031 61.56 \r\nL 250.472031 61.56 \r\nL 250.472031 115.92 \r\n\" style=\"fill:#03051a;\"/>\r\n    <path clip-path=\"url(#pb124dfd3db)\" d=\"M 306.272031 115.92 \r\nL 362.072031 115.92 \r\nL 362.072031 61.56 \r\nL 306.272031 61.56 \r\nL 306.272031 115.92 \r\n\" style=\"fill:#03051a;\"/>\r\n    <path clip-path=\"url(#pb124dfd3db)\" d=\"M 362.072031 115.92 \r\nL 417.872031 115.92 \r\nL 417.872031 61.56 \r\nL 362.072031 61.56 \r\nL 362.072031 115.92 \r\n\" style=\"fill:#03051a;\"/>\r\n    <path clip-path=\"url(#pb124dfd3db)\" d=\"M 417.872031 115.92 \r\nL 473.672031 115.92 \r\nL 473.672031 61.56 \r\nL 417.872031 61.56 \r\nL 417.872031 115.92 \r\n\" style=\"fill:#06071c;\"/>\r\n    <path clip-path=\"url(#pb124dfd3db)\" d=\"M 473.672031 115.92 \r\nL 529.472031 115.92 \r\nL 529.472031 61.56 \r\nL 473.672031 61.56 \r\nL 473.672031 115.92 \r\n\" style=\"fill:#08081e;\"/>\r\n    <path clip-path=\"url(#pb124dfd3db)\" d=\"M 529.472031 115.92 \r\nL 585.272031 115.92 \r\nL 585.272031 61.56 \r\nL 529.472031 61.56 \r\nL 529.472031 115.92 \r\n\" style=\"fill:#04051a;\"/>\r\n    <path clip-path=\"url(#pb124dfd3db)\" d=\"M 585.272031 115.92 \r\nL 641.072031 115.92 \r\nL 641.072031 61.56 \r\nL 585.272031 61.56 \r\nL 585.272031 115.92 \r\n\" style=\"fill:#03051a;\"/>\r\n    <path clip-path=\"url(#pb124dfd3db)\" d=\"M 641.072031 115.92 \r\nL 696.872031 115.92 \r\nL 696.872031 61.56 \r\nL 641.072031 61.56 \r\nL 641.072031 115.92 \r\n\" style=\"fill:#05061b;\"/>\r\n    <path clip-path=\"url(#pb124dfd3db)\" d=\"M 696.872031 115.92 \r\nL 752.672031 115.92 \r\nL 752.672031 61.56 \r\nL 696.872031 61.56 \r\nL 696.872031 115.92 \r\n\" style=\"fill:#03051a;\"/>\r\n    <path clip-path=\"url(#pb124dfd3db)\" d=\"M 752.672031 115.92 \r\nL 808.472031 115.92 \r\nL 808.472031 61.56 \r\nL 752.672031 61.56 \r\nL 752.672031 115.92 \r\n\" style=\"fill:#03051a;\"/>\r\n    <path clip-path=\"url(#pb124dfd3db)\" d=\"M 808.472031 115.92 \r\nL 864.272031 115.92 \r\nL 864.272031 61.56 \r\nL 808.472031 61.56 \r\nL 808.472031 115.92 \r\n\" style=\"fill:#03051a;\"/>\r\n    <path clip-path=\"url(#pb124dfd3db)\" d=\"M 864.272031 115.92 \r\nL 920.072031 115.92 \r\nL 920.072031 61.56 \r\nL 864.272031 61.56 \r\nL 864.272031 115.92 \r\n\" style=\"fill:#04051a;\"/>\r\n    <path clip-path=\"url(#pb124dfd3db)\" d=\"M 27.272031 61.56 \r\nL 83.072031 61.56 \r\nL 83.072031 7.2 \r\nL 27.272031 7.2 \r\nL 27.272031 61.56 \r\n\" style=\"fill:#0a091f;\"/>\r\n    <path clip-path=\"url(#pb124dfd3db)\" d=\"M 83.072031 61.56 \r\nL 138.872031 61.56 \r\nL 138.872031 7.2 \r\nL 83.072031 7.2 \r\nL 83.072031 61.56 \r\n\" style=\"fill:#431c46;\"/>\r\n    <path clip-path=\"url(#pb124dfd3db)\" d=\"M 138.872031 61.56 \r\nL 194.672031 61.56 \r\nL 194.672031 7.2 \r\nL 138.872031 7.2 \r\nL 138.872031 61.56 \r\n\" style=\"fill:#1e122d;\"/>\r\n    <path clip-path=\"url(#pb124dfd3db)\" d=\"M 194.672031 61.56 \r\nL 250.472031 61.56 \r\nL 250.472031 7.2 \r\nL 194.672031 7.2 \r\nL 194.672031 61.56 \r\n\" style=\"fill:#170f28;\"/>\r\n    <path clip-path=\"url(#pb124dfd3db)\" d=\"M 250.472031 61.56 \r\nL 306.272031 61.56 \r\nL 306.272031 7.2 \r\nL 250.472031 7.2 \r\nL 250.472031 61.56 \r\n\" style=\"fill:#04051a;\"/>\r\n    <path clip-path=\"url(#pb124dfd3db)\" d=\"M 306.272031 61.56 \r\nL 362.072031 61.56 \r\nL 362.072031 7.2 \r\nL 306.272031 7.2 \r\nL 306.272031 61.56 \r\n\" style=\"fill:#05061b;\"/>\r\n    <path clip-path=\"url(#pb124dfd3db)\" d=\"M 362.072031 61.56 \r\nL 417.872031 61.56 \r\nL 417.872031 7.2 \r\nL 362.072031 7.2 \r\nL 362.072031 61.56 \r\n\" style=\"fill:#08081e;\"/>\r\n    <path clip-path=\"url(#pb124dfd3db)\" d=\"M 417.872031 61.56 \r\nL 473.672031 61.56 \r\nL 473.672031 7.2 \r\nL 417.872031 7.2 \r\nL 417.872031 61.56 \r\n\" style=\"fill:#160e27;\"/>\r\n    <path clip-path=\"url(#pb124dfd3db)\" d=\"M 473.672031 61.56 \r\nL 529.472031 61.56 \r\nL 529.472031 7.2 \r\nL 473.672031 7.2 \r\nL 473.672031 61.56 \r\n\" style=\"fill:#3d1a42;\"/>\r\n    <path clip-path=\"url(#pb124dfd3db)\" d=\"M 529.472031 61.56 \r\nL 585.272031 61.56 \r\nL 585.272031 7.2 \r\nL 529.472031 7.2 \r\nL 529.472031 61.56 \r\n\" style=\"fill:#160e27;\"/>\r\n    <path clip-path=\"url(#pb124dfd3db)\" d=\"M 585.272031 61.56 \r\nL 641.072031 61.56 \r\nL 641.072031 7.2 \r\nL 585.272031 7.2 \r\nL 585.272031 61.56 \r\n\" style=\"fill:#110c24;\"/>\r\n    <path clip-path=\"url(#pb124dfd3db)\" d=\"M 641.072031 61.56 \r\nL 696.872031 61.56 \r\nL 696.872031 7.2 \r\nL 641.072031 7.2 \r\nL 641.072031 61.56 \r\n\" style=\"fill:#07071d;\"/>\r\n    <path clip-path=\"url(#pb124dfd3db)\" d=\"M 696.872031 61.56 \r\nL 752.672031 61.56 \r\nL 752.672031 7.2 \r\nL 696.872031 7.2 \r\nL 696.872031 61.56 \r\n\" style=\"fill:#08081e;\"/>\r\n    <path clip-path=\"url(#pb124dfd3db)\" d=\"M 752.672031 61.56 \r\nL 808.472031 61.56 \r\nL 808.472031 7.2 \r\nL 752.672031 7.2 \r\nL 752.672031 61.56 \r\n\" style=\"fill:#05061b;\"/>\r\n    <path clip-path=\"url(#pb124dfd3db)\" d=\"M 808.472031 61.56 \r\nL 864.272031 61.56 \r\nL 864.272031 7.2 \r\nL 808.472031 7.2 \r\nL 808.472031 61.56 \r\n\" style=\"fill:#05061b;\"/>\r\n    <path clip-path=\"url(#pb124dfd3db)\" d=\"M 864.272031 61.56 \r\nL 920.072031 61.56 \r\nL 920.072031 7.2 \r\nL 864.272031 7.2 \r\nL 864.272031 61.56 \r\n\" style=\"fill:#0e0b22;\"/>\r\n   </g>\r\n  </g>\r\n  <g id=\"axes_2\">\r\n   <g id=\"patch_3\">\r\n    <path clip-path=\"url(#p0c2bbfbcc8)\" d=\"M 975.872031 550.8 \r\nL 975.872031 548.676562 \r\nL 975.872031 9.323437 \r\nL 975.872031 7.2 \r\nL 1003.052031 7.2 \r\nL 1003.052031 9.323437 \r\nL 1003.052031 548.676562 \r\nL 1003.052031 550.8 \r\nz\r\n\" style=\"fill:#eaeaf2;stroke:#eaeaf2;stroke-linejoin:miter;stroke-width:0.01;\"/>\r\n   </g>\r\n   <g id=\"matplotlib.axis_3\"/>\r\n   <g id=\"matplotlib.axis_4\">\r\n    <g id=\"ytick_11\">\r\n     <g id=\"line2d_1\">\r\n      <defs>\r\n       <path d=\"M 0 0 \r\nL 6 0 \r\n\" id=\"m3a975a2539\" style=\"stroke:#262626;stroke-width:1.25;\"/>\r\n      </defs>\r\n      <g>\r\n       <use style=\"fill:#262626;stroke:#262626;stroke-width:1.25;\" x=\"1003.052031\" xlink:href=\"#m3a975a2539\" y=\"475.029792\"/>\r\n      </g>\r\n     </g>\r\n     <g id=\"text_26\">\r\n      <!-- 0.1 -->\r\n      <defs>\r\n       <path d=\"M 50.53125 36.375 \r\nQ 50.53125 16.796875 44.84375 7.640625 \r\nQ 39.15625 -1.515625 27.296875 -1.515625 \r\nQ 15.28125 -1.515625 9.65625 7.8125 \r\nQ 4.046875 17.140625 4.046875 36.28125 \r\nQ 4.046875 55.953125 9.734375 65.0625 \r\nQ 15.4375 74.171875 27.296875 74.171875 \r\nQ 39.3125 74.171875 44.921875 64.75 \r\nQ 50.53125 55.328125 50.53125 36.375 \r\nz\r\nM 38.03125 14.203125 \r\nQ 39.453125 17.828125 40.03125 23.34375 \r\nQ 40.625 28.859375 40.625 36.375 \r\nQ 40.625 43.84375 40.03125 49.359375 \r\nQ 39.453125 54.890625 37.984375 58.546875 \r\nQ 36.53125 62.25 33.953125 64.171875 \r\nQ 31.390625 66.109375 27.296875 66.109375 \r\nQ 23.25 66.109375 20.625 64.171875 \r\nQ 18.015625 62.25 16.5 58.453125 \r\nQ 15.046875 54.734375 14.5 49.0625 \r\nQ 13.96875 43.40625 13.96875 36.28125 \r\nQ 13.96875 28.65625 14.421875 23.53125 \r\nQ 14.890625 18.40625 16.453125 14.359375 \r\nQ 17.875 10.59375 20.484375 8.5625 \r\nQ 23.09375 6.546875 27.296875 6.546875 \r\nQ 31.34375 6.546875 33.953125 8.46875 \r\nQ 36.578125 10.40625 38.03125 14.203125 \r\nz\r\n\" id=\"Tahoma-48\"/>\r\n       <path d=\"M 20.953125 0 \r\nL 9.28125 0 \r\nL 9.28125 13.921875 \r\nL 20.953125 13.921875 \r\nz\r\n\" id=\"Tahoma-46\"/>\r\n       <path d=\"M 46.484375 0 \r\nL 11.03125 0 \r\nL 11.03125 7.421875 \r\nL 24.21875 7.421875 \r\nL 24.21875 56.15625 \r\nL 11.03125 56.15625 \r\nL 11.03125 62.796875 \r\nQ 18.5 62.796875 22.046875 64.921875 \r\nQ 25.59375 67.046875 26.03125 72.953125 \r\nL 33.59375 72.953125 \r\nL 33.59375 7.421875 \r\nL 46.484375 7.421875 \r\nz\r\n\" id=\"Tahoma-49\"/>\r\n      </defs>\r\n      <g style=\"fill:#262626;\" transform=\"translate(1012.552031 479.208933)scale(0.11 -0.11)\">\r\n       <use xlink:href=\"#Tahoma-48\"/>\r\n       <use x=\"54.589844\" xlink:href=\"#Tahoma-46\"/>\r\n       <use x=\"84.863281\" xlink:href=\"#Tahoma-49\"/>\r\n      </g>\r\n     </g>\r\n    </g>\r\n    <g id=\"ytick_12\">\r\n     <g id=\"line2d_2\">\r\n      <g>\r\n       <use style=\"fill:#262626;stroke:#262626;stroke-width:1.25;\" x=\"1003.052031\" xlink:href=\"#m3a975a2539\" y=\"399.25017\"/>\r\n      </g>\r\n     </g>\r\n     <g id=\"text_27\">\r\n      <!-- 0.2 -->\r\n      <defs>\r\n       <path d=\"M 50.203125 0 \r\nL 5.328125 0 \r\nL 5.328125 10.203125 \r\nQ 10.15625 14.796875 14.453125 18.984375 \r\nQ 18.75 23.1875 22.859375 27.734375 \r\nQ 31.15625 36.859375 34.171875 42.359375 \r\nQ 37.203125 47.859375 37.203125 53.71875 \r\nQ 37.203125 56.734375 36.25 59.03125 \r\nQ 35.296875 61.328125 33.640625 62.84375 \r\nQ 31.9375 64.3125 29.6875 65.03125 \r\nQ 27.4375 65.765625 24.75 65.765625 \r\nQ 22.171875 65.765625 19.5 65.109375 \r\nQ 16.84375 64.453125 14.40625 63.484375 \r\nQ 12.359375 62.640625 10.453125 61.46875 \r\nQ 8.546875 60.296875 7.375 59.46875 \r\nL 6.84375 59.46875 \r\nL 6.84375 69.828125 \r\nQ 9.859375 71.34375 15.25 72.78125 \r\nQ 20.65625 74.21875 25.484375 74.21875 \r\nQ 35.640625 74.21875 41.40625 68.8125 \r\nQ 47.171875 63.421875 47.171875 54.203125 \r\nQ 47.171875 49.953125 46.171875 46.328125 \r\nQ 45.171875 42.71875 43.40625 39.65625 \r\nQ 41.609375 36.46875 39.0625 33.34375 \r\nQ 36.53125 30.21875 33.6875 27.203125 \r\nQ 29.109375 22.21875 23.46875 16.84375 \r\nQ 17.828125 11.46875 14.453125 8.34375 \r\nL 50.203125 8.34375 \r\nz\r\n\" id=\"Tahoma-50\"/>\r\n      </defs>\r\n      <g style=\"fill:#262626;\" transform=\"translate(1012.552031 403.429311)scale(0.11 -0.11)\">\r\n       <use xlink:href=\"#Tahoma-48\"/>\r\n       <use x=\"54.589844\" xlink:href=\"#Tahoma-46\"/>\r\n       <use x=\"84.863281\" xlink:href=\"#Tahoma-50\"/>\r\n      </g>\r\n     </g>\r\n    </g>\r\n    <g id=\"ytick_13\">\r\n     <g id=\"line2d_3\">\r\n      <g>\r\n       <use style=\"fill:#262626;stroke:#262626;stroke-width:1.25;\" x=\"1003.052031\" xlink:href=\"#m3a975a2539\" y=\"323.470548\"/>\r\n      </g>\r\n     </g>\r\n     <g id=\"text_28\">\r\n      <!-- 0.3 -->\r\n      <defs>\r\n       <path d=\"M 24.953125 65.765625 \r\nQ 22.3125 65.765625 19.671875 65.125 \r\nQ 17.046875 64.5 14.5 63.484375 \r\nQ 12.15625 62.5 10.421875 61.421875 \r\nQ 8.6875 60.359375 7.328125 59.421875 \r\nL 6.734375 59.421875 \r\nL 6.734375 69.734375 \r\nQ 9.90625 71.4375 15.34375 72.828125 \r\nQ 20.796875 74.21875 25.734375 74.21875 \r\nQ 30.671875 74.21875 34.34375 73.21875 \r\nQ 38.03125 72.21875 41.015625 70.125 \r\nQ 44.234375 67.78125 45.875 64.453125 \r\nQ 47.515625 61.140625 47.515625 56.6875 \r\nQ 47.515625 50.6875 43.546875 46.140625 \r\nQ 39.59375 41.609375 34.078125 40.375 \r\nL 34.078125 39.703125 \r\nQ 36.375 39.265625 38.984375 38.1875 \r\nQ 41.609375 37.109375 43.84375 35.015625 \r\nQ 46.09375 32.90625 47.5 29.609375 \r\nQ 48.921875 26.3125 48.921875 21.578125 \r\nQ 48.921875 16.65625 47.234375 12.53125 \r\nQ 45.5625 8.40625 42.484375 5.21875 \r\nQ 39.3125 1.90625 34.8125 0.1875 \r\nQ 30.328125 -1.515625 24.609375 -1.515625 \r\nQ 19.140625 -1.515625 13.765625 -0.1875 \r\nQ 8.40625 1.125 4.734375 2.984375 \r\nL 4.734375 13.28125 \r\nL 5.421875 13.28125 \r\nQ 8.5 11.03125 13.671875 8.984375 \r\nQ 18.84375 6.9375 24.03125 6.9375 \r\nQ 27 6.9375 30 7.890625 \r\nQ 33.015625 8.84375 35.015625 10.984375 \r\nQ 36.96875 13.140625 37.984375 15.71875 \r\nQ 39.015625 18.3125 39.015625 22.265625 \r\nQ 39.015625 26.21875 37.859375 28.75 \r\nQ 36.71875 31.296875 34.671875 32.765625 \r\nQ 32.625 34.234375 29.8125 34.796875 \r\nQ 27 35.359375 23.734375 35.359375 \r\nL 19.578125 35.359375 \r\nL 19.578125 43.453125 \r\nL 22.796875 43.453125 \r\nQ 29.390625 43.453125 33.515625 46.578125 \r\nQ 37.640625 49.703125 37.640625 55.671875 \r\nQ 37.640625 58.40625 36.5625 60.375 \r\nQ 35.5 62.359375 33.84375 63.53125 \r\nQ 31.984375 64.796875 29.734375 65.28125 \r\nQ 27.484375 65.765625 24.953125 65.765625 \r\nz\r\n\" id=\"Tahoma-51\"/>\r\n      </defs>\r\n      <g style=\"fill:#262626;\" transform=\"translate(1012.552031 327.649689)scale(0.11 -0.11)\">\r\n       <use xlink:href=\"#Tahoma-48\"/>\r\n       <use x=\"54.589844\" xlink:href=\"#Tahoma-46\"/>\r\n       <use x=\"84.863281\" xlink:href=\"#Tahoma-51\"/>\r\n      </g>\r\n     </g>\r\n    </g>\r\n    <g id=\"ytick_14\">\r\n     <g id=\"line2d_4\">\r\n      <g>\r\n       <use style=\"fill:#262626;stroke:#262626;stroke-width:1.25;\" x=\"1003.052031\" xlink:href=\"#m3a975a2539\" y=\"247.690926\"/>\r\n      </g>\r\n     </g>\r\n     <g id=\"text_29\">\r\n      <!-- 0.4 -->\r\n      <defs>\r\n       <path d=\"M 52.09375 25 \r\nL 43.453125 25 \r\nL 43.453125 0 \r\nL 34.078125 0 \r\nL 34.078125 25 \r\nL 1.953125 25 \r\nL 1.953125 35.25 \r\nL 34.46875 72.703125 \r\nL 43.453125 72.703125 \r\nL 43.453125 32.8125 \r\nL 52.09375 32.8125 \r\nz\r\nM 34.078125 32.8125 \r\nL 34.078125 61.234375 \r\nL 9.578125 32.8125 \r\nz\r\n\" id=\"Tahoma-52\"/>\r\n      </defs>\r\n      <g style=\"fill:#262626;\" transform=\"translate(1012.552031 251.870067)scale(0.11 -0.11)\">\r\n       <use xlink:href=\"#Tahoma-48\"/>\r\n       <use x=\"54.589844\" xlink:href=\"#Tahoma-46\"/>\r\n       <use x=\"84.863281\" xlink:href=\"#Tahoma-52\"/>\r\n      </g>\r\n     </g>\r\n    </g>\r\n    <g id=\"ytick_15\">\r\n     <g id=\"line2d_5\">\r\n      <g>\r\n       <use style=\"fill:#262626;stroke:#262626;stroke-width:1.25;\" x=\"1003.052031\" xlink:href=\"#m3a975a2539\" y=\"171.911304\"/>\r\n      </g>\r\n     </g>\r\n     <g id=\"text_30\">\r\n      <!-- 0.5 -->\r\n      <defs>\r\n       <path d=\"M 49.359375 23.140625 \r\nQ 49.359375 17.875 47.671875 13.375 \r\nQ 46 8.890625 42.96875 5.609375 \r\nQ 39.890625 2.296875 35.328125 0.390625 \r\nQ 30.765625 -1.515625 25.09375 -1.515625 \r\nQ 19.875 -1.515625 14.8125 -0.359375 \r\nQ 9.765625 0.78125 6.0625 2.640625 \r\nL 6.0625 12.9375 \r\nL 6.734375 12.9375 \r\nQ 7.859375 12.109375 9.953125 11.0625 \r\nQ 12.0625 10.015625 14.59375 9.078125 \r\nQ 17.484375 8.0625 19.875 7.5 \r\nQ 22.265625 6.9375 25.25 6.9375 \r\nQ 28.171875 6.9375 30.953125 7.984375 \r\nQ 33.734375 9.03125 35.75 11.375 \r\nQ 37.546875 13.53125 38.5 16.40625 \r\nQ 39.453125 19.28125 39.453125 23.1875 \r\nQ 39.453125 27.046875 38.40625 29.53125 \r\nQ 37.359375 32.03125 35.359375 33.640625 \r\nQ 33.25 35.5 30.203125 36.25 \r\nQ 27.15625 37.015625 23.390625 37.015625 \r\nQ 19.4375 37.015625 15.421875 36.40625 \r\nQ 11.421875 35.796875 9.03125 35.25 \r\nL 9.03125 72.703125 \r\nL 48.921875 72.703125 \r\nL 48.921875 64.15625 \r\nL 18.453125 64.15625 \r\nL 18.453125 44.828125 \r\nQ 20.21875 45.015625 21.921875 45.109375 \r\nQ 23.640625 45.21875 25.046875 45.21875 \r\nQ 30.609375 45.21875 34.46875 44.28125 \r\nQ 38.328125 43.359375 41.890625 40.671875 \r\nQ 45.515625 37.9375 47.4375 33.828125 \r\nQ 49.359375 29.734375 49.359375 23.140625 \r\nz\r\n\" id=\"Tahoma-53\"/>\r\n      </defs>\r\n      <g style=\"fill:#262626;\" transform=\"translate(1012.552031 176.090445)scale(0.11 -0.11)\">\r\n       <use xlink:href=\"#Tahoma-48\"/>\r\n       <use x=\"54.589844\" xlink:href=\"#Tahoma-46\"/>\r\n       <use x=\"84.863281\" xlink:href=\"#Tahoma-53\"/>\r\n      </g>\r\n     </g>\r\n    </g>\r\n    <g id=\"ytick_16\">\r\n     <g id=\"line2d_6\">\r\n      <g>\r\n       <use style=\"fill:#262626;stroke:#262626;stroke-width:1.25;\" x=\"1003.052031\" xlink:href=\"#m3a975a2539\" y=\"96.131682\"/>\r\n      </g>\r\n     </g>\r\n     <g id=\"text_31\">\r\n      <!-- 0.6 -->\r\n      <defs>\r\n       <path d=\"M 51.3125 23.578125 \r\nQ 51.3125 17.96875 49.453125 13.234375 \r\nQ 47.609375 8.5 44.484375 5.328125 \r\nQ 41.21875 1.953125 37.15625 0.21875 \r\nQ 33.109375 -1.515625 28.21875 -1.515625 \r\nQ 23.296875 -1.515625 19.265625 0.140625 \r\nQ 15.234375 1.8125 12.15625 5.078125 \r\nQ 8.40625 9.03125 6.28125 15.640625 \r\nQ 4.15625 22.265625 4.15625 31.9375 \r\nQ 4.15625 41.40625 6.109375 49.046875 \r\nQ 8.0625 56.6875 12.109375 62.359375 \r\nQ 16.0625 67.875 22.3125 70.96875 \r\nQ 28.5625 74.078125 36.765625 74.078125 \r\nQ 39.203125 74.078125 41.296875 73.828125 \r\nQ 43.40625 73.578125 45.015625 73.046875 \r\nL 45.015625 63.71875 \r\nL 44.578125 63.71875 \r\nQ 43.265625 64.453125 40.765625 65.0625 \r\nQ 38.28125 65.671875 35.453125 65.671875 \r\nQ 26.375 65.671875 20.78125 59.546875 \r\nQ 15.1875 53.421875 14.15625 41.359375 \r\nQ 17.625 43.796875 21.28125 45.109375 \r\nQ 24.953125 46.4375 29.296875 46.4375 \r\nQ 33.546875 46.4375 36.734375 45.578125 \r\nQ 39.9375 44.734375 43.40625 42.140625 \r\nQ 47.40625 39.109375 49.359375 34.46875 \r\nQ 51.3125 29.828125 51.3125 23.578125 \r\nz\r\nM 41.40625 23.1875 \r\nQ 41.40625 27.6875 40.234375 30.703125 \r\nQ 39.0625 33.734375 36.421875 35.890625 \r\nQ 34.515625 37.453125 32.09375 37.9375 \r\nQ 29.6875 38.421875 27.15625 38.421875 \r\nQ 23.734375 38.421875 20.5 37.390625 \r\nQ 17.28125 36.375 14.15625 34.421875 \r\nQ 14.0625 33.34375 14.015625 32.34375 \r\nQ 13.96875 31.34375 13.96875 29.828125 \r\nQ 13.96875 22.265625 15.453125 17.625 \r\nQ 16.9375 12.984375 19.140625 10.59375 \r\nQ 21.234375 8.296875 23.453125 7.375 \r\nQ 25.6875 6.453125 28.265625 6.453125 \r\nQ 34.125 6.453125 37.765625 10.640625 \r\nQ 41.40625 14.84375 41.40625 23.1875 \r\nz\r\n\" id=\"Tahoma-54\"/>\r\n      </defs>\r\n      <g style=\"fill:#262626;\" transform=\"translate(1012.552031 100.310823)scale(0.11 -0.11)\">\r\n       <use xlink:href=\"#Tahoma-48\"/>\r\n       <use x=\"54.589844\" xlink:href=\"#Tahoma-46\"/>\r\n       <use x=\"84.863281\" xlink:href=\"#Tahoma-54\"/>\r\n      </g>\r\n     </g>\r\n    </g>\r\n    <g id=\"ytick_17\">\r\n     <g id=\"line2d_7\">\r\n      <g>\r\n       <use style=\"fill:#262626;stroke:#262626;stroke-width:1.25;\" x=\"1003.052031\" xlink:href=\"#m3a975a2539\" y=\"20.35206\"/>\r\n      </g>\r\n     </g>\r\n     <g id=\"text_32\">\r\n      <!-- 0.7 -->\r\n      <defs>\r\n       <path d=\"M 50.984375 61.8125 \r\nL 19.53125 0 \r\nL 9.125 0 \r\nL 42.4375 64.15625 \r\nL 4.828125 64.15625 \r\nL 4.828125 72.703125 \r\nL 50.984375 72.703125 \r\nz\r\n\" id=\"Tahoma-55\"/>\r\n      </defs>\r\n      <g style=\"fill:#262626;\" transform=\"translate(1012.552031 24.531201)scale(0.11 -0.11)\">\r\n       <use xlink:href=\"#Tahoma-48\"/>\r\n       <use x=\"54.589844\" xlink:href=\"#Tahoma-46\"/>\r\n       <use x=\"84.832031\" xlink:href=\"#Tahoma-55\"/>\r\n      </g>\r\n     </g>\r\n    </g>\r\n   </g>\r\n   <image height=\"544\" id=\"image41d6db173c\" transform=\"scale(1 -1)translate(0 -544)\" width=\"27\" x=\"976\" xlink:href=\"data:image/png;base64,\r\niVBORw0KGgoAAAANSUhEUgAAABsAAAIgCAYAAAB09hISAAAABHNCSVQICAgIfAhkiAAAAolJREFUeJztnYtNA1EQxO7Cown67xOKwBrpWXYDq8nMfriE5P36/vl9RnxWhZ7nec47LDZW9u60pQzhvI9WmdWz7cv4sb6M4uiLPdMq+2jTKPZMq0zrWU2N4A1IZwFCaURogiDkGcJ531098VnQiiHIM4Q8Q8gzhDxDaHkidDcidOsj5BlCEwShNN5XTBwQrzLvB4a0F3ErBqEVg+D1rKZGOMtqNTWCt6nrM4TSiOCdIEUfQT2uvMp2lEYEcRp7wkPQ8kRoXCHkGUKeIbQ8EfLsvmLipm4QEzSuELzjqjQilMb7ihV9hKKPcD6z74SqzyDUfbajCXJfsaKP0IpBKI0IKUOozxDEy1Mc/WGxcfS1Te31TKxMm0btiimNCOKzwBz9XUKKPoJ4XIn77FfbZ8NipfG+Yq0YhHX0tZ4Ni6UMoTQi5Nl9xczLc3heFX0E87gavouw7jOrMu3fZ17PamoEb0DO8H+3SyNDaUQojQjeNI4DMny6WVMjqD2zKtOOqzP83a7SyOCdIK0YBG9AzMpKI0DLE0G9PHfFzMuzpgbYKntqaoCUIYiVLcvl2X3FCghCniGcd/gprzxDyDOEtTKpZ0UfoegjlEYEsWdeZdqfJBN7plW2fhl39QoIQssTYf0mQn32f1KGcF7r1C8gCI0rhE45BLNn9RlAy/O+YuKA1NQELU+E84gfbmo9EyuTprEVgyCOvvixbWkESBlCBw9CyxOhgCCYlTWuAFKG0GxEaHkiFBCEPENIGUJpRMiz+4oVEIQ8Qzjv+zUrlmcIZmVNEADz8hQHRDuIxZ5plWk96+AhKI33FSsgCJ0FCGrPrMrePAOoz+4r1iBGqKkRGsQI9RmCdzZOi/0B/FIv/zldOoIAAAAASUVORK5CYII=\" y=\"-7\"/>\r\n   <g id=\"patch_4\">\r\n    <path d=\"M 975.872031 550.8 \r\nL 975.872031 548.676562 \r\nL 975.872031 9.323437 \r\nL 975.872031 7.2 \r\nL 1003.052031 7.2 \r\nL 1003.052031 9.323437 \r\nL 1003.052031 548.676562 \r\nL 1003.052031 550.8 \r\nz\r\n\" style=\"fill:none;\"/>\r\n   </g>\r\n  </g>\r\n </g>\r\n <defs>\r\n  <clipPath id=\"pb124dfd3db\">\r\n   <rect height=\"543.6\" width=\"892.8\" x=\"27.272031\" y=\"7.2\"/>\r\n  </clipPath>\r\n  <clipPath id=\"p0c2bbfbcc8\">\r\n   <rect height=\"543.6\" width=\"27.18\" x=\"975.872031\" y=\"7.2\"/>\r\n  </clipPath>\r\n </defs>\r\n</svg>\r\n",
      "image/png": "[encoded data removed]"
     },
     "metadata": {}
    }
   ],
   "source": [
    "visualize('โรงพยาบาลพานทอง')"
   ]
  },
  {
   "cell_type": "code",
   "execution_count": null,
   "metadata": {
    "collapsed": true
   },
   "outputs": [],
   "source": []
  },
  {
   "cell_type": "code",
   "execution_count": null,
   "metadata": {
    "collapsed": true
   },
   "outputs": [],
   "source": []
  }
 ],
 "metadata": {
  "kernelspec": {
   "display_name": "Python 3",
   "language": "python",
   "name": "python3"
  },
  "language_info": {
   "codemirror_mode": {
    "name": "ipython",
    "version": 3
   },
   "file_extension": ".py",
   "mimetype": "text/x-python",
   "name": "python",
   "nbconvert_exporter": "python",
   "pygments_lexer": "ipython3",
   "version": "3.7.7-final"
  }
 },
 "nbformat": 4,
 "nbformat_minor": 2
}