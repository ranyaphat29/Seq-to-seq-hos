{
 "cells": [
  {
   "cell_type": "code",
   "execution_count": 25,
   "metadata": {},
   "outputs": [],
   "source": [
    "from __future__ import print_function\n",
    "\n",
    "import sys\n",
    "import os\n",
    "import pandas as pd\n",
    "import numpy as np\n",
    "import tensorflow as tf\n",
    "from tensorflow.keras.layers import Input, Embedding, LSTM, TimeDistributed, Dense\n",
    "from tensorflow.keras.models import Model, load_model\n",
    "\n",
    "# To import 'katakana' from relative path\n",
    "sys.path.append(os.path.abspath(os.path.join('..')))\n",
    "import encoding\n",
    "\n",
    "INPUT_LENGTH = 90\n",
    "OUTPUT_LENGTH = 90"
   ]
  },
  {
   "cell_type": "code",
   "execution_count": 26,
   "metadata": {},
   "outputs": [
    {
     "output_type": "stream",
     "name": "stdout",
     "text": "1 Physical GPUs, 1 Logical GPUs\n"
    }
   ],
   "source": [
    "##### Limit GPU for training ###\n",
    "gpus = tf.config.experimental.list_physical_devices('GPU')\n",
    "if gpus:\n",
    "    try:\n",
    "        # Restrict TensorFlow to only use the fourth GPU\n",
    "        tf.config.experimental.set_visible_devices(gpus[0], 'GPU')\n",
    "\n",
    "        # Currently, memory growth needs to be the same across GPUs\n",
    "        for gpu in gpus:\n",
    "            tf.config.experimental.set_memory_growth(gpu, True)\n",
    "        logical_gpus = tf.config.experimental.list_logical_devices('GPU')\n",
    "        print(len(gpus), \"Physical GPUs,\", len(logical_gpus), \"Logical GPUs\")\n",
    "    except RuntimeError as e:\n",
    "        # Memory growth must be set before GPUs have been initialized\n",
    "        print(e)"
   ]
  },
  {
   "cell_type": "markdown",
   "metadata": {},
   "source": [
    "# Data pre-processing"
   ]
  },
  {
   "cell_type": "code",
   "execution_count": 27,
   "metadata": {},
   "outputs": [
    {
     "output_type": "stream",
     "name": "stdout",
     "text": "โรงพยาบาลป2างศิลาทอง \tโรงพยาบาลปางศิลาทอง\nโรงพยาบาลพรหมพิาม \tโรงพยาบาลพรหมพิราม\ntraining size27865\nvalidation size 3097\n"
    }
   ],
   "source": [
    "data = pd.read_csv('../datasets/hospital_augment_train3.csv', header=None)\n",
    "data = data.sample(frac=1, random_state=0)\n",
    "\n",
    "data_input = [s for s in data[0]]\n",
    "data_output = [\"\\t\"+s for s in data[1]]\n",
    "print(data_input[0], data_output[0])\n",
    "print(data_input[5], data_output[5])\n",
    "\n",
    "data_size = len(data)\n",
    "a = int(data_size*90/100)\n",
    "\n",
    "# We will use the first 0-60th %-tile (60%) of data for the training\n",
    "training_input  = data_input[:a]\n",
    "training_output = data_output[:a]\n",
    "\n",
    "# We will use the first 60-70th %-tile (10%) of data for the training\n",
    "validation_input = data_input[a:]\n",
    "validation_output = data_output[a:]\n",
    "\n",
    "print('training size', len(training_input))\n",
    "print('validation size', len(validation_input))"
   ]
  },
  {
   "cell_type": "code",
   "execution_count": 28,
   "metadata": {},
   "outputs": [
    {
     "output_type": "execute_result",
     "data": {
      "text/plain": "'\\tโรงพยาบาลปางศิลาทอง'"
     },
     "metadata": {},
     "execution_count": 28
    }
   ],
   "source": [
    "data_output[0]"
   ]
  },
  {
   "cell_type": "markdown",
   "metadata": {},
   "source": [
    "### Transform data into Numpy arrays\n",
    "\n",
    "We transform the sequences of characters into sequences of integer IDs. This will be done by using pre-written functions in `encoding` module. \n",
    "- First, `encoding.build_characters_encoding` will build encoding/decoding dictionary from the data. \n",
    "- Then, `encoding.transform` will transform the data into numpy array.\n",
    "\n",
    "Check [the previous notebook](./Writing Katakana using Sequence-to-Sequence in Keras) for the details about the transformation."
   ]
  },
  {
   "cell_type": "code",
   "execution_count": 29,
   "metadata": {},
   "outputs": [
    {
     "output_type": "stream",
     "name": "stdout",
     "text": "Input character dict size: 100\nOutput character dict size: 91\nencoded_training_input (27865, 90)\nencoded_training_output (27865, 90)\nencoded_validation_input (3097, 90)\nencoded_validation_output (3097, 90)\n"
    }
   ],
   "source": [
    "input_encoding, input_decoding, input_dict_size = encoding.build_characters_encoding(data_input)\n",
    "output_encoding, output_decoding, output_dict_size = encoding.build_characters_encoding(data_output)\n",
    "\n",
    "print('Input character dict size:', input_dict_size)\n",
    "print('Output character dict size:', output_dict_size)\n",
    "\n",
    "\n",
    "encoded_training_input = encoding.transform(\n",
    "    input_encoding, training_input, vector_size=INPUT_LENGTH)\n",
    "encoded_training_output = encoding.transform(\n",
    "    output_encoding, training_output, vector_size=OUTPUT_LENGTH)\n",
    "\n",
    "print('encoded_training_input', encoded_training_input.shape)\n",
    "print('encoded_training_output', encoded_training_output.shape)\n",
    "\n",
    "encoded_validation_input = encoding.transform(\n",
    "    input_encoding, validation_input, vector_size=INPUT_LENGTH)\n",
    "encoded_validation_output = encoding.transform(\n",
    "    output_encoding, validation_output, vector_size=OUTPUT_LENGTH)\n",
    "\n",
    "print('encoded_validation_input', encoded_validation_input.shape)\n",
    "print('encoded_validation_output', encoded_validation_output.shape)"
   ]
  },
  {
   "cell_type": "markdown",
   "metadata": {},
   "source": [
    "# Sequence-to-Sequence in Keras"
   ]
  },
  {
   "cell_type": "code",
   "execution_count": 30,
   "metadata": {
    "collapsed": true
   },
   "outputs": [],
   "source": [
    "encoder_input = Input(shape=(INPUT_LENGTH,))\n",
    "decoder_input = Input(shape=(OUTPUT_LENGTH,))"
   ]
  },
  {
   "cell_type": "code",
   "execution_count": 31,
   "metadata": {},
   "outputs": [
    {
     "output_type": "execute_result",
     "data": {
      "text/plain": "TensorShape([None, 90])"
     },
     "metadata": {},
     "execution_count": 31
    }
   ],
   "source": [
    "encoder_input.shape"
   ]
  },
  {
   "cell_type": "code",
   "execution_count": 2,
   "metadata": {},
   "outputs": [],
   "source": [
    "from tensorflow.keras.layers import Embedding,Bidirectional,LSTM,Attention,RepeatVector,Input,concatenate,TimeDistributed,Input"
   ]
  },
  {
   "cell_type": "markdown",
   "metadata": {},
   "source": [
    "### Encoder / Decoder"
   ]
  },
  {
   "cell_type": "code",
   "execution_count": 33,
   "metadata": {},
   "outputs": [],
   "source": [
    "from tensorflow.keras.layers import SimpleRNN,Bidirectional,Concatenate\n",
    "units =128\n",
    "encoder_emb = Embedding(input_dict_size, units, input_length=INPUT_LENGTH,mask_zero=True)\n",
    "\n",
    "encoder_lstm = Bidirectional(LSTM(units=units, return_sequences=True, return_state=True)) # Bidirectional\n",
    "\n",
    "encoder_out, fstate_h, fstate_c, bstate_h, bstate_c = encoder_lstm(encoder_emb(encoder_input))\n",
    "state_h = Concatenate()([fstate_h,bstate_h])\n",
    "state_c = Concatenate()([bstate_h,bstate_c])\n",
    "\n",
    "encoder_states = [state_h, state_c]"
   ]
  },
  {
   "cell_type": "code",
   "execution_count": 1,
   "metadata": {},
   "outputs": [
    {
     "output_type": "error",
     "ename": "NameError",
     "evalue": "name 'Input' is not defined",
     "traceback": [
      "\u001b[1;31m---------------------------------------------------------------------------\u001b[0m",
      "\u001b[1;31mNameError\u001b[0m                                 Traceback (most recent call last)",
      "\u001b[1;32m<ipython-input-1-00fe5b14428a>\u001b[0m in \u001b[0;36m<module>\u001b[1;34m\u001b[0m\n\u001b[0;32m      1\u001b[0m \u001b[1;31m#decoder_inputs = Input(shape=(None,))\u001b[0m\u001b[1;33m\u001b[0m\u001b[1;33m\u001b[0m\u001b[1;33m\u001b[0m\u001b[0m\n\u001b[1;32m----> 2\u001b[1;33m \u001b[0mdecoder_inputs\u001b[0m \u001b[1;33m=\u001b[0m \u001b[0mInput\u001b[0m\u001b[1;33m(\u001b[0m\u001b[0mshape\u001b[0m\u001b[1;33m=\u001b[0m\u001b[1;33m(\u001b[0m\u001b[1;32mNone\u001b[0m\u001b[1;33m,\u001b[0m\u001b[1;33m)\u001b[0m\u001b[1;33m)\u001b[0m\u001b[1;33m\u001b[0m\u001b[1;33m\u001b[0m\u001b[0m\n\u001b[0m\u001b[0;32m      3\u001b[0m \u001b[0mdec_emb_layer\u001b[0m \u001b[1;33m=\u001b[0m \u001b[0mEmbedding\u001b[0m\u001b[1;33m(\u001b[0m\u001b[0moutput_dict_size\u001b[0m\u001b[1;33m,\u001b[0m \u001b[0mlatent_dim\u001b[0m\u001b[1;33m,\u001b[0m \u001b[0mmask_zero\u001b[0m \u001b[1;33m=\u001b[0m \u001b[1;32mTrue\u001b[0m\u001b[1;33m)\u001b[0m\u001b[1;33m\u001b[0m\u001b[1;33m\u001b[0m\u001b[0m\n\u001b[0;32m      4\u001b[0m \u001b[0mdec_emb\u001b[0m \u001b[1;33m=\u001b[0m \u001b[0mdec_emb_layer\u001b[0m\u001b[1;33m(\u001b[0m\u001b[0mdecoder_inputs\u001b[0m\u001b[1;33m)\u001b[0m\u001b[1;33m\u001b[0m\u001b[1;33m\u001b[0m\u001b[0m\n",
      "\u001b[1;31mNameError\u001b[0m: name 'Input' is not defined"
     ]
    }
   ],
   "source": [
    "#decoder_inputs = Input(shape=(None,))\n",
    "decoder_emb = Embedding(input_dim=output_dict_size, output_dim=64)\n",
    "decoder_lstm = LSTM(units=units*2, return_sequences=True, return_state=True) # units=units*2\n",
    "decoder_lstm_out, _, _ = decoder_lstm(decoder_emb(decoder_input), initial_state=encoder_states)"
   ]
  },
  {
   "cell_type": "code",
   "execution_count": 35,
   "metadata": {},
   "outputs": [
    {
     "output_type": "execute_result",
     "data": {
      "text/plain": "(TensorShape([None, 90, 256]), TensorShape([None, 90, 256]))"
     },
     "metadata": {},
     "execution_count": 35
    }
   ],
   "source": [
    "encoder_out.shape,decoder_lstm_out.shape"
   ]
  },
  {
   "cell_type": "code",
   "execution_count": 36,
   "metadata": {},
   "outputs": [
    {
     "output_type": "stream",
     "name": "stdout",
     "text": "context Tensor(\"dot_3/Identity:0\", shape=(None, 90, 256), dtype=float32)\n"
    }
   ],
   "source": [
    "from tensorflow.keras.layers import Activation, dot, concatenate,Attention\n",
    "\n",
    "attention = dot([encoder_out, decoder_lstm_out], axes=[2, 2])\n",
    "attention = Activation('softmax', name='attention')(attention)\n",
    "context = dot([attention, encoder_out], axes=[2,1])\n",
    "print('context', context)"
   ]
  },
  {
   "cell_type": "code",
   "execution_count": 37,
   "metadata": {},
   "outputs": [
    {
     "output_type": "stream",
     "name": "stdout",
     "text": "decoder_combined_context Tensor(\"concatenate_5/Identity:0\", shape=(None, 90, 512), dtype=float32)\noutput Tensor(\"time_distributed_3/Identity:0\", shape=(None, 90, 91), dtype=float32)\n"
    }
   ],
   "source": [
    "decoder_combined_context = concatenate([context, decoder_lstm_out])\n",
    "print('decoder_combined_context', decoder_combined_context)\n",
    "\n",
    "# Has another weight + tanh layer as described in equation (5) of the paper\n",
    "output = TimeDistributed(Dense(64, activation=\"tanh\"))(decoder_combined_context)\n",
    "output = TimeDistributed(Dense(output_dict_size, activation=\"softmax\"))(output)\n",
    "print('output', output)"
   ]
  },
  {
   "cell_type": "markdown",
   "metadata": {},
   "source": [
    "### Attention Mechanism\n",
    "\n",
    "Reference: \n",
    "[Effective Approaches to Attention-based Neural Machine Translation](https://arxiv.org/pdf/1508.04025.pdf)'s \n",
    "**Global Attention** with **Dot**-based scoring function (Section 3, 3.1)\n"
   ]
  },
  {
   "cell_type": "code",
   "execution_count": 38,
   "metadata": {
    "collapsed": true
   },
   "outputs": [],
   "source": [
    "model = Model(inputs=[encoder_input, decoder_input], outputs=[output])\n",
    "model.compile(optimizer='adam', loss='categorical_crossentropy')"
   ]
  },
  {
   "cell_type": "code",
   "execution_count": 39,
   "metadata": {},
   "outputs": [
    {
     "output_type": "stream",
     "name": "stdout",
     "text": "Model: \"model_1\"\n__________________________________________________________________________________________________\nLayer (type)                    Output Shape         Param #     Connected to                     \n==================================================================================================\ninput_3 (InputLayer)            [(None, 90)]         0                                            \n__________________________________________________________________________________________________\nembedding_2 (Embedding)         (None, 90, 128)      12800       input_3[0][0]                    \n__________________________________________________________________________________________________\nbidirectional_1 (Bidirectional) [(None, 90, 256), (N 263168      embedding_2[0][0]                \n__________________________________________________________________________________________________\ninput_4 (InputLayer)            [(None, 90)]         0                                            \n__________________________________________________________________________________________________\nembedding_3 (Embedding)         (None, 90, 64)       5824        input_4[0][0]                    \n__________________________________________________________________________________________________\nconcatenate_3 (Concatenate)     (None, 256)          0           bidirectional_1[0][1]            \n                                                                 bidirectional_1[0][3]            \n__________________________________________________________________________________________________\nconcatenate_4 (Concatenate)     (None, 256)          0           bidirectional_1[0][3]            \n                                                                 bidirectional_1[0][4]            \n__________________________________________________________________________________________________\nlstm_3 (LSTM)                   [(None, 90, 256), (N 328704      embedding_3[0][0]                \n                                                                 concatenate_3[0][0]              \n                                                                 concatenate_4[0][0]              \n__________________________________________________________________________________________________\ndot_2 (Dot)                     (None, 90, 90)       0           bidirectional_1[0][0]            \n                                                                 lstm_3[0][0]                     \n__________________________________________________________________________________________________\nattention (Activation)          (None, 90, 90)       0           dot_2[0][0]                      \n__________________________________________________________________________________________________\ndot_3 (Dot)                     (None, 90, 256)      0           attention[0][0]                  \n                                                                 bidirectional_1[0][0]            \n__________________________________________________________________________________________________\nconcatenate_5 (Concatenate)     (None, 90, 512)      0           dot_3[0][0]                      \n                                                                 lstm_3[0][0]                     \n__________________________________________________________________________________________________\ntime_distributed_2 (TimeDistrib (None, 90, 64)       32832       concatenate_5[0][0]              \n__________________________________________________________________________________________________\ntime_distributed_3 (TimeDistrib (None, 90, 91)       5915        time_distributed_2[0][0]         \n==================================================================================================\nTotal params: 649,243\nTrainable params: 649,243\nNon-trainable params: 0\n__________________________________________________________________________________________________\n"
    }
   ],
   "source": [
    "model.summary()"
   ]
  },
  {
   "cell_type": "markdown",
   "metadata": {},
   "source": [
    "## Training the model"
   ]
  },
  {
   "cell_type": "code",
   "execution_count": 40,
   "metadata": {
    "collapsed": true
   },
   "outputs": [],
   "source": [
    "training_encoder_input = encoded_training_input\n",
    "training_decoder_input = np.zeros_like(encoded_training_output)\n",
    "training_decoder_input[:, 1:] = encoded_training_output[:,:-1]\n",
    "training_decoder_input[:, 0] = encoding.CHAR_CODE_START\n",
    "training_decoder_output = np.eye(output_dict_size)[encoded_training_output.astype('int')]\n",
    "\n",
    "validation_encoder_input = encoded_validation_input\n",
    "validation_decoder_input = np.zeros_like(encoded_validation_output)\n",
    "validation_decoder_input[:, 1:] = encoded_validation_output[:,:-1]\n",
    "validation_decoder_input[:, 0] = encoding.CHAR_CODE_START\n",
    "validation_decoder_output = np.eye(output_dict_size)[encoded_validation_output.astype('int')]"
   ]
  },
  {
   "cell_type": "code",
   "execution_count": 41,
   "metadata": {},
   "outputs": [
    {
     "output_type": "execute_result",
     "data": {
      "text/plain": "array([ 1, 68, 37,  4, 59, 36, 14, 60, 32, 60, 28, 15, 60, 59, 50, 83, 28,\n       60, 49, 33, 59,  0,  0,  0,  0,  0,  0,  0,  0,  0,  0,  0,  0,  0,\n        0,  0,  0,  0,  0,  0,  0,  0,  0,  0,  0,  0,  0,  0,  0,  0,  0,\n        0,  0,  0,  0,  0,  0,  0,  0,  0,  0,  0,  0,  0,  0,  0,  0,  0,\n        0,  0,  0,  0,  0,  0,  0,  0,  0,  0,  0,  0,  0,  0,  0,  0,  0,\n        0,  0,  0,  0,  0])"
     },
     "metadata": {},
     "execution_count": 41
    }
   ],
   "source": [
    "training_decoder_input[0,:]"
   ]
  },
  {
   "cell_type": "code",
   "execution_count": 42,
   "metadata": {},
   "outputs": [
    {
     "output_type": "execute_result",
     "data": {
      "text/plain": "array([68, 37,  4, 59, 36, 14, 60, 32, 60, 28, 15, 60, 59, 50, 83, 28, 60,\n       49, 33, 59,  0,  0,  0,  0,  0,  0,  0,  0,  0,  0,  0,  0,  0,  0,\n        0,  0,  0,  0,  0,  0,  0,  0,  0,  0,  0,  0,  0,  0,  0,  0,  0,\n        0,  0,  0,  0,  0,  0,  0,  0,  0,  0,  0,  0,  0,  0,  0,  0,  0,\n        0,  0,  0,  0,  0,  0,  0,  0,  0,  0,  0,  0,  0,  0,  0,  0,  0,\n        0,  0,  0,  0,  0])"
     },
     "metadata": {},
     "execution_count": 42
    }
   ],
   "source": [
    "encoded_training_output[0,:]"
   ]
  },
  {
   "cell_type": "code",
   "execution_count": 43,
   "metadata": {},
   "outputs": [
    {
     "output_type": "stream",
     "name": "stdout",
     "text": "Train on 27865 samples, validate on 3097 samples\nEpoch 1/20\n27865/27865 - 32s - loss: 0.7778 - val_loss: 0.4882\nEpoch 2/20\n27865/27865 - 17s - loss: 0.4444 - val_loss: 0.3835\nEpoch 3/20\n27865/27865 - 16s - loss: 0.3290 - val_loss: 0.2742\nEpoch 4/20\n27865/27865 - 16s - loss: 0.2318 - val_loss: 0.1893\nEpoch 5/20\n27865/27865 - 16s - loss: 0.1565 - val_loss: 0.1289\nEpoch 6/20\n27865/27865 - 17s - loss: 0.1025 - val_loss: 0.0826\nEpoch 7/20\n27865/27865 - 17s - loss: 0.0670 - val_loss: 0.0541\nEpoch 8/20\n27865/27865 - 17s - loss: 0.0442 - val_loss: 0.0422\nEpoch 9/20\n27865/27865 - 17s - loss: 0.0302 - val_loss: 0.0285\nEpoch 10/20\n27865/27865 - 17s - loss: 0.0212 - val_loss: 0.0222\nEpoch 11/20\n27865/27865 - 17s - loss: 0.0154 - val_loss: 0.0181\nEpoch 12/20\n27865/27865 - 17s - loss: 0.0116 - val_loss: 0.0135\nEpoch 13/20\n27865/27865 - 17s - loss: 0.0091 - val_loss: 0.0114\nEpoch 14/20\n27865/27865 - 17s - loss: 0.0072 - val_loss: 0.0107\nEpoch 15/20\n27865/27865 - 17s - loss: 0.0055 - val_loss: 0.0091\nEpoch 16/20\n27865/27865 - 17s - loss: 0.0047 - val_loss: 0.0090\nEpoch 17/20\n27865/27865 - 17s - loss: 0.0037 - val_loss: 0.0072\nEpoch 18/20\n27865/27865 - 17s - loss: 0.0043 - val_loss: 0.0162\nEpoch 19/20\n27865/27865 - 17s - loss: 0.0038 - val_loss: 0.0060\nEpoch 20/20\n27865/27865 - 17s - loss: 0.0019 - val_loss: 0.0055\n"
    }
   ],
   "source": [
    "'''\n",
    "if os.path.isfile('model.h5'):\n",
    "    model = load_model('model.h5')\n",
    "else:\n",
    "    model.fit(x=[training_encoder_input, training_decoder_input], y=[training_decoder_output],\n",
    "          validation_data=([validation_encoder_input, validation_decoder_input], [validation_decoder_output]),\n",
    "          verbose=2, batch_size=64, epochs=30)\n",
    "'''\n",
    "hist = model.fit(x=[training_encoder_input, training_decoder_input], y=[training_decoder_output],\n",
    "          validation_data=([validation_encoder_input, validation_decoder_input], [validation_decoder_output]),\n",
    "          verbose=2, batch_size=64, epochs=20)\n",
    "\n",
    "#model.save('model_v2.h5')"
   ]
  },
  {
   "cell_type": "code",
   "execution_count": 19,
   "metadata": {},
   "outputs": [],
   "source": [
    "import matplotlib.pyplot as plt"
   ]
  },
  {
   "cell_type": "code",
   "execution_count": 46,
   "metadata": {},
   "outputs": [
    {
     "output_type": "execute_result",
     "data": {
      "text/plain": "Text(0, 0.5, 'loss')"
     },
     "metadata": {},
     "execution_count": 46
    },
    {
     "output_type": "display_data",
     "data": {
      "text/plain": "<Figure size 432x288 with 1 Axes>",
      "image/svg+xml": "<?xml version=\"1.0\" encoding=\"utf-8\" standalone=\"no\"?>\r\n<!DOCTYPE svg PUBLIC \"-//W3C//DTD SVG 1.1//EN\"\r\n  \"http://www.w3.org/Graphics/SVG/1.1/DTD/svg11.dtd\">\r\n<!-- Created with matplotlib (https://matplotlib.org/) -->\r\n<svg height=\"262.19625pt\" version=\"1.1\" viewBox=\"0 0 385.78125 262.19625\" width=\"385.78125pt\" xmlns=\"http://www.w3.org/2000/svg\" xmlns:xlink=\"http://www.w3.org/1999/xlink\">\r\n <defs>\r\n  <style type=\"text/css\">\r\n*{stroke-linecap:butt;stroke-linejoin:round;}\r\n  </style>\r\n </defs>\r\n <g id=\"figure_1\">\r\n  <g id=\"patch_1\">\r\n   <path d=\"M 0 262.19625 \r\nL 385.78125 262.19625 \r\nL 385.78125 0 \r\nL 0 0 \r\nz\r\n\" style=\"fill:none;\"/>\r\n  </g>\r\n  <g id=\"axes_1\">\r\n   <g id=\"patch_2\">\r\n    <path d=\"M 43.78125 224.64 \r\nL 378.58125 224.64 \r\nL 378.58125 7.2 \r\nL 43.78125 7.2 \r\nz\r\n\" style=\"fill:#ffffff;\"/>\r\n   </g>\r\n   <g id=\"matplotlib.axis_1\">\r\n    <g id=\"xtick_1\">\r\n     <g id=\"line2d_1\">\r\n      <defs>\r\n       <path d=\"M 0 0 \r\nL 0 3.5 \r\n\" id=\"mcdd18aaad8\" style=\"stroke:#000000;stroke-width:0.8;\"/>\r\n      </defs>\r\n      <g>\r\n       <use style=\"stroke:#000000;stroke-width:0.8;\" x=\"58.999432\" xlink:href=\"#mcdd18aaad8\" y=\"224.64\"/>\r\n      </g>\r\n     </g>\r\n     <g id=\"text_1\">\r\n      <!-- 0.0 -->\r\n      <defs>\r\n       <path d=\"M 31.78125 66.40625 \r\nQ 24.171875 66.40625 20.328125 58.90625 \r\nQ 16.5 51.421875 16.5 36.375 \r\nQ 16.5 21.390625 20.328125 13.890625 \r\nQ 24.171875 6.390625 31.78125 6.390625 \r\nQ 39.453125 6.390625 43.28125 13.890625 \r\nQ 47.125 21.390625 47.125 36.375 \r\nQ 47.125 51.421875 43.28125 58.90625 \r\nQ 39.453125 66.40625 31.78125 66.40625 \r\nz\r\nM 31.78125 74.21875 \r\nQ 44.046875 74.21875 50.515625 64.515625 \r\nQ 56.984375 54.828125 56.984375 36.375 \r\nQ 56.984375 17.96875 50.515625 8.265625 \r\nQ 44.046875 -1.421875 31.78125 -1.421875 \r\nQ 19.53125 -1.421875 13.0625 8.265625 \r\nQ 6.59375 17.96875 6.59375 36.375 \r\nQ 6.59375 54.828125 13.0625 64.515625 \r\nQ 19.53125 74.21875 31.78125 74.21875 \r\nz\r\n\" id=\"DejaVuSans-48\"/>\r\n       <path d=\"M 10.6875 12.40625 \r\nL 21 12.40625 \r\nL 21 0 \r\nL 10.6875 0 \r\nz\r\n\" id=\"DejaVuSans-46\"/>\r\n      </defs>\r\n      <g transform=\"translate(51.047869 239.238437)scale(0.1 -0.1)\">\r\n       <use xlink:href=\"#DejaVuSans-48\"/>\r\n       <use x=\"63.623047\" xlink:href=\"#DejaVuSans-46\"/>\r\n       <use x=\"95.410156\" xlink:href=\"#DejaVuSans-48\"/>\r\n      </g>\r\n     </g>\r\n    </g>\r\n    <g id=\"xtick_2\">\r\n     <g id=\"line2d_2\">\r\n      <g>\r\n       <use style=\"stroke:#000000;stroke-width:0.8;\" x=\"99.047279\" xlink:href=\"#mcdd18aaad8\" y=\"224.64\"/>\r\n      </g>\r\n     </g>\r\n     <g id=\"text_2\">\r\n      <!-- 2.5 -->\r\n      <defs>\r\n       <path d=\"M 19.1875 8.296875 \r\nL 53.609375 8.296875 \r\nL 53.609375 0 \r\nL 7.328125 0 \r\nL 7.328125 8.296875 \r\nQ 12.9375 14.109375 22.625 23.890625 \r\nQ 32.328125 33.6875 34.8125 36.53125 \r\nQ 39.546875 41.84375 41.421875 45.53125 \r\nQ 43.3125 49.21875 43.3125 52.78125 \r\nQ 43.3125 58.59375 39.234375 62.25 \r\nQ 35.15625 65.921875 28.609375 65.921875 \r\nQ 23.96875 65.921875 18.8125 64.3125 \r\nQ 13.671875 62.703125 7.8125 59.421875 \r\nL 7.8125 69.390625 \r\nQ 13.765625 71.78125 18.9375 73 \r\nQ 24.125 74.21875 28.421875 74.21875 \r\nQ 39.75 74.21875 46.484375 68.546875 \r\nQ 53.21875 62.890625 53.21875 53.421875 \r\nQ 53.21875 48.921875 51.53125 44.890625 \r\nQ 49.859375 40.875 45.40625 35.40625 \r\nQ 44.1875 33.984375 37.640625 27.21875 \r\nQ 31.109375 20.453125 19.1875 8.296875 \r\nz\r\n\" id=\"DejaVuSans-50\"/>\r\n       <path d=\"M 10.796875 72.90625 \r\nL 49.515625 72.90625 \r\nL 49.515625 64.59375 \r\nL 19.828125 64.59375 \r\nL 19.828125 46.734375 \r\nQ 21.96875 47.46875 24.109375 47.828125 \r\nQ 26.265625 48.1875 28.421875 48.1875 \r\nQ 40.625 48.1875 47.75 41.5 \r\nQ 54.890625 34.8125 54.890625 23.390625 \r\nQ 54.890625 11.625 47.5625 5.09375 \r\nQ 40.234375 -1.421875 26.90625 -1.421875 \r\nQ 22.3125 -1.421875 17.546875 -0.640625 \r\nQ 12.796875 0.140625 7.71875 1.703125 \r\nL 7.71875 11.625 \r\nQ 12.109375 9.234375 16.796875 8.0625 \r\nQ 21.484375 6.890625 26.703125 6.890625 \r\nQ 35.15625 6.890625 40.078125 11.328125 \r\nQ 45.015625 15.765625 45.015625 23.390625 \r\nQ 45.015625 31 40.078125 35.4375 \r\nQ 35.15625 39.890625 26.703125 39.890625 \r\nQ 22.75 39.890625 18.8125 39.015625 \r\nQ 14.890625 38.140625 10.796875 36.28125 \r\nz\r\n\" id=\"DejaVuSans-53\"/>\r\n      </defs>\r\n      <g transform=\"translate(91.095716 239.238437)scale(0.1 -0.1)\">\r\n       <use xlink:href=\"#DejaVuSans-50\"/>\r\n       <use x=\"63.623047\" xlink:href=\"#DejaVuSans-46\"/>\r\n       <use x=\"95.410156\" xlink:href=\"#DejaVuSans-53\"/>\r\n      </g>\r\n     </g>\r\n    </g>\r\n    <g id=\"xtick_3\">\r\n     <g id=\"line2d_3\">\r\n      <g>\r\n       <use style=\"stroke:#000000;stroke-width:0.8;\" x=\"139.095126\" xlink:href=\"#mcdd18aaad8\" y=\"224.64\"/>\r\n      </g>\r\n     </g>\r\n     <g id=\"text_3\">\r\n      <!-- 5.0 -->\r\n      <g transform=\"translate(131.143563 239.238437)scale(0.1 -0.1)\">\r\n       <use xlink:href=\"#DejaVuSans-53\"/>\r\n       <use x=\"63.623047\" xlink:href=\"#DejaVuSans-46\"/>\r\n       <use x=\"95.410156\" xlink:href=\"#DejaVuSans-48\"/>\r\n      </g>\r\n     </g>\r\n    </g>\r\n    <g id=\"xtick_4\">\r\n     <g id=\"line2d_4\">\r\n      <g>\r\n       <use style=\"stroke:#000000;stroke-width:0.8;\" x=\"179.142972\" xlink:href=\"#mcdd18aaad8\" y=\"224.64\"/>\r\n      </g>\r\n     </g>\r\n     <g id=\"text_4\">\r\n      <!-- 7.5 -->\r\n      <defs>\r\n       <path d=\"M 8.203125 72.90625 \r\nL 55.078125 72.90625 \r\nL 55.078125 68.703125 \r\nL 28.609375 0 \r\nL 18.3125 0 \r\nL 43.21875 64.59375 \r\nL 8.203125 64.59375 \r\nz\r\n\" id=\"DejaVuSans-55\"/>\r\n      </defs>\r\n      <g transform=\"translate(171.19141 239.238437)scale(0.1 -0.1)\">\r\n       <use xlink:href=\"#DejaVuSans-55\"/>\r\n       <use x=\"63.623047\" xlink:href=\"#DejaVuSans-46\"/>\r\n       <use x=\"95.410156\" xlink:href=\"#DejaVuSans-53\"/>\r\n      </g>\r\n     </g>\r\n    </g>\r\n    <g id=\"xtick_5\">\r\n     <g id=\"line2d_5\">\r\n      <g>\r\n       <use style=\"stroke:#000000;stroke-width:0.8;\" x=\"219.190819\" xlink:href=\"#mcdd18aaad8\" y=\"224.64\"/>\r\n      </g>\r\n     </g>\r\n     <g id=\"text_5\">\r\n      <!-- 10.0 -->\r\n      <defs>\r\n       <path d=\"M 12.40625 8.296875 \r\nL 28.515625 8.296875 \r\nL 28.515625 63.921875 \r\nL 10.984375 60.40625 \r\nL 10.984375 69.390625 \r\nL 28.421875 72.90625 \r\nL 38.28125 72.90625 \r\nL 38.28125 8.296875 \r\nL 54.390625 8.296875 \r\nL 54.390625 0 \r\nL 12.40625 0 \r\nz\r\n\" id=\"DejaVuSans-49\"/>\r\n      </defs>\r\n      <g transform=\"translate(208.058007 239.238437)scale(0.1 -0.1)\">\r\n       <use xlink:href=\"#DejaVuSans-49\"/>\r\n       <use x=\"63.623047\" xlink:href=\"#DejaVuSans-48\"/>\r\n       <use x=\"127.246094\" xlink:href=\"#DejaVuSans-46\"/>\r\n       <use x=\"159.033203\" xlink:href=\"#DejaVuSans-48\"/>\r\n      </g>\r\n     </g>\r\n    </g>\r\n    <g id=\"xtick_6\">\r\n     <g id=\"line2d_6\">\r\n      <g>\r\n       <use style=\"stroke:#000000;stroke-width:0.8;\" x=\"259.238666\" xlink:href=\"#mcdd18aaad8\" y=\"224.64\"/>\r\n      </g>\r\n     </g>\r\n     <g id=\"text_6\">\r\n      <!-- 12.5 -->\r\n      <g transform=\"translate(248.105854 239.238437)scale(0.1 -0.1)\">\r\n       <use xlink:href=\"#DejaVuSans-49\"/>\r\n       <use x=\"63.623047\" xlink:href=\"#DejaVuSans-50\"/>\r\n       <use x=\"127.246094\" xlink:href=\"#DejaVuSans-46\"/>\r\n       <use x=\"159.033203\" xlink:href=\"#DejaVuSans-53\"/>\r\n      </g>\r\n     </g>\r\n    </g>\r\n    <g id=\"xtick_7\">\r\n     <g id=\"line2d_7\">\r\n      <g>\r\n       <use style=\"stroke:#000000;stroke-width:0.8;\" x=\"299.286513\" xlink:href=\"#mcdd18aaad8\" y=\"224.64\"/>\r\n      </g>\r\n     </g>\r\n     <g id=\"text_7\">\r\n      <!-- 15.0 -->\r\n      <g transform=\"translate(288.153701 239.238437)scale(0.1 -0.1)\">\r\n       <use xlink:href=\"#DejaVuSans-49\"/>\r\n       <use x=\"63.623047\" xlink:href=\"#DejaVuSans-53\"/>\r\n       <use x=\"127.246094\" xlink:href=\"#DejaVuSans-46\"/>\r\n       <use x=\"159.033203\" xlink:href=\"#DejaVuSans-48\"/>\r\n      </g>\r\n     </g>\r\n    </g>\r\n    <g id=\"xtick_8\">\r\n     <g id=\"line2d_8\">\r\n      <g>\r\n       <use style=\"stroke:#000000;stroke-width:0.8;\" x=\"339.33436\" xlink:href=\"#mcdd18aaad8\" y=\"224.64\"/>\r\n      </g>\r\n     </g>\r\n     <g id=\"text_8\">\r\n      <!-- 17.5 -->\r\n      <g transform=\"translate(328.201548 239.238437)scale(0.1 -0.1)\">\r\n       <use xlink:href=\"#DejaVuSans-49\"/>\r\n       <use x=\"63.623047\" xlink:href=\"#DejaVuSans-55\"/>\r\n       <use x=\"127.246094\" xlink:href=\"#DejaVuSans-46\"/>\r\n       <use x=\"159.033203\" xlink:href=\"#DejaVuSans-53\"/>\r\n      </g>\r\n     </g>\r\n    </g>\r\n    <g id=\"text_9\">\r\n     <!-- epochs -->\r\n     <defs>\r\n      <path d=\"M 56.203125 29.59375 \r\nL 56.203125 25.203125 \r\nL 14.890625 25.203125 \r\nQ 15.484375 15.921875 20.484375 11.0625 \r\nQ 25.484375 6.203125 34.421875 6.203125 \r\nQ 39.59375 6.203125 44.453125 7.46875 \r\nQ 49.3125 8.734375 54.109375 11.28125 \r\nL 54.109375 2.78125 \r\nQ 49.265625 0.734375 44.1875 -0.34375 \r\nQ 39.109375 -1.421875 33.890625 -1.421875 \r\nQ 20.796875 -1.421875 13.15625 6.1875 \r\nQ 5.515625 13.8125 5.515625 26.8125 \r\nQ 5.515625 40.234375 12.765625 48.109375 \r\nQ 20.015625 56 32.328125 56 \r\nQ 43.359375 56 49.78125 48.890625 \r\nQ 56.203125 41.796875 56.203125 29.59375 \r\nz\r\nM 47.21875 32.234375 \r\nQ 47.125 39.59375 43.09375 43.984375 \r\nQ 39.0625 48.390625 32.421875 48.390625 \r\nQ 24.90625 48.390625 20.390625 44.140625 \r\nQ 15.875 39.890625 15.1875 32.171875 \r\nz\r\n\" id=\"DejaVuSans-101\"/>\r\n      <path d=\"M 18.109375 8.203125 \r\nL 18.109375 -20.796875 \r\nL 9.078125 -20.796875 \r\nL 9.078125 54.6875 \r\nL 18.109375 54.6875 \r\nL 18.109375 46.390625 \r\nQ 20.953125 51.265625 25.265625 53.625 \r\nQ 29.59375 56 35.59375 56 \r\nQ 45.5625 56 51.78125 48.09375 \r\nQ 58.015625 40.1875 58.015625 27.296875 \r\nQ 58.015625 14.40625 51.78125 6.484375 \r\nQ 45.5625 -1.421875 35.59375 -1.421875 \r\nQ 29.59375 -1.421875 25.265625 0.953125 \r\nQ 20.953125 3.328125 18.109375 8.203125 \r\nz\r\nM 48.6875 27.296875 \r\nQ 48.6875 37.203125 44.609375 42.84375 \r\nQ 40.53125 48.484375 33.40625 48.484375 \r\nQ 26.265625 48.484375 22.1875 42.84375 \r\nQ 18.109375 37.203125 18.109375 27.296875 \r\nQ 18.109375 17.390625 22.1875 11.75 \r\nQ 26.265625 6.109375 33.40625 6.109375 \r\nQ 40.53125 6.109375 44.609375 11.75 \r\nQ 48.6875 17.390625 48.6875 27.296875 \r\nz\r\n\" id=\"DejaVuSans-112\"/>\r\n      <path d=\"M 30.609375 48.390625 \r\nQ 23.390625 48.390625 19.1875 42.75 \r\nQ 14.984375 37.109375 14.984375 27.296875 \r\nQ 14.984375 17.484375 19.15625 11.84375 \r\nQ 23.34375 6.203125 30.609375 6.203125 \r\nQ 37.796875 6.203125 41.984375 11.859375 \r\nQ 46.1875 17.53125 46.1875 27.296875 \r\nQ 46.1875 37.015625 41.984375 42.703125 \r\nQ 37.796875 48.390625 30.609375 48.390625 \r\nz\r\nM 30.609375 56 \r\nQ 42.328125 56 49.015625 48.375 \r\nQ 55.71875 40.765625 55.71875 27.296875 \r\nQ 55.71875 13.875 49.015625 6.21875 \r\nQ 42.328125 -1.421875 30.609375 -1.421875 \r\nQ 18.84375 -1.421875 12.171875 6.21875 \r\nQ 5.515625 13.875 5.515625 27.296875 \r\nQ 5.515625 40.765625 12.171875 48.375 \r\nQ 18.84375 56 30.609375 56 \r\nz\r\n\" id=\"DejaVuSans-111\"/>\r\n      <path d=\"M 48.78125 52.59375 \r\nL 48.78125 44.1875 \r\nQ 44.96875 46.296875 41.140625 47.34375 \r\nQ 37.3125 48.390625 33.40625 48.390625 \r\nQ 24.65625 48.390625 19.8125 42.84375 \r\nQ 14.984375 37.3125 14.984375 27.296875 \r\nQ 14.984375 17.28125 19.8125 11.734375 \r\nQ 24.65625 6.203125 33.40625 6.203125 \r\nQ 37.3125 6.203125 41.140625 7.25 \r\nQ 44.96875 8.296875 48.78125 10.40625 \r\nL 48.78125 2.09375 \r\nQ 45.015625 0.34375 40.984375 -0.53125 \r\nQ 36.96875 -1.421875 32.421875 -1.421875 \r\nQ 20.0625 -1.421875 12.78125 6.34375 \r\nQ 5.515625 14.109375 5.515625 27.296875 \r\nQ 5.515625 40.671875 12.859375 48.328125 \r\nQ 20.21875 56 33.015625 56 \r\nQ 37.15625 56 41.109375 55.140625 \r\nQ 45.0625 54.296875 48.78125 52.59375 \r\nz\r\n\" id=\"DejaVuSans-99\"/>\r\n      <path d=\"M 54.890625 33.015625 \r\nL 54.890625 0 \r\nL 45.90625 0 \r\nL 45.90625 32.71875 \r\nQ 45.90625 40.484375 42.875 44.328125 \r\nQ 39.84375 48.1875 33.796875 48.1875 \r\nQ 26.515625 48.1875 22.3125 43.546875 \r\nQ 18.109375 38.921875 18.109375 30.90625 \r\nL 18.109375 0 \r\nL 9.078125 0 \r\nL 9.078125 75.984375 \r\nL 18.109375 75.984375 \r\nL 18.109375 46.1875 \r\nQ 21.34375 51.125 25.703125 53.5625 \r\nQ 30.078125 56 35.796875 56 \r\nQ 45.21875 56 50.046875 50.171875 \r\nQ 54.890625 44.34375 54.890625 33.015625 \r\nz\r\n\" id=\"DejaVuSans-104\"/>\r\n      <path d=\"M 44.28125 53.078125 \r\nL 44.28125 44.578125 \r\nQ 40.484375 46.53125 36.375 47.5 \r\nQ 32.28125 48.484375 27.875 48.484375 \r\nQ 21.1875 48.484375 17.84375 46.4375 \r\nQ 14.5 44.390625 14.5 40.28125 \r\nQ 14.5 37.15625 16.890625 35.375 \r\nQ 19.28125 33.59375 26.515625 31.984375 \r\nL 29.59375 31.296875 \r\nQ 39.15625 29.25 43.1875 25.515625 \r\nQ 47.21875 21.78125 47.21875 15.09375 \r\nQ 47.21875 7.46875 41.1875 3.015625 \r\nQ 35.15625 -1.421875 24.609375 -1.421875 \r\nQ 20.21875 -1.421875 15.453125 -0.5625 \r\nQ 10.6875 0.296875 5.421875 2 \r\nL 5.421875 11.28125 \r\nQ 10.40625 8.6875 15.234375 7.390625 \r\nQ 20.0625 6.109375 24.8125 6.109375 \r\nQ 31.15625 6.109375 34.5625 8.28125 \r\nQ 37.984375 10.453125 37.984375 14.40625 \r\nQ 37.984375 18.0625 35.515625 20.015625 \r\nQ 33.0625 21.96875 24.703125 23.78125 \r\nL 21.578125 24.515625 \r\nQ 13.234375 26.265625 9.515625 29.90625 \r\nQ 5.8125 33.546875 5.8125 39.890625 \r\nQ 5.8125 47.609375 11.28125 51.796875 \r\nQ 16.75 56 26.8125 56 \r\nQ 31.78125 56 36.171875 55.265625 \r\nQ 40.578125 54.546875 44.28125 53.078125 \r\nz\r\n\" id=\"DejaVuSans-115\"/>\r\n     </defs>\r\n     <g transform=\"translate(193.348438 252.916562)scale(0.1 -0.1)\">\r\n      <use xlink:href=\"#DejaVuSans-101\"/>\r\n      <use x=\"61.523438\" xlink:href=\"#DejaVuSans-112\"/>\r\n      <use x=\"125\" xlink:href=\"#DejaVuSans-111\"/>\r\n      <use x=\"186.181641\" xlink:href=\"#DejaVuSans-99\"/>\r\n      <use x=\"241.162109\" xlink:href=\"#DejaVuSans-104\"/>\r\n      <use x=\"304.541016\" xlink:href=\"#DejaVuSans-115\"/>\r\n     </g>\r\n    </g>\r\n   </g>\r\n   <g id=\"matplotlib.axis_2\">\r\n    <g id=\"ytick_1\">\r\n     <g id=\"line2d_9\">\r\n      <defs>\r\n       <path d=\"M 0 0 \r\nL -3.5 0 \r\n\" id=\"meef5014d34\" style=\"stroke:#000000;stroke-width:0.8;\"/>\r\n      </defs>\r\n      <g>\r\n       <use style=\"stroke:#000000;stroke-width:0.8;\" x=\"43.78125\" xlink:href=\"#meef5014d34\" y=\"215.228425\"/>\r\n      </g>\r\n     </g>\r\n     <g id=\"text_10\">\r\n      <!-- 0.0 -->\r\n      <g transform=\"translate(20.878125 219.027643)scale(0.1 -0.1)\">\r\n       <use xlink:href=\"#DejaVuSans-48\"/>\r\n       <use x=\"63.623047\" xlink:href=\"#DejaVuSans-46\"/>\r\n       <use x=\"95.410156\" xlink:href=\"#DejaVuSans-48\"/>\r\n      </g>\r\n     </g>\r\n    </g>\r\n    <g id=\"ytick_2\">\r\n     <g id=\"line2d_10\">\r\n      <g>\r\n       <use style=\"stroke:#000000;stroke-width:0.8;\" x=\"43.78125\" xlink:href=\"#meef5014d34\" y=\"189.751805\"/>\r\n      </g>\r\n     </g>\r\n     <g id=\"text_11\">\r\n      <!-- 0.1 -->\r\n      <g transform=\"translate(20.878125 193.551024)scale(0.1 -0.1)\">\r\n       <use xlink:href=\"#DejaVuSans-48\"/>\r\n       <use x=\"63.623047\" xlink:href=\"#DejaVuSans-46\"/>\r\n       <use x=\"95.410156\" xlink:href=\"#DejaVuSans-49\"/>\r\n      </g>\r\n     </g>\r\n    </g>\r\n    <g id=\"ytick_3\">\r\n     <g id=\"line2d_11\">\r\n      <g>\r\n       <use style=\"stroke:#000000;stroke-width:0.8;\" x=\"43.78125\" xlink:href=\"#meef5014d34\" y=\"164.275186\"/>\r\n      </g>\r\n     </g>\r\n     <g id=\"text_12\">\r\n      <!-- 0.2 -->\r\n      <g transform=\"translate(20.878125 168.074405)scale(0.1 -0.1)\">\r\n       <use xlink:href=\"#DejaVuSans-48\"/>\r\n       <use x=\"63.623047\" xlink:href=\"#DejaVuSans-46\"/>\r\n       <use x=\"95.410156\" xlink:href=\"#DejaVuSans-50\"/>\r\n      </g>\r\n     </g>\r\n    </g>\r\n    <g id=\"ytick_4\">\r\n     <g id=\"line2d_12\">\r\n      <g>\r\n       <use style=\"stroke:#000000;stroke-width:0.8;\" x=\"43.78125\" xlink:href=\"#meef5014d34\" y=\"138.798566\"/>\r\n      </g>\r\n     </g>\r\n     <g id=\"text_13\">\r\n      <!-- 0.3 -->\r\n      <defs>\r\n       <path d=\"M 40.578125 39.3125 \r\nQ 47.65625 37.796875 51.625 33 \r\nQ 55.609375 28.21875 55.609375 21.1875 \r\nQ 55.609375 10.40625 48.1875 4.484375 \r\nQ 40.765625 -1.421875 27.09375 -1.421875 \r\nQ 22.515625 -1.421875 17.65625 -0.515625 \r\nQ 12.796875 0.390625 7.625 2.203125 \r\nL 7.625 11.71875 \r\nQ 11.71875 9.328125 16.59375 8.109375 \r\nQ 21.484375 6.890625 26.8125 6.890625 \r\nQ 36.078125 6.890625 40.9375 10.546875 \r\nQ 45.796875 14.203125 45.796875 21.1875 \r\nQ 45.796875 27.640625 41.28125 31.265625 \r\nQ 36.765625 34.90625 28.71875 34.90625 \r\nL 20.21875 34.90625 \r\nL 20.21875 43.015625 \r\nL 29.109375 43.015625 \r\nQ 36.375 43.015625 40.234375 45.921875 \r\nQ 44.09375 48.828125 44.09375 54.296875 \r\nQ 44.09375 59.90625 40.109375 62.90625 \r\nQ 36.140625 65.921875 28.71875 65.921875 \r\nQ 24.65625 65.921875 20.015625 65.03125 \r\nQ 15.375 64.15625 9.8125 62.3125 \r\nL 9.8125 71.09375 \r\nQ 15.4375 72.65625 20.34375 73.4375 \r\nQ 25.25 74.21875 29.59375 74.21875 \r\nQ 40.828125 74.21875 47.359375 69.109375 \r\nQ 53.90625 64.015625 53.90625 55.328125 \r\nQ 53.90625 49.265625 50.4375 45.09375 \r\nQ 46.96875 40.921875 40.578125 39.3125 \r\nz\r\n\" id=\"DejaVuSans-51\"/>\r\n      </defs>\r\n      <g transform=\"translate(20.878125 142.597785)scale(0.1 -0.1)\">\r\n       <use xlink:href=\"#DejaVuSans-48\"/>\r\n       <use x=\"63.623047\" xlink:href=\"#DejaVuSans-46\"/>\r\n       <use x=\"95.410156\" xlink:href=\"#DejaVuSans-51\"/>\r\n      </g>\r\n     </g>\r\n    </g>\r\n    <g id=\"ytick_5\">\r\n     <g id=\"line2d_13\">\r\n      <g>\r\n       <use style=\"stroke:#000000;stroke-width:0.8;\" x=\"43.78125\" xlink:href=\"#meef5014d34\" y=\"113.321947\"/>\r\n      </g>\r\n     </g>\r\n     <g id=\"text_14\">\r\n      <!-- 0.4 -->\r\n      <defs>\r\n       <path d=\"M 37.796875 64.3125 \r\nL 12.890625 25.390625 \r\nL 37.796875 25.390625 \r\nz\r\nM 35.203125 72.90625 \r\nL 47.609375 72.90625 \r\nL 47.609375 25.390625 \r\nL 58.015625 25.390625 \r\nL 58.015625 17.1875 \r\nL 47.609375 17.1875 \r\nL 47.609375 0 \r\nL 37.796875 0 \r\nL 37.796875 17.1875 \r\nL 4.890625 17.1875 \r\nL 4.890625 26.703125 \r\nz\r\n\" id=\"DejaVuSans-52\"/>\r\n      </defs>\r\n      <g transform=\"translate(20.878125 117.121166)scale(0.1 -0.1)\">\r\n       <use xlink:href=\"#DejaVuSans-48\"/>\r\n       <use x=\"63.623047\" xlink:href=\"#DejaVuSans-46\"/>\r\n       <use x=\"95.410156\" xlink:href=\"#DejaVuSans-52\"/>\r\n      </g>\r\n     </g>\r\n    </g>\r\n    <g id=\"ytick_6\">\r\n     <g id=\"line2d_14\">\r\n      <g>\r\n       <use style=\"stroke:#000000;stroke-width:0.8;\" x=\"43.78125\" xlink:href=\"#meef5014d34\" y=\"87.845328\"/>\r\n      </g>\r\n     </g>\r\n     <g id=\"text_15\">\r\n      <!-- 0.5 -->\r\n      <g transform=\"translate(20.878125 91.644546)scale(0.1 -0.1)\">\r\n       <use xlink:href=\"#DejaVuSans-48\"/>\r\n       <use x=\"63.623047\" xlink:href=\"#DejaVuSans-46\"/>\r\n       <use x=\"95.410156\" xlink:href=\"#DejaVuSans-53\"/>\r\n      </g>\r\n     </g>\r\n    </g>\r\n    <g id=\"ytick_7\">\r\n     <g id=\"line2d_15\">\r\n      <g>\r\n       <use style=\"stroke:#000000;stroke-width:0.8;\" x=\"43.78125\" xlink:href=\"#meef5014d34\" y=\"62.368708\"/>\r\n      </g>\r\n     </g>\r\n     <g id=\"text_16\">\r\n      <!-- 0.6 -->\r\n      <defs>\r\n       <path d=\"M 33.015625 40.375 \r\nQ 26.375 40.375 22.484375 35.828125 \r\nQ 18.609375 31.296875 18.609375 23.390625 \r\nQ 18.609375 15.53125 22.484375 10.953125 \r\nQ 26.375 6.390625 33.015625 6.390625 \r\nQ 39.65625 6.390625 43.53125 10.953125 \r\nQ 47.40625 15.53125 47.40625 23.390625 \r\nQ 47.40625 31.296875 43.53125 35.828125 \r\nQ 39.65625 40.375 33.015625 40.375 \r\nz\r\nM 52.59375 71.296875 \r\nL 52.59375 62.3125 \r\nQ 48.875 64.0625 45.09375 64.984375 \r\nQ 41.3125 65.921875 37.59375 65.921875 \r\nQ 27.828125 65.921875 22.671875 59.328125 \r\nQ 17.53125 52.734375 16.796875 39.40625 \r\nQ 19.671875 43.65625 24.015625 45.921875 \r\nQ 28.375 48.1875 33.59375 48.1875 \r\nQ 44.578125 48.1875 50.953125 41.515625 \r\nQ 57.328125 34.859375 57.328125 23.390625 \r\nQ 57.328125 12.15625 50.6875 5.359375 \r\nQ 44.046875 -1.421875 33.015625 -1.421875 \r\nQ 20.359375 -1.421875 13.671875 8.265625 \r\nQ 6.984375 17.96875 6.984375 36.375 \r\nQ 6.984375 53.65625 15.1875 63.9375 \r\nQ 23.390625 74.21875 37.203125 74.21875 \r\nQ 40.921875 74.21875 44.703125 73.484375 \r\nQ 48.484375 72.75 52.59375 71.296875 \r\nz\r\n\" id=\"DejaVuSans-54\"/>\r\n      </defs>\r\n      <g transform=\"translate(20.878125 66.167927)scale(0.1 -0.1)\">\r\n       <use xlink:href=\"#DejaVuSans-48\"/>\r\n       <use x=\"63.623047\" xlink:href=\"#DejaVuSans-46\"/>\r\n       <use x=\"95.410156\" xlink:href=\"#DejaVuSans-54\"/>\r\n      </g>\r\n     </g>\r\n    </g>\r\n    <g id=\"ytick_8\">\r\n     <g id=\"line2d_16\">\r\n      <g>\r\n       <use style=\"stroke:#000000;stroke-width:0.8;\" x=\"43.78125\" xlink:href=\"#meef5014d34\" y=\"36.892089\"/>\r\n      </g>\r\n     </g>\r\n     <g id=\"text_17\">\r\n      <!-- 0.7 -->\r\n      <g transform=\"translate(20.878125 40.691308)scale(0.1 -0.1)\">\r\n       <use xlink:href=\"#DejaVuSans-48\"/>\r\n       <use x=\"63.623047\" xlink:href=\"#DejaVuSans-46\"/>\r\n       <use x=\"95.410156\" xlink:href=\"#DejaVuSans-55\"/>\r\n      </g>\r\n     </g>\r\n    </g>\r\n    <g id=\"ytick_9\">\r\n     <g id=\"line2d_17\">\r\n      <g>\r\n       <use style=\"stroke:#000000;stroke-width:0.8;\" x=\"43.78125\" xlink:href=\"#meef5014d34\" y=\"11.415469\"/>\r\n      </g>\r\n     </g>\r\n     <g id=\"text_18\">\r\n      <!-- 0.8 -->\r\n      <defs>\r\n       <path d=\"M 31.78125 34.625 \r\nQ 24.75 34.625 20.71875 30.859375 \r\nQ 16.703125 27.09375 16.703125 20.515625 \r\nQ 16.703125 13.921875 20.71875 10.15625 \r\nQ 24.75 6.390625 31.78125 6.390625 \r\nQ 38.8125 6.390625 42.859375 10.171875 \r\nQ 46.921875 13.96875 46.921875 20.515625 \r\nQ 46.921875 27.09375 42.890625 30.859375 \r\nQ 38.875 34.625 31.78125 34.625 \r\nz\r\nM 21.921875 38.8125 \r\nQ 15.578125 40.375 12.03125 44.71875 \r\nQ 8.5 49.078125 8.5 55.328125 \r\nQ 8.5 64.0625 14.71875 69.140625 \r\nQ 20.953125 74.21875 31.78125 74.21875 \r\nQ 42.671875 74.21875 48.875 69.140625 \r\nQ 55.078125 64.0625 55.078125 55.328125 \r\nQ 55.078125 49.078125 51.53125 44.71875 \r\nQ 48 40.375 41.703125 38.8125 \r\nQ 48.828125 37.15625 52.796875 32.3125 \r\nQ 56.78125 27.484375 56.78125 20.515625 \r\nQ 56.78125 9.90625 50.3125 4.234375 \r\nQ 43.84375 -1.421875 31.78125 -1.421875 \r\nQ 19.734375 -1.421875 13.25 4.234375 \r\nQ 6.78125 9.90625 6.78125 20.515625 \r\nQ 6.78125 27.484375 10.78125 32.3125 \r\nQ 14.796875 37.15625 21.921875 38.8125 \r\nz\r\nM 18.3125 54.390625 \r\nQ 18.3125 48.734375 21.84375 45.5625 \r\nQ 25.390625 42.390625 31.78125 42.390625 \r\nQ 38.140625 42.390625 41.71875 45.5625 \r\nQ 45.3125 48.734375 45.3125 54.390625 \r\nQ 45.3125 60.0625 41.71875 63.234375 \r\nQ 38.140625 66.40625 31.78125 66.40625 \r\nQ 25.390625 66.40625 21.84375 63.234375 \r\nQ 18.3125 60.0625 18.3125 54.390625 \r\nz\r\n\" id=\"DejaVuSans-56\"/>\r\n      </defs>\r\n      <g transform=\"translate(20.878125 15.214688)scale(0.1 -0.1)\">\r\n       <use xlink:href=\"#DejaVuSans-48\"/>\r\n       <use x=\"63.623047\" xlink:href=\"#DejaVuSans-46\"/>\r\n       <use x=\"95.410156\" xlink:href=\"#DejaVuSans-56\"/>\r\n      </g>\r\n     </g>\r\n    </g>\r\n    <g id=\"text_19\">\r\n     <!-- loss -->\r\n     <defs>\r\n      <path d=\"M 9.421875 75.984375 \r\nL 18.40625 75.984375 \r\nL 18.40625 0 \r\nL 9.421875 0 \r\nz\r\n\" id=\"DejaVuSans-108\"/>\r\n     </defs>\r\n     <g transform=\"translate(14.798438 125.577812)rotate(-90)scale(0.1 -0.1)\">\r\n      <use xlink:href=\"#DejaVuSans-108\"/>\r\n      <use x=\"27.783203\" xlink:href=\"#DejaVuSans-111\"/>\r\n      <use x=\"88.964844\" xlink:href=\"#DejaVuSans-115\"/>\r\n      <use x=\"141.064453\" xlink:href=\"#DejaVuSans-115\"/>\r\n     </g>\r\n    </g>\r\n   </g>\r\n   <g id=\"line2d_18\">\r\n    <path clip-path=\"url(#p7457b0f7cf)\" d=\"M 58.999432 17.083636 \r\nL 75.018571 102.01506 \r\nL 91.037709 131.413892 \r\nL 107.056848 156.177326 \r\nL 123.075987 175.364938 \r\nL 139.095126 189.102343 \r\nL 155.114264 198.148142 \r\nL 171.133403 203.977995 \r\nL 187.152542 207.530246 \r\nL 203.171681 209.824199 \r\nL 219.190819 211.315537 \r\nL 235.209958 212.272636 \r\nL 251.229097 212.901249 \r\nL 267.248236 213.398214 \r\nL 283.267374 213.833104 \r\nL 299.286513 214.031329 \r\nL 315.305652 214.284371 \r\nL 331.324791 214.13861 \r\nL 347.343929 214.256364 \r\nL 363.363068 214.756364 \r\n\" style=\"fill:none;stroke:#1f77b4;stroke-linecap:square;stroke-width:1.5;\"/>\r\n   </g>\r\n   <g id=\"line2d_19\">\r\n    <path clip-path=\"url(#p7457b0f7cf)\" d=\"M 58.999432 90.845035 \r\nL 75.018571 117.523743 \r\nL 91.037709 145.372089 \r\nL 107.056848 166.991627 \r\nL 123.075987 182.382372 \r\nL 139.095126 194.195572 \r\nL 155.114264 201.436208 \r\nL 171.133403 204.477516 \r\nL 187.152542 207.959024 \r\nL 203.171681 209.580214 \r\nL 219.190819 210.620758 \r\nL 235.209958 211.798265 \r\nL 251.229097 212.333866 \r\nL 267.248236 212.495297 \r\nL 283.267374 212.921128 \r\nL 299.286513 212.945963 \r\nL 315.305652 213.389313 \r\nL 331.324791 211.111889 \r\nL 347.343929 213.708969 \r\nL 363.363068 213.838385 \r\n\" style=\"fill:none;stroke:#ff7f0e;stroke-linecap:square;stroke-width:1.5;\"/>\r\n   </g>\r\n   <g id=\"patch_3\">\r\n    <path d=\"M 43.78125 224.64 \r\nL 43.78125 7.2 \r\n\" style=\"fill:none;stroke:#000000;stroke-linecap:square;stroke-linejoin:miter;stroke-width:0.8;\"/>\r\n   </g>\r\n   <g id=\"patch_4\">\r\n    <path d=\"M 378.58125 224.64 \r\nL 378.58125 7.2 \r\n\" style=\"fill:none;stroke:#000000;stroke-linecap:square;stroke-linejoin:miter;stroke-width:0.8;\"/>\r\n   </g>\r\n   <g id=\"patch_5\">\r\n    <path d=\"M 43.78125 224.64 \r\nL 378.58125 224.64 \r\n\" style=\"fill:none;stroke:#000000;stroke-linecap:square;stroke-linejoin:miter;stroke-width:0.8;\"/>\r\n   </g>\r\n   <g id=\"patch_6\">\r\n    <path d=\"M 43.78125 7.2 \r\nL 378.58125 7.2 \r\n\" style=\"fill:none;stroke:#000000;stroke-linecap:square;stroke-linejoin:miter;stroke-width:0.8;\"/>\r\n   </g>\r\n  </g>\r\n </g>\r\n <defs>\r\n  <clipPath id=\"p7457b0f7cf\">\r\n   <rect height=\"217.44\" width=\"334.8\" x=\"43.78125\" y=\"7.2\"/>\r\n  </clipPath>\r\n </defs>\r\n</svg>\r\n",
      "image/png": "[encoded data removed]"
     },
     "metadata": {
      "needs_background": "light"
     }
    }
   ],
   "source": [
    "plt.plot(hist.history['loss'])\n",
    "plt.plot(hist.history['val_loss'])\n",
    "plt.xlabel('epochs')\n",
    "plt.ylabel('loss')"
   ]
  },
  {
   "cell_type": "code",
   "execution_count": 338,
   "metadata": {},
   "outputs": [
    {
     "output_type": "execute_result",
     "data": {
      "text/plain": "TensorShape([None, 90])"
     },
     "metadata": {},
     "execution_count": 338
    }
   ],
   "source": [
    "encoder_input.shape"
   ]
  },
  {
   "cell_type": "code",
   "execution_count": 339,
   "metadata": {},
   "outputs": [],
   "source": [
    "encoder_model = Model(encoder_input,encoder_states)"
   ]
  },
  {
   "cell_type": "code",
   "execution_count": 340,
   "metadata": {},
   "outputs": [],
   "source": [
    "state_input_h = Input(shape=(units*2,), name=\"state_input_h\") # units*2 if Bidirectional LSTM else units*1\n",
    "state_input_c = Input(shape=(units*2,), name=\"state_input_c\") # units*2\n",
    "inf_decoder_inputs = Input(shape=(INPUT_LENGTH, units*2), name=\"inf_decoder_inputs\")\n",
    "# similar decoder model architecture with state from encoder model\n",
    "decoder_res, decoder_h, decoder_c = decoder_lstm(decoder_emb(decoder_input),\n",
    "                                                 initial_state=[state_input_h, state_input_c])"
   ]
  },
  {
   "cell_type": "code",
   "execution_count": 341,
   "metadata": {},
   "outputs": [
    {
     "output_type": "execute_result",
     "data": {
      "text/plain": "(TensorShape([None, 90, 128]), TensorShape([None, 90, 128]))"
     },
     "metadata": {},
     "execution_count": 341
    }
   ],
   "source": [
    "inf_decoder_inputs.shape,decoder_res.shape"
   ]
  },
  {
   "cell_type": "code",
   "execution_count": 342,
   "metadata": {},
   "outputs": [],
   "source": [
    "# Attention inference\n",
    "attention = dot([inf_decoder_inputs, decoder_res], axes=[2, 2])\n",
    "attention = Activation('softmax', name='attention')(attention)\n",
    "context = dot([attention, encoder_out], axes=[2,1])\n",
    "# Concat attention input and decoder LSTM output\n",
    "decoder_out_concat_res = Concatenate(axis=-1, name='concat_layer')([decoder_res, context])"
   ]
  },
  {
   "cell_type": "code",
   "execution_count": 348,
   "metadata": {},
   "outputs": [
    {
     "output_type": "execute_result",
     "data": {
      "text/plain": "(TensorShape([None, 90]), TensorShape([None, 90, 128]))"
     },
     "metadata": {},
     "execution_count": 348
    }
   ],
   "source": [
    "decoder_input.shape,inf_decoder_inputs.shape"
   ]
  },
  {
   "cell_type": "code",
   "execution_count": 350,
   "metadata": {},
   "outputs": [
    {
     "output_type": "execute_result",
     "data": {
      "text/plain": "(TensorShape([None, 128]), TensorShape([None, 128]))"
     },
     "metadata": {},
     "execution_count": 350
    }
   ],
   "source": [
    "state_input_c.shape,state_input_c.shape"
   ]
  },
  {
   "cell_type": "code",
   "execution_count": 356,
   "metadata": {},
   "outputs": [
    {
     "output_type": "error",
     "ename": "ValueError",
     "evalue": "Graph disconnected: cannot obtain value for tensor Tensor(\"input_7:0\", shape=(None, 90), dtype=float32) at layer \"input_7\". The following previous layers were accessed without issue: ['input_8', 'embedding_9', 'state_input_h', 'state_input_c', 'lstm_9']",
     "traceback": [
      "\u001b[1;31m---------------------------------------------------------------------------\u001b[0m",
      "\u001b[1;31mValueError\u001b[0m                                Traceback (most recent call last)",
      "\u001b[1;32m<ipython-input-356-de25f71f3d1d>\u001b[0m in \u001b[0;36m<module>\u001b[1;34m\u001b[0m\n\u001b[0;32m      5\u001b[0m \u001b[1;33m\u001b[0m\u001b[0m\n\u001b[0;32m      6\u001b[0m inf_model = Model(inputs=([decoder_input] + [inf_decoder_inputs,  state_input_h, state_input_c]), \n\u001b[1;32m----> 7\u001b[1;33m                   outputs=[inf_decoder_out, decoder_h, decoder_c], name = 'Decoder')\n\u001b[0m",
      "\u001b[1;32m~\\Anaconda3\\lib\\site-packages\\tensorflow_core\\python\\keras\\engine\\training.py\u001b[0m in \u001b[0;36m__init__\u001b[1;34m(self, *args, **kwargs)\u001b[0m\n\u001b[0;32m    144\u001b[0m \u001b[1;33m\u001b[0m\u001b[0m\n\u001b[0;32m    145\u001b[0m   \u001b[1;32mdef\u001b[0m \u001b[0m__init__\u001b[0m\u001b[1;33m(\u001b[0m\u001b[0mself\u001b[0m\u001b[1;33m,\u001b[0m \u001b[1;33m*\u001b[0m\u001b[0margs\u001b[0m\u001b[1;33m,\u001b[0m \u001b[1;33m**\u001b[0m\u001b[0mkwargs\u001b[0m\u001b[1;33m)\u001b[0m\u001b[1;33m:\u001b[0m\u001b[1;33m\u001b[0m\u001b[1;33m\u001b[0m\u001b[0m\n\u001b[1;32m--> 146\u001b[1;33m     \u001b[0msuper\u001b[0m\u001b[1;33m(\u001b[0m\u001b[0mModel\u001b[0m\u001b[1;33m,\u001b[0m \u001b[0mself\u001b[0m\u001b[1;33m)\u001b[0m\u001b[1;33m.\u001b[0m\u001b[0m__init__\u001b[0m\u001b[1;33m(\u001b[0m\u001b[1;33m*\u001b[0m\u001b[0margs\u001b[0m\u001b[1;33m,\u001b[0m \u001b[1;33m**\u001b[0m\u001b[0mkwargs\u001b[0m\u001b[1;33m)\u001b[0m\u001b[1;33m\u001b[0m\u001b[1;33m\u001b[0m\u001b[0m\n\u001b[0m\u001b[0;32m    147\u001b[0m     \u001b[0m_keras_api_gauge\u001b[0m\u001b[1;33m.\u001b[0m\u001b[0mget_cell\u001b[0m\u001b[1;33m(\u001b[0m\u001b[1;34m'model'\u001b[0m\u001b[1;33m)\u001b[0m\u001b[1;33m.\u001b[0m\u001b[0mset\u001b[0m\u001b[1;33m(\u001b[0m\u001b[1;32mTrue\u001b[0m\u001b[1;33m)\u001b[0m\u001b[1;33m\u001b[0m\u001b[1;33m\u001b[0m\u001b[0m\n\u001b[0;32m    148\u001b[0m     \u001b[1;31m# initializing _distribution_strategy here since it is possible to call\u001b[0m\u001b[1;33m\u001b[0m\u001b[1;33m\u001b[0m\u001b[1;33m\u001b[0m\u001b[0m\n",
      "\u001b[1;32m~\\Anaconda3\\lib\\site-packages\\tensorflow_core\\python\\keras\\engine\\network.py\u001b[0m in \u001b[0;36m__init__\u001b[1;34m(self, *args, **kwargs)\u001b[0m\n\u001b[0;32m    167\u001b[0m         'inputs' in kwargs and 'outputs' in kwargs):\n\u001b[0;32m    168\u001b[0m       \u001b[1;31m# Graph network\u001b[0m\u001b[1;33m\u001b[0m\u001b[1;33m\u001b[0m\u001b[1;33m\u001b[0m\u001b[0m\n\u001b[1;32m--> 169\u001b[1;33m       \u001b[0mself\u001b[0m\u001b[1;33m.\u001b[0m\u001b[0m_init_graph_network\u001b[0m\u001b[1;33m(\u001b[0m\u001b[1;33m*\u001b[0m\u001b[0margs\u001b[0m\u001b[1;33m,\u001b[0m \u001b[1;33m**\u001b[0m\u001b[0mkwargs\u001b[0m\u001b[1;33m)\u001b[0m\u001b[1;33m\u001b[0m\u001b[1;33m\u001b[0m\u001b[0m\n\u001b[0m\u001b[0;32m    170\u001b[0m     \u001b[1;32melse\u001b[0m\u001b[1;33m:\u001b[0m\u001b[1;33m\u001b[0m\u001b[1;33m\u001b[0m\u001b[0m\n\u001b[0;32m    171\u001b[0m       \u001b[1;31m# Subclassed network\u001b[0m\u001b[1;33m\u001b[0m\u001b[1;33m\u001b[0m\u001b[1;33m\u001b[0m\u001b[0m\n",
      "\u001b[1;32m~\\Anaconda3\\lib\\site-packages\\tensorflow_core\\python\\training\\tracking\\base.py\u001b[0m in \u001b[0;36m_method_wrapper\u001b[1;34m(self, *args, **kwargs)\u001b[0m\n\u001b[0;32m    455\u001b[0m     \u001b[0mself\u001b[0m\u001b[1;33m.\u001b[0m\u001b[0m_self_setattr_tracking\u001b[0m \u001b[1;33m=\u001b[0m \u001b[1;32mFalse\u001b[0m  \u001b[1;31m# pylint: disable=protected-access\u001b[0m\u001b[1;33m\u001b[0m\u001b[1;33m\u001b[0m\u001b[0m\n\u001b[0;32m    456\u001b[0m     \u001b[1;32mtry\u001b[0m\u001b[1;33m:\u001b[0m\u001b[1;33m\u001b[0m\u001b[1;33m\u001b[0m\u001b[0m\n\u001b[1;32m--> 457\u001b[1;33m       \u001b[0mresult\u001b[0m \u001b[1;33m=\u001b[0m \u001b[0mmethod\u001b[0m\u001b[1;33m(\u001b[0m\u001b[0mself\u001b[0m\u001b[1;33m,\u001b[0m \u001b[1;33m*\u001b[0m\u001b[0margs\u001b[0m\u001b[1;33m,\u001b[0m \u001b[1;33m**\u001b[0m\u001b[0mkwargs\u001b[0m\u001b[1;33m)\u001b[0m\u001b[1;33m\u001b[0m\u001b[1;33m\u001b[0m\u001b[0m\n\u001b[0m\u001b[0;32m    458\u001b[0m     \u001b[1;32mfinally\u001b[0m\u001b[1;33m:\u001b[0m\u001b[1;33m\u001b[0m\u001b[1;33m\u001b[0m\u001b[0m\n\u001b[0;32m    459\u001b[0m       \u001b[0mself\u001b[0m\u001b[1;33m.\u001b[0m\u001b[0m_self_setattr_tracking\u001b[0m \u001b[1;33m=\u001b[0m \u001b[0mprevious_value\u001b[0m  \u001b[1;31m# pylint: disable=protected-access\u001b[0m\u001b[1;33m\u001b[0m\u001b[1;33m\u001b[0m\u001b[0m\n",
      "\u001b[1;32m~\\Anaconda3\\lib\\site-packages\\tensorflow_core\\python\\keras\\engine\\network.py\u001b[0m in \u001b[0;36m_init_graph_network\u001b[1;34m(self, inputs, outputs, name, **kwargs)\u001b[0m\n\u001b[0;32m    322\u001b[0m     \u001b[1;31m# Keep track of the network's nodes and layers.\u001b[0m\u001b[1;33m\u001b[0m\u001b[1;33m\u001b[0m\u001b[1;33m\u001b[0m\u001b[0m\n\u001b[0;32m    323\u001b[0m     nodes, nodes_by_depth, layers, _ = _map_graph_network(\n\u001b[1;32m--> 324\u001b[1;33m         self.inputs, self.outputs)\n\u001b[0m\u001b[0;32m    325\u001b[0m     \u001b[0mself\u001b[0m\u001b[1;33m.\u001b[0m\u001b[0m_network_nodes\u001b[0m \u001b[1;33m=\u001b[0m \u001b[0mnodes\u001b[0m\u001b[1;33m\u001b[0m\u001b[1;33m\u001b[0m\u001b[0m\n\u001b[0;32m    326\u001b[0m     \u001b[0mself\u001b[0m\u001b[1;33m.\u001b[0m\u001b[0m_nodes_by_depth\u001b[0m \u001b[1;33m=\u001b[0m \u001b[0mnodes_by_depth\u001b[0m\u001b[1;33m\u001b[0m\u001b[1;33m\u001b[0m\u001b[0m\n",
      "\u001b[1;32m~\\Anaconda3\\lib\\site-packages\\tensorflow_core\\python\\keras\\engine\\network.py\u001b[0m in \u001b[0;36m_map_graph_network\u001b[1;34m(inputs, outputs)\u001b[0m\n\u001b[0;32m   1674\u001b[0m                              \u001b[1;34m'The following previous layers '\u001b[0m\u001b[1;33m\u001b[0m\u001b[1;33m\u001b[0m\u001b[0m\n\u001b[0;32m   1675\u001b[0m                              \u001b[1;34m'were accessed without issue: '\u001b[0m \u001b[1;33m+\u001b[0m\u001b[1;33m\u001b[0m\u001b[1;33m\u001b[0m\u001b[0m\n\u001b[1;32m-> 1676\u001b[1;33m                              str(layers_with_complete_input))\n\u001b[0m\u001b[0;32m   1677\u001b[0m         \u001b[1;32mfor\u001b[0m \u001b[0mx\u001b[0m \u001b[1;32min\u001b[0m \u001b[0mnest\u001b[0m\u001b[1;33m.\u001b[0m\u001b[0mflatten\u001b[0m\u001b[1;33m(\u001b[0m\u001b[0mnode\u001b[0m\u001b[1;33m.\u001b[0m\u001b[0moutput_tensors\u001b[0m\u001b[1;33m)\u001b[0m\u001b[1;33m:\u001b[0m\u001b[1;33m\u001b[0m\u001b[1;33m\u001b[0m\u001b[0m\n\u001b[0;32m   1678\u001b[0m           \u001b[0mcomputable_tensors\u001b[0m\u001b[1;33m.\u001b[0m\u001b[0madd\u001b[0m\u001b[1;33m(\u001b[0m\u001b[0mid\u001b[0m\u001b[1;33m(\u001b[0m\u001b[0mx\u001b[0m\u001b[1;33m)\u001b[0m\u001b[1;33m)\u001b[0m\u001b[1;33m\u001b[0m\u001b[1;33m\u001b[0m\u001b[0m\n",
      "\u001b[1;31mValueError\u001b[0m: Graph disconnected: cannot obtain value for tensor Tensor(\"input_7:0\", shape=(None, 90), dtype=float32) at layer \"input_7\". The following previous layers were accessed without issue: ['input_8', 'embedding_9', 'state_input_h', 'state_input_c', 'lstm_9']"
     ]
    }
   ],
   "source": [
    "\n",
    "decoder_d1 = TimeDistributed(Dense(units, activation=\"relu\"))\n",
    "decoder_d2 = TimeDistributed(Dense(output_dict_size, activation=\"softmax\"))\n",
    "inf_decoder_out = decoder_d2(decoder_d1(decoder_out_concat_res))\n",
    "# finalizing the deocder model\n",
    "\n",
    "inf_model = Model(inputs=([decoder_input] + [inf_decoder_inputs,  state_input_h, state_input_c]), \n",
    "                  outputs=[inf_decoder_out, decoder_h, decoder_c], name = 'Decoder')\n"
   ]
  },
  {
   "cell_type": "code",
   "execution_count": 354,
   "metadata": {},
   "outputs": [],
   "source": [
    " b= [decoder_input]+[inf_decoder_inputs,  state_input_h, state_input_c]"
   ]
  },
  {
   "cell_type": "code",
   "execution_count": 355,
   "metadata": {},
   "outputs": [
    {
     "output_type": "execute_result",
     "data": {
      "text/plain": "[<tf.Tensor 'input_8:0' shape=(None, 90) dtype=float32>,\n <tf.Tensor 'inf_decoder_inputs_6:0' shape=(None, 90, 128) dtype=float32>,\n <tf.Tensor 'state_input_h_6:0' shape=(None, 128) dtype=float32>,\n <tf.Tensor 'state_input_c_6:0' shape=(None, 128) dtype=float32>]"
     },
     "metadata": {},
     "execution_count": 355
    }
   ],
   "source": []
  },
  {
   "cell_type": "code",
   "execution_count": 239,
   "metadata": {},
   "outputs": [
    {
     "output_type": "execute_result",
     "data": {
      "text/plain": "(TensorShape([None, 90]), TensorShape([None, 90, 128]))"
     },
     "metadata": {},
     "execution_count": 239
    }
   ],
   "source": [
    "decoder_input.shape,inf_decoder_inputs.shape"
   ]
  },
  {
   "cell_type": "markdown",
   "metadata": {},
   "source": [
    "### Testing the model\n"
   ]
  },
  {
   "cell_type": "code",
   "execution_count": 21,
   "metadata": {},
   "outputs": [],
   "source": [
    "def generate(text):\n",
    "    encoder_input = encoding.transform(input_encoding, [text], 90)\n",
    "    decoder_input = np.zeros(shape=(len(encoder_input), OUTPUT_LENGTH))\n",
    "    decoder_input[:,0] = encoding.CHAR_CODE_START\n",
    "    for i in range(1, OUTPUT_LENGTH):\n",
    "        output = model.predict([encoder_input, decoder_input]).argmax(axis=2)\n",
    "        decoder_input[:,i] = output[:,i]\n",
    "    return decoder_input[:,1:]\n",
    "\n",
    "def decode(decoding, sequence):\n",
    "    text = ''\n",
    "    text_list =[]\n",
    "    for i in sequence:\n",
    "        if i != 0:\n",
    "            text += output_decoding[i]\n",
    "            text_list.append(output_decoding[i])\n",
    "    return text,text_list\n",
    "\n",
    "def to_katakana(text):\n",
    "    decoder_output = generate(text)\n",
    "    txt,lst = decode(output_decoding, decoder_output[0])\n",
    "    return txt,lst"
   ]
  },
  {
   "cell_type": "code",
   "execution_count": 22,
   "metadata": {},
   "outputs": [],
   "source": [
    "k=data_input[:10]"
   ]
  },
  {
   "cell_type": "code",
   "execution_count": 290,
   "metadata": {},
   "outputs": [],
   "source": [
    "def generate(text):\n",
    "    encoder_input = encoding.transform(input_encoding, [text], 90)\n",
    "    decoder_input = np.zeros(shape=(len(encoder_input), OUTPUT_LENGTH))\n",
    "    decoder_input[:,0] = encoding.CHAR_CODE_START\n",
    "    for i in range(1, OUTPUT_LENGTH):\n",
    "        output = model.predict([encoder_input, decoder_input]).argmax(axis=2)\n",
    "        decoder_input[:,i] = output[:,i]\n",
    "    return decoder_input[:,1:]"
   ]
  },
  {
   "cell_type": "code",
   "execution_count": 305,
   "metadata": {},
   "outputs": [],
   "source": [
    "text = k[0]"
   ]
  },
  {
   "cell_type": "code",
   "execution_count": 421,
   "metadata": {},
   "outputs": [],
   "source": [
    "encoder_input = encoding.transform(input_encoding, [text], 90)\n",
    "decoder_input = np.zeros(shape=(len(encoder_input), OUTPUT_LENGTH))\n",
    "decoder_input[:,0] = encoding.CHAR_CODE_START"
   ]
  },
  {
   "cell_type": "code",
   "execution_count": 422,
   "metadata": {},
   "outputs": [],
   "source": [
    "a= [encoder_input, decoder_input]"
   ]
  },
  {
   "cell_type": "code",
   "execution_count": 423,
   "metadata": {},
   "outputs": [
    {
     "output_type": "execute_result",
     "data": {
      "text/plain": "[array([[73, 48, 34, 36, 17, 22, 93, 22, 43, 93, 49, 22, 63, 83, 36, 49,\n         46, 14, 22, 26, 22, 36, 48, 49, 41, 70, 70, 85, 57, 48,  0,  0,\n          0,  0,  0,  0,  0,  0,  0,  0,  0,  0,  0,  0,  0,  0,  0,  0,\n          0,  0,  0,  0,  0,  0,  0,  0,  0,  0,  0,  0,  0,  0,  0,  0,\n          0,  0,  0,  0,  0,  0,  0,  0,  0,  0,  0,  0,  0,  0,  0,  0,\n          0,  0,  0,  0,  0,  0,  0,  0,  0,  0]]),\n array([[1., 0., 0., 0., 0., 0., 0., 0., 0., 0., 0., 0., 0., 0., 0., 0.,\n         0., 0., 0., 0., 0., 0., 0., 0., 0., 0., 0., 0., 0., 0., 0., 0.,\n         0., 0., 0., 0., 0., 0., 0., 0., 0., 0., 0., 0., 0., 0., 0., 0.,\n         0., 0., 0., 0., 0., 0., 0., 0., 0., 0., 0., 0., 0., 0., 0., 0.,\n         0., 0., 0., 0., 0., 0., 0., 0., 0., 0., 0., 0., 0., 0., 0., 0.,\n         0., 0., 0., 0., 0., 0., 0., 0., 0., 0.]])]"
     },
     "metadata": {},
     "execution_count": 423
    }
   ],
   "source": [
    "a"
   ]
  },
  {
   "cell_type": "code",
   "execution_count": 45,
   "metadata": {},
   "outputs": [
    {
     "output_type": "stream",
     "name": "stdout",
     "text": "โรงพยาบาลป2างศิลาทอง โรงพยบบลลปาแทอ\nโรงพยาบาลบ่อทอ6ง โรงพยบบลล้อัทอ\nโรงพยาบาลชพิมาย โรพพยายลลเชย\nโรงพยาบาลทรมายมูล โรพพยบบลลไหลล์\n.รงพยาบาลทุ่งเขาหลวง โรพพยบบลลแ้งไหห้อ\nโรงพยาบาลพรหมพิาม โรพพยบบลลพคหิา\nโรงพาบาลท่าศาลา โรรพยาาลลไ่ลทา\nโรงพยาบาซยะหริ่ง โรพพยาบลลแ้ก่ช\nโรงพยาบาลนายแพท์หาญ โรงพยบบลลนแนแยย\nโรง๊ยาบาลน้ำปาด โรพพยบบลลนแน\n"
    }
   ],
   "source": [
    "pred_out =[]\n",
    "for name in k:\n",
    "    a,b =to_katakana(name)\n",
    "    print(name, a)\n",
    "    pred_out.append(to_katakana(name))"
   ]
  },
  {
   "cell_type": "code",
   "execution_count": 426,
   "metadata": {},
   "outputs": [],
   "source": [
    "data_test = pd.read_csv('../datasets/hospital_augment_test6_3.csv', header=None)"
   ]
  },
  {
   "cell_type": "code",
   "execution_count": 427,
   "metadata": {},
   "outputs": [],
   "source": [
    "data_input_test = [s for s in data_test[0]]\n",
    "data_output_test = [s for s in data_test[1]]"
   ]
  },
  {
   "cell_type": "code",
   "execution_count": 428,
   "metadata": {},
   "outputs": [
    {
     "output_type": "stream",
     "name": "stdout",
     "text": "gen_data > ttttธรผ2 > true_data\nคลินิกกรุงเ3ทพพัทยาสาขาจอมเทียน > คินิิกรกุพพะอสเพยยยสอ > คลินิกกรุงเทพพัทยาสาขาจอมเทียน\nคลินิชกกุงเทพระยองส\"าขาบ่อวิน > คคิิกรกรุเโยยรยสพ(อสุวไย > คลินิกกรุงเทพระยองสาขาบ่อวิน\nคลินิกชรุงเทพระยองสาขาปลวกแดง > คิิิ์รรพยสเยยสลแุอ > คลินิกกรุงเทพระยองสาขาปลวกแดง\nคลินิกไท์ยอินเตอร์การแพ&ยท(เกาะพงัน) > คิิิิศไไยร(ิรยรนรศอ > คลินิกไทยอินเตอร์การแพทย์(เกาะพงัน)\nคลินิกรักสโขภาพจ.ระยอง > คิิิิรร.ัไ ยรพยย > คลินิกรักสุขภาพจ.ระยอง\nคลินิกโรงพยาบาลกรุงเทพพัทยฮาสาขานาเ\"ลโือ > คาน์โอเยันุ > คลินิกโรงพยาบาลกรุงเทพพัทยาสาขานาเกลือ\nคลินิกโรงทยาบาลกรุงเทพพัทยาสาขาบุญสัมพันธ์ > คิิิิิรรพพไพยยาัยาัาุสเยุุพ > คลินิกโรงพยาบาลกรุงเทพพัทยาสาขาบุญสัมพันธ์\nคลินิกโงพยาบาลกร6ุงเทพสม\"ุย > คิิิิิรรพพพยยบลยสเกรย > คลินิกโรงพยาบาลกรุงเทพสมุย\nคลินิกโรงพฒญาบาลสมิติเวชศรีราชา(อีส3เทิร์นซีบอร์ด) > คิิิิรรรพ ยยพ าเยรเยเ(อ > คลินิกโรงพยาบาลสมิติเวชศรีราชา(อีสเทิร์นซีบอร์ด)\n"
    }
   ],
   "source": [
    "for i in range(10):\n",
    "    a,b =to_katakana(data_input_test[i])\n",
    "    out = data_output_test[i]\n",
    "    print(data_input_test[i],'>', a,'>',out)"
   ]
  },
  {
   "cell_type": "code",
   "execution_count": 191,
   "metadata": {},
   "outputs": [],
   "source": [
    "t1 = generate(text)"
   ]
  },
  {
   "cell_type": "code",
   "execution_count": 192,
   "metadata": {},
   "outputs": [
    {
     "output_type": "execute_result",
     "data": {
      "text/plain": "array([[65., 31., 65., 65., 65., 65.,  7.,  0.,  0.,  0.,  0.,  0.,  0.,\n         0.,  0.,  0.,  0.,  0.,  0.,  0.,  0.,  0.,  0.,  0.,  0.,  0.,\n         0.,  0.,  0.,  0.,  0.,  0.,  0.,  0.,  0.,  0.,  0.,  0.,  0.,\n         0.,  0.,  0.,  0.,  0.,  0.,  0.,  0.,  0.,  0.,  0.,  0.,  0.,\n         0.,  0.,  0.,  0.,  0.,  0.,  0.,  0.,  0.,  0.,  0.,  0.,  0.,\n         0.,  0.,  0.,  0.,  0.,  0.,  0.,  0.,  0.,  0.,  0.,  0.,  0.,\n         0.,  0.,  0.,  0.,  0.,  0.,  0.,  0.,  0.,  0.,  0.]])"
     },
     "metadata": {},
     "execution_count": 192
    }
   ],
   "source": [
    "t1"
   ]
  },
  {
   "cell_type": "code",
   "execution_count": 240,
   "metadata": {},
   "outputs": [],
   "source": [
    "encoder_input = encoding.transform(input_encoding, [text], 90)\n",
    "decoder_input = np.zeros(shape=(len(encoder_input), OUTPUT_LENGTH))\n",
    "#decoder_input2 = encoding.transform(output_encoding,[text],90)\n",
    "decoder_input[:,0] = encoding.CHAR_CODE_START"
   ]
  },
  {
   "cell_type": "code",
   "execution_count": 246,
   "metadata": {
    "tags": [
     "outputPrepend",
     "outputPrepend",
     "outputPrepend",
     "outputPrepend",
     "outputPrepend"
    ]
   },
   "outputs": [
    {
     "output_type": "stream",
     "name": "stdout",
     "text": "โ\nี\nอ\nี\nท\nอ\nร\nี\nอ\nี\nแ\nท\nร\nฐ\nร\nท\nฎ\nฎ\n๋\nู\nี\nท\n8\nท\n้\nท\nฎ\nต\nู\nู\nต\nค\nู\nต\na\nฎ\n7\n้\nี\n)\nะ\nอ\nี\nท\nร\nท\nฎ\nต\nฎ\nฆ\nู\nต\nค\nต\nั\nผ\nต\nผ\nะ\nฬ\nฬ\nค\n้\nต\nู\nต\nค\na\nู\nี\nท\nฎ\nฎ\n๋\nต\nณ\nั\nฬ\nฬ\nต\nฬ\nค\nะ\nต\nค\n์\nน\nท\nค\n"
    }
   ],
   "source": [
    "for i in range(1, OUTPUT_LENGTH):\n",
    "    output = model.predict([encoder_input, decoder_input])\n",
    "    idx = output.argmax(axis=2)\n",
    "    decoder_input[:,i] = idx[:,i]\n",
    "    a = idx[:,i]\n",
    "    print(output_decoding[a[0]])"
   ]
  },
  {
   "cell_type": "code",
   "execution_count": 245,
   "metadata": {},
   "outputs": [
    {
     "output_type": "execute_result",
     "data": {
      "text/plain": "'ฝ'"
     },
     "metadata": {},
     "execution_count": 245
    }
   ],
   "source": [
    "output_decoding[85]"
   ]
  },
  {
   "cell_type": "code",
   "execution_count": 66,
   "metadata": {},
   "outputs": [],
   "source": [
    "x1= np.reshape(training_encoder_input[9,:],(1,90))\n",
    "x2= np.reshape(training_decoder_input[9,:],(1,90))"
   ]
  },
  {
   "cell_type": "code",
   "execution_count": 68,
   "metadata": {},
   "outputs": [],
   "source": [
    "out  =model.predict([x1,x2])"
   ]
  },
  {
   "cell_type": "code",
   "execution_count": 69,
   "metadata": {},
   "outputs": [],
   "source": [
    "idx = out.argmax(axis=2)"
   ]
  },
  {
   "cell_type": "code",
   "execution_count": 70,
   "metadata": {},
   "outputs": [],
   "source": [
    "lst = []\n",
    "for i in range(idx.shape[1]):\n",
    "    a = idx[0,i]\n",
    "    if a != 0:\n",
    "        lst.append(output_decoding[a])"
   ]
  },
  {
   "cell_type": "code",
   "execution_count": 71,
   "metadata": {},
   "outputs": [
    {
     "output_type": "execute_result",
     "data": {
      "text/plain": "'คลินิกกรุงเทพระยองสาขาบ้านฉาง'"
     },
     "metadata": {},
     "execution_count": 71
    }
   ],
   "source": [
    "''.join(lst[1:])"
   ]
  },
  {
   "cell_type": "code",
   "execution_count": 429,
   "metadata": {},
   "outputs": [],
   "source": [
    "result = model.predict([training_encoder_input,training_decoder_input])"
   ]
  },
  {
   "cell_type": "code",
   "execution_count": 430,
   "metadata": {},
   "outputs": [],
   "source": [
    "index_result = result.argmax(axis=2)"
   ]
  },
  {
   "cell_type": "code",
   "execution_count": 122,
   "metadata": {},
   "outputs": [
    {
     "output_type": "execute_result",
     "data": {
      "text/plain": "(77137, 90)"
     },
     "metadata": {},
     "execution_count": 122
    }
   ],
   "source": [
    "index_result.shape"
   ]
  },
  {
   "cell_type": "code",
   "execution_count": 431,
   "metadata": {
    "tags": [
     "outputPrepend",
     "outputPrepend"
    ]
   },
   "outputs": [],
   "source": [
    "lst_output =[]\n",
    "for i in range(10000):\n",
    "    temp = []\n",
    "    for j in range(index_result.shape[1]):\n",
    "        a = int(index_result[i,j])\n",
    "        if a != 0:\n",
    "            temp.append(output_decoding[a])\n",
    "    lst_output.append(temp[1:])"
   ]
  },
  {
   "cell_type": "code",
   "execution_count": 432,
   "metadata": {
    "tags": [
     "outputPrepend",
     "outputPrepend",
     "outputPrepend"
    ]
   },
   "outputs": [
    {
     "output_type": "stream",
     "name": "stdout",
     "text": "องเลยราม\nโรงพยาๆาลหลวงพ่ทวีศักดิ์ ชุผินธโร อุทิ > โรงพยาบาลหลวงพ่อทวีศักดิ์ ชุตินธโร อุทิศ > \tโรงพยาบาลหลวงพ่อทวีศักดิ์ ชุตินธโร อุทิศ\nสหคลินิกกลว้ยน้าไท้าขาราม2 > สหคลินิกกล้วยน้ำไทสาขาราม2 > \tสหคลินิกกล้วยน้ำไทสาขาราม2\nโรงพยาบาลมหาชัย2 > โรงพยาบาลมหาชัย2 > \tโรงพยาบาลมหาชัย2\nโรูพยาบาลเชียงดาว > โรงพยาบาลเชียงดาว > \tโรงพยาบาลเชียงดาว\nโรงพยาบาลศรีสมเด็ > โรงพยาบาลศรีสมเด็จ > \tโรงพยาบาลศรีสมเด็จ\nโรงพยาบาลหริภุญชัยเฝมโมเรียล > โรงพยาบาลหริภุญชัยเมโมเรียล > \tโรงพยาบาลหริภุญชัยเมโมเรียล\nโรงพยาบาลเกะคา > โรงพยาบาลเกาะคา > \tโรงพยาบาลเกาะคา\nโรงพยาบาลกงไกรฺาศ > โรงพยาบาลกงไกรลาศ > \tโรงพยาบาลกงไกรลาศ\nโรงพยาบาลสองพฺ่น้4อง > โรงพยาบาลสองพี่น้อง > \tโรงพยาบาลสองพี่น้อง\nโรงขพยาบาลพระปกเกล้า > โรงพยาบาลพระปกเกล้า > \tโรงพยาบาลพระปกเกล้า\nโรงฌยาบาลบางบ่อ > โรงพยาบาลบางบ่อ > \tโรงพยาบาลบางบ่อ\nโรงพยาบาลถนาตาล > โรงพยาบาลนาตาล > \tโรงพยาบาลนาตาล\nโรงพาบาลเปาโลเมโมเรียล > โรงพยาบาลเปาโลเมโมเรียล > \tโรงพยาบาลเปาโลเมโมเรียล\nโรงพย)บาลหนองเรือ > โรงพยาบาลหนองเรือ > \tโรงพยาบาลหนองเรือ\nโรงพยาบาลโนนไทย > โรงพยาบาลโนนไทย > \tโรงพยาบาลโนนไทย\nโรงพยาบาลมะเร็งลพบุรี > โรงพยาบาลมะเร็งลพบุรี > \tโรงพยาบาลมะเร็งลพบุรี\nโรงพยคบาลสินแพทย์ > โรงพยาบาลสินแพทย์ > \tโรงพยาบาลสินแพทย์\nโรงพยาบาลเพชรรํชต์เพชรบุรี > โรงพยาบาลเพชรรัชต์เพชรบุรี > \tโรงพยาบาลเพชรรัชต์เพชรบุรี\nโรง\"ยาบาลค่ายสรรพสิทธิๆระสงค์ > โรงพยาบาลค่ายสรรพสิทธิประสงค์ > \tโรงพยาบาลค่ายสรรพสิทธิประสงค์\nโรงพยถาบาลสุราษฎร์ธานี > โรงพยาบาลสุราษฎร์ธานี > \tโรงพยาบาลสุราษฎร์ธานี\nโรงพยาบาลรวังน้ำเขียว > โรงพยาบาลวังน้ำเขียว > \tโรงพยาบาลวังน้ำเขียว\nโรงพยาบาลสุรินทร์ > โรงพยาบาลสุรินทร์ > \tโรงพยาบาลสุรินทร์\nโรงพยาบ4าลโพนพิสัย > โรงพยาบาลโพนพิสัย > \tโรงพยาบาลโพนพิสัย\nโรพยาบาลสมเด็จพระพุทธเลิ.ศหล้า > โรงพยาบาลสมเด็จพระพุทธเลิศหล้า > \tโรงพยาบาลสมเด็จพระพุทธเลิศหล้า\nโรงพยาบา(ลกรุงเทพอุดร > โรงพยาบาลกรุงเทพอุดร > \tโรงพยาบาลกรุงเทพอุดร\nโรงพยาบาลเฟิร์สเวสเทอร์น > โรงพยาบาลเฟิร์สเวสเทอร์น > \tโรงพยาบาลเฟิร์สเวสเทอร์น\nโรงพยาบาลสฒุวรรณภูมิ > โรงพยาบาลสุวรรณภูมิ > \tโรงพยาบาลสุวรรณภูมิ\nโรงพยาบาลเปาโลเมโมเฆียล > โรงพยาบาลเปาโลเมโมเรียล > \tโรงพยาบาลเปาโลเมโมเรียล\nโรงพยาบภลพระแสง > โรงพยาบาลพระแสง > \tโรงพยาบาลพระแสง\nโรขงพยาบาลบ้านแพ้วสาขาพร้อมมิตร > โรงพยาบาลบ้านแพ้วสาขาพร้อมมิตร > \tโรงพยาบาลบ้านแพ้วสาขาพร้อมมิตร\nคยลินิกเวชกรรมเมโยสาขารสาทาวเวอร์อาคาร2 > คลินิกเวชกรรมเมโยสาขารสาทาวเวอร์อาคาร2 > \tคลินิกเวชกรรมเมโยสาขารสาทาวเวอร์อาคาร2\nโรง๋ยาบาลนาด้วง > โรงพยาบาลนาด้วง > \tโรงพยาบาลนาด้วง\nโรงพยาบาลโคกฦสำโรง > โรงพยาบาลโคกสำโรง > \tโรงพยาบาลโคกสำโรง\nโรงพยา)าลดงหลวง > โรงพยาบาลดงหลวง > \tโรงพยาบาลดงหลวง\nโรงพยาบาลบ้านแพ้ว สาข\"าพร้อมมิตร > โรงพยาบาลบ้านแพ้ว สาขาพร้อมมิตร > \tโรงพยาบาลบ้านแพ้ว สาขาพร้อมมิตร\nโรงพยาบาชนแดน > โรงพยาบาลชนแดน > \tโรงพยาบาลชนแดน\nโรรงพยาึถบาลส่งเสริมสุขภพพ ศูนย์อนามัยที่ 3 > โรงพยาบาลส่งเสริมสุขภาพ ศูนย์อนามัยที่ 3 > \tโรงพยาบาลส่งเสริมสุขภาพ ศูนย์อนามัยที่ 3\nโรงพยาบาลสามพรพน > โรงพยาบาลสามพราน > \tโรงพยาบาลสามพราน\nแรงพยาบาลหนองคาย > โรงพยาบาลหนองคาย > \tโรงพยาบาลหนองคาย\nโรงพยาบาลรฎามคแหง > โรงพยาบาลรามคำแหง > \tโรงพยาบาลรามคำแหง\nโใงพยาบาลสังคม > โรงพยาบาลสังคม > \tโรงพยาบาลสังคม\nโรงพยาบาลแหลมงอบ > โรงพยาบาลแหลมงอบ > \tโรงพยาบาลแหลมงอบ\nโรงพยาบาลบ้า4นฝาง > โรงพยาบาลบ้านฝาง > \tโรงพยาบาลบ้านฝาง\nโรงพยาบาลรวมชัยประชารัก2ษ์ > โรงพยาบาลรวมชัยประชารักษ์ > \tโรงพยาบาลรวมชัยประชารักษ์\nศูนย์ศรีพัฒน์คณะแพทย์าสตร์มหาวิทยาลัยเชียงใหม่ > ศูนย์ศรีพัฒน์คณะแพทย์ศาสตร์มหาวิทยาลัยเชียงใหม่ > \tศูนย์ศรีพัฒน์คณะแพทย์ศาสตร์มหาวิทยาลัยเชียงใหม่\nโรงพยาฯบาลพีรเวช > โรงพยาบาลพีรเวช > \tโรงพยาบาลพีรเวช\nโงพยาบาลปากพนัง > โรงพยาบาลปากพนัง > \tโรงพยาบาลปากพนัง\nโรงพยาบาลสินแพจทย์ รามอินทรา > โรงพยาบาลสินแพทย์ รามอินทรา > \tโรงพยาบาลสินแพทย์ รามอินทรา\nกรงพยาบาลส่งเสริมสุขภาพ ศูนย์อนามัยที่ 13 > โรงพยาบาลส่งเสริมสุขภาพ ศูนย์อนามัยที่ 13 > \tโรงพยาบาลส่งเสริมสุขภาพ ศูนย์อนามัยที่ 13\nโรงพยาบาลมชุมแพ > โรงพยาบาลชุมแพ > \tโรงพยาบาลชุมแพ\nงรงพยาบาลโกสัมพีนคร > โรงพยาบาลโกสัมพีนคร > \tโรงพยาบาลโกสัมพีนคร\nโรงพยบาลสำโรง > โรงพยาบาลสำโรง > \tโรงพยาบาลสำโรง\nโรงพยา็บาลโพนทราย > โรงพยาบาลโพนทราย > \tโรงพยาบาลโพนทราย\nโรงพาบาลกรุงเทพประชาอุทิ > โรงพยาบาลกรุงเทพประชาอุทิศ > \tโรงพยาบาลกรุงเทพประชาอุทิศ\nโรพยาบาลไทยนครินทร์ > โรงพยาบาลไทยนครินทร์ > \tโรงพยาบาลไทยนครินทร์\nโรงพยาบญลรือเสาะ > โรงพยาบาลรือเสาะ > \tโรงพยาบาลรือเสาะ\nโรงพยาบาลอ่าวลก > โรงพยาบาลอ่าวลึก > \tโรงพยาบาลอ่าวลึก\nโรงพยาบาขอานันทมหิดล > โรงพยาบาลอานันทมหิดล > \tโรงพยาบาลอานันทมหิดล\nโรงพยบาลพล > โรงพยาบาลพล > \tโรงพยาบาลพล\nโรงพยาบาลพร๎ยืน > โรงพยาบาลพระยืน > \tโรงพยาบาลพระยืน\nโร7พยาบาลยุวประสาทไวทโยปถัมภ์ > โรงพยาบาลยุวประสาทไวทโยปถัมภ์ > \tโรงพยาบาลยุวประสาทไวทโยปถัมภ์\nโรงพยาบ็าลโพะเล > โรงพยาบาลโพทะเล > \tโรงพยาบาลโพทะเล\nโรงพยาบาลบางขัุ > โรงพยาบาลบางขัน > \tโรงพยาบาลบางขัน\nโรงพยาบ0ลตรังรวมแพทย์ > โรงพยาบาลตรังรวมแพทย์ > \tโรงพยาบาลตรังรวมแพทย์\nโรงพยาบาลนนทเำวช > โรงพยาบาลนนทเวช > \tโรงพยาบาลนนทเวช\nโรงพยาบลคุระบุรีชัยพัฒน์ > โรงพยาบาลคุระบุรีชัยพัฒน์ > \tโรงพยาบาลคุระบุรีชัยพัฒน์\nโรงพยาบาขวังสะพุง > โรงพยาบาลวังสะพุง > \tโรงพยาบาลวังสะพุง\nโรงพยาบาลเอกชนบุรีฉัมย์ > โรงพยาบาลเอกชนบุรีรัมย์ > \tโรงพยาบาลเอกชนบุรีรัมย์\nรงพยาบาลเนินมะปราง > โรงพยาบาลเนินมะปราง > \tโรงพยาบาลเนินมะปราง\nโรงพยาบาลจุฬารัตน์9 > โรงพยาบาลจุฬารัตน์9 > \tโรงพยาบาลจุฬารัตน์9\nโรงพยาบาลส่งเสริมสุขภาพเชียงแใหม่ > โรงพยาบาลส่งเสริมสุขภาพเชียงใหม่ > \tโรงพยาบาลส่งเสริมสุขภาพเชียงใหม่\nโรงพยาบาลโพธิไทอง > โรงพยาบาลโพธิ์ทอง > \tโรงพยาบาลโพธิ์ทอง\nโรงพยาบาลโนนษุวำรณ > โรงพยาบาลโนนสุวรรณ > \tโรงพยาบาลโนนสุวรรณ\nโรงพยบาบาลโนนสะอาด > โรงพยาบาลโนนสะอาด > \tโรงพยาบาลโนนสะอาด\nโรงพยาบาล5มเด็จพร้ฌะพุทธเลิศหล้า > โรงพยาบาลสมเด็จพระพุทธเลิศหล้า > \tโรงพยาบาลสมเด็จพระพุทธเลิศหล้า\nโรงพยาบาลบางปะก > โรงพยาบาลบางปะกง > \tโรงพยาบาลบางปะกง\nโรงพยาบาลจิกตเวช3สระแก้วาชนครรินทร์ > โรงพยาบาลจิตเวชสระแก้วราชนครรินทร์ > \tโรงพยาบาลจิตเวชสระแก้วราชนครรินทร์\nโรงพยาบาลสายหยัุด > โรงพยาบาลสายหยุด > \tโรงพยาบาลสายหยุด\nโรงพาบาลซับใหญ่ > โรงพยาบาลซับใหญ่ > \tโรงพยาบาลซับใหญ่\n.สถาบันพัฒนาการเด็กราชนครินทร์ > สถาบันพัฒนาการเด็กราชนครินทร์ > \tสถาบันพัฒนาการเด็กราชนครินทร์\nโรงพยาบาลแม่ใ& > โรงพยาบาลแม่ใจ > \tโรงพยาบาลแม่ใจ\nโรงพยาบาลสยามราษฎร์เ5ชียงใหม่ > โรงพยาบาลสยามราษฎร์เชียงใหม่ > \tโรงพยาบาลสยามราษฎร์เชียงใหม่\nโรงพยาบฮลรวมแพทย์นครสวรรค์ > โรงพยาบาลรวมแพทย์นครสวรรค์ > \tโรงพยาบาลรวมแพทย์นครสวรรค์\nโรงพยาบาลบางม4ด 3 > โรงพยาบาลบางมด 3 > \tโรงพยาบาลบางมด 3\nโรงพยาบาลํหนองหงส์ > โรงพยาบาลหนองหงส์ > \tโรงพยาบาลหนองหงส์\nคลินิคเกษมรา๊ฎร์ศรีบุรินทร์สาขาอาเภอเชียงแสน > คลินิคเกษมราษฎร์ศรีบุรินทร์สาขาอาเภอเชียงแสน > \tคลินิคเกษมราษฎร์ศรีบุรินทร์สาขาอาเภอเชียงแสน\nโรพยาบาลบ้านแพ้ว 0ษาขาพร้อมมิตร > โรงพยาบาลบ้านแพ้ว สาขาพร้อมมิตร > \tโรงพยาบาลบ้านแพ้ว สาขาพร้อมมิตร\nโรัพยาบาลหลวงพ่อเปฅ่น > โรงพยาบาลหลวงพ่อเปิ่น > \tโรงพยาบาลหลวงพ่อเปิ่น\nโรงพยาบาลตำรวจ > โรงพยาบาลตำรวจ > \tโรงพยาบาลตำรวจ\nโรงพยฺบาลวิหารแดง > โรงพยาบาลวิหารแดง > \tโรงพยาบาลวิหารแดง\nโรงพยาบาลทบคล้อ > โรงพยาบาลทับคล้อ > \tโรงพยาบาลทับคล้อ\nโรงพยฺาบาฒลพระมงกุฎ > โรงพยาบาลพระมงกุฎ > \tโรงพยาบาลพระมงกุฎ\nโรงพยาบาลหลวงพ่อนวีศักด์ ชุตินธโร อทอิศ > โรงพยาบาลหลวงพ่อทวีศักดิ์ ชุตินธโร อุทิศ > \tโรงพยาบาลหลวงพ่อทวีศักดิ์ ชุตินธโร อุทิศ\nโรงพยาบาลเกษ้มราษฎร์รามคำหง > โรงพยาบาลเกษมราษฎร์รามคำแหง > \tโรงพยาบาลเกษมราษฎร์รามคำแหง\nสถาบันราชานกูล > สถาบันราชานุกูล > \tสถาบันราชานุกูล\nโรงพยาษบาลสกลนคร > โรงพยาบาลสกลนคร > \tโรงพยาบาลสกลนคร\nสถาไพยาบาลอิมพีเรียล > สถานพยาบาลอิมพีเรียล > \tสถานพยาบาลอิมพีเรียล\nศูนย์สุขภาพรพ.สมเด็จพระิปิ่นเกล้าฯ คลองมอญ > ศูนย์สุขภาพรพ.สมเด็จพระปิ่นเกล้าฯ คลองมอญ > \tศูนย์สุขภาพรพ.สมเด็จพระปิ่นเกล้าฯ คลองมอญ\nโรงพยาบาลเษมราดฎร์ ประชาชื่ึ > โรงพยาบาลเกษมราษฎร์ ประชาชื่น > \tโรงพยาบาลเกษมราษฎร์ ประชาชื่น\nโรงพยาบาลลาดพ้ร้าว > โรงพยาบาลลาดพร้าว > \tโรงพยาบาลลาดพร้าว\nโรงพยาบาลสไะบ้าย้อย > โรงพยาบาลสะบ้าย้อย > \tโรงพยาบาลสะบ้าย้อย\nโรง-ยาบาลกล้วยน้ำไท 2 > โรงพยาบาลกล้วยน้ำไท 2 > \tโรงพยาบาลกล้วยน้ำไท 2\nโรงพยาบธลมหาวชิราลงกรณ ธัญบุรี > โรงพยาบาลมหาวิิราลงกรณ ธัญบุรี > \tโรงพยาบาลมหาวชิราลงกรณ ธัญบุรี\nโรงพยาบาลรา-ธานีโรจนะ > โรงพยาบาลราชธานีโรจนะ > \tโรงพยาบาลราชธานีโรจนะ\nโรงพยาาลบรรพตพิสัืย > โรงพยาบาลบรรพตพิสัย > \tโรงพยาบาลบรรพตพิสัย\nโรงพยาบาลพร.ะพรหม > โรงพยาบาลพระพรหม > \tโรงพยาบาลพระพรหม\nโรงพยาบาลจัง6หาร > โรงพยาบาลจังหาร > \tโรงพยาบาลจังหาร\nโรงพยาบาล๊พล > โรงพยาบาลพล > \tโรงพยาบาลพล\nโรงพยาบาล50 พรรษ. มหาวชิราลงกรณ์ > โรงพยาบาล50 พรรษา มหาวชิราลงกรณ์ > \tโรงพยาบาล50 พรรษา มหาวชิราลงกรณ์\nโรงพยาบาลคลอ๋ท่อม > โรงพยาบาลคลองท่อม > \tโรงพยาบาลคลองท่อม\nโรงพยาบา0ฌเสิงสาง > โรงพยาบาลเสิงสาง > \tโรงพยาบาลเสิงสาง\nโรงพยาบาลดอนตาล > โรงพยาบาลดอนตาล > \tโรงพยาบาลดอนตาล\nโรงพยาบดาลประสานมิตย > โรงพยาบาลประสานมิตร > \tโรงพยาบาลประสานมิตร\nโรงพยาบาลไพรฟบึง > โรงพยาบาลไพรบึง > \tโรงพยาบาลไพรบึง\nโรงพยาบาลฐยุวประสาทไวทโยปถัมภ์ > โรงพยาบาลยุวประสาทไวทโยปถัมภ์ > \tโรงพยาบาลยุวประสาทไวทโยปถัมภ์\nโรงพยฤาบาลเดชา > โรงพยาบาลเดชา > \tโรงพยาบาลเดชา\nโรๅพยาบาลชำนิ > โรงพยาบาลชำนิ > \tโรงพยาบาลชำนิ\nโรงพยาบาลเกษมราๆษฎร์ราไคำแหง > โรงพยาบาลเกษมราษฎร์รามคำแหง > \tโรงพยาบาลเกษมราษฎร์รามคำแหง\nโร๊พยาบาลมหาชนะชึย > โรงพยาบาลมหาชนะชัย > \tโรงพยาบาลมหาชนะชัย\nโรงพยาบาลกระบุรฝ > โรงพยาบาลกระบุรี > \tโรงพยาบาลกระบุรี\nโรงพยาบาลเชียงใหม่เมดิคอลเซ็เตอร์ > โรงพยาบาลเชียงใหม่เมดิคอลเซ็นเตอร์ > \tโรงพยาบาลเชียงใหม่เมดิคอลเซ็นเตอร์\nโรงพยาบาลบ้านนา > โรงพยาบาลบ้านนา > \tโรงพยาบาลบ้านนา\nโรงฆยาบาลเสนา > โรงพยาบาลเสนา > \tโรงพยาบาลเสนา\nโรงพยาบาลศรีธัญซา > โรงพยาบาลศรีธัญญา > \tโรงพยาบาลศรีธัญญา\nสามย่านคลินิกเศชกรรม > สามย่านคลินิกเวชกรรม > \tสามย่านคลินิกเวชกรรม\nโรงพยาบาลสมเด็จพระปิ่นเกล้า > โรงพยาบาลสมเด็จพระปิ่นเกล้า > \tโรงพยาบาลสมเด็จพระปิ่นเกล้า\nโรฌพยาบาลท่าแซะ > โรงพยาบาลท่าแซะ > \tโรงพยาบาลท่าแซะ\nโรงพยาบาลการุญเวชอยุธยาฺเปลี่ยนชื่อจากนวนครอยุธยา) > โรงพยาบาลการุญเวชอยุธยา(เปลี่ยนชื่อจากนวนครอยุธยา) > \tโรงพยาบาลการุญเวชอยุธยา(เปลี่ยนชื่อจากนวนครอยุธยา)\nโรงพยาบาลนึำเกลี้ยง > โรงพยาบาลน้ำเกลี้ยง > \tโรงพยาบาลน้ำเกลี้ยง\nโรงพยาบาลลานส/กา > โรงพยาบาลลานสะกา > \tโรงพยาบาลลานสะกา\nโรงฎพยาบาลเสนา > โรงพยาบาลเสนา > \tโรงพยาบาลเสนา\nโร์งพยาบำลตรังรวมแพทย์ > โรงพยาบาลตรังรวมแพทย์ > \tโรงพยาบาลตรังรวมแพทย์\nโรงพยาบาลบ้านไร่ > โรงพยาบาลบ้านไร่ > \tโรงพยาบาลบ้านไร่\nโรงพยาบาลสวนปุง > โรงพยาบาลสวนปรุง > \tโรงพยาบาลสวนปรุง\nโรงพยาบาลศรีสั์ชนาลัย > โรงพยาบาลศรีสัชนาลัย > \tโรงพยาบาลศรีสัชนาลัย\nโรงพยาบาลมวกเหล็ก > โรงพยาบาลมวกเหล็ก > \tโรงพยาบาลมวกเหล็ก\nโรงพยาบาลโผพธาราม > โรงพยาบาลโพธาราม > \tโรงพยาบาลโพธาราม\nโรงพยาบฤลวัดโบสถ์ > โรงพยาบาลวัดโบสถ์ > \tโรงพยาบาลวัดโบสถ์\nโรงพยาบ2ลพนมงรัก เฉลิม๎ระเกียศรติ 80 พรรษ9า > โรงพยาบาลพนมดงรัก เฉลิมพระเกียรติ 80 พรรษา > \tโรงพยาบาลพนมดงรัก เฉลิมพระเกียรติ 80 พรรษา\nโรงพยาบาลสมเ็ด็จพระพุทธเลิศหลา้ > โรงพยาบาลสมเด็จพระพุทธเลิศหล้า > \tโรงพยาบาลสมเด็จพระพุทธเลิศหล้า\nโรงพยาบาลกระบี่นรินทร์อินสเขอร์เนชั่นแนล > โรงพยาบาลกระบี่นครินทร์อินเตอร์เนชั่นแนล > \tโรงพยาบาลกระบี่นครินทร์อินเตอร์เนชั่นแนล\nโรงพยาบาลฆนนสุวรรณ > โรงพยาบาลโนนสุวรรณ > \tโรงพยาบาลโนนสุวรรณ\nโรงพยาบาลศิ2ิราช > โรงพยาบาลศิริราช > \tโรงพยาบาลศิริราช\nโรงพยาาลจุฬาภรณ์ > โรงพยาบาลจุฬาภรณ์ > \tโรงพยาบาลจุฬาภรณ์\nสมิติเวชยอมอริธนีรามอินทราคลินิกเวชกรรม > สมิติเวชอมอรินีรามอินทราคลินิกเวชกรรม > \tสมิติเวชอมอรินีรามอินทราคลินิกเวชกรรม\nโรงนยาบาลตาพระยา > โรงพยาบาลตาพระยา > \tโรงพยาบาลตาพระยา\nโรงพยาบาลธรรมศาสตร์เฉลิมพระเกียรติ > โรงพยาบาลธรรมศาสตร์เฉลิมพระเกียรติ > \tโรงพยาบาลธรรมศาสตร์เฉลิมพระเกียรติ\nโรงพยาบาลสมเด็จพระเจ้าตากสินมหาราช > โรงพยาบาลสมเด็จพระเจ้าตากสินมหาราช > \tโรงพยาบาลสมเด็จพระเจ้าตากสินมหาราช\nโรงพยาบาลไชยวน > โรงพยาบาลไชยวาน > \tโรงพยาบาลไชยวาน\nโรงฏยาบาลท่าวังผา > โรงพยาบาลท่าวังผา > \tโรงพยาบาลท่าวังผา\nโรึงพยาบาลค่ายสุรนารี > โรงพยาบาลค่ายสุรนารี > \tโรงพยาบาลค่ายสุรนารี\nโรงพยาบาลวังปมบูรณ์ > โรงพยาบาลวังสมบูรณ์ > \tโรงพยาบาลวังสมบูรณ์\nโรงพยาบาลสอยดาว > โรงพยาบาลสอยดาว > \tโรงพยาบาลสอยดาว\nโรงพงยาบาลรัทรินทร์ > โรงพยาบาลรัทรินทร์ > \tโรงพยาบาลรัทรินทร์\nโรงพยาบาลโ.นสูง > โรงพยาบาลโนนสูง > \tโรงพยาบาลโนนสูง\nโรงพย่าบาลลำทะเมนชัย > โรงพยาบาลลำทะเมนชัย > \tโรงพยาบาลลำทะเมนชัย\nโรงพยาบา็เฉพาะทางแม่และเด็กแพทย์รังสิต > โรงพยาบาลเฉพาะทางแม่และเด็กแพทย์รังสิต > \tโรงพยาบาลเฉพาะทางแม่และเด็กแพทย์รังสิต\nคลินิกกรุงเทพระยองสาขาบ่อวิน > คลินิกกรุงเทพระยองสาขาบ่อวิน > \tคลินิกกรุงเทพระยองสาขาบ่อวิน\nโรงพยาบา้ลสิโรรส > โรงพยาบาลสิโรรส > \tโรงพยาบาลสิโรรส\nโรเงพยาบาลพิษณุเวช > โรงพยาบาลพิษณุเวช > \tโรงพยาบาลพิษณุเวช\nโรงพยาบาลหนองขาหย่าง > โรงพยาบาลหนองขาหย่าง > \tโรงพยาบาลหนองขาหย่าง\nโรงพยาบาลสุไหงปา2ดี > โรงพยาบาลสุไหงปาดี > \tโรงพยาบาลสุไหงปาดี\nโรงพยาบ1ลนครปฐม > โรงพยาบาลนครปฐม > \tโรงพยาบาลนครปฐม\nโรงพยศาบาลพร้าว > โรงพยาบาลพร้าว > \tโรงพยาบาลพร้าว\nโรงพยาาลธนชบุรี > โรงพยาบาลธนบุรี > \tโรงพยาบาลธนบุรี\nโรงพยาบาลชุมพลฦุรี > โรงพยาบาลชุมพลบุรี > \tโรงพยาบาลชุมพลบุรี\nโรงพยาบาลนองบัว > โรงพยาบาลหนองบัว > \tโรงพยาบาลหนองบัว\nโรงพยพบาลยางปีสุราช > โรงพยาบาลยางสีสุราช > \tโรงพยาบาลยางสีสุราช\nโรงพยาะบาลกรุงสยามเซนต์คาร์๋อส > โรงพยาบาลกรุงสยามเซนต์คาร์ลอส > \tโรงพยาบาลกรุงสยามเซนต์คาร์ลอส\nโรงพยาบาล\"จ้ห่ม > โรงพยาบาลแจ้ห่ม > \tโรงพยาบาลแจ้ห่ม\nโรงพยาบาลเกาะสบมุย > โรงพยาบาลเกาะสมุย > \tโรงพยาบาลเกาะสมุย\nโรงพยาบาลโคกเจริญ > โรงพยาบาลโคกเจริญ > \tโรงพยาบาลโคกเจริญ\nโรงพยาบาลกำแพงเพร > โรงพยาบาลกำแพงเพชร > \tโรงพยาบาลกำแพงเพชร\nโรฟงพยาบาลบางขุนเทียน 1 > โรงพยาบาลบางขุนเทียน 1 > \tโรงพยาบาลบางขุนเทียน 1\nโรงพยาบาลศรีเฬียถงใหม่ > โรงพยาบาลศรีเชียงใหม่ > \tโรงพยาบาลศรีเชียงใหม่\nโรงพขยาบาลบางนา2 > โรงพยาบาลบางนา2 > \tโรงพยาบาลบางนา2\nโรงพยาบะลชะอวด > โรงพยาบาลชะอวด > \tโรงพยาบาลชะอวด\nโรงพยาบาลสวนสราญรมย์ > โรงพยาบาลสวนสราญรมย์ > \tโรงพยาบาลสวนสราญรมย์\nโรงพยาคบาลโ&กลเด้นเยียส์ > โรงพยาบาลโกลเด้นเยียส์ >\tโรงพยาบาลโกลเด้นเยียส์\nโรงพยาบาลวัดจันทร์ เฉลิมพระเกียรติ 80 พรใษา > โรงพยาบาลวัดจันทร์ เฉลิมพระเกียรติ 80 พรรษา > \tโรงพยาบาลวัดจันทร์ เฉลิมพระเกียรติ 80 พรรษา\nโรงพยาบาลบุณ๋ริก > โรงพยาบาลบุณฑริก > \tโรงพยาบาลบุณฑริก\nโรพยาบาล๎รามคาแหง > โรงพยาบาลรามคาแหง > \tโรงพยาบาลรามคาแหง\nโรงพยาบาล้พ็ญ > โรงพยาบาลเพ็ญ > \tโรงพยาบาลเพ็ญ\nสหคลิน1ิกกลว้ยน้าไทสาขาอโศก > สหคลินิกกล้วยน้ำไทสาขาอโศก > \tสหคลินิกกล้วยน้ำไทสาขาอโศก\nโรงพยาบาลราษฎร์ภูรณ0 > โรงพยาบาลราษฎร์บูรณะ > \tโรงพยาบาลราษฎร์บูรณะ\nโรงพยาบารเขาย้อย > โรงพยาบาลเขาย้อย > \tโรงพยาบาลเขาย้อย\nคลินิกโรงพยาบาลสมิติเวชศรีราชา(อีสเทิร์นซีบอร์ด) > คลินิกโรงพยาบาลสมิติเวชศรีราชา(อีสเทิร์นซีบอร์ด) > \tคลินิกโรงพยาบาลสมิติเวชศรีราชา(อีสเทิร์นซีบอร์ด)\nโรงพยาบาลรวมแพทย์สุโขทัย > โรงพยาบาลรวมแพทย์สุโขทัย > \tโรงพยาบาลรวมแพทย์สุโขทัย\nโร7พยาบาลกาญจนบ่รี-เมโมเรียล > โรงพยาบาลกาญจนบุรีเมโมเรียล > \tโรงพยาบาลกาญจนบุรีเมโมเรียล\nโรงพยาบาลทุ่งศภีอุดม > โรงพยาบาลทุ่งศรีอุดม > \tโรงพยาบาลทุ่งศรีอุดม\nโรงพยาบฉาลเปาโลโชคชย 4 > โรงพยาบาลเปาโลโชคชัย 4 > \tโรงพยาบาลเปาโลโชคชัย 4\nโฬรงพยาบาลเกษมราษฎร์สระบุรี > โรงพยาบาลเกษมราษฎร์สระบุรี > \tโรงพยาบาลเกษมราษฎร์สระบุรี\nโรงปพยาบาลสมิติเวช ธนบุรี > โรงพยาบาลสมิติเวช ธนบุรี > \tโรงพยาบาลสมิติเวช ธนบุรี\nโรงพยาบาลสมเด็จพระยุรราชกระนวน > โรงพยาบาลสมเด็จพระยุพราชกระนวน > \tโรงพยาบาลสมเด็จพระยุพราชกระนวน\nโรงพยาบใลบางบ่อ > โรงพยาบาลบางบ่อ > \tโรงพยาบาลบางบ่อ\nโรงพยาบาลหว้านใึ1ญ่ > โรงพยาบาลหว้านใหญ่ > \tโรงพยาบาลหว้านใหญ่\nโรงพยาบาลสำโรงกธรแพทย์ > โรงพยาบาลสำโรงกรรแพทย์ > \tโรงพยาบาลสำโรงการแพทย์\nโรงพยาบาลท7ุ่งหัวช้าง > โรงพยาบาลทุ่งหัวช้าง > \tโรงพยาบาลทุ่งหัวช้าง\nโรงพยาบาล้วยเกิ้ง > โรงพยาบาลห้วยเกิ้ง > \tโรงพยาบาลห้วยเกิ้ง\nโรงพยาบาลรามาธิบดยี > โรงพยาบาลรามาธิบดี > \tโรงพยาบาลรามาธิบดี\nโรงพยาบาลยีพ่งอเฉลิมพระเกียรต\"ิ 80 พรรษา > โรงพยาบาลยี่งอเฉลิมพระเกียรติ 80 พรรษา > \tโรงพยาบาลยี่งอเฉลิมพระเกียรติ 80 พรรษา\nโร้โพยาบาลพิบูลย์รักษ์ > โรงพยาบาลพิบูลย์รักษ์ > \tโรงพยาบาลพิบูลย์รักษ์\nโรงพาบาลสมิติเวช สุขุมวิท > โรงพยาบาลสมิติเวช สุขุมวิท > \tโรงพยาบาลสมิติเวช สุขุมวิท\nโรงพยาบาลสุขสำราญ > โรงพยาบาลสุขสำราญ > \tโรงพยาบาลสุขสำราญ\nโรงพยาบาลท่าอุเทน > โรงพยาบาลท่าอุเทน > \tโรงพยาบาลท่าอุเทน\nโรงพยาบาลบำเหน็จณรง์ > โรงพยาบาลบำเหน็จณรงค์ > \tโรงพยาบาลบำเหน็จณรงค์\nโรงพยา2าลดอยสะเก็ด > โรงพยาบาลดอยสะเก็ด > \tโรงพยาบาลดอยสะเก็ด\nโรงพยาบาลาเทพรัตนเวชชานุกูล เฉลิมพระเกียรติ 0 พระรษา > โรงพยาบาลเทพรัตนเวชชานุกูล เฉลิมพระเกียรติ 60 พรรษา > \tโรงพยาบาลเทพรัตนเวชชานุกูล เฉลิมพระเกียรติ 60 พรรษา\nโรงพกาบาลสมิติเํวชศรีนครินทร์ > โรงพยาบาลสมิติเวช ศรีนครินทร์ > \tโรงพยาบาลสมิติเวช ศรีนครินทร์\nโรงพยาบาลลานกระ์ือ > โรงพยาบาลลานกระบือ > \tโรงพยาบาลลานกระบือ\nโรงพยาบาลอ่างทองเวช5การ2 > โรงพยาบาลอ่างทองเวชชการ2 > \tโรงพยาบาลอ่างทองเวชชการ2\nโรงพยาบาลหลวงพ่อทวีศักดิ์ ชุตินธโร อุทิ็ > โรงพยาบาลหลวงพ่อทวีศักดิ์ ชุตินธโร อุทิศ > \tโรงพยาบาลหลวงพ่อทวีศักดิ์ ชุตินธโร อุทิศ\nโรงพย2าบาลแวงใหญ่ > โรงพยาบาลแวงใหญ่ > \tโรงพยาบาลแวงใหญ่\nฬรงพยาบาลรวมแพทย์นครสวรรค์ > โรงพยาบาลรวมแพทย์นครสวรรค์ > \tโรงพยาบาลรวมแพทย์นครสวรรค์\nโรงพยาาลเกษตร๊วิสัย > โรงพยาบาลเกษตรวิสัย > \tโรงพยาบาลเกษตรวิสัย\nโรงพยาบาลปทุมกเวช > โรงพยาบาลปทุมเวช > \tโรงพยาบาลปทุมเวช\nโรพยาบาลรวมแพทย์สุโขทัย > โรงพยาบาลรวมแพทย์สุโขทัย > \tโรงพยาบาลรวมแพทย์สุโขทัย\nโรงพยาบาลภูสฑงห์ > โรงพยาบาลภูสิงห์ > \tโรงพยาบาลภูสิงห์\nโรงพยาบาลราชวๅิถี > โรงพยาบาลราชวิถี > \tโรงพยาบาลราชวิถี\nโรงพยาบาลธนบุรี > โรงพยาบาลธนบุรี > \tโรงพยาบาลธนบุรี\nโรงพยาบาลเซ็นทรัลฌยนเทนอรัล > โรงพยาบาลเซ็นทรัลเยนเนอรัล > \tโรงพยาบาลเซ็นทรัลเยนเนอรัล\nโรงพยาบาลบางขนเโียน 1 > โรงพยาบาลบางขุนเทียน 1 > \tโรงพยาบาลบางขุนเทียน 1\nโรงพยาบาลสเมเด็จพระสังฆราช(นครหลวง) > โรงพยาบาลสมเด็จพระสังฆราช(นครหลวง) > \tโรงพยาบาลสมเด็จพระสังฆราช(นครหลวง)\nโรงพยาบาลนครพนม > โรงพยาบาลนครพนม > \tโรงพยาบาลนครพนม\nโรศพยาบาลดอยหล่อ > โรงพยาบาลดอยหล่อ > \tโรงพยาบาลดอยหล่อ\nโรงพยาบาลสมเด็จพระยุพราชธาตพนม > โรงพยาบาลสมเด็จพระยุพราชธาตุพนม > \tโรงพยาบาลสมเด็จพระยุพราชธาตุพนม\nโรงพยาบาลสินแพทย์ รา4มอินทรา > โรงพยาบาลสินแพทย์ รามอินทรา > \tโรงพยาบาลสินแพทย์ รามอินทรา\nโรงพยาบาภาชี > โรงพยาบาลภาชี > \tโรงพยาบาลภาชี\nโรงพยาบาลสูงผม่น > โรงพยาบาลสูงเม่น > \tโรงพยาบาลสูงเม่น\nโรงพยาบาลวิ๋ัยเวชอินเตอร์เนชั่นแนลหนองแขม > โรงพยาบาลวิชัยเวชอินเตอร์เนชั่นแนลหนองแขม > \tโรงพยาบาลวิชัยเวชอินเตอร์เนชั่นแนลหนองแขม\nโรงพยาบาลงาว > โรงพยาบาลงาว > \tโรงพยาบาลงาว\nโรงพยาบาลตระฺการพืชผล > โรงพยาบาลตระการพืชผล > \tโรงพยาบาลตระการพืชผล\nโรงพยาบาลกรุมเทพไชน่าทาว3น์ > โรงพยาบาลกรุงเทพไชน่าทาวน์ > \tโรงพยาบาลกรุงเทพไชน่าทาวน์\nโฃรงพยาบาลกาญจนบุรีเมโมเรียล > โรงพยาบาลกาญจนบุรีเมโมเรียล > \tโรงพยาบาลกาญจนบุรีเมโมเรียล\nสถาบันสุขภาพจิตเด็กและวัิรุตนภาค4ะวันออกเจียงเหนือ > สถาบันสุขภาพจิตเด็กและวัยรุ่นภาคตะวันออกเฉียงเหนือ > \tสถาบันสุขภาพจิตเด็กและวัยรุ่นภาคตะวันออกเฉียงเหนือ\nโรงพยาบา\"ตลสามร้อยยอด > โรงพยาบาลสามร้อยยอด > \tโรงพยาบาลสามร้อยยอด\nโ๊รงพยาบาลเลิดสิน > โรงพยาบาลเลิดสิน > \tโรงพยาบาลเลิดสิน\nโรงพยาบาลประชาธำปัตย์ > โรงพยาบาลประชาธิปัตย์ > \tโรงพยาบาลประชาธิปัตย์\nโรงพยาบาลฉกาะกูด > โรงพยาบาลเกาะกูด > \tโรงพยาบาลเกาะกูด\nโรงพยาบาลบางล5ะมุง > โรงพยาบาลบางละมุง > \tโรงพยาบาลบางละมุง\nโรงพยา1บะาลสมเด็ฌพระยุพราชสระแก้ว > โรงพยาบาลสมเด็จพระยุพราชสระแก้ว > \tโรงพยาบาลสมเด็จพระยุพราชสระแก้ว\nโรงพยาบาลบ่อพลอย > โรงพยาบาลบ่อพลอย > \tโรงพยาบาลบ่อพลอย\nโรงพยาบาลสีชมพ > โรงพยาบาลสีชมพู > \tโรงพยาบาลสีชมพู\nโรงพยาบาลโพธิ์ประคทับช้าง > โรงพยาบาลโพธิ์ประทับช้าง > \tโรงพยาบาลโพธิ์ประทับช้าง\nโร2พ.าบาลปากน้ำชุมพร > โรงพยาบาลปากน้ำชุมพร > \tโรงพยาบาลปากน้ำชุมพร\nวโรงพยาบาลวัดเพลง > โรงพยาบาลวัดเพลง > \tโรงพยาบาลวัดเพลง\nโรงพยาบาลบางบัวทองพ2 > โรงพยาบาลบางบัวทอง 2 > \tโรงพยาบาลบางบัวทอง 2\nโรง่ยาฑบาลไทรงาม > โรงพยาบาลไทรงาม > \tโรงพยาบาลไทรงาม\nโรงพยาบาลฏวีระพลการแพทย์ > โรงพยาบาลวีระพลการแพทย์ > \tโรงพยาบาลวีระพลการแพทย์\nโรงโพยาบาลปาดังเบซาอ์ > โรงพยาบาลปาดังเบซาร์ > \tโรงพยาบาลปาดังเบซาร์\nโรงพยาบฑาลกระทุ่ใแบน > โรงพยาบาลกระทุ่มแบน > \tโรงพยาบาลกระทุ่มแบน\nโรงพยาบาลทหารผานศึ๎ > โรงพยาบาลทหารผ่านศึก > \tโรงพยาบาลทหารผ่านศึก\nโรงพยาฌบาลจุฬาลงรณ์ > โรงพยาบาลจุฬาลงกรณ์ > \tโรงพยาบาลจุฬาลงกรณ์\nโรงพยาบาลสินแพทย์ รามอิฌทรา > โรงพยาบาลสินแพทย์ รามอินทรา > \tโรงพยาบาลสินแพทย์ รามอินทรา\nโรงพยาบาลราชดานินติรัง > โรงพยาบาลราชดาเนินตรัง > \tโรงพยาบาลราชดาเนินตรัง\nโรงพยาบาลบ้านผภฉ > โรงพยาบาลบ้านผือ > \tโรงพยาบาลบ้านผือ\nโรงพยาบาลธรรมศาสตร์ฆฉลิมพระเกียรติ > โรงพยาบาลธรรมศาสตร์เฉลิมพระเกียรติ > \tโรงพยาบาลธรรมศาสตร์เฉลิมพระเกียรติ\nโรงพยาบาลกรุงเทพไชน่าทาวน > โรงพยาบาลกรุงเทพไชน่าทาวน์ > \tโรงพยาบาลกรุงเทพไชน่าทาวน์\nโรงพยา5ถาลสมเด็จพระยุพราสายบุรี > โรงพยาบาลสมเด็จพระยุพราชสายบุรี > \tโรงพยาบาลสมเด็จพระยุพราชสายบุรี\nโรงพยาบาลบ้านตาก > โรงพยาบาลบ้านตาก > \tโรงพยาบาลบ้านตาก\nโรงพยาบซลเมือง่ปาน > โรงพยาบาลเมืองปาน > \tโรงพยาบาลเมืองปาน\nโรงพยาบาลพัฒนาิคม > โรงพยาบาลพัฒนานิคม > \tโรงพยาบาลพัฒนานิคม\nโรงพยาบาลสวรหคโลก > โรงพยาบาลสวรรคโลก > \tโรงพยาบาลสวรรคโลก\nโรงพยาบาลเอกอุด > โรงพยาบาลเอกอุดร > \tโรงพยาบาลเอกอุดร\nโรงพยาบๅลสุรศักิ2 สีลม > โรงพยาบาลสุรศักดิ์ สีลม > \tโรงพยาบาลสุรศักดิ์ สีลม\nโรง6พยาบาลสมิติเวชธนบุรี > โรงพยาบาลสมิติเวชธนบุรี > \tโรงพยาบาลสมิติเวชธนบุรี\nโรงพยาบาลเปาโลโชฬชัย 4 > โรงพยาบาลเปาโลโชคชัย 4 > \tโรงพยาบาลเปาโลโชคชัย 4\nโรงพยาบาฆลเชียงรายประชานุเคราะห์ > โรงพยาบาลเชียงรายประชานุเคราะห์ > \tโรงพยาบาลเชียงรายประชานุเคราะห์\nโรงพยาบาลบ้นด่านลานหอย > โรงพยาบาลบ้านด่านลานหอย > \tโรงพยาบาลบ้านด่านลานหอย\nโรงพยาบาลพุทโมณฑล > โรงพยาบาลพุทธมณฑล > \tโรงพยาบาลพุทธมณฑล\nโรงพยาบาลทุั่งหว้า > โรงพยาบาลทุ่งหว้า > \tโรงพยาบาลทุ่งหว้า\nโรงพยาบชลเกษมราษฎร์ณ ประชาชื่น > โรงพยาบาลเกษมราษฎร์ ประชาชื่น > \tโรงพยาบาลเกษมราษฎร์ ประชาชื่น\nโรงพยาบาลเวิลด์เมดิคอๆเซ็น7ฆเตอร์ > โรงพยาบาลเวิลด์เมดิคอลเซ็นเตอร์ > \tโรงพยาบาลเวิลด์เมดิคอลเซ็นเตอร์\nโรงะยาบาลตะโหมด > โรงพยาบาลตะโหมด > \tโรงพยาบาลตะโหมด\nโรงโพยาบาลท่าคันโท > โรงพยาบาลท่าคันโท > \tโรงพยาบาลท่าคันโท\n"
    }
   ],
   "source": [
    "### Input, Predict, Target ###\n",
    "pred_sent = []\n",
    "count = 0\n",
    "for i in range(1000):\n",
    "    print(data_input[i],'>', ''.join(lst_output[i]), '>', data_output[i])\n",
    "    a = data_output[i]\n",
    "    pred_sent.append(''.join(lst_output[i]))\n",
    "    if str(''.join(lst_output[i])) == a[1:]:\n",
    "        count +=1"
   ]
  },
  {
   "cell_type": "code",
   "execution_count": 173,
   "metadata": {},
   "outputs": [
    {
     "output_type": "execute_result",
     "data": {
      "text/plain": "('โรงพยาบาลภูกาง', '\\tโรงพยาบาลภูซาง')"
     },
     "metadata": {},
     "execution_count": 173
    }
   ],
   "source": [
    "pred_sent[555],data_output[555]"
   ]
  },
  {
   "cell_type": "code",
   "execution_count": 3,
   "metadata": {},
   "outputs": [],
   "source": [
    "text = 'โรงพยาบาลพานทอง'"
   ]
  },
  {
   "cell_type": "code",
   "execution_count": 4,
   "metadata": {},
   "outputs": [
    {
     "output_type": "error",
     "ename": "NameError",
     "evalue": "name 'to_katakana' is not defined",
     "traceback": [
      "\u001b[1;31m---------------------------------------------------------------------------\u001b[0m",
      "\u001b[1;31mNameError\u001b[0m                                 Traceback (most recent call last)",
      "\u001b[1;32m<ipython-input-4-e3b7a32b946b>\u001b[0m in \u001b[0;36m<module>\u001b[1;34m\u001b[0m\n\u001b[1;32m----> 1\u001b[1;33m \u001b[0mto_katakana\u001b[0m\u001b[1;33m(\u001b[0m\u001b[0mtext\u001b[0m\u001b[1;33m)\u001b[0m\u001b[1;33m\u001b[0m\u001b[1;33m\u001b[0m\u001b[0m\n\u001b[0m",
      "\u001b[1;31mNameError\u001b[0m: name 'to_katakana' is not defined"
     ]
    }
   ],
   "source": [
    "to_katakana(text)"
   ]
  },
  {
   "cell_type": "code",
   "execution_count": 180,
   "metadata": {},
   "outputs": [],
   "source": [
    "encoded_training_output_sample = encoding.transform(\n",
    "    output_encoding, [text] ,vector_size=OUTPUT_LENGTH)"
   ]
  },
  {
   "cell_type": "code",
   "execution_count": 182,
   "metadata": {},
   "outputs": [
    {
     "output_type": "execute_result",
     "data": {
      "text/plain": "(1, 90)"
     },
     "metadata": {},
     "execution_count": 182
    }
   ],
   "source": [
    "encoded_training_output_sample.shape"
   ]
  },
  {
   "cell_type": "code",
   "execution_count": 183,
   "metadata": {},
   "outputs": [
    {
     "output_type": "execute_result",
     "data": {
      "text/plain": "(77137, 90)"
     },
     "metadata": {},
     "execution_count": 183
    }
   ],
   "source": [
    "encoded_training_output.shape"
   ]
  },
  {
   "cell_type": "code",
   "execution_count": 90,
   "metadata": {},
   "outputs": [],
   "source": [
    "decoder_input[:,0] = encoding.CHAR_CODE_START"
   ]
  },
  {
   "cell_type": "code",
   "execution_count": 96,
   "metadata": {},
   "outputs": [],
   "source": [
    "output = model.predict([encoder_input, decoder_input]).argmax(axis=2)"
   ]
  },
  {
   "cell_type": "markdown",
   "metadata": {},
   "source": [
    "# Visualize Attention\n",
    "\n",
    "The next step is visualizing the attention values of the medel during the translation. \n",
    "\n",
    "To do that, the first step is to locate \"attention\" layer of the model. The attention layer is the 7th layers of the model (`model.layers[7]`), which is the softmax activation-layer after dot-score. Or we can also simply call `model.get_layer('attention')` as we previously name the layer as \"attention\"."
   ]
  },
  {
   "cell_type": "code",
   "execution_count": 47,
   "metadata": {},
   "outputs": [
    {
     "output_type": "stream",
     "name": "stdout",
     "text": "<tensorflow.python.keras.engine.input_layer.InputLayer object at 0x000001AC343D8DC8>\tname:input_3\n<tensorflow.python.keras.layers.embeddings.Embedding object at 0x000001AB5D0E55C8>\tname:embedding_2\n<tensorflow.python.keras.layers.wrappers.Bidirectional object at 0x000001AB5CCE2888>\tname:bidirectional_1\n<tensorflow.python.keras.engine.input_layer.InputLayer object at 0x000001AC33FE3EC8>\tname:input_4\n<tensorflow.python.keras.layers.embeddings.Embedding object at 0x000001AB5D0E5B08>\tname:embedding_3\n<tensorflow.python.keras.layers.merge.Concatenate object at 0x000001AB5CCE2DC8>\tname:concatenate_3\n<tensorflow.python.keras.layers.merge.Concatenate object at 0x000001AC343E22C8>\tname:concatenate_4\n<tensorflow.python.keras.layers.recurrent_v2.LSTM object at 0x000001AC35EA6D48>\tname:lstm_3\n<tensorflow.python.keras.layers.merge.Dot object at 0x000001AB5D071048>\tname:dot_2\n<tensorflow.python.keras.layers.core.Activation object at 0x000001AC3575BE08>\tname:attention\n<tensorflow.python.keras.layers.merge.Dot object at 0x000001AB5E00A848>\tname:dot_3\n<tensorflow.python.keras.layers.merge.Concatenate object at 0x000001AB5D077DC8>\tname:concatenate_5\n<tensorflow.python.keras.layers.wrappers.TimeDistributed object at 0x000001AC343C9188>\tname:time_distributed_2\n<tensorflow.python.keras.layers.wrappers.TimeDistributed object at 0x000001AB5D01FA08>\tname:time_distributed_3\n"
    }
   ],
   "source": [
    "layers = model.layers\n",
    "for l in layers:\n",
    "    print('%s\\tname:%s' % (str(l), l.name))\n",
    "    \n",
    "assert(model.layers[9] == model.get_layer('attention'))"
   ]
  },
  {
   "cell_type": "markdown",
   "metadata": {},
   "source": [
    "We also need to re-build the model so that it returns the output from the attention layer in addition to the normal output."
   ]
  },
  {
   "cell_type": "code",
   "execution_count": 48,
   "metadata": {},
   "outputs": [
    {
     "output_type": "stream",
     "name": "stdout",
     "text": "<tensorflow.python.keras.engine.training.Model object at 0x000001ACCF910B48>\n[(None, 90, 91), (None, 90, 90)]\n"
    }
   ],
   "source": [
    "attention_layer = model.get_layer('attention') # or model.layers[7]\n",
    "#attention_layer = model.layers[8]\n",
    "attention_model = Model(inputs=model.inputs, outputs=model.outputs + [attention_layer.output])\n",
    "\n",
    "print(attention_model)\n",
    "print(attention_model.output_shape)"
   ]
  },
  {
   "cell_type": "code",
   "execution_count": 440,
   "metadata": {},
   "outputs": [
    {
     "output_type": "execute_result",
     "data": {
      "text/plain": "<tensorflow.python.keras.engine.training.Model at 0x238ad753dc8>"
     },
     "metadata": {},
     "execution_count": 440
    }
   ],
   "source": [
    "model"
   ]
  },
  {
   "cell_type": "code",
   "execution_count": 133,
   "metadata": {},
   "outputs": [],
   "source": [
    "output, attention,weight=attention_model.predict([encoder_input, decoder_input])"
   ]
  },
  {
   "cell_type": "code",
   "execution_count": 49,
   "metadata": {},
   "outputs": [],
   "source": [
    "%matplotlib inline  \n",
    "import matplotlib\n",
    "import matplotlib.pyplot as plt\n",
    "import seaborn\n",
    "#plt.rcParams\n",
    "\n",
    "seaborn.set(font=['Tahoma'], font_scale=1)\n",
    "\n",
    "def attent_and_generate(text):\n",
    "    encoder_input = encoding.transform(input_encoding, [text], 90)\n",
    "    decoder_input = np.zeros(shape=(len(encoder_input), OUTPUT_LENGTH))\n",
    "    decoder_input[:,0] = encoding.CHAR_CODE_START\n",
    "    \n",
    "    for i in range(1, OUTPUT_LENGTH):\n",
    "        output, attention = attention_model.predict([encoder_input, decoder_input])\n",
    "        decoder_input[:,i] = output.argmax(axis=2)[:,i]\n",
    "        attention_density = attention[0]\n",
    "        decoded_output = decode(output_decoding, decoder_input[0][1:])\n",
    "        \n",
    "    return attention_density, decoded_output\n",
    "\n",
    "\n",
    "def visualize(text):\n",
    "    attention_density, katakana = attent_and_generate(text)\n",
    "\n",
    "    plt.clf()\n",
    "    plt.figure(figsize=(20,10))\n",
    "    ax = seaborn.heatmap(attention_density[:len(katakana[0]), :len(text)+1],\n",
    "        xticklabels=[w for w in text],\n",
    "        yticklabels=[w for w in katakana[0]])\n",
    "\n",
    "    ax.invert_yaxis()\n",
    "    plt.show()\n"
   ]
  },
  {
   "cell_type": "code",
   "execution_count": 50,
   "metadata": {},
   "outputs": [
    {
     "output_type": "display_data",
     "data": {
      "text/plain": "<Figure size 432x288 with 0 Axes>"
     },
     "metadata": {}
    },
    {
     "output_type": "display_data",
     "data": {
      "text/plain": "<Figure size 1440x720 with 2 Axes>",
      "image/svg+xml": "<?xml version=\"1.0\" encoding=\"utf-8\" standalone=\"no\"?>\r\n<!DOCTYPE svg PUBLIC \"-//W3C//DTD SVG 1.1//EN\"\r\n  \"http://www.w3.org/Graphics/SVG/1.1/DTD/svg11.dtd\">\r\n<!-- Created with matplotlib (https://matplotlib.org/) -->\r\n<svg height=\"578.072031pt\" version=\"1.1\" viewBox=\"0 0 1035.093594 578.072031\" width=\"1035.093594pt\" xmlns=\"http://www.w3.org/2000/svg\" xmlns:xlink=\"http://www.w3.org/1999/xlink\">\r\n <defs>\r\n  <style type=\"text/css\">\r\n*{stroke-linecap:butt;stroke-linejoin:round;}\r\n  </style>\r\n </defs>\r\n <g id=\"figure_1\">\r\n  <g id=\"patch_1\">\r\n   <path d=\"M 0 578.072031 \r\nL 1035.093594 578.072031 \r\nL 1035.093594 0 \r\nL 0 0 \r\nz\r\n\" style=\"fill:#ffffff;\"/>\r\n  </g>\r\n  <g id=\"axes_1\">\r\n   <g id=\"patch_2\">\r\n    <path d=\"M 27.272031 550.8 \r\nL 920.072031 550.8 \r\nL 920.072031 7.2 \r\nL 27.272031 7.2 \r\nz\r\n\" style=\"fill:#eaeaf2;\"/>\r\n   </g>\r\n   <g id=\"matplotlib.axis_1\">\r\n    <g id=\"xtick_1\">\r\n     <g id=\"text_1\">\r\n      <!-- โ -->\r\n      <defs>\r\n       <path d=\"M 33.109375 17.09375 \r\nQ 34.625 17.671875 36.625 17.671875 \r\nQ 40.4375 17.671875 43.171875 14.984375 \r\nQ 45.90625 12.3125 45.90625 8.5 \r\nQ 45.90625 4.6875 43.171875 1.953125 \r\nQ 40.4375 -0.78125 36.625 -0.78125 \r\nQ 30.8125 -0.78125 27.34375 2.734375 \r\nQ 23.875 6.25 23.875 12.3125 \r\nL 23.875 48.09375 \r\nQ 23.875 55.5625 22.1875 58.078125 \r\nQ 20.515625 60.59375 16.21875 60.59375 \r\nQ 14.109375 60.59375 11.390625 60.328125 \r\nQ 8.6875 60.0625 6.78125 59.765625 \r\nL 3.328125 59.078125 \r\nL 2.984375 59.078125 \r\nL 2.984375 62.5 \r\nQ 2.984375 71.046875 7.25 75.78125 \r\nQ 11.53125 80.515625 22.015625 80.515625 \r\nL 32.90625 80.078125 \r\nQ 35.109375 80.078125 37.453125 80.5625 \r\nL 41.5 81.5 \r\nL 41.890625 81.5 \r\nL 41.890625 73 \r\nQ 37.546875 72.125 32.90625 72.125 \r\nL 22.015625 72.609375 \r\nQ 17.09375 72.609375 14.40625 71.015625 \r\nQ 11.71875 69.4375 11.71875 67.09375 \r\nQ 13.234375 67.390625 16.21875 67.390625 \r\nQ 26.21875 67.390625 29.65625 63.140625 \r\nQ 33.109375 58.890625 33.109375 48.09375 \r\nz\r\nM 36.625 4.6875 \r\nQ 38.140625 4.6875 39.203125 5.78125 \r\nQ 40.28125 6.890625 40.28125 8.5 \r\nQ 40.28125 10.015625 39.1875 11.0625 \r\nQ 38.09375 12.109375 36.625 12.109375 \r\nQ 35.109375 12.109375 34 11.03125 \r\nQ 32.90625 9.96875 32.90625 8.5 \r\nQ 32.90625 6.890625 33.984375 5.78125 \r\nQ 35.0625 4.6875 36.625 4.6875 \r\nz\r\n\" id=\"Tahoma-3650\"/>\r\n      </defs>\r\n      <g style=\"fill:#262626;\" transform=\"translate(52.465 568.658281)scale(0.11 -0.11)\">\r\n       <use xlink:href=\"#Tahoma-3650\"/>\r\n      </g>\r\n     </g>\r\n    </g>\r\n    <g id=\"xtick_2\">\r\n     <g id=\"text_2\">\r\n      <!-- ร -->\r\n      <defs>\r\n       <path d=\"M 40.921875 47.796875 \r\nQ 36.578125 46.921875 31.890625 46.921875 \r\nL 21 47.40625 \r\nQ 16.109375 47.40625 13.390625 45.8125 \r\nQ 10.6875 44.234375 10.6875 41.890625 \r\nQ 12.25 42.1875 15.1875 42.1875 \r\nQ 25.921875 42.1875 30.046875 37.734375 \r\nQ 34.1875 33.296875 34.1875 22.90625 \r\nL 34.1875 12.3125 \r\nQ 34.1875 6.25 30.734375 2.734375 \r\nQ 27.296875 -0.78125 21.484375 -0.78125 \r\nQ 17.671875 -0.78125 14.9375 1.953125 \r\nQ 12.203125 4.6875 12.203125 8.5 \r\nQ 12.203125 12.3125 14.9375 14.984375 \r\nQ 17.671875 17.671875 21.484375 17.671875 \r\nQ 23.484375 17.671875 25 17.09375 \r\nL 25 22.90625 \r\nQ 25 29.546875 22.65625 32.46875 \r\nQ 20.3125 35.40625 15.1875 35.40625 \r\nQ 13.09375 35.40625 10.40625 35.125 \r\nQ 7.71875 34.859375 5.765625 34.515625 \r\nL 2.296875 33.890625 \r\nL 2 33.890625 \r\nL 2 37.3125 \r\nQ 2 45.84375 6.25 50.578125 \r\nQ 10.5 55.328125 21 55.328125 \r\nL 31.890625 54.890625 \r\nQ 34.078125 54.890625 36.421875 55.375 \r\nL 40.484375 56.296875 \r\nL 40.921875 56.296875 \r\nz\r\nM 21.484375 4.6875 \r\nQ 23.046875 4.6875 24.125 5.78125 \r\nQ 25.203125 6.890625 25.203125 8.5 \r\nQ 25.203125 10.015625 24.09375 11.0625 \r\nQ 23 12.109375 21.484375 12.109375 \r\nQ 19.96875 12.109375 18.890625 11.03125 \r\nQ 17.828125 9.96875 17.828125 8.5 \r\nQ 17.828125 6.890625 18.890625 5.78125 \r\nQ 19.96875 4.6875 21.484375 4.6875 \r\nz\r\n\" id=\"Tahoma-3619\"/>\r\n      </defs>\r\n      <g style=\"fill:#262626;\" transform=\"translate(108.611328 568.658281)scale(0.11 -0.11)\">\r\n       <use xlink:href=\"#Tahoma-3619\"/>\r\n      </g>\r\n     </g>\r\n    </g>\r\n    <g id=\"xtick_3\">\r\n     <g id=\"text_3\">\r\n      <!-- ง -->\r\n      <defs>\r\n       <path d=\"M 41.015625 15.921875 \r\nQ 41.015625 7.375 37.171875 2.875 \r\nQ 33.34375 -1.609375 26.8125 -1.609375 \r\nQ 22.609375 -1.609375 19.0625 0.90625 \r\nQ 15.53125 3.421875 12.75 9.328125 \r\nL 1.421875 33.015625 \r\nL 10.984375 33.015625 \r\nQ 19.828125 14.5 20.75 12.640625 \r\nQ 21.6875 10.796875 23.265625 8.9375 \r\nQ 24.859375 7.078125 26.8125 7.078125 \r\nQ 31.78125 7.078125 31.78125 15.921875 \r\nL 31.78125 38.09375 \r\nQ 30.28125 37.5 28.328125 37.5 \r\nQ 24.46875 37.5 21.734375 40.203125 \r\nQ 19 42.921875 19 46.6875 \r\nQ 19 50.484375 21.75 53.234375 \r\nQ 24.515625 56 28.328125 56 \r\nQ 34.078125 56 37.546875 52.453125 \r\nQ 41.015625 48.921875 41.015625 42.921875 \r\nz\r\nM 28.21875 43.109375 \r\nQ 29.6875 43.109375 30.78125 44.15625 \r\nQ 31.890625 45.21875 31.890625 46.6875 \r\nQ 31.890625 48.296875 30.8125 49.390625 \r\nQ 29.734375 50.484375 28.21875 50.484375 \r\nQ 26.65625 50.484375 25.578125 49.390625 \r\nQ 24.515625 48.296875 24.515625 46.6875 \r\nQ 24.515625 45.21875 25.609375 44.15625 \r\nQ 26.703125 43.109375 28.21875 43.109375 \r\nz\r\n\" id=\"Tahoma-3591\"/>\r\n      </defs>\r\n      <g style=\"fill:#262626;\" transform=\"translate(164.065 568.658281)scale(0.11 -0.11)\">\r\n       <use xlink:href=\"#Tahoma-3591\"/>\r\n      </g>\r\n     </g>\r\n    </g>\r\n    <g id=\"xtick_4\">\r\n     <g id=\"text_4\">\r\n      <!-- พ -->\r\n      <defs>\r\n       <path d=\"M 62.59375 0 \r\nL 51.703125 0 \r\nQ 51.703125 4.6875 44 26.375 \r\nQ 40.046875 37.5 39.203125 40.578125 \r\nQ 38.375 37.5 34.421875 26.375 \r\nQ 26.703125 4.6875 26.703125 0 \r\nL 15.828125 0 \r\nL 15.828125 38.1875 \r\nQ 14.3125 37.59375 12.3125 37.59375 \r\nQ 8.5 37.59375 5.734375 40.296875 \r\nQ 2.984375 43.015625 2.984375 46.78125 \r\nQ 2.984375 50.640625 5.734375 53.375 \r\nQ 8.5 56.109375 12.3125 56.109375 \r\nQ 18.0625 56.109375 21.53125 52.5625 \r\nQ 25 49.03125 25 43.015625 \r\nL 25 15.578125 \r\nQ 25 17.578125 29.890625 31.109375 \r\nQ 37.109375 50.984375 37.109375 55.171875 \r\nL 41.3125 55.171875 \r\nQ 41.3125 51.03125 48.34375 31.640625 \r\nQ 53.421875 17.71875 53.421875 15.578125 \r\nL 53.421875 54.59375 \r\nL 62.59375 54.59375 \r\nz\r\nM 12.3125 43.21875 \r\nQ 13.8125 43.21875 14.90625 44.265625 \r\nQ 16.015625 45.3125 16.015625 46.78125 \r\nQ 16.015625 48.4375 14.90625 49.515625 \r\nQ 13.8125 50.59375 12.3125 50.59375 \r\nQ 10.796875 50.59375 9.6875 49.484375 \r\nQ 8.59375 48.390625 8.59375 46.78125 \r\nQ 8.59375 45.3125 9.6875 44.265625 \r\nQ 10.796875 43.21875 12.3125 43.21875 \r\nz\r\n\" id=\"Tahoma-3614\"/>\r\n      </defs>\r\n      <g style=\"fill:#262626;\" transform=\"translate(218.678203 568.658281)scale(0.11 -0.11)\">\r\n       <use xlink:href=\"#Tahoma-3614\"/>\r\n      </g>\r\n     </g>\r\n    </g>\r\n    <g id=\"xtick_5\">\r\n     <g id=\"text_5\">\r\n      <!-- ย -->\r\n      <defs>\r\n       <path d=\"M 49.8125 0 \r\nL 8.203125 0 \r\nL 8.203125 15.71875 \r\nQ 8.203125 20.703125 13.1875 23.578125 \r\nQ 8.296875 26.46875 8.296875 31.59375 \r\nL 8.296875 43.015625 \r\nQ 8.296875 49.03125 11.765625 52.5625 \r\nQ 15.234375 56.109375 21 56.109375 \r\nQ 24.8125 56.109375 27.5625 53.34375 \r\nQ 30.328125 50.59375 30.328125 46.78125 \r\nQ 30.328125 42.96875 27.59375 40.28125 \r\nQ 24.859375 37.59375 21 37.59375 \r\nQ 19 37.59375 17.484375 38.1875 \r\nL 17.484375 31.78125 \r\nQ 17.484375 26.609375 22.703125 26.609375 \r\nL 24.609375 26.609375 \r\nL 24.609375 20.609375 \r\nL 22.703125 20.609375 \r\nQ 17.484375 20.609375 17.484375 15.71875 \r\nL 17.484375 8.6875 \r\nL 40.578125 8.6875 \r\nL 40.578125 54.59375 \r\nL 49.8125 54.59375 \r\nz\r\nM 21 43.21875 \r\nQ 22.515625 43.21875 23.609375 44.265625 \r\nQ 24.703125 45.3125 24.703125 46.78125 \r\nQ 24.703125 48.4375 23.609375 49.515625 \r\nQ 22.515625 50.59375 21 50.59375 \r\nQ 19.484375 50.59375 18.375 49.484375 \r\nQ 17.28125 48.390625 17.28125 46.78125 \r\nQ 17.28125 45.3125 18.375 44.265625 \r\nQ 19.484375 43.21875 21 43.21875 \r\nz\r\n\" id=\"Tahoma-3618\"/>\r\n      </defs>\r\n      <g style=\"fill:#262626;\" transform=\"translate(275.187188 568.658281)scale(0.11 -0.11)\">\r\n       <use xlink:href=\"#Tahoma-3618\"/>\r\n      </g>\r\n     </g>\r\n    </g>\r\n    <g id=\"xtick_6\">\r\n     <g id=\"text_6\">\r\n      <!-- า -->\r\n      <defs>\r\n       <path d=\"M 40.28125 0 \r\nL 31.109375 0 \r\nL 31.109375 35.015625 \r\nQ 31.109375 41.3125 28.09375 44.65625 \r\nQ 25.09375 48 19.828125 48 \r\nQ 11.765625 48 3.328125 43.015625 \r\nL 2.6875 43.015625 \r\nL 2.6875 52.6875 \r\nQ 11.328125 56 19.828125 56 \r\nQ 40.28125 56 40.28125 35.59375 \r\nz\r\n\" id=\"Tahoma-3634\"/>\r\n      </defs>\r\n      <g style=\"fill:#262626;\" transform=\"translate(331.505391 568.658281)scale(0.11 -0.11)\">\r\n       <use xlink:href=\"#Tahoma-3634\"/>\r\n      </g>\r\n     </g>\r\n    </g>\r\n    <g id=\"xtick_7\">\r\n     <g id=\"text_7\">\r\n      <!-- บ -->\r\n      <defs>\r\n       <path d=\"M 54.78125 0 \r\nL 8.796875 0 \r\nL 8.796875 8.6875 \r\nL 16.796875 8.6875 \r\nL 16.796875 38.1875 \r\nQ 15.28125 37.59375 13.28125 37.59375 \r\nQ 9.46875 37.59375 6.734375 40.296875 \r\nQ 4 43.015625 4 46.78125 \r\nQ 4 50.640625 6.734375 53.375 \r\nQ 9.46875 56.109375 13.28125 56.109375 \r\nQ 19.09375 56.109375 22.53125 52.5625 \r\nQ 25.984375 49.03125 25.984375 43.015625 \r\nL 25.984375 8.6875 \r\nL 45.609375 8.6875 \r\nL 45.609375 54.59375 \r\nL 54.78125 54.59375 \r\nz\r\nM 13.28125 43.21875 \r\nQ 14.796875 43.21875 15.890625 44.265625 \r\nQ 17 45.3125 17 46.78125 \r\nQ 17 48.390625 15.921875 49.484375 \r\nQ 14.84375 50.59375 13.28125 50.59375 \r\nQ 11.765625 50.59375 10.6875 49.484375 \r\nQ 9.625 48.390625 9.625 46.78125 \r\nQ 9.625 45.3125 10.6875 44.265625 \r\nQ 11.765625 43.21875 13.28125 43.21875 \r\nz\r\n\" id=\"Tahoma-3610\"/>\r\n      </defs>\r\n      <g style=\"fill:#262626;\" transform=\"translate(386.507891 568.658281)scale(0.11 -0.11)\">\r\n       <use xlink:href=\"#Tahoma-3610\"/>\r\n      </g>\r\n     </g>\r\n    </g>\r\n    <g id=\"xtick_8\">\r\n     <g id=\"text_8\">\r\n      <!-- า -->\r\n      <g style=\"fill:#262626;\" transform=\"translate(443.105391 568.658281)scale(0.11 -0.11)\">\r\n       <use xlink:href=\"#Tahoma-3634\"/>\r\n      </g>\r\n     </g>\r\n    </g>\r\n    <g id=\"xtick_9\">\r\n     <g id=\"text_9\">\r\n      <!-- ล -->\r\n      <defs>\r\n       <path d=\"M 53.421875 0 \r\nL 44.1875 0 \r\nQ 35.5 16.5 32.859375 20.765625 \r\nQ 30.21875 25.046875 27.390625 27.359375 \r\nQ 24.5625 29.6875 21.921875 29.6875 \r\nQ 19.390625 29.6875 17.796875 27.96875 \r\nQ 16.21875 26.265625 16.21875 23.578125 \r\nL 16.21875 17.09375 \r\nQ 17.71875 17.671875 19.671875 17.671875 \r\nQ 23.53125 17.671875 26.265625 14.984375 \r\nQ 29 12.3125 29 8.5 \r\nQ 29 4.6875 26.234375 1.953125 \r\nQ 23.484375 -0.78125 19.671875 -0.78125 \r\nQ 13.921875 -0.78125 10.453125 2.734375 \r\nQ 6.984375 6.25 6.984375 12.3125 \r\nL 6.984375 23.390625 \r\nQ 6.984375 30.515625 10.765625 34.296875 \r\nQ 14.546875 38.09375 21.296875 38.09375 \r\nQ 25.921875 38.09375 29.828125 35.109375 \r\nQ 33.734375 32.125 36.046875 28.46875 \r\nQ 38.375 24.8125 44.1875 13.484375 \r\nL 44.1875 33.890625 \r\nQ 44.1875 40.578125 40.375 44.328125 \r\nQ 36.578125 48.09375 30.078125 48.09375 \r\nQ 20.015625 48.09375 10.296875 41.609375 \r\nL 9.8125 41.609375 \r\nL 9.8125 51.90625 \r\nQ 20.359375 56.109375 29.984375 56.109375 \r\nQ 41.265625 56.109375 47.34375 50.1875 \r\nQ 53.421875 44.28125 53.421875 33.890625 \r\nz\r\nM 19.671875 4.6875 \r\nQ 21.234375 4.6875 22.3125 5.78125 \r\nQ 23.390625 6.890625 23.390625 8.5 \r\nQ 23.390625 9.96875 22.28125 11.03125 \r\nQ 21.1875 12.109375 19.671875 12.109375 \r\nQ 18.21875 12.109375 17.109375 11.03125 \r\nQ 16.015625 9.96875 16.015625 8.5 \r\nQ 16.015625 6.890625 17.09375 5.78125 \r\nQ 18.171875 4.6875 19.671875 4.6875 \r\nz\r\n\" id=\"Tahoma-3621\"/>\r\n      </defs>\r\n      <g style=\"fill:#262626;\" transform=\"translate(498.182656 568.658281)scale(0.11 -0.11)\">\r\n       <use xlink:href=\"#Tahoma-3621\"/>\r\n      </g>\r\n     </g>\r\n    </g>\r\n    <g id=\"xtick_10\">\r\n     <g id=\"text_10\">\r\n      <!-- พ -->\r\n      <g style=\"fill:#262626;\" transform=\"translate(553.478203 568.658281)scale(0.11 -0.11)\">\r\n       <use xlink:href=\"#Tahoma-3614\"/>\r\n      </g>\r\n     </g>\r\n    </g>\r\n    <g id=\"xtick_11\">\r\n     <g id=\"text_11\">\r\n      <!-- า -->\r\n      <g style=\"fill:#262626;\" transform=\"translate(610.505391 568.658281)scale(0.11 -0.11)\">\r\n       <use xlink:href=\"#Tahoma-3634\"/>\r\n      </g>\r\n     </g>\r\n    </g>\r\n    <g id=\"xtick_12\">\r\n     <g id=\"text_12\">\r\n      <!-- น -->\r\n      <defs>\r\n       <path d=\"M 51.703125 17.09375 \r\nQ 56.984375 14.203125 56.984375 8.59375 \r\nQ 56.984375 4.78125 54.25 2 \r\nQ 51.515625 -0.78125 47.703125 -0.78125 \r\nQ 43.890625 -0.78125 41.078125 2 \r\nQ 38.28125 4.78125 38.28125 8.59375 \r\nQ 38.28125 9.421875 38.375 9.8125 \r\nQ 31.15625 6.34375 24.421875 0 \r\nL 15.828125 0 \r\nL 15.828125 38.1875 \r\nQ 14.3125 37.59375 12.3125 37.59375 \r\nQ 8.5 37.59375 5.734375 40.296875 \r\nQ 2.984375 43.015625 2.984375 46.78125 \r\nQ 2.984375 50.640625 5.734375 53.375 \r\nQ 8.5 56.109375 12.3125 56.109375 \r\nQ 18.0625 56.109375 21.53125 52.5625 \r\nQ 25 49.03125 25 43.015625 \r\nL 25 8.890625 \r\nQ 33.453125 15.671875 42.484375 17.828125 \r\nL 42.484375 54.59375 \r\nL 51.703125 54.59375 \r\nz\r\nM 12.3125 43.21875 \r\nQ 13.8125 43.21875 14.90625 44.265625 \r\nQ 16.015625 45.3125 16.015625 46.78125 \r\nQ 16.015625 48.4375 14.90625 49.515625 \r\nQ 13.8125 50.59375 12.3125 50.59375 \r\nQ 10.796875 50.59375 9.6875 49.484375 \r\nQ 8.59375 48.390625 8.59375 46.78125 \r\nQ 8.59375 45.3125 9.6875 44.265625 \r\nQ 10.796875 43.21875 12.3125 43.21875 \r\nz\r\nM 47.609375 4.78125 \r\nQ 49.125 4.78125 50.21875 5.875 \r\nQ 51.3125 6.984375 51.3125 8.59375 \r\nQ 51.3125 10.109375 50.21875 11.15625 \r\nQ 49.125 12.203125 47.609375 12.203125 \r\nQ 46.09375 12.203125 44.984375 11.125 \r\nQ 43.890625 10.0625 43.890625 8.59375 \r\nQ 43.890625 6.984375 44.984375 5.875 \r\nQ 46.09375 4.78125 47.609375 4.78125 \r\nz\r\n\" id=\"Tahoma-3609\"/>\r\n      </defs>\r\n      <g style=\"fill:#262626;\" transform=\"translate(665.606719 568.658281)scale(0.11 -0.11)\">\r\n       <use xlink:href=\"#Tahoma-3609\"/>\r\n      </g>\r\n     </g>\r\n    </g>\r\n    <g id=\"xtick_13\">\r\n     <g id=\"text_13\">\r\n      <!-- ท -->\r\n      <defs>\r\n       <path d=\"M 63.375 0 \r\nL 54.203125 0 \r\nL 54.203125 41.40625 \r\nQ 54.203125 47.703125 50.59375 47.703125 \r\nQ 47.515625 47.703125 43 37.15625 \r\nQ 38.484375 26.609375 29.59375 0 \r\nL 16.796875 0 \r\nL 16.796875 38.1875 \r\nQ 15.28125 37.59375 13.28125 37.59375 \r\nQ 9.46875 37.59375 6.734375 40.296875 \r\nQ 4 43.015625 4 46.78125 \r\nQ 4 50.640625 6.734375 53.375 \r\nQ 9.46875 56.109375 13.28125 56.109375 \r\nQ 19.09375 56.109375 22.53125 52.5625 \r\nQ 25.984375 49.03125 25.984375 43.015625 \r\nL 25.984375 8.59375 \r\nQ 33.0625 29.34375 35.40625 35.71875 \r\nQ 37.75 42.09375 40.5 47.125 \r\nQ 43.265625 52.15625 46 54.125 \r\nQ 48.734375 56.109375 52.296875 56.109375 \r\nQ 57.46875 56.109375 60.421875 52.21875 \r\nQ 63.375 48.34375 63.375 41.609375 \r\nz\r\nM 13.28125 43.21875 \r\nQ 14.796875 43.21875 15.890625 44.265625 \r\nQ 17 45.3125 17 46.78125 \r\nQ 17 48.390625 15.921875 49.484375 \r\nQ 14.84375 50.59375 13.28125 50.59375 \r\nQ 11.765625 50.59375 10.6875 49.484375 \r\nQ 9.625 48.390625 9.625 46.78125 \r\nQ 9.625 45.3125 10.6875 44.265625 \r\nQ 11.765625 43.21875 13.28125 43.21875 \r\nz\r\n\" id=\"Tahoma-3607\"/>\r\n      </defs>\r\n      <g style=\"fill:#262626;\" transform=\"translate(720.835234 568.658281)scale(0.11 -0.11)\">\r\n       <use xlink:href=\"#Tahoma-3607\"/>\r\n      </g>\r\n     </g>\r\n    </g>\r\n    <g id=\"xtick_14\">\r\n     <g id=\"text_14\">\r\n      <!-- อ -->\r\n      <defs>\r\n       <path d=\"M 51.3125 0 \r\nL 8.203125 0 \r\nL 8.203125 21.296875 \r\nQ 8.203125 27.390625 11.671875 30.90625 \r\nQ 15.140625 34.421875 20.90625 34.421875 \r\nQ 24.703125 34.421875 27.4375 31.65625 \r\nQ 30.171875 28.90625 30.171875 25.09375 \r\nQ 30.171875 21.296875 27.4375 18.609375 \r\nQ 24.703125 15.921875 20.90625 15.921875 \r\nQ 18.890625 15.921875 17.390625 16.5 \r\nL 17.390625 8.6875 \r\nL 42.09375 8.6875 \r\nL 42.09375 33.890625 \r\nQ 42.09375 40.578125 38.296875 44.328125 \r\nQ 34.515625 48.09375 28.078125 48.09375 \r\nQ 18.0625 48.09375 8.40625 41.609375 \r\nL 7.8125 41.609375 \r\nL 7.8125 51.90625 \r\nQ 18.359375 56.109375 27.875 56.109375 \r\nQ 39.203125 56.109375 45.25 50.21875 \r\nQ 51.3125 44.34375 51.3125 33.890625 \r\nz\r\nM 20.90625 21.484375 \r\nQ 22.40625 21.484375 23.5 22.5625 \r\nQ 24.609375 23.640625 24.609375 25.09375 \r\nQ 24.609375 26.703125 23.5 27.796875 \r\nQ 22.40625 28.90625 20.90625 28.90625 \r\nQ 19.390625 28.90625 18.28125 27.796875 \r\nQ 17.1875 26.703125 17.1875 25.09375 \r\nQ 17.1875 23.640625 18.28125 22.5625 \r\nQ 19.390625 21.484375 20.90625 21.484375 \r\nz\r\n\" id=\"Tahoma-3629\"/>\r\n      </defs>\r\n      <g style=\"fill:#262626;\" transform=\"translate(777.298672 568.658281)scale(0.11 -0.11)\">\r\n       <use xlink:href=\"#Tahoma-3629\"/>\r\n      </g>\r\n     </g>\r\n    </g>\r\n    <g id=\"xtick_15\">\r\n     <g id=\"text_15\">\r\n      <!-- ง -->\r\n      <g style=\"fill:#262626;\" transform=\"translate(833.665 568.658281)scale(0.11 -0.11)\">\r\n       <use xlink:href=\"#Tahoma-3591\"/>\r\n      </g>\r\n     </g>\r\n    </g>\r\n   </g>\r\n   <g id=\"matplotlib.axis_2\">\r\n    <g id=\"ytick_1\">\r\n     <g id=\"text_16\">\r\n      <!-- โ -->\r\n      <g style=\"fill:#262626;\" transform=\"translate(15.558281 529.384922)rotate(-90)scale(0.11 -0.11)\">\r\n       <use xlink:href=\"#Tahoma-3650\"/>\r\n      </g>\r\n     </g>\r\n    </g>\r\n    <g id=\"ytick_2\">\r\n     <g id=\"text_17\">\r\n      <!-- ร -->\r\n      <g style=\"fill:#262626;\" transform=\"translate(15.558281 483.392266)rotate(-90)scale(0.11 -0.11)\">\r\n       <use xlink:href=\"#Tahoma-3619\"/>\r\n      </g>\r\n     </g>\r\n    </g>\r\n    <g id=\"ytick_3\">\r\n     <g id=\"text_18\">\r\n      <!-- ง -->\r\n      <g style=\"fill:#262626;\" transform=\"translate(15.558281 438.784922)rotate(-90)scale(0.11 -0.11)\">\r\n       <use xlink:href=\"#Tahoma-3591\"/>\r\n      </g>\r\n     </g>\r\n    </g>\r\n    <g id=\"ytick_4\">\r\n     <g id=\"text_19\">\r\n      <!-- พ -->\r\n      <g style=\"fill:#262626;\" transform=\"translate(15.558281 395.858516)rotate(-90)scale(0.11 -0.11)\">\r\n       <use xlink:href=\"#Tahoma-3614\"/>\r\n      </g>\r\n     </g>\r\n    </g>\r\n    <g id=\"ytick_5\">\r\n     <g id=\"text_20\">\r\n      <!-- ย -->\r\n      <g style=\"fill:#262626;\" transform=\"translate(15.558281 349.140547)rotate(-90)scale(0.11 -0.11)\">\r\n       <use xlink:href=\"#Tahoma-3618\"/>\r\n      </g>\r\n     </g>\r\n    </g>\r\n    <g id=\"ytick_6\">\r\n     <g id=\"text_21\">\r\n      <!-- บ -->\r\n      <g style=\"fill:#262626;\" transform=\"translate(15.558281 304.399141)rotate(-90)scale(0.11 -0.11)\">\r\n       <use xlink:href=\"#Tahoma-3610\"/>\r\n      </g>\r\n     </g>\r\n    </g>\r\n    <g id=\"ytick_7\">\r\n     <g id=\"text_22\">\r\n      <!-- บ -->\r\n      <g style=\"fill:#262626;\" transform=\"translate(15.558281 259.099141)rotate(-90)scale(0.11 -0.11)\">\r\n       <use xlink:href=\"#Tahoma-3610\"/>\r\n      </g>\r\n     </g>\r\n    </g>\r\n    <g id=\"ytick_8\">\r\n     <g id=\"text_23\">\r\n      <!-- ล -->\r\n      <g style=\"fill:#262626;\" transform=\"translate(15.558281 213.649609)rotate(-90)scale(0.11 -0.11)\">\r\n       <use xlink:href=\"#Tahoma-3621\"/>\r\n      </g>\r\n     </g>\r\n    </g>\r\n    <g id=\"ytick_9\">\r\n     <g id=\"text_24\">\r\n      <!-- ล -->\r\n      <g style=\"fill:#262626;\" transform=\"translate(15.558281 168.349609)rotate(-90)scale(0.11 -0.11)\">\r\n       <use xlink:href=\"#Tahoma-3621\"/>\r\n      </g>\r\n     </g>\r\n    </g>\r\n    <g id=\"ytick_10\">\r\n     <g id=\"text_25\">\r\n      <!-- โ -->\r\n      <g style=\"fill:#262626;\" transform=\"translate(15.558281 121.684922)rotate(-90)scale(0.11 -0.11)\">\r\n       <use xlink:href=\"#Tahoma-3650\"/>\r\n      </g>\r\n     </g>\r\n    </g>\r\n    <g id=\"ytick_11\">\r\n     <g id=\"text_26\">\r\n      <!-- า -->\r\n      <g style=\"fill:#262626;\" transform=\"translate(15.558281 76.304141)rotate(-90)scale(0.11 -0.11)\">\r\n       <use xlink:href=\"#Tahoma-3634\"/>\r\n      </g>\r\n     </g>\r\n    </g>\r\n    <g id=\"ytick_12\">\r\n     <g id=\"text_27\">\r\n      <!-- น -->\r\n      <g style=\"fill:#262626;\" transform=\"translate(15.558281 32.401484)rotate(-90)scale(0.11 -0.11)\">\r\n       <use xlink:href=\"#Tahoma-3609\"/>\r\n      </g>\r\n     </g>\r\n    </g>\r\n   </g>\r\n   <g id=\"QuadMesh_1\">\r\n    <path clip-path=\"url(#p5637b80a75)\" d=\"M 27.272031 550.8 \r\nL 83.072031 550.8 \r\nL 83.072031 505.5 \r\nL 27.272031 505.5 \r\nL 27.272031 550.8 \r\n\" style=\"fill:#c41753;\"/>\r\n    <path clip-path=\"url(#p5637b80a75)\" d=\"M 83.072031 550.8 \r\nL 138.872031 550.8 \r\nL 138.872031 505.5 \r\nL 83.072031 505.5 \r\nL 83.072031 550.8 \r\n\" style=\"fill:#2e1739;\"/>\r\n    <path clip-path=\"url(#p5637b80a75)\" d=\"M 138.872031 550.8 \r\nL 194.672031 550.8 \r\nL 194.672031 505.5 \r\nL 138.872031 505.5 \r\nL 138.872031 550.8 \r\n\" style=\"fill:#691f55;\"/>\r\n    <path clip-path=\"url(#p5637b80a75)\" d=\"M 194.672031 550.8 \r\nL 250.472031 550.8 \r\nL 250.472031 505.5 \r\nL 194.672031 505.5 \r\nL 194.672031 550.8 \r\n\" style=\"fill:#241432;\"/>\r\n    <path clip-path=\"url(#p5637b80a75)\" d=\"M 250.472031 550.8 \r\nL 306.272031 550.8 \r\nL 306.272031 505.5 \r\nL 250.472031 505.5 \r\nL 250.472031 550.8 \r\n\" style=\"fill:#0e0b22;\"/>\r\n    <path clip-path=\"url(#p5637b80a75)\" d=\"M 306.272031 550.8 \r\nL 362.072031 550.8 \r\nL 362.072031 505.5 \r\nL 306.272031 505.5 \r\nL 306.272031 550.8 \r\n\" style=\"fill:#04051a;\"/>\r\n    <path clip-path=\"url(#p5637b80a75)\" d=\"M 362.072031 550.8 \r\nL 417.872031 550.8 \r\nL 417.872031 505.5 \r\nL 362.072031 505.5 \r\nL 362.072031 550.8 \r\n\" style=\"fill:#03051a;\"/>\r\n    <path clip-path=\"url(#p5637b80a75)\" d=\"M 417.872031 550.8 \r\nL 473.672031 550.8 \r\nL 473.672031 505.5 \r\nL 417.872031 505.5 \r\nL 417.872031 550.8 \r\n\" style=\"fill:#03051a;\"/>\r\n    <path clip-path=\"url(#p5637b80a75)\" d=\"M 473.672031 550.8 \r\nL 529.472031 550.8 \r\nL 529.472031 505.5 \r\nL 473.672031 505.5 \r\nL 473.672031 550.8 \r\n\" style=\"fill:#03051a;\"/>\r\n    <path clip-path=\"url(#p5637b80a75)\" d=\"M 529.472031 550.8 \r\nL 585.272031 550.8 \r\nL 585.272031 505.5 \r\nL 529.472031 505.5 \r\nL 529.472031 550.8 \r\n\" style=\"fill:#03051a;\"/>\r\n    <path clip-path=\"url(#p5637b80a75)\" d=\"M 585.272031 550.8 \r\nL 641.072031 550.8 \r\nL 641.072031 505.5 \r\nL 585.272031 505.5 \r\nL 585.272031 550.8 \r\n\" style=\"fill:#03051a;\"/>\r\n    <path clip-path=\"url(#p5637b80a75)\" d=\"M 641.072031 550.8 \r\nL 696.872031 550.8 \r\nL 696.872031 505.5 \r\nL 641.072031 505.5 \r\nL 641.072031 550.8 \r\n\" style=\"fill:#03051a;\"/>\r\n    <path clip-path=\"url(#p5637b80a75)\" d=\"M 696.872031 550.8 \r\nL 752.672031 550.8 \r\nL 752.672031 505.5 \r\nL 696.872031 505.5 \r\nL 696.872031 550.8 \r\n\" style=\"fill:#03051a;\"/>\r\n    <path clip-path=\"url(#p5637b80a75)\" d=\"M 752.672031 550.8 \r\nL 808.472031 550.8 \r\nL 808.472031 505.5 \r\nL 752.672031 505.5 \r\nL 752.672031 550.8 \r\n\" style=\"fill:#03051a;\"/>\r\n    <path clip-path=\"url(#p5637b80a75)\" d=\"M 808.472031 550.8 \r\nL 864.272031 550.8 \r\nL 864.272031 505.5 \r\nL 808.472031 505.5 \r\nL 808.472031 550.8 \r\n\" style=\"fill:#03051a;\"/>\r\n    <path clip-path=\"url(#p5637b80a75)\" d=\"M 864.272031 550.8 \r\nL 920.072031 550.8 \r\nL 920.072031 505.5 \r\nL 864.272031 505.5 \r\nL 864.272031 550.8 \r\n\" style=\"fill:#03051a;\"/>\r\n    <path clip-path=\"url(#p5637b80a75)\" d=\"M 27.272031 505.5 \r\nL 83.072031 505.5 \r\nL 83.072031 460.2 \r\nL 27.272031 460.2 \r\nL 27.272031 505.5 \r\n\" style=\"fill:#e03143;\"/>\r\n    <path clip-path=\"url(#p5637b80a75)\" d=\"M 83.072031 505.5 \r\nL 138.872031 505.5 \r\nL 138.872031 460.2 \r\nL 83.072031 460.2 \r\nL 83.072031 505.5 \r\n\" style=\"fill:#531e4d;\"/>\r\n    <path clip-path=\"url(#p5637b80a75)\" d=\"M 138.872031 505.5 \r\nL 194.672031 505.5 \r\nL 194.672031 460.2 \r\nL 138.872031 460.2 \r\nL 138.872031 505.5 \r\n\" style=\"fill:#481c48;\"/>\r\n    <path clip-path=\"url(#p5637b80a75)\" d=\"M 194.672031 505.5 \r\nL 250.472031 505.5 \r\nL 250.472031 460.2 \r\nL 194.672031 460.2 \r\nL 194.672031 505.5 \r\n\" style=\"fill:#0e0b22;\"/>\r\n    <path clip-path=\"url(#p5637b80a75)\" d=\"M 250.472031 505.5 \r\nL 306.272031 505.5 \r\nL 306.272031 460.2 \r\nL 250.472031 460.2 \r\nL 250.472031 505.5 \r\n\" style=\"fill:#03051a;\"/>\r\n    <path clip-path=\"url(#p5637b80a75)\" d=\"M 306.272031 505.5 \r\nL 362.072031 505.5 \r\nL 362.072031 460.2 \r\nL 306.272031 460.2 \r\nL 306.272031 505.5 \r\n\" style=\"fill:#03051a;\"/>\r\n    <path clip-path=\"url(#p5637b80a75)\" d=\"M 362.072031 505.5 \r\nL 417.872031 505.5 \r\nL 417.872031 460.2 \r\nL 362.072031 460.2 \r\nL 362.072031 505.5 \r\n\" style=\"fill:#03051a;\"/>\r\n    <path clip-path=\"url(#p5637b80a75)\" d=\"M 417.872031 505.5 \r\nL 473.672031 505.5 \r\nL 473.672031 460.2 \r\nL 417.872031 460.2 \r\nL 417.872031 505.5 \r\n\" style=\"fill:#03051a;\"/>\r\n    <path clip-path=\"url(#p5637b80a75)\" d=\"M 473.672031 505.5 \r\nL 529.472031 505.5 \r\nL 529.472031 460.2 \r\nL 473.672031 460.2 \r\nL 473.672031 505.5 \r\n\" style=\"fill:#03051a;\"/>\r\n    <path clip-path=\"url(#p5637b80a75)\" d=\"M 529.472031 505.5 \r\nL 585.272031 505.5 \r\nL 585.272031 460.2 \r\nL 529.472031 460.2 \r\nL 529.472031 505.5 \r\n\" style=\"fill:#04051a;\"/>\r\n    <path clip-path=\"url(#p5637b80a75)\" d=\"M 585.272031 505.5 \r\nL 641.072031 505.5 \r\nL 641.072031 460.2 \r\nL 585.272031 460.2 \r\nL 585.272031 505.5 \r\n\" style=\"fill:#03051a;\"/>\r\n    <path clip-path=\"url(#p5637b80a75)\" d=\"M 641.072031 505.5 \r\nL 696.872031 505.5 \r\nL 696.872031 460.2 \r\nL 641.072031 460.2 \r\nL 641.072031 505.5 \r\n\" style=\"fill:#03051a;\"/>\r\n    <path clip-path=\"url(#p5637b80a75)\" d=\"M 696.872031 505.5 \r\nL 752.672031 505.5 \r\nL 752.672031 460.2 \r\nL 696.872031 460.2 \r\nL 696.872031 505.5 \r\n\" style=\"fill:#03051a;\"/>\r\n    <path clip-path=\"url(#p5637b80a75)\" d=\"M 752.672031 505.5 \r\nL 808.472031 505.5 \r\nL 808.472031 460.2 \r\nL 752.672031 460.2 \r\nL 752.672031 505.5 \r\n\" style=\"fill:#03051a;\"/>\r\n    <path clip-path=\"url(#p5637b80a75)\" d=\"M 808.472031 505.5 \r\nL 864.272031 505.5 \r\nL 864.272031 460.2 \r\nL 808.472031 460.2 \r\nL 808.472031 505.5 \r\n\" style=\"fill:#03051a;\"/>\r\n    <path clip-path=\"url(#p5637b80a75)\" d=\"M 864.272031 505.5 \r\nL 920.072031 505.5 \r\nL 920.072031 460.2 \r\nL 864.272031 460.2 \r\nL 864.272031 505.5 \r\n\" style=\"fill:#03051a;\"/>\r\n    <path clip-path=\"url(#p5637b80a75)\" d=\"M 27.272031 460.2 \r\nL 83.072031 460.2 \r\nL 83.072031 414.9 \r\nL 27.272031 414.9 \r\nL 27.272031 460.2 \r\n\" style=\"fill:#e13342;\"/>\r\n    <path clip-path=\"url(#p5637b80a75)\" d=\"M 83.072031 460.2 \r\nL 138.872031 460.2 \r\nL 138.872031 414.9 \r\nL 83.072031 414.9 \r\nL 83.072031 460.2 \r\n\" style=\"fill:#761f58;\"/>\r\n    <path clip-path=\"url(#p5637b80a75)\" d=\"M 138.872031 460.2 \r\nL 194.672031 460.2 \r\nL 194.672031 414.9 \r\nL 138.872031 414.9 \r\nL 138.872031 460.2 \r\n\" style=\"fill:#33183c;\"/>\r\n    <path clip-path=\"url(#p5637b80a75)\" d=\"M 194.672031 460.2 \r\nL 250.472031 460.2 \r\nL 250.472031 414.9 \r\nL 194.672031 414.9 \r\nL 194.672031 460.2 \r\n\" style=\"fill:#04051a;\"/>\r\n    <path clip-path=\"url(#p5637b80a75)\" d=\"M 250.472031 460.2 \r\nL 306.272031 460.2 \r\nL 306.272031 414.9 \r\nL 250.472031 414.9 \r\nL 250.472031 460.2 \r\n\" style=\"fill:#03051a;\"/>\r\n    <path clip-path=\"url(#p5637b80a75)\" d=\"M 306.272031 460.2 \r\nL 362.072031 460.2 \r\nL 362.072031 414.9 \r\nL 306.272031 414.9 \r\nL 306.272031 460.2 \r\n\" style=\"fill:#03051a;\"/>\r\n    <path clip-path=\"url(#p5637b80a75)\" d=\"M 362.072031 460.2 \r\nL 417.872031 460.2 \r\nL 417.872031 414.9 \r\nL 362.072031 414.9 \r\nL 362.072031 460.2 \r\n\" style=\"fill:#03051a;\"/>\r\n    <path clip-path=\"url(#p5637b80a75)\" d=\"M 417.872031 460.2 \r\nL 473.672031 460.2 \r\nL 473.672031 414.9 \r\nL 417.872031 414.9 \r\nL 417.872031 460.2 \r\n\" style=\"fill:#03051a;\"/>\r\n    <path clip-path=\"url(#p5637b80a75)\" d=\"M 473.672031 460.2 \r\nL 529.472031 460.2 \r\nL 529.472031 414.9 \r\nL 473.672031 414.9 \r\nL 473.672031 460.2 \r\n\" style=\"fill:#03051a;\"/>\r\n    <path clip-path=\"url(#p5637b80a75)\" d=\"M 529.472031 460.2 \r\nL 585.272031 460.2 \r\nL 585.272031 414.9 \r\nL 529.472031 414.9 \r\nL 529.472031 460.2 \r\n\" style=\"fill:#03051a;\"/>\r\n    <path clip-path=\"url(#p5637b80a75)\" d=\"M 585.272031 460.2 \r\nL 641.072031 460.2 \r\nL 641.072031 414.9 \r\nL 585.272031 414.9 \r\nL 585.272031 460.2 \r\n\" style=\"fill:#03051a;\"/>\r\n    <path clip-path=\"url(#p5637b80a75)\" d=\"M 641.072031 460.2 \r\nL 696.872031 460.2 \r\nL 696.872031 414.9 \r\nL 641.072031 414.9 \r\nL 641.072031 460.2 \r\n\" style=\"fill:#03051a;\"/>\r\n    <path clip-path=\"url(#p5637b80a75)\" d=\"M 696.872031 460.2 \r\nL 752.672031 460.2 \r\nL 752.672031 414.9 \r\nL 696.872031 414.9 \r\nL 696.872031 460.2 \r\n\" style=\"fill:#03051a;\"/>\r\n    <path clip-path=\"url(#p5637b80a75)\" d=\"M 752.672031 460.2 \r\nL 808.472031 460.2 \r\nL 808.472031 414.9 \r\nL 752.672031 414.9 \r\nL 752.672031 460.2 \r\n\" style=\"fill:#03051a;\"/>\r\n    <path clip-path=\"url(#p5637b80a75)\" d=\"M 808.472031 460.2 \r\nL 864.272031 460.2 \r\nL 864.272031 414.9 \r\nL 808.472031 414.9 \r\nL 808.472031 460.2 \r\n\" style=\"fill:#03051a;\"/>\r\n    <path clip-path=\"url(#p5637b80a75)\" d=\"M 864.272031 460.2 \r\nL 920.072031 460.2 \r\nL 920.072031 414.9 \r\nL 864.272031 414.9 \r\nL 864.272031 460.2 \r\n\" style=\"fill:#03051a;\"/>\r\n    <path clip-path=\"url(#p5637b80a75)\" d=\"M 27.272031 414.9 \r\nL 83.072031 414.9 \r\nL 83.072031 369.6 \r\nL 27.272031 369.6 \r\nL 27.272031 414.9 \r\n\" style=\"fill:#cf1e4d;\"/>\r\n    <path clip-path=\"url(#p5637b80a75)\" d=\"M 83.072031 414.9 \r\nL 138.872031 414.9 \r\nL 138.872031 369.6 \r\nL 83.072031 369.6 \r\nL 83.072031 414.9 \r\n\" style=\"fill:#6d1f56;\"/>\r\n    <path clip-path=\"url(#p5637b80a75)\" d=\"M 138.872031 414.9 \r\nL 194.672031 414.9 \r\nL 194.672031 369.6 \r\nL 138.872031 369.6 \r\nL 138.872031 414.9 \r\n\" style=\"fill:#561e4f;\"/>\r\n    <path clip-path=\"url(#p5637b80a75)\" d=\"M 194.672031 414.9 \r\nL 250.472031 414.9 \r\nL 250.472031 369.6 \r\nL 194.672031 369.6 \r\nL 194.672031 414.9 \r\n\" style=\"fill:#04051a;\"/>\r\n    <path clip-path=\"url(#p5637b80a75)\" d=\"M 250.472031 414.9 \r\nL 306.272031 414.9 \r\nL 306.272031 369.6 \r\nL 250.472031 369.6 \r\nL 250.472031 414.9 \r\n\" style=\"fill:#03051a;\"/>\r\n    <path clip-path=\"url(#p5637b80a75)\" d=\"M 306.272031 414.9 \r\nL 362.072031 414.9 \r\nL 362.072031 369.6 \r\nL 306.272031 369.6 \r\nL 306.272031 414.9 \r\n\" style=\"fill:#03051a;\"/>\r\n    <path clip-path=\"url(#p5637b80a75)\" d=\"M 362.072031 414.9 \r\nL 417.872031 414.9 \r\nL 417.872031 369.6 \r\nL 362.072031 369.6 \r\nL 362.072031 414.9 \r\n\" style=\"fill:#03051a;\"/>\r\n    <path clip-path=\"url(#p5637b80a75)\" d=\"M 417.872031 414.9 \r\nL 473.672031 414.9 \r\nL 473.672031 369.6 \r\nL 417.872031 369.6 \r\nL 417.872031 414.9 \r\n\" style=\"fill:#03051a;\"/>\r\n    <path clip-path=\"url(#p5637b80a75)\" d=\"M 473.672031 414.9 \r\nL 529.472031 414.9 \r\nL 529.472031 369.6 \r\nL 473.672031 369.6 \r\nL 473.672031 414.9 \r\n\" style=\"fill:#03051a;\"/>\r\n    <path clip-path=\"url(#p5637b80a75)\" d=\"M 529.472031 414.9 \r\nL 585.272031 414.9 \r\nL 585.272031 369.6 \r\nL 529.472031 369.6 \r\nL 529.472031 414.9 \r\n\" style=\"fill:#03051a;\"/>\r\n    <path clip-path=\"url(#p5637b80a75)\" d=\"M 585.272031 414.9 \r\nL 641.072031 414.9 \r\nL 641.072031 369.6 \r\nL 585.272031 369.6 \r\nL 585.272031 414.9 \r\n\" style=\"fill:#03051a;\"/>\r\n    <path clip-path=\"url(#p5637b80a75)\" d=\"M 641.072031 414.9 \r\nL 696.872031 414.9 \r\nL 696.872031 369.6 \r\nL 641.072031 369.6 \r\nL 641.072031 414.9 \r\n\" style=\"fill:#03051a;\"/>\r\n    <path clip-path=\"url(#p5637b80a75)\" d=\"M 696.872031 414.9 \r\nL 752.672031 414.9 \r\nL 752.672031 369.6 \r\nL 696.872031 369.6 \r\nL 696.872031 414.9 \r\n\" style=\"fill:#03051a;\"/>\r\n    <path clip-path=\"url(#p5637b80a75)\" d=\"M 752.672031 414.9 \r\nL 808.472031 414.9 \r\nL 808.472031 369.6 \r\nL 752.672031 369.6 \r\nL 752.672031 414.9 \r\n\" style=\"fill:#03051a;\"/>\r\n    <path clip-path=\"url(#p5637b80a75)\" d=\"M 808.472031 414.9 \r\nL 864.272031 414.9 \r\nL 864.272031 369.6 \r\nL 808.472031 369.6 \r\nL 808.472031 414.9 \r\n\" style=\"fill:#03051a;\"/>\r\n    <path clip-path=\"url(#p5637b80a75)\" d=\"M 864.272031 414.9 \r\nL 920.072031 414.9 \r\nL 920.072031 369.6 \r\nL 864.272031 369.6 \r\nL 864.272031 414.9 \r\n\" style=\"fill:#03051a;\"/>\r\n    <path clip-path=\"url(#p5637b80a75)\" d=\"M 27.272031 369.6 \r\nL 83.072031 369.6 \r\nL 83.072031 324.3 \r\nL 27.272031 324.3 \r\nL 27.272031 369.6 \r\n\" style=\"fill:#f4845d;\"/>\r\n    <path clip-path=\"url(#p5637b80a75)\" d=\"M 83.072031 369.6 \r\nL 138.872031 369.6 \r\nL 138.872031 324.3 \r\nL 83.072031 324.3 \r\nL 83.072031 369.6 \r\n\" style=\"fill:#3c1a42;\"/>\r\n    <path clip-path=\"url(#p5637b80a75)\" d=\"M 138.872031 369.6 \r\nL 194.672031 369.6 \r\nL 194.672031 324.3 \r\nL 138.872031 324.3 \r\nL 138.872031 369.6 \r\n\" style=\"fill:#2b1637;\"/>\r\n    <path clip-path=\"url(#p5637b80a75)\" d=\"M 194.672031 369.6 \r\nL 250.472031 369.6 \r\nL 250.472031 324.3 \r\nL 194.672031 324.3 \r\nL 194.672031 369.6 \r\n\" style=\"fill:#04051a;\"/>\r\n    <path clip-path=\"url(#p5637b80a75)\" d=\"M 250.472031 369.6 \r\nL 306.272031 369.6 \r\nL 306.272031 324.3 \r\nL 250.472031 324.3 \r\nL 250.472031 369.6 \r\n\" style=\"fill:#03051a;\"/>\r\n    <path clip-path=\"url(#p5637b80a75)\" d=\"M 306.272031 369.6 \r\nL 362.072031 369.6 \r\nL 362.072031 324.3 \r\nL 306.272031 324.3 \r\nL 306.272031 369.6 \r\n\" style=\"fill:#03051a;\"/>\r\n    <path clip-path=\"url(#p5637b80a75)\" d=\"M 362.072031 369.6 \r\nL 417.872031 369.6 \r\nL 417.872031 324.3 \r\nL 362.072031 324.3 \r\nL 362.072031 369.6 \r\n\" style=\"fill:#03051a;\"/>\r\n    <path clip-path=\"url(#p5637b80a75)\" d=\"M 417.872031 369.6 \r\nL 473.672031 369.6 \r\nL 473.672031 324.3 \r\nL 417.872031 324.3 \r\nL 417.872031 369.6 \r\n\" style=\"fill:#03051a;\"/>\r\n    <path clip-path=\"url(#p5637b80a75)\" d=\"M 473.672031 369.6 \r\nL 529.472031 369.6 \r\nL 529.472031 324.3 \r\nL 473.672031 324.3 \r\nL 473.672031 369.6 \r\n\" style=\"fill:#03051a;\"/>\r\n    <path clip-path=\"url(#p5637b80a75)\" d=\"M 529.472031 369.6 \r\nL 585.272031 369.6 \r\nL 585.272031 324.3 \r\nL 529.472031 324.3 \r\nL 529.472031 369.6 \r\n\" style=\"fill:#03051a;\"/>\r\n    <path clip-path=\"url(#p5637b80a75)\" d=\"M 585.272031 369.6 \r\nL 641.072031 369.6 \r\nL 641.072031 324.3 \r\nL 585.272031 324.3 \r\nL 585.272031 369.6 \r\n\" style=\"fill:#03051a;\"/>\r\n    <path clip-path=\"url(#p5637b80a75)\" d=\"M 641.072031 369.6 \r\nL 696.872031 369.6 \r\nL 696.872031 324.3 \r\nL 641.072031 324.3 \r\nL 641.072031 369.6 \r\n\" style=\"fill:#03051a;\"/>\r\n    <path clip-path=\"url(#p5637b80a75)\" d=\"M 696.872031 369.6 \r\nL 752.672031 369.6 \r\nL 752.672031 324.3 \r\nL 696.872031 324.3 \r\nL 696.872031 369.6 \r\n\" style=\"fill:#03051a;\"/>\r\n    <path clip-path=\"url(#p5637b80a75)\" d=\"M 752.672031 369.6 \r\nL 808.472031 369.6 \r\nL 808.472031 324.3 \r\nL 752.672031 324.3 \r\nL 752.672031 369.6 \r\n\" style=\"fill:#03051a;\"/>\r\n    <path clip-path=\"url(#p5637b80a75)\" d=\"M 808.472031 369.6 \r\nL 864.272031 369.6 \r\nL 864.272031 324.3 \r\nL 808.472031 324.3 \r\nL 808.472031 369.6 \r\n\" style=\"fill:#03051a;\"/>\r\n    <path clip-path=\"url(#p5637b80a75)\" d=\"M 864.272031 369.6 \r\nL 920.072031 369.6 \r\nL 920.072031 324.3 \r\nL 864.272031 324.3 \r\nL 864.272031 369.6 \r\n\" style=\"fill:#03051a;\"/>\r\n    <path clip-path=\"url(#p5637b80a75)\" d=\"M 27.272031 324.3 \r\nL 83.072031 324.3 \r\nL 83.072031 279 \r\nL 27.272031 279 \r\nL 27.272031 324.3 \r\n\" style=\"fill:#f8d7c0;\"/>\r\n    <path clip-path=\"url(#p5637b80a75)\" d=\"M 83.072031 324.3 \r\nL 138.872031 324.3 \r\nL 138.872031 279 \r\nL 83.072031 279 \r\nL 83.072031 324.3 \r\n\" style=\"fill:#130d25;\"/>\r\n    <path clip-path=\"url(#p5637b80a75)\" d=\"M 138.872031 324.3 \r\nL 194.672031 324.3 \r\nL 194.672031 279 \r\nL 138.872031 279 \r\nL 138.872031 324.3 \r\n\" style=\"fill:#07071d;\"/>\r\n    <path clip-path=\"url(#p5637b80a75)\" d=\"M 194.672031 324.3 \r\nL 250.472031 324.3 \r\nL 250.472031 279 \r\nL 194.672031 279 \r\nL 194.672031 324.3 \r\n\" style=\"fill:#03051a;\"/>\r\n    <path clip-path=\"url(#p5637b80a75)\" d=\"M 250.472031 324.3 \r\nL 306.272031 324.3 \r\nL 306.272031 279 \r\nL 250.472031 279 \r\nL 250.472031 324.3 \r\n\" style=\"fill:#03051a;\"/>\r\n    <path clip-path=\"url(#p5637b80a75)\" d=\"M 306.272031 324.3 \r\nL 362.072031 324.3 \r\nL 362.072031 279 \r\nL 306.272031 279 \r\nL 306.272031 324.3 \r\n\" style=\"fill:#03051a;\"/>\r\n    <path clip-path=\"url(#p5637b80a75)\" d=\"M 362.072031 324.3 \r\nL 417.872031 324.3 \r\nL 417.872031 279 \r\nL 362.072031 279 \r\nL 362.072031 324.3 \r\n\" style=\"fill:#03051a;\"/>\r\n    <path clip-path=\"url(#p5637b80a75)\" d=\"M 417.872031 324.3 \r\nL 473.672031 324.3 \r\nL 473.672031 279 \r\nL 417.872031 279 \r\nL 417.872031 324.3 \r\n\" style=\"fill:#03051a;\"/>\r\n    <path clip-path=\"url(#p5637b80a75)\" d=\"M 473.672031 324.3 \r\nL 529.472031 324.3 \r\nL 529.472031 279 \r\nL 473.672031 279 \r\nL 473.672031 324.3 \r\n\" style=\"fill:#03051a;\"/>\r\n    <path clip-path=\"url(#p5637b80a75)\" d=\"M 529.472031 324.3 \r\nL 585.272031 324.3 \r\nL 585.272031 279 \r\nL 529.472031 279 \r\nL 529.472031 324.3 \r\n\" style=\"fill:#03051a;\"/>\r\n    <path clip-path=\"url(#p5637b80a75)\" d=\"M 585.272031 324.3 \r\nL 641.072031 324.3 \r\nL 641.072031 279 \r\nL 585.272031 279 \r\nL 585.272031 324.3 \r\n\" style=\"fill:#03051a;\"/>\r\n    <path clip-path=\"url(#p5637b80a75)\" d=\"M 641.072031 324.3 \r\nL 696.872031 324.3 \r\nL 696.872031 279 \r\nL 641.072031 279 \r\nL 641.072031 324.3 \r\n\" style=\"fill:#03051a;\"/>\r\n    <path clip-path=\"url(#p5637b80a75)\" d=\"M 696.872031 324.3 \r\nL 752.672031 324.3 \r\nL 752.672031 279 \r\nL 696.872031 279 \r\nL 696.872031 324.3 \r\n\" style=\"fill:#03051a;\"/>\r\n    <path clip-path=\"url(#p5637b80a75)\" d=\"M 752.672031 324.3 \r\nL 808.472031 324.3 \r\nL 808.472031 279 \r\nL 752.672031 279 \r\nL 752.672031 324.3 \r\n\" style=\"fill:#03051a;\"/>\r\n    <path clip-path=\"url(#p5637b80a75)\" d=\"M 808.472031 324.3 \r\nL 864.272031 324.3 \r\nL 864.272031 279 \r\nL 808.472031 279 \r\nL 808.472031 324.3 \r\n\" style=\"fill:#03051a;\"/>\r\n    <path clip-path=\"url(#p5637b80a75)\" d=\"M 864.272031 324.3 \r\nL 920.072031 324.3 \r\nL 920.072031 279 \r\nL 864.272031 279 \r\nL 864.272031 324.3 \r\n\" style=\"fill:#03051a;\"/>\r\n    <path clip-path=\"url(#p5637b80a75)\" d=\"M 27.272031 279 \r\nL 83.072031 279 \r\nL 83.072031 233.7 \r\nL 27.272031 233.7 \r\nL 27.272031 279 \r\n\" style=\"fill:#fae6d6;\"/>\r\n    <path clip-path=\"url(#p5637b80a75)\" d=\"M 83.072031 279 \r\nL 138.872031 279 \r\nL 138.872031 233.7 \r\nL 83.072031 233.7 \r\nL 83.072031 279 \r\n\" style=\"fill:#0a091f;\"/>\r\n    <path clip-path=\"url(#p5637b80a75)\" d=\"M 138.872031 279 \r\nL 194.672031 279 \r\nL 194.672031 233.7 \r\nL 138.872031 233.7 \r\nL 138.872031 279 \r\n\" style=\"fill:#04051a;\"/>\r\n    <path clip-path=\"url(#p5637b80a75)\" d=\"M 194.672031 279 \r\nL 250.472031 279 \r\nL 250.472031 233.7 \r\nL 194.672031 233.7 \r\nL 194.672031 279 \r\n\" style=\"fill:#03051a;\"/>\r\n    <path clip-path=\"url(#p5637b80a75)\" d=\"M 250.472031 279 \r\nL 306.272031 279 \r\nL 306.272031 233.7 \r\nL 250.472031 233.7 \r\nL 250.472031 279 \r\n\" style=\"fill:#03051a;\"/>\r\n    <path clip-path=\"url(#p5637b80a75)\" d=\"M 306.272031 279 \r\nL 362.072031 279 \r\nL 362.072031 233.7 \r\nL 306.272031 233.7 \r\nL 306.272031 279 \r\n\" style=\"fill:#03051a;\"/>\r\n    <path clip-path=\"url(#p5637b80a75)\" d=\"M 362.072031 279 \r\nL 417.872031 279 \r\nL 417.872031 233.7 \r\nL 362.072031 233.7 \r\nL 362.072031 279 \r\n\" style=\"fill:#03051a;\"/>\r\n    <path clip-path=\"url(#p5637b80a75)\" d=\"M 417.872031 279 \r\nL 473.672031 279 \r\nL 473.672031 233.7 \r\nL 417.872031 233.7 \r\nL 417.872031 279 \r\n\" style=\"fill:#03051a;\"/>\r\n    <path clip-path=\"url(#p5637b80a75)\" d=\"M 473.672031 279 \r\nL 529.472031 279 \r\nL 529.472031 233.7 \r\nL 473.672031 233.7 \r\nL 473.672031 279 \r\n\" style=\"fill:#03051a;\"/>\r\n    <path clip-path=\"url(#p5637b80a75)\" d=\"M 529.472031 279 \r\nL 585.272031 279 \r\nL 585.272031 233.7 \r\nL 529.472031 233.7 \r\nL 529.472031 279 \r\n\" style=\"fill:#03051a;\"/>\r\n    <path clip-path=\"url(#p5637b80a75)\" d=\"M 585.272031 279 \r\nL 641.072031 279 \r\nL 641.072031 233.7 \r\nL 585.272031 233.7 \r\nL 585.272031 279 \r\n\" style=\"fill:#03051a;\"/>\r\n    <path clip-path=\"url(#p5637b80a75)\" d=\"M 641.072031 279 \r\nL 696.872031 279 \r\nL 696.872031 233.7 \r\nL 641.072031 233.7 \r\nL 641.072031 279 \r\n\" style=\"fill:#03051a;\"/>\r\n    <path clip-path=\"url(#p5637b80a75)\" d=\"M 696.872031 279 \r\nL 752.672031 279 \r\nL 752.672031 233.7 \r\nL 696.872031 233.7 \r\nL 696.872031 279 \r\n\" style=\"fill:#03051a;\"/>\r\n    <path clip-path=\"url(#p5637b80a75)\" d=\"M 752.672031 279 \r\nL 808.472031 279 \r\nL 808.472031 233.7 \r\nL 752.672031 233.7 \r\nL 752.672031 279 \r\n\" style=\"fill:#03051a;\"/>\r\n    <path clip-path=\"url(#p5637b80a75)\" d=\"M 808.472031 279 \r\nL 864.272031 279 \r\nL 864.272031 233.7 \r\nL 808.472031 233.7 \r\nL 808.472031 279 \r\n\" style=\"fill:#03051a;\"/>\r\n    <path clip-path=\"url(#p5637b80a75)\" d=\"M 864.272031 279 \r\nL 920.072031 279 \r\nL 920.072031 233.7 \r\nL 864.272031 233.7 \r\nL 864.272031 279 \r\n\" style=\"fill:#03051a;\"/>\r\n    <path clip-path=\"url(#p5637b80a75)\" d=\"M 27.272031 233.7 \r\nL 83.072031 233.7 \r\nL 83.072031 188.4 \r\nL 27.272031 188.4 \r\nL 27.272031 233.7 \r\n\" style=\"fill:#faebdd;\"/>\r\n    <path clip-path=\"url(#p5637b80a75)\" d=\"M 83.072031 233.7 \r\nL 138.872031 233.7 \r\nL 138.872031 188.4 \r\nL 83.072031 188.4 \r\nL 83.072031 233.7 \r\n\" style=\"fill:#07071d;\"/>\r\n    <path clip-path=\"url(#p5637b80a75)\" d=\"M 138.872031 233.7 \r\nL 194.672031 233.7 \r\nL 194.672031 188.4 \r\nL 138.872031 188.4 \r\nL 138.872031 233.7 \r\n\" style=\"fill:#03051a;\"/>\r\n    <path clip-path=\"url(#p5637b80a75)\" d=\"M 194.672031 233.7 \r\nL 250.472031 233.7 \r\nL 250.472031 188.4 \r\nL 194.672031 188.4 \r\nL 194.672031 233.7 \r\n\" style=\"fill:#03051a;\"/>\r\n    <path clip-path=\"url(#p5637b80a75)\" d=\"M 250.472031 233.7 \r\nL 306.272031 233.7 \r\nL 306.272031 188.4 \r\nL 250.472031 188.4 \r\nL 250.472031 233.7 \r\n\" style=\"fill:#03051a;\"/>\r\n    <path clip-path=\"url(#p5637b80a75)\" d=\"M 306.272031 233.7 \r\nL 362.072031 233.7 \r\nL 362.072031 188.4 \r\nL 306.272031 188.4 \r\nL 306.272031 233.7 \r\n\" style=\"fill:#03051a;\"/>\r\n    <path clip-path=\"url(#p5637b80a75)\" d=\"M 362.072031 233.7 \r\nL 417.872031 233.7 \r\nL 417.872031 188.4 \r\nL 362.072031 188.4 \r\nL 362.072031 233.7 \r\n\" style=\"fill:#03051a;\"/>\r\n    <path clip-path=\"url(#p5637b80a75)\" d=\"M 417.872031 233.7 \r\nL 473.672031 233.7 \r\nL 473.672031 188.4 \r\nL 417.872031 188.4 \r\nL 417.872031 233.7 \r\n\" style=\"fill:#03051a;\"/>\r\n    <path clip-path=\"url(#p5637b80a75)\" d=\"M 473.672031 233.7 \r\nL 529.472031 233.7 \r\nL 529.472031 188.4 \r\nL 473.672031 188.4 \r\nL 473.672031 233.7 \r\n\" style=\"fill:#03051a;\"/>\r\n    <path clip-path=\"url(#p5637b80a75)\" d=\"M 529.472031 233.7 \r\nL 585.272031 233.7 \r\nL 585.272031 188.4 \r\nL 529.472031 188.4 \r\nL 529.472031 233.7 \r\n\" style=\"fill:#03051a;\"/>\r\n    <path clip-path=\"url(#p5637b80a75)\" d=\"M 585.272031 233.7 \r\nL 641.072031 233.7 \r\nL 641.072031 188.4 \r\nL 585.272031 188.4 \r\nL 585.272031 233.7 \r\n\" style=\"fill:#03051a;\"/>\r\n    <path clip-path=\"url(#p5637b80a75)\" d=\"M 641.072031 233.7 \r\nL 696.872031 233.7 \r\nL 696.872031 188.4 \r\nL 641.072031 188.4 \r\nL 641.072031 233.7 \r\n\" style=\"fill:#03051a;\"/>\r\n    <path clip-path=\"url(#p5637b80a75)\" d=\"M 696.872031 233.7 \r\nL 752.672031 233.7 \r\nL 752.672031 188.4 \r\nL 696.872031 188.4 \r\nL 696.872031 233.7 \r\n\" style=\"fill:#03051a;\"/>\r\n    <path clip-path=\"url(#p5637b80a75)\" d=\"M 752.672031 233.7 \r\nL 808.472031 233.7 \r\nL 808.472031 188.4 \r\nL 752.672031 188.4 \r\nL 752.672031 233.7 \r\n\" style=\"fill:#03051a;\"/>\r\n    <path clip-path=\"url(#p5637b80a75)\" d=\"M 808.472031 233.7 \r\nL 864.272031 233.7 \r\nL 864.272031 188.4 \r\nL 808.472031 188.4 \r\nL 808.472031 233.7 \r\n\" style=\"fill:#03051a;\"/>\r\n    <path clip-path=\"url(#p5637b80a75)\" d=\"M 864.272031 233.7 \r\nL 920.072031 233.7 \r\nL 920.072031 188.4 \r\nL 864.272031 188.4 \r\nL 864.272031 233.7 \r\n\" style=\"fill:#03051a;\"/>\r\n    <path clip-path=\"url(#p5637b80a75)\" d=\"M 27.272031 188.4 \r\nL 83.072031 188.4 \r\nL 83.072031 143.1 \r\nL 27.272031 143.1 \r\nL 27.272031 188.4 \r\n\" style=\"fill:#f9dfcb;\"/>\r\n    <path clip-path=\"url(#p5637b80a75)\" d=\"M 83.072031 188.4 \r\nL 138.872031 188.4 \r\nL 138.872031 143.1 \r\nL 83.072031 143.1 \r\nL 83.072031 188.4 \r\n\" style=\"fill:#08081e;\"/>\r\n    <path clip-path=\"url(#p5637b80a75)\" d=\"M 138.872031 188.4 \r\nL 194.672031 188.4 \r\nL 194.672031 143.1 \r\nL 138.872031 143.1 \r\nL 138.872031 188.4 \r\n\" style=\"fill:#03051a;\"/>\r\n    <path clip-path=\"url(#p5637b80a75)\" d=\"M 194.672031 188.4 \r\nL 250.472031 188.4 \r\nL 250.472031 143.1 \r\nL 194.672031 143.1 \r\nL 194.672031 188.4 \r\n\" style=\"fill:#03051a;\"/>\r\n    <path clip-path=\"url(#p5637b80a75)\" d=\"M 250.472031 188.4 \r\nL 306.272031 188.4 \r\nL 306.272031 143.1 \r\nL 250.472031 143.1 \r\nL 250.472031 188.4 \r\n\" style=\"fill:#03051a;\"/>\r\n    <path clip-path=\"url(#p5637b80a75)\" d=\"M 306.272031 188.4 \r\nL 362.072031 188.4 \r\nL 362.072031 143.1 \r\nL 306.272031 143.1 \r\nL 306.272031 188.4 \r\n\" style=\"fill:#03051a;\"/>\r\n    <path clip-path=\"url(#p5637b80a75)\" d=\"M 362.072031 188.4 \r\nL 417.872031 188.4 \r\nL 417.872031 143.1 \r\nL 362.072031 143.1 \r\nL 362.072031 188.4 \r\n\" style=\"fill:#03051a;\"/>\r\n    <path clip-path=\"url(#p5637b80a75)\" d=\"M 417.872031 188.4 \r\nL 473.672031 188.4 \r\nL 473.672031 143.1 \r\nL 417.872031 143.1 \r\nL 417.872031 188.4 \r\n\" style=\"fill:#03051a;\"/>\r\n    <path clip-path=\"url(#p5637b80a75)\" d=\"M 473.672031 188.4 \r\nL 529.472031 188.4 \r\nL 529.472031 143.1 \r\nL 473.672031 143.1 \r\nL 473.672031 188.4 \r\n\" style=\"fill:#03051a;\"/>\r\n    <path clip-path=\"url(#p5637b80a75)\" d=\"M 529.472031 188.4 \r\nL 585.272031 188.4 \r\nL 585.272031 143.1 \r\nL 529.472031 143.1 \r\nL 529.472031 188.4 \r\n\" style=\"fill:#03051a;\"/>\r\n    <path clip-path=\"url(#p5637b80a75)\" d=\"M 585.272031 188.4 \r\nL 641.072031 188.4 \r\nL 641.072031 143.1 \r\nL 585.272031 143.1 \r\nL 585.272031 188.4 \r\n\" style=\"fill:#05061b;\"/>\r\n    <path clip-path=\"url(#p5637b80a75)\" d=\"M 641.072031 188.4 \r\nL 696.872031 188.4 \r\nL 696.872031 143.1 \r\nL 641.072031 143.1 \r\nL 641.072031 188.4 \r\n\" style=\"fill:#06071c;\"/>\r\n    <path clip-path=\"url(#p5637b80a75)\" d=\"M 696.872031 188.4 \r\nL 752.672031 188.4 \r\nL 752.672031 143.1 \r\nL 696.872031 143.1 \r\nL 696.872031 188.4 \r\n\" style=\"fill:#03051a;\"/>\r\n    <path clip-path=\"url(#p5637b80a75)\" d=\"M 752.672031 188.4 \r\nL 808.472031 188.4 \r\nL 808.472031 143.1 \r\nL 752.672031 143.1 \r\nL 752.672031 188.4 \r\n\" style=\"fill:#03051a;\"/>\r\n    <path clip-path=\"url(#p5637b80a75)\" d=\"M 808.472031 188.4 \r\nL 864.272031 188.4 \r\nL 864.272031 143.1 \r\nL 808.472031 143.1 \r\nL 808.472031 188.4 \r\n\" style=\"fill:#03051a;\"/>\r\n    <path clip-path=\"url(#p5637b80a75)\" d=\"M 864.272031 188.4 \r\nL 920.072031 188.4 \r\nL 920.072031 143.1 \r\nL 864.272031 143.1 \r\nL 864.272031 188.4 \r\n\" style=\"fill:#03051a;\"/>\r\n    <path clip-path=\"url(#p5637b80a75)\" d=\"M 27.272031 143.1 \r\nL 83.072031 143.1 \r\nL 83.072031 97.8 \r\nL 27.272031 97.8 \r\nL 27.272031 143.1 \r\n\" style=\"fill:#f58b63;\"/>\r\n    <path clip-path=\"url(#p5637b80a75)\" d=\"M 83.072031 143.1 \r\nL 138.872031 143.1 \r\nL 138.872031 97.8 \r\nL 83.072031 97.8 \r\nL 83.072031 143.1 \r\n\" style=\"fill:#2e1739;\"/>\r\n    <path clip-path=\"url(#p5637b80a75)\" d=\"M 138.872031 143.1 \r\nL 194.672031 143.1 \r\nL 194.672031 97.8 \r\nL 138.872031 97.8 \r\nL 138.872031 143.1 \r\n\" style=\"fill:#06071c;\"/>\r\n    <path clip-path=\"url(#p5637b80a75)\" d=\"M 194.672031 143.1 \r\nL 250.472031 143.1 \r\nL 250.472031 97.8 \r\nL 194.672031 97.8 \r\nL 194.672031 143.1 \r\n\" style=\"fill:#06071c;\"/>\r\n    <path clip-path=\"url(#p5637b80a75)\" d=\"M 250.472031 143.1 \r\nL 306.272031 143.1 \r\nL 306.272031 97.8 \r\nL 250.472031 97.8 \r\nL 250.472031 143.1 \r\n\" style=\"fill:#04051a;\"/>\r\n    <path clip-path=\"url(#p5637b80a75)\" d=\"M 306.272031 143.1 \r\nL 362.072031 143.1 \r\nL 362.072031 97.8 \r\nL 306.272031 97.8 \r\nL 306.272031 143.1 \r\n\" style=\"fill:#08081e;\"/>\r\n    <path clip-path=\"url(#p5637b80a75)\" d=\"M 362.072031 143.1 \r\nL 417.872031 143.1 \r\nL 417.872031 97.8 \r\nL 362.072031 97.8 \r\nL 362.072031 143.1 \r\n\" style=\"fill:#04051a;\"/>\r\n    <path clip-path=\"url(#p5637b80a75)\" d=\"M 417.872031 143.1 \r\nL 473.672031 143.1 \r\nL 473.672031 97.8 \r\nL 417.872031 97.8 \r\nL 417.872031 143.1 \r\n\" style=\"fill:#03051a;\"/>\r\n    <path clip-path=\"url(#p5637b80a75)\" d=\"M 473.672031 143.1 \r\nL 529.472031 143.1 \r\nL 529.472031 97.8 \r\nL 473.672031 97.8 \r\nL 473.672031 143.1 \r\n\" style=\"fill:#03051a;\"/>\r\n    <path clip-path=\"url(#p5637b80a75)\" d=\"M 529.472031 143.1 \r\nL 585.272031 143.1 \r\nL 585.272031 97.8 \r\nL 529.472031 97.8 \r\nL 529.472031 143.1 \r\n\" style=\"fill:#03051a;\"/>\r\n    <path clip-path=\"url(#p5637b80a75)\" d=\"M 585.272031 143.1 \r\nL 641.072031 143.1 \r\nL 641.072031 97.8 \r\nL 585.272031 97.8 \r\nL 585.272031 143.1 \r\n\" style=\"fill:#100b23;\"/>\r\n    <path clip-path=\"url(#p5637b80a75)\" d=\"M 641.072031 143.1 \r\nL 696.872031 143.1 \r\nL 696.872031 97.8 \r\nL 641.072031 97.8 \r\nL 641.072031 143.1 \r\n\" style=\"fill:#0b0920;\"/>\r\n    <path clip-path=\"url(#p5637b80a75)\" d=\"M 696.872031 143.1 \r\nL 752.672031 143.1 \r\nL 752.672031 97.8 \r\nL 696.872031 97.8 \r\nL 696.872031 143.1 \r\n\" style=\"fill:#03051a;\"/>\r\n    <path clip-path=\"url(#p5637b80a75)\" d=\"M 752.672031 143.1 \r\nL 808.472031 143.1 \r\nL 808.472031 97.8 \r\nL 752.672031 97.8 \r\nL 752.672031 143.1 \r\n\" style=\"fill:#03051a;\"/>\r\n    <path clip-path=\"url(#p5637b80a75)\" d=\"M 808.472031 143.1 \r\nL 864.272031 143.1 \r\nL 864.272031 97.8 \r\nL 808.472031 97.8 \r\nL 808.472031 143.1 \r\n\" style=\"fill:#03051a;\"/>\r\n    <path clip-path=\"url(#p5637b80a75)\" d=\"M 864.272031 143.1 \r\nL 920.072031 143.1 \r\nL 920.072031 97.8 \r\nL 864.272031 97.8 \r\nL 864.272031 143.1 \r\n\" style=\"fill:#03051a;\"/>\r\n    <path clip-path=\"url(#p5637b80a75)\" d=\"M 27.272031 97.8 \r\nL 83.072031 97.8 \r\nL 83.072031 52.5 \r\nL 27.272031 52.5 \r\nL 27.272031 97.8 \r\n\" style=\"fill:#e53940;\"/>\r\n    <path clip-path=\"url(#p5637b80a75)\" d=\"M 83.072031 97.8 \r\nL 138.872031 97.8 \r\nL 138.872031 52.5 \r\nL 83.072031 52.5 \r\nL 83.072031 97.8 \r\n\" style=\"fill:#2a1636;\"/>\r\n    <path clip-path=\"url(#p5637b80a75)\" d=\"M 138.872031 97.8 \r\nL 194.672031 97.8 \r\nL 194.672031 52.5 \r\nL 138.872031 52.5 \r\nL 138.872031 97.8 \r\n\" style=\"fill:#05061b;\"/>\r\n    <path clip-path=\"url(#p5637b80a75)\" d=\"M 194.672031 97.8 \r\nL 250.472031 97.8 \r\nL 250.472031 52.5 \r\nL 194.672031 52.5 \r\nL 194.672031 97.8 \r\n\" style=\"fill:#05061b;\"/>\r\n    <path clip-path=\"url(#p5637b80a75)\" d=\"M 250.472031 97.8 \r\nL 306.272031 97.8 \r\nL 306.272031 52.5 \r\nL 250.472031 52.5 \r\nL 250.472031 97.8 \r\n\" style=\"fill:#03051a;\"/>\r\n    <path clip-path=\"url(#p5637b80a75)\" d=\"M 306.272031 97.8 \r\nL 362.072031 97.8 \r\nL 362.072031 52.5 \r\nL 306.272031 52.5 \r\nL 306.272031 97.8 \r\n\" style=\"fill:#100b23;\"/>\r\n    <path clip-path=\"url(#p5637b80a75)\" d=\"M 362.072031 97.8 \r\nL 417.872031 97.8 \r\nL 417.872031 52.5 \r\nL 362.072031 52.5 \r\nL 362.072031 97.8 \r\n\" style=\"fill:#06071c;\"/>\r\n    <path clip-path=\"url(#p5637b80a75)\" d=\"M 417.872031 97.8 \r\nL 473.672031 97.8 \r\nL 473.672031 52.5 \r\nL 417.872031 52.5 \r\nL 417.872031 97.8 \r\n\" style=\"fill:#03051a;\"/>\r\n    <path clip-path=\"url(#p5637b80a75)\" d=\"M 473.672031 97.8 \r\nL 529.472031 97.8 \r\nL 529.472031 52.5 \r\nL 473.672031 52.5 \r\nL 473.672031 97.8 \r\n\" style=\"fill:#03051a;\"/>\r\n    <path clip-path=\"url(#p5637b80a75)\" d=\"M 529.472031 97.8 \r\nL 585.272031 97.8 \r\nL 585.272031 52.5 \r\nL 529.472031 52.5 \r\nL 529.472031 97.8 \r\n\" style=\"fill:#04051a;\"/>\r\n    <path clip-path=\"url(#p5637b80a75)\" d=\"M 585.272031 97.8 \r\nL 641.072031 97.8 \r\nL 641.072031 52.5 \r\nL 585.272031 52.5 \r\nL 585.272031 97.8 \r\n\" style=\"fill:#130d25;\"/>\r\n    <path clip-path=\"url(#p5637b80a75)\" d=\"M 641.072031 97.8 \r\nL 696.872031 97.8 \r\nL 696.872031 52.5 \r\nL 641.072031 52.5 \r\nL 641.072031 97.8 \r\n\" style=\"fill:#35193e;\"/>\r\n    <path clip-path=\"url(#p5637b80a75)\" d=\"M 696.872031 97.8 \r\nL 752.672031 97.8 \r\nL 752.672031 52.5 \r\nL 696.872031 52.5 \r\nL 696.872031 97.8 \r\n\" style=\"fill:#05061b;\"/>\r\n    <path clip-path=\"url(#p5637b80a75)\" d=\"M 752.672031 97.8 \r\nL 808.472031 97.8 \r\nL 808.472031 52.5 \r\nL 752.672031 52.5 \r\nL 752.672031 97.8 \r\n\" style=\"fill:#03051a;\"/>\r\n    <path clip-path=\"url(#p5637b80a75)\" d=\"M 808.472031 97.8 \r\nL 864.272031 97.8 \r\nL 864.272031 52.5 \r\nL 808.472031 52.5 \r\nL 808.472031 97.8 \r\n\" style=\"fill:#03051a;\"/>\r\n    <path clip-path=\"url(#p5637b80a75)\" d=\"M 864.272031 97.8 \r\nL 920.072031 97.8 \r\nL 920.072031 52.5 \r\nL 864.272031 52.5 \r\nL 864.272031 97.8 \r\n\" style=\"fill:#03051a;\"/>\r\n    <path clip-path=\"url(#p5637b80a75)\" d=\"M 27.272031 52.5 \r\nL 83.072031 52.5 \r\nL 83.072031 7.2 \r\nL 27.272031 7.2 \r\nL 27.272031 52.5 \r\n\" style=\"fill:#891e5b;\"/>\r\n    <path clip-path=\"url(#p5637b80a75)\" d=\"M 83.072031 52.5 \r\nL 138.872031 52.5 \r\nL 138.872031 7.2 \r\nL 83.072031 7.2 \r\nL 83.072031 52.5 \r\n\" style=\"fill:#110c24;\"/>\r\n    <path clip-path=\"url(#p5637b80a75)\" d=\"M 138.872031 52.5 \r\nL 194.672031 52.5 \r\nL 194.672031 7.2 \r\nL 138.872031 7.2 \r\nL 138.872031 52.5 \r\n\" style=\"fill:#03051a;\"/>\r\n    <path clip-path=\"url(#p5637b80a75)\" d=\"M 194.672031 52.5 \r\nL 250.472031 52.5 \r\nL 250.472031 7.2 \r\nL 194.672031 7.2 \r\nL 194.672031 52.5 \r\n\" style=\"fill:#03051a;\"/>\r\n    <path clip-path=\"url(#p5637b80a75)\" d=\"M 250.472031 52.5 \r\nL 306.272031 52.5 \r\nL 306.272031 7.2 \r\nL 250.472031 7.2 \r\nL 250.472031 52.5 \r\n\" style=\"fill:#03051a;\"/>\r\n    <path clip-path=\"url(#p5637b80a75)\" d=\"M 306.272031 52.5 \r\nL 362.072031 52.5 \r\nL 362.072031 7.2 \r\nL 306.272031 7.2 \r\nL 306.272031 52.5 \r\n\" style=\"fill:#04051a;\"/>\r\n    <path clip-path=\"url(#p5637b80a75)\" d=\"M 362.072031 52.5 \r\nL 417.872031 52.5 \r\nL 417.872031 7.2 \r\nL 362.072031 7.2 \r\nL 362.072031 52.5 \r\n\" style=\"fill:#04051a;\"/>\r\n    <path clip-path=\"url(#p5637b80a75)\" d=\"M 417.872031 52.5 \r\nL 473.672031 52.5 \r\nL 473.672031 7.2 \r\nL 417.872031 7.2 \r\nL 417.872031 52.5 \r\n\" style=\"fill:#03051a;\"/>\r\n    <path clip-path=\"url(#p5637b80a75)\" d=\"M 473.672031 52.5 \r\nL 529.472031 52.5 \r\nL 529.472031 7.2 \r\nL 473.672031 7.2 \r\nL 473.672031 52.5 \r\n\" style=\"fill:#04051a;\"/>\r\n    <path clip-path=\"url(#p5637b80a75)\" d=\"M 529.472031 52.5 \r\nL 585.272031 52.5 \r\nL 585.272031 7.2 \r\nL 529.472031 7.2 \r\nL 529.472031 52.5 \r\n\" style=\"fill:#04051a;\"/>\r\n    <path clip-path=\"url(#p5637b80a75)\" d=\"M 585.272031 52.5 \r\nL 641.072031 52.5 \r\nL 641.072031 7.2 \r\nL 585.272031 7.2 \r\nL 585.272031 52.5 \r\n\" style=\"fill:#03051a;\"/>\r\n    <path clip-path=\"url(#p5637b80a75)\" d=\"M 641.072031 52.5 \r\nL 696.872031 52.5 \r\nL 696.872031 7.2 \r\nL 641.072031 7.2 \r\nL 641.072031 52.5 \r\n\" style=\"fill:#130d25;\"/>\r\n    <path clip-path=\"url(#p5637b80a75)\" d=\"M 696.872031 52.5 \r\nL 752.672031 52.5 \r\nL 752.672031 7.2 \r\nL 696.872031 7.2 \r\nL 696.872031 52.5 \r\n\" style=\"fill:#761f58;\"/>\r\n    <path clip-path=\"url(#p5637b80a75)\" d=\"M 752.672031 52.5 \r\nL 808.472031 52.5 \r\nL 808.472031 7.2 \r\nL 752.672031 7.2 \r\nL 752.672031 52.5 \r\n\" style=\"fill:#110c24;\"/>\r\n    <path clip-path=\"url(#p5637b80a75)\" d=\"M 808.472031 52.5 \r\nL 864.272031 52.5 \r\nL 864.272031 7.2 \r\nL 808.472031 7.2 \r\nL 808.472031 52.5 \r\n\" style=\"fill:#0d0a21;\"/>\r\n    <path clip-path=\"url(#p5637b80a75)\" d=\"M 864.272031 52.5 \r\nL 920.072031 52.5 \r\nL 920.072031 7.2 \r\nL 864.272031 7.2 \r\nL 864.272031 52.5 \r\n\" style=\"fill:#06071c;\"/>\r\n   </g>\r\n  </g>\r\n  <g id=\"axes_2\">\r\n   <g id=\"patch_3\">\r\n    <path clip-path=\"url(#p37ad7ae479)\" d=\"M 975.872031 550.8 \r\nL 975.872031 548.676562 \r\nL 975.872031 9.323437 \r\nL 975.872031 7.2 \r\nL 1003.052031 7.2 \r\nL 1003.052031 9.323437 \r\nL 1003.052031 548.676562 \r\nL 1003.052031 550.8 \r\nz\r\n\" style=\"fill:#eaeaf2;stroke:#eaeaf2;stroke-linejoin:miter;stroke-width:0.01;\"/>\r\n   </g>\r\n   <g id=\"matplotlib.axis_3\"/>\r\n   <g id=\"matplotlib.axis_4\">\r\n    <g id=\"ytick_13\">\r\n     <g id=\"line2d_1\">\r\n      <defs>\r\n       <path d=\"M 0 0 \r\nL 6 0 \r\n\" id=\"m3e98f16133\" style=\"stroke:#262626;stroke-width:1.25;\"/>\r\n      </defs>\r\n      <g>\r\n       <use style=\"fill:#262626;stroke:#262626;stroke-width:1.25;\" x=\"1003.052031\" xlink:href=\"#m3e98f16133\" y=\"439.770907\"/>\r\n      </g>\r\n     </g>\r\n     <g id=\"text_28\">\r\n      <!-- 0.2 -->\r\n      <defs>\r\n       <path d=\"M 50.53125 36.375 \r\nQ 50.53125 16.796875 44.84375 7.640625 \r\nQ 39.15625 -1.515625 27.296875 -1.515625 \r\nQ 15.28125 -1.515625 9.65625 7.8125 \r\nQ 4.046875 17.140625 4.046875 36.28125 \r\nQ 4.046875 55.953125 9.734375 65.0625 \r\nQ 15.4375 74.171875 27.296875 74.171875 \r\nQ 39.3125 74.171875 44.921875 64.75 \r\nQ 50.53125 55.328125 50.53125 36.375 \r\nz\r\nM 38.03125 14.203125 \r\nQ 39.453125 17.828125 40.03125 23.34375 \r\nQ 40.625 28.859375 40.625 36.375 \r\nQ 40.625 43.84375 40.03125 49.359375 \r\nQ 39.453125 54.890625 37.984375 58.546875 \r\nQ 36.53125 62.25 33.953125 64.171875 \r\nQ 31.390625 66.109375 27.296875 66.109375 \r\nQ 23.25 66.109375 20.625 64.171875 \r\nQ 18.015625 62.25 16.5 58.453125 \r\nQ 15.046875 54.734375 14.5 49.0625 \r\nQ 13.96875 43.40625 13.96875 36.28125 \r\nQ 13.96875 28.65625 14.421875 23.53125 \r\nQ 14.890625 18.40625 16.453125 14.359375 \r\nQ 17.875 10.59375 20.484375 8.5625 \r\nQ 23.09375 6.546875 27.296875 6.546875 \r\nQ 31.34375 6.546875 33.953125 8.46875 \r\nQ 36.578125 10.40625 38.03125 14.203125 \r\nz\r\n\" id=\"Tahoma-48\"/>\r\n       <path d=\"M 20.953125 0 \r\nL 9.28125 0 \r\nL 9.28125 13.921875 \r\nL 20.953125 13.921875 \r\nz\r\n\" id=\"Tahoma-46\"/>\r\n       <path d=\"M 50.203125 0 \r\nL 5.328125 0 \r\nL 5.328125 10.203125 \r\nQ 10.15625 14.796875 14.453125 18.984375 \r\nQ 18.75 23.1875 22.859375 27.734375 \r\nQ 31.15625 36.859375 34.171875 42.359375 \r\nQ 37.203125 47.859375 37.203125 53.71875 \r\nQ 37.203125 56.734375 36.25 59.03125 \r\nQ 35.296875 61.328125 33.640625 62.84375 \r\nQ 31.9375 64.3125 29.6875 65.03125 \r\nQ 27.4375 65.765625 24.75 65.765625 \r\nQ 22.171875 65.765625 19.5 65.109375 \r\nQ 16.84375 64.453125 14.40625 63.484375 \r\nQ 12.359375 62.640625 10.453125 61.46875 \r\nQ 8.546875 60.296875 7.375 59.46875 \r\nL 6.84375 59.46875 \r\nL 6.84375 69.828125 \r\nQ 9.859375 71.34375 15.25 72.78125 \r\nQ 20.65625 74.21875 25.484375 74.21875 \r\nQ 35.640625 74.21875 41.40625 68.8125 \r\nQ 47.171875 63.421875 47.171875 54.203125 \r\nQ 47.171875 49.953125 46.171875 46.328125 \r\nQ 45.171875 42.71875 43.40625 39.65625 \r\nQ 41.609375 36.46875 39.0625 33.34375 \r\nQ 36.53125 30.21875 33.6875 27.203125 \r\nQ 29.109375 22.21875 23.46875 16.84375 \r\nQ 17.828125 11.46875 14.453125 8.34375 \r\nL 50.203125 8.34375 \r\nz\r\n\" id=\"Tahoma-50\"/>\r\n      </defs>\r\n      <g style=\"fill:#262626;\" transform=\"translate(1012.552031 443.950047)scale(0.11 -0.11)\">\r\n       <use xlink:href=\"#Tahoma-48\"/>\r\n       <use x=\"54.589844\" xlink:href=\"#Tahoma-46\"/>\r\n       <use x=\"84.863281\" xlink:href=\"#Tahoma-50\"/>\r\n      </g>\r\n     </g>\r\n    </g>\r\n    <g id=\"ytick_14\">\r\n     <g id=\"line2d_2\">\r\n      <g>\r\n       <use style=\"fill:#262626;stroke:#262626;stroke-width:1.25;\" x=\"1003.052031\" xlink:href=\"#m3e98f16133\" y=\"328.741813\"/>\r\n      </g>\r\n     </g>\r\n     <g id=\"text_29\">\r\n      <!-- 0.4 -->\r\n      <defs>\r\n       <path d=\"M 52.09375 25 \r\nL 43.453125 25 \r\nL 43.453125 0 \r\nL 34.078125 0 \r\nL 34.078125 25 \r\nL 1.953125 25 \r\nL 1.953125 35.25 \r\nL 34.46875 72.703125 \r\nL 43.453125 72.703125 \r\nL 43.453125 32.8125 \r\nL 52.09375 32.8125 \r\nz\r\nM 34.078125 32.8125 \r\nL 34.078125 61.234375 \r\nL 9.578125 32.8125 \r\nz\r\n\" id=\"Tahoma-52\"/>\r\n      </defs>\r\n      <g style=\"fill:#262626;\" transform=\"translate(1012.552031 332.920954)scale(0.11 -0.11)\">\r\n       <use xlink:href=\"#Tahoma-48\"/>\r\n       <use x=\"54.589844\" xlink:href=\"#Tahoma-46\"/>\r\n       <use x=\"84.863281\" xlink:href=\"#Tahoma-52\"/>\r\n      </g>\r\n     </g>\r\n    </g>\r\n    <g id=\"ytick_15\">\r\n     <g id=\"line2d_3\">\r\n      <g>\r\n       <use style=\"fill:#262626;stroke:#262626;stroke-width:1.25;\" x=\"1003.052031\" xlink:href=\"#m3e98f16133\" y=\"217.71272\"/>\r\n      </g>\r\n     </g>\r\n     <g id=\"text_30\">\r\n      <!-- 0.6 -->\r\n      <defs>\r\n       <path d=\"M 51.3125 23.578125 \r\nQ 51.3125 17.96875 49.453125 13.234375 \r\nQ 47.609375 8.5 44.484375 5.328125 \r\nQ 41.21875 1.953125 37.15625 0.21875 \r\nQ 33.109375 -1.515625 28.21875 -1.515625 \r\nQ 23.296875 -1.515625 19.265625 0.140625 \r\nQ 15.234375 1.8125 12.15625 5.078125 \r\nQ 8.40625 9.03125 6.28125 15.640625 \r\nQ 4.15625 22.265625 4.15625 31.9375 \r\nQ 4.15625 41.40625 6.109375 49.046875 \r\nQ 8.0625 56.6875 12.109375 62.359375 \r\nQ 16.0625 67.875 22.3125 70.96875 \r\nQ 28.5625 74.078125 36.765625 74.078125 \r\nQ 39.203125 74.078125 41.296875 73.828125 \r\nQ 43.40625 73.578125 45.015625 73.046875 \r\nL 45.015625 63.71875 \r\nL 44.578125 63.71875 \r\nQ 43.265625 64.453125 40.765625 65.0625 \r\nQ 38.28125 65.671875 35.453125 65.671875 \r\nQ 26.375 65.671875 20.78125 59.546875 \r\nQ 15.1875 53.421875 14.15625 41.359375 \r\nQ 17.625 43.796875 21.28125 45.109375 \r\nQ 24.953125 46.4375 29.296875 46.4375 \r\nQ 33.546875 46.4375 36.734375 45.578125 \r\nQ 39.9375 44.734375 43.40625 42.140625 \r\nQ 47.40625 39.109375 49.359375 34.46875 \r\nQ 51.3125 29.828125 51.3125 23.578125 \r\nz\r\nM 41.40625 23.1875 \r\nQ 41.40625 27.6875 40.234375 30.703125 \r\nQ 39.0625 33.734375 36.421875 35.890625 \r\nQ 34.515625 37.453125 32.09375 37.9375 \r\nQ 29.6875 38.421875 27.15625 38.421875 \r\nQ 23.734375 38.421875 20.5 37.390625 \r\nQ 17.28125 36.375 14.15625 34.421875 \r\nQ 14.0625 33.34375 14.015625 32.34375 \r\nQ 13.96875 31.34375 13.96875 29.828125 \r\nQ 13.96875 22.265625 15.453125 17.625 \r\nQ 16.9375 12.984375 19.140625 10.59375 \r\nQ 21.234375 8.296875 23.453125 7.375 \r\nQ 25.6875 6.453125 28.265625 6.453125 \r\nQ 34.125 6.453125 37.765625 10.640625 \r\nQ 41.40625 14.84375 41.40625 23.1875 \r\nz\r\n\" id=\"Tahoma-54\"/>\r\n      </defs>\r\n      <g style=\"fill:#262626;\" transform=\"translate(1012.552031 221.89186)scale(0.11 -0.11)\">\r\n       <use xlink:href=\"#Tahoma-48\"/>\r\n       <use x=\"54.589844\" xlink:href=\"#Tahoma-46\"/>\r\n       <use x=\"84.863281\" xlink:href=\"#Tahoma-54\"/>\r\n      </g>\r\n     </g>\r\n    </g>\r\n    <g id=\"ytick_16\">\r\n     <g id=\"line2d_4\">\r\n      <g>\r\n       <use style=\"fill:#262626;stroke:#262626;stroke-width:1.25;\" x=\"1003.052031\" xlink:href=\"#m3e98f16133\" y=\"106.683626\"/>\r\n      </g>\r\n     </g>\r\n     <g id=\"text_31\">\r\n      <!-- 0.8 -->\r\n      <defs>\r\n       <path d=\"M 39.59375 55.765625 \r\nQ 39.59375 60.640625 36.328125 63.90625 \r\nQ 33.0625 67.1875 27.25 67.1875 \r\nQ 21.921875 67.1875 18.53125 64.25 \r\nQ 15.140625 61.328125 15.140625 56.34375 \r\nQ 15.140625 52.734375 16.875 50.234375 \r\nQ 18.609375 47.75 22.078125 45.75 \r\nQ 23.578125 44.921875 26.671875 43.453125 \r\nQ 29.78125 42 32.328125 41.15625 \r\nQ 36.578125 44.4375 38.078125 47.875 \r\nQ 39.59375 51.3125 39.59375 55.765625 \r\nz\r\nM 40.96875 19.34375 \r\nQ 40.96875 23.828125 39.203125 26.46875 \r\nQ 37.453125 29.109375 32.421875 31.84375 \r\nQ 30.765625 32.765625 28 33.828125 \r\nQ 25.25 34.90625 21.78125 36.375 \r\nQ 17.71875 33.6875 15.5625 29.75 \r\nQ 13.421875 25.828125 13.421875 20.796875 \r\nQ 13.421875 14.203125 17.40625 9.90625 \r\nQ 21.390625 5.609375 27.390625 5.609375 \r\nQ 33.546875 5.609375 37.25 9.296875 \r\nQ 40.96875 12.984375 40.96875 19.34375 \r\nz\r\nM 27.296875 -1.65625 \r\nQ 21.875 -1.65625 17.421875 -0.046875 \r\nQ 12.984375 1.5625 9.859375 4.59375 \r\nQ 6.78125 7.515625 5.1875 11.546875 \r\nQ 3.609375 15.578125 3.609375 20.0625 \r\nQ 3.609375 25.984375 6.75 30.9375 \r\nQ 9.90625 35.890625 15.921875 38.8125 \r\nL 15.921875 39.109375 \r\nQ 10.546875 42.234375 7.953125 45.9375 \r\nQ 5.375 49.65625 5.375 55.21875 \r\nQ 5.375 63.421875 11.578125 68.890625 \r\nQ 17.78125 74.359375 27.296875 74.359375 \r\nQ 37.203125 74.359375 43.1875 69.15625 \r\nQ 49.171875 63.96875 49.171875 55.859375 \r\nQ 49.171875 50.984375 46.3125 46.1875 \r\nQ 43.453125 41.40625 38.09375 38.71875 \r\nL 38.09375 38.421875 \r\nQ 44.4375 35.453125 47.703125 31.203125 \r\nQ 50.984375 26.953125 50.984375 20.265625 \r\nQ 50.984375 10.9375 44.21875 4.640625 \r\nQ 37.453125 -1.65625 27.296875 -1.65625 \r\nz\r\n\" id=\"Tahoma-56\"/>\r\n      </defs>\r\n      <g style=\"fill:#262626;\" transform=\"translate(1012.552031 110.862767)scale(0.11 -0.11)\">\r\n       <use xlink:href=\"#Tahoma-48\"/>\r\n       <use x=\"54.589844\" xlink:href=\"#Tahoma-46\"/>\r\n       <use x=\"84.863281\" xlink:href=\"#Tahoma-56\"/>\r\n      </g>\r\n     </g>\r\n    </g>\r\n   </g>\r\n   <image height=\"544\" id=\"image253baf6ca8\" transform=\"scale(1 -1)translate(0 -544)\" width=\"27\" x=\"976\" xlink:href=\"data:image/png;base64,\r\niVBORw0KGgoAAAANSUhEUgAAABsAAAIgCAYAAAB09hISAAAABHNCSVQICAgIfAhkiAAAAolJREFUeJztnYtNA1EQxO7Cown67xOKwBrpWXYDq8nMfriE5P36/vl9RnxWhZ7nec47LDZW9u60pQzhvI9WmdWz7cv4sb6M4uiLPdMq+2jTKPZMq0zrWU2N4A1IZwFCaURogiDkGcJ531098VnQiiHIM4Q8Q8gzhDxDaHkidDcidOsj5BlCEwShNN5XTBwQrzLvB4a0F3ErBqEVg+D1rKZGOMtqNTWCt6nrM4TSiOCdIEUfQT2uvMp2lEYEcRp7wkPQ8kRoXCHkGUKeIbQ8EfLsvmLipm4QEzSuELzjqjQilMb7ihV9hKKPcD6z74SqzyDUfbajCXJfsaKP0IpBKI0IKUOozxDEy1Mc/WGxcfS1Te31TKxMm0btiimNCOKzwBz9XUKKPoJ4XIn77FfbZ8NipfG+Yq0YhHX0tZ4Ni6UMoTQi5Nl9xczLc3heFX0E87gavouw7jOrMu3fZ17PamoEb0DO8H+3SyNDaUQojQjeNI4DMny6WVMjqD2zKtOOqzP83a7SyOCdIK0YBG9AzMpKI0DLE0G9PHfFzMuzpgbYKntqaoCUIYiVLcvl2X3FCghCniGcd/gprzxDyDOEtTKpZ0UfoegjlEYEsWdeZdqfJBN7plW2fhl39QoIQssTYf0mQn32f1KGcF7r1C8gCI0rhE45BLNn9RlAy/O+YuKA1NQELU+E84gfbmo9EyuTprEVgyCOvvixbWkESBlCBw9CyxOhgCCYlTWuAFKG0GxEaHkiFBCEPENIGUJpRMiz+4oVEIQ8Qzjv+zUrlmcIZmVNEADz8hQHRDuIxZ5plWk96+AhKI33FSsgCJ0FCGrPrMrePAOoz+4r1iBGqKkRGsQI9RmCdzZOi/0B/FIv/zldOoIAAAAASUVORK5CYII=\" y=\"-7\"/>\r\n   <g id=\"patch_4\">\r\n    <path d=\"M 975.872031 550.8 \r\nL 975.872031 548.676562 \r\nL 975.872031 9.323437 \r\nL 975.872031 7.2 \r\nL 1003.052031 7.2 \r\nL 1003.052031 9.323437 \r\nL 1003.052031 548.676562 \r\nL 1003.052031 550.8 \r\nz\r\n\" style=\"fill:none;\"/>\r\n   </g>\r\n  </g>\r\n </g>\r\n <defs>\r\n  <clipPath id=\"p5637b80a75\">\r\n   <rect height=\"543.6\" width=\"892.8\" x=\"27.272031\" y=\"7.2\"/>\r\n  </clipPath>\r\n  <clipPath id=\"p37ad7ae479\">\r\n   <rect height=\"543.6\" width=\"27.18\" x=\"975.872031\" y=\"7.2\"/>\r\n  </clipPath>\r\n </defs>\r\n</svg>\r\n",
      "image/png": "[encoded data removed]"
     },
     "metadata": {}
    }
   ],
   "source": [
    "visualize('โรงพยาบาลพานทอง')"
   ]
  },
  {
   "cell_type": "code",
   "execution_count": null,
   "metadata": {
    "collapsed": true
   },
   "outputs": [],
   "source": []
  },
  {
   "cell_type": "code",
   "execution_count": null,
   "metadata": {
    "collapsed": true
   },
   "outputs": [],
   "source": []
  }
 ],
 "metadata": {
  "kernelspec": {
   "display_name": "Python 3",
   "language": "python",
   "name": "python3"
  },
  "language_info": {
   "codemirror_mode": {
    "name": "ipython",
    "version": 3
   },
   "file_extension": ".py",
   "mimetype": "text/x-python",
   "name": "python",
   "nbconvert_exporter": "python",
   "pygments_lexer": "ipython3",
   "version": "3.7.7-final"
  }
 },
 "nbformat": 4,
 "nbformat_minor": 2
}