{
 "cells": [
  {
   "cell_type": "code",
   "execution_count": 2,
   "metadata": {},
   "outputs": [],
   "source": [
    "import sys\n",
    "import os\n",
    "import pandas as pd\n",
    "import numpy as np\n",
    "import tensorflow as tf\n",
    "from tensorflow.keras.layers import Input, Embedding, LSTM, TimeDistributed, Dense\n",
    "from tensorflow.keras.models import Model, load_model\n",
    "from difflib import SequenceMatcher\n",
    "import pickle"
   ]
  },
  {
   "cell_type": "code",
   "execution_count": 71,
   "metadata": {},
   "outputs": [],
   "source": [
    "MODULE_DIR = os.path.dirname('__file__')\n",
    "HOSPITAL_CORPUS_PATH = os.path.join(MODULE_DIR, 'data/hospital_corpus.csv')\n",
    "HOSPITAL_NAME_PATH =  os.path.join(MODULE_DIR, 'data/hospital_name.csv')\n",
    "CHAR2INT_DICTIONARY_PATH = os.path.join(MODULE_DIR, 'dict/char2int.pickle')\n",
    "INT2CHAR_DICTIONARY_PATH = os.path.join(MODULE_DIR, 'dict/int2char.pickle')\n",
    "MODEL_PATH = os.path.join(MODULE_DIR, 'models/model_lstm_with_attention3.h5')\n",
    "#GPU = GPUConfig.text_correcting_gpu"
   ]
  },
  {
   "cell_type": "code",
   "execution_count": 72,
   "metadata": {},
   "outputs": [],
   "source": [
    "##### Import Hospital Corpus #####\n",
    "df = pd.read_csv(HOSPITAL_CORPUS_PATH)\n",
    "hospital_list = list(df['name'])\n",
    "\n",
    "df_hos = pd.read_csv(HOSPITAL_NAME_PATH)\n",
    "hos_check = list(df['name'])\n",
    "\n",
    "##### Laod Dictionaries #####\n",
    "\n",
    "file = open(CHAR2INT_DICTIONARY_PATH, 'rb')\n",
    "# dump information to that file\n",
    "char2int = pickle.load(file)\n",
    "file2 = open(INT2CHAR_DICTIONARY_PATH, 'rb')\n",
    "# dump information to that file\n",
    "int2char= pickle.load(file2)"
   ]
  },
  {
   "cell_type": "code",
   "execution_count": 73,
   "metadata": {},
   "outputs": [],
   "source": [
    "\n",
    "#### Load Model #####\n",
    "#with tf.device(GPU):\n",
    "model = load_model(MODEL_PATH,compile=False)"
   ]
  },
  {
   "cell_type": "code",
   "execution_count": 74,
   "metadata": {},
   "outputs": [],
   "source": [
    "CHAR_CODE_START = 1\n",
    "CHAR_CODE_END = 2\n",
    "CHAR_CODE_PADDING = 0\n",
    "DEFAULT_VECTOR_LENGTH = 90\n",
    "INPUT_LENGTH = 90\n",
    "OUTPUT_LENGTH = 90"
   ]
  },
  {
   "cell_type": "code",
   "execution_count": 92,
   "metadata": {},
   "outputs": [],
   "source": [
    "min_len = 1\n",
    "max_len = 78\n",
    "def similar(a, b):\n",
    "    return SequenceMatcher(None, a, b).ratio()\n",
    "\n",
    "\n",
    "def check_before_improve(text,corpus_list=hospital_list,mapdict=char2int):\n",
    "    sim_value =[]\n",
    "    for i in corpus_list:\n",
    "        sim_value.append(similar(i,text))\n",
    "    max_sim_ratio = max(sim_value)\n",
    "    text_len = len(text)+text.count(' ')\n",
    "    logic_return = None\n",
    "    \n",
    "    for char in text:\n",
    "        if not char in mapdict.keys():\n",
    "            logic_return = False\n",
    "            return logic_return\n",
    "           \n",
    "    if max_sim_ratio < 0.85 or text_len < min_len or text_len > max_len:\n",
    "        logic_return = False\n",
    "    elif text.replace(' ','') in corpus_list:\n",
    "        logic_return = False\n",
    "    else:\n",
    "        logic_return = True\n",
    "  \n",
    "    return logic_return   "
   ]
  },
  {
   "cell_type": "code",
   "execution_count": 93,
   "metadata": {},
   "outputs": [],
   "source": [
    "def transform(encoding, data, vector_size=90):\n",
    "    \"\"\"\n",
    "    :param encoding: encoding dict built by build_characters_encoding()\n",
    "    :param data: list of strings\n",
    "    :param vector_size: size of each encoded vector\n",
    "    \"\"\"\n",
    "    transformed_data = np.zeros(shape=(len(data), vector_size), dtype='int')\n",
    "    for i in range(len(data)):\n",
    "        for j in range(min(len(data[i]), vector_size)):\n",
    "            transformed_data[i][j] = encoding[data[i][j]]\n",
    "    return transformed_data"
   ]
  },
  {
   "cell_type": "code",
   "execution_count": 94,
   "metadata": {},
   "outputs": [],
   "source": [
    "def generate(text):\n",
    "    encoder_input = transform(char2int, [text])\n",
    "    decoder_input = np.zeros(shape=(len(encoder_input), OUTPUT_LENGTH))\n",
    "    decoder_input[:,0] = CHAR_CODE_START\n",
    "    for i in range(1, OUTPUT_LENGTH):\n",
    "        output = model.predict([encoder_input, decoder_input]).argmax(axis=2)\n",
    "        decoder_input[:,i] = int(output[:,i])\n",
    "    return decoder_input[:,1:]\n",
    "\n",
    "def decode(decoding, sequence):\n",
    "    text = ''\n",
    "    text_list =[]\n",
    "    for i in sequence:\n",
    "        if i == 0:\n",
    "            break\n",
    "        text += int2char[i]\n",
    "        text_list.append(int2char[i])\n",
    "    return text,text_list\n",
    "\n",
    "def generate_correct_text(text):\n",
    "    check_improve = check_before_improve(text)\n",
    "    if check_improve == False:\n",
    "        return text\n",
    "    else:\n",
    "        decoder_output = generate(text)\n",
    "        txt,lst = decode(int2char, decoder_output[0])\n",
    "        text_result = txt.strip('\\t')\n",
    "        return text_result"
   ]
  },
  {
   "cell_type": "code",
   "execution_count": 143,
   "metadata": {},
   "outputs": [],
   "source": [
    "text = 'เรงพยบาลนางรอง'"
   ]
  },
  {
   "cell_type": "code",
   "execution_count": 103,
   "metadata": {},
   "outputs": [],
   "source": [
    "import time"
   ]
  },
  {
   "cell_type": "code",
   "execution_count": 113,
   "metadata": {},
   "outputs": [
    {
     "output_type": "stream",
     "name": "stdout",
     "text": "โรงพยาบาลศรีสมเด็จ\n--- 8.723639011383057 seconds ---\n"
    }
   ],
   "source": [
    "start_time = time.time()\n",
    "print(generate_correct_text(text))\n",
    "print(\"--- %s seconds ---\" % (time.time() - start_time))"
   ]
  },
  {
   "cell_type": "code",
   "execution_count": 140,
   "metadata": {},
   "outputs": [],
   "source": [
    "import auto_correct_text"
   ]
  },
  {
   "cell_type": "code",
   "execution_count": 144,
   "metadata": {},
   "outputs": [
    {
     "output_type": "stream",
     "name": "stdout",
     "text": "โรงพยาบาลนางรอง\n--- 8.058594226837158 seconds ---\n"
    }
   ],
   "source": [
    "start_time = time.time()\n",
    "print(auto_correct_text.generate_correct_text(text))\n",
    "print(\"--- %s seconds ---\" % (time.time() - start_time))"
   ]
  },
  {
   "cell_type": "code",
   "execution_count": null,
   "metadata": {},
   "outputs": [],
   "source": []
  }
 ],
 "metadata": {
  "language_info": {
   "codemirror_mode": {
    "name": "ipython",
    "version": 3
   },
   "file_extension": ".py",
   "mimetype": "text/x-python",
   "name": "python",
   "nbconvert_exporter": "python",
   "pygments_lexer": "ipython3",
   "version": "3.7.7-final"
  },
  "orig_nbformat": 2,
  "kernelspec": {
   "name": "python3",
   "display_name": "Python 3"
  }
 },
 "nbformat": 4,
 "nbformat_minor": 2
}