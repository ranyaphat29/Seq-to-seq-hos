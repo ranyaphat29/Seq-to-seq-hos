{
 "cells": [
  {
   "cell_type": "code",
   "execution_count": 1,
   "metadata": {},
   "outputs": [],
   "source": [
    "%matplotlib inline\n",
    "import matplotlib.pyplot as plt\n",
    "import numpy as np # linear algebra\n",
    "import pandas as pd # data processing, CSV file I/O (e.g. pd.read_csv)\n",
    "import os\n",
    "import tensorflow as tf"
   ]
  },
  {
   "cell_type": "code",
   "execution_count": 2,
   "metadata": {},
   "outputs": [],
   "source": [
    "df_17 = pd.read_csv('Output/hospital_wrong17.csv')"
   ]
  },
  {
   "cell_type": "code",
   "execution_count": 3,
   "metadata": {},
   "outputs": [],
   "source": [
    "df_18 = pd.read_csv('Output/hospital_wrong18.csv')"
   ]
  },
  {
   "cell_type": "code",
   "execution_count": 7,
   "metadata": {},
   "outputs": [],
   "source": [
    "pred_test17 = list(df_17['pred_data'])\n",
    "pred_test18 = list(df_18['pred_data'])\n",
    "inp_test17 = list(df_17['gen_data'])\n",
    "inp_test18 = list(df_18['gen_data'])"
   ]
  },
  {
   "cell_type": "code",
   "execution_count": 10,
   "metadata": {},
   "outputs": [
    {
     "output_type": "stream",
     "name": "stdout",
     "text": "โรงพยาบาลดานฏุนทด\nโรงพยาบาลบางบา้\nโรงพยาบาลว้านโป่ง\nโรงพยาบาลเมื้องนารายณ์\nโรงพยาบาลยาตลาด\nโรงพยาบาลรวแ๋ทย์ชัยนาท\nโรงพยาบาเเลย\nโรงพยาบาลวังถ้ำเขีฦว\nโรงพษยาบาลสมเด็จมพระยุพราชด่านซคาย\nโรงพยาบามลสันติสุข\nโรงพยาบาลแหลฬฉบัง\nโรงพยาบาลอู่ทอ๎ง\nโรงพยาบาลโอเฬอรฮบรู๊ค\nโรงพยาบาง.วิชัยเวช\nเซ็นทรัฌลเมดิกคลินิกเวชกรรมสาขาเซนต์หตุยส์\nโรงพยาบใาลจิาเวชสระแก้วราชนครรินทร์\nโรงพยาบาลชะอว็\nโรงพยาบาลท่งใ&ญ่\nโรงพยาบาลณครคฎิสเตียน\nโรงเยาบาลนกครพนม\nโรงพยาบาลน้ำาด\nโรงพยาบาลบ้านตากก\nโรงพยาบา่ลบ้านนา2ดิม\nโรงพยาบาลปลกแดง\nโรงพยาบาลปักฒงชคย\nโรงพธยาบาลตร้อยเอ็ด\nโรงพยา8าลรัตนมาปี\nโรฏพยาบาลลาดบั7หลวง\nโรงพยาบาลคารินชำราบ\nโรงพยาบาลส-ันตสุข\nโรงพยาบาลำโรง\nโรงพยาบาลฏกาอะยาวชัยพัฒน์\nโรงพยาบาลืุมฉแสง\nโรงพยาบาลตรการพืผล\nโรงพยาบาลเนิญนยง่า\nโรงพยาบาลโลนศิลา\nโรงพยาบาลบางน้ำเร3้ยว\nโรงพยาบาล0ทุมราชวงศา\nโรงพยา4บาลิยะมินทร์\nโรงพยาบาลพรนเจริญ\nโรงพยาบาลโพนโราย\nโรงพยาบาลม่ฌไงสามสิบ\nโรงพยาบาลแม่ฉงก์\nโรงพยาบาลแม่กสะเรญียง\nโรงพยาภาลรสชบุรี\nโรงพยาบาลสจงห์บุรี\nโรงพยาบาลเทญยนส้า\nเซ็นทรลเมดิกคลินิกเวชกรรมสาขาเซธต์ห3ลคุยส์\nโรงพยาบาลชะคำ\nโรงพยาบาลคชคชัย\nโรงพยาบาลท่าลห่\nโรงพยาบาลฒระจักษ์ศิลปาม\nโรงพยิาบาล8ากท่อ\nโรงพยาบาลวซงสมบรณ์\nโรงพยผบาลสรรมยา\nโรงพยาบาลอทินเตอร์เว๋การ\nโรงพยาบลกซิงเทพคริสเตียนนครปึม\nโรงพยาบาลกะเีอร์\nโรงพยาาลเจ้าพระคา\nโรงพยาบาลไชดวาน\nโรฉพยาบาลทุ่งพหญ่\nโรงพ2ยาบาลโนนสะาาด\nโรงพยาบาล่อพลอย\nโรงพยาบาลพิจิต\nโรงพยาบาลเมือหงปาวน\nโรงพยาบาลแม่ถาย\nโรงพยาบาลลากดบวหลวง\nโรงพยาบาลสมเำด็จพระบรืราฦินีนาถ ณโอำเภอนาท1วี\nโรงพยาบาลสมเด็จพระพุทธเลญศหล้า\nโรงพยาบาลสมเด็จพระยุพราชหล่มษก่า\nโรงพยาบาลสารภส\nโรงพยาบาลฤุไหงโ)-ลก\nโรงพยาบาฟหนฑงจิก\nโรงพยาบาลอุัย\nโรงพยาบาลเอกหล\nคลินิกเวชกรรมกล้วยนิ้ไทสาขาชฅมชน70ไิร่\nเซ็นทรัลเมดิ๋กคลใินิกเวชกรรมสาขาุซนต์หลุยส์\nโรงพดาบาลกรุงเทพปมุย\nโรงพยาบาลกาญจนดิฐ์\nโรงพยาบาลขกำแพงเแชร\nโรงพยาบาลโกรพ9ะ\nโรงพยาบาลบ้านลากด\nโรงพยากบาืลบำเหน็จณรงค์\nโรงพยาบาลบึงสามพัซ\nโรงพยาบาลพยัคฆภูฏิพิสัย\nโรงพยาบาลพีรเาช\nโรงพยาบาลแพย์ังสิต\nโรงพยาบาเลเมืองบาน\nโรงพยาบาลวังณันทร์\nโรงพยาบาลวฐงน้อย\nโรงพยาบาลศปีเทพ\nโรงฦพยา8บาล3รีนคาินทร์(ปัญญานันทภิขุ)\nโรงพยาอบาลสฅนติสุข\nโรงพาบาลหนางฮี\nโรงพยาบาลองค์าศบิหารสวนจังหืัดภูเก็ต\nโรงพยาบาลลาดกนะบังเมมมเรียล\nโรงพยาบาลกำแพงแสล\nโรงมพยาบาลจิตเวชน็รรโาชสีมาราชนฬรินทร์\nโรงพยาบาลชัภูิรวมแพทย์\nโรงพยาบาลไ5ยเจรฮญ\nโรงพยาบาลนายูื\nโรงพยาบาล๋้าฑกรวด\nโรงพยาบาลบ้า้เขว้า\nโรงพยบาลพรมพิราม\nโรงพยาบาลเพชธบูรไ์\nโรงพยาบาลโพธบ์ตาก\nโรงพยาบาลภึสิงห์\nโรงพยาบาลลโำปาง\nโรงพยาบาล๎วาริชนภูมิ\nโรงพยาบาลศรีบภรพต\nโรงพยาบาลสู๊ล\nโรงพยาบาลสมเด็จพระยวุพราชล่6เก่ศ\nโรงพยาบาลสบงขะ\nโรงพยาบาลสาิยไหม\nโรงพยาบัลบาิมด 3\nคลิึิกวชกรรมกล้วยน้ำไทสาขาทุ่งส.องห้อง\nคลินิกอนเตอร์เนชั่ลแนลๆเกาะช้าง\nโรงพยาบาลกบ-นทรฒ์บุรี\nโรงพยาบาลุขันธ2\nโรง3ยาบาลด่านมไขามเี้ย\nโรงพฎาบาลบัวใหญ่รวมีพย์\nโรงพยาบาลบงระจ7ัน\nโรงพยาบาลบ้านน\nโรถพยาบาลบ้านแพว\nโรงพยาบาประฟฟักษ์ศิลปาคม\nโรงพยาบาลพสชิบูลมังาหาร\nโรงพยาบาลนภูกามยาว\nโรงพยาบาะเมกืองราช\nโรงพยาาลแ่อาย\nโรงพยาบาลยะหรล่ง\nโรงพยาบาลรวมแ9ทย์ปฤะบี่\nโรงพยาบาลส่งเสริม9สยุภขภาพ ศูนดย์อนคมัยที่ 6\nโรงพยาบาลสตจล\nโรงพยาบาลบมเด็จพระๅพุทธเลิศหล้า\nโรงพยาบาลล่าเฟือโก้ก\nโรงพยาบาลเอกชณ2\nโรงึพยาบาลจุฬารัตน93\nโรงพยาบาลเจ็ดเามียน\nโรงพยาบาลโซ่(ิสัย\nโรงพยาบาลทุ่งฝเ\nโรงพยาบาลไทรโยฝ\nโรงพยาบาลนคราแม่สอดอินเตอรม๋เนชั่นแน5\nโรงพยาบาลนาแซก\nโรงพยาบาลนแบอน\nโรงพยาบาลนำปาด\nโรงพยาบาลโนนสะ9าด\nโรงพย-าชาลบัวใหญ่รวมทพทย์\nโรงพยบาลบ้านโฮ่\nโรงพยาบาลเญจรมย์\nโรงพยาบาลพิจิต&\nโรงพยาบาสพิชัย\nโรงพยาบาลเฒย\nโรงพยาบาลสมเด-จิระำิยะมหาราชรมณีย7เขต\nโรงพยาบาลสนมเด็จ1พระพุทธเลิษศหล้า\nโรงพยาบาลไาชพิพัฒน์\nโรงพยาบาลควง\nโรงพยาบาลชาติ๎ะการ\nโรงพยาบาลเซกิ\nโรงพยาบาลท่าแลี่\nโรงพยาบาลทฐ่าวุ้้\nโรงพยาบาลนครนาย2\nโรงพยาบลนอร์ทอีสเทอร์วัฒนา\nโรงพยาบาลบ้านแโพธิ์\nโรงพยาบาลป่าตอวง\nโรงพยาบาศพิจิตร\nโรง(ยาบาุภูสิงห์\nโรงพยาบ7ลรสาชธานี\nโรงพดยาบาลิมเด็จพระบรษ5ราชเทวีณศรีราชา\nโรงพยาบาลอาจสา2าถ\nสถานพยาบํรรวมแพทยญ์ทุ่งสง\nโรงพยาบาลกู่แพก้ว\nโรงพยาบาลมควนขนุน\nโรงพยาบาลนโฝาแห้ว\nโรงพยาบาล้านนา\nโรงพยาบโาลบ้า่แพรก\nโรงพยาบาลบ้านลาผด\nโรงพยาบาลึระยืน\nโรงพยาบาลพหลพล)ธุหปเสนา\nโรงพยาบาลี่งเฉลมมพระ-เกผียรติ 80 พรรษา\nโรงพยาบาลรักึ์สกล\nโรงพยาบาลราช1วฯชเชียงใม่\nโรงพาบาลราชสาสใน\nโรงพยาบาลลาดบัวหลวี\n183\n"
    }
   ],
   "source": [
    "count = 0\n",
    "for i,val in enumerate(inp_test18):\n",
    "    if not val in inp_test17:\n",
    "        count +=1\n",
    "        print(val)\n",
    "print(count)"
   ]
  },
  {
   "cell_type": "code",
   "execution_count": 12,
   "metadata": {},
   "outputs": [],
   "source": [
    "df_train63 = pd.read_csv('../datasets/hospital_augment_train6_3.csv')"
   ]
  },
  {
   "cell_type": "code",
   "execution_count": 15,
   "metadata": {},
   "outputs": [],
   "source": [
    "train_x63 =list(df_train63['gen_data'])\n",
    "train_y63 =list(df_train63['true_data'])"
   ]
  },
  {
   "cell_type": "code",
   "execution_count": 17,
   "metadata": {},
   "outputs": [
    {
     "output_type": "execute_result",
     "data": {
      "text/plain": "(85782, 85782)"
     },
     "metadata": {},
     "execution_count": 17
    }
   ],
   "source": [
    "len(train_x63),len(train_y63)"
   ]
  },
  {
   "cell_type": "code",
   "execution_count": 40,
   "metadata": {},
   "outputs": [],
   "source": [
    "train_x = []\n",
    "train_y =[]\n",
    "for i,val in enumerate(train_x63):\n",
    "    inp = val\n",
    "    out = train_y63[i]\n",
    "    train_x.append(inp)\n",
    "    train_x.append(out)\n",
    "    train_y.append(out)\n",
    "    train_y.append(out)"
   ]
  },
  {
   "cell_type": "code",
   "execution_count": 41,
   "metadata": {},
   "outputs": [
    {
     "output_type": "execute_result",
     "data": {
      "text/plain": "(171564, 171564)"
     },
     "metadata": {},
     "execution_count": 41
    }
   ],
   "source": [
    "len(train_x),len(train_y)"
   ]
  },
  {
   "cell_type": "code",
   "execution_count": 42,
   "metadata": {},
   "outputs": [],
   "source": [
    "df_hos  =pd.read_csv('../datasets/hospital_corpus.csv')"
   ]
  },
  {
   "cell_type": "code",
   "execution_count": 43,
   "metadata": {},
   "outputs": [],
   "source": [
    "hos_list = list(df_hos['name'])"
   ]
  },
  {
   "cell_type": "code",
   "execution_count": 44,
   "metadata": {},
   "outputs": [],
   "source": [
    "train_x2 = train_x + hos_list*20\n",
    "train_y2 = train_y+hos_list*20"
   ]
  },
  {
   "cell_type": "code",
   "execution_count": 45,
   "metadata": {},
   "outputs": [
    {
     "output_type": "execute_result",
     "data": {
      "text/plain": "(199044, 199044)"
     },
     "metadata": {},
     "execution_count": 45
    }
   ],
   "source": [
    "len(train_x2),len(train_y2)"
   ]
  },
  {
   "cell_type": "code",
   "execution_count": 46,
   "metadata": {},
   "outputs": [],
   "source": [
    "train_x_df = pd.DataFrame(train_x2)\n",
    "train_y_df =pd.DataFrame(train_y2)"
   ]
  },
  {
   "cell_type": "code",
   "execution_count": 47,
   "metadata": {},
   "outputs": [],
   "source": [
    "train_x_df.columns =['gen_data']\n",
    "train_y_df.columns=['true_data']"
   ]
  },
  {
   "cell_type": "code",
   "execution_count": 48,
   "metadata": {},
   "outputs": [],
   "source": [
    "df_col_merged =pd.concat([train_x_df,train_y_df],axis=1)"
   ]
  },
  {
   "cell_type": "code",
   "execution_count": 49,
   "metadata": {},
   "outputs": [
    {
     "output_type": "execute_result",
     "data": {
      "text/plain": "                   gen_data                 true_data\n0  -รงพยาบาลกรุงเทพพิษณุโลก  โรงพยาบาลกรุงเทพพิษณุโลก\n1  โรงพยาบาลกรุงเทพพิษณุโลก  โรงพยาบาลกรุงเทพพิษณุโลก\n2     .รงพยาบาลกะปงชัยพัฒน์     โรงพยาบาลกะปงชัยพัฒน์\n3     โรงพยาบาลกะปงชัยพัฒน์     โรงพยาบาลกะปงชัยพัฒน์\n4             (รงพยาบาลแกดำ             โรงพยาบาลแกดำ",
      "text/html": "<div>\n<style scoped>\n    .dataframe tbody tr th:only-of-type {\n        vertical-align: middle;\n    }\n\n    .dataframe tbody tr th {\n        vertical-align: top;\n    }\n\n    .dataframe thead th {\n        text-align: right;\n    }\n</style>\n<table border=\"1\" class=\"dataframe\">\n  <thead>\n    <tr style=\"text-align: right;\">\n      <th></th>\n      <th>gen_data</th>\n      <th>true_data</th>\n    </tr>\n  </thead>\n  <tbody>\n    <tr>\n      <th>0</th>\n      <td>-รงพยาบาลกรุงเทพพิษณุโลก</td>\n      <td>โรงพยาบาลกรุงเทพพิษณุโลก</td>\n    </tr>\n    <tr>\n      <th>1</th>\n      <td>โรงพยาบาลกรุงเทพพิษณุโลก</td>\n      <td>โรงพยาบาลกรุงเทพพิษณุโลก</td>\n    </tr>\n    <tr>\n      <th>2</th>\n      <td>.รงพยาบาลกะปงชัยพัฒน์</td>\n      <td>โรงพยาบาลกะปงชัยพัฒน์</td>\n    </tr>\n    <tr>\n      <th>3</th>\n      <td>โรงพยาบาลกะปงชัยพัฒน์</td>\n      <td>โรงพยาบาลกะปงชัยพัฒน์</td>\n    </tr>\n    <tr>\n      <th>4</th>\n      <td>(รงพยาบาลแกดำ</td>\n      <td>โรงพยาบาลแกดำ</td>\n    </tr>\n  </tbody>\n</table>\n</div>"
     },
     "metadata": {},
     "execution_count": 49
    }
   ],
   "source": [
    "df_col_merged.head()"
   ]
  },
  {
   "cell_type": "code",
   "execution_count": 50,
   "metadata": {},
   "outputs": [],
   "source": [
    "df_col_merged.to_csv('../datasets/hospital_augment_train7.csv',index=False,encoding='utf-8')"
   ]
  },
  {
   "cell_type": "code",
   "execution_count": null,
   "metadata": {},
   "outputs": [],
   "source": []
  }
 ],
 "metadata": {
  "language_info": {
   "codemirror_mode": {
    "name": "ipython",
    "version": 3
   },
   "file_extension": ".py",
   "mimetype": "text/x-python",
   "name": "python",
   "nbconvert_exporter": "python",
   "pygments_lexer": "ipython3",
   "version": "3.7.7-final"
  },
  "orig_nbformat": 2,
  "kernelspec": {
   "name": "python3",
   "display_name": "Python 3"
  }
 },
 "nbformat": 4,
 "nbformat_minor": 2
}