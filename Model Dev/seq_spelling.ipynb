{
 "cells": [
  {
   "cell_type": "code",
   "execution_count": 1,
   "metadata": {},
   "outputs": [],
   "source": [
    "%matplotlib inline\n",
    "import matplotlib.pyplot as plt\n",
    "import numpy as np # linear algebra\n",
    "import pandas as pd # data processing, CSV file I/O (e.g. pd.read_csv)\n",
    "import os"
   ]
  },
  {
   "cell_type": "code",
   "execution_count": 2,
   "metadata": {},
   "outputs": [],
   "source": [
    "# File loading\n",
    "df  = pd.read_csv(r'datasets/hospital_v2.csv')"
   ]
  },
  {
   "cell_type": "code",
   "execution_count": 3,
   "metadata": {},
   "outputs": [
    {
     "output_type": "execute_result",
     "data": {
      "text/plain": "                                  name\n0       คลินิกกรุงเทพพัทยาสาขาจอมเทียน\n1         คลินิกกรุงเทพระยองสาขาบ่อวิน\n2        คลินิกกรุงเทพระยองสาขาบ้านฉาง\n3        คลินิกกรุงเทพระยองสาขาปลวกแดง\n4  คลินิกไทยอินเตอร์การแพทย์(เกาะพงัน)",
      "text/html": "<div>\n<style scoped>\n    .dataframe tbody tr th:only-of-type {\n        vertical-align: middle;\n    }\n\n    .dataframe tbody tr th {\n        vertical-align: top;\n    }\n\n    .dataframe thead th {\n        text-align: right;\n    }\n</style>\n<table border=\"1\" class=\"dataframe\">\n  <thead>\n    <tr style=\"text-align: right;\">\n      <th></th>\n      <th>name</th>\n    </tr>\n  </thead>\n  <tbody>\n    <tr>\n      <th>0</th>\n      <td>คลินิกกรุงเทพพัทยาสาขาจอมเทียน</td>\n    </tr>\n    <tr>\n      <th>1</th>\n      <td>คลินิกกรุงเทพระยองสาขาบ่อวิน</td>\n    </tr>\n    <tr>\n      <th>2</th>\n      <td>คลินิกกรุงเทพระยองสาขาบ้านฉาง</td>\n    </tr>\n    <tr>\n      <th>3</th>\n      <td>คลินิกกรุงเทพระยองสาขาปลวกแดง</td>\n    </tr>\n    <tr>\n      <th>4</th>\n      <td>คลินิกไทยอินเตอร์การแพทย์(เกาะพงัน)</td>\n    </tr>\n  </tbody>\n</table>\n</div>"
     },
     "metadata": {},
     "execution_count": 3
    }
   ],
   "source": [
    "df.head()"
   ]
  },
  {
   "cell_type": "code",
   "execution_count": 4,
   "metadata": {},
   "outputs": [
    {
     "output_type": "stream",
     "name": "stdout",
     "text": "(1290, 1)\n(1290, 1)\n"
    }
   ],
   "source": [
    "print(df.shape)\n",
    "df.dropna(axis=0,how='any')\n",
    "print(df.shape)"
   ]
  },
  {
   "cell_type": "code",
   "execution_count": 5,
   "metadata": {},
   "outputs": [
    {
     "output_type": "stream",
     "name": "stdout",
     "text": "Line Count: 1290\n['คลินิกกรุงเทพพัทยาสาขาจอมเทียน', 'คลินิกกรุงเทพระยองสาขาบ่อวิน', 'คลินิกกรุงเทพระยองสาขาบ้านฉาง', 'คลินิกกรุงเทพระยองสาขาปลวกแดง']\n"
    }
   ],
   "source": [
    "lines = [x for x in df['name'] if type(x) == type('a') ]\n",
    "print(\"Line Count:\",len(lines))\n",
    "print(lines[:4])"
   ]
  },
  {
   "cell_type": "code",
   "execution_count": 6,
   "metadata": {},
   "outputs": [],
   "source": [
    "# Preprocessing\n",
    "import re\n",
    "def process(sent):\n",
    "    sent=sent.lower()\n",
    "    sent=re.sub(r'[^0-9a-zA-Z ]','',sent)\n",
    "    sent=sent.replace('\\n','')\n",
    "    return sent   "
   ]
  },
  {
   "cell_type": "code",
   "execution_count": 7,
   "metadata": {},
   "outputs": [],
   "source": [
    "temp = []\n",
    "for line in lines:\n",
    "    temp+= [ x for x in line.split() ]"
   ]
  },
  {
   "cell_type": "code",
   "execution_count": 8,
   "metadata": {},
   "outputs": [],
   "source": [
    "lines = list(set(temp))"
   ]
  },
  {
   "cell_type": "code",
   "execution_count": 9,
   "metadata": {},
   "outputs": [
    {
     "output_type": "execute_result",
     "data": {
      "text/plain": "['โรงพยาบาลดาเนินสะดวก',\n 'สถาบันพยาธิวิทยา',\n 'โรงพยาบาลหัวไทร',\n 'โรงพยาบาลคลองตัน',\n 'โรงพยาบาลขามทะเลสอ',\n 'โรงพยาบาลองครักษ์',\n 'โรงพยาบาลสมเด็จพระยุพราชท่าบ่อ',\n 'โรงพยาบาลชัยภูมิราม',\n 'โรงพยาบาลโพธิ์ตาก',\n 'โรงพยาบาลคลองลาน']"
     },
     "metadata": {},
     "execution_count": 9
    }
   ],
   "source": [
    "lines[0:10]"
   ]
  },
  {
   "cell_type": "code",
   "execution_count": 10,
   "metadata": {},
   "outputs": [],
   "source": [
    "from pythainlp import thai_letters"
   ]
  },
  {
   "cell_type": "code",
   "execution_count": 12,
   "metadata": {},
   "outputs": [],
   "source": [
    "label_map_0 = [\"0\",\"1\",\"2\",\"3\",\"4\",\"5\",\"6\",\"7\",\"8\",\"9\",\"-\",\".\",\"/\",\"(\",\")\",\"\\\"\",\"&\"]\n",
    "label_map_1 = list(thai_letters)"
   ]
  },
  {
   "cell_type": "code",
   "execution_count": 13,
   "metadata": {},
   "outputs": [],
   "source": [
    "char_set = label_map_0+label_map_1"
   ]
  },
  {
   "cell_type": "code",
   "execution_count": 14,
   "metadata": {},
   "outputs": [],
   "source": [
    "char2int = { char_set[x]:x for x in range(len(char_set)) }\n",
    "int2char = { char2int[x]:x for x in char_set }"
   ]
  },
  {
   "cell_type": "code",
   "execution_count": 15,
   "metadata": {},
   "outputs": [
    {
     "output_type": "stream",
     "name": "stdout",
     "text": "{'0': 0, '1': 1, '2': 2, '3': 3, '4': 4, '5': 5, '6': 6, '7': 7, '8': 8, '9': 9, '-': 10, '.': 11, '/': 12, '(': 13, ')': 14, '\"': 15, '&': 16, 'ก': 17, 'ข': 18, 'ฃ': 19, 'ค': 20, 'ฅ': 21, 'ฆ': 22, 'ง': 23, 'จ': 24, 'ฉ': 25, 'ช': 26, 'ซ': 27, 'ฌ': 28, 'ญ': 29, 'ฎ': 30, 'ฏ': 31, 'ฐ': 32, 'ฑ': 33, 'ฒ': 34, 'ณ': 35, 'ด': 36, 'ต': 37, 'ถ': 38, 'ท': 39, 'ธ': 40, 'น': 41, 'บ': 42, 'ป': 43, 'ผ': 44, 'ฝ': 45, 'พ': 46, 'ฟ': 47, 'ภ': 48, 'ม': 49, 'ย': 50, 'ร': 51, 'ล': 52, 'ว': 53, 'ศ': 54, 'ษ': 55, 'ส': 56, 'ห': 57, 'ฬ': 58, 'อ': 59, 'ฮ': 60, 'ฤ': 61, 'ฦ': 62, 'ะ': 63, 'ั': 64, 'า': 65, 'ำ': 66, 'ิ': 67, 'ี': 68, 'ึ': 69, 'ื': 70, 'ุ': 71, 'ู': 72, 'เ': 73, 'แ': 74, 'โ': 75, 'ใ': 76, 'ไ': 77, 'ๅ': 78, '็': 79, '่': 80, '้': 81, '๊': 82, '๋': 83, 'ฯ': 84, 'ๆ': 85, 'ฺ': 86, '์': 87, 'ํ': 88, '๎': 89}\n"
    }
   ],
   "source": [
    "print(char2int)"
   ]
  },
  {
   "cell_type": "code",
   "execution_count": 16,
   "metadata": {},
   "outputs": [
    {
     "output_type": "stream",
     "name": "stdout",
     "text": "{0: '0', 1: '1', 2: '2', 3: '3', 4: '4', 5: '5', 6: '6', 7: '7', 8: '8', 9: '9', 10: '-', 11: '.', 12: '/', 13: '(', 14: ')', 15: '\"', 16: '&', 17: 'ก', 18: 'ข', 19: 'ฃ', 20: 'ค', 21: 'ฅ', 22: 'ฆ', 23: 'ง', 24: 'จ', 25: 'ฉ', 26: 'ช', 27: 'ซ', 28: 'ฌ', 29: 'ญ', 30: 'ฎ', 31: 'ฏ', 32: 'ฐ', 33: 'ฑ', 34: 'ฒ', 35: 'ณ', 36: 'ด', 37: 'ต', 38: 'ถ', 39: 'ท', 40: 'ธ', 41: 'น', 42: 'บ', 43: 'ป', 44: 'ผ', 45: 'ฝ', 46: 'พ', 47: 'ฟ', 48: 'ภ', 49: 'ม', 50: 'ย', 51: 'ร', 52: 'ล', 53: 'ว', 54: 'ศ', 55: 'ษ', 56: 'ส', 57: 'ห', 58: 'ฬ', 59: 'อ', 60: 'ฮ', 61: 'ฤ', 62: 'ฦ', 63: 'ะ', 64: 'ั', 65: 'า', 66: 'ำ', 67: 'ิ', 68: 'ี', 69: 'ึ', 70: 'ื', 71: 'ุ', 72: 'ู', 73: 'เ', 74: 'แ', 75: 'โ', 76: 'ใ', 77: 'ไ', 78: 'ๅ', 79: '็', 80: '่', 81: '้', 82: '๊', 83: '๋', 84: 'ฯ', 85: 'ๆ', 86: 'ฺ', 87: '์', 88: 'ํ', 89: '๎'}\n"
    }
   ],
   "source": [
    "print(int2char)"
   ]
  },
  {
   "cell_type": "code",
   "execution_count": 17,
   "metadata": {},
   "outputs": [],
   "source": [
    "count = len(char_set)\n",
    "codes = ['\\t' ,'\\n']"
   ]
  },
  {
   "cell_type": "code",
   "execution_count": 18,
   "metadata": {},
   "outputs": [],
   "source": [
    "for i in range(len(codes)):\n",
    "    code = codes[i]\n",
    "    char2int[code]=count\n",
    "    int2char[count]=code\n",
    "    count+=1"
   ]
  },
  {
   "cell_type": "code",
   "execution_count": 19,
   "metadata": {},
   "outputs": [],
   "source": [
    "#thresh - 0 to 1\n",
    "import random\n",
    "def gen_gibberish(line,thresh=0.2):\n",
    "    times = int(random.randrange(1,len(line)) * thresh)\n",
    "    '''\n",
    "    Types of replacement:\n",
    "        1.Delete random character.\n",
    "        2.Add random character.\n",
    "        3.Replace a character.\n",
    "        4.Combination?\n",
    "    '''\n",
    "    while times!=0:\n",
    "        # try to gen noise length times...\n",
    "        times-=1\n",
    "        val = random.randrange(0,10)\n",
    "        if val <= 5:\n",
    "            #get random index\n",
    "            val = random.randrange(0,10)\n",
    "            index = random.randrange(2,len(line))\n",
    "            if val <= 3 :\n",
    "                #delete character\n",
    "                line = line[:index]+line[index+1:]\n",
    "            else:\n",
    "                #add character\n",
    "                insert_index = random.randrange(0,len(char_set))\n",
    "                line = line[:index] + char_set[insert_index] + line[index:]\n",
    "        else:\n",
    "            index = random.randrange(0,len(char_set))\n",
    "            replace_index = random.randrange(2,len(line))\n",
    "            line = line[:replace_index] + char_set[index] + line[replace_index+1:]\n",
    "    return line"
   ]
  },
  {
   "cell_type": "code",
   "execution_count": 20,
   "metadata": {},
   "outputs": [
    {
     "output_type": "stream",
     "name": "stdout",
     "text": "Original: โรงพยาบาลองครักษ์\nGibberish: โรงพยบาลองคครักษ์\n"
    }
   ],
   "source": [
    "sample = lines[5]\n",
    "gib = gen_gibberish(sample)\n",
    "print(\"Original:\",sample)\n",
    "print(\"Gibberish:\",gib)"
   ]
  },
  {
   "cell_type": "code",
   "execution_count": 22,
   "metadata": {},
   "outputs": [],
   "source": [
    "# create dataset\n",
    "input_texts = []\n",
    "target_texts = []\n",
    "REPEAT_FACTOR = 1\n",
    "SKIP = int(len(lines)*0.85)"
   ]
  },
  {
   "cell_type": "code",
   "execution_count": 23,
   "metadata": {},
   "outputs": [
    {
     "output_type": "stream",
     "name": "stdout",
     "text": "LEN OF SAMPLES: 190\n"
    }
   ],
   "source": [
    "for line in lines[SKIP:]:\n",
    "    if len(line)>10:\n",
    "        output_text = '\\t' + line + '\\n'\n",
    "        for _ in range(REPEAT_FACTOR):\n",
    "            input_text = gen_gibberish(line)\n",
    "            input_texts.append(input_text)\n",
    "            target_texts.append(output_text)\n",
    "print(\"LEN OF SAMPLES:\",len(input_texts))"
   ]
  },
  {
   "cell_type": "code",
   "execution_count": 24,
   "metadata": {},
   "outputs": [
    {
     "output_type": "execute_result",
     "data": {
      "text/plain": "('คลินิกก&ืงเทพพัณยาสาขาจอมเทไยฦน', '\\tคลินิกกรุงเทพพัทยาสาขาจอมเทียน\\n')"
     },
     "metadata": {},
     "execution_count": 24
    }
   ],
   "source": [
    "input_texts[0],target_texts[0]"
   ]
  },
  {
   "cell_type": "code",
   "execution_count": 25,
   "metadata": {},
   "outputs": [
    {
     "output_type": "stream",
     "name": "stdout",
     "text": "Max Enc Len: 57\nMax Dec Len: 59\n"
    }
   ],
   "source": [
    "max_enc_len = max([len(x) for x in input_texts])\n",
    "max_dec_len = max([len(x) for x in target_texts])\n",
    "print(\"Max Enc Len:\",max_enc_len)\n",
    "print(\"Max Dec Len:\",max_dec_len)"
   ]
  },
  {
   "cell_type": "code",
   "execution_count": 26,
   "metadata": {},
   "outputs": [
    {
     "output_type": "stream",
     "name": "stdout",
     "text": "CREATED ZERO VECTORS\n"
    }
   ],
   "source": [
    "num_samples = len(input_texts)\n",
    "encoder_input_data = np.zeros( (num_samples , max_enc_len , len(char_set)),dtype='float32' )\n",
    "decoder_input_data = np.zeros( (num_samples , max_dec_len , len(char_set)+2),dtype='float32' )\n",
    "decoder_target_data = np.zeros( (num_samples , max_dec_len , len(char_set)+2),dtype='float32' )\n",
    "print(\"CREATED ZERO VECTORS\")"
   ]
  },
  {
   "cell_type": "code",
   "execution_count": 27,
   "metadata": {},
   "outputs": [
    {
     "output_type": "execute_result",
     "data": {
      "text/plain": "(190, 57, 90)"
     },
     "metadata": {},
     "execution_count": 27
    }
   ],
   "source": [
    "encoder_input_data.shape"
   ]
  },
  {
   "cell_type": "code",
   "execution_count": 28,
   "metadata": {},
   "outputs": [
    {
     "output_type": "execute_result",
     "data": {
      "text/plain": "(190, 59, 92)"
     },
     "metadata": {},
     "execution_count": 28
    }
   ],
   "source": [
    "decoder_target_data.shape"
   ]
  },
  {
   "cell_type": "code",
   "execution_count": 29,
   "metadata": {},
   "outputs": [
    {
     "output_type": "stream",
     "name": "stdout",
     "text": "COMPLETED...\n"
    }
   ],
   "source": [
    "#filling in the enc,dec datas\n",
    "for i,(input_text,target_text) in enumerate(zip(input_texts,target_texts)):\n",
    "    for t,char in enumerate(input_text):\n",
    "        encoder_input_data[ i , t , char2int[char] ] = 1\n",
    "    for t,char in enumerate(target_text):\n",
    "        decoder_input_data[ i, t , char2int[char] ] = 1\n",
    "        if t > 0 :\n",
    "            decoder_target_data[ i , t-1 , char2int[char] ] = 1\n",
    "print(\"COMPLETED...\")    "
   ]
  },
  {
   "cell_type": "code",
   "execution_count": 30,
   "metadata": {},
   "outputs": [
    {
     "output_type": "execute_result",
     "data": {
      "text/plain": "(190, 190)"
     },
     "metadata": {},
     "execution_count": 30
    }
   ],
   "source": [
    "len(input_texts),len(target_texts)"
   ]
  },
  {
   "cell_type": "code",
   "execution_count": 31,
   "metadata": {},
   "outputs": [
    {
     "output_type": "execute_result",
     "data": {
      "text/plain": "('คลินิกก&ืงเทพพัณยาสาขาจอมเทไยฦน', '\\tคลินิกกรุงเทพพัทยาสาขาจอมเทียน\\n')"
     },
     "metadata": {},
     "execution_count": 31
    }
   ],
   "source": [
    "input_texts[0],target_texts[0]"
   ]
  },
  {
   "cell_type": "code",
   "execution_count": 32,
   "metadata": {},
   "outputs": [],
   "source": [
    "from tensorflow.keras.models import Model\n",
    "from tensorflow.keras.layers import Input,LSTM,Dense,Activation,Attention,Bidirectional,Concatenate\n",
    "import tensorflow as tf"
   ]
  },
  {
   "cell_type": "code",
   "execution_count": 33,
   "metadata": {},
   "outputs": [
    {
     "output_type": "stream",
     "name": "stdout",
     "text": "1 Physical GPUs, 1 Logical GPUs\n"
    }
   ],
   "source": [
    "gpus = tf.config.experimental.list_physical_devices('GPU')\n",
    "if gpus:\n",
    "    try:\n",
    "        # Restrict TensorFlow to only use the fourth GPU\n",
    "        tf.config.experimental.set_visible_devices(gpus[0], 'GPU')\n",
    "\n",
    "        # Currently, memory growth needs to be the same across GPUs\n",
    "        for gpu in gpus:\n",
    "            tf.config.experimental.set_memory_growth(gpu, True)\n",
    "        logical_gpus = tf.config.experimental.list_logical_devices('GPU')\n",
    "        print(len(gpus), \"Physical GPUs,\", len(logical_gpus), \"Logical GPUs\")\n",
    "    except RuntimeError as e:\n",
    "        # Memory growth must be set before GPUs have been initialized\n",
    "        print(e)"
   ]
  },
  {
   "cell_type": "code",
   "execution_count": 119,
   "metadata": {},
   "outputs": [],
   "source": [
    "class BahdanauAttention(tf.keras.layers.Layer):\n",
    "  def __init__(self, units):\n",
    "    super(BahdanauAttention, self).__init__()\n",
    "    self.W1 = tf.keras.layers.Dense(units)\n",
    "    self.W2 = tf.keras.layers.Dense(units)\n",
    "    self.V = tf.keras.layers.Dense(1)\n",
    "\n",
    "  def call(self, query, values):\n",
    "    # query hidden state shape == (batch_size, hidden size)\n",
    "    # query_with_time_axis shape == (batch_size, 1, hidden size)\n",
    "    # values shape == (batch_size, max_len, hidden size)\n",
    "    # we are doing this to broadcast addition along the time axis to calculate the score\n",
    "    query_with_time_axis = tf.expand_dims(query, 1)\n",
    "\n",
    "    # score shape == (batch_size, max_length, 1)\n",
    "    # we get 1 at the last axis because we are applying score to self.V\n",
    "    # the shape of the tensor before applying self.V is (batch_size, max_length, units)\n",
    "    score = self.V(tf.nn.tanh(\n",
    "        self.W1(query_with_time_axis) + self.W2(values)))\n",
    "\n",
    "    # attention_weights shape == (batch_size, max_length, 1)\n",
    "    attention_weights = tf.nn.softmax(score, axis=1)\n",
    "\n",
    "    # context_vector shape after sum == (batch_size, hidden_size)\n",
    "    context_vector = attention_weights * values\n",
    "    context_vector = tf.reduce_sum(context_vector, axis=1)\n",
    "\n",
    "    return context_vector, attention_weights"
   ]
  },
  {
   "cell_type": "code",
   "execution_count": null,
   "metadata": {},
   "outputs": [],
   "source": [
    "attention_layer = BahdanauAttention(10)\n",
    "attention_result, attention_weights = attention_layer(sample_hidden, sample_output)\n",
    "\n",
    "print(\"Attention result shape: (batch size, units) {}\".format(attention_result.shape))\n",
    "print(\"Attention weights shape: (batch_size, sequence_length, 1) {}\".format(attention_weights.shape))"
   ]
  },
  {
   "cell_type": "code",
   "execution_count": 142,
   "metadata": {},
   "outputs": [],
   "source": [
    "from keras_self_attention import SeqSelfAttention, SeqWeightedAttention"
   ]
  },
  {
   "cell_type": "code",
   "execution_count": 212,
   "metadata": {},
   "outputs": [],
   "source": [
    "batch_size = 64\n",
    "epochs = 100\n",
    "latent_dim = 256\n",
    "\n",
    "num_enc_tokens = len(char_set)\n",
    "num_dec_tokens = len(char_set) + 2 # includes \\n \\t\n",
    "encoder_inputs = Input(shape=(num_enc_tokens,))\n",
    "encoder_emb = Embedding(len(char2int)+1,32)\n",
    "encoder = Bidirectional(LSTM(latent_dim,return_state=True,return_sequences=True))\n",
    "#encoder_outputs, forward_h, forward_c, backward_h, backward_c = encoder(encoder_inputs)\n",
    "#encoder_outputs , state_h, state_c = encoder(encoder_inputs)\n",
    "#encoder_states = [state_h,state_c]\n",
    "#encoder_states = [ forward_h, forward_c, backward_h, backward_c]\n",
    "encoder_outputs, forward_h, forward_c, backward_h, backward_c = encoder(encoder_emb(encoder_inputs))\n",
    "state_h = Concatenate()([forward_h, backward_h])\n",
    "state_c = Concatenate()([forward_c, backward_c])\n",
    "#context_vector, attention_weights = Attention(10)(encoder_outputs, state_h)\n",
    "encoder_states = [state_h, state_c]"
   ]
  },
  {
   "cell_type": "code",
   "execution_count": 213,
   "metadata": {},
   "outputs": [],
   "source": [
    "decoder_inputs = Input(shape=(None,))\n",
    "decoder_emb = Embedding(input_dim=len(int2char), output_dim=32)\n",
    "decoder_lstm = LSTM(units=latent_dim*2, return_sequences=True, return_state=True) # units=units*2\n",
    "decoder_lstm_out, _, _ = decoder_lstm(decoder_emb(decoder_inputs), initial_state=encoder_states)"
   ]
  },
  {
   "cell_type": "code",
   "execution_count": 214,
   "metadata": {},
   "outputs": [
    {
     "output_type": "stream",
     "name": "stdout",
     "text": "Attention result shape: (batch size, units) (None, 90, 512)\nAttention weights shape: (batch_size, sequence_length, 1) (None, 1, 90, 1)\n"
    }
   ],
   "source": [
    "attention_layer = BahdanauAttention(10)\n",
    "attention_result, attention_weights = attention_layer(encoder_outputs, state_h)\n",
    "print(\"Attention result shape: (batch size, units) {}\".format(attention_result.shape))\n",
    "print(\"Attention weights shape: (batch_size, sequence_length, 1) {}\".format(attention_weights.shape))"
   ]
  },
  {
   "cell_type": "code",
   "execution_count": 211,
   "metadata": {},
   "outputs": [
    {
     "output_type": "error",
     "ename": "TypeError",
     "evalue": "unsupported operand type(s) for +: 'NoneType' and 'int'",
     "traceback": [
      "\u001b[1;31m---------------------------------------------------------------------------\u001b[0m",
      "\u001b[1;31mTypeError\u001b[0m                                 Traceback (most recent call last)",
      "\u001b[1;32m<ipython-input-211-b27eea30013b>\u001b[0m in \u001b[0;36m<module>\u001b[1;34m\u001b[0m\n\u001b[0;32m      1\u001b[0m \u001b[0mdecoder_inputs\u001b[0m \u001b[1;33m=\u001b[0m \u001b[0mInput\u001b[0m\u001b[1;33m(\u001b[0m\u001b[0mshape\u001b[0m\u001b[1;33m=\u001b[0m\u001b[1;33m(\u001b[0m\u001b[0mnum_dec_tokens\u001b[0m\u001b[1;33m,\u001b[0m\u001b[1;33m)\u001b[0m\u001b[1;33m)\u001b[0m\u001b[1;33m\u001b[0m\u001b[1;33m\u001b[0m\u001b[0m\n\u001b[0;32m      2\u001b[0m \u001b[0mdecoder_lstm\u001b[0m \u001b[1;33m=\u001b[0m \u001b[0mLSTM\u001b[0m\u001b[1;33m(\u001b[0m\u001b[0mlatent_dim\u001b[0m\u001b[1;33m*\u001b[0m\u001b[1;36m2\u001b[0m\u001b[1;33m,\u001b[0m\u001b[0mreturn_sequences\u001b[0m\u001b[1;33m=\u001b[0m\u001b[1;32mTrue\u001b[0m\u001b[1;33m,\u001b[0m\u001b[0mreturn_state\u001b[0m\u001b[1;33m=\u001b[0m\u001b[1;32mTrue\u001b[0m\u001b[1;33m)\u001b[0m\u001b[1;33m\u001b[0m\u001b[1;33m\u001b[0m\u001b[0m\n\u001b[1;32m----> 3\u001b[1;33m \u001b[0mdecoder_ouputs\u001b[0m\u001b[1;33m,\u001b[0m\u001b[0m_\u001b[0m\u001b[1;33m,\u001b[0m\u001b[0m_\u001b[0m \u001b[1;33m=\u001b[0m \u001b[0mdecoder_lstm\u001b[0m\u001b[1;33m(\u001b[0m\u001b[0mdecoder_inputs\u001b[0m\u001b[1;33m,\u001b[0m\u001b[0minitial_state\u001b[0m \u001b[1;33m=\u001b[0m \u001b[0mencoder_states\u001b[0m\u001b[1;33m)\u001b[0m\u001b[1;33m\u001b[0m\u001b[1;33m\u001b[0m\u001b[0m\n\u001b[0m",
      "\u001b[1;32m~\\Anaconda3\\lib\\site-packages\\tensorflow_core\\python\\keras\\layers\\recurrent.py\u001b[0m in \u001b[0;36m__call__\u001b[1;34m(self, inputs, initial_state, constants, **kwargs)\u001b[0m\n\u001b[0;32m    684\u001b[0m       \u001b[1;31m# Perform the call with temporarily replaced input_spec\u001b[0m\u001b[1;33m\u001b[0m\u001b[1;33m\u001b[0m\u001b[1;33m\u001b[0m\u001b[0m\n\u001b[0;32m    685\u001b[0m       \u001b[0mself\u001b[0m\u001b[1;33m.\u001b[0m\u001b[0minput_spec\u001b[0m \u001b[1;33m=\u001b[0m \u001b[0mfull_input_spec\u001b[0m\u001b[1;33m\u001b[0m\u001b[1;33m\u001b[0m\u001b[0m\n\u001b[1;32m--> 686\u001b[1;33m       \u001b[0moutput\u001b[0m \u001b[1;33m=\u001b[0m \u001b[0msuper\u001b[0m\u001b[1;33m(\u001b[0m\u001b[0mRNN\u001b[0m\u001b[1;33m,\u001b[0m \u001b[0mself\u001b[0m\u001b[1;33m)\u001b[0m\u001b[1;33m.\u001b[0m\u001b[0m__call__\u001b[0m\u001b[1;33m(\u001b[0m\u001b[0mfull_input\u001b[0m\u001b[1;33m,\u001b[0m \u001b[1;33m**\u001b[0m\u001b[0mkwargs\u001b[0m\u001b[1;33m)\u001b[0m\u001b[1;33m\u001b[0m\u001b[1;33m\u001b[0m\u001b[0m\n\u001b[0m\u001b[0;32m    687\u001b[0m       \u001b[1;31m# Remove the additional_specs from input spec and keep the rest. It is\u001b[0m\u001b[1;33m\u001b[0m\u001b[1;33m\u001b[0m\u001b[1;33m\u001b[0m\u001b[0m\n\u001b[0;32m    688\u001b[0m       \u001b[1;31m# important to keep since the input spec was populated by build(), and\u001b[0m\u001b[1;33m\u001b[0m\u001b[1;33m\u001b[0m\u001b[1;33m\u001b[0m\u001b[0m\n",
      "\u001b[1;32m~\\Anaconda3\\lib\\site-packages\\tensorflow_core\\python\\keras\\engine\\base_layer.py\u001b[0m in \u001b[0;36m__call__\u001b[1;34m(self, inputs, *args, **kwargs)\u001b[0m\n\u001b[0;32m    746\u001b[0m           \u001b[1;31m# Build layer if applicable (if the `build` method has been\u001b[0m\u001b[1;33m\u001b[0m\u001b[1;33m\u001b[0m\u001b[1;33m\u001b[0m\u001b[0m\n\u001b[0;32m    747\u001b[0m           \u001b[1;31m# overridden).\u001b[0m\u001b[1;33m\u001b[0m\u001b[1;33m\u001b[0m\u001b[1;33m\u001b[0m\u001b[0m\n\u001b[1;32m--> 748\u001b[1;33m           \u001b[0mself\u001b[0m\u001b[1;33m.\u001b[0m\u001b[0m_maybe_build\u001b[0m\u001b[1;33m(\u001b[0m\u001b[0minputs\u001b[0m\u001b[1;33m)\u001b[0m\u001b[1;33m\u001b[0m\u001b[1;33m\u001b[0m\u001b[0m\n\u001b[0m\u001b[0;32m    749\u001b[0m           \u001b[0mcast_inputs\u001b[0m \u001b[1;33m=\u001b[0m \u001b[0mself\u001b[0m\u001b[1;33m.\u001b[0m\u001b[0m_maybe_cast_inputs\u001b[0m\u001b[1;33m(\u001b[0m\u001b[0minputs\u001b[0m\u001b[1;33m)\u001b[0m\u001b[1;33m\u001b[0m\u001b[1;33m\u001b[0m\u001b[0m\n\u001b[0;32m    750\u001b[0m \u001b[1;33m\u001b[0m\u001b[0m\n",
      "\u001b[1;32m~\\Anaconda3\\lib\\site-packages\\tensorflow_core\\python\\keras\\engine\\base_layer.py\u001b[0m in \u001b[0;36m_maybe_build\u001b[1;34m(self, inputs)\u001b[0m\n\u001b[0;32m   2114\u001b[0m         \u001b[1;31m# operations.\u001b[0m\u001b[1;33m\u001b[0m\u001b[1;33m\u001b[0m\u001b[1;33m\u001b[0m\u001b[0m\n\u001b[0;32m   2115\u001b[0m         \u001b[1;32mwith\u001b[0m \u001b[0mtf_utils\u001b[0m\u001b[1;33m.\u001b[0m\u001b[0mmaybe_init_scope\u001b[0m\u001b[1;33m(\u001b[0m\u001b[0mself\u001b[0m\u001b[1;33m)\u001b[0m\u001b[1;33m:\u001b[0m\u001b[1;33m\u001b[0m\u001b[1;33m\u001b[0m\u001b[0m\n\u001b[1;32m-> 2116\u001b[1;33m           \u001b[0mself\u001b[0m\u001b[1;33m.\u001b[0m\u001b[0mbuild\u001b[0m\u001b[1;33m(\u001b[0m\u001b[0minput_shapes\u001b[0m\u001b[1;33m)\u001b[0m\u001b[1;33m\u001b[0m\u001b[1;33m\u001b[0m\u001b[0m\n\u001b[0m\u001b[0;32m   2117\u001b[0m       \u001b[1;31m# We must set self.built since user defined build functions are not\u001b[0m\u001b[1;33m\u001b[0m\u001b[1;33m\u001b[0m\u001b[1;33m\u001b[0m\u001b[0m\n\u001b[0;32m   2118\u001b[0m       \u001b[1;31m# constrained to set self.built.\u001b[0m\u001b[1;33m\u001b[0m\u001b[1;33m\u001b[0m\u001b[1;33m\u001b[0m\u001b[0m\n",
      "\u001b[1;32m~\\Anaconda3\\lib\\site-packages\\tensorflow_core\\python\\keras\\layers\\recurrent.py\u001b[0m in \u001b[0;36mbuild\u001b[1;34m(self, input_shape)\u001b[0m\n\u001b[0;32m    562\u001b[0m     \u001b[1;32mif\u001b[0m \u001b[0misinstance\u001b[0m\u001b[1;33m(\u001b[0m\u001b[0mself\u001b[0m\u001b[1;33m.\u001b[0m\u001b[0mcell\u001b[0m\u001b[1;33m,\u001b[0m \u001b[0mLayer\u001b[0m\u001b[1;33m)\u001b[0m\u001b[1;33m:\u001b[0m\u001b[1;33m\u001b[0m\u001b[1;33m\u001b[0m\u001b[0m\n\u001b[0;32m    563\u001b[0m       \u001b[1;32mif\u001b[0m \u001b[1;32mnot\u001b[0m \u001b[0mself\u001b[0m\u001b[1;33m.\u001b[0m\u001b[0mcell\u001b[0m\u001b[1;33m.\u001b[0m\u001b[0mbuilt\u001b[0m\u001b[1;33m:\u001b[0m\u001b[1;33m\u001b[0m\u001b[1;33m\u001b[0m\u001b[0m\n\u001b[1;32m--> 564\u001b[1;33m         \u001b[0mself\u001b[0m\u001b[1;33m.\u001b[0m\u001b[0mcell\u001b[0m\u001b[1;33m.\u001b[0m\u001b[0mbuild\u001b[0m\u001b[1;33m(\u001b[0m\u001b[0mstep_input_shape\u001b[0m\u001b[1;33m)\u001b[0m\u001b[1;33m\u001b[0m\u001b[1;33m\u001b[0m\u001b[0m\n\u001b[0m\u001b[0;32m    565\u001b[0m \u001b[1;33m\u001b[0m\u001b[0m\n\u001b[0;32m    566\u001b[0m     \u001b[1;31m# set or validate state_spec\u001b[0m\u001b[1;33m\u001b[0m\u001b[1;33m\u001b[0m\u001b[1;33m\u001b[0m\u001b[0m\n",
      "\u001b[1;32m~\\Anaconda3\\lib\\site-packages\\tensorflow_core\\python\\keras\\utils\\tf_utils.py\u001b[0m in \u001b[0;36mwrapper\u001b[1;34m(instance, input_shape)\u001b[0m\n\u001b[0;32m    304\u001b[0m     \u001b[1;32mif\u001b[0m \u001b[0minput_shape\u001b[0m \u001b[1;32mis\u001b[0m \u001b[1;32mnot\u001b[0m \u001b[1;32mNone\u001b[0m\u001b[1;33m:\u001b[0m\u001b[1;33m\u001b[0m\u001b[1;33m\u001b[0m\u001b[0m\n\u001b[0;32m    305\u001b[0m       \u001b[0minput_shape\u001b[0m \u001b[1;33m=\u001b[0m \u001b[0mconvert_shapes\u001b[0m\u001b[1;33m(\u001b[0m\u001b[0minput_shape\u001b[0m\u001b[1;33m,\u001b[0m \u001b[0mto_tuples\u001b[0m\u001b[1;33m=\u001b[0m\u001b[1;32mTrue\u001b[0m\u001b[1;33m)\u001b[0m\u001b[1;33m\u001b[0m\u001b[1;33m\u001b[0m\u001b[0m\n\u001b[1;32m--> 306\u001b[1;33m     \u001b[0moutput_shape\u001b[0m \u001b[1;33m=\u001b[0m \u001b[0mfn\u001b[0m\u001b[1;33m(\u001b[0m\u001b[0minstance\u001b[0m\u001b[1;33m,\u001b[0m \u001b[0minput_shape\u001b[0m\u001b[1;33m)\u001b[0m\u001b[1;33m\u001b[0m\u001b[1;33m\u001b[0m\u001b[0m\n\u001b[0m\u001b[0;32m    307\u001b[0m     \u001b[1;31m# Return shapes from `fn` as TensorShapes.\u001b[0m\u001b[1;33m\u001b[0m\u001b[1;33m\u001b[0m\u001b[1;33m\u001b[0m\u001b[0m\n\u001b[0;32m    308\u001b[0m     \u001b[1;32mif\u001b[0m \u001b[0moutput_shape\u001b[0m \u001b[1;32mis\u001b[0m \u001b[1;32mnot\u001b[0m \u001b[1;32mNone\u001b[0m\u001b[1;33m:\u001b[0m\u001b[1;33m\u001b[0m\u001b[1;33m\u001b[0m\u001b[0m\n",
      "\u001b[1;32m~\\Anaconda3\\lib\\site-packages\\tensorflow_core\\python\\keras\\layers\\recurrent.py\u001b[0m in \u001b[0;36mbuild\u001b[1;34m(self, input_shape)\u001b[0m\n\u001b[0;32m   2299\u001b[0m         \u001b[0mregularizer\u001b[0m\u001b[1;33m=\u001b[0m\u001b[0mself\u001b[0m\u001b[1;33m.\u001b[0m\u001b[0mkernel_regularizer\u001b[0m\u001b[1;33m,\u001b[0m\u001b[1;33m\u001b[0m\u001b[1;33m\u001b[0m\u001b[0m\n\u001b[0;32m   2300\u001b[0m         \u001b[0mconstraint\u001b[0m\u001b[1;33m=\u001b[0m\u001b[0mself\u001b[0m\u001b[1;33m.\u001b[0m\u001b[0mkernel_constraint\u001b[0m\u001b[1;33m,\u001b[0m\u001b[1;33m\u001b[0m\u001b[1;33m\u001b[0m\u001b[0m\n\u001b[1;32m-> 2301\u001b[1;33m         caching_device=default_caching_device)\n\u001b[0m\u001b[0;32m   2302\u001b[0m     self.recurrent_kernel = self.add_weight(\n\u001b[0;32m   2303\u001b[0m         \u001b[0mshape\u001b[0m\u001b[1;33m=\u001b[0m\u001b[1;33m(\u001b[0m\u001b[0mself\u001b[0m\u001b[1;33m.\u001b[0m\u001b[0munits\u001b[0m\u001b[1;33m,\u001b[0m \u001b[0mself\u001b[0m\u001b[1;33m.\u001b[0m\u001b[0munits\u001b[0m \u001b[1;33m*\u001b[0m \u001b[1;36m4\u001b[0m\u001b[1;33m)\u001b[0m\u001b[1;33m,\u001b[0m\u001b[1;33m\u001b[0m\u001b[1;33m\u001b[0m\u001b[0m\n",
      "\u001b[1;32m~\\Anaconda3\\lib\\site-packages\\tensorflow_core\\python\\keras\\engine\\base_layer.py\u001b[0m in \u001b[0;36madd_weight\u001b[1;34m(self, name, shape, dtype, initializer, regularizer, trainable, constraint, partitioner, use_resource, synchronization, aggregation, **kwargs)\u001b[0m\n\u001b[0;32m    444\u001b[0m         \u001b[0msynchronization\u001b[0m\u001b[1;33m=\u001b[0m\u001b[0msynchronization\u001b[0m\u001b[1;33m,\u001b[0m\u001b[1;33m\u001b[0m\u001b[1;33m\u001b[0m\u001b[0m\n\u001b[0;32m    445\u001b[0m         \u001b[0maggregation\u001b[0m\u001b[1;33m=\u001b[0m\u001b[0maggregation\u001b[0m\u001b[1;33m,\u001b[0m\u001b[1;33m\u001b[0m\u001b[1;33m\u001b[0m\u001b[0m\n\u001b[1;32m--> 446\u001b[1;33m         caching_device=caching_device)\n\u001b[0m\u001b[0;32m    447\u001b[0m     \u001b[0mbackend\u001b[0m\u001b[1;33m.\u001b[0m\u001b[0mtrack_variable\u001b[0m\u001b[1;33m(\u001b[0m\u001b[0mvariable\u001b[0m\u001b[1;33m)\u001b[0m\u001b[1;33m\u001b[0m\u001b[1;33m\u001b[0m\u001b[0m\n\u001b[0;32m    448\u001b[0m \u001b[1;33m\u001b[0m\u001b[0m\n",
      "\u001b[1;32m~\\Anaconda3\\lib\\site-packages\\tensorflow_core\\python\\training\\tracking\\base.py\u001b[0m in \u001b[0;36m_add_variable_with_custom_getter\u001b[1;34m(self, name, shape, dtype, initializer, getter, overwrite, **kwargs_for_getter)\u001b[0m\n\u001b[0;32m    742\u001b[0m         \u001b[0mdtype\u001b[0m\u001b[1;33m=\u001b[0m\u001b[0mdtype\u001b[0m\u001b[1;33m,\u001b[0m\u001b[1;33m\u001b[0m\u001b[1;33m\u001b[0m\u001b[0m\n\u001b[0;32m    743\u001b[0m         \u001b[0minitializer\u001b[0m\u001b[1;33m=\u001b[0m\u001b[0minitializer\u001b[0m\u001b[1;33m,\u001b[0m\u001b[1;33m\u001b[0m\u001b[1;33m\u001b[0m\u001b[0m\n\u001b[1;32m--> 744\u001b[1;33m         **kwargs_for_getter)\n\u001b[0m\u001b[0;32m    745\u001b[0m \u001b[1;33m\u001b[0m\u001b[0m\n\u001b[0;32m    746\u001b[0m     \u001b[1;31m# If we set an initializer and the variable processed it, tracking will not\u001b[0m\u001b[1;33m\u001b[0m\u001b[1;33m\u001b[0m\u001b[1;33m\u001b[0m\u001b[0m\n",
      "\u001b[1;32m~\\Anaconda3\\lib\\site-packages\\tensorflow_core\\python\\keras\\engine\\base_layer_utils.py\u001b[0m in \u001b[0;36mmake_variable\u001b[1;34m(name, shape, dtype, initializer, trainable, caching_device, validate_shape, constraint, use_resource, collections, synchronization, aggregation, partitioner)\u001b[0m\n\u001b[0;32m    140\u001b[0m       \u001b[0msynchronization\u001b[0m\u001b[1;33m=\u001b[0m\u001b[0msynchronization\u001b[0m\u001b[1;33m,\u001b[0m\u001b[1;33m\u001b[0m\u001b[1;33m\u001b[0m\u001b[0m\n\u001b[0;32m    141\u001b[0m       \u001b[0maggregation\u001b[0m\u001b[1;33m=\u001b[0m\u001b[0maggregation\u001b[0m\u001b[1;33m,\u001b[0m\u001b[1;33m\u001b[0m\u001b[1;33m\u001b[0m\u001b[0m\n\u001b[1;32m--> 142\u001b[1;33m       shape=variable_shape if variable_shape else None)\n\u001b[0m\u001b[0;32m    143\u001b[0m \u001b[1;33m\u001b[0m\u001b[0m\n\u001b[0;32m    144\u001b[0m \u001b[1;33m\u001b[0m\u001b[0m\n",
      "\u001b[1;32m~\\Anaconda3\\lib\\site-packages\\tensorflow_core\\python\\ops\\variables.py\u001b[0m in \u001b[0;36m__call__\u001b[1;34m(cls, *args, **kwargs)\u001b[0m\n\u001b[0;32m    256\u001b[0m   \u001b[1;32mdef\u001b[0m \u001b[0m__call__\u001b[0m\u001b[1;33m(\u001b[0m\u001b[0mcls\u001b[0m\u001b[1;33m,\u001b[0m \u001b[1;33m*\u001b[0m\u001b[0margs\u001b[0m\u001b[1;33m,\u001b[0m \u001b[1;33m**\u001b[0m\u001b[0mkwargs\u001b[0m\u001b[1;33m)\u001b[0m\u001b[1;33m:\u001b[0m\u001b[1;33m\u001b[0m\u001b[1;33m\u001b[0m\u001b[0m\n\u001b[0;32m    257\u001b[0m     \u001b[1;32mif\u001b[0m \u001b[0mcls\u001b[0m \u001b[1;32mis\u001b[0m \u001b[0mVariableV1\u001b[0m\u001b[1;33m:\u001b[0m\u001b[1;33m\u001b[0m\u001b[1;33m\u001b[0m\u001b[0m\n\u001b[1;32m--> 258\u001b[1;33m       \u001b[1;32mreturn\u001b[0m \u001b[0mcls\u001b[0m\u001b[1;33m.\u001b[0m\u001b[0m_variable_v1_call\u001b[0m\u001b[1;33m(\u001b[0m\u001b[1;33m*\u001b[0m\u001b[0margs\u001b[0m\u001b[1;33m,\u001b[0m \u001b[1;33m**\u001b[0m\u001b[0mkwargs\u001b[0m\u001b[1;33m)\u001b[0m\u001b[1;33m\u001b[0m\u001b[1;33m\u001b[0m\u001b[0m\n\u001b[0m\u001b[0;32m    259\u001b[0m     \u001b[1;32melif\u001b[0m \u001b[0mcls\u001b[0m \u001b[1;32mis\u001b[0m \u001b[0mVariable\u001b[0m\u001b[1;33m:\u001b[0m\u001b[1;33m\u001b[0m\u001b[1;33m\u001b[0m\u001b[0m\n\u001b[0;32m    260\u001b[0m       \u001b[1;32mreturn\u001b[0m \u001b[0mcls\u001b[0m\u001b[1;33m.\u001b[0m\u001b[0m_variable_v2_call\u001b[0m\u001b[1;33m(\u001b[0m\u001b[1;33m*\u001b[0m\u001b[0margs\u001b[0m\u001b[1;33m,\u001b[0m \u001b[1;33m**\u001b[0m\u001b[0mkwargs\u001b[0m\u001b[1;33m)\u001b[0m\u001b[1;33m\u001b[0m\u001b[1;33m\u001b[0m\u001b[0m\n",
      "\u001b[1;32m~\\Anaconda3\\lib\\site-packages\\tensorflow_core\\python\\ops\\variables.py\u001b[0m in \u001b[0;36m_variable_v1_call\u001b[1;34m(cls, initial_value, trainable, collections, validate_shape, caching_device, name, variable_def, dtype, expected_shape, import_scope, constraint, use_resource, synchronization, aggregation, shape)\u001b[0m\n\u001b[0;32m    217\u001b[0m         \u001b[0msynchronization\u001b[0m\u001b[1;33m=\u001b[0m\u001b[0msynchronization\u001b[0m\u001b[1;33m,\u001b[0m\u001b[1;33m\u001b[0m\u001b[1;33m\u001b[0m\u001b[0m\n\u001b[0;32m    218\u001b[0m         \u001b[0maggregation\u001b[0m\u001b[1;33m=\u001b[0m\u001b[0maggregation\u001b[0m\u001b[1;33m,\u001b[0m\u001b[1;33m\u001b[0m\u001b[1;33m\u001b[0m\u001b[0m\n\u001b[1;32m--> 219\u001b[1;33m         shape=shape)\n\u001b[0m\u001b[0;32m    220\u001b[0m \u001b[1;33m\u001b[0m\u001b[0m\n\u001b[0;32m    221\u001b[0m   def _variable_v2_call(cls,\n",
      "\u001b[1;32m~\\Anaconda3\\lib\\site-packages\\tensorflow_core\\python\\ops\\variables.py\u001b[0m in \u001b[0;36m<lambda>\u001b[1;34m(**kwargs)\u001b[0m\n\u001b[0;32m    195\u001b[0m                         shape=None):\n\u001b[0;32m    196\u001b[0m     \u001b[1;34m\"\"\"Call on Variable class. Useful to force the signature.\"\"\"\u001b[0m\u001b[1;33m\u001b[0m\u001b[1;33m\u001b[0m\u001b[0m\n\u001b[1;32m--> 197\u001b[1;33m     \u001b[0mprevious_getter\u001b[0m \u001b[1;33m=\u001b[0m \u001b[1;32mlambda\u001b[0m \u001b[1;33m**\u001b[0m\u001b[0mkwargs\u001b[0m\u001b[1;33m:\u001b[0m \u001b[0mdefault_variable_creator\u001b[0m\u001b[1;33m(\u001b[0m\u001b[1;32mNone\u001b[0m\u001b[1;33m,\u001b[0m \u001b[1;33m**\u001b[0m\u001b[0mkwargs\u001b[0m\u001b[1;33m)\u001b[0m\u001b[1;33m\u001b[0m\u001b[1;33m\u001b[0m\u001b[0m\n\u001b[0m\u001b[0;32m    198\u001b[0m     \u001b[1;32mfor\u001b[0m \u001b[0m_\u001b[0m\u001b[1;33m,\u001b[0m \u001b[0mgetter\u001b[0m \u001b[1;32min\u001b[0m \u001b[0mops\u001b[0m\u001b[1;33m.\u001b[0m\u001b[0mget_default_graph\u001b[0m\u001b[1;33m(\u001b[0m\u001b[1;33m)\u001b[0m\u001b[1;33m.\u001b[0m\u001b[0m_variable_creator_stack\u001b[0m\u001b[1;33m:\u001b[0m  \u001b[1;31m# pylint: disable=protected-access\u001b[0m\u001b[1;33m\u001b[0m\u001b[1;33m\u001b[0m\u001b[0m\n\u001b[0;32m    199\u001b[0m       \u001b[0mprevious_getter\u001b[0m \u001b[1;33m=\u001b[0m \u001b[0m_make_getter\u001b[0m\u001b[1;33m(\u001b[0m\u001b[0mgetter\u001b[0m\u001b[1;33m,\u001b[0m \u001b[0mprevious_getter\u001b[0m\u001b[1;33m)\u001b[0m\u001b[1;33m\u001b[0m\u001b[1;33m\u001b[0m\u001b[0m\n",
      "\u001b[1;32m~\\Anaconda3\\lib\\site-packages\\tensorflow_core\\python\\ops\\variable_scope.py\u001b[0m in \u001b[0;36mdefault_variable_creator\u001b[1;34m(next_creator, **kwargs)\u001b[0m\n\u001b[0;32m   2594\u001b[0m         \u001b[0msynchronization\u001b[0m\u001b[1;33m=\u001b[0m\u001b[0msynchronization\u001b[0m\u001b[1;33m,\u001b[0m\u001b[1;33m\u001b[0m\u001b[1;33m\u001b[0m\u001b[0m\n\u001b[0;32m   2595\u001b[0m         \u001b[0maggregation\u001b[0m\u001b[1;33m=\u001b[0m\u001b[0maggregation\u001b[0m\u001b[1;33m,\u001b[0m\u001b[1;33m\u001b[0m\u001b[1;33m\u001b[0m\u001b[0m\n\u001b[1;32m-> 2596\u001b[1;33m         shape=shape)\n\u001b[0m\u001b[0;32m   2597\u001b[0m   \u001b[1;32melse\u001b[0m\u001b[1;33m:\u001b[0m\u001b[1;33m\u001b[0m\u001b[1;33m\u001b[0m\u001b[0m\n\u001b[0;32m   2598\u001b[0m     return variables.RefVariable(\n",
      "\u001b[1;32m~\\Anaconda3\\lib\\site-packages\\tensorflow_core\\python\\ops\\variables.py\u001b[0m in \u001b[0;36m__call__\u001b[1;34m(cls, *args, **kwargs)\u001b[0m\n\u001b[0;32m    260\u001b[0m       \u001b[1;32mreturn\u001b[0m \u001b[0mcls\u001b[0m\u001b[1;33m.\u001b[0m\u001b[0m_variable_v2_call\u001b[0m\u001b[1;33m(\u001b[0m\u001b[1;33m*\u001b[0m\u001b[0margs\u001b[0m\u001b[1;33m,\u001b[0m \u001b[1;33m**\u001b[0m\u001b[0mkwargs\u001b[0m\u001b[1;33m)\u001b[0m\u001b[1;33m\u001b[0m\u001b[1;33m\u001b[0m\u001b[0m\n\u001b[0;32m    261\u001b[0m     \u001b[1;32melse\u001b[0m\u001b[1;33m:\u001b[0m\u001b[1;33m\u001b[0m\u001b[1;33m\u001b[0m\u001b[0m\n\u001b[1;32m--> 262\u001b[1;33m       \u001b[1;32mreturn\u001b[0m \u001b[0msuper\u001b[0m\u001b[1;33m(\u001b[0m\u001b[0mVariableMetaclass\u001b[0m\u001b[1;33m,\u001b[0m \u001b[0mcls\u001b[0m\u001b[1;33m)\u001b[0m\u001b[1;33m.\u001b[0m\u001b[0m__call__\u001b[0m\u001b[1;33m(\u001b[0m\u001b[1;33m*\u001b[0m\u001b[0margs\u001b[0m\u001b[1;33m,\u001b[0m \u001b[1;33m**\u001b[0m\u001b[0mkwargs\u001b[0m\u001b[1;33m)\u001b[0m\u001b[1;33m\u001b[0m\u001b[1;33m\u001b[0m\u001b[0m\n\u001b[0m\u001b[0;32m    263\u001b[0m \u001b[1;33m\u001b[0m\u001b[0m\n\u001b[0;32m    264\u001b[0m \u001b[1;33m\u001b[0m\u001b[0m\n",
      "\u001b[1;32m~\\Anaconda3\\lib\\site-packages\\tensorflow_core\\python\\ops\\resource_variable_ops.py\u001b[0m in \u001b[0;36m__init__\u001b[1;34m(self, initial_value, trainable, collections, validate_shape, caching_device, name, dtype, variable_def, import_scope, constraint, distribute_strategy, synchronization, aggregation, shape)\u001b[0m\n\u001b[0;32m   1409\u001b[0m           \u001b[0maggregation\u001b[0m\u001b[1;33m=\u001b[0m\u001b[0maggregation\u001b[0m\u001b[1;33m,\u001b[0m\u001b[1;33m\u001b[0m\u001b[1;33m\u001b[0m\u001b[0m\n\u001b[0;32m   1410\u001b[0m           \u001b[0mshape\u001b[0m\u001b[1;33m=\u001b[0m\u001b[0mshape\u001b[0m\u001b[1;33m,\u001b[0m\u001b[1;33m\u001b[0m\u001b[1;33m\u001b[0m\u001b[0m\n\u001b[1;32m-> 1411\u001b[1;33m           distribute_strategy=distribute_strategy)\n\u001b[0m\u001b[0;32m   1412\u001b[0m \u001b[1;33m\u001b[0m\u001b[0m\n\u001b[0;32m   1413\u001b[0m   def _init_from_args(self,\n",
      "\u001b[1;32m~\\Anaconda3\\lib\\site-packages\\tensorflow_core\\python\\ops\\resource_variable_ops.py\u001b[0m in \u001b[0;36m_init_from_args\u001b[1;34m(self, initial_value, trainable, collections, caching_device, name, dtype, constraint, synchronization, aggregation, distribute_strategy, shape)\u001b[0m\n\u001b[0;32m   1540\u001b[0m           \u001b[1;32mwith\u001b[0m \u001b[0mops\u001b[0m\u001b[1;33m.\u001b[0m\u001b[0mname_scope\u001b[0m\u001b[1;33m(\u001b[0m\u001b[1;34m\"Initializer\"\u001b[0m\u001b[1;33m)\u001b[0m\u001b[1;33m,\u001b[0m \u001b[0mdevice_context_manager\u001b[0m\u001b[1;33m(\u001b[0m\u001b[1;32mNone\u001b[0m\u001b[1;33m)\u001b[0m\u001b[1;33m:\u001b[0m\u001b[1;33m\u001b[0m\u001b[1;33m\u001b[0m\u001b[0m\n\u001b[0;32m   1541\u001b[0m             initial_value = ops.convert_to_tensor(\n\u001b[1;32m-> 1542\u001b[1;33m                 \u001b[0minitial_value\u001b[0m\u001b[1;33m(\u001b[0m\u001b[1;33m)\u001b[0m \u001b[1;32mif\u001b[0m \u001b[0minit_from_fn\u001b[0m \u001b[1;32melse\u001b[0m \u001b[0minitial_value\u001b[0m\u001b[1;33m,\u001b[0m\u001b[1;33m\u001b[0m\u001b[1;33m\u001b[0m\u001b[0m\n\u001b[0m\u001b[0;32m   1543\u001b[0m                 name=\"initial_value\", dtype=dtype)\n\u001b[0;32m   1544\u001b[0m           \u001b[1;32mif\u001b[0m \u001b[0mshape\u001b[0m \u001b[1;32mis\u001b[0m \u001b[1;32mnot\u001b[0m \u001b[1;32mNone\u001b[0m\u001b[1;33m:\u001b[0m\u001b[1;33m\u001b[0m\u001b[1;33m\u001b[0m\u001b[0m\n",
      "\u001b[1;32m~\\Anaconda3\\lib\\site-packages\\tensorflow_core\\python\\keras\\engine\\base_layer_utils.py\u001b[0m in \u001b[0;36m<lambda>\u001b[1;34m()\u001b[0m\n\u001b[0;32m    120\u001b[0m           (type(init_ops.Initializer), type(init_ops_v2.Initializer))):\n\u001b[0;32m    121\u001b[0m         \u001b[0minitializer\u001b[0m \u001b[1;33m=\u001b[0m \u001b[0minitializer\u001b[0m\u001b[1;33m(\u001b[0m\u001b[1;33m)\u001b[0m\u001b[1;33m\u001b[0m\u001b[1;33m\u001b[0m\u001b[0m\n\u001b[1;32m--> 122\u001b[1;33m       \u001b[0minit_val\u001b[0m \u001b[1;33m=\u001b[0m \u001b[1;32mlambda\u001b[0m\u001b[1;33m:\u001b[0m \u001b[0minitializer\u001b[0m\u001b[1;33m(\u001b[0m\u001b[0mshape\u001b[0m\u001b[1;33m,\u001b[0m \u001b[0mdtype\u001b[0m\u001b[1;33m=\u001b[0m\u001b[0mdtype\u001b[0m\u001b[1;33m)\u001b[0m\u001b[1;33m\u001b[0m\u001b[1;33m\u001b[0m\u001b[0m\n\u001b[0m\u001b[0;32m    123\u001b[0m       \u001b[0mvariable_dtype\u001b[0m \u001b[1;33m=\u001b[0m \u001b[0mdtype\u001b[0m\u001b[1;33m.\u001b[0m\u001b[0mbase_dtype\u001b[0m\u001b[1;33m\u001b[0m\u001b[1;33m\u001b[0m\u001b[0m\n\u001b[0;32m    124\u001b[0m   \u001b[1;32mif\u001b[0m \u001b[0muse_resource\u001b[0m \u001b[1;32mis\u001b[0m \u001b[1;32mNone\u001b[0m\u001b[1;33m:\u001b[0m\u001b[1;33m\u001b[0m\u001b[1;33m\u001b[0m\u001b[0m\n",
      "\u001b[1;32m~\\Anaconda3\\lib\\site-packages\\tensorflow_core\\python\\ops\\init_ops_v2.py\u001b[0m in \u001b[0;36m__call__\u001b[1;34m(self, shape, dtype)\u001b[0m\n\u001b[0;32m    413\u001b[0m       \u001b[0mscale\u001b[0m \u001b[1;33m/=\u001b[0m \u001b[0mmax\u001b[0m\u001b[1;33m(\u001b[0m\u001b[1;36m1.\u001b[0m\u001b[1;33m,\u001b[0m \u001b[0mfan_out\u001b[0m\u001b[1;33m)\u001b[0m\u001b[1;33m\u001b[0m\u001b[1;33m\u001b[0m\u001b[0m\n\u001b[0;32m    414\u001b[0m     \u001b[1;32melse\u001b[0m\u001b[1;33m:\u001b[0m\u001b[1;33m\u001b[0m\u001b[1;33m\u001b[0m\u001b[0m\n\u001b[1;32m--> 415\u001b[1;33m       \u001b[0mscale\u001b[0m \u001b[1;33m/=\u001b[0m \u001b[0mmax\u001b[0m\u001b[1;33m(\u001b[0m\u001b[1;36m1.\u001b[0m\u001b[1;33m,\u001b[0m \u001b[1;33m(\u001b[0m\u001b[0mfan_in\u001b[0m \u001b[1;33m+\u001b[0m \u001b[0mfan_out\u001b[0m\u001b[1;33m)\u001b[0m \u001b[1;33m/\u001b[0m \u001b[1;36m2.\u001b[0m\u001b[1;33m)\u001b[0m\u001b[1;33m\u001b[0m\u001b[1;33m\u001b[0m\u001b[0m\n\u001b[0m\u001b[0;32m    416\u001b[0m     \u001b[1;32mif\u001b[0m \u001b[0mself\u001b[0m\u001b[1;33m.\u001b[0m\u001b[0mdistribution\u001b[0m \u001b[1;33m==\u001b[0m \u001b[1;34m\"truncated_normal\"\u001b[0m\u001b[1;33m:\u001b[0m\u001b[1;33m\u001b[0m\u001b[1;33m\u001b[0m\u001b[0m\n\u001b[0;32m    417\u001b[0m       \u001b[1;31m# constant from scipy.stats.truncnorm.std(a=-2, b=2, loc=0., scale=1.)\u001b[0m\u001b[1;33m\u001b[0m\u001b[1;33m\u001b[0m\u001b[1;33m\u001b[0m\u001b[0m\n",
      "\u001b[1;31mTypeError\u001b[0m: unsupported operand type(s) for +: 'NoneType' and 'int'"
     ]
    }
   ],
   "source": [
    "decoder_inputs = Input(shape=(num_dec_tokens,))\n",
    "decoder_lstm = LSTM(latent_dim*2,return_sequences=True,return_state=True)\n",
    "decoder_ouputs,_,_ = decoder_lstm(decoder_inputs,initial_state = encoder_states)"
   ]
  },
  {
   "cell_type": "code",
   "execution_count": 215,
   "metadata": {},
   "outputs": [],
   "source": [
    "decoder_concat_input = Concatenate(axis=-1, name='concat_layer')([decoder_ouputs, attention_result])"
   ]
  },
  {
   "cell_type": "code",
   "execution_count": 216,
   "metadata": {},
   "outputs": [],
   "source": [
    "decoder_d2 =  Dense(num_dec_tokens, activation=\"softmax\")\n",
    "decoder_out = decoder_d2(decoder_concat_input)"
   ]
  },
  {
   "cell_type": "code",
   "execution_count": 180,
   "metadata": {},
   "outputs": [
    {
     "output_type": "error",
     "ename": "TypeError",
     "evalue": "'Tensor' object is not callable",
     "traceback": [
      "\u001b[1;31m---------------------------------------------------------------------------\u001b[0m",
      "\u001b[1;31mTypeError\u001b[0m                                 Traceback (most recent call last)",
      "\u001b[1;32m<ipython-input-180-3002c0f190e7>\u001b[0m in \u001b[0;36m<module>\u001b[1;34m\u001b[0m\n\u001b[0;32m      1\u001b[0m \u001b[0mdecoder_dense\u001b[0m \u001b[1;33m=\u001b[0m \u001b[0mDense\u001b[0m\u001b[1;33m(\u001b[0m\u001b[0mnum_dec_tokens\u001b[0m\u001b[1;33m,\u001b[0m \u001b[0mactivation\u001b[0m\u001b[1;33m=\u001b[0m\u001b[1;34m'softmax'\u001b[0m\u001b[1;33m)\u001b[0m\u001b[1;33m(\u001b[0m\u001b[0mdecoder_concat_input\u001b[0m\u001b[1;33m)\u001b[0m\u001b[1;33m\u001b[0m\u001b[1;33m\u001b[0m\u001b[0m\n\u001b[1;32m----> 2\u001b[1;33m \u001b[0mdecoder_ouputs\u001b[0m \u001b[1;33m=\u001b[0m \u001b[0mdecoder_dense\u001b[0m\u001b[1;33m(\u001b[0m\u001b[0mdecoder_ouputs\u001b[0m\u001b[1;33m)\u001b[0m\u001b[1;33m\u001b[0m\u001b[1;33m\u001b[0m\u001b[0m\n\u001b[0m",
      "\u001b[1;31mTypeError\u001b[0m: 'Tensor' object is not callable"
     ]
    }
   ],
   "source": [
    "decoder_dense = Dense(num_dec_tokens, activation='softmax')(decoder_concat_input)\n",
    "decoder_ouputs = decoder_dense(decoder_ouputs)"
   ]
  },
  {
   "cell_type": "code",
   "execution_count": 217,
   "metadata": {},
   "outputs": [
    {
     "output_type": "error",
     "ename": "ValueError",
     "evalue": "Graph disconnected: cannot obtain value for tensor Tensor(\"input_28:0\", shape=(None, None, 90), dtype=float32) at layer \"input_28\". The following previous layers were accessed without issue: ['input_52', 'embedding_14']",
     "traceback": [
      "\u001b[1;31m---------------------------------------------------------------------------\u001b[0m",
      "\u001b[1;31mValueError\u001b[0m                                Traceback (most recent call last)",
      "\u001b[1;32m<ipython-input-217-121142b53797>\u001b[0m in \u001b[0;36m<module>\u001b[1;34m\u001b[0m\n\u001b[1;32m----> 1\u001b[1;33m \u001b[0mmodel\u001b[0m \u001b[1;33m=\u001b[0m \u001b[0mModel\u001b[0m\u001b[1;33m(\u001b[0m\u001b[1;33m[\u001b[0m\u001b[0mencoder_inputs\u001b[0m\u001b[1;33m,\u001b[0m\u001b[0mdecoder_inputs\u001b[0m\u001b[1;33m]\u001b[0m\u001b[1;33m,\u001b[0m\u001b[0mdecoder_out\u001b[0m\u001b[1;33m)\u001b[0m\u001b[1;33m\u001b[0m\u001b[1;33m\u001b[0m\u001b[0m\n\u001b[0m\u001b[0;32m      2\u001b[0m \u001b[1;31m#model = Model(Attention())\u001b[0m\u001b[1;33m\u001b[0m\u001b[1;33m\u001b[0m\u001b[1;33m\u001b[0m\u001b[0m\n\u001b[0;32m      3\u001b[0m \u001b[1;31m#model = Model.add(Attention())\u001b[0m\u001b[1;33m\u001b[0m\u001b[1;33m\u001b[0m\u001b[1;33m\u001b[0m\u001b[0m\n\u001b[0;32m      4\u001b[0m \u001b[0mmodel\u001b[0m\u001b[1;33m.\u001b[0m\u001b[0mcompile\u001b[0m\u001b[1;33m(\u001b[0m\u001b[0moptimizer\u001b[0m\u001b[1;33m=\u001b[0m\u001b[1;34m'adam'\u001b[0m\u001b[1;33m,\u001b[0m\u001b[0mloss\u001b[0m\u001b[1;33m=\u001b[0m\u001b[1;34m'categorical_crossentropy'\u001b[0m\u001b[1;33m,\u001b[0m\u001b[0mmetrics\u001b[0m\u001b[1;33m=\u001b[0m\u001b[1;33m[\u001b[0m\u001b[1;34m'accuracy'\u001b[0m\u001b[1;33m]\u001b[0m\u001b[1;33m)\u001b[0m\u001b[1;33m\u001b[0m\u001b[1;33m\u001b[0m\u001b[0m\n\u001b[0;32m      5\u001b[0m \u001b[0mmodel\u001b[0m\u001b[1;33m.\u001b[0m\u001b[0msummary\u001b[0m\u001b[1;33m(\u001b[0m\u001b[1;33m)\u001b[0m\u001b[1;33m\u001b[0m\u001b[1;33m\u001b[0m\u001b[0m\n",
      "\u001b[1;32m~\\Anaconda3\\lib\\site-packages\\tensorflow_core\\python\\keras\\engine\\training.py\u001b[0m in \u001b[0;36m__init__\u001b[1;34m(self, *args, **kwargs)\u001b[0m\n\u001b[0;32m    144\u001b[0m \u001b[1;33m\u001b[0m\u001b[0m\n\u001b[0;32m    145\u001b[0m   \u001b[1;32mdef\u001b[0m \u001b[0m__init__\u001b[0m\u001b[1;33m(\u001b[0m\u001b[0mself\u001b[0m\u001b[1;33m,\u001b[0m \u001b[1;33m*\u001b[0m\u001b[0margs\u001b[0m\u001b[1;33m,\u001b[0m \u001b[1;33m**\u001b[0m\u001b[0mkwargs\u001b[0m\u001b[1;33m)\u001b[0m\u001b[1;33m:\u001b[0m\u001b[1;33m\u001b[0m\u001b[1;33m\u001b[0m\u001b[0m\n\u001b[1;32m--> 146\u001b[1;33m     \u001b[0msuper\u001b[0m\u001b[1;33m(\u001b[0m\u001b[0mModel\u001b[0m\u001b[1;33m,\u001b[0m \u001b[0mself\u001b[0m\u001b[1;33m)\u001b[0m\u001b[1;33m.\u001b[0m\u001b[0m__init__\u001b[0m\u001b[1;33m(\u001b[0m\u001b[1;33m*\u001b[0m\u001b[0margs\u001b[0m\u001b[1;33m,\u001b[0m \u001b[1;33m**\u001b[0m\u001b[0mkwargs\u001b[0m\u001b[1;33m)\u001b[0m\u001b[1;33m\u001b[0m\u001b[1;33m\u001b[0m\u001b[0m\n\u001b[0m\u001b[0;32m    147\u001b[0m     \u001b[0m_keras_api_gauge\u001b[0m\u001b[1;33m.\u001b[0m\u001b[0mget_cell\u001b[0m\u001b[1;33m(\u001b[0m\u001b[1;34m'model'\u001b[0m\u001b[1;33m)\u001b[0m\u001b[1;33m.\u001b[0m\u001b[0mset\u001b[0m\u001b[1;33m(\u001b[0m\u001b[1;32mTrue\u001b[0m\u001b[1;33m)\u001b[0m\u001b[1;33m\u001b[0m\u001b[1;33m\u001b[0m\u001b[0m\n\u001b[0;32m    148\u001b[0m     \u001b[1;31m# initializing _distribution_strategy here since it is possible to call\u001b[0m\u001b[1;33m\u001b[0m\u001b[1;33m\u001b[0m\u001b[1;33m\u001b[0m\u001b[0m\n",
      "\u001b[1;32m~\\Anaconda3\\lib\\site-packages\\tensorflow_core\\python\\keras\\engine\\network.py\u001b[0m in \u001b[0;36m__init__\u001b[1;34m(self, *args, **kwargs)\u001b[0m\n\u001b[0;32m    167\u001b[0m         'inputs' in kwargs and 'outputs' in kwargs):\n\u001b[0;32m    168\u001b[0m       \u001b[1;31m# Graph network\u001b[0m\u001b[1;33m\u001b[0m\u001b[1;33m\u001b[0m\u001b[1;33m\u001b[0m\u001b[0m\n\u001b[1;32m--> 169\u001b[1;33m       \u001b[0mself\u001b[0m\u001b[1;33m.\u001b[0m\u001b[0m_init_graph_network\u001b[0m\u001b[1;33m(\u001b[0m\u001b[1;33m*\u001b[0m\u001b[0margs\u001b[0m\u001b[1;33m,\u001b[0m \u001b[1;33m**\u001b[0m\u001b[0mkwargs\u001b[0m\u001b[1;33m)\u001b[0m\u001b[1;33m\u001b[0m\u001b[1;33m\u001b[0m\u001b[0m\n\u001b[0m\u001b[0;32m    170\u001b[0m     \u001b[1;32melse\u001b[0m\u001b[1;33m:\u001b[0m\u001b[1;33m\u001b[0m\u001b[1;33m\u001b[0m\u001b[0m\n\u001b[0;32m    171\u001b[0m       \u001b[1;31m# Subclassed network\u001b[0m\u001b[1;33m\u001b[0m\u001b[1;33m\u001b[0m\u001b[1;33m\u001b[0m\u001b[0m\n",
      "\u001b[1;32m~\\Anaconda3\\lib\\site-packages\\tensorflow_core\\python\\training\\tracking\\base.py\u001b[0m in \u001b[0;36m_method_wrapper\u001b[1;34m(self, *args, **kwargs)\u001b[0m\n\u001b[0;32m    455\u001b[0m     \u001b[0mself\u001b[0m\u001b[1;33m.\u001b[0m\u001b[0m_self_setattr_tracking\u001b[0m \u001b[1;33m=\u001b[0m \u001b[1;32mFalse\u001b[0m  \u001b[1;31m# pylint: disable=protected-access\u001b[0m\u001b[1;33m\u001b[0m\u001b[1;33m\u001b[0m\u001b[0m\n\u001b[0;32m    456\u001b[0m     \u001b[1;32mtry\u001b[0m\u001b[1;33m:\u001b[0m\u001b[1;33m\u001b[0m\u001b[1;33m\u001b[0m\u001b[0m\n\u001b[1;32m--> 457\u001b[1;33m       \u001b[0mresult\u001b[0m \u001b[1;33m=\u001b[0m \u001b[0mmethod\u001b[0m\u001b[1;33m(\u001b[0m\u001b[0mself\u001b[0m\u001b[1;33m,\u001b[0m \u001b[1;33m*\u001b[0m\u001b[0margs\u001b[0m\u001b[1;33m,\u001b[0m \u001b[1;33m**\u001b[0m\u001b[0mkwargs\u001b[0m\u001b[1;33m)\u001b[0m\u001b[1;33m\u001b[0m\u001b[1;33m\u001b[0m\u001b[0m\n\u001b[0m\u001b[0;32m    458\u001b[0m     \u001b[1;32mfinally\u001b[0m\u001b[1;33m:\u001b[0m\u001b[1;33m\u001b[0m\u001b[1;33m\u001b[0m\u001b[0m\n\u001b[0;32m    459\u001b[0m       \u001b[0mself\u001b[0m\u001b[1;33m.\u001b[0m\u001b[0m_self_setattr_tracking\u001b[0m \u001b[1;33m=\u001b[0m \u001b[0mprevious_value\u001b[0m  \u001b[1;31m# pylint: disable=protected-access\u001b[0m\u001b[1;33m\u001b[0m\u001b[1;33m\u001b[0m\u001b[0m\n",
      "\u001b[1;32m~\\Anaconda3\\lib\\site-packages\\tensorflow_core\\python\\keras\\engine\\network.py\u001b[0m in \u001b[0;36m_init_graph_network\u001b[1;34m(self, inputs, outputs, name, **kwargs)\u001b[0m\n\u001b[0;32m    322\u001b[0m     \u001b[1;31m# Keep track of the network's nodes and layers.\u001b[0m\u001b[1;33m\u001b[0m\u001b[1;33m\u001b[0m\u001b[1;33m\u001b[0m\u001b[0m\n\u001b[0;32m    323\u001b[0m     nodes, nodes_by_depth, layers, _ = _map_graph_network(\n\u001b[1;32m--> 324\u001b[1;33m         self.inputs, self.outputs)\n\u001b[0m\u001b[0;32m    325\u001b[0m     \u001b[0mself\u001b[0m\u001b[1;33m.\u001b[0m\u001b[0m_network_nodes\u001b[0m \u001b[1;33m=\u001b[0m \u001b[0mnodes\u001b[0m\u001b[1;33m\u001b[0m\u001b[1;33m\u001b[0m\u001b[0m\n\u001b[0;32m    326\u001b[0m     \u001b[0mself\u001b[0m\u001b[1;33m.\u001b[0m\u001b[0m_nodes_by_depth\u001b[0m \u001b[1;33m=\u001b[0m \u001b[0mnodes_by_depth\u001b[0m\u001b[1;33m\u001b[0m\u001b[1;33m\u001b[0m\u001b[0m\n",
      "\u001b[1;32m~\\Anaconda3\\lib\\site-packages\\tensorflow_core\\python\\keras\\engine\\network.py\u001b[0m in \u001b[0;36m_map_graph_network\u001b[1;34m(inputs, outputs)\u001b[0m\n\u001b[0;32m   1674\u001b[0m                              \u001b[1;34m'The following previous layers '\u001b[0m\u001b[1;33m\u001b[0m\u001b[1;33m\u001b[0m\u001b[0m\n\u001b[0;32m   1675\u001b[0m                              \u001b[1;34m'were accessed without issue: '\u001b[0m \u001b[1;33m+\u001b[0m\u001b[1;33m\u001b[0m\u001b[1;33m\u001b[0m\u001b[0m\n\u001b[1;32m-> 1676\u001b[1;33m                              str(layers_with_complete_input))\n\u001b[0m\u001b[0;32m   1677\u001b[0m         \u001b[1;32mfor\u001b[0m \u001b[0mx\u001b[0m \u001b[1;32min\u001b[0m \u001b[0mnest\u001b[0m\u001b[1;33m.\u001b[0m\u001b[0mflatten\u001b[0m\u001b[1;33m(\u001b[0m\u001b[0mnode\u001b[0m\u001b[1;33m.\u001b[0m\u001b[0moutput_tensors\u001b[0m\u001b[1;33m)\u001b[0m\u001b[1;33m:\u001b[0m\u001b[1;33m\u001b[0m\u001b[1;33m\u001b[0m\u001b[0m\n\u001b[0;32m   1678\u001b[0m           \u001b[0mcomputable_tensors\u001b[0m\u001b[1;33m.\u001b[0m\u001b[0madd\u001b[0m\u001b[1;33m(\u001b[0m\u001b[0mid\u001b[0m\u001b[1;33m(\u001b[0m\u001b[0mx\u001b[0m\u001b[1;33m)\u001b[0m\u001b[1;33m)\u001b[0m\u001b[1;33m\u001b[0m\u001b[1;33m\u001b[0m\u001b[0m\n",
      "\u001b[1;31mValueError\u001b[0m: Graph disconnected: cannot obtain value for tensor Tensor(\"input_28:0\", shape=(None, None, 90), dtype=float32) at layer \"input_28\". The following previous layers were accessed without issue: ['input_52', 'embedding_14']"
     ]
    }
   ],
   "source": [
    "model = Model([encoder_inputs,decoder_inputs],decoder_out)\n",
    "#model = Model(Attention())\n",
    "#model = Model.add(Attention())\n",
    "model.compile(optimizer='adam',loss='categorical_crossentropy',metrics=['accuracy'])\n",
    "model.summary()"
   ]
  },
  {
   "cell_type": "code",
   "execution_count": null,
   "metadata": {},
   "outputs": [],
   "source": []
  },
  {
   "cell_type": "code",
   "execution_count": 135,
   "metadata": {},
   "outputs": [
    {
     "output_type": "execute_result",
     "data": {
      "text/plain": "TensorShape([None, None, 92])"
     },
     "metadata": {},
     "execution_count": 135
    }
   ],
   "source": [
    "decoder_outputs.shape"
   ]
  },
  {
   "cell_type": "code",
   "execution_count": 158,
   "metadata": {},
   "outputs": [],
   "source": [
    "from tensorflow.keras.layers import Activation, dot, concatenate,TimeDistributed,RepeatVector,Embedding"
   ]
  },
  {
   "cell_type": "code",
   "execution_count": 171,
   "metadata": {},
   "outputs": [
    {
     "output_type": "execute_result",
     "data": {
      "text/plain": "<tf.Tensor 'bahdanau_attention_2/Identity:0' shape=(None, None, 512) dtype=float32>"
     },
     "metadata": {},
     "execution_count": 171
    }
   ],
   "source": [
    "attention_result"
   ]
  },
  {
   "cell_type": "code",
   "execution_count": 169,
   "metadata": {},
   "outputs": [
    {
     "output_type": "error",
     "ename": "TypeError",
     "evalue": "'Tensor' object is not callable",
     "traceback": [
      "\u001b[1;31m---------------------------------------------------------------------------\u001b[0m",
      "\u001b[1;31mTypeError\u001b[0m                                 Traceback (most recent call last)",
      "\u001b[1;32m<ipython-input-169-435db3a3ed1d>\u001b[0m in \u001b[0;36m<module>\u001b[1;34m\u001b[0m\n\u001b[0;32m      1\u001b[0m \u001b[0mdecoder_dense\u001b[0m \u001b[1;33m=\u001b[0m \u001b[0mDense\u001b[0m\u001b[1;33m(\u001b[0m\u001b[0mnum_dec_tokens\u001b[0m\u001b[1;33m,\u001b[0m \u001b[0mactivation\u001b[0m\u001b[1;33m=\u001b[0m\u001b[1;34m'softmax'\u001b[0m\u001b[1;33m)\u001b[0m\u001b[1;33m(\u001b[0m\u001b[0mattention_result\u001b[0m\u001b[1;33m)\u001b[0m\u001b[1;33m\u001b[0m\u001b[1;33m\u001b[0m\u001b[0m\n\u001b[1;32m----> 2\u001b[1;33m \u001b[0mdecoder_ouputs\u001b[0m \u001b[1;33m=\u001b[0m \u001b[0mdecoder_dense\u001b[0m\u001b[1;33m(\u001b[0m\u001b[0mdecoder_ouputs\u001b[0m\u001b[1;33m)\u001b[0m\u001b[1;33m\u001b[0m\u001b[1;33m\u001b[0m\u001b[0m\n\u001b[0m",
      "\u001b[1;31mTypeError\u001b[0m: 'Tensor' object is not callable"
     ]
    }
   ],
   "source": [
    "decoder_dense = Dense(num_dec_tokens, activation='softmax')(attention_result)\n",
    "decoder_ouputs = decoder_dense(decoder_ouputs)"
   ]
  },
  {
   "cell_type": "code",
   "execution_count": null,
   "metadata": {},
   "outputs": [],
   "source": []
  },
  {
   "cell_type": "code",
   "execution_count": 168,
   "metadata": {},
   "outputs": [
    {
     "output_type": "stream",
     "name": "stdout",
     "text": "Model: \"model_13\"\n__________________________________________________________________________________________________\nLayer (type)                    Output Shape         Param #     Connected to                     \n==================================================================================================\ninput_28 (InputLayer)           [(None, None, 90)]   0                                            \n__________________________________________________________________________________________________\nbidirectional_11 (Bidirectional [(None, None, 512),  710656      input_28[0][0]                   \n__________________________________________________________________________________________________\ninput_31 (InputLayer)           [(None, None, 92)]   0                                            \n__________________________________________________________________________________________________\nconcatenate_8 (Concatenate)     (None, 512)          0           bidirectional_11[0][1]           \n                                                                 bidirectional_11[0][3]           \n__________________________________________________________________________________________________\nconcatenate_9 (Concatenate)     (None, 512)          0           bidirectional_11[0][2]           \n                                                                 bidirectional_11[0][4]           \n__________________________________________________________________________________________________\nlstm_21 (LSTM)                  [(None, None, 512),  1239040     input_31[0][0]                   \n                                                                 concatenate_8[0][0]              \n                                                                 concatenate_9[0][0]              \n__________________________________________________________________________________________________\ndense_19 (Dense)                (None, None, 92)     47196       lstm_21[0][0]                    \n==================================================================================================\nTotal params: 1,996,892\nTrainable params: 1,996,892\nNon-trainable params: 0\n__________________________________________________________________________________________________\n"
    }
   ],
   "source": [
    "model = Model([encoder_inputs,decoder_inputs],decoder_ouputs)\n",
    "#model = Model(Attention())\n",
    "#model = Model.add(Attention())\n",
    "model.compile(optimizer='adam',loss='categorical_crossentropy',metrics=['accuracy'])\n",
    "model.summary()"
   ]
  },
  {
   "cell_type": "code",
   "execution_count": 202,
   "metadata": {
    "tags": [
     "outputPrepend",
     "outputPrepend",
     "outputPrepend",
     "outputPrepend",
     "outputPrepend",
     "outputPrepend",
     "outputPrepend",
     "outputPrepend",
     "outputPrepend",
     "outputPrepend",
     "outputPrepend",
     "outputPrepend",
     "outputPrepend",
     "outputPrepend",
     "outputPrepend",
     "outputPrepend",
     "outputPrepend",
     "outputPrepend",
     "outputPrepend",
     "outputPrepend",
     "outputPrepend",
     "outputPrepend",
     "outputPrepend",
     "outputPrepend",
     "outputPrepend",
     "outputPrepend",
     "outputPrepend",
     "outputPrepend",
     "outputPrepend",
     "outputPrepend",
     "outputPrepend",
     "outputPrepend",
     "outputPrepend",
     "outputPrepend"
    ]
   },
   "outputs": [
    {
     "output_type": "stream",
     "name": "stdout",
     "text": "Train on 190 samples\nEpoch 1/100\n 64/190 [=========>....................] - ETA: 4s"
    },
    {
     "output_type": "error",
     "ename": "ValueError",
     "evalue": "Dimension 1 in both shapes must be equal, but are 59 and 57. Shapes are [?,59] and [?,57]. for 'model_16/concat_layer/concat' (op: 'ConcatV2') with input shapes: [?,59,92], [?,57,512], [] and with computed input tensors: input[2] = <2>.",
     "traceback": [
      "\u001b[1;31m---------------------------------------------------------------------------\u001b[0m",
      "\u001b[1;31mInvalidArgumentError\u001b[0m                      Traceback (most recent call last)",
      "\u001b[1;32m~\\Anaconda3\\lib\\site-packages\\tensorflow_core\\python\\framework\\ops.py\u001b[0m in \u001b[0;36m_create_c_op\u001b[1;34m(graph, node_def, inputs, control_inputs)\u001b[0m\n\u001b[0;32m   1618\u001b[0m   \u001b[1;32mtry\u001b[0m\u001b[1;33m:\u001b[0m\u001b[1;33m\u001b[0m\u001b[1;33m\u001b[0m\u001b[0m\n\u001b[1;32m-> 1619\u001b[1;33m     \u001b[0mc_op\u001b[0m \u001b[1;33m=\u001b[0m \u001b[0mc_api\u001b[0m\u001b[1;33m.\u001b[0m\u001b[0mTF_FinishOperation\u001b[0m\u001b[1;33m(\u001b[0m\u001b[0mop_desc\u001b[0m\u001b[1;33m)\u001b[0m\u001b[1;33m\u001b[0m\u001b[1;33m\u001b[0m\u001b[0m\n\u001b[0m\u001b[0;32m   1620\u001b[0m   \u001b[1;32mexcept\u001b[0m \u001b[0merrors\u001b[0m\u001b[1;33m.\u001b[0m\u001b[0mInvalidArgumentError\u001b[0m \u001b[1;32mas\u001b[0m \u001b[0me\u001b[0m\u001b[1;33m:\u001b[0m\u001b[1;33m\u001b[0m\u001b[1;33m\u001b[0m\u001b[0m\n",
      "\u001b[1;31mInvalidArgumentError\u001b[0m: Dimension 1 in both shapes must be equal, but are 59 and 57. Shapes are [?,59] and [?,57]. for 'model_16/concat_layer/concat' (op: 'ConcatV2') with input shapes: [?,59,92], [?,57,512], [] and with computed input tensors: input[2] = <2>.",
      "\nDuring handling of the above exception, another exception occurred:\n",
      "\u001b[1;31mValueError\u001b[0m                                Traceback (most recent call last)",
      "\u001b[1;32m<ipython-input-202-69cdd4c46ff3>\u001b[0m in \u001b[0;36m<module>\u001b[1;34m\u001b[0m\n\u001b[0;32m      1\u001b[0m h=model.fit([encoder_input_data,decoder_input_data],decoder_target_data\n\u001b[0;32m      2\u001b[0m          \u001b[1;33m,\u001b[0m\u001b[0mepochs\u001b[0m \u001b[1;33m=\u001b[0m \u001b[1;36m100\u001b[0m\u001b[1;33m,\u001b[0m\u001b[1;33m\u001b[0m\u001b[1;33m\u001b[0m\u001b[0m\n\u001b[1;32m----> 3\u001b[1;33m           \u001b[0mbatch_size\u001b[0m \u001b[1;33m=\u001b[0m \u001b[0mbatch_size\u001b[0m\u001b[1;33m,\u001b[0m\u001b[1;33m\u001b[0m\u001b[1;33m\u001b[0m\u001b[0m\n\u001b[0m\u001b[0;32m      4\u001b[0m          )\n",
      "\u001b[1;32m~\\Anaconda3\\lib\\site-packages\\tensorflow_core\\python\\keras\\engine\\training.py\u001b[0m in \u001b[0;36mfit\u001b[1;34m(self, x, y, batch_size, epochs, verbose, callbacks, validation_split, validation_data, shuffle, class_weight, sample_weight, initial_epoch, steps_per_epoch, validation_steps, validation_freq, max_queue_size, workers, use_multiprocessing, **kwargs)\u001b[0m\n\u001b[0;32m    817\u001b[0m         \u001b[0mmax_queue_size\u001b[0m\u001b[1;33m=\u001b[0m\u001b[0mmax_queue_size\u001b[0m\u001b[1;33m,\u001b[0m\u001b[1;33m\u001b[0m\u001b[1;33m\u001b[0m\u001b[0m\n\u001b[0;32m    818\u001b[0m         \u001b[0mworkers\u001b[0m\u001b[1;33m=\u001b[0m\u001b[0mworkers\u001b[0m\u001b[1;33m,\u001b[0m\u001b[1;33m\u001b[0m\u001b[1;33m\u001b[0m\u001b[0m\n\u001b[1;32m--> 819\u001b[1;33m         use_multiprocessing=use_multiprocessing)\n\u001b[0m\u001b[0;32m    820\u001b[0m \u001b[1;33m\u001b[0m\u001b[0m\n\u001b[0;32m    821\u001b[0m   def evaluate(self,\n",
      "\u001b[1;32m~\\Anaconda3\\lib\\site-packages\\tensorflow_core\\python\\keras\\engine\\training_v2.py\u001b[0m in \u001b[0;36mfit\u001b[1;34m(self, model, x, y, batch_size, epochs, verbose, callbacks, validation_split, validation_data, shuffle, class_weight, sample_weight, initial_epoch, steps_per_epoch, validation_steps, validation_freq, max_queue_size, workers, use_multiprocessing, **kwargs)\u001b[0m\n\u001b[0;32m    340\u001b[0m                 \u001b[0mmode\u001b[0m\u001b[1;33m=\u001b[0m\u001b[0mModeKeys\u001b[0m\u001b[1;33m.\u001b[0m\u001b[0mTRAIN\u001b[0m\u001b[1;33m,\u001b[0m\u001b[1;33m\u001b[0m\u001b[1;33m\u001b[0m\u001b[0m\n\u001b[0;32m    341\u001b[0m                 \u001b[0mtraining_context\u001b[0m\u001b[1;33m=\u001b[0m\u001b[0mtraining_context\u001b[0m\u001b[1;33m,\u001b[0m\u001b[1;33m\u001b[0m\u001b[1;33m\u001b[0m\u001b[0m\n\u001b[1;32m--> 342\u001b[1;33m                 total_epochs=epochs)\n\u001b[0m\u001b[0;32m    343\u001b[0m             \u001b[0mcbks\u001b[0m\u001b[1;33m.\u001b[0m\u001b[0mmake_logs\u001b[0m\u001b[1;33m(\u001b[0m\u001b[0mmodel\u001b[0m\u001b[1;33m,\u001b[0m \u001b[0mepoch_logs\u001b[0m\u001b[1;33m,\u001b[0m \u001b[0mtraining_result\u001b[0m\u001b[1;33m,\u001b[0m \u001b[0mModeKeys\u001b[0m\u001b[1;33m.\u001b[0m\u001b[0mTRAIN\u001b[0m\u001b[1;33m)\u001b[0m\u001b[1;33m\u001b[0m\u001b[1;33m\u001b[0m\u001b[0m\n\u001b[0;32m    344\u001b[0m \u001b[1;33m\u001b[0m\u001b[0m\n",
      "\u001b[1;32m~\\Anaconda3\\lib\\site-packages\\tensorflow_core\\python\\keras\\engine\\training_v2.py\u001b[0m in \u001b[0;36mrun_one_epoch\u001b[1;34m(model, iterator, execution_function, dataset_size, batch_size, strategy, steps_per_epoch, num_samples, mode, training_context, total_epochs)\u001b[0m\n\u001b[0;32m    126\u001b[0m         step=step, mode=mode, size=current_batch_size) as batch_logs:\n\u001b[0;32m    127\u001b[0m       \u001b[1;32mtry\u001b[0m\u001b[1;33m:\u001b[0m\u001b[1;33m\u001b[0m\u001b[1;33m\u001b[0m\u001b[0m\n\u001b[1;32m--> 128\u001b[1;33m         \u001b[0mbatch_outs\u001b[0m \u001b[1;33m=\u001b[0m \u001b[0mexecution_function\u001b[0m\u001b[1;33m(\u001b[0m\u001b[0miterator\u001b[0m\u001b[1;33m)\u001b[0m\u001b[1;33m\u001b[0m\u001b[1;33m\u001b[0m\u001b[0m\n\u001b[0m\u001b[0;32m    129\u001b[0m       \u001b[1;32mexcept\u001b[0m \u001b[1;33m(\u001b[0m\u001b[0mStopIteration\u001b[0m\u001b[1;33m,\u001b[0m \u001b[0merrors\u001b[0m\u001b[1;33m.\u001b[0m\u001b[0mOutOfRangeError\u001b[0m\u001b[1;33m)\u001b[0m\u001b[1;33m:\u001b[0m\u001b[1;33m\u001b[0m\u001b[1;33m\u001b[0m\u001b[0m\n\u001b[0;32m    130\u001b[0m         \u001b[1;31m# TODO(kaftan): File bug about tf function and errors.OutOfRangeError?\u001b[0m\u001b[1;33m\u001b[0m\u001b[1;33m\u001b[0m\u001b[1;33m\u001b[0m\u001b[0m\n",
      "\u001b[1;32m~\\Anaconda3\\lib\\site-packages\\tensorflow_core\\python\\keras\\engine\\training_v2_utils.py\u001b[0m in \u001b[0;36mexecution_function\u001b[1;34m(input_fn)\u001b[0m\n\u001b[0;32m     96\u001b[0m     \u001b[1;31m# `numpy` translates Tensors to values in Eager mode.\u001b[0m\u001b[1;33m\u001b[0m\u001b[1;33m\u001b[0m\u001b[1;33m\u001b[0m\u001b[0m\n\u001b[0;32m     97\u001b[0m     return nest.map_structure(_non_none_constant_value,\n\u001b[1;32m---> 98\u001b[1;33m                               distributed_function(input_fn))\n\u001b[0m\u001b[0;32m     99\u001b[0m \u001b[1;33m\u001b[0m\u001b[0m\n\u001b[0;32m    100\u001b[0m   \u001b[1;32mreturn\u001b[0m \u001b[0mexecution_function\u001b[0m\u001b[1;33m\u001b[0m\u001b[1;33m\u001b[0m\u001b[0m\n",
      "\u001b[1;32m~\\Anaconda3\\lib\\site-packages\\tensorflow_core\\python\\eager\\def_function.py\u001b[0m in \u001b[0;36m__call__\u001b[1;34m(self, *args, **kwds)\u001b[0m\n\u001b[0;32m    566\u001b[0m         \u001b[0mxla_context\u001b[0m\u001b[1;33m.\u001b[0m\u001b[0mExit\u001b[0m\u001b[1;33m(\u001b[0m\u001b[1;33m)\u001b[0m\u001b[1;33m\u001b[0m\u001b[1;33m\u001b[0m\u001b[0m\n\u001b[0;32m    567\u001b[0m     \u001b[1;32melse\u001b[0m\u001b[1;33m:\u001b[0m\u001b[1;33m\u001b[0m\u001b[1;33m\u001b[0m\u001b[0m\n\u001b[1;32m--> 568\u001b[1;33m       \u001b[0mresult\u001b[0m \u001b[1;33m=\u001b[0m \u001b[0mself\u001b[0m\u001b[1;33m.\u001b[0m\u001b[0m_call\u001b[0m\u001b[1;33m(\u001b[0m\u001b[1;33m*\u001b[0m\u001b[0margs\u001b[0m\u001b[1;33m,\u001b[0m \u001b[1;33m**\u001b[0m\u001b[0mkwds\u001b[0m\u001b[1;33m)\u001b[0m\u001b[1;33m\u001b[0m\u001b[1;33m\u001b[0m\u001b[0m\n\u001b[0m\u001b[0;32m    569\u001b[0m \u001b[1;33m\u001b[0m\u001b[0m\n\u001b[0;32m    570\u001b[0m     \u001b[1;32mif\u001b[0m \u001b[0mtracing_count\u001b[0m \u001b[1;33m==\u001b[0m \u001b[0mself\u001b[0m\u001b[1;33m.\u001b[0m\u001b[0m_get_tracing_count\u001b[0m\u001b[1;33m(\u001b[0m\u001b[1;33m)\u001b[0m\u001b[1;33m:\u001b[0m\u001b[1;33m\u001b[0m\u001b[1;33m\u001b[0m\u001b[0m\n",
      "\u001b[1;32m~\\Anaconda3\\lib\\site-packages\\tensorflow_core\\python\\eager\\def_function.py\u001b[0m in \u001b[0;36m_call\u001b[1;34m(self, *args, **kwds)\u001b[0m\n\u001b[0;32m    604\u001b[0m       \u001b[1;31m# In this case we have not created variables on the first call. So we can\u001b[0m\u001b[1;33m\u001b[0m\u001b[1;33m\u001b[0m\u001b[1;33m\u001b[0m\u001b[0m\n\u001b[0;32m    605\u001b[0m       \u001b[1;31m# run the first trace but we should fail if variables are created.\u001b[0m\u001b[1;33m\u001b[0m\u001b[1;33m\u001b[0m\u001b[1;33m\u001b[0m\u001b[0m\n\u001b[1;32m--> 606\u001b[1;33m       \u001b[0mresults\u001b[0m \u001b[1;33m=\u001b[0m \u001b[0mself\u001b[0m\u001b[1;33m.\u001b[0m\u001b[0m_stateful_fn\u001b[0m\u001b[1;33m(\u001b[0m\u001b[1;33m*\u001b[0m\u001b[0margs\u001b[0m\u001b[1;33m,\u001b[0m \u001b[1;33m**\u001b[0m\u001b[0mkwds\u001b[0m\u001b[1;33m)\u001b[0m\u001b[1;33m\u001b[0m\u001b[1;33m\u001b[0m\u001b[0m\n\u001b[0m\u001b[0;32m    607\u001b[0m       \u001b[1;32mif\u001b[0m \u001b[0mself\u001b[0m\u001b[1;33m.\u001b[0m\u001b[0m_created_variables\u001b[0m\u001b[1;33m:\u001b[0m\u001b[1;33m\u001b[0m\u001b[1;33m\u001b[0m\u001b[0m\n\u001b[0;32m    608\u001b[0m         raise ValueError(\"Creating variables on a non-first call to a function\"\n",
      "\u001b[1;32m~\\Anaconda3\\lib\\site-packages\\tensorflow_core\\python\\eager\\function.py\u001b[0m in \u001b[0;36m__call__\u001b[1;34m(self, *args, **kwargs)\u001b[0m\n\u001b[0;32m   2360\u001b[0m     \u001b[1;34m\"\"\"Calls a graph function specialized to the inputs.\"\"\"\u001b[0m\u001b[1;33m\u001b[0m\u001b[1;33m\u001b[0m\u001b[0m\n\u001b[0;32m   2361\u001b[0m     \u001b[1;32mwith\u001b[0m \u001b[0mself\u001b[0m\u001b[1;33m.\u001b[0m\u001b[0m_lock\u001b[0m\u001b[1;33m:\u001b[0m\u001b[1;33m\u001b[0m\u001b[1;33m\u001b[0m\u001b[0m\n\u001b[1;32m-> 2362\u001b[1;33m       \u001b[0mgraph_function\u001b[0m\u001b[1;33m,\u001b[0m \u001b[0margs\u001b[0m\u001b[1;33m,\u001b[0m \u001b[0mkwargs\u001b[0m \u001b[1;33m=\u001b[0m \u001b[0mself\u001b[0m\u001b[1;33m.\u001b[0m\u001b[0m_maybe_define_function\u001b[0m\u001b[1;33m(\u001b[0m\u001b[0margs\u001b[0m\u001b[1;33m,\u001b[0m \u001b[0mkwargs\u001b[0m\u001b[1;33m)\u001b[0m\u001b[1;33m\u001b[0m\u001b[1;33m\u001b[0m\u001b[0m\n\u001b[0m\u001b[0;32m   2363\u001b[0m     \u001b[1;32mreturn\u001b[0m \u001b[0mgraph_function\u001b[0m\u001b[1;33m.\u001b[0m\u001b[0m_filtered_call\u001b[0m\u001b[1;33m(\u001b[0m\u001b[0margs\u001b[0m\u001b[1;33m,\u001b[0m \u001b[0mkwargs\u001b[0m\u001b[1;33m)\u001b[0m  \u001b[1;31m# pylint: disable=protected-access\u001b[0m\u001b[1;33m\u001b[0m\u001b[1;33m\u001b[0m\u001b[0m\n\u001b[0;32m   2364\u001b[0m \u001b[1;33m\u001b[0m\u001b[0m\n",
      "\u001b[1;32m~\\Anaconda3\\lib\\site-packages\\tensorflow_core\\python\\eager\\function.py\u001b[0m in \u001b[0;36m_maybe_define_function\u001b[1;34m(self, args, kwargs)\u001b[0m\n\u001b[0;32m   2701\u001b[0m \u001b[1;33m\u001b[0m\u001b[0m\n\u001b[0;32m   2702\u001b[0m       \u001b[0mself\u001b[0m\u001b[1;33m.\u001b[0m\u001b[0m_function_cache\u001b[0m\u001b[1;33m.\u001b[0m\u001b[0mmissed\u001b[0m\u001b[1;33m.\u001b[0m\u001b[0madd\u001b[0m\u001b[1;33m(\u001b[0m\u001b[0mcall_context_key\u001b[0m\u001b[1;33m)\u001b[0m\u001b[1;33m\u001b[0m\u001b[1;33m\u001b[0m\u001b[0m\n\u001b[1;32m-> 2703\u001b[1;33m       \u001b[0mgraph_function\u001b[0m \u001b[1;33m=\u001b[0m \u001b[0mself\u001b[0m\u001b[1;33m.\u001b[0m\u001b[0m_create_graph_function\u001b[0m\u001b[1;33m(\u001b[0m\u001b[0margs\u001b[0m\u001b[1;33m,\u001b[0m \u001b[0mkwargs\u001b[0m\u001b[1;33m)\u001b[0m\u001b[1;33m\u001b[0m\u001b[1;33m\u001b[0m\u001b[0m\n\u001b[0m\u001b[0;32m   2704\u001b[0m       \u001b[0mself\u001b[0m\u001b[1;33m.\u001b[0m\u001b[0m_function_cache\u001b[0m\u001b[1;33m.\u001b[0m\u001b[0mprimary\u001b[0m\u001b[1;33m[\u001b[0m\u001b[0mcache_key\u001b[0m\u001b[1;33m]\u001b[0m \u001b[1;33m=\u001b[0m \u001b[0mgraph_function\u001b[0m\u001b[1;33m\u001b[0m\u001b[1;33m\u001b[0m\u001b[0m\n\u001b[0;32m   2705\u001b[0m       \u001b[1;32mreturn\u001b[0m \u001b[0mgraph_function\u001b[0m\u001b[1;33m,\u001b[0m \u001b[0margs\u001b[0m\u001b[1;33m,\u001b[0m \u001b[0mkwargs\u001b[0m\u001b[1;33m\u001b[0m\u001b[1;33m\u001b[0m\u001b[0m\n",
      "\u001b[1;32m~\\Anaconda3\\lib\\site-packages\\tensorflow_core\\python\\eager\\function.py\u001b[0m in \u001b[0;36m_create_graph_function\u001b[1;34m(self, args, kwargs, override_flat_arg_shapes)\u001b[0m\n\u001b[0;32m   2591\u001b[0m             \u001b[0marg_names\u001b[0m\u001b[1;33m=\u001b[0m\u001b[0marg_names\u001b[0m\u001b[1;33m,\u001b[0m\u001b[1;33m\u001b[0m\u001b[1;33m\u001b[0m\u001b[0m\n\u001b[0;32m   2592\u001b[0m             \u001b[0moverride_flat_arg_shapes\u001b[0m\u001b[1;33m=\u001b[0m\u001b[0moverride_flat_arg_shapes\u001b[0m\u001b[1;33m,\u001b[0m\u001b[1;33m\u001b[0m\u001b[1;33m\u001b[0m\u001b[0m\n\u001b[1;32m-> 2593\u001b[1;33m             capture_by_value=self._capture_by_value),\n\u001b[0m\u001b[0;32m   2594\u001b[0m         \u001b[0mself\u001b[0m\u001b[1;33m.\u001b[0m\u001b[0m_function_attributes\u001b[0m\u001b[1;33m,\u001b[0m\u001b[1;33m\u001b[0m\u001b[1;33m\u001b[0m\u001b[0m\n\u001b[0;32m   2595\u001b[0m         \u001b[1;31m# Tell the ConcreteFunction to clean up its graph once it goes out of\u001b[0m\u001b[1;33m\u001b[0m\u001b[1;33m\u001b[0m\u001b[1;33m\u001b[0m\u001b[0m\n",
      "\u001b[1;32m~\\Anaconda3\\lib\\site-packages\\tensorflow_core\\python\\framework\\func_graph.py\u001b[0m in \u001b[0;36mfunc_graph_from_py_func\u001b[1;34m(name, python_func, args, kwargs, signature, func_graph, autograph, autograph_options, add_control_dependencies, arg_names, op_return_value, collections, capture_by_value, override_flat_arg_shapes)\u001b[0m\n\u001b[0;32m    976\u001b[0m                                           converted_func)\n\u001b[0;32m    977\u001b[0m \u001b[1;33m\u001b[0m\u001b[0m\n\u001b[1;32m--> 978\u001b[1;33m       \u001b[0mfunc_outputs\u001b[0m \u001b[1;33m=\u001b[0m \u001b[0mpython_func\u001b[0m\u001b[1;33m(\u001b[0m\u001b[1;33m*\u001b[0m\u001b[0mfunc_args\u001b[0m\u001b[1;33m,\u001b[0m \u001b[1;33m**\u001b[0m\u001b[0mfunc_kwargs\u001b[0m\u001b[1;33m)\u001b[0m\u001b[1;33m\u001b[0m\u001b[1;33m\u001b[0m\u001b[0m\n\u001b[0m\u001b[0;32m    979\u001b[0m \u001b[1;33m\u001b[0m\u001b[0m\n\u001b[0;32m    980\u001b[0m       \u001b[1;31m# invariant: `func_outputs` contains only Tensors, CompositeTensors,\u001b[0m\u001b[1;33m\u001b[0m\u001b[1;33m\u001b[0m\u001b[1;33m\u001b[0m\u001b[0m\n",
      "\u001b[1;32m~\\Anaconda3\\lib\\site-packages\\tensorflow_core\\python\\eager\\def_function.py\u001b[0m in \u001b[0;36mwrapped_fn\u001b[1;34m(*args, **kwds)\u001b[0m\n\u001b[0;32m    437\u001b[0m         \u001b[1;31m# __wrapped__ allows AutoGraph to swap in a converted function. We give\u001b[0m\u001b[1;33m\u001b[0m\u001b[1;33m\u001b[0m\u001b[1;33m\u001b[0m\u001b[0m\n\u001b[0;32m    438\u001b[0m         \u001b[1;31m# the function a weak reference to itself to avoid a reference cycle.\u001b[0m\u001b[1;33m\u001b[0m\u001b[1;33m\u001b[0m\u001b[1;33m\u001b[0m\u001b[0m\n\u001b[1;32m--> 439\u001b[1;33m         \u001b[1;32mreturn\u001b[0m \u001b[0mweak_wrapped_fn\u001b[0m\u001b[1;33m(\u001b[0m\u001b[1;33m)\u001b[0m\u001b[1;33m.\u001b[0m\u001b[0m__wrapped__\u001b[0m\u001b[1;33m(\u001b[0m\u001b[1;33m*\u001b[0m\u001b[0margs\u001b[0m\u001b[1;33m,\u001b[0m \u001b[1;33m**\u001b[0m\u001b[0mkwds\u001b[0m\u001b[1;33m)\u001b[0m\u001b[1;33m\u001b[0m\u001b[1;33m\u001b[0m\u001b[0m\n\u001b[0m\u001b[0;32m    440\u001b[0m     \u001b[0mweak_wrapped_fn\u001b[0m \u001b[1;33m=\u001b[0m \u001b[0mweakref\u001b[0m\u001b[1;33m.\u001b[0m\u001b[0mref\u001b[0m\u001b[1;33m(\u001b[0m\u001b[0mwrapped_fn\u001b[0m\u001b[1;33m)\u001b[0m\u001b[1;33m\u001b[0m\u001b[1;33m\u001b[0m\u001b[0m\n\u001b[0;32m    441\u001b[0m \u001b[1;33m\u001b[0m\u001b[0m\n",
      "\u001b[1;32m~\\Anaconda3\\lib\\site-packages\\tensorflow_core\\python\\keras\\engine\\training_v2_utils.py\u001b[0m in \u001b[0;36mdistributed_function\u001b[1;34m(input_iterator)\u001b[0m\n\u001b[0;32m     83\u001b[0m     \u001b[0margs\u001b[0m \u001b[1;33m=\u001b[0m \u001b[0m_prepare_feed_values\u001b[0m\u001b[1;33m(\u001b[0m\u001b[0mmodel\u001b[0m\u001b[1;33m,\u001b[0m \u001b[0minput_iterator\u001b[0m\u001b[1;33m,\u001b[0m \u001b[0mmode\u001b[0m\u001b[1;33m,\u001b[0m \u001b[0mstrategy\u001b[0m\u001b[1;33m)\u001b[0m\u001b[1;33m\u001b[0m\u001b[1;33m\u001b[0m\u001b[0m\n\u001b[0;32m     84\u001b[0m     outputs = strategy.experimental_run_v2(\n\u001b[1;32m---> 85\u001b[1;33m         per_replica_function, args=args)\n\u001b[0m\u001b[0;32m     86\u001b[0m     \u001b[1;31m# Out of PerReplica outputs reduce or pick values to return.\u001b[0m\u001b[1;33m\u001b[0m\u001b[1;33m\u001b[0m\u001b[1;33m\u001b[0m\u001b[0m\n\u001b[0;32m     87\u001b[0m     all_outputs = dist_utils.unwrap_output_dict(\n",
      "\u001b[1;32m~\\Anaconda3\\lib\\site-packages\\tensorflow_core\\python\\distribute\\distribute_lib.py\u001b[0m in \u001b[0;36mexperimental_run_v2\u001b[1;34m(self, fn, args, kwargs)\u001b[0m\n\u001b[0;32m    761\u001b[0m       fn = autograph.tf_convert(fn, ag_ctx.control_status_ctx(),\n\u001b[0;32m    762\u001b[0m                                 convert_by_default=False)\n\u001b[1;32m--> 763\u001b[1;33m       \u001b[1;32mreturn\u001b[0m \u001b[0mself\u001b[0m\u001b[1;33m.\u001b[0m\u001b[0m_extended\u001b[0m\u001b[1;33m.\u001b[0m\u001b[0mcall_for_each_replica\u001b[0m\u001b[1;33m(\u001b[0m\u001b[0mfn\u001b[0m\u001b[1;33m,\u001b[0m \u001b[0margs\u001b[0m\u001b[1;33m=\u001b[0m\u001b[0margs\u001b[0m\u001b[1;33m,\u001b[0m \u001b[0mkwargs\u001b[0m\u001b[1;33m=\u001b[0m\u001b[0mkwargs\u001b[0m\u001b[1;33m)\u001b[0m\u001b[1;33m\u001b[0m\u001b[1;33m\u001b[0m\u001b[0m\n\u001b[0m\u001b[0;32m    764\u001b[0m \u001b[1;33m\u001b[0m\u001b[0m\n\u001b[0;32m    765\u001b[0m   \u001b[1;32mdef\u001b[0m \u001b[0mreduce\u001b[0m\u001b[1;33m(\u001b[0m\u001b[0mself\u001b[0m\u001b[1;33m,\u001b[0m \u001b[0mreduce_op\u001b[0m\u001b[1;33m,\u001b[0m \u001b[0mvalue\u001b[0m\u001b[1;33m,\u001b[0m \u001b[0maxis\u001b[0m\u001b[1;33m)\u001b[0m\u001b[1;33m:\u001b[0m\u001b[1;33m\u001b[0m\u001b[1;33m\u001b[0m\u001b[0m\n",
      "\u001b[1;32m~\\Anaconda3\\lib\\site-packages\\tensorflow_core\\python\\distribute\\distribute_lib.py\u001b[0m in \u001b[0;36mcall_for_each_replica\u001b[1;34m(self, fn, args, kwargs)\u001b[0m\n\u001b[0;32m   1817\u001b[0m       \u001b[0mkwargs\u001b[0m \u001b[1;33m=\u001b[0m \u001b[1;33m{\u001b[0m\u001b[1;33m}\u001b[0m\u001b[1;33m\u001b[0m\u001b[1;33m\u001b[0m\u001b[0m\n\u001b[0;32m   1818\u001b[0m     \u001b[1;32mwith\u001b[0m \u001b[0mself\u001b[0m\u001b[1;33m.\u001b[0m\u001b[0m_container_strategy\u001b[0m\u001b[1;33m(\u001b[0m\u001b[1;33m)\u001b[0m\u001b[1;33m.\u001b[0m\u001b[0mscope\u001b[0m\u001b[1;33m(\u001b[0m\u001b[1;33m)\u001b[0m\u001b[1;33m:\u001b[0m\u001b[1;33m\u001b[0m\u001b[1;33m\u001b[0m\u001b[0m\n\u001b[1;32m-> 1819\u001b[1;33m       \u001b[1;32mreturn\u001b[0m \u001b[0mself\u001b[0m\u001b[1;33m.\u001b[0m\u001b[0m_call_for_each_replica\u001b[0m\u001b[1;33m(\u001b[0m\u001b[0mfn\u001b[0m\u001b[1;33m,\u001b[0m \u001b[0margs\u001b[0m\u001b[1;33m,\u001b[0m \u001b[0mkwargs\u001b[0m\u001b[1;33m)\u001b[0m\u001b[1;33m\u001b[0m\u001b[1;33m\u001b[0m\u001b[0m\n\u001b[0m\u001b[0;32m   1820\u001b[0m \u001b[1;33m\u001b[0m\u001b[0m\n\u001b[0;32m   1821\u001b[0m   \u001b[1;32mdef\u001b[0m \u001b[0m_call_for_each_replica\u001b[0m\u001b[1;33m(\u001b[0m\u001b[0mself\u001b[0m\u001b[1;33m,\u001b[0m \u001b[0mfn\u001b[0m\u001b[1;33m,\u001b[0m \u001b[0margs\u001b[0m\u001b[1;33m,\u001b[0m \u001b[0mkwargs\u001b[0m\u001b[1;33m)\u001b[0m\u001b[1;33m:\u001b[0m\u001b[1;33m\u001b[0m\u001b[1;33m\u001b[0m\u001b[0m\n",
      "\u001b[1;32m~\\Anaconda3\\lib\\site-packages\\tensorflow_core\\python\\distribute\\distribute_lib.py\u001b[0m in \u001b[0;36m_call_for_each_replica\u001b[1;34m(self, fn, args, kwargs)\u001b[0m\n\u001b[0;32m   2162\u001b[0m         \u001b[0mself\u001b[0m\u001b[1;33m.\u001b[0m\u001b[0m_container_strategy\u001b[0m\u001b[1;33m(\u001b[0m\u001b[1;33m)\u001b[0m\u001b[1;33m,\u001b[0m\u001b[1;33m\u001b[0m\u001b[1;33m\u001b[0m\u001b[0m\n\u001b[0;32m   2163\u001b[0m         replica_id_in_sync_group=constant_op.constant(0, dtypes.int32)):\n\u001b[1;32m-> 2164\u001b[1;33m       \u001b[1;32mreturn\u001b[0m \u001b[0mfn\u001b[0m\u001b[1;33m(\u001b[0m\u001b[1;33m*\u001b[0m\u001b[0margs\u001b[0m\u001b[1;33m,\u001b[0m \u001b[1;33m**\u001b[0m\u001b[0mkwargs\u001b[0m\u001b[1;33m)\u001b[0m\u001b[1;33m\u001b[0m\u001b[1;33m\u001b[0m\u001b[0m\n\u001b[0m\u001b[0;32m   2165\u001b[0m \u001b[1;33m\u001b[0m\u001b[0m\n\u001b[0;32m   2166\u001b[0m   \u001b[1;32mdef\u001b[0m \u001b[0m_reduce_to\u001b[0m\u001b[1;33m(\u001b[0m\u001b[0mself\u001b[0m\u001b[1;33m,\u001b[0m \u001b[0mreduce_op\u001b[0m\u001b[1;33m,\u001b[0m \u001b[0mvalue\u001b[0m\u001b[1;33m,\u001b[0m \u001b[0mdestinations\u001b[0m\u001b[1;33m)\u001b[0m\u001b[1;33m:\u001b[0m\u001b[1;33m\u001b[0m\u001b[1;33m\u001b[0m\u001b[0m\n",
      "\u001b[1;32m~\\Anaconda3\\lib\\site-packages\\tensorflow_core\\python\\autograph\\impl\\api.py\u001b[0m in \u001b[0;36mwrapper\u001b[1;34m(*args, **kwargs)\u001b[0m\n\u001b[0;32m    290\u001b[0m   \u001b[1;32mdef\u001b[0m \u001b[0mwrapper\u001b[0m\u001b[1;33m(\u001b[0m\u001b[1;33m*\u001b[0m\u001b[0margs\u001b[0m\u001b[1;33m,\u001b[0m \u001b[1;33m**\u001b[0m\u001b[0mkwargs\u001b[0m\u001b[1;33m)\u001b[0m\u001b[1;33m:\u001b[0m\u001b[1;33m\u001b[0m\u001b[1;33m\u001b[0m\u001b[0m\n\u001b[0;32m    291\u001b[0m     \u001b[1;32mwith\u001b[0m \u001b[0mag_ctx\u001b[0m\u001b[1;33m.\u001b[0m\u001b[0mControlStatusCtx\u001b[0m\u001b[1;33m(\u001b[0m\u001b[0mstatus\u001b[0m\u001b[1;33m=\u001b[0m\u001b[0mag_ctx\u001b[0m\u001b[1;33m.\u001b[0m\u001b[0mStatus\u001b[0m\u001b[1;33m.\u001b[0m\u001b[0mDISABLED\u001b[0m\u001b[1;33m)\u001b[0m\u001b[1;33m:\u001b[0m\u001b[1;33m\u001b[0m\u001b[1;33m\u001b[0m\u001b[0m\n\u001b[1;32m--> 292\u001b[1;33m       \u001b[1;32mreturn\u001b[0m \u001b[0mfunc\u001b[0m\u001b[1;33m(\u001b[0m\u001b[1;33m*\u001b[0m\u001b[0margs\u001b[0m\u001b[1;33m,\u001b[0m \u001b[1;33m**\u001b[0m\u001b[0mkwargs\u001b[0m\u001b[1;33m)\u001b[0m\u001b[1;33m\u001b[0m\u001b[1;33m\u001b[0m\u001b[0m\n\u001b[0m\u001b[0;32m    293\u001b[0m \u001b[1;33m\u001b[0m\u001b[0m\n\u001b[0;32m    294\u001b[0m   \u001b[1;32mif\u001b[0m \u001b[0minspect\u001b[0m\u001b[1;33m.\u001b[0m\u001b[0misfunction\u001b[0m\u001b[1;33m(\u001b[0m\u001b[0mfunc\u001b[0m\u001b[1;33m)\u001b[0m \u001b[1;32mor\u001b[0m \u001b[0minspect\u001b[0m\u001b[1;33m.\u001b[0m\u001b[0mismethod\u001b[0m\u001b[1;33m(\u001b[0m\u001b[0mfunc\u001b[0m\u001b[1;33m)\u001b[0m\u001b[1;33m:\u001b[0m\u001b[1;33m\u001b[0m\u001b[1;33m\u001b[0m\u001b[0m\n",
      "\u001b[1;32m~\\Anaconda3\\lib\\site-packages\\tensorflow_core\\python\\keras\\engine\\training_v2_utils.py\u001b[0m in \u001b[0;36mtrain_on_batch\u001b[1;34m(model, x, y, sample_weight, class_weight, reset_metrics, standalone)\u001b[0m\n\u001b[0;32m    431\u001b[0m       \u001b[0my\u001b[0m\u001b[1;33m,\u001b[0m\u001b[1;33m\u001b[0m\u001b[1;33m\u001b[0m\u001b[0m\n\u001b[0;32m    432\u001b[0m       \u001b[0msample_weights\u001b[0m\u001b[1;33m=\u001b[0m\u001b[0msample_weights\u001b[0m\u001b[1;33m,\u001b[0m\u001b[1;33m\u001b[0m\u001b[1;33m\u001b[0m\u001b[0m\n\u001b[1;32m--> 433\u001b[1;33m       output_loss_metrics=model._output_loss_metrics)\n\u001b[0m\u001b[0;32m    434\u001b[0m \u001b[1;33m\u001b[0m\u001b[0m\n\u001b[0;32m    435\u001b[0m   \u001b[1;32mif\u001b[0m \u001b[0mreset_metrics\u001b[0m\u001b[1;33m:\u001b[0m\u001b[1;33m\u001b[0m\u001b[1;33m\u001b[0m\u001b[0m\n",
      "\u001b[1;32m~\\Anaconda3\\lib\\site-packages\\tensorflow_core\\python\\keras\\engine\\training_eager.py\u001b[0m in \u001b[0;36mtrain_on_batch\u001b[1;34m(model, inputs, targets, sample_weights, output_loss_metrics)\u001b[0m\n\u001b[0;32m    310\u001b[0m           \u001b[0msample_weights\u001b[0m\u001b[1;33m=\u001b[0m\u001b[0msample_weights\u001b[0m\u001b[1;33m,\u001b[0m\u001b[1;33m\u001b[0m\u001b[1;33m\u001b[0m\u001b[0m\n\u001b[0;32m    311\u001b[0m           \u001b[0mtraining\u001b[0m\u001b[1;33m=\u001b[0m\u001b[1;32mTrue\u001b[0m\u001b[1;33m,\u001b[0m\u001b[1;33m\u001b[0m\u001b[1;33m\u001b[0m\u001b[0m\n\u001b[1;32m--> 312\u001b[1;33m           output_loss_metrics=output_loss_metrics))\n\u001b[0m\u001b[0;32m    313\u001b[0m   \u001b[1;32mif\u001b[0m \u001b[1;32mnot\u001b[0m \u001b[0misinstance\u001b[0m\u001b[1;33m(\u001b[0m\u001b[0mouts\u001b[0m\u001b[1;33m,\u001b[0m \u001b[0mlist\u001b[0m\u001b[1;33m)\u001b[0m\u001b[1;33m:\u001b[0m\u001b[1;33m\u001b[0m\u001b[1;33m\u001b[0m\u001b[0m\n\u001b[0;32m    314\u001b[0m     \u001b[0mouts\u001b[0m \u001b[1;33m=\u001b[0m \u001b[1;33m[\u001b[0m\u001b[0mouts\u001b[0m\u001b[1;33m]\u001b[0m\u001b[1;33m\u001b[0m\u001b[1;33m\u001b[0m\u001b[0m\n",
      "\u001b[1;32m~\\Anaconda3\\lib\\site-packages\\tensorflow_core\\python\\keras\\engine\\training_eager.py\u001b[0m in \u001b[0;36m_process_single_batch\u001b[1;34m(model, inputs, targets, output_loss_metrics, sample_weights, training)\u001b[0m\n\u001b[0;32m    251\u001b[0m               \u001b[0moutput_loss_metrics\u001b[0m\u001b[1;33m=\u001b[0m\u001b[0moutput_loss_metrics\u001b[0m\u001b[1;33m,\u001b[0m\u001b[1;33m\u001b[0m\u001b[1;33m\u001b[0m\u001b[0m\n\u001b[0;32m    252\u001b[0m               \u001b[0msample_weights\u001b[0m\u001b[1;33m=\u001b[0m\u001b[0msample_weights\u001b[0m\u001b[1;33m,\u001b[0m\u001b[1;33m\u001b[0m\u001b[1;33m\u001b[0m\u001b[0m\n\u001b[1;32m--> 253\u001b[1;33m               training=training))\n\u001b[0m\u001b[0;32m    254\u001b[0m       \u001b[1;32mif\u001b[0m \u001b[0mtotal_loss\u001b[0m \u001b[1;32mis\u001b[0m \u001b[1;32mNone\u001b[0m\u001b[1;33m:\u001b[0m\u001b[1;33m\u001b[0m\u001b[1;33m\u001b[0m\u001b[0m\n\u001b[0;32m    255\u001b[0m         raise ValueError('The model cannot be run '\n",
      "\u001b[1;32m~\\Anaconda3\\lib\\site-packages\\tensorflow_core\\python\\keras\\engine\\training_eager.py\u001b[0m in \u001b[0;36m_model_loss\u001b[1;34m(model, inputs, targets, output_loss_metrics, sample_weights, training)\u001b[0m\n\u001b[0;32m    125\u001b[0m     \u001b[0minputs\u001b[0m \u001b[1;33m=\u001b[0m \u001b[0mnest\u001b[0m\u001b[1;33m.\u001b[0m\u001b[0mmap_structure\u001b[0m\u001b[1;33m(\u001b[0m\u001b[0mops\u001b[0m\u001b[1;33m.\u001b[0m\u001b[0mconvert_to_tensor\u001b[0m\u001b[1;33m,\u001b[0m \u001b[0minputs\u001b[0m\u001b[1;33m)\u001b[0m\u001b[1;33m\u001b[0m\u001b[1;33m\u001b[0m\u001b[0m\n\u001b[0;32m    126\u001b[0m \u001b[1;33m\u001b[0m\u001b[0m\n\u001b[1;32m--> 127\u001b[1;33m   \u001b[0mouts\u001b[0m \u001b[1;33m=\u001b[0m \u001b[0mmodel\u001b[0m\u001b[1;33m(\u001b[0m\u001b[0minputs\u001b[0m\u001b[1;33m,\u001b[0m \u001b[1;33m**\u001b[0m\u001b[0mkwargs\u001b[0m\u001b[1;33m)\u001b[0m\u001b[1;33m\u001b[0m\u001b[1;33m\u001b[0m\u001b[0m\n\u001b[0m\u001b[0;32m    128\u001b[0m   \u001b[0mouts\u001b[0m \u001b[1;33m=\u001b[0m \u001b[0mnest\u001b[0m\u001b[1;33m.\u001b[0m\u001b[0mflatten\u001b[0m\u001b[1;33m(\u001b[0m\u001b[0mouts\u001b[0m\u001b[1;33m)\u001b[0m\u001b[1;33m\u001b[0m\u001b[1;33m\u001b[0m\u001b[0m\n\u001b[0;32m    129\u001b[0m \u001b[1;33m\u001b[0m\u001b[0m\n",
      "\u001b[1;32m~\\Anaconda3\\lib\\site-packages\\tensorflow_core\\python\\keras\\engine\\base_layer.py\u001b[0m in \u001b[0;36m__call__\u001b[1;34m(self, inputs, *args, **kwargs)\u001b[0m\n\u001b[0;32m    776\u001b[0m                     \u001b[0moutputs\u001b[0m \u001b[1;33m=\u001b[0m \u001b[0mbase_layer_utils\u001b[0m\u001b[1;33m.\u001b[0m\u001b[0mmark_as_return\u001b[0m\u001b[1;33m(\u001b[0m\u001b[0moutputs\u001b[0m\u001b[1;33m,\u001b[0m \u001b[0macd\u001b[0m\u001b[1;33m)\u001b[0m\u001b[1;33m\u001b[0m\u001b[1;33m\u001b[0m\u001b[0m\n\u001b[0;32m    777\u001b[0m                 \u001b[1;32melse\u001b[0m\u001b[1;33m:\u001b[0m\u001b[1;33m\u001b[0m\u001b[1;33m\u001b[0m\u001b[0m\n\u001b[1;32m--> 778\u001b[1;33m                   \u001b[0moutputs\u001b[0m \u001b[1;33m=\u001b[0m \u001b[0mcall_fn\u001b[0m\u001b[1;33m(\u001b[0m\u001b[0mcast_inputs\u001b[0m\u001b[1;33m,\u001b[0m \u001b[1;33m*\u001b[0m\u001b[0margs\u001b[0m\u001b[1;33m,\u001b[0m \u001b[1;33m**\u001b[0m\u001b[0mkwargs\u001b[0m\u001b[1;33m)\u001b[0m\u001b[1;33m\u001b[0m\u001b[1;33m\u001b[0m\u001b[0m\n\u001b[0m\u001b[0;32m    779\u001b[0m \u001b[1;33m\u001b[0m\u001b[0m\n\u001b[0;32m    780\u001b[0m             \u001b[1;32mexcept\u001b[0m \u001b[0merrors\u001b[0m\u001b[1;33m.\u001b[0m\u001b[0mOperatorNotAllowedInGraphError\u001b[0m \u001b[1;32mas\u001b[0m \u001b[0me\u001b[0m\u001b[1;33m:\u001b[0m\u001b[1;33m\u001b[0m\u001b[1;33m\u001b[0m\u001b[0m\n",
      "\u001b[1;32m~\\Anaconda3\\lib\\site-packages\\tensorflow_core\\python\\keras\\engine\\network.py\u001b[0m in \u001b[0;36mcall\u001b[1;34m(self, inputs, training, mask)\u001b[0m\n\u001b[0;32m    715\u001b[0m     return self._run_internal_graph(\n\u001b[0;32m    716\u001b[0m         \u001b[0minputs\u001b[0m\u001b[1;33m,\u001b[0m \u001b[0mtraining\u001b[0m\u001b[1;33m=\u001b[0m\u001b[0mtraining\u001b[0m\u001b[1;33m,\u001b[0m \u001b[0mmask\u001b[0m\u001b[1;33m=\u001b[0m\u001b[0mmask\u001b[0m\u001b[1;33m,\u001b[0m\u001b[1;33m\u001b[0m\u001b[1;33m\u001b[0m\u001b[0m\n\u001b[1;32m--> 717\u001b[1;33m         convert_kwargs_to_constants=base_layer_utils.call_context().saving)\n\u001b[0m\u001b[0;32m    718\u001b[0m \u001b[1;33m\u001b[0m\u001b[0m\n\u001b[0;32m    719\u001b[0m   \u001b[1;32mdef\u001b[0m \u001b[0mcompute_output_shape\u001b[0m\u001b[1;33m(\u001b[0m\u001b[0mself\u001b[0m\u001b[1;33m,\u001b[0m \u001b[0minput_shape\u001b[0m\u001b[1;33m)\u001b[0m\u001b[1;33m:\u001b[0m\u001b[1;33m\u001b[0m\u001b[1;33m\u001b[0m\u001b[0m\n",
      "\u001b[1;32m~\\Anaconda3\\lib\\site-packages\\tensorflow_core\\python\\keras\\engine\\network.py\u001b[0m in \u001b[0;36m_run_internal_graph\u001b[1;34m(self, inputs, training, mask, convert_kwargs_to_constants)\u001b[0m\n\u001b[0;32m    889\u001b[0m \u001b[1;33m\u001b[0m\u001b[0m\n\u001b[0;32m    890\u001b[0m           \u001b[1;31m# Compute outputs.\u001b[0m\u001b[1;33m\u001b[0m\u001b[1;33m\u001b[0m\u001b[1;33m\u001b[0m\u001b[0m\n\u001b[1;32m--> 891\u001b[1;33m           \u001b[0moutput_tensors\u001b[0m \u001b[1;33m=\u001b[0m \u001b[0mlayer\u001b[0m\u001b[1;33m(\u001b[0m\u001b[0mcomputed_tensors\u001b[0m\u001b[1;33m,\u001b[0m \u001b[1;33m**\u001b[0m\u001b[0mkwargs\u001b[0m\u001b[1;33m)\u001b[0m\u001b[1;33m\u001b[0m\u001b[1;33m\u001b[0m\u001b[0m\n\u001b[0m\u001b[0;32m    892\u001b[0m \u001b[1;33m\u001b[0m\u001b[0m\n\u001b[0;32m    893\u001b[0m           \u001b[1;31m# Update tensor_dict.\u001b[0m\u001b[1;33m\u001b[0m\u001b[1;33m\u001b[0m\u001b[1;33m\u001b[0m\u001b[0m\n",
      "\u001b[1;32m~\\Anaconda3\\lib\\site-packages\\tensorflow_core\\python\\keras\\engine\\base_layer.py\u001b[0m in \u001b[0;36m__call__\u001b[1;34m(self, inputs, *args, **kwargs)\u001b[0m\n\u001b[0;32m    776\u001b[0m                     \u001b[0moutputs\u001b[0m \u001b[1;33m=\u001b[0m \u001b[0mbase_layer_utils\u001b[0m\u001b[1;33m.\u001b[0m\u001b[0mmark_as_return\u001b[0m\u001b[1;33m(\u001b[0m\u001b[0moutputs\u001b[0m\u001b[1;33m,\u001b[0m \u001b[0macd\u001b[0m\u001b[1;33m)\u001b[0m\u001b[1;33m\u001b[0m\u001b[1;33m\u001b[0m\u001b[0m\n\u001b[0;32m    777\u001b[0m                 \u001b[1;32melse\u001b[0m\u001b[1;33m:\u001b[0m\u001b[1;33m\u001b[0m\u001b[1;33m\u001b[0m\u001b[0m\n\u001b[1;32m--> 778\u001b[1;33m                   \u001b[0moutputs\u001b[0m \u001b[1;33m=\u001b[0m \u001b[0mcall_fn\u001b[0m\u001b[1;33m(\u001b[0m\u001b[0mcast_inputs\u001b[0m\u001b[1;33m,\u001b[0m \u001b[1;33m*\u001b[0m\u001b[0margs\u001b[0m\u001b[1;33m,\u001b[0m \u001b[1;33m**\u001b[0m\u001b[0mkwargs\u001b[0m\u001b[1;33m)\u001b[0m\u001b[1;33m\u001b[0m\u001b[1;33m\u001b[0m\u001b[0m\n\u001b[0m\u001b[0;32m    779\u001b[0m \u001b[1;33m\u001b[0m\u001b[0m\n\u001b[0;32m    780\u001b[0m             \u001b[1;32mexcept\u001b[0m \u001b[0merrors\u001b[0m\u001b[1;33m.\u001b[0m\u001b[0mOperatorNotAllowedInGraphError\u001b[0m \u001b[1;32mas\u001b[0m \u001b[0me\u001b[0m\u001b[1;33m:\u001b[0m\u001b[1;33m\u001b[0m\u001b[1;33m\u001b[0m\u001b[0m\n",
      "\u001b[1;32m~\\Anaconda3\\lib\\site-packages\\tensorflow_core\\python\\keras\\layers\\merge.py\u001b[0m in \u001b[0;36mcall\u001b[1;34m(self, inputs)\u001b[0m\n\u001b[0;32m    179\u001b[0m         \u001b[1;32mreturn\u001b[0m \u001b[0my\u001b[0m\u001b[1;33m\u001b[0m\u001b[1;33m\u001b[0m\u001b[0m\n\u001b[0;32m    180\u001b[0m     \u001b[1;32melse\u001b[0m\u001b[1;33m:\u001b[0m\u001b[1;33m\u001b[0m\u001b[1;33m\u001b[0m\u001b[0m\n\u001b[1;32m--> 181\u001b[1;33m       \u001b[1;32mreturn\u001b[0m \u001b[0mself\u001b[0m\u001b[1;33m.\u001b[0m\u001b[0m_merge_function\u001b[0m\u001b[1;33m(\u001b[0m\u001b[0minputs\u001b[0m\u001b[1;33m)\u001b[0m\u001b[1;33m\u001b[0m\u001b[1;33m\u001b[0m\u001b[0m\n\u001b[0m\u001b[0;32m    182\u001b[0m \u001b[1;33m\u001b[0m\u001b[0m\n\u001b[0;32m    183\u001b[0m   \u001b[1;33m@\u001b[0m\u001b[0mtf_utils\u001b[0m\u001b[1;33m.\u001b[0m\u001b[0mshape_type_conversion\u001b[0m\u001b[1;33m\u001b[0m\u001b[1;33m\u001b[0m\u001b[0m\n",
      "\u001b[1;32m~\\Anaconda3\\lib\\site-packages\\tensorflow_core\\python\\keras\\layers\\merge.py\u001b[0m in \u001b[0;36m_merge_function\u001b[1;34m(self, inputs)\u001b[0m\n\u001b[0;32m    402\u001b[0m \u001b[1;33m\u001b[0m\u001b[0m\n\u001b[0;32m    403\u001b[0m   \u001b[1;32mdef\u001b[0m \u001b[0m_merge_function\u001b[0m\u001b[1;33m(\u001b[0m\u001b[0mself\u001b[0m\u001b[1;33m,\u001b[0m \u001b[0minputs\u001b[0m\u001b[1;33m)\u001b[0m\u001b[1;33m:\u001b[0m\u001b[1;33m\u001b[0m\u001b[1;33m\u001b[0m\u001b[0m\n\u001b[1;32m--> 404\u001b[1;33m     \u001b[1;32mreturn\u001b[0m \u001b[0mK\u001b[0m\u001b[1;33m.\u001b[0m\u001b[0mconcatenate\u001b[0m\u001b[1;33m(\u001b[0m\u001b[0minputs\u001b[0m\u001b[1;33m,\u001b[0m \u001b[0maxis\u001b[0m\u001b[1;33m=\u001b[0m\u001b[0mself\u001b[0m\u001b[1;33m.\u001b[0m\u001b[0maxis\u001b[0m\u001b[1;33m)\u001b[0m\u001b[1;33m\u001b[0m\u001b[1;33m\u001b[0m\u001b[0m\n\u001b[0m\u001b[0;32m    405\u001b[0m \u001b[1;33m\u001b[0m\u001b[0m\n\u001b[0;32m    406\u001b[0m   \u001b[1;33m@\u001b[0m\u001b[0mtf_utils\u001b[0m\u001b[1;33m.\u001b[0m\u001b[0mshape_type_conversion\u001b[0m\u001b[1;33m\u001b[0m\u001b[1;33m\u001b[0m\u001b[0m\n",
      "\u001b[1;32m~\\Anaconda3\\lib\\site-packages\\tensorflow_core\\python\\keras\\backend.py\u001b[0m in \u001b[0;36mconcatenate\u001b[1;34m(tensors, axis)\u001b[0m\n\u001b[0;32m   2682\u001b[0m     \u001b[1;32mreturn\u001b[0m \u001b[0mragged_concat_ops\u001b[0m\u001b[1;33m.\u001b[0m\u001b[0mconcat\u001b[0m\u001b[1;33m(\u001b[0m\u001b[0mtensors\u001b[0m\u001b[1;33m,\u001b[0m \u001b[0maxis\u001b[0m\u001b[1;33m)\u001b[0m\u001b[1;33m\u001b[0m\u001b[1;33m\u001b[0m\u001b[0m\n\u001b[0;32m   2683\u001b[0m   \u001b[1;32melse\u001b[0m\u001b[1;33m:\u001b[0m\u001b[1;33m\u001b[0m\u001b[1;33m\u001b[0m\u001b[0m\n\u001b[1;32m-> 2684\u001b[1;33m     \u001b[1;32mreturn\u001b[0m \u001b[0marray_ops\u001b[0m\u001b[1;33m.\u001b[0m\u001b[0mconcat\u001b[0m\u001b[1;33m(\u001b[0m\u001b[1;33m[\u001b[0m\u001b[0mto_dense\u001b[0m\u001b[1;33m(\u001b[0m\u001b[0mx\u001b[0m\u001b[1;33m)\u001b[0m \u001b[1;32mfor\u001b[0m \u001b[0mx\u001b[0m \u001b[1;32min\u001b[0m \u001b[0mtensors\u001b[0m\u001b[1;33m]\u001b[0m\u001b[1;33m,\u001b[0m \u001b[0maxis\u001b[0m\u001b[1;33m)\u001b[0m\u001b[1;33m\u001b[0m\u001b[1;33m\u001b[0m\u001b[0m\n\u001b[0m\u001b[0;32m   2685\u001b[0m \u001b[1;33m\u001b[0m\u001b[0m\n\u001b[0;32m   2686\u001b[0m \u001b[1;33m\u001b[0m\u001b[0m\n",
      "\u001b[1;32m~\\Anaconda3\\lib\\site-packages\\tensorflow_core\\python\\util\\dispatch.py\u001b[0m in \u001b[0;36mwrapper\u001b[1;34m(*args, **kwargs)\u001b[0m\n\u001b[0;32m    178\u001b[0m     \u001b[1;34m\"\"\"Call target, and fall back on dispatchers if there is a TypeError.\"\"\"\u001b[0m\u001b[1;33m\u001b[0m\u001b[1;33m\u001b[0m\u001b[0m\n\u001b[0;32m    179\u001b[0m     \u001b[1;32mtry\u001b[0m\u001b[1;33m:\u001b[0m\u001b[1;33m\u001b[0m\u001b[1;33m\u001b[0m\u001b[0m\n\u001b[1;32m--> 180\u001b[1;33m       \u001b[1;32mreturn\u001b[0m \u001b[0mtarget\u001b[0m\u001b[1;33m(\u001b[0m\u001b[1;33m*\u001b[0m\u001b[0margs\u001b[0m\u001b[1;33m,\u001b[0m \u001b[1;33m**\u001b[0m\u001b[0mkwargs\u001b[0m\u001b[1;33m)\u001b[0m\u001b[1;33m\u001b[0m\u001b[1;33m\u001b[0m\u001b[0m\n\u001b[0m\u001b[0;32m    181\u001b[0m     \u001b[1;32mexcept\u001b[0m \u001b[1;33m(\u001b[0m\u001b[0mTypeError\u001b[0m\u001b[1;33m,\u001b[0m \u001b[0mValueError\u001b[0m\u001b[1;33m)\u001b[0m\u001b[1;33m:\u001b[0m\u001b[1;33m\u001b[0m\u001b[1;33m\u001b[0m\u001b[0m\n\u001b[0;32m    182\u001b[0m       \u001b[1;31m# Note: convert_to_eager_tensor currently raises a ValueError, not a\u001b[0m\u001b[1;33m\u001b[0m\u001b[1;33m\u001b[0m\u001b[1;33m\u001b[0m\u001b[0m\n",
      "\u001b[1;32m~\\Anaconda3\\lib\\site-packages\\tensorflow_core\\python\\ops\\array_ops.py\u001b[0m in \u001b[0;36mconcat\u001b[1;34m(values, axis, name)\u001b[0m\n\u001b[0;32m   1515\u001b[0m           dtype=dtypes.int32).get_shape().assert_has_rank(0)\n\u001b[0;32m   1516\u001b[0m       \u001b[1;32mreturn\u001b[0m \u001b[0midentity\u001b[0m\u001b[1;33m(\u001b[0m\u001b[0mvalues\u001b[0m\u001b[1;33m[\u001b[0m\u001b[1;36m0\u001b[0m\u001b[1;33m]\u001b[0m\u001b[1;33m,\u001b[0m \u001b[0mname\u001b[0m\u001b[1;33m=\u001b[0m\u001b[0mname\u001b[0m\u001b[1;33m)\u001b[0m\u001b[1;33m\u001b[0m\u001b[1;33m\u001b[0m\u001b[0m\n\u001b[1;32m-> 1517\u001b[1;33m   \u001b[1;32mreturn\u001b[0m \u001b[0mgen_array_ops\u001b[0m\u001b[1;33m.\u001b[0m\u001b[0mconcat_v2\u001b[0m\u001b[1;33m(\u001b[0m\u001b[0mvalues\u001b[0m\u001b[1;33m=\u001b[0m\u001b[0mvalues\u001b[0m\u001b[1;33m,\u001b[0m \u001b[0maxis\u001b[0m\u001b[1;33m=\u001b[0m\u001b[0maxis\u001b[0m\u001b[1;33m,\u001b[0m \u001b[0mname\u001b[0m\u001b[1;33m=\u001b[0m\u001b[0mname\u001b[0m\u001b[1;33m)\u001b[0m\u001b[1;33m\u001b[0m\u001b[1;33m\u001b[0m\u001b[0m\n\u001b[0m\u001b[0;32m   1518\u001b[0m \u001b[1;33m\u001b[0m\u001b[0m\n\u001b[0;32m   1519\u001b[0m \u001b[1;33m\u001b[0m\u001b[0m\n",
      "\u001b[1;32m~\\Anaconda3\\lib\\site-packages\\tensorflow_core\\python\\ops\\gen_array_ops.py\u001b[0m in \u001b[0;36mconcat_v2\u001b[1;34m(values, axis, name)\u001b[0m\n\u001b[0;32m   1124\u001b[0m   \u001b[0m_attr_N\u001b[0m \u001b[1;33m=\u001b[0m \u001b[0mlen\u001b[0m\u001b[1;33m(\u001b[0m\u001b[0mvalues\u001b[0m\u001b[1;33m)\u001b[0m\u001b[1;33m\u001b[0m\u001b[1;33m\u001b[0m\u001b[0m\n\u001b[0;32m   1125\u001b[0m   _, _, _op, _outputs = _op_def_library._apply_op_helper(\n\u001b[1;32m-> 1126\u001b[1;33m         \"ConcatV2\", values=values, axis=axis, name=name)\n\u001b[0m\u001b[0;32m   1127\u001b[0m   \u001b[0m_result\u001b[0m \u001b[1;33m=\u001b[0m \u001b[0m_outputs\u001b[0m\u001b[1;33m[\u001b[0m\u001b[1;33m:\u001b[0m\u001b[1;33m]\u001b[0m\u001b[1;33m\u001b[0m\u001b[1;33m\u001b[0m\u001b[0m\n\u001b[0;32m   1128\u001b[0m   \u001b[1;32mif\u001b[0m \u001b[0m_execute\u001b[0m\u001b[1;33m.\u001b[0m\u001b[0mmust_record_gradient\u001b[0m\u001b[1;33m(\u001b[0m\u001b[1;33m)\u001b[0m\u001b[1;33m:\u001b[0m\u001b[1;33m\u001b[0m\u001b[1;33m\u001b[0m\u001b[0m\n",
      "\u001b[1;32m~\\Anaconda3\\lib\\site-packages\\tensorflow_core\\python\\framework\\op_def_library.py\u001b[0m in \u001b[0;36m_apply_op_helper\u001b[1;34m(op_type_name, name, **keywords)\u001b[0m\n\u001b[0;32m    740\u001b[0m       op = g._create_op_internal(op_type_name, inputs, dtypes=None,\n\u001b[0;32m    741\u001b[0m                                  \u001b[0mname\u001b[0m\u001b[1;33m=\u001b[0m\u001b[0mscope\u001b[0m\u001b[1;33m,\u001b[0m \u001b[0minput_types\u001b[0m\u001b[1;33m=\u001b[0m\u001b[0minput_types\u001b[0m\u001b[1;33m,\u001b[0m\u001b[1;33m\u001b[0m\u001b[1;33m\u001b[0m\u001b[0m\n\u001b[1;32m--> 742\u001b[1;33m                                  attrs=attr_protos, op_def=op_def)\n\u001b[0m\u001b[0;32m    743\u001b[0m \u001b[1;33m\u001b[0m\u001b[0m\n\u001b[0;32m    744\u001b[0m     \u001b[1;31m# `outputs` is returned as a separate return value so that the output\u001b[0m\u001b[1;33m\u001b[0m\u001b[1;33m\u001b[0m\u001b[1;33m\u001b[0m\u001b[0m\n",
      "\u001b[1;32m~\\Anaconda3\\lib\\site-packages\\tensorflow_core\\python\\framework\\func_graph.py\u001b[0m in \u001b[0;36m_create_op_internal\u001b[1;34m(self, op_type, inputs, dtypes, input_types, name, attrs, op_def, compute_device)\u001b[0m\n\u001b[0;32m    593\u001b[0m     return super(FuncGraph, self)._create_op_internal(  # pylint: disable=protected-access\n\u001b[0;32m    594\u001b[0m         \u001b[0mop_type\u001b[0m\u001b[1;33m,\u001b[0m \u001b[0minputs\u001b[0m\u001b[1;33m,\u001b[0m \u001b[0mdtypes\u001b[0m\u001b[1;33m,\u001b[0m \u001b[0minput_types\u001b[0m\u001b[1;33m,\u001b[0m \u001b[0mname\u001b[0m\u001b[1;33m,\u001b[0m \u001b[0mattrs\u001b[0m\u001b[1;33m,\u001b[0m \u001b[0mop_def\u001b[0m\u001b[1;33m,\u001b[0m\u001b[1;33m\u001b[0m\u001b[1;33m\u001b[0m\u001b[0m\n\u001b[1;32m--> 595\u001b[1;33m         compute_device)\n\u001b[0m\u001b[0;32m    596\u001b[0m \u001b[1;33m\u001b[0m\u001b[0m\n\u001b[0;32m    597\u001b[0m   \u001b[1;32mdef\u001b[0m \u001b[0mcapture\u001b[0m\u001b[1;33m(\u001b[0m\u001b[0mself\u001b[0m\u001b[1;33m,\u001b[0m \u001b[0mtensor\u001b[0m\u001b[1;33m,\u001b[0m \u001b[0mname\u001b[0m\u001b[1;33m=\u001b[0m\u001b[1;32mNone\u001b[0m\u001b[1;33m,\u001b[0m \u001b[0mshape\u001b[0m\u001b[1;33m=\u001b[0m\u001b[1;32mNone\u001b[0m\u001b[1;33m)\u001b[0m\u001b[1;33m:\u001b[0m\u001b[1;33m\u001b[0m\u001b[1;33m\u001b[0m\u001b[0m\n",
      "\u001b[1;32m~\\Anaconda3\\lib\\site-packages\\tensorflow_core\\python\\framework\\ops.py\u001b[0m in \u001b[0;36m_create_op_internal\u001b[1;34m(self, op_type, inputs, dtypes, input_types, name, attrs, op_def, compute_device)\u001b[0m\n\u001b[0;32m   3320\u001b[0m           \u001b[0minput_types\u001b[0m\u001b[1;33m=\u001b[0m\u001b[0minput_types\u001b[0m\u001b[1;33m,\u001b[0m\u001b[1;33m\u001b[0m\u001b[1;33m\u001b[0m\u001b[0m\n\u001b[0;32m   3321\u001b[0m           \u001b[0moriginal_op\u001b[0m\u001b[1;33m=\u001b[0m\u001b[0mself\u001b[0m\u001b[1;33m.\u001b[0m\u001b[0m_default_original_op\u001b[0m\u001b[1;33m,\u001b[0m\u001b[1;33m\u001b[0m\u001b[1;33m\u001b[0m\u001b[0m\n\u001b[1;32m-> 3322\u001b[1;33m           op_def=op_def)\n\u001b[0m\u001b[0;32m   3323\u001b[0m       \u001b[0mself\u001b[0m\u001b[1;33m.\u001b[0m\u001b[0m_create_op_helper\u001b[0m\u001b[1;33m(\u001b[0m\u001b[0mret\u001b[0m\u001b[1;33m,\u001b[0m \u001b[0mcompute_device\u001b[0m\u001b[1;33m=\u001b[0m\u001b[0mcompute_device\u001b[0m\u001b[1;33m)\u001b[0m\u001b[1;33m\u001b[0m\u001b[1;33m\u001b[0m\u001b[0m\n\u001b[0;32m   3324\u001b[0m     \u001b[1;32mreturn\u001b[0m \u001b[0mret\u001b[0m\u001b[1;33m\u001b[0m\u001b[1;33m\u001b[0m\u001b[0m\n",
      "\u001b[1;32m~\\Anaconda3\\lib\\site-packages\\tensorflow_core\\python\\framework\\ops.py\u001b[0m in \u001b[0;36m__init__\u001b[1;34m(self, node_def, g, inputs, output_types, control_inputs, input_types, original_op, op_def)\u001b[0m\n\u001b[0;32m   1784\u001b[0m           op_def, inputs, node_def.attr)\n\u001b[0;32m   1785\u001b[0m       self._c_op = _create_c_op(self._graph, node_def, grouped_inputs,\n\u001b[1;32m-> 1786\u001b[1;33m                                 control_input_ops)\n\u001b[0m\u001b[0;32m   1787\u001b[0m       \u001b[0mname\u001b[0m \u001b[1;33m=\u001b[0m \u001b[0mcompat\u001b[0m\u001b[1;33m.\u001b[0m\u001b[0mas_str\u001b[0m\u001b[1;33m(\u001b[0m\u001b[0mnode_def\u001b[0m\u001b[1;33m.\u001b[0m\u001b[0mname\u001b[0m\u001b[1;33m)\u001b[0m\u001b[1;33m\u001b[0m\u001b[1;33m\u001b[0m\u001b[0m\n\u001b[0;32m   1788\u001b[0m     \u001b[1;31m# pylint: enable=protected-access\u001b[0m\u001b[1;33m\u001b[0m\u001b[1;33m\u001b[0m\u001b[1;33m\u001b[0m\u001b[0m\n",
      "\u001b[1;32m~\\Anaconda3\\lib\\site-packages\\tensorflow_core\\python\\framework\\ops.py\u001b[0m in \u001b[0;36m_create_c_op\u001b[1;34m(graph, node_def, inputs, control_inputs)\u001b[0m\n\u001b[0;32m   1620\u001b[0m   \u001b[1;32mexcept\u001b[0m \u001b[0merrors\u001b[0m\u001b[1;33m.\u001b[0m\u001b[0mInvalidArgumentError\u001b[0m \u001b[1;32mas\u001b[0m \u001b[0me\u001b[0m\u001b[1;33m:\u001b[0m\u001b[1;33m\u001b[0m\u001b[1;33m\u001b[0m\u001b[0m\n\u001b[0;32m   1621\u001b[0m     \u001b[1;31m# Convert to ValueError for backwards compatibility.\u001b[0m\u001b[1;33m\u001b[0m\u001b[1;33m\u001b[0m\u001b[1;33m\u001b[0m\u001b[0m\n\u001b[1;32m-> 1622\u001b[1;33m     \u001b[1;32mraise\u001b[0m \u001b[0mValueError\u001b[0m\u001b[1;33m(\u001b[0m\u001b[0mstr\u001b[0m\u001b[1;33m(\u001b[0m\u001b[0me\u001b[0m\u001b[1;33m)\u001b[0m\u001b[1;33m)\u001b[0m\u001b[1;33m\u001b[0m\u001b[1;33m\u001b[0m\u001b[0m\n\u001b[0m\u001b[0;32m   1623\u001b[0m \u001b[1;33m\u001b[0m\u001b[0m\n\u001b[0;32m   1624\u001b[0m   \u001b[1;32mreturn\u001b[0m \u001b[0mc_op\u001b[0m\u001b[1;33m\u001b[0m\u001b[1;33m\u001b[0m\u001b[0m\n",
      "\u001b[1;31mValueError\u001b[0m: Dimension 1 in both shapes must be equal, but are 59 and 57. Shapes are [?,59] and [?,57]. for 'model_16/concat_layer/concat' (op: 'ConcatV2') with input shapes: [?,59,92], [?,57,512], [] and with computed input tensors: input[2] = <2>."
     ]
    }
   ],
   "source": [
    "h=model.fit([encoder_input_data,decoder_input_data],decoder_target_data\n",
    "         ,epochs = 100,\n",
    "          batch_size = batch_size,\n",
    "         )"
   ]
  },
  {
   "cell_type": "code",
   "execution_count": 61,
   "metadata": {},
   "outputs": [],
   "source": [
    "import matplotlib.pyplot as plt"
   ]
  },
  {
   "cell_type": "code",
   "execution_count": 62,
   "metadata": {},
   "outputs": [
    {
     "output_type": "display_data",
     "data": {
      "text/plain": "<Figure size 432x288 with 1 Axes>",
      "image/svg+xml": "<?xml version=\"1.0\" encoding=\"utf-8\" standalone=\"no\"?>\r\n<!DOCTYPE svg PUBLIC \"-//W3C//DTD SVG 1.1//EN\"\r\n  \"http://www.w3.org/Graphics/SVG/1.1/DTD/svg11.dtd\">\r\n<!-- Created with matplotlib (https://matplotlib.org/) -->\r\n<svg height=\"263.63625pt\" version=\"1.1\" viewBox=\"0 0 372.103125 263.63625\" width=\"372.103125pt\" xmlns=\"http://www.w3.org/2000/svg\" xmlns:xlink=\"http://www.w3.org/1999/xlink\">\r\n <defs>\r\n  <style type=\"text/css\">\r\n*{stroke-linecap:butt;stroke-linejoin:round;}\r\n  </style>\r\n </defs>\r\n <g id=\"figure_1\">\r\n  <g id=\"patch_1\">\r\n   <path d=\"M 0 263.63625 \r\nL 372.103125 263.63625 \r\nL 372.103125 0 \r\nL 0 0 \r\nz\r\n\" style=\"fill:none;\"/>\r\n  </g>\r\n  <g id=\"axes_1\">\r\n   <g id=\"patch_2\">\r\n    <path d=\"M 30.103125 239.758125 \r\nL 364.903125 239.758125 \r\nL 364.903125 22.318125 \r\nL 30.103125 22.318125 \r\nz\r\n\" style=\"fill:#ffffff;\"/>\r\n   </g>\r\n   <g id=\"matplotlib.axis_1\">\r\n    <g id=\"xtick_1\">\r\n     <g id=\"line2d_1\">\r\n      <defs>\r\n       <path d=\"M 0 0 \r\nL 0 3.5 \r\n\" id=\"m0152ff55fc\" style=\"stroke:#000000;stroke-width:0.8;\"/>\r\n      </defs>\r\n      <g>\r\n       <use style=\"stroke:#000000;stroke-width:0.8;\" x=\"45.321307\" xlink:href=\"#m0152ff55fc\" y=\"239.758125\"/>\r\n      </g>\r\n     </g>\r\n     <g id=\"text_1\">\r\n      <!-- 0 -->\r\n      <defs>\r\n       <path d=\"M 31.78125 66.40625 \r\nQ 24.171875 66.40625 20.328125 58.90625 \r\nQ 16.5 51.421875 16.5 36.375 \r\nQ 16.5 21.390625 20.328125 13.890625 \r\nQ 24.171875 6.390625 31.78125 6.390625 \r\nQ 39.453125 6.390625 43.28125 13.890625 \r\nQ 47.125 21.390625 47.125 36.375 \r\nQ 47.125 51.421875 43.28125 58.90625 \r\nQ 39.453125 66.40625 31.78125 66.40625 \r\nz\r\nM 31.78125 74.21875 \r\nQ 44.046875 74.21875 50.515625 64.515625 \r\nQ 56.984375 54.828125 56.984375 36.375 \r\nQ 56.984375 17.96875 50.515625 8.265625 \r\nQ 44.046875 -1.421875 31.78125 -1.421875 \r\nQ 19.53125 -1.421875 13.0625 8.265625 \r\nQ 6.59375 17.96875 6.59375 36.375 \r\nQ 6.59375 54.828125 13.0625 64.515625 \r\nQ 19.53125 74.21875 31.78125 74.21875 \r\nz\r\n\" id=\"DejaVuSans-48\"/>\r\n      </defs>\r\n      <g transform=\"translate(42.140057 254.356563)scale(0.1 -0.1)\">\r\n       <use xlink:href=\"#DejaVuSans-48\"/>\r\n      </g>\r\n     </g>\r\n    </g>\r\n    <g id=\"xtick_2\">\r\n     <g id=\"line2d_2\">\r\n      <g>\r\n       <use style=\"stroke:#000000;stroke-width:0.8;\" x=\"83.557945\" xlink:href=\"#m0152ff55fc\" y=\"239.758125\"/>\r\n      </g>\r\n     </g>\r\n     <g id=\"text_2\">\r\n      <!-- 25 -->\r\n      <defs>\r\n       <path d=\"M 19.1875 8.296875 \r\nL 53.609375 8.296875 \r\nL 53.609375 0 \r\nL 7.328125 0 \r\nL 7.328125 8.296875 \r\nQ 12.9375 14.109375 22.625 23.890625 \r\nQ 32.328125 33.6875 34.8125 36.53125 \r\nQ 39.546875 41.84375 41.421875 45.53125 \r\nQ 43.3125 49.21875 43.3125 52.78125 \r\nQ 43.3125 58.59375 39.234375 62.25 \r\nQ 35.15625 65.921875 28.609375 65.921875 \r\nQ 23.96875 65.921875 18.8125 64.3125 \r\nQ 13.671875 62.703125 7.8125 59.421875 \r\nL 7.8125 69.390625 \r\nQ 13.765625 71.78125 18.9375 73 \r\nQ 24.125 74.21875 28.421875 74.21875 \r\nQ 39.75 74.21875 46.484375 68.546875 \r\nQ 53.21875 62.890625 53.21875 53.421875 \r\nQ 53.21875 48.921875 51.53125 44.890625 \r\nQ 49.859375 40.875 45.40625 35.40625 \r\nQ 44.1875 33.984375 37.640625 27.21875 \r\nQ 31.109375 20.453125 19.1875 8.296875 \r\nz\r\n\" id=\"DejaVuSans-50\"/>\r\n       <path d=\"M 10.796875 72.90625 \r\nL 49.515625 72.90625 \r\nL 49.515625 64.59375 \r\nL 19.828125 64.59375 \r\nL 19.828125 46.734375 \r\nQ 21.96875 47.46875 24.109375 47.828125 \r\nQ 26.265625 48.1875 28.421875 48.1875 \r\nQ 40.625 48.1875 47.75 41.5 \r\nQ 54.890625 34.8125 54.890625 23.390625 \r\nQ 54.890625 11.625 47.5625 5.09375 \r\nQ 40.234375 -1.421875 26.90625 -1.421875 \r\nQ 22.3125 -1.421875 17.546875 -0.640625 \r\nQ 12.796875 0.140625 7.71875 1.703125 \r\nL 7.71875 11.625 \r\nQ 12.109375 9.234375 16.796875 8.0625 \r\nQ 21.484375 6.890625 26.703125 6.890625 \r\nQ 35.15625 6.890625 40.078125 11.328125 \r\nQ 45.015625 15.765625 45.015625 23.390625 \r\nQ 45.015625 31 40.078125 35.4375 \r\nQ 35.15625 39.890625 26.703125 39.890625 \r\nQ 22.75 39.890625 18.8125 39.015625 \r\nQ 14.890625 38.140625 10.796875 36.28125 \r\nz\r\n\" id=\"DejaVuSans-53\"/>\r\n      </defs>\r\n      <g transform=\"translate(77.195445 254.356563)scale(0.1 -0.1)\">\r\n       <use xlink:href=\"#DejaVuSans-50\"/>\r\n       <use x=\"63.623047\" xlink:href=\"#DejaVuSans-53\"/>\r\n      </g>\r\n     </g>\r\n    </g>\r\n    <g id=\"xtick_3\">\r\n     <g id=\"line2d_3\">\r\n      <g>\r\n       <use style=\"stroke:#000000;stroke-width:0.8;\" x=\"121.794582\" xlink:href=\"#m0152ff55fc\" y=\"239.758125\"/>\r\n      </g>\r\n     </g>\r\n     <g id=\"text_3\">\r\n      <!-- 50 -->\r\n      <g transform=\"translate(115.432082 254.356563)scale(0.1 -0.1)\">\r\n       <use xlink:href=\"#DejaVuSans-53\"/>\r\n       <use x=\"63.623047\" xlink:href=\"#DejaVuSans-48\"/>\r\n      </g>\r\n     </g>\r\n    </g>\r\n    <g id=\"xtick_4\">\r\n     <g id=\"line2d_4\">\r\n      <g>\r\n       <use style=\"stroke:#000000;stroke-width:0.8;\" x=\"160.03122\" xlink:href=\"#m0152ff55fc\" y=\"239.758125\"/>\r\n      </g>\r\n     </g>\r\n     <g id=\"text_4\">\r\n      <!-- 75 -->\r\n      <defs>\r\n       <path d=\"M 8.203125 72.90625 \r\nL 55.078125 72.90625 \r\nL 55.078125 68.703125 \r\nL 28.609375 0 \r\nL 18.3125 0 \r\nL 43.21875 64.59375 \r\nL 8.203125 64.59375 \r\nz\r\n\" id=\"DejaVuSans-55\"/>\r\n      </defs>\r\n      <g transform=\"translate(153.66872 254.356563)scale(0.1 -0.1)\">\r\n       <use xlink:href=\"#DejaVuSans-55\"/>\r\n       <use x=\"63.623047\" xlink:href=\"#DejaVuSans-53\"/>\r\n      </g>\r\n     </g>\r\n    </g>\r\n    <g id=\"xtick_5\">\r\n     <g id=\"line2d_5\">\r\n      <g>\r\n       <use style=\"stroke:#000000;stroke-width:0.8;\" x=\"198.267858\" xlink:href=\"#m0152ff55fc\" y=\"239.758125\"/>\r\n      </g>\r\n     </g>\r\n     <g id=\"text_5\">\r\n      <!-- 100 -->\r\n      <defs>\r\n       <path d=\"M 12.40625 8.296875 \r\nL 28.515625 8.296875 \r\nL 28.515625 63.921875 \r\nL 10.984375 60.40625 \r\nL 10.984375 69.390625 \r\nL 28.421875 72.90625 \r\nL 38.28125 72.90625 \r\nL 38.28125 8.296875 \r\nL 54.390625 8.296875 \r\nL 54.390625 0 \r\nL 12.40625 0 \r\nz\r\n\" id=\"DejaVuSans-49\"/>\r\n      </defs>\r\n      <g transform=\"translate(188.724108 254.356563)scale(0.1 -0.1)\">\r\n       <use xlink:href=\"#DejaVuSans-49\"/>\r\n       <use x=\"63.623047\" xlink:href=\"#DejaVuSans-48\"/>\r\n       <use x=\"127.246094\" xlink:href=\"#DejaVuSans-48\"/>\r\n      </g>\r\n     </g>\r\n    </g>\r\n    <g id=\"xtick_6\">\r\n     <g id=\"line2d_6\">\r\n      <g>\r\n       <use style=\"stroke:#000000;stroke-width:0.8;\" x=\"236.504495\" xlink:href=\"#m0152ff55fc\" y=\"239.758125\"/>\r\n      </g>\r\n     </g>\r\n     <g id=\"text_6\">\r\n      <!-- 125 -->\r\n      <g transform=\"translate(226.960745 254.356563)scale(0.1 -0.1)\">\r\n       <use xlink:href=\"#DejaVuSans-49\"/>\r\n       <use x=\"63.623047\" xlink:href=\"#DejaVuSans-50\"/>\r\n       <use x=\"127.246094\" xlink:href=\"#DejaVuSans-53\"/>\r\n      </g>\r\n     </g>\r\n    </g>\r\n    <g id=\"xtick_7\">\r\n     <g id=\"line2d_7\">\r\n      <g>\r\n       <use style=\"stroke:#000000;stroke-width:0.8;\" x=\"274.741133\" xlink:href=\"#m0152ff55fc\" y=\"239.758125\"/>\r\n      </g>\r\n     </g>\r\n     <g id=\"text_7\">\r\n      <!-- 150 -->\r\n      <g transform=\"translate(265.197383 254.356563)scale(0.1 -0.1)\">\r\n       <use xlink:href=\"#DejaVuSans-49\"/>\r\n       <use x=\"63.623047\" xlink:href=\"#DejaVuSans-53\"/>\r\n       <use x=\"127.246094\" xlink:href=\"#DejaVuSans-48\"/>\r\n      </g>\r\n     </g>\r\n    </g>\r\n    <g id=\"xtick_8\">\r\n     <g id=\"line2d_8\">\r\n      <g>\r\n       <use style=\"stroke:#000000;stroke-width:0.8;\" x=\"312.977771\" xlink:href=\"#m0152ff55fc\" y=\"239.758125\"/>\r\n      </g>\r\n     </g>\r\n     <g id=\"text_8\">\r\n      <!-- 175 -->\r\n      <g transform=\"translate(303.434021 254.356563)scale(0.1 -0.1)\">\r\n       <use xlink:href=\"#DejaVuSans-49\"/>\r\n       <use x=\"63.623047\" xlink:href=\"#DejaVuSans-55\"/>\r\n       <use x=\"127.246094\" xlink:href=\"#DejaVuSans-53\"/>\r\n      </g>\r\n     </g>\r\n    </g>\r\n    <g id=\"xtick_9\">\r\n     <g id=\"line2d_9\">\r\n      <g>\r\n       <use style=\"stroke:#000000;stroke-width:0.8;\" x=\"351.214409\" xlink:href=\"#m0152ff55fc\" y=\"239.758125\"/>\r\n      </g>\r\n     </g>\r\n     <g id=\"text_9\">\r\n      <!-- 200 -->\r\n      <g transform=\"translate(341.670659 254.356563)scale(0.1 -0.1)\">\r\n       <use xlink:href=\"#DejaVuSans-50\"/>\r\n       <use x=\"63.623047\" xlink:href=\"#DejaVuSans-48\"/>\r\n       <use x=\"127.246094\" xlink:href=\"#DejaVuSans-48\"/>\r\n      </g>\r\n     </g>\r\n    </g>\r\n   </g>\r\n   <g id=\"matplotlib.axis_2\">\r\n    <g id=\"ytick_1\">\r\n     <g id=\"line2d_10\">\r\n      <defs>\r\n       <path d=\"M 0 0 \r\nL -3.5 0 \r\n\" id=\"m7d1e9de9c6\" style=\"stroke:#000000;stroke-width:0.8;\"/>\r\n      </defs>\r\n      <g>\r\n       <use style=\"stroke:#000000;stroke-width:0.8;\" x=\"30.103125\" xlink:href=\"#m7d1e9de9c6\" y=\"234.876006\"/>\r\n      </g>\r\n     </g>\r\n     <g id=\"text_10\">\r\n      <!-- 0.0 -->\r\n      <defs>\r\n       <path d=\"M 10.6875 12.40625 \r\nL 21 12.40625 \r\nL 21 0 \r\nL 10.6875 0 \r\nz\r\n\" id=\"DejaVuSans-46\"/>\r\n      </defs>\r\n      <g transform=\"translate(7.2 238.675224)scale(0.1 -0.1)\">\r\n       <use xlink:href=\"#DejaVuSans-48\"/>\r\n       <use x=\"63.623047\" xlink:href=\"#DejaVuSans-46\"/>\r\n       <use x=\"95.410156\" xlink:href=\"#DejaVuSans-48\"/>\r\n      </g>\r\n     </g>\r\n    </g>\r\n    <g id=\"ytick_2\">\r\n     <g id=\"line2d_11\">\r\n      <g>\r\n       <use style=\"stroke:#000000;stroke-width:0.8;\" x=\"30.103125\" xlink:href=\"#m7d1e9de9c6\" y=\"193.736244\"/>\r\n      </g>\r\n     </g>\r\n     <g id=\"text_11\">\r\n      <!-- 0.1 -->\r\n      <g transform=\"translate(7.2 197.535462)scale(0.1 -0.1)\">\r\n       <use xlink:href=\"#DejaVuSans-48\"/>\r\n       <use x=\"63.623047\" xlink:href=\"#DejaVuSans-46\"/>\r\n       <use x=\"95.410156\" xlink:href=\"#DejaVuSans-49\"/>\r\n      </g>\r\n     </g>\r\n    </g>\r\n    <g id=\"ytick_3\">\r\n     <g id=\"line2d_12\">\r\n      <g>\r\n       <use style=\"stroke:#000000;stroke-width:0.8;\" x=\"30.103125\" xlink:href=\"#m7d1e9de9c6\" y=\"152.596481\"/>\r\n      </g>\r\n     </g>\r\n     <g id=\"text_12\">\r\n      <!-- 0.2 -->\r\n      <g transform=\"translate(7.2 156.3957)scale(0.1 -0.1)\">\r\n       <use xlink:href=\"#DejaVuSans-48\"/>\r\n       <use x=\"63.623047\" xlink:href=\"#DejaVuSans-46\"/>\r\n       <use x=\"95.410156\" xlink:href=\"#DejaVuSans-50\"/>\r\n      </g>\r\n     </g>\r\n    </g>\r\n    <g id=\"ytick_4\">\r\n     <g id=\"line2d_13\">\r\n      <g>\r\n       <use style=\"stroke:#000000;stroke-width:0.8;\" x=\"30.103125\" xlink:href=\"#m7d1e9de9c6\" y=\"111.456719\"/>\r\n      </g>\r\n     </g>\r\n     <g id=\"text_13\">\r\n      <!-- 0.3 -->\r\n      <defs>\r\n       <path d=\"M 40.578125 39.3125 \r\nQ 47.65625 37.796875 51.625 33 \r\nQ 55.609375 28.21875 55.609375 21.1875 \r\nQ 55.609375 10.40625 48.1875 4.484375 \r\nQ 40.765625 -1.421875 27.09375 -1.421875 \r\nQ 22.515625 -1.421875 17.65625 -0.515625 \r\nQ 12.796875 0.390625 7.625 2.203125 \r\nL 7.625 11.71875 \r\nQ 11.71875 9.328125 16.59375 8.109375 \r\nQ 21.484375 6.890625 26.8125 6.890625 \r\nQ 36.078125 6.890625 40.9375 10.546875 \r\nQ 45.796875 14.203125 45.796875 21.1875 \r\nQ 45.796875 27.640625 41.28125 31.265625 \r\nQ 36.765625 34.90625 28.71875 34.90625 \r\nL 20.21875 34.90625 \r\nL 20.21875 43.015625 \r\nL 29.109375 43.015625 \r\nQ 36.375 43.015625 40.234375 45.921875 \r\nQ 44.09375 48.828125 44.09375 54.296875 \r\nQ 44.09375 59.90625 40.109375 62.90625 \r\nQ 36.140625 65.921875 28.71875 65.921875 \r\nQ 24.65625 65.921875 20.015625 65.03125 \r\nQ 15.375 64.15625 9.8125 62.3125 \r\nL 9.8125 71.09375 \r\nQ 15.4375 72.65625 20.34375 73.4375 \r\nQ 25.25 74.21875 29.59375 74.21875 \r\nQ 40.828125 74.21875 47.359375 69.109375 \r\nQ 53.90625 64.015625 53.90625 55.328125 \r\nQ 53.90625 49.265625 50.4375 45.09375 \r\nQ 46.96875 40.921875 40.578125 39.3125 \r\nz\r\n\" id=\"DejaVuSans-51\"/>\r\n      </defs>\r\n      <g transform=\"translate(7.2 115.255938)scale(0.1 -0.1)\">\r\n       <use xlink:href=\"#DejaVuSans-48\"/>\r\n       <use x=\"63.623047\" xlink:href=\"#DejaVuSans-46\"/>\r\n       <use x=\"95.410156\" xlink:href=\"#DejaVuSans-51\"/>\r\n      </g>\r\n     </g>\r\n    </g>\r\n    <g id=\"ytick_5\">\r\n     <g id=\"line2d_14\">\r\n      <g>\r\n       <use style=\"stroke:#000000;stroke-width:0.8;\" x=\"30.103125\" xlink:href=\"#m7d1e9de9c6\" y=\"70.316957\"/>\r\n      </g>\r\n     </g>\r\n     <g id=\"text_14\">\r\n      <!-- 0.4 -->\r\n      <defs>\r\n       <path d=\"M 37.796875 64.3125 \r\nL 12.890625 25.390625 \r\nL 37.796875 25.390625 \r\nz\r\nM 35.203125 72.90625 \r\nL 47.609375 72.90625 \r\nL 47.609375 25.390625 \r\nL 58.015625 25.390625 \r\nL 58.015625 17.1875 \r\nL 47.609375 17.1875 \r\nL 47.609375 0 \r\nL 37.796875 0 \r\nL 37.796875 17.1875 \r\nL 4.890625 17.1875 \r\nL 4.890625 26.703125 \r\nz\r\n\" id=\"DejaVuSans-52\"/>\r\n      </defs>\r\n      <g transform=\"translate(7.2 74.116176)scale(0.1 -0.1)\">\r\n       <use xlink:href=\"#DejaVuSans-48\"/>\r\n       <use x=\"63.623047\" xlink:href=\"#DejaVuSans-46\"/>\r\n       <use x=\"95.410156\" xlink:href=\"#DejaVuSans-52\"/>\r\n      </g>\r\n     </g>\r\n    </g>\r\n    <g id=\"ytick_6\">\r\n     <g id=\"line2d_15\">\r\n      <g>\r\n       <use style=\"stroke:#000000;stroke-width:0.8;\" x=\"30.103125\" xlink:href=\"#m7d1e9de9c6\" y=\"29.177195\"/>\r\n      </g>\r\n     </g>\r\n     <g id=\"text_15\">\r\n      <!-- 0.5 -->\r\n      <g transform=\"translate(7.2 32.976414)scale(0.1 -0.1)\">\r\n       <use xlink:href=\"#DejaVuSans-48\"/>\r\n       <use x=\"63.623047\" xlink:href=\"#DejaVuSans-46\"/>\r\n       <use x=\"95.410156\" xlink:href=\"#DejaVuSans-53\"/>\r\n      </g>\r\n     </g>\r\n    </g>\r\n   </g>\r\n   <g id=\"line2d_16\">\r\n    <path clip-path=\"url(#p90a500f8ef)\" d=\"M 45.321307 32.201761 \r\nL 46.850772 113.235458 \r\nL 48.380238 137.975794 \r\nL 49.909703 155.150147 \r\nL 51.439169 161.819253 \r\nL 52.968634 167.122092 \r\nL 54.4981 171.551224 \r\nL 57.557031 177.313478 \r\nL 59.086496 179.278016 \r\nL 62.145427 182.698285 \r\nL 63.674893 183.977437 \r\nL 65.204358 184.970862 \r\nL 66.733824 186.190605 \r\nL 68.263289 187.078595 \r\nL 71.32222 188.54565 \r\nL 72.851686 189.340559 \r\nL 77.440083 191.084487 \r\nL 82.028479 192.559209 \r\nL 83.557945 193.091412 \r\nL 85.08741 193.324423 \r\nL 88.146341 194.332168 \r\nL 89.675807 194.450182 \r\nL 91.205272 195.057878 \r\nL 94.264203 195.505404 \r\nL 95.793669 195.3144 \r\nL 97.323134 195.609527 \r\nL 98.8526 196.266357 \r\nL 100.382065 196.752804 \r\nL 101.911531 196.453036 \r\nL 103.440996 197.575243 \r\nL 104.970462 197.826013 \r\nL 106.499927 197.797641 \r\nL 108.029393 198.518565 \r\nL 111.088324 198.926199 \r\nL 112.617789 198.967576 \r\nL 114.147255 199.1849 \r\nL 115.67672 199.666135 \r\nL 117.206186 199.895255 \r\nL 118.735651 200.482009 \r\nL 121.794582 200.729987 \r\nL 123.324048 201.436598 \r\nL 124.853513 201.75313 \r\nL 126.382979 201.846496 \r\nL 137.089237 204.020272 \r\nL 138.618703 202.877161 \r\nL 140.148168 203.78243 \r\nL 141.677634 204.214039 \r\nL 143.207099 204.916726 \r\nL 144.736565 204.814757 \r\nL 146.26603 204.135316 \r\nL 149.324961 204.739416 \r\nL 150.854427 205.613658 \r\nL 152.383892 204.245397 \r\nL 153.913358 205.689261 \r\nL 155.442823 205.856919 \r\nL 158.501755 206.481182 \r\nL 160.03122 206.586369 \r\nL 161.560686 206.450624 \r\nL 163.090151 206.597285 \r\nL 164.619617 207.918317 \r\nL 166.149082 207.972985 \r\nL 170.737479 209.397785 \r\nL 172.266944 209.72207 \r\nL 176.855341 209.744457 \r\nL 178.384806 210.000438 \r\nL 179.914272 210.013742 \r\nL 181.443737 210.388492 \r\nL 182.973203 211.226573 \r\nL 184.502668 211.215233 \r\nL 187.561599 212.246309 \r\nL 189.091065 212.517419 \r\nL 190.62053 212.53195 \r\nL 192.149996 212.932505 \r\nL 193.679461 212.521833 \r\nL 195.208927 213.183888 \r\nL 196.738392 213.517459 \r\nL 198.267858 213.526747 \r\nL 199.797323 214.085798 \r\nL 201.326789 213.771377 \r\nL 202.856254 212.056675 \r\nL 204.38572 211.222678 \r\nL 205.915185 207.469248 \r\nL 207.444651 205.25142 \r\nL 208.974116 206.984364 \r\nL 210.503582 209.502641 \r\nL 212.033047 209.271291 \r\nL 213.562513 211.785017 \r\nL 215.091978 211.505979 \r\nL 216.621444 211.741091 \r\nL 218.150909 213.38547 \r\nL 219.680375 213.103437 \r\nL 221.20984 212.967519 \r\nL 222.739306 213.513726 \r\nL 224.268771 214.603666 \r\nL 225.798237 214.881313 \r\nL 227.327702 215.56989 \r\nL 230.386633 215.785174 \r\nL 231.916099 215.639807 \r\nL 233.445564 216.005369 \r\nL 234.97503 216.486911 \r\nL 236.504495 217.315799 \r\nL 239.563427 217.77192 \r\nL 241.092892 217.693663 \r\nL 245.681289 218.88674 \r\nL 247.210754 219.129372 \r\nL 248.74022 219.799868 \r\nL 251.799151 220.244041 \r\nL 253.328616 220.114703 \r\nL 254.858082 220.307634 \r\nL 256.387547 220.335321 \r\nL 257.917013 220.724113 \r\nL 259.446478 220.929805 \r\nL 262.505409 221.014341 \r\nL 264.034875 221.534498 \r\nL 265.56434 221.607875 \r\nL 267.093806 221.309211 \r\nL 268.623271 221.776766 \r\nL 270.152737 221.654185 \r\nL 271.682202 222.295651 \r\nL 274.741133 221.541685 \r\nL 276.270599 222.431289 \r\nL 277.800064 223.0107 \r\nL 279.32953 222.813462 \r\nL 280.858995 223.157211 \r\nL 282.388461 223.197255 \r\nL 283.917926 223.057833 \r\nL 285.447392 223.480058 \r\nL 288.506323 223.195887 \r\nL 290.035788 223.972796 \r\nL 293.094719 224.410247 \r\nL 294.624185 224.395014 \r\nL 296.15365 223.8165 \r\nL 297.683116 224.305574 \r\nL 299.212581 224.434171 \r\nL 300.742047 225.1115 \r\nL 302.271512 225.020012 \r\nL 305.330443 225.468893 \r\nL 306.859909 225.479641 \r\nL 308.389374 225.66407 \r\nL 309.91884 224.662253 \r\nL 312.977771 224.71126 \r\nL 314.507236 225.300583 \r\nL 316.036702 225.698686 \r\nL 317.566167 224.633652 \r\nL 319.095633 225.259771 \r\nL 320.625099 225.03381 \r\nL 322.154564 224.358345 \r\nL 323.68403 225.648435 \r\nL 325.213495 225.579769 \r\nL 326.742961 226.538169 \r\nL 328.272426 225.826723 \r\nL 331.331357 226.614243 \r\nL 332.860823 226.249283 \r\nL 334.390288 226.681087 \r\nL 335.919754 226.441847 \r\nL 337.449219 227.498816 \r\nL 340.50815 228.73984 \r\nL 342.037616 228.631612 \r\nL 343.567081 228.986369 \r\nL 345.096547 229.184477 \r\nL 346.626012 229.689775 \r\nL 349.684943 229.874489 \r\nL 349.684943 229.874489 \r\n\" style=\"fill:none;stroke:#1f77b4;stroke-linecap:square;stroke-width:1.5;\"/>\r\n   </g>\r\n   <g id=\"patch_3\">\r\n    <path d=\"M 30.103125 239.758125 \r\nL 30.103125 22.318125 \r\n\" style=\"fill:none;stroke:#000000;stroke-linecap:square;stroke-linejoin:miter;stroke-width:0.8;\"/>\r\n   </g>\r\n   <g id=\"patch_4\">\r\n    <path d=\"M 364.903125 239.758125 \r\nL 364.903125 22.318125 \r\n\" style=\"fill:none;stroke:#000000;stroke-linecap:square;stroke-linejoin:miter;stroke-width:0.8;\"/>\r\n   </g>\r\n   <g id=\"patch_5\">\r\n    <path d=\"M 30.103125 239.758125 \r\nL 364.903125 239.758125 \r\n\" style=\"fill:none;stroke:#000000;stroke-linecap:square;stroke-linejoin:miter;stroke-width:0.8;\"/>\r\n   </g>\r\n   <g id=\"patch_6\">\r\n    <path d=\"M 30.103125 22.318125 \r\nL 364.903125 22.318125 \r\n\" style=\"fill:none;stroke:#000000;stroke-linecap:square;stroke-linejoin:miter;stroke-width:0.8;\"/>\r\n   </g>\r\n   <g id=\"text_16\">\r\n    <!-- Model Loss -->\r\n    <defs>\r\n     <path d=\"M 9.8125 72.90625 \r\nL 24.515625 72.90625 \r\nL 43.109375 23.296875 \r\nL 61.8125 72.90625 \r\nL 76.515625 72.90625 \r\nL 76.515625 0 \r\nL 66.890625 0 \r\nL 66.890625 64.015625 \r\nL 48.09375 14.015625 \r\nL 38.1875 14.015625 \r\nL 19.390625 64.015625 \r\nL 19.390625 0 \r\nL 9.8125 0 \r\nz\r\n\" id=\"DejaVuSans-77\"/>\r\n     <path d=\"M 30.609375 48.390625 \r\nQ 23.390625 48.390625 19.1875 42.75 \r\nQ 14.984375 37.109375 14.984375 27.296875 \r\nQ 14.984375 17.484375 19.15625 11.84375 \r\nQ 23.34375 6.203125 30.609375 6.203125 \r\nQ 37.796875 6.203125 41.984375 11.859375 \r\nQ 46.1875 17.53125 46.1875 27.296875 \r\nQ 46.1875 37.015625 41.984375 42.703125 \r\nQ 37.796875 48.390625 30.609375 48.390625 \r\nz\r\nM 30.609375 56 \r\nQ 42.328125 56 49.015625 48.375 \r\nQ 55.71875 40.765625 55.71875 27.296875 \r\nQ 55.71875 13.875 49.015625 6.21875 \r\nQ 42.328125 -1.421875 30.609375 -1.421875 \r\nQ 18.84375 -1.421875 12.171875 6.21875 \r\nQ 5.515625 13.875 5.515625 27.296875 \r\nQ 5.515625 40.765625 12.171875 48.375 \r\nQ 18.84375 56 30.609375 56 \r\nz\r\n\" id=\"DejaVuSans-111\"/>\r\n     <path d=\"M 45.40625 46.390625 \r\nL 45.40625 75.984375 \r\nL 54.390625 75.984375 \r\nL 54.390625 0 \r\nL 45.40625 0 \r\nL 45.40625 8.203125 \r\nQ 42.578125 3.328125 38.25 0.953125 \r\nQ 33.9375 -1.421875 27.875 -1.421875 \r\nQ 17.96875 -1.421875 11.734375 6.484375 \r\nQ 5.515625 14.40625 5.515625 27.296875 \r\nQ 5.515625 40.1875 11.734375 48.09375 \r\nQ 17.96875 56 27.875 56 \r\nQ 33.9375 56 38.25 53.625 \r\nQ 42.578125 51.265625 45.40625 46.390625 \r\nz\r\nM 14.796875 27.296875 \r\nQ 14.796875 17.390625 18.875 11.75 \r\nQ 22.953125 6.109375 30.078125 6.109375 \r\nQ 37.203125 6.109375 41.296875 11.75 \r\nQ 45.40625 17.390625 45.40625 27.296875 \r\nQ 45.40625 37.203125 41.296875 42.84375 \r\nQ 37.203125 48.484375 30.078125 48.484375 \r\nQ 22.953125 48.484375 18.875 42.84375 \r\nQ 14.796875 37.203125 14.796875 27.296875 \r\nz\r\n\" id=\"DejaVuSans-100\"/>\r\n     <path d=\"M 56.203125 29.59375 \r\nL 56.203125 25.203125 \r\nL 14.890625 25.203125 \r\nQ 15.484375 15.921875 20.484375 11.0625 \r\nQ 25.484375 6.203125 34.421875 6.203125 \r\nQ 39.59375 6.203125 44.453125 7.46875 \r\nQ 49.3125 8.734375 54.109375 11.28125 \r\nL 54.109375 2.78125 \r\nQ 49.265625 0.734375 44.1875 -0.34375 \r\nQ 39.109375 -1.421875 33.890625 -1.421875 \r\nQ 20.796875 -1.421875 13.15625 6.1875 \r\nQ 5.515625 13.8125 5.515625 26.8125 \r\nQ 5.515625 40.234375 12.765625 48.109375 \r\nQ 20.015625 56 32.328125 56 \r\nQ 43.359375 56 49.78125 48.890625 \r\nQ 56.203125 41.796875 56.203125 29.59375 \r\nz\r\nM 47.21875 32.234375 \r\nQ 47.125 39.59375 43.09375 43.984375 \r\nQ 39.0625 48.390625 32.421875 48.390625 \r\nQ 24.90625 48.390625 20.390625 44.140625 \r\nQ 15.875 39.890625 15.1875 32.171875 \r\nz\r\n\" id=\"DejaVuSans-101\"/>\r\n     <path d=\"M 9.421875 75.984375 \r\nL 18.40625 75.984375 \r\nL 18.40625 0 \r\nL 9.421875 0 \r\nz\r\n\" id=\"DejaVuSans-108\"/>\r\n     <path id=\"DejaVuSans-32\"/>\r\n     <path d=\"M 9.8125 72.90625 \r\nL 19.671875 72.90625 \r\nL 19.671875 8.296875 \r\nL 55.171875 8.296875 \r\nL 55.171875 0 \r\nL 9.8125 0 \r\nz\r\n\" id=\"DejaVuSans-76\"/>\r\n     <path d=\"M 44.28125 53.078125 \r\nL 44.28125 44.578125 \r\nQ 40.484375 46.53125 36.375 47.5 \r\nQ 32.28125 48.484375 27.875 48.484375 \r\nQ 21.1875 48.484375 17.84375 46.4375 \r\nQ 14.5 44.390625 14.5 40.28125 \r\nQ 14.5 37.15625 16.890625 35.375 \r\nQ 19.28125 33.59375 26.515625 31.984375 \r\nL 29.59375 31.296875 \r\nQ 39.15625 29.25 43.1875 25.515625 \r\nQ 47.21875 21.78125 47.21875 15.09375 \r\nQ 47.21875 7.46875 41.1875 3.015625 \r\nQ 35.15625 -1.421875 24.609375 -1.421875 \r\nQ 20.21875 -1.421875 15.453125 -0.5625 \r\nQ 10.6875 0.296875 5.421875 2 \r\nL 5.421875 11.28125 \r\nQ 10.40625 8.6875 15.234375 7.390625 \r\nQ 20.0625 6.109375 24.8125 6.109375 \r\nQ 31.15625 6.109375 34.5625 8.28125 \r\nQ 37.984375 10.453125 37.984375 14.40625 \r\nQ 37.984375 18.0625 35.515625 20.015625 \r\nQ 33.0625 21.96875 24.703125 23.78125 \r\nL 21.578125 24.515625 \r\nQ 13.234375 26.265625 9.515625 29.90625 \r\nQ 5.8125 33.546875 5.8125 39.890625 \r\nQ 5.8125 47.609375 11.28125 51.796875 \r\nQ 16.75 56 26.8125 56 \r\nQ 31.78125 56 36.171875 55.265625 \r\nQ 40.578125 54.546875 44.28125 53.078125 \r\nz\r\n\" id=\"DejaVuSans-115\"/>\r\n    </defs>\r\n    <g transform=\"translate(164.315625 16.318125)scale(0.12 -0.12)\">\r\n     <use xlink:href=\"#DejaVuSans-77\"/>\r\n     <use x=\"86.279297\" xlink:href=\"#DejaVuSans-111\"/>\r\n     <use x=\"147.460938\" xlink:href=\"#DejaVuSans-100\"/>\r\n     <use x=\"210.9375\" xlink:href=\"#DejaVuSans-101\"/>\r\n     <use x=\"272.460938\" xlink:href=\"#DejaVuSans-108\"/>\r\n     <use x=\"300.244141\" xlink:href=\"#DejaVuSans-32\"/>\r\n     <use x=\"332.03125\" xlink:href=\"#DejaVuSans-76\"/>\r\n     <use x=\"387.728516\" xlink:href=\"#DejaVuSans-111\"/>\r\n     <use x=\"448.910156\" xlink:href=\"#DejaVuSans-115\"/>\r\n     <use x=\"501.009766\" xlink:href=\"#DejaVuSans-115\"/>\r\n    </g>\r\n   </g>\r\n  </g>\r\n </g>\r\n <defs>\r\n  <clipPath id=\"p90a500f8ef\">\r\n   <rect height=\"217.44\" width=\"334.8\" x=\"30.103125\" y=\"22.318125\"/>\r\n  </clipPath>\r\n </defs>\r\n</svg>\r\n",
      "image/png": "[encoded data removed]"
     },
     "metadata": {
      "needs_background": "light"
     }
    }
   ],
   "source": [
    "plt.plot(h.history['loss'])\n",
    "plt.title('Model Loss')\n",
    "plt.show()"
   ]
  },
  {
   "cell_type": "code",
   "execution_count": 63,
   "metadata": {},
   "outputs": [],
   "source": [
    "encoder_model = Model(encoder_inputs,encoder_states)\n",
    "\n",
    "decoder_state_input_h = Input(shape=(latent_dim*2,))\n",
    "decoder_state_input_c = Input(shape=(latent_dim*2,))\n",
    "decoder_states_inputs = [decoder_state_input_h,decoder_state_input_c]\n",
    "decoder_outputs,state_h,state_c = decoder_lstm(\n",
    "        decoder_inputs,initial_state = decoder_states_inputs\n",
    ")\n",
    "decoder_states = [state_h,state_c]\n",
    "decoder_outputs = decoder_dense(decoder_outputs)\n",
    "decoder_model = Model(\n",
    "    [decoder_inputs] + decoder_states_inputs,\n",
    "    [decoder_outputs] + decoder_states\n",
    ")\n",
    "encoder_model.save('encoder.h5')\n",
    "decoder_model.save('decoder.h5')"
   ]
  },
  {
   "cell_type": "code",
   "execution_count": null,
   "metadata": {},
   "outputs": [],
   "source": [
    "# Attention inference\n",
    "attention_layer = Attention(name='attention_layer')\n",
    "attn_out_res, attn_states_res = attn_layer([inf_decoder_inputs, decoder_res])"
   ]
  },
  {
   "cell_type": "code",
   "execution_count": 97,
   "metadata": {},
   "outputs": [],
   "source": [
    "def decode_sequence(input_seq):\n",
    "    # Encode the input as state vectors.\n",
    "    states_value = encoder_model.predict(input_seq)\n",
    "\n",
    "    # Generate empty target sequence of length 1.\n",
    "    target_seq = np.zeros((1, 1, num_dec_tokens))\n",
    "    # Populate the first character of target sequence with the start character.\n",
    "    target_seq[0, 0, char2int['\\t']] = 1.\n",
    "\n",
    "    # Sampling loop for a batch of sequences\n",
    "    # (to simplify, here we assume a batch of size 1).\n",
    "    stop_condition = False\n",
    "    decoded_sentence = ''\n",
    "    decoded_list =[]\n",
    "    while not stop_condition:\n",
    "        output_tokens, h, c = decoder_model.predict(\n",
    "            [target_seq] + states_value)\n",
    "\n",
    "        # Sample a token\n",
    "        sampled_token_index = np.argmax(output_tokens[0, -1, :])\n",
    "        sampled_char = int2char[sampled_token_index]\n",
    "        decoded_sentence += sampled_char\n",
    "        decoded_list.append(sampled_char)\n",
    "\n",
    "        # Exit condition: either hit max length\n",
    "        # or find stop character.\n",
    "        if (sampled_char == '\\n' or\n",
    "           len(decoded_sentence) > max_dec_len):\n",
    "            stop_condition = True\n",
    "\n",
    "        # Update the target sequence (of length 1).\n",
    "        target_seq = np.zeros((1, 1, num_dec_tokens))\n",
    "        target_seq[0, 0, sampled_token_index] = 1.\n",
    "\n",
    "        # Update states\n",
    "        states_value = [h, c]\n",
    "\n",
    "    return decoded_sentence,decoded_list"
   ]
  },
  {
   "cell_type": "code",
   "execution_count": 98,
   "metadata": {},
   "outputs": [],
   "source": [
    "seq=encoder_input_data[1:2]"
   ]
  },
  {
   "cell_type": "code",
   "execution_count": 99,
   "metadata": {},
   "outputs": [
    {
     "output_type": "stream",
     "name": "stdout",
     "text": "['โ', 'ร', 'ง', 'พ', 'ย', 'า', 'บ', 'า', 'ล', 'ก', 'ุ', 'ย', 'บ', 'ุ', 'ร', 'ี', '\\n']\n"
    }
   ],
   "source": [
    "decoded_sentence, lst = decode_sequence(seq)\n",
    "print(lst)"
   ]
  },
  {
   "cell_type": "code",
   "execution_count": 100,
   "metadata": {
    "tags": [
     "outputPrepend",
     "outputPrepend",
     "outputPrepend",
     "outputPrepend",
     "outputPrepend",
     "outputPrepend",
     "outputPrepend",
     "outputPrepend",
     "outputPrepend",
     "outputPrepend",
     "outputPrepend",
     "outputPrepend",
     "outputPrepend",
     "outputPrepend",
     "outputPrepend",
     "outputPrepend",
     "outputPrepend",
     "outputPrepend",
     "outputPrepend",
     "outputPrepend",
     "outputPrepend"
    ]
   },
   "outputs": [
    {
     "output_type": "stream",
     "name": "stdout",
     "text": "บาลกรุงเทพคริสเตียนนครปฐม\n\nGround Truth: \tโรงพยาบาลกรุงเทพคริสเตียนนครปฐม\n\n-\nWrong sentence: โรงพยาบาลืพธิฝชัย\nCorrected sentence: โรงพยาบาลพุยพิน\n\nGround Truth: \tโรงพยาบาลโพธิ์ชัย\n\n-\nWrong sentence: โรงพยาบาลด่านช้ใาง\nCorrected sentence: โรงพยาบาลด่านช้าง\n\nGround Truth: \tโรงพยาบาลด่านช้าง\n\n-\nWrong sentence: โรงพยาบาลอู่ทอง\nCorrected sentence: โรงพยาบาลอู่ทอง\n\nGround Truth: \tโรงพยาบาลอู่ทอง\n\n-\nWrong sentence: โรงพยาบาลนครค-ร4สฟมตียน\nCorrected sentence: โรงพยาบาลนครคริสเตียน\n\nGround Truth: \tโรงพยาบาลนครคริสเตียน\n\n-\nWrong sentence: โรงพยาบาลสินแพทย์\nCorrected sentence: โรงพยาบาลสินแพทย์\n\nGround Truth: \tโรงพยาบาลสินแพทย์\n\n-\nWrong sentence: โรงพยาบาลราชคฤกษ์\nCorrected sentence: โรงพยาบาลราชพฤกษ์\n\nGround Truth: \tโรงพยาบาลราชพฤกษ์\n\n-\nWrong sentence: โรงพยาบฉลหลวงพ่อเปิ่น\nCorrected sentence: โรงพยาบาลหลวงพ่อเปิ่น\n\nGround Truth: \tโรงพยาบาลหลวงพ่อเปิ่น\n\n-\nWrong sentence: โรงพยาบาลสมเด็จพรศะบรขราชินีนาถ\nCorrected sentence: โรงพยาบาลสมเด็จพระบรมราชินีนาถ\n\nGround Truth: \tโรงพยาบาลสมเด็จพระบรมราชินีนาถ\n\n-\nWrong sentence: โรงพยาบาลแม่ลาน\nCorrected sentence: โรงพยาบาลแม่ลาน\n\nGround Truth: \tโรงพยาบาลแม่ลาน\n\n-\nWrong sentence: โรงพฌยาบาลเปือยน้อย\nCorrected sentence: โรงพยาบาลเปือยน้อย\n\nGround Truth: \tโรงพยาบาลเปือยน้อย\n\n-\nWrong sentence: โรงพยา8บาลอาจวสามารต\nCorrected sentence: โรงพยาบาลอาจสามารถ\n\nGround Truth: \tโรงพยาบาลอาจสามารถ\n\n-\nWrong sentence: โรงพยาบาลฟท่าสองยาง\nCorrected sentence: โรงพยาบาลท่าสองยาง\n\nGround Truth: \tโรงพยาบาลท่าสองยาง\n\n-\nWrong sentence: โรพงพยดบาลปิยะรั๋ษ์\nCorrected sentence: โรงพยาบาลปิยะรักษ์\n\nGround Truth: \tโรงพยาบาลปิยะรักษ์\n\n-\nWrong sentence: โรงพยาฟาลวัฒนแพทย์ตรัง\nCorrected sentence: โรงพยาบาลวัฒนแพทย์ตรัง\n\nGround Truth: \tโรงพยาบาลวัฒนแพทย์ตรัง\n\n-\nWrong sentence: โรพยาบาลบ้านตาไก\nCorrected sentence: โรงพยาบาลบ้านตาก\n\nGround Truth: \tโรงพยาบาลบ้านตาก\n\n-\nWrong sentence: โรงพยาบาลทับสๅะแก\nCorrected sentence: โรงพยาบาลลำทะเมนชัย\n\nGround Truth: \tโรงพยาบาลทับสะแก\n\n-\nWrong sentence: โรงพยาบาลปับใหญ่\nCorrected sentence: โรงพยาบาลซับใหญ่\n\nGround Truth: \tโรงพยาบาลซับใหญ่\n\n-\nWrong sentence: โรงีพยาาลสมเด็จพระสังฆราชองคที่47\nCorrected sentence: โรงพยาบาลสมเด็จพระสังฆราชองค์ที่17\n\nGround Truth: \tโรงพยาบาลสมเด็จพระสังฆราชองค์ที่17\n\n-\nWrong sentence: เทเิแคร์คลินหิกสุขา5ิทบาล3\nCorrected sentence: เทเลแคร์คลินิกสุขาภิบาล3\n\nGround Truth: \tเทเลแคร์คลินิกสุขาภิบาล3\n\n-\nWrong sentence: โรงพยาบาลเหนือคลอง\nCorrected sentence: โรงพยาบาลหนองไผ่\n\nGround Truth: \tโรงพยาบาลเหนือคลอง\n\n-\nWrong sentence: คลินิกเวชกรรมจุฬารัตน์8\nCorrected sentence: คลินิกเวชกรรมจุฬารัตน์12(เกตเวย์)\n\nGround Truth: \tคลินิกเวชกรรมจุฬารัตน์8\n\n-\nWrong sentence: โรงพยาบญรัทรินทร์\nCorrected sentence: โรงพยาบาลรัทรินทร์\n\nGround Truth: \tโรงพยาบาลรัทรินทร์\n\n-\nWrong sentence: โรงพยาบาลพุทธมณฑล\nCorrected sentence: โรงพยาบาลพุทธมณฑล\n\nGround Truth: \tโรงพยาบาลพุทธมณฑล\n\n-\nWrong sentence: โรงพยาบาลเกษมราษฎร์สระบุร.ี\nCorrected sentence: โรงพยาบาลเกษมราษฎร์สระบุรี\n\nGround Truth: \tโรงพยาบาลเกษมราษฎร์สระบุรี\n\n-\nWrong sentence: โรงพยาบาลมาบอำมฤต\nCorrected sentence: โรงพยาบาลมาบอำมฤต\n\nGround Truth: \tโรงพยาบาลมาบอำมฤต\n\n-\nWrong sentence: โรใงตพยาบาซวิเศษชัยชาญ\nCorrected sentence: โรงพยาบาลวิเศษชัยชาญ\n\nGround Truth: \tโรงพยาบาลวิเศษชัยชาญ\n\n-\nWrong sentence: โรงพยาบา(ร.ัษฎา\nCorrected sentence: โรงพยาบาลรัษฎา\n\nGround Truth: \tโรงพยาบาลรัษฎา\n\n-\nWrong sentence: โรงพยาบาลหนองบฐญมาก\nCorrected sentence: โรงพยาบาลหนองบุญมาก\n\nGround Truth: \tโรงพยาบาลหนองบุญมาก\n\n-\nWrong sentence: โรงพยาบาลเจ็ดเสมียน\nCorrected sentence: โรงพยาบาลเจ็ดเสมียน\n\nGround Truth: \tโรงพยาบาลเจ็ดเสมียน\n\n-\nWrong sentence: โรงพยาบาลเพชรกษยิ2\nCorrected sentence: โรงพยาบาลเพชรเกษม2\n\nGround Truth: \tโรงพยาบาลเพชรเกษม2\n\n-\nWrong sentence: โรงพยาบาลหนองฮี\nCorrected sentence: โรงพยาบาลหนองฮี\n\nGround Truth: \tโรงพยาบาลหนองฮี\n\n-\nWrong sentence: โรงพยาบาลทงาอุเทน\nCorrected sentence: โรงพยาบาลบ่อพลอย\n\nGround Truth: \tโรงพยาบาลท่าอุเทน\n\n-\nWrong sentence: โรงพยกาบาลศีขรภูมา\nCorrected sentence: โรงพยาบาลศีขรภูมิ\n\nGround Truth: \tโรงพยาบาลศีขรภูมิ\n\n-\nWrong sentence: โรงกพยาบาลางชุมน้อย\nCorrected sentence: โรงพยาบาลยางชุมน้อย\n\nGround Truth: \tโรงพยาบาลยางชุมน้อย\n\n-\nWrong sentence: คลิิกเวชกวรมกฝลว้ย็น้าไทาข-สุภาพงษ์3\nCorrected sentence: คลินิกเวชกรรมกลว้ยน้าไทสาขาสุภาพงษ์3\n\nGround Truth: \tคลินิกเวชกรรมกลว้ยน้าไทสาขาสุภาพงษ์3\n\n-\nWrong sentence: โรังใยาบาลสมเด็จพเะญาณสังวร\nCorrected sentence: โรงพยาบาลสมเด็จพระญาณสังวร\n\nGround Truth: \tโรงพยาบาลสมเด็จพระญาณสังวร\n\n-\nWrong sentence: โรงพยาบาลสมเด็จพระยุพราชเวียงสระ\nCorrected sentence: โรงพยาบาลสมเด็จพระยุพราชเวียงสระ\n\nGround Truth: \tโรงพยาบาลสมเด็จพระยุพราชเวียงสระ\n\n-\nWrong sentence: โรงฬพยาบาลมืองนารายณ์\nCorrected sentence: โรงพยาบาลเมืองนารายณ์\n\nGround Truth: \tโรงพยาบาลเมืองนารายณ์\n\n-\nWrong sentence: โรงพยาบาโพนสวรรค์\nCorrected sentence: โรงพยาบาลโพนสวรรค์\n\nGround Truth: \tโรงพยาบาลโพนสวรรค์\n\n-\nWrong sentence: โรงพ2าบาลจอมทอง\nCorrected sentence: โรงพยาบาลจอมทอง\n\nGround Truth: \tโรงพยาบาลจอมทอง\n\n-\nWrong sentence: โรงพยตบาลบ้านดอนอินเ/ึอร์เกาะสีุย\nCorrected sentence: โรงพยาบาลบ้านดอนอินเตอร์เกาะสมุย\n\nGround Truth: \tโรงพยาบาลบ้านดอนอินเตอร์เกาะสมุย\n\n-\nWrong sentence: โรงจยาลขอนแก่นราม\nCorrected sentence: โรงพยาบาลขอนแก่นราม\n\nGround Truth: \tโรงพยาบาลขอนแก่นราม\n\n-\nWrong sentence: โรงพำาบาุลมายอ\nCorrected sentence: โรงพยาบาลมายอ\n\nGround Truth: \tโรงพยาบาลมายอ\n\n-\nWrong sentence: สถาบันราชานุกูล\nCorrected sentence: สถาบันราชานุกูล\n\nGround Truth: \tสถาบันราชานุกูล\n\n-\nWrong sentence: โรงพยาบาลวิภาวดีปิยราษฎร์\nCorrected sentence: โรงพยาบาลวิภาวดีปิยราษฎร์\n\nGround Truth: \tโรงพยาบาลวิภาวดีปิยราษฎร์\n\n-\nWrong sentence: คลินิกเวชกรรมจุฬารัตน์ฦ\nCorrected sentence: คลินิกเวชกรรมจุฬารัตน์12(เกตเวย์)\n\nGround Truth: \tคลินิกเวชกรรมจุฬารัตน์4\n\n-\nWrong sentence: โรงพยาบาลนยูง\nCorrected sentence: โรงพยาบาลนายูง\n\nGround Truth: \tโรงพยาบาลนายูง\n\n-\nWrong sentence: โรงพยาบาลกๅุงเทพพิณุโลก\nCorrected sentence: โรงพยาบาลกรุงเทพพิษณุโลก\n\nGround Truth: \tโรงพยาบาลกรุงเทพพิษณุโลก\n\n-\nWrong sentence: โรงพยาบาลบงซ้าย\nCorrected sentence: โรงพยาบาลบางซ้าย\n\nGround Truth: \tโรงพยาบาลบางซ้าย\n\n-\nWrong sentence: โรงพยาบาลสามชุก\nCorrected sentence: โรงพยาบาลสามชุก\n\nGround Truth: \tโรงพยาบาลสามชุก\n\n-\nWrong sentence: สห๎ลินิกกล้ยน้จาไขทส์ข)าสุขุมวิท101/1\nCorrected sentence: สหคลินิกกลว้ยน้าไทสาขาสุขุมวิท101/1\n\nGround Truth: \tสหคลินิกกลว้ยน้าไทสาขาสุขุมวิท101/1\n\n-\nWrong sentence: โร&งยาบาลคลองท่อม\nCorrected sentence: โรงพยาบาลคลองท่อม\n\nGround Truth: \tโรงพยาบาลคลองท่อม\n\n-\nWrong sentence: โรงพยาบาลกรุงเทพปากช่อง\nCorrected sentence: โรงพยาบาลกรุงเทพปากช่อง\n\nGround Truth: \tโรงพยาบาลกรุงเทพปากช่อง\n\n-\nWrong sentence: โรงไยาบาลปากพะยูน\nCorrected sentence: โรงพยาบาลปากพะยูน\n\nGround Truth: \tโรงพยาบาลปากพะยูน\n\n-\nWrong sentence: ศูนย์อนามัยทง่11\nCorrected sentence: ศูนย์อนามัยที่11\n\nGround Truth: \tศูนย์อนามัยที่11\n\n-\nWrong sentence: โร)พยาบ๋ลสวี\nCorrected sentence: โรงพยาบาลสวี\n\nGround Truth: \tโรงพยาบาลสวี\n\n-\nWrong sentence: โรงพยาบาลสังคม\nCorrected sentence: โรงพยาบาลสังคม\n\nGround Truth: \tโรงพยาบาลสังคม\n\n-\nWrong sentence: โรงพยาบาลรักษ์สูกล\nCorrected sentence: โรงพยาบาลรักษ์สกล\n\nGround Truth: \tโรงพยาบาลรักษ์สกล\n\n-\nWrong sentence: โรงพยาบาลศรีสัชนาฅลัย\nCorrected sentence: โรงพยาบาลศรีสัชนาลัย\n\nGround Truth: \tโรงพยาบาลศรีสัชนาลัย\n\n-\nWrong sentence: โรงพยาบําลโพทะเล\nCorrected sentence: โรงพยาบาลพระทองคำ\n\nGround Truth: \tโรงพยาบาลโพทะเล\n\n-\nWrong sentence: สถ)บนสิรินธรเพื่อการฟืฅนฟูสมรรถภาพทางการแพทย์แห่ซงชาติ\nCorrected sentence: สถาบันสิรินธรเพื่อการฟื้นฟูสมรรถภาพทางการแพทย์แห่งชาติ\n\nGround Truth: \tสถาบันสิรินธรเพื่อการฟื้นฟูสมรรถภาพทางการแพทย์แห่งชาติ\n\n-\nWrong sentence: โรงฑยาบาลลำพูน\nCorrected sentence: โรงพยาบาลลำพูน\n\nGround Truth: \tโรงพยาบาลลำพูน\n\n-\nWrong sentence: โรงพยาบาลหนองบัวลฦำภู\nCorrected sentence: โรงพยาบาลหนองบัวลำภู\n\nGround Truth: \tโรงพยาบาลหนองบัวลำภู\n\n-\nWrong sentence: โรงพยาบาลบ6งสะพานน้อย\nCorrected sentence: โรงพยาบาลบางสะพานน้อย\n\nGround Truth: \tโรงพยาบาลบางสะพานน้อย\n\n-\nWrong sentence: โรงพยาบา)บ้านนาสาร\nCorrected sentence: โรงพยาบาลบ้านนาสาร\n\nGround Truth: \tโรงพยาบาลบ้านนาสาร\n\n-\nWrong sentence: โรงพยาบาฃสะบ้าย้อย\nCorrected sentence: โรงพยาบาลบางสะกำ\n\nGround Truth: \tโรงพยาบาลสะบ้าย้อย\n\n-\nWrong sentence: โรงพยาบห1ลบ้านเหลื่อม\nCorrected sentence: โรงพยาบาลบ้านเหลื่อม\n\nGround Truth: \tโรงพยาบาลบ้านเหลื่อม\n\n-\nWrong sentence: โรงพซาบาลศิคริ-นทร์\nCorrected sentence: โรงพยาบาลศิครินทร์\n\nGround Truth: \tโรงพยาบาลศิครินทร์\n\n-\nWrong sentence: โรงณยาบาลญอกชล2\nCorrected sentence: โรงพยาบาลเอกชล2\n\nGround Truth: \tโรงพยาบาลเอกชล2\n\n-\nWrong sentence: โรงพยาบาลตราด\nCorrected sentence: โรงพยาบาลท่าช้าง\n\nGround Truth: \tโรงพยาบาลตราด\n\n-\nWrong sentence: โรงพยาบาลพระตทองคำ\nCorrected sentence: โรงพยาบาลพระทองคำ\n\nGround Truth: \tโรงพยาบาลพระทองคำ\n\n-\nWrong sentence: โรงพยาบาลกาฬัง\nCorrected sentence: โรงพยาบาลกาบัง\n\nGround Truth: \tโรงพยาบาลกาบัง\n\n-\nWrong sentence: โรงพยาบา/ลไพศาลี\nCorrected sentence: โรงพยาบาลดอนพุด\n\nGround Truth: \tโรงพยาบาลไพศาลี\n\n-\nWrong sentence: โรงพถาบาลสมเด็จระยุพราชเดชอุดม\nCorrected sentence: โรงพยาบาลสมเด็จพระยุพราชเดชอุดม\n\nGround Truth: \tโรงพยาบาลสมเด็จพระยุพราชเดชอุดม\n\n-\nWrong sentence: โรงพยาบาลเฉพาะทางแม่และเดร็แพทยระังสิต\nCorrected sentence: โรงพยาบาลเฉพาะทางแม่และเด็กแพทย์รังสิต\n\nGround Truth: \tโรงพยาบาลเฉพาะทางแม่และเด็กแพทย์รังสิต\n\n-\nWrong sentence: โรงพยาบาลส่องืาว\nCorrected sentence: โรงพยาบาลส่องดาว\n\nGround Truth: \tโรงพยาบาลส่องดาว\n\n-\nWrong sentence: โรงพยาบาฑลศรีธา45\nCorrected sentence: โรงพยาบาลศรีธาตุ\n\nGround Truth: \tโรงพยาบาลศรีธาตุ\n\n-\nWrong sentence: โรพยาบาแก่งกระจาน\nCorrected sentence: โรงพยาบาลแก่งกระจาน\n\nGround Truth: \tโรงพยาบาลแก่งกระจาน\n\n-\nWrong sentence: โรงพยาบาลมโนร๎ย์\nCorrected sentence: โรงพยาบาลมโนรมย์\n\nGround Truth: \tโรงพยาบาลมโนรมย์\n\n-\nWrong sentence: โร-พยาฦาลสีดา\nCorrected sentence: โรงพยาบาลสีดา\n\nGround Truth: \tโรงพยาบาลสีดา\n\n-\nWrong sentence: โรงพยาบาลหนองไผ่\nCorrected sentence: โรงพยาบาลหนองไผ่\n\nGround Truth: \tโรงพยาบาลหนองไผ่\n\n-\nWrong sentence: โรงพยาบาลหัวหิน\nCorrected sentence: โรงพยาบาลหัวหิน\n\nGround Truth: \tโรงพยาบาลหัวหิน\n\n-\nWrong sentence: โรงพยาบาลดอนสัก\nCorrected sentence: โรงพยาบาลดอนสัก\n\nGround Truth: \tโรงพยาบาลดอนสัก\n\n-\nWrong sentence: สถานพยัาบาลเวชกหรรมพาเลซ\nCorrected sentence: สถานพยาบาลเวชกรรมพาเลซ\n\nGround Truth: \tสถานพยาบาลเวชกรรมพาเลซ\n\n-\nWrong sentence: โรงพย8บาถลสันกำแพง\nCorrected sentence: โรงพยาบาลสันกำแพง\n\nGround Truth: \tโรงพยาบาลสันกำแพง\n\n-\nWrong sentence: โรงพาบาลสมเด็จพระนางเจา้สิร0ิกิต์ิ\nCorrected sentence: โรงพยาบาลสมเด็จพระนางเจา้สิริกิต์ิ\n\nGround Truth: \tโรงพยาบาลสมเด็จพระนางเจา้สิริกิต์ิ\n\n-\nWrong sentence: โรงพยาบฌาฅสิงหบุรี&วฬชฟาร(หมอกประเจิด)\nCorrected sentence: โรงพยาบาลสิงห์บุรีเวชชการ(หมอประเจิด)\n\nGround Truth: \tโรงพยาบาลสิงห์บุรีเวชชการ(หมอประเจิด)\n\n-\nWrong sentence: สถานพยาบาลรวมแพทย์ทุ่งสโ\nCorrected sentence: สถานพยาบาลรวมแพทย์ทุ่งสง\n\nGround Truth: \tสถานพยาบาลรวมแพทย์ทุ่งสง\n\n-\nWrong sentence: โรงพยาบาลแม่ลาว\nCorrected sentence: โรงพยาบาลแม่ลาว\n\nGround Truth: \tโรงพยาบาลแม่ลาว\n\n-\nWrong sentence: โรงพยาบห้วยคต\nCorrected sentence: โรงพยาบาลห้วยคต\n\nGround Truth: \tโรงพยาบาลห้วยคต\n\n-\nWrong sentence: โรงพยาบาลหนองหญ้าไซ\nCorrected sentence: โรงพยาบาลหนองหญ้าไซ\n\nGround Truth: \tโรงพยาบาลหนองหญ้าไซ\n\n-\nWrong sentence: โรงพยาบาลหนองหาน\nCorrected sentence: โรงพยาบาลหนองหาน\n\nGround Truth: \tโรงพยาบาลหนองหาน\n\n-\nWrong sentence: โรงพยาบ1าลสันติสุข\nCorrected sentence: โรงพยาบาลสันติสุข\n\nGround Truth: \tโรงพยาบาลสันติสุข\n\n-\nWrong sentence: โรงพยาบาฃลลามนา\nCorrected sentence: โรงพยาบาลลานนา\n\nGround Truth: \tโรงพยาบาลลานนา\n\n-\nWrong sentence: โร1พยาบาลเจ้า0พระๅายมรฒช\nCorrected sentence: โรงพยาบาลเจ้าพระยายมราช\n\nGround Truth: \tโรงพยาบาลเจ้าพระยายมราช\n\n-\nWrong sentence: โรงพยาบาลราษฎร์บูรณะ\nCorrected sentence: โรงพยาบาลราษฎร์บูรณะ\n\nGround Truth: \tโรงพยาบาลราษฎร์บูรณะ\n\n-\nWrong sentence: โรงพยาบาลรวมแพทย์พิษณุโลก\nCorrected sentence: โรงพยาบาลรวมแพทย์พิษณุโลก\n\nGround Truth: \tโรงพยาบาลรวมแพทย์พิษณุโลก\n\n-\nWrong sentence: โรงพยาบ&าลอุดรธานี\nCorrected sentence: โรงพยาบาลอุดรธานี\n\nGround Truth: \tโรงพยาบาลอุดรธานี\n\n-\nWrong sentence: โรศพยาบาลวิภารามแหลมฉบัง\nCorrected sentence: โรงพยาบาลวิภารามแหลมฉบัง\n\nGround Truth: \tโรงพยาบาลวิภารามแหลมฉบัง\n\n-\nWrong sentence: โรงยาบาลแม่ัน\nCorrected sentence: โรงพยาบาลแม่จัน\n\nGround Truth: \tโรงพยาบาลแม่จัน\n\n-\nWrong sentence: สถันพยาบาลบางนา3\nCorrected sentence: สถานพยาบาลบางนา3\n\nGround Truth: \tสถานพยาบาลบางนา3\n\n-\nWrong sentence: โรพยาบาลปิยะเวท\nCorrected sentence: โรงพยาบาลปิยะเวท\n\nGround Truth: \tโรงพยาบาลปิยะเวท\n\n-\nWrong sentence: โรมง8พยาบฟาลประชารัดษ์เวชการ\nCorrected sentence: โรงพยาบาลประชารักษ์เวชการ\n\nGround Truth: \tโรงพยาบาลประชารักษ์เวชการ\n\n-\nWrong sentence: โรเง-พยาบาลส่งเสริใสุขภาพเชียงใหม่\nCorrected sentence: โรงพยาบาลส่งเสริมสุขภาพเชียงใหม่\n\nGround Truth: \tโรงพยาบาลส่งเสริมสุขภาพเชียงใหม่\n\n-\nWrong sentence: โรํพยาบาลบ้ฟานด่าน\nCorrected sentence: โรงพยาบาลบ้านด่าน\n\nGround Truth: \tโรงพยาบาลบ้านด่าน\n\n-\nWrong sentence: โรงพยาบาล้านใหม่ไชยพจน์\nCorrected sentence: โรงพยาบาลบ้านใหม่ไชยพจน์\n\nGround Truth: \tโรงพยาบาลบ้านใหม่ไชยพจน์\n\n-\nWrong sentence: โรงพยาบาลดยหลวง\nCorrected sentence: โรงพยาบาลดอยหลวง\n\nGround Truth: \tโรงพยาบาลดอยหลวง\n\n-\nWrong sentence: คลินิกเวชกศูรมจุฬารัตน์2\nCorrected sentence: คลินิกเวชกรรมจุฬารัตน์2\n\nGround Truth: \tคลินิกเวชกรรมจุฬารัตน์2\n\n-\nWrong sentence: โรงพยาบสาอพัฒนเวชสุโขทัย\nCorrected sentence: โรงพยาบาลพัฒนเวชสุโขทัย\n\nGround Truth: \tโรงพยาบาลพัฒนเวชสุโขทัย\n\n-\nWrong sentence: โรงพยาบาลสเด็จพระย)พราชธาตุพ9ม\nCorrected sentence: โรงพยาบาลสมเด็จพระยุพราชธาตุพนม\n\nGround Truth: \tโรงพยาบาลสมเด็จพระยุพราชธาตุพนม\n\n-\nWrong sentence: โรงพยาบาลแวสวงหา\nCorrected sentence: โรงพยาบาลแสวงหา\n\nGround Truth: \tโรงพยาบาลแสวงหา\n\n-\nWrong sentence: สามยฺ่านขลินิกเวชกรรง\nCorrected sentence: สามย่านคลินิกเวชกรรม\n\nGround Truth: \tสามย่านคลินิกเวชกรรม\n\n-\nWrong sentence: โรงพยาบาลมะเคร็งลำปาง\nCorrected sentence: โรงพยาบาลมะเร็งลำปาง\n\nGround Truth: \tโรงพยาบาลมะเร็งลำปาง\n\n-\nWrong sentence: โรงยยาบาลแกลง\nCorrected sentence: โรงพยาบาลแกลง\n\nGround Truth: \tโรงพยาบาลแกลง\n\n-\nWrong sentence: สถาบันบำบัดรักษาและฟื้นฟูผู้ติดยาเสพติดแห่งชาติบรมราชชนนี\nCorrected sentence: สถาบันบำบัดรักษาและฟื้นฟูผู้ติดยาเสพติดแห่งชาติบรมราชชนนี\n\nGround Truth: \tสถาบันบำบัดรักษาและฟื้นฟูผู้ติดยาเสพติดแห่งชาติบรมราชชนนี\n\n-\nWrong sentence: โรงพยาตาลพร้อมแพทย์\nCorrected sentence: โรงพยาบาลพร้อมแพทย์\n\nGround Truth: \tโรงพยาบาลพร้อมแพทย์\n\n-\nWrong sentence: โรงพยาบาลคฅชัยศรี\nCorrected sentence: โรงพยาบาลนครชัยศรี\n\nGround Truth: \tโรงพยาบาลนครชัยศรี\n\n-\nWrong sentence: โรงพยาบาลมิชชั่นภูเก็ต\nCorrected sentence: โรงพยาบาลมิชชั่นภูเก็ต\n\nGround Truth: \tโรงพยาบาลมิชชั่นภูเก็ต\n\n-\nWrong sentence: สถานพยาบาลจุฦาเวช\nCorrected sentence: สถานพยาบาลจุฬาเวช\n\nGround Truth: \tสถานพยาบาลจุฬาเวช\n\n-\nWrong sentence: โรงพยาบาลสอยดาว\nCorrected sentence: โรงพยาบาลสอยดาว\n\nGround Truth: \tโรงพยาบาลสอยดาว\n\n-\nWrong sentence: โรงพนาบาลแก้งคร้อ\nCorrected sentence: โรงพยาบาลแก้งคร้อ\n\nGround Truth: \tโรงพยาบาลแก้งคร้อ\n\n-\nWrong sentence: โรงพยาบาลดโคกศรสุพรรณ\nCorrected sentence: โรงพยาบาลโคกศรีสุพรรณ\n\nGround Truth: \tโรงพยาบาลโคกศรีสุพรรณ\n\n-\nWrong sentence: โรงพยาบาลอุ้มผาง\nCorrected sentence: โรงพยาบาลอุ้มผาง\n\nGround Truth: \tโรงพยาบาลอุ้มผาง\n\n-\nWrong sentence: โรงพยาบาลโนนไชย\nCorrected sentence: โรงพยาบาลโนนไทย\n\nGround Truth: \tโรงพยาบาลโนนไทย\n\n-\nWrong sentence: โรงพยาบาลบ่พลอย\nCorrected sentence: โรงพยาบาลบ่อพลอย\n\nGround Truth: \tโรงพยาบาลบ่อพลอย\n\n-\nWrong sentence: โรงพยาบวลโพธารา\nCorrected sentence: โรงพยาบาลโพธาราม\n\nGround Truth: \tโรงพยาบาลโพธาราม\n\n-\nWrong sentence: โรงพยาบาลหนย/งแสง\nCorrected sentence: โรงพยาบาลหนองแสง\n\nGround Truth: \tโรงพยาบาลหนองแสง\n\n-\nWrong sentence: โรฅงพยาบาลนอร์ทเีสเทอร์นวััฒนา\nCorrected sentence: โรงพยาบาลนอร์ทอีสเทอร์นวัฒนา\n\nGround Truth: \tโรงพยาบาลนอร์ทอีสเทอร์นวัฒนา\n\n-\nWrong sentence: โรงพยาบาลปะเหลียน\nCorrected sentence: โรงพยาบาลปะเหลียน\n\nGround Truth: \tโรงพยาบาลปะเหลียน\n\n-\nWrong sentence: โรงพยาบาลสิรนธร(ภาคตะวันออกเฉียงเหนือ)\nCorrected sentence: โรงพยาบาลสิรินธร(ภาคตะวันออกเฉียงเหนือ)\n\nGround Truth: \tโรงพยาบาลสิรินธร(ภาคตะวันออกเฉียงเหนือ)\n\n-\nWrong sentence: โรงฝพยาบซาลเวิลด์เมไิคอลเซ็นเอร์\nCorrected sentence: โรงพยาบาลเวิลด์เมดิคอลเซ็นเตอร์\n\nGround Truth: \tโรงพยาบาลเวิลด์เมดิคอลเซ็นเตอร์\n\n-\nWrong sentence: โรงกยาบาลสง\"ฆ์\nCorrected sentence: โรงพยาบาลสงฆ์\n\nGround Truth: \tโรงพยาบาลสงฆ์\n\n-\nWrong sentence: โรงพยาบใสรรคบุรี\nCorrected sentence: โรงพยาบาลสรรคบุรี\n\nGround Truth: \tโรงพยาบาลสรรคบุรี\n\n-\nWrong sentence: โรงพยาบญาลภักดีชุมพล\nCorrected sentence: โรงพยาบาลภักดีชุมพล\n\nGround Truth: \tโรงพยาบาลภักดีชุมพล\n\n-\nWrong sentence: โรงพยาาลสมเด็จพระยุพราชบ้านดุง\nCorrected sentence: โรงพยาบาลสมเด็จพระยุพราชบ้านดุง\n\nGround Truth: \tโรงพยาบาลสมเด็จพระยุพราชบ้านดุง\n\n-\nWrong sentence: โรงพยาบาลบา๋งระอำ\nCorrected sentence: โรงพยาบาลบางระกำ\n\nGround Truth: \tโรงพยาบาลบางระกำ\n\n-\nWrong sentence: โรงจพยฺบาลบ้านผือ\nCorrected sentence: โรงพยาบาลบ้านผือ\n\nGround Truth: \tโรงพยาบาลบ้านผือ\n\n-\nWrong sentence: สถาบันบำรา2นราูร\nCorrected sentence: สถาบันบำราศนราดูร\n\nGround Truth: \tสถาบันบำราศนราดูร\n\n-\nWrong sentence: โรงพยา8าลเสิงสฉาง\nCorrected sentence: โรงพยาบาลเสิงสาง\n\nGround Truth: \tโรงพยาบาลเสิงสาง\n\n-\nWrong sentence: โรงพยาบลสิโรรส\nCorrected sentence: โรงพยาบาลสิโรรส\n\nGround Truth: \tโรงพยาบาลสิโรรส\n\n-\nWrong sentence: โรงพยาบาลนๆายาย)าม\nCorrected sentence: โรงพยาบาลนายายอาม\n\nGround Truth: \tโรงพยาบาลนายายอาม\n\n-\nWrong sentence: โรงพยาบาล็้ำโสม\nCorrected sentence: โรงพยาบาลน้ำโสม\n\nGround Truth: \tโรงพยาบาลน้ำโสม\n\n-\nWrong sentence: ศูนย์อนามัยที่4\nCorrected sentence: ศูนย์อนามัยที่4\n\nGround Truth: \tศูนย์อนามัยที่4\n\n-\nWrong sentence: โรงพยาบ&ลวังน้ำเย็\nCorrected sentence: โรงพยาบาลวังน้ำเย็น\n\nGround Truth: \tโรงพยาบาลวังน้ำเย็น\n\n-\nWrong sentence: โรงพยาบาลบางนา5\nCorrected sentence: โรงพยาบาลบางนา5\n\nGround Truth: \tโรงพยาบาลบางนา5\n\n-\nWrong sentence: โรงพยาบาลพิบูล์รักษ์\nCorrected sentence: โรงพยาบาลพิบูลย์รักษ์\n\nGround Truth: \tโรงพยาบาลพิบูลย์รักษ์\n\n-\nWrong sentence: โรงพยาบาลวีระพลาใแพทยฅ์\nCorrected sentence: โรงพยาบาลวีระพลการแพทย์\n\nGround Truth: \tโรงพยาบาลวีระพลการแพทย์\n\n-\nWrong sentence: โรงพยาบาลบ้านบ่ฌึง\nCorrected sentence: โรงพยาบาลบ้านบึง\n\nGround Truth: \tโรงพยาบาลบ้านบึง\n\n-\nWrong sentence: โรงพยาบาลบางเปลาม้า\nCorrected sentence: โรงพยาบาลบางปลาม้า\n\nGround Truth: \tโรงพยาบาลบางปลาม้า\n\n-\nWrong sentence: คลินิกเวชกรรมจุฬารัตน์12(เกตเ(ฮย์)\nCorrected sentence: คลินิกเวชกรรมจุฬารัตน์12(เกตเวย์)\n\nGround Truth: \tคลินิกเวชกรรมจุฬารัตน์12(เกตเวย์)\n\n-\nWrong sentence: โรงพยา.าลสยา3มลาษฎร์เชีนงใหม่\nCorrected sentence: โรงพยาบาลสยามราษฎร์เชียงใหม่\n\nGround Truth: \tโรงพยาบาลสยามราษฎร์เชียงใหม่\n\n-\nWrong sentence: โรพยาาลพระปกเกล้า\nCorrected sentence: โรงพยาบาลพระปกเกล้า\n\nGround Truth: \tโรงพยาบาลพระปกเกล้า\n\n-\nWrong sentence: โรงพยาบาลภูกามยาว\nCorrected sentence: โรงพยาบาลภูกามยาว\n\nGround Truth: \tโรงพยาบาลภูกามยาว\n\n-\nWrong sentence: โรงพยาบาลบ้านสร้าง\nCorrected sentence: โรงพยาบาลบ้านสร้าง\n\nGround Truth: \tโรงพยาบาลบ้านสร้าง\n\n-\nWrong sentence: โรงพยาบาลมงกุฏระยอง\nCorrected sentence: โรงพยาบาลมงกุฏระยอง\n\nGround Truth: \tโรงพยาบาลมงกุฏระยอง\n\n-\nWrong sentence: โรงพยาบาลวิชียรบุรี\nCorrected sentence: โรงพยาบาลวิเชียรบุรี\n\nGround Truth: \tโรงพยาบาลวิเชียรบุรี\n\n-\nWrong sentence: โรงพยาบาลสฏมเด็จพระยุพราชกุฉินารายณ์\nCorrected sentence: โรงพยาบาลสมเด็จพระยุพราชกุฉินารายณ์\n\nGround Truth: \tโรงพยาบาลสมเด็จพระยุพราชกุฉินารายณ์\n\n-\nWrong sentence: โรงพยาบาลบางปะกอก9\nCorrected sentence: โรงพยาบาลบางปะกอก9\n\nGround Truth: \tโรงพยาบาลบางปะกอก9\n\n-\nWrong sentence: โรงพยาบาลแมคคอร์มิค\nCorrected sentence: โรงพยาบาลแมคคอร์มิค\n\nGround Truth: \tโรงพยาบาลแมคคอร์มิค\n\n-\nWrong sentence: โรงพยาบาลสากเหล็ก\nCorrected sentence: โรงพยาบาลสากเหล็ก\n\nGround Truth: \tโรงพยาบาลสากเหล็ก\n\n-\nWrong sentence: โรงพยาบาลลำทะเมนชัย\nCorrected sentence: โรงพยาบาลลำทะเมนชัย\n\nGround Truth: \tโรงพยาบาลลำทะเมนชัย\n\n-\nWrong sentence: โรงพยาบาลวิภารามปากเกร็ด\nCorrected sentence: โรงพยาบาลวิภารามปากเกร็ด\n\nGround Truth: \tโรงพยาบาลวิภารามปากเกร็ด\n\n-\nWrong sentence: ศูนษย์ศรีพัฒมน์คณะแพทย์ศาสตรูมหาวิทยลัยเชยงใหม่\nCorrected sentence: ศูนย์ศรีพัฒน์คณะแพทย์ศาสตร์มหาวิทยาลัยเชียงใหม่\n\nGround Truth: \tศูนย์ศรีพัฒน์คณะแพทย์ศาสตร์มหาวิทยาลัยเชียงใหม่\n\n-\nWrong sentence: โรงพยาบาลหนองแซง\nCorrected sentence: โรงพยาบาลหนองแซง\n\nGround Truth: \tโรงพยาบาลหนองแซง\n\n-\nWrong sentence: คลินิกเวชกรรมกลว้ยน้าไทสาขาสุขุมวิท56\nCorrected sentence: คลินิกเวชกรรมกลว้ยน้าไทสาขาสุขุมวิท56\n\nGround Truth: \tคลินิกเวชกรรมกลว้ยน้าไทสาขาสุขุมวิท56\n\n-\nWrong sentence: โรงพยาบาลโกสัมพีนคร\nCorrected sentence: โรงพยาบาลโกสัมพีนคร\n\nGround Truth: \tโรงพยาบาลโกสัมพีนคร\n\n-\nWrong sentence: โรงพยาบาาลท่าชณ้าง\nCorrected sentence: โรงพยาบาลบ้านผือ\n\nGround Truth: \tโรงพยาบาลท่าช้าง\n\n"
    }
   ],
   "source": [
    "pred_sent = []\n",
    "for seq_index in range(num_samples):\n",
    "    input_seq = encoder_input_data[seq_index: seq_index + 1]\n",
    "    decoded_sentence,lst = decode_sequence(input_seq)\n",
    "    pred_sent.append(lst)\n",
    "    print('-')\n",
    "    print('Wrong sentence:', input_texts[seq_index])\n",
    "    print('Corrected sentence:', decoded_sentence)\n",
    "    print('Ground Truth:',target_texts[seq_index])"
   ]
  },
  {
   "cell_type": "code",
   "execution_count": 105,
   "metadata": {},
   "outputs": [],
   "source": [
    "pred_test_output = []\n",
    "for txt in pred_sent:\n",
    "    pred_test_output.append(txt[:-1])"
   ]
  },
  {
   "cell_type": "code",
   "execution_count": 112,
   "metadata": {},
   "outputs": [],
   "source": [
    "def createSpace_for_cer(text):\n",
    "    re = []\n",
    "    for t in text :\n",
    "        if t != '\\n' and t != '\\t':\n",
    "            re.append(t)      \n",
    "    #re.append(\"<eow>\")\n",
    "    #pad_list = [\"<pad>\"]*(max_seq-len(re)+index)\n",
    "    #re_pad = re + pad_list\n",
    "    return re"
   ]
  },
  {
   "cell_type": "code",
   "execution_count": 113,
   "metadata": {},
   "outputs": [],
   "source": [
    "ground_test =[]\n",
    "for txt in target_texts:\n",
    "    ground_test.append(createSpace_for_cer(txt))"
   ]
  },
  {
   "cell_type": "code",
   "execution_count": 115,
   "metadata": {},
   "outputs": [],
   "source": [
    "input_test = []\n",
    "for txt in input_texts:\n",
    "    input_test.append(createSpace_for_cer(txt))"
   ]
  },
  {
   "cell_type": "code",
   "execution_count": 116,
   "metadata": {},
   "outputs": [],
   "source": [
    "from char_error_rate import get_char_error_rate"
   ]
  },
  {
   "cell_type": "code",
   "execution_count": 117,
   "metadata": {},
   "outputs": [
    {
     "output_type": "stream",
     "name": "stdout",
     "text": "Character Error Rate for Test Set:3.7010725753658855%\n"
    }
   ],
   "source": [
    "##### CER predicted text #####\n",
    "cer = 0\n",
    "for i,key in enumerate(ground_test):\n",
    "    cer += get_char_error_rate(ground_test[i],pred_test_output[i])\n",
    "    #print(get_char_error_rate(ground_test[i],pred_test_output[i]))\n",
    "cer_mean = cer/len(ground_test)  \n",
    "print('Character Error Rate for Test Set:{}%'.format(cer_mean))"
   ]
  },
  {
   "cell_type": "code",
   "execution_count": 118,
   "metadata": {},
   "outputs": [
    {
     "output_type": "stream",
     "name": "stdout",
     "text": "Character Error Rate for Test Set:6.883300501982005%\n"
    }
   ],
   "source": [
    "##### CER input texts #####\n",
    "cer = 0\n",
    "for i,key in enumerate(ground_test):\n",
    "    cer += get_char_error_rate(ground_test[i],input_test[i])\n",
    "    #print(get_char_error_rate(ground_test[i],pred_test_output[i]))\n",
    "cer_mean = cer/len(ground_test)  \n",
    "print('Character Error Rate for Test Set:{}%'.format(cer_mean))"
   ]
  },
  {
   "cell_type": "code",
   "execution_count": null,
   "metadata": {},
   "outputs": [],
   "source": []
  },
  {
   "cell_type": "code",
   "execution_count": 91,
   "metadata": {},
   "outputs": [
    {
     "output_type": "stream",
     "name": "stdout",
     "text": "-\nWrong sentence: โรงยา\"บาีบ้านแพรก\nCorrected sentence: โรงพยาบาลบ้านแพรก\n\nGround Truth: \tโรงพยาบาลบ้านแพรก\n\n-\nWrong sentence: โรงพยาบาลเชียงขวัญ\nCorrected sentence: โรงพยาบาลเชียงขวัญ\n\nGround Truth: \tโรงพยาบาลเชียงขวัญ\n\n-\nWrong sentence: โรพยบาลเขาย-้อย\nCorrected sentence: โรงพยาบาลเขาย้อย\n\nGround Truth: \tโรงพยาบาลเขาย้อย\n\n-\nWrong sentence: โรงพยาบาลศุกถ์ศิดิศรคีสวัสดิ์\nCorrected sentence: โรงพยาบาลศุกร์ศิริศรีสวัสดิ์\n\nGround Truth: \tโรงพยาบาลศุกร์ศิริศรีสวัสดิ์\n\n-\nWrong sentence: โรงพยาบาลหนองหงส์\nCorrected sentence: โรงพยาบาลหนองหงส์\n\nGround Truth: \tโรงพยาบาลหนองหงส์\n\n-\nWrong sentence: โรงพยบาลกะป8งช0ยพัฒน์\nCorrected sentence: โรงพยาบาลกะปงชัยพัฒน์\n\nGround Truth: \tโรงพยาบาลกะปงชัยพัฒน์\n\n-\nWrong sentence: คลินิคเกกษมราษฎ้์ศฌรีบุรินทอ์สาำาอาเภฝจเชียงซแสน\nCorrected sentence: คลินิคเกษมราษฎร์ศรีบุรินทร์สาขาอาเภอเชียงแสน\n\nGround Truth: \tคลินิคเกษมราษฎร์ศรีบุรินทร์สาขาอาเภอเชียงแสน\n\n-\nWrong sentence: โรงพยาบาลบ้านไผ่\nCorrected sentence: โรงพยาบาลบ้านไผ่\n\nGround Truth: \tโรงพยาบาลบ้านไผ่\n\n-\nWrong sentence: โรงพยาบาล6่าหลวง\nCorrected sentence: โรงพยาบาลท่าหลวง\n\nGround Truth: \tโรงพยาบาลท่าหลวง\n\n-\nWrong sentence: สถาบันสิรินธรเพื่อการฟื้นฟูสรรถภาพทางการแพทย์แ่งชาติ\nCorrected sentence: สถาบันสิรินธรเพื่อการฟื้นฟูสมรรถภาพทางการแพทย์แห่งชาติ\n\nGround Truth: \tสถาบันสิรินธรเพื่อการฟื้นฟูสมรรถภาพทางการแพทย์แห่งชาติ\n\n-\nWrong sentence: โรงพยาบาลสอง\nCorrected sentence: โรงพยาบาลสอง\n\nGround Truth: \tโรงพยาบาลสอง\n\n-\nWrong sentence: โรงพยาบาโลารโต\nCorrected sentence: โรงพยาบาลธารโต\n\nGround Truth: \tโรงพยาบาลธารโต\n\n-\nWrong sentence: โรงยาบาบสมเด็จพระสังฆราช(นครหลวง)\nCorrected sentence: โรงพยาบาลสมเด็จพระสังฆราช(นครหลวง)\n\nGround Truth: \tโรงพยาบาลสมเด็จพระสังฆราช(นครหลวง)\n\n-\nWrong sentence: โรงพยขบาลสงขลา\nCorrected sentence: โรงพยาบาลสงขลา\n\nGround Truth: \tโรงพยาบาลสงขลา\n\n-\nWrong sentence: โรูงพยาบาลธัญญรักษแมึ่ฮ่องสอน\nCorrected sentence: โรงพยาบาลธัญญรักษ์แม่ฮ่องสอน\n\nGround Truth: \tโรงพยาบาลธัญญรักษ์แม่ฮ่องสอน\n\n-\nWrong sentence: โรงพยาบาลศรีเทพ\nCorrected sentence: โรงพยาบาลศรีเทพ\n\nGround Truth: \tโรงพยาบาลศรีเทพ\n\n-\nWrong sentence: โรงพยาบาลสวอรรค์ปฐระชาฟักษ์\nCorrected sentence: โรงพยาบาลสวรรค์ประชารักษ์\n\nGround Truth: \tโรงพยาบาลสวรรค์ประชารักษ์\n\n-\nWrong sentence: โรงพยาบาลหัษวเฉ)ยว\nCorrected sentence: โรงพยาบาลหัวเฉียว\n\nGround Truth: \tโรงพยาบาลหัวเฉียว\n\n-\nWrong sentence: โรงพยาบาลรฃวมแพทย์นครวรรค์\nCorrected sentence: โรงพยาบาลรวมแพทย์นครสวรรค์\n\nGround Truth: \tโรงพยาบาลรวมแพทย์นครสวรรค์\n\n-\nWrong sentence: โรงพยาบฏลท่าลี่\nCorrected sentence: โรงพยาบาลท่าลี่\n\nGround Truth: \tโรงพยาบาลท่าลี่\n\n-\nWrong sentence: สถานพาบาล้นราการแพทย์\nCorrected sentence: สถานพยาบาลนราการแพทย์\n\nGround Truth: \tสถานพยาบาลนราการแพทย์\n\n-\nWrong sentence: โรงพยาบาลวิภาราม\nCorrected sentence: โรงพยาบาลวิภาราม\n\nGround Truth: \tโรงพยาบาลวิภาราม\n\n-\nWrong sentence: โรงฤพยาบาลโนนสัง\nCorrected sentence: โรงพยาบาลโนนสัง\n\nGround Truth: \tโรงพยาบาลโนนสัง\n\n-\nWrong sentence: โรงพย)าบาลวชิฺร็ารมี\nCorrected sentence: โรงพยาบาลวชิรบารมี\n\nGround Truth: \tโรงพยาบาลวชิรบารมี\n\n-\nWrong sentence: โรงพยาบาวชิรมภูเก็ต\nCorrected sentence: โรงพยาบาลวชิระภูเก็ต\n\nGround Truth: \tโรงพยาบาลวชิระภูเก็ต\n\n-\nWrong sentence: โรงพพยาบาลปะนาเระ\nCorrected sentence: โรงพยาบาลปะนาเระ\n\nGround Truth: \tโรงพยาบาลปะนาเระ\n\n-\nWrong sentence: โรงพย4บาลุุดชุม\nCorrected sentence: โรงพยาบาลกุดชุม\n\nGround Truth: \tโรงพยาบาลกุดชุม\n\n-\nWrong sentence: โรงพยาบาลคง\nCorrected sentence: โรงพยาบาลคง\n\nGround Truth: \tโรงพยาบาลคง\n\n-\nWrong sentence: โรงพยาบฯลนาทม\nCorrected sentence: โรงพยาบาลนาทม\n\nGround Truth: \tโรงพยาบาลนาทม\n\n-\nWrong sentence: โรงพยาบาลสำโรงทาบ\nCorrected sentence: โรงพยาบาลสำโรงทาบ\n\nGround Truth: \tโรงพยาบาลสำโรงทาบ\n\n-\nWrong sentence: สถานพยฬาบาลเวชกรรม6พาเลซ\nCorrected sentence: สถานพยาบาลเวชกรรมพาเลซ\n\nGround Truth: \tสถานพยาบาลเวชกรรมพาเลซ\n\n-\nWrong sentence: เซ็นทรษัลเมดิกคิิเวชกรรมสาขาปากเกร็ด\nCorrected sentence: เซ็นทรัลเมดิกคลินิกเวชกรรมสาขาปากเกร็ด\n\nGround Truth: \tเซ็นทรัลเมดิกคลินิกเวชกรรมสาขาปากเกร็ด\n\n-\nWrong sentence: โรงพยาบาลแม่สอด\nCorrected sentence: โรงพยาบาลแม่สอด\n\nGround Truth: \tโรงพยาบาลแม่สอด\n\n-\nWrong sentence: โรงพยาบาลโพนทฐอง\nCorrected sentence: โรงพยาบาลโพนทอง\n\nGround Truth: \tโรงพยาบาลโพนทอง\n\n-\nWrong sentence: โรงยาบาลบ้านบึฤง\nCorrected sentence: โรงพยาบาลบ้านบึง\n\nGround Truth: \tโรงพยาบาลบ้านบึง\n\n-\nWrong sentence: โรงพยาบาลทองผาภูมิ\nCorrected sentence: โรงพยาบาลทองผาภูมิ\n\nGround Truth: \tโรงพยาบาลทองผาภูมิ\n\n-\nWrong sentence: โรงพยาบาลพนัสนิคม\nCorrected sentence: โรงพยาบาลพนัสนิคม\n\nGround Truth: \tโรงพยาบาลพนัสนิคม\n\n-\nWrong sentence: โรงพกาบาลกันตั3\nCorrected sentence: โรงพยาบาลกันตัง\n\nGround Truth: \tโรงพยาบาลกันตัง\n\n-\nWrong sentence: โรงพยาบาลเ๎ียงแสน\nCorrected sentence: โรงพยาบาลเชียงแสน\n\nGround Truth: \tโรงพยาบาลเชียงแสน\n\n-\nWrong sentence: โรงพยาบาลศรีประจันต์\nCorrected sentence: โรงพยาบาลศรีประจันต์\n\nGround Truth: \tโรงพยาบาลศรีประจันต์\n\n-\nWrong sentence: โรงพยาบาลทพปัญญา\nCorrected sentence: โรงพยาบาลเทพปัญญา\n\nGround Truth: \tโรงพยาบาลเทพปัญญา\n\n-\nWrong sentence: โรงพยาบาลไพศาลี\nCorrected sentence: โรงพยาบาลไพศาลี\n\nGround Truth: \tโรงพยาบาลไพศาลี\n\n-\nWrong sentence: โรญงพฝาบาลโนนดินแดง\nCorrected sentence: โรงพยาบาลโนนดินแดง\n\nGround Truth: \tโรงพยาบาลโนนดินแดง\n\n-\nWrong sentence: โรงพยาบาลโพธาิราม\nCorrected sentence: โรงพยาบาลโพธาราม\n\nGround Truth: \tโรงพยาบาลโพธาราม\n\n-\nWrong sentence: โรงพยาบา5ชำน&ิ\nCorrected sentence: โรงพยาบาลชำนิ\n\nGround Truth: \tโรงพยาบาลชำนิ\n\n-\nWrong sentence: โรงฺพยาบาลสุขุมวิท\nCorrected sentence: โรงพยาบาลสุขุมวิท\n\nGround Truth: \tโรงพยาบาลสุขุมวิท\n\n-\nWrong sentence: โรงยาบาษลสากเหล็ก\nCorrected sentence: โรงพยาบาลสากเหล็ก\n\nGround Truth: \tโรงพยาบาลสากเหล็ก\n\n-\nWrong sentence: โรงพยาบาลยางชุมน้อย\nCorrected sentence: โรงพยาบาลยางชุมน้อย\n\nGround Truth: \tโรงพยาบาลยางชุมน้อย\n\n-\nWrong sentence: โรงพยาบาลปากท่อ\nCorrected sentence: โรงพยาบาลปากท่อ\n\nGround Truth: \tโรงพยาบาลปากท่อ\n\n-\nWrong sentence: โรงพยาบลเทพรัตนเวชชานุกูล\nCorrected sentence: โรงพยาบาลเทพรัตนเวชชานุกูล\n\nGround Truth: \tโรงพยาบาลเทพรัตนเวชชานุกูล\n\n-\nWrong sentence: โรงพยใาบาลสายไหม\nCorrected sentence: โรงพยาบาลสายไหม\n\nGround Truth: \tโรงพยาบาลสายไหม\n\n-\nWrong sentence: โรงพยาบาฃลปากนฟำหลังสพน\nCorrected sentence: โรงพยาบาลปากน้ำหลังสวน\n\nGround Truth: \tโรงพยาบาลปากน้ำหลังสวน\n\n-\nWrong sentence: โรงพยาบาฝมะนัง\nCorrected sentence: โรงพยาบาลมะนัง\n\nGround Truth: \tโรงพยาบาลมะนัง\n\n-\nWrong sentence: โรงพยาบาลบึงนาราง\nCorrected sentence: โรงพยาบาลบึงนาราง\n\nGround Truth: \tโรงพยาบาลบึงนาราง\n\n-\nWrong sentence: โรงพวยาบาลพ่อท่านคล้ายวาจาสิทิ์\nCorrected sentence: โรงพยาบาลพ่อท่านคล้ายวาจาสิทธิ์\n\nGround Truth: \tโรงพยาบาลพ่อท่านคล้ายวาจาสิทธิ์\n\n-\nWrong sentence: โรงพยาบาลม่วงสามสิบ\nCorrected sentence: โรงพยาบาลม่วงสามสิบ\n\nGround Truth: \tโรงพยาบาลม่วงสามสิบ\n\n-\nWrong sentence: โรงพยาบาลหนองจก\nCorrected sentence: โรงพยาบาลหนองจิก\n\nGround Truth: \tโรงพยาบาลหนองจิก\n\n-\nWrong sentence: โรงึพ่ยาบาลสุวรรณคูหา\nCorrected sentence: โรงพยาบาลสุวรรณคูหา\n\nGround Truth: \tโรงพยาบาลสุวรรณคูหา\n\n-\nWrong sentence: โรพยาบาลกรุงเทพไชน่าทาวน์\nCorrected sentence: โรงพยาบาลกรุงเทพไชน่าทาวน์\n\nGround Truth: \tโรงพยาบาลกรุงเทพไชน่าทาวน์\n\n-\nWrong sentence: โรงพฺาบาลกะพ้อ\nCorrected sentence: โรงพยาบาลกะพ้อ\n\nGround Truth: \tโรงพยาบาลกะพ้อ\n\n-\nWrong sentence: โรงพยาบาลนาเชือก\nCorrected sentence: โรงพยาบาลนาเชือก\n\nGround Truth: \tโรงพยาบาลนาเชือก\n\n-\nWrong sentence: โรงพยาบาลชะอด\nCorrected sentence: โรงพยาบาลชะอวด\n\nGround Truth: \tโรงพยาบาลชะอวด\n\n-\nWrong sentence: โรงพฌ๊บาลสมติเวชศร\"ีนครินทร์\nCorrected sentence: โรงพยาบาลสมิติเวชศรีนครินทร์\n\nGround Truth: \tโรงพยาบาลสมิติเวชศรีนครินทร์\n\n-\nWrong sentence: โรง่ยาบาลนครปฐม\nCorrected sentence: โรงพยาบาลนครปฐม\n\nGround Truth: \tโรงพยาบาลนครปฐม\n\n-\nWrong sentence: สถานพยาบาลเวียงเวช\nCorrected sentence: สถานพยาบาลเวียงเวช\n\nGround Truth: \tสถานพยาบาลเวียงเวช\n\n-\nWrong sentence: โร7พยิาบากลอุบลรัษ์ธนบุรี\nCorrected sentence: โรงพยาบาลอุบลรักษ์ธนบุรี\n\nGround Truth: \tโรงพยาบาลอุบลรักษ์ธนบุรี\n\n-\nWrong sentence: โรงพยาบชาลเวียงแหง\nCorrected sentence: โรงพยาบาลเวียงแหง\n\nGround Truth: \tโรงพยาบาลเวียงแหง\n\n-\nWrong sentence: โรงพยาบาลมโนรมย์\nCorrected sentence: โรงพยาบาลมโนรมย์\n\nGround Truth: \tโรงพยาบาลมโนรมย์\n\n-\nWrong sentence: โรงอยฺาบาลนครนายก\nCorrected sentence: โรงพยาบาลนครนายก\n\nGround Truth: \tโรงพยาบาลนครนายก\n\n-\nWrong sentence: โรงพำยาบาลสมเด็จพระสังฆราชองคข์ที่\nCorrected sentence: โรงพยาบาลสมเด็จพระสังฆราชองค์ที่\n\nGround Truth: \tโรงพยาบาลสมเด็จพระสังฆราชองค์ที่\n\n-\nWrong sentence: คลินิกเวชกรรฒจุฬารัตน์4\nCorrected sentence: คลินิกเวชกรรมจุฬารัตน์4\n\nGround Truth: \tคลินิกเวชกรรมจุฬารัตน์4\n\n-\nWrong sentence: โรงพราบตลบางปกง\nCorrected sentence: โรงพยาบาลบางปะกง\n\nGround Truth: \tโรงพยาบาลบางปะกง\n\n-\nWrong sentence: โรงาบ๊าเซ็นทรัลเชียงใหม่เมโมเรียล\nCorrected sentence: โรงพยาบาลเซ็นทรัลเชียงใหม่เมโมเรียล\n\nGround Truth: \tโรงพยาบาลเซ็นทรัลเชียงใหม่เมโมเรียล\n\n-\nWrong sentence: โรงพยาบาลสองแคว\nCorrected sentence: โรงพยาบาลสองแคว\n\nGround Truth: \tโรงพยาบาลสองแคว\n\n-\nWrong sentence: โร/งพยาบาลสมฝต)เวชธนบุรี\nCorrected sentence: โรงพยาบาลสมิติเวชธนบุรี\n\nGround Truth: \tโรงพยาบาลสมิติเวชธนบุรี\n\n-\nWrong sentence: โรงพ.ยาบาลเชียง่วน\nCorrected sentence: โรงพยาบาลเชียงม่วน\n\nGround Truth: \tโรงพยาบาลเชียงม่วน\n\n-\nWrong sentence: โรงพยาบาลอ่างทอง\nCorrected sentence: โรงพยาบาลอ่างทอง\n\nGround Truth: \tโรงพยาบาลอ่างทอง\n\n-\nWrong sentence: โรงพยาบาลพรหมพิฝฌราฦ\nCorrected sentence: โรงพยาบาลพรหมพิราม\n\nGround Truth: \tโรงพยาบาลพรหมพิราม\n\n-\nWrong sentence: โรงพยาบาลภาชี\nCorrected sentence: โรงพยาบาลภาชี\n\nGround Truth: \tโรงพยาบาลภาชี\n\n-\nWrong sentence: โรงพยาาลป่าตอง\nCorrected sentence: โรงพยาบาลป่าตอง\n\nGround Truth: \tโรงพยาบาลป่าตอง\n\n-\nWrong sentence: โรรพยาบาลกฆาฬสินธุ์\nCorrected sentence: โรงพยาบาลกาฬสินธุ์\n\nGround Truth: \tโรงพยาบาลกาฬสินธุ์\n\n-\nWrong sentence: โรงพยฟาบ\"ลแหลมงอบ\nCorrected sentence: โรงพยาบาลแหลมงอบ\n\nGround Truth: \tโรงพยาบาลแหลมงอบ\n\n-\nWrong sentence: โรงพยาบาลว๎นผึ้ง\nCorrected sentence: โรงพยาบาลสวนผึ้ง\n\nGround Truth: \tโรงพยาบาลสวนผึ้ง\n\n-\nWrong sentence: โรงพยาบาลระนอง\nCorrected sentence: โรงพยาบาลระนอง\n\nGround Truth: \tโรงพยาบาลระนอง\n\n-\nWrong sentence: เทเลแคร์คลินิกสุขาภิบาล3\nCorrected sentence: เทเลแคร์คลินิกสุขาภิบาล3\n\nGround Truth: \tเทเลแคร์คลินิกสุขาภิบาล3\n\n-\nWrong sentence: โรงพยหบาลเกาะลันตา\nCorrected sentence: โรงพยาบาลเกาะลันตา\n\nGround Truth: \tโรงพยาบาลเกาะลันตา\n\n-\nWrong sentence: โรงพยาบาลเพารักษ์\nCorrected sentence: โรงพยาบาลเทพารักษ์\n\nGround Truth: \tโรงพยาบาลเทพารักษ์\n\n-\nWrong sentence: โรงพยาบาลรวมแพทย์หนองคาย\nCorrected sentence: โรงพยาบาลรวมแพทย์หนองคาย\n\nGround Truth: \tโรงพยาบาลรวมแพทย์หนองคาย\n\n-\nWrong sentence: คลินิกเวชกรรมสมิติเวชแหลมฉบัง\nCorrected sentence: คลินิกเวชกรรมสมิติเวชแหลมฉบัง\n\nGround Truth: \tคลินิกเวชกรรมสมิติเวชแหลมฉบัง\n\n-\nWrong sentence: คลนิกกัุงเทพระยองณาาบ้านฉาง\nCorrected sentence: คลินิกกรุงเทพระยองสาขาบ้านฉาง\n\nGround Truth: \tคลินิกกรุงเทพระยองสาขาบ้านฉาง\n\n-\nWrong sentence: โรงพยาบากุมภวา1ี\nCorrected sentence: โรงพยาบาลกุมภวาปี\n\nGround Truth: \tโรงพยาบาลกุมภวาปี\n\n-\nWrong sentence: โรงพยาบาลสมเด็จพระยุพราชนครไทย\nCorrected sentence: โรงพยาบาลสมเด็จพระยุพราชนครไทย\n\nGround Truth: \tโรงพยาบาลสมเด็จพระยุพราชนครไทย\n\n-\nWrong sentence: โรงษยาาลบ้าโนาเดิม\nCorrected sentence: โรงพยาบาลบ้านนาเดิม\n\nGround Truth: \tโรงพยาบาลบ้านนาเดิม\n\n-\nWrong sentence: โรงพิยาบาลปทมรัตต์\nCorrected sentence: โรงพยาบาลปทุมรัตต์\n\nGround Truth: \tโรงพยาบาลปทุมรัตต์\n\n-\nWrong sentence: โรงไพยาบาลศีขภูมิ\nCorrected sentence: โรงพยาบาลศีขรภูมิ\n\nGround Truth: \tโรงพยาบาลศีขรภูมิ\n\n-\nWrong sentence: โรงพยาโลเอกชล2\nCorrected sentence: โรงพยาบาลเอกชล2\n\nGround Truth: \tโรงพยาบาลเอกชล2\n\n-\nWrong sentence: โรงพาบาลเขลางคอนครราม\nCorrected sentence: โรงพยาบาลเขลางค์นครราม\n\nGround Truth: \tโรงพยาบาลเขลางค์นครราม\n\n-\nWrong sentence: โรงพ.ยาบาลโน9ไทย\nCorrected sentence: โรงพยาบาลโนนไทย\n\nGround Truth: \tโรงพยาบาลโนนไทย\n\n-\nWrong sentence: โร็งพยาบาลโนท.าย\nCorrected sentence: โรงพยาบาลโพนทราย\n\nGround Truth: \tโรงพยาบาลโพนทราย\n\n-\nWrong sentence: โรงพยาบาลทอู่ทอง\nCorrected sentence: โรงพยาบาลอู่ทอง\n\nGround Truth: \tโรงพยาบาลอู่ทอง\n\n"
    }
   ],
   "source": [
    "for seq_index in range(100):\n",
    "    input_seq = encoder_input_data[seq_index: seq_index + 1]\n",
    "    decoded_sentence = decode_sequence(input_seq)\n",
    "    print('-')\n",
    "    print('Wrong sentence:', input_texts[seq_index])\n",
    "    print('Corrected sentence:', decoded_sentence)\n",
    "    print('Ground Truth:',target_texts[seq_index])"
   ]
  },
  {
   "cell_type": "code",
   "execution_count": 93,
   "metadata": {},
   "outputs": [
    {
     "output_type": "execute_result",
     "data": {
      "text/plain": "numpy.ndarray"
     },
     "metadata": {},
     "execution_count": 93
    }
   ],
   "source": [
    "type(encoder_input_data)"
   ]
  },
  {
   "cell_type": "code",
   "execution_count": 97,
   "metadata": {},
   "outputs": [
    {
     "output_type": "stream",
     "name": "stdout",
     "text": "(194, 52, 90)\n"
    }
   ],
   "source": [
    "print(encoder_input_data.shape)"
   ]
  },
  {
   "cell_type": "code",
   "execution_count": 98,
   "metadata": {},
   "outputs": [
    {
     "output_type": "stream",
     "name": "stdout",
     "text": "(None, 512)\n"
    }
   ],
   "source": [
    "print(encoder_outputs.shape)"
   ]
  },
  {
   "cell_type": "code",
   "execution_count": 99,
   "metadata": {},
   "outputs": [
    {
     "output_type": "stream",
     "name": "stdout",
     "text": "(None, None, 92)\n"
    }
   ],
   "source": [
    "print(decoder_outputs.shape)"
   ]
  },
  {
   "cell_type": "code",
   "execution_count": null,
   "metadata": {},
   "outputs": [],
   "source": []
  }
 ],
 "metadata": {
  "language_info": {
   "codemirror_mode": {
    "name": "ipython",
    "version": 3
   },
   "file_extension": ".py",
   "mimetype": "text/x-python",
   "name": "python",
   "nbconvert_exporter": "python",
   "pygments_lexer": "ipython3",
   "version": "3.7.7-final"
  },
  "orig_nbformat": 2,
  "kernelspec": {
   "name": "python3",
   "display_name": "Python 3"
  }
 },
 "nbformat": 4,
 "nbformat_minor": 2
}